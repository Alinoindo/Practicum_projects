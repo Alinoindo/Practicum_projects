{
 "cells": [
  {
   "cell_type": "markdown",
   "id": "b3f90196",
   "metadata": {},
   "source": [
    "<div class=\"alert alert-success\">\n",
    "<font size=\"5\"><b>Комментарий ревьюера 2</b></font>\n",
    "\n",
    "Привет. Теперь все сделано отлично. Выводы расписаны классно. Да, выводы можно сделать подобным образом. Даже можно несколько сократить каждый пункт, оставвить только самые важные итоги, сделать более лаконичным.\n",
    "    \n",
    "Ты проделала классную работу, молодец. Поздравляю с ее завершением. Надеюсь, проект был интересен и поставлен. Продолжай в том же духе. Успехов в дальнейшем пути :)\n",
    "</div>"
   ]
  },
  {
   "cell_type": "markdown",
   "id": "489dc185",
   "metadata": {},
   "source": [
    "<div class=\"alert alert-info\">\n",
    "<font size=\"5\"><b>Комментарий ревьюера</b></font>\n",
    "\n",
    "Привет, Алина! Спасибо, что прислала задание:) Меня зовут Слепцов Артем и я буду проверять твой проект) Ты проделала большую работу над проектом. Он выполнен уже на достойном уровне. Однако есть моменты, которые еще можно улучшить. Будет здорово, если ты, надеюсь, не против, если я буду на ты, будешь отвечать на комментарии и участвовать в диалоге. Если обращение на ты неприемлемо, то прошу сообщить. \n",
    "\n",
    "Мои комментарии обозначены пометкой **Комментарий ревьюера**. Далее в файле ты сможешь найти их в похожих ячейках:\n",
    "    \n",
    "<div class=\"alert alert-success\">Успех: Если фон комментария зелёный - всё сделано правильно. Рекомендации укажу таким же цветом;</div>\n",
    "        \n",
    "<div class=\"alert alert-warning\">Совет: Оранжевый - некритичные замечания;</div>\n",
    "        \n",
    "<div class=\"alert alert-danger\">Ошибка: Красный - нужно переделать. </div>\n",
    "        \n",
    "Не удаляй эти комментарии и постарайся учесть их в ходе выполнения данного проекта. Свои же комментарии ты можешь обозначать любым заметным способом. \n",
    "\n",
    "</div>"
   ]
  },
  {
   "cell_type": "markdown",
   "id": "386f2ae7",
   "metadata": {
    "deletable": false,
    "editable": false,
    "id": "386f2ae7"
   },
   "source": [
    "# Исследование надежности заемщиков\n"
   ]
  },
  {
   "cell_type": "markdown",
   "id": "ffe86f65",
   "metadata": {
    "deletable": false,
    "editable": false,
    "id": "ffe86f65"
   },
   "source": [
    "Во второй части проекта вы выполните шаги 3 и 4. Их вручную проверит ревьюер.\n",
    "Чтобы вам не пришлось писать код заново для шагов 1 и 2, мы добавили авторские решения в ячейки с кодом. \n",
    "\n"
   ]
  },
  {
   "cell_type": "markdown",
   "id": "26613308",
   "metadata": {
    "deletable": false,
    "editable": false,
    "id": "26613308"
   },
   "source": [
    "## Откройте таблицу и изучите общую информацию о данных"
   ]
  },
  {
   "cell_type": "markdown",
   "id": "3c9f838e",
   "metadata": {
    "deletable": false,
    "editable": false,
    "id": "3c9f838e"
   },
   "source": [
    "**Задание 1. Импортируйте библиотеку pandas. Считайте данные из csv-файла в датафрейм и сохраните в переменную `data`. Путь к файлу:**\n",
    "\n",
    "`/datasets/data.csv`"
   ]
  },
  {
   "cell_type": "code",
   "execution_count": 1,
   "id": "77a68a90",
   "metadata": {
    "deletable": false,
    "id": "77a68a90"
   },
   "outputs": [],
   "source": [
    "import pandas as pd\n",
    "\n",
    "try:\n",
    "    data = pd.read_csv('/datasets/data.csv')\n",
    "except:\n",
    "    data = pd.read_csv('https://code.s3.yandex.net/datasets/data.csv')"
   ]
  },
  {
   "cell_type": "markdown",
   "id": "45365635",
   "metadata": {
    "deletable": false,
    "editable": false,
    "id": "45365635"
   },
   "source": [
    "**Задание 2. Выведите первые 20 строчек датафрейма `data` на экран.**"
   ]
  },
  {
   "cell_type": "code",
   "execution_count": 2,
   "id": "b0451a9a",
   "metadata": {
    "deletable": false,
    "id": "b0451a9a",
    "outputId": "1a8f3ef2-d323-4ec2-ddf7-89670b5944c4"
   },
   "outputs": [
    {
     "data": {
      "text/html": [
       "<div>\n",
       "<style scoped>\n",
       "    .dataframe tbody tr th:only-of-type {\n",
       "        vertical-align: middle;\n",
       "    }\n",
       "\n",
       "    .dataframe tbody tr th {\n",
       "        vertical-align: top;\n",
       "    }\n",
       "\n",
       "    .dataframe thead th {\n",
       "        text-align: right;\n",
       "    }\n",
       "</style>\n",
       "<table border=\"1\" class=\"dataframe\">\n",
       "  <thead>\n",
       "    <tr style=\"text-align: right;\">\n",
       "      <th></th>\n",
       "      <th>children</th>\n",
       "      <th>days_employed</th>\n",
       "      <th>dob_years</th>\n",
       "      <th>education</th>\n",
       "      <th>education_id</th>\n",
       "      <th>family_status</th>\n",
       "      <th>family_status_id</th>\n",
       "      <th>gender</th>\n",
       "      <th>income_type</th>\n",
       "      <th>debt</th>\n",
       "      <th>total_income</th>\n",
       "      <th>purpose</th>\n",
       "    </tr>\n",
       "  </thead>\n",
       "  <tbody>\n",
       "    <tr>\n",
       "      <th>0</th>\n",
       "      <td>1</td>\n",
       "      <td>-8437.673028</td>\n",
       "      <td>42</td>\n",
       "      <td>высшее</td>\n",
       "      <td>0</td>\n",
       "      <td>женат / замужем</td>\n",
       "      <td>0</td>\n",
       "      <td>F</td>\n",
       "      <td>сотрудник</td>\n",
       "      <td>0</td>\n",
       "      <td>253875.639453</td>\n",
       "      <td>покупка жилья</td>\n",
       "    </tr>\n",
       "    <tr>\n",
       "      <th>1</th>\n",
       "      <td>1</td>\n",
       "      <td>-4024.803754</td>\n",
       "      <td>36</td>\n",
       "      <td>среднее</td>\n",
       "      <td>1</td>\n",
       "      <td>женат / замужем</td>\n",
       "      <td>0</td>\n",
       "      <td>F</td>\n",
       "      <td>сотрудник</td>\n",
       "      <td>0</td>\n",
       "      <td>112080.014102</td>\n",
       "      <td>приобретение автомобиля</td>\n",
       "    </tr>\n",
       "    <tr>\n",
       "      <th>2</th>\n",
       "      <td>0</td>\n",
       "      <td>-5623.422610</td>\n",
       "      <td>33</td>\n",
       "      <td>Среднее</td>\n",
       "      <td>1</td>\n",
       "      <td>женат / замужем</td>\n",
       "      <td>0</td>\n",
       "      <td>M</td>\n",
       "      <td>сотрудник</td>\n",
       "      <td>0</td>\n",
       "      <td>145885.952297</td>\n",
       "      <td>покупка жилья</td>\n",
       "    </tr>\n",
       "    <tr>\n",
       "      <th>3</th>\n",
       "      <td>3</td>\n",
       "      <td>-4124.747207</td>\n",
       "      <td>32</td>\n",
       "      <td>среднее</td>\n",
       "      <td>1</td>\n",
       "      <td>женат / замужем</td>\n",
       "      <td>0</td>\n",
       "      <td>M</td>\n",
       "      <td>сотрудник</td>\n",
       "      <td>0</td>\n",
       "      <td>267628.550329</td>\n",
       "      <td>дополнительное образование</td>\n",
       "    </tr>\n",
       "    <tr>\n",
       "      <th>4</th>\n",
       "      <td>0</td>\n",
       "      <td>340266.072047</td>\n",
       "      <td>53</td>\n",
       "      <td>среднее</td>\n",
       "      <td>1</td>\n",
       "      <td>гражданский брак</td>\n",
       "      <td>1</td>\n",
       "      <td>F</td>\n",
       "      <td>пенсионер</td>\n",
       "      <td>0</td>\n",
       "      <td>158616.077870</td>\n",
       "      <td>сыграть свадьбу</td>\n",
       "    </tr>\n",
       "    <tr>\n",
       "      <th>5</th>\n",
       "      <td>0</td>\n",
       "      <td>-926.185831</td>\n",
       "      <td>27</td>\n",
       "      <td>высшее</td>\n",
       "      <td>0</td>\n",
       "      <td>гражданский брак</td>\n",
       "      <td>1</td>\n",
       "      <td>M</td>\n",
       "      <td>компаньон</td>\n",
       "      <td>0</td>\n",
       "      <td>255763.565419</td>\n",
       "      <td>покупка жилья</td>\n",
       "    </tr>\n",
       "    <tr>\n",
       "      <th>6</th>\n",
       "      <td>0</td>\n",
       "      <td>-2879.202052</td>\n",
       "      <td>43</td>\n",
       "      <td>высшее</td>\n",
       "      <td>0</td>\n",
       "      <td>женат / замужем</td>\n",
       "      <td>0</td>\n",
       "      <td>F</td>\n",
       "      <td>компаньон</td>\n",
       "      <td>0</td>\n",
       "      <td>240525.971920</td>\n",
       "      <td>операции с жильем</td>\n",
       "    </tr>\n",
       "    <tr>\n",
       "      <th>7</th>\n",
       "      <td>0</td>\n",
       "      <td>-152.779569</td>\n",
       "      <td>50</td>\n",
       "      <td>СРЕДНЕЕ</td>\n",
       "      <td>1</td>\n",
       "      <td>женат / замужем</td>\n",
       "      <td>0</td>\n",
       "      <td>M</td>\n",
       "      <td>сотрудник</td>\n",
       "      <td>0</td>\n",
       "      <td>135823.934197</td>\n",
       "      <td>образование</td>\n",
       "    </tr>\n",
       "    <tr>\n",
       "      <th>8</th>\n",
       "      <td>2</td>\n",
       "      <td>-6929.865299</td>\n",
       "      <td>35</td>\n",
       "      <td>ВЫСШЕЕ</td>\n",
       "      <td>0</td>\n",
       "      <td>гражданский брак</td>\n",
       "      <td>1</td>\n",
       "      <td>F</td>\n",
       "      <td>сотрудник</td>\n",
       "      <td>0</td>\n",
       "      <td>95856.832424</td>\n",
       "      <td>на проведение свадьбы</td>\n",
       "    </tr>\n",
       "    <tr>\n",
       "      <th>9</th>\n",
       "      <td>0</td>\n",
       "      <td>-2188.756445</td>\n",
       "      <td>41</td>\n",
       "      <td>среднее</td>\n",
       "      <td>1</td>\n",
       "      <td>женат / замужем</td>\n",
       "      <td>0</td>\n",
       "      <td>M</td>\n",
       "      <td>сотрудник</td>\n",
       "      <td>0</td>\n",
       "      <td>144425.938277</td>\n",
       "      <td>покупка жилья для семьи</td>\n",
       "    </tr>\n",
       "    <tr>\n",
       "      <th>10</th>\n",
       "      <td>2</td>\n",
       "      <td>-4171.483647</td>\n",
       "      <td>36</td>\n",
       "      <td>высшее</td>\n",
       "      <td>0</td>\n",
       "      <td>женат / замужем</td>\n",
       "      <td>0</td>\n",
       "      <td>M</td>\n",
       "      <td>компаньон</td>\n",
       "      <td>0</td>\n",
       "      <td>113943.491460</td>\n",
       "      <td>покупка недвижимости</td>\n",
       "    </tr>\n",
       "    <tr>\n",
       "      <th>11</th>\n",
       "      <td>0</td>\n",
       "      <td>-792.701887</td>\n",
       "      <td>40</td>\n",
       "      <td>среднее</td>\n",
       "      <td>1</td>\n",
       "      <td>женат / замужем</td>\n",
       "      <td>0</td>\n",
       "      <td>F</td>\n",
       "      <td>сотрудник</td>\n",
       "      <td>0</td>\n",
       "      <td>77069.234271</td>\n",
       "      <td>покупка коммерческой недвижимости</td>\n",
       "    </tr>\n",
       "    <tr>\n",
       "      <th>12</th>\n",
       "      <td>0</td>\n",
       "      <td>NaN</td>\n",
       "      <td>65</td>\n",
       "      <td>среднее</td>\n",
       "      <td>1</td>\n",
       "      <td>гражданский брак</td>\n",
       "      <td>1</td>\n",
       "      <td>M</td>\n",
       "      <td>пенсионер</td>\n",
       "      <td>0</td>\n",
       "      <td>NaN</td>\n",
       "      <td>сыграть свадьбу</td>\n",
       "    </tr>\n",
       "    <tr>\n",
       "      <th>13</th>\n",
       "      <td>0</td>\n",
       "      <td>-1846.641941</td>\n",
       "      <td>54</td>\n",
       "      <td>неоконченное высшее</td>\n",
       "      <td>2</td>\n",
       "      <td>женат / замужем</td>\n",
       "      <td>0</td>\n",
       "      <td>F</td>\n",
       "      <td>сотрудник</td>\n",
       "      <td>0</td>\n",
       "      <td>130458.228857</td>\n",
       "      <td>приобретение автомобиля</td>\n",
       "    </tr>\n",
       "    <tr>\n",
       "      <th>14</th>\n",
       "      <td>0</td>\n",
       "      <td>-1844.956182</td>\n",
       "      <td>56</td>\n",
       "      <td>высшее</td>\n",
       "      <td>0</td>\n",
       "      <td>гражданский брак</td>\n",
       "      <td>1</td>\n",
       "      <td>F</td>\n",
       "      <td>компаньон</td>\n",
       "      <td>1</td>\n",
       "      <td>165127.911772</td>\n",
       "      <td>покупка жилой недвижимости</td>\n",
       "    </tr>\n",
       "    <tr>\n",
       "      <th>15</th>\n",
       "      <td>1</td>\n",
       "      <td>-972.364419</td>\n",
       "      <td>26</td>\n",
       "      <td>среднее</td>\n",
       "      <td>1</td>\n",
       "      <td>женат / замужем</td>\n",
       "      <td>0</td>\n",
       "      <td>F</td>\n",
       "      <td>сотрудник</td>\n",
       "      <td>0</td>\n",
       "      <td>116820.904450</td>\n",
       "      <td>строительство собственной недвижимости</td>\n",
       "    </tr>\n",
       "    <tr>\n",
       "      <th>16</th>\n",
       "      <td>0</td>\n",
       "      <td>-1719.934226</td>\n",
       "      <td>35</td>\n",
       "      <td>среднее</td>\n",
       "      <td>1</td>\n",
       "      <td>женат / замужем</td>\n",
       "      <td>0</td>\n",
       "      <td>F</td>\n",
       "      <td>сотрудник</td>\n",
       "      <td>0</td>\n",
       "      <td>289202.704229</td>\n",
       "      <td>недвижимость</td>\n",
       "    </tr>\n",
       "    <tr>\n",
       "      <th>17</th>\n",
       "      <td>0</td>\n",
       "      <td>-2369.999720</td>\n",
       "      <td>33</td>\n",
       "      <td>высшее</td>\n",
       "      <td>0</td>\n",
       "      <td>гражданский брак</td>\n",
       "      <td>1</td>\n",
       "      <td>M</td>\n",
       "      <td>сотрудник</td>\n",
       "      <td>0</td>\n",
       "      <td>90410.586745</td>\n",
       "      <td>строительство недвижимости</td>\n",
       "    </tr>\n",
       "    <tr>\n",
       "      <th>18</th>\n",
       "      <td>0</td>\n",
       "      <td>400281.136913</td>\n",
       "      <td>53</td>\n",
       "      <td>среднее</td>\n",
       "      <td>1</td>\n",
       "      <td>вдовец / вдова</td>\n",
       "      <td>2</td>\n",
       "      <td>F</td>\n",
       "      <td>пенсионер</td>\n",
       "      <td>0</td>\n",
       "      <td>56823.777243</td>\n",
       "      <td>на покупку подержанного автомобиля</td>\n",
       "    </tr>\n",
       "    <tr>\n",
       "      <th>19</th>\n",
       "      <td>0</td>\n",
       "      <td>-10038.818549</td>\n",
       "      <td>48</td>\n",
       "      <td>СРЕДНЕЕ</td>\n",
       "      <td>1</td>\n",
       "      <td>в разводе</td>\n",
       "      <td>3</td>\n",
       "      <td>F</td>\n",
       "      <td>сотрудник</td>\n",
       "      <td>0</td>\n",
       "      <td>242831.107982</td>\n",
       "      <td>на покупку своего автомобиля</td>\n",
       "    </tr>\n",
       "  </tbody>\n",
       "</table>\n",
       "</div>"
      ],
      "text/plain": [
       "    children  days_employed  dob_years            education  education_id  \\\n",
       "0          1   -8437.673028         42               высшее             0   \n",
       "1          1   -4024.803754         36              среднее             1   \n",
       "2          0   -5623.422610         33              Среднее             1   \n",
       "3          3   -4124.747207         32              среднее             1   \n",
       "4          0  340266.072047         53              среднее             1   \n",
       "5          0    -926.185831         27               высшее             0   \n",
       "6          0   -2879.202052         43               высшее             0   \n",
       "7          0    -152.779569         50              СРЕДНЕЕ             1   \n",
       "8          2   -6929.865299         35               ВЫСШЕЕ             0   \n",
       "9          0   -2188.756445         41              среднее             1   \n",
       "10         2   -4171.483647         36               высшее             0   \n",
       "11         0    -792.701887         40              среднее             1   \n",
       "12         0            NaN         65              среднее             1   \n",
       "13         0   -1846.641941         54  неоконченное высшее             2   \n",
       "14         0   -1844.956182         56               высшее             0   \n",
       "15         1    -972.364419         26              среднее             1   \n",
       "16         0   -1719.934226         35              среднее             1   \n",
       "17         0   -2369.999720         33               высшее             0   \n",
       "18         0  400281.136913         53              среднее             1   \n",
       "19         0  -10038.818549         48              СРЕДНЕЕ             1   \n",
       "\n",
       "       family_status  family_status_id gender income_type  debt  \\\n",
       "0    женат / замужем                 0      F   сотрудник     0   \n",
       "1    женат / замужем                 0      F   сотрудник     0   \n",
       "2    женат / замужем                 0      M   сотрудник     0   \n",
       "3    женат / замужем                 0      M   сотрудник     0   \n",
       "4   гражданский брак                 1      F   пенсионер     0   \n",
       "5   гражданский брак                 1      M   компаньон     0   \n",
       "6    женат / замужем                 0      F   компаньон     0   \n",
       "7    женат / замужем                 0      M   сотрудник     0   \n",
       "8   гражданский брак                 1      F   сотрудник     0   \n",
       "9    женат / замужем                 0      M   сотрудник     0   \n",
       "10   женат / замужем                 0      M   компаньон     0   \n",
       "11   женат / замужем                 0      F   сотрудник     0   \n",
       "12  гражданский брак                 1      M   пенсионер     0   \n",
       "13   женат / замужем                 0      F   сотрудник     0   \n",
       "14  гражданский брак                 1      F   компаньон     1   \n",
       "15   женат / замужем                 0      F   сотрудник     0   \n",
       "16   женат / замужем                 0      F   сотрудник     0   \n",
       "17  гражданский брак                 1      M   сотрудник     0   \n",
       "18    вдовец / вдова                 2      F   пенсионер     0   \n",
       "19         в разводе                 3      F   сотрудник     0   \n",
       "\n",
       "     total_income                                 purpose  \n",
       "0   253875.639453                           покупка жилья  \n",
       "1   112080.014102                 приобретение автомобиля  \n",
       "2   145885.952297                           покупка жилья  \n",
       "3   267628.550329              дополнительное образование  \n",
       "4   158616.077870                         сыграть свадьбу  \n",
       "5   255763.565419                           покупка жилья  \n",
       "6   240525.971920                       операции с жильем  \n",
       "7   135823.934197                             образование  \n",
       "8    95856.832424                   на проведение свадьбы  \n",
       "9   144425.938277                 покупка жилья для семьи  \n",
       "10  113943.491460                    покупка недвижимости  \n",
       "11   77069.234271       покупка коммерческой недвижимости  \n",
       "12            NaN                         сыграть свадьбу  \n",
       "13  130458.228857                 приобретение автомобиля  \n",
       "14  165127.911772              покупка жилой недвижимости  \n",
       "15  116820.904450  строительство собственной недвижимости  \n",
       "16  289202.704229                            недвижимость  \n",
       "17   90410.586745              строительство недвижимости  \n",
       "18   56823.777243      на покупку подержанного автомобиля  \n",
       "19  242831.107982            на покупку своего автомобиля  "
      ]
     },
     "execution_count": 2,
     "metadata": {},
     "output_type": "execute_result"
    }
   ],
   "source": [
    "data.head(20)"
   ]
  },
  {
   "cell_type": "markdown",
   "id": "0ed8f27f",
   "metadata": {
    "deletable": false,
    "editable": false,
    "id": "0ed8f27f"
   },
   "source": [
    "**Задание 3. Выведите основную информацию о датафрейме с помощью метода `info()`.**"
   ]
  },
  {
   "cell_type": "code",
   "execution_count": 3,
   "id": "ab3f863b",
   "metadata": {
    "deletable": false,
    "id": "ab3f863b",
    "outputId": "15376089-8dad-46c9-b520-c05248d43158"
   },
   "outputs": [
    {
     "name": "stdout",
     "output_type": "stream",
     "text": [
      "<class 'pandas.core.frame.DataFrame'>\n",
      "RangeIndex: 21525 entries, 0 to 21524\n",
      "Data columns (total 12 columns):\n",
      " #   Column            Non-Null Count  Dtype  \n",
      "---  ------            --------------  -----  \n",
      " 0   children          21525 non-null  int64  \n",
      " 1   days_employed     19351 non-null  float64\n",
      " 2   dob_years         21525 non-null  int64  \n",
      " 3   education         21525 non-null  object \n",
      " 4   education_id      21525 non-null  int64  \n",
      " 5   family_status     21525 non-null  object \n",
      " 6   family_status_id  21525 non-null  int64  \n",
      " 7   gender            21525 non-null  object \n",
      " 8   income_type       21525 non-null  object \n",
      " 9   debt              21525 non-null  int64  \n",
      " 10  total_income      19351 non-null  float64\n",
      " 11  purpose           21525 non-null  object \n",
      "dtypes: float64(2), int64(5), object(5)\n",
      "memory usage: 2.0+ MB\n"
     ]
    }
   ],
   "source": [
    "data.info()"
   ]
  },
  {
   "cell_type": "markdown",
   "id": "60e3e22d",
   "metadata": {
    "deletable": false,
    "editable": false,
    "id": "60e3e22d"
   },
   "source": [
    "## Предобработка данных"
   ]
  },
  {
   "cell_type": "markdown",
   "id": "03dc170c",
   "metadata": {
    "deletable": false,
    "editable": false,
    "id": "03dc170c"
   },
   "source": [
    "### Удаление пропусков"
   ]
  },
  {
   "cell_type": "markdown",
   "id": "a4f54eef",
   "metadata": {
    "deletable": false,
    "editable": false,
    "id": "a4f54eef"
   },
   "source": [
    "**Задание 4. Выведите количество пропущенных значений для каждого столбца. Используйте комбинацию двух методов.**"
   ]
  },
  {
   "cell_type": "code",
   "execution_count": 4,
   "id": "2dc372b2",
   "metadata": {
    "deletable": false,
    "id": "2dc372b2",
    "outputId": "81f4d817-781c-465c-ed15-91ce4446810d"
   },
   "outputs": [
    {
     "data": {
      "text/plain": [
       "children               0\n",
       "days_employed       2174\n",
       "dob_years              0\n",
       "education              0\n",
       "education_id           0\n",
       "family_status          0\n",
       "family_status_id       0\n",
       "gender                 0\n",
       "income_type            0\n",
       "debt                   0\n",
       "total_income        2174\n",
       "purpose                0\n",
       "dtype: int64"
      ]
     },
     "execution_count": 4,
     "metadata": {},
     "output_type": "execute_result"
    }
   ],
   "source": [
    "data.isna().sum()"
   ]
  },
  {
   "cell_type": "markdown",
   "id": "14f011b1",
   "metadata": {
    "deletable": false,
    "editable": false,
    "id": "14f011b1"
   },
   "source": [
    "**Задание 5. В двух столбцах есть пропущенные значения. Один из них — `days_employed`. Пропуски в этом столбце вы обработаете на следующем этапе. Другой столбец с пропущенными значениями — `total_income` — хранит данные о доходах. На сумму дохода сильнее всего влияет тип занятости, поэтому заполнить пропуски в этом столбце нужно медианным значением по каждому типу из столбца `income_type`. Например, у человека с типом занятости `сотрудник` пропуск в столбце `total_income` должен быть заполнен медианным доходом среди всех записей с тем же типом.**"
   ]
  },
  {
   "cell_type": "code",
   "execution_count": 5,
   "id": "bdabfb6e",
   "metadata": {
    "deletable": false,
    "id": "bdabfb6e"
   },
   "outputs": [],
   "source": [
    "for t in data['income_type'].unique():\n",
    "    data.loc[(data['income_type'] == t) & (data['total_income'].isna()), 'total_income'] = \\\n",
    "    data.loc[(data['income_type'] == t), 'total_income'].median()"
   ]
  },
  {
   "cell_type": "markdown",
   "id": "5be34059",
   "metadata": {
    "deletable": false,
    "editable": false,
    "id": "5be34059"
   },
   "source": [
    "### Обработка аномальных значений"
   ]
  },
  {
   "cell_type": "markdown",
   "id": "a87606cb",
   "metadata": {
    "deletable": false,
    "editable": false,
    "id": "a87606cb"
   },
   "source": [
    "**Задание 6. В данных могут встречаться артефакты (аномалии) — значения, которые не отражают действительность и появились по какой-то ошибке. таким артефактом будет отрицательное количество дней трудового стажа в столбце `days_employed`. Для реальных данных это нормально. Обработайте значения в этом столбце: замените все отрицательные значения положительными с помощью метода `abs()`.**"
   ]
  },
  {
   "cell_type": "code",
   "execution_count": 6,
   "id": "020c46cc",
   "metadata": {
    "deletable": false,
    "id": "020c46cc"
   },
   "outputs": [],
   "source": [
    "data['days_employed'] = data['days_employed'].abs()"
   ]
  },
  {
   "cell_type": "markdown",
   "id": "45538a3a",
   "metadata": {
    "deletable": false,
    "editable": false,
    "id": "45538a3a"
   },
   "source": [
    "**Задание 7. Для каждого типа занятости выведите медианное значение трудового стажа `days_employed` в днях.**"
   ]
  },
  {
   "cell_type": "code",
   "execution_count": 7,
   "id": "cd3e6328",
   "metadata": {
    "deletable": false,
    "id": "cd3e6328",
    "outputId": "801ef80e-522b-4668-f34e-565af7432bcf"
   },
   "outputs": [
    {
     "data": {
      "text/plain": [
       "income_type\n",
       "безработный        366413.652744\n",
       "в декрете            3296.759962\n",
       "госслужащий          2689.368353\n",
       "компаньон            1547.382223\n",
       "пенсионер          365213.306266\n",
       "предприниматель       520.848083\n",
       "сотрудник            1574.202821\n",
       "студент               578.751554\n",
       "Name: days_employed, dtype: float64"
      ]
     },
     "execution_count": 7,
     "metadata": {},
     "output_type": "execute_result"
    }
   ],
   "source": [
    "data.groupby('income_type')['days_employed'].agg('median')"
   ]
  },
  {
   "cell_type": "markdown",
   "id": "90c5f058",
   "metadata": {
    "deletable": false,
    "editable": false,
    "id": "90c5f058"
   },
   "source": [
    "У двух типов (безработные и пенсионеры) получатся аномально большие значения. Исправить такие значения сложно, поэтому оставьте их как есть."
   ]
  },
  {
   "cell_type": "markdown",
   "id": "9652e50d",
   "metadata": {
    "deletable": false,
    "editable": false,
    "id": "9652e50d"
   },
   "source": [
    "**Задание 8. Выведите перечень уникальных значений столбца `children`.**"
   ]
  },
  {
   "cell_type": "code",
   "execution_count": 8,
   "id": "dbb37b8e",
   "metadata": {
    "deletable": false,
    "id": "dbb37b8e",
    "outputId": "6975b15c-7f95-4697-d16d-a0c79b657b03"
   },
   "outputs": [
    {
     "data": {
      "text/plain": [
       "array([ 1,  0,  3,  2, -1,  4, 20,  5])"
      ]
     },
     "execution_count": 8,
     "metadata": {},
     "output_type": "execute_result"
    }
   ],
   "source": [
    "data['children'].unique()"
   ]
  },
  {
   "cell_type": "markdown",
   "id": "2b8b0715",
   "metadata": {
    "deletable": false,
    "editable": false,
    "id": "2b8b0715"
   },
   "source": [
    "**Задание 9. В столбце `children` есть два аномальных значения. Удалите строки, в которых встречаются такие аномальные значения из датафрейма `data`.**"
   ]
  },
  {
   "cell_type": "code",
   "execution_count": 9,
   "id": "20009df8",
   "metadata": {
    "deletable": false,
    "id": "20009df8"
   },
   "outputs": [],
   "source": [
    "data = data[(data['children'] != -1) & (data['children'] != 20)]"
   ]
  },
  {
   "cell_type": "markdown",
   "id": "8c6ac9f1",
   "metadata": {
    "deletable": false,
    "editable": false,
    "id": "8c6ac9f1"
   },
   "source": [
    "**Задание 10. Ещё раз выведите перечень уникальных значений столбца `children`, чтобы убедиться, что артефакты удалены.**"
   ]
  },
  {
   "cell_type": "code",
   "execution_count": 10,
   "id": "07337b81",
   "metadata": {
    "deletable": false,
    "id": "07337b81",
    "outputId": "b2097101-d49d-44d9-901b-32a65c9463d1"
   },
   "outputs": [
    {
     "data": {
      "text/plain": [
       "array([1, 0, 3, 2, 4, 5])"
      ]
     },
     "execution_count": 10,
     "metadata": {},
     "output_type": "execute_result"
    }
   ],
   "source": [
    "data['children'].unique()"
   ]
  },
  {
   "cell_type": "markdown",
   "id": "ee3f52d4",
   "metadata": {
    "deletable": false,
    "editable": false,
    "id": "ee3f52d4"
   },
   "source": [
    "### Удаление пропусков (продолжение)"
   ]
  },
  {
   "cell_type": "markdown",
   "id": "a700b0e4",
   "metadata": {
    "deletable": false,
    "editable": false,
    "id": "a700b0e4"
   },
   "source": [
    "**Задание 11. Заполните пропуски в столбце `days_employed` медианными значениями по каждого типа занятости `income_type`.**"
   ]
  },
  {
   "cell_type": "code",
   "execution_count": 11,
   "id": "61946b83",
   "metadata": {
    "deletable": false,
    "id": "61946b83"
   },
   "outputs": [],
   "source": [
    "for t in data['income_type'].unique():\n",
    "    data.loc[(data['income_type'] == t) & (data['days_employed'].isna()), 'days_employed'] = \\\n",
    "    data.loc[(data['income_type'] == t), 'days_employed'].median()"
   ]
  },
  {
   "cell_type": "markdown",
   "id": "550dcd9b",
   "metadata": {
    "deletable": false,
    "editable": false,
    "id": "550dcd9b"
   },
   "source": [
    "**Задание 12. Убедитесь, что все пропуски заполнены. Проверьте себя и ещё раз выведите количество пропущенных значений для каждого столбца с помощью двух методов.**"
   ]
  },
  {
   "cell_type": "code",
   "execution_count": 12,
   "id": "937c7014",
   "metadata": {
    "deletable": false,
    "id": "937c7014",
    "outputId": "8da1e4e1-358e-4e87-98c9-f261bce0a7b2"
   },
   "outputs": [
    {
     "data": {
      "text/plain": [
       "children            0\n",
       "days_employed       0\n",
       "dob_years           0\n",
       "education           0\n",
       "education_id        0\n",
       "family_status       0\n",
       "family_status_id    0\n",
       "gender              0\n",
       "income_type         0\n",
       "debt                0\n",
       "total_income        0\n",
       "purpose             0\n",
       "dtype: int64"
      ]
     },
     "execution_count": 12,
     "metadata": {},
     "output_type": "execute_result"
    }
   ],
   "source": [
    "data.isna().sum()"
   ]
  },
  {
   "cell_type": "markdown",
   "id": "d522e295",
   "metadata": {
    "deletable": false,
    "editable": false,
    "id": "d522e295"
   },
   "source": [
    "### Изменение типов данных"
   ]
  },
  {
   "cell_type": "markdown",
   "id": "c229c581",
   "metadata": {
    "deletable": false,
    "editable": false,
    "id": "c229c581"
   },
   "source": [
    "**Задание 13. Замените вещественный тип данных в столбце `total_income` на целочисленный с помощью метода `astype()`.**"
   ]
  },
  {
   "cell_type": "code",
   "execution_count": 13,
   "id": "31036462",
   "metadata": {
    "deletable": false,
    "id": "31036462"
   },
   "outputs": [],
   "source": [
    "data['total_income'] = data['total_income'].astype(int)"
   ]
  },
  {
   "cell_type": "markdown",
   "id": "b8e3d1d9",
   "metadata": {
    "deletable": false,
    "editable": false,
    "id": "b8e3d1d9"
   },
   "source": [
    "### Обработка дубликатов"
   ]
  },
  {
   "cell_type": "markdown",
   "id": "9be53c49",
   "metadata": {
    "deletable": false,
    "editable": false,
    "id": "9be53c49"
   },
   "source": [
    "**Задание 14. Обработайте неявные дубликаты в столбце `education`. В этом столбце есть одни и те же значения, но записанные по-разному: с использованием заглавных и строчных букв. Приведите их к нижнему регистру.**"
   ]
  },
  {
   "cell_type": "code",
   "execution_count": 14,
   "id": "d89e73e1",
   "metadata": {
    "deletable": false,
    "id": "d89e73e1"
   },
   "outputs": [],
   "source": [
    "data['education'] = data['education'].str.lower()"
   ]
  },
  {
   "cell_type": "markdown",
   "id": "01d4500e",
   "metadata": {
    "deletable": false,
    "editable": false,
    "id": "01d4500e"
   },
   "source": [
    "**Задание 15. Выведите на экран количество строк-дубликатов в данных. Если такие строки присутствуют, удалите их.**"
   ]
  },
  {
   "cell_type": "code",
   "execution_count": 15,
   "id": "e10efb23",
   "metadata": {
    "deletable": false,
    "id": "e10efb23",
    "outputId": "9684deba-1934-42d1-99e1-cda61740f822"
   },
   "outputs": [
    {
     "data": {
      "text/plain": [
       "71"
      ]
     },
     "execution_count": 15,
     "metadata": {},
     "output_type": "execute_result"
    }
   ],
   "source": [
    "data.duplicated().sum()"
   ]
  },
  {
   "cell_type": "code",
   "execution_count": 16,
   "id": "df853f20",
   "metadata": {
    "deletable": false,
    "id": "df853f20"
   },
   "outputs": [],
   "source": [
    "data = data.drop_duplicates()"
   ]
  },
  {
   "cell_type": "markdown",
   "id": "627be38f",
   "metadata": {
    "deletable": false,
    "editable": false,
    "id": "627be38f"
   },
   "source": [
    "### Категоризация данных"
   ]
  },
  {
   "cell_type": "markdown",
   "id": "4684c3e0",
   "metadata": {
    "deletable": false,
    "editable": false,
    "id": "4684c3e0"
   },
   "source": [
    "**Задание 16. На основании диапазонов, указанных ниже, создайте в датафрейме `data` столбец `total_income_category` с категориями:**\n",
    "\n",
    "- 0–30000 — `'E'`;\n",
    "- 30001–50000 — `'D'`;\n",
    "- 50001–200000 — `'C'`;\n",
    "- 200001–1000000 — `'B'`;\n",
    "- 1000001 и выше — `'A'`.\n",
    "\n",
    "\n",
    "**Например, кредитополучателю с доходом 25000 нужно назначить категорию `'E'`, а клиенту, получающему 235000, — `'B'`. Используйте собственную функцию с именем `categorize_income()` и метод `apply()`.**"
   ]
  },
  {
   "cell_type": "code",
   "execution_count": 17,
   "id": "78965238",
   "metadata": {
    "deletable": false,
    "id": "78965238"
   },
   "outputs": [],
   "source": [
    "def categorize_income(income):\n",
    "    try:\n",
    "        if 0 <= income <= 30000:\n",
    "            return 'E'\n",
    "        elif 30001 <= income <= 50000:\n",
    "            return 'D'\n",
    "        elif 50001 <= income <= 200000:\n",
    "            return 'C'\n",
    "        elif 200001 <= income <= 1000000:\n",
    "            return 'B'\n",
    "        elif income >= 1000001:\n",
    "            return 'A'\n",
    "    except:\n",
    "        pass"
   ]
  },
  {
   "cell_type": "code",
   "execution_count": 18,
   "id": "0980ada1",
   "metadata": {
    "deletable": false,
    "id": "0980ada1"
   },
   "outputs": [],
   "source": [
    "data['total_income_category'] = data['total_income'].apply(categorize_income)"
   ]
  },
  {
   "cell_type": "markdown",
   "id": "9917bba0",
   "metadata": {
    "deletable": false,
    "editable": false,
    "id": "9917bba0"
   },
   "source": [
    "**Задание 17. Выведите на экран перечень уникальных целей взятия кредита из столбца `purpose`.**"
   ]
  },
  {
   "cell_type": "code",
   "execution_count": 19,
   "id": "ee07b65e",
   "metadata": {
    "deletable": false,
    "id": "ee07b65e",
    "outputId": "673c12d9-7d7e-4ae0-9812-c622c89dd244"
   },
   "outputs": [
    {
     "data": {
      "text/plain": [
       "array(['покупка жилья', 'приобретение автомобиля',\n",
       "       'дополнительное образование', 'сыграть свадьбу',\n",
       "       'операции с жильем', 'образование', 'на проведение свадьбы',\n",
       "       'покупка жилья для семьи', 'покупка недвижимости',\n",
       "       'покупка коммерческой недвижимости', 'покупка жилой недвижимости',\n",
       "       'строительство собственной недвижимости', 'недвижимость',\n",
       "       'строительство недвижимости', 'на покупку подержанного автомобиля',\n",
       "       'на покупку своего автомобиля',\n",
       "       'операции с коммерческой недвижимостью',\n",
       "       'строительство жилой недвижимости', 'жилье',\n",
       "       'операции со своей недвижимостью', 'автомобили',\n",
       "       'заняться образованием', 'сделка с подержанным автомобилем',\n",
       "       'получение образования', 'автомобиль', 'свадьба',\n",
       "       'получение дополнительного образования', 'покупка своего жилья',\n",
       "       'операции с недвижимостью', 'получение высшего образования',\n",
       "       'свой автомобиль', 'сделка с автомобилем',\n",
       "       'профильное образование', 'высшее образование',\n",
       "       'покупка жилья для сдачи', 'на покупку автомобиля', 'ремонт жилью',\n",
       "       'заняться высшим образованием'], dtype=object)"
      ]
     },
     "execution_count": 19,
     "metadata": {},
     "output_type": "execute_result"
    }
   ],
   "source": [
    "data['purpose'].unique()"
   ]
  },
  {
   "cell_type": "markdown",
   "id": "52b79d56",
   "metadata": {
    "deletable": false,
    "editable": false,
    "id": "52b79d56"
   },
   "source": [
    "**Задание 18. Создайте функцию, которая на основании данных из столбца `purpose` сформирует новый столбец `purpose_category`, в который войдут следующие категории:**\n",
    "\n",
    "- `'операции с автомобилем'`,\n",
    "- `'операции с недвижимостью'`,\n",
    "- `'проведение свадьбы'`,\n",
    "- `'получение образования'`.\n",
    "\n",
    "**Например, если в столбце `purpose` находится подстрока `'на покупку автомобиля'`, то в столбце `purpose_category` должна появиться строка `'операции с автомобилем'`.**\n",
    "\n",
    "**Используйте собственную функцию с именем `categorize_purpose()` и метод `apply()`. Изучите данные в столбце `purpose` и определите, какие подстроки помогут вам правильно определить категорию.**"
   ]
  },
  {
   "cell_type": "code",
   "execution_count": 20,
   "id": "be41da5d",
   "metadata": {
    "deletable": false,
    "id": "be41da5d"
   },
   "outputs": [],
   "source": [
    "def categorize_purpose(row):\n",
    "    try:\n",
    "        if 'автом' in row:\n",
    "            return 'операции с автомобилем'\n",
    "        elif 'жил' in row or 'недвиж' in row:\n",
    "            return 'операции с недвижимостью'\n",
    "        elif 'свад' in row:\n",
    "            return 'проведение свадьбы'\n",
    "        elif 'образов' in row:\n",
    "            return 'получение образования'\n",
    "    except:\n",
    "        return 'нет категории'"
   ]
  },
  {
   "cell_type": "code",
   "execution_count": 21,
   "id": "94c4a19a",
   "metadata": {
    "deletable": false,
    "id": "94c4a19a"
   },
   "outputs": [],
   "source": [
    "data['purpose_category'] = data['purpose'].apply(categorize_purpose)"
   ]
  },
  {
   "cell_type": "markdown",
   "id": "3d596c34",
   "metadata": {
    "deletable": false,
    "editable": false,
    "id": "3d596c34"
   },
   "source": [
    "### Шаг 3. Исследуйте данные и ответьте на вопросы"
   ]
  },
  {
   "cell_type": "markdown",
   "id": "648db036",
   "metadata": {
    "deletable": false,
    "editable": false,
    "id": "648db036"
   },
   "source": [
    "#### 3.1 Есть ли зависимость между количеством детей и возвратом кредита в срок?"
   ]
  },
  {
   "cell_type": "code",
   "execution_count": 22,
   "id": "7fcff25e",
   "metadata": {
    "deletable": false,
    "id": "7fcff25e"
   },
   "outputs": [
    {
     "data": {
      "text/html": [
       "<div>\n",
       "<style scoped>\n",
       "    .dataframe tbody tr th:only-of-type {\n",
       "        vertical-align: middle;\n",
       "    }\n",
       "\n",
       "    .dataframe tbody tr th {\n",
       "        vertical-align: top;\n",
       "    }\n",
       "\n",
       "    .dataframe thead th {\n",
       "        text-align: right;\n",
       "    }\n",
       "</style>\n",
       "<table border=\"1\" class=\"dataframe\">\n",
       "  <thead>\n",
       "    <tr style=\"text-align: right;\">\n",
       "      <th></th>\n",
       "      <th>count</th>\n",
       "      <th>sum</th>\n",
       "      <th>mean</th>\n",
       "    </tr>\n",
       "    <tr>\n",
       "      <th>children</th>\n",
       "      <th></th>\n",
       "      <th></th>\n",
       "      <th></th>\n",
       "    </tr>\n",
       "  </thead>\n",
       "  <tbody>\n",
       "    <tr>\n",
       "      <th>4</th>\n",
       "      <td>41</td>\n",
       "      <td>4</td>\n",
       "      <td>0.097561</td>\n",
       "    </tr>\n",
       "    <tr>\n",
       "      <th>2</th>\n",
       "      <td>2052</td>\n",
       "      <td>194</td>\n",
       "      <td>0.094542</td>\n",
       "    </tr>\n",
       "    <tr>\n",
       "      <th>1</th>\n",
       "      <td>4808</td>\n",
       "      <td>444</td>\n",
       "      <td>0.092346</td>\n",
       "    </tr>\n",
       "    <tr>\n",
       "      <th>3</th>\n",
       "      <td>330</td>\n",
       "      <td>27</td>\n",
       "      <td>0.081818</td>\n",
       "    </tr>\n",
       "    <tr>\n",
       "      <th>0</th>\n",
       "      <td>14091</td>\n",
       "      <td>1063</td>\n",
       "      <td>0.075438</td>\n",
       "    </tr>\n",
       "    <tr>\n",
       "      <th>5</th>\n",
       "      <td>9</td>\n",
       "      <td>0</td>\n",
       "      <td>0.000000</td>\n",
       "    </tr>\n",
       "  </tbody>\n",
       "</table>\n",
       "</div>"
      ],
      "text/plain": [
       "          count   sum      mean\n",
       "children                       \n",
       "4            41     4  0.097561\n",
       "2          2052   194  0.094542\n",
       "1          4808   444  0.092346\n",
       "3           330    27  0.081818\n",
       "0         14091  1063  0.075438\n",
       "5             9     0  0.000000"
      ]
     },
     "execution_count": 22,
     "metadata": {},
     "output_type": "execute_result"
    }
   ],
   "source": [
    "data.groupby('children')['debt'].agg(['count', 'sum', 'mean']).sort_values(by='mean', ascending=False)"
   ]
  },
  {
   "cell_type": "markdown",
   "id": "2eb9088e",
   "metadata": {
    "deletable": false,
    "id": "2eb9088e"
   },
   "source": [
    "**Вывод:** На основе данных в таблице, мы можем сказать, что количество детей оказывает влияние на вероятность просроченной задолженности по кредиту. Бездетные чаще всего берут кредит, но чаще всех отдают их в срок. Чем больше детей, тем выше вероятность просроченного кредита. Но мы не можем этого сказать про семьи, у кого 5 детей, так как слишком мало клиентов брали кредит."
   ]
  },
  {
   "cell_type": "markdown",
   "id": "13369e40",
   "metadata": {},
   "source": [
    "<div class=\"alert alert-success\">\n",
    "<font size=\"5\"><b>Комментарий ревьюера</b></font>\n",
    "\n",
    "Успех: Вывод не противоречит полученному результату. \n",
    "\n",
    "</div>"
   ]
  },
  {
   "cell_type": "markdown",
   "id": "74c9b3a7",
   "metadata": {
    "deletable": false,
    "editable": false,
    "id": "74c9b3a7"
   },
   "source": [
    "#### 3.2 Есть ли зависимость между семейным положением и возвратом кредита в срок?"
   ]
  },
  {
   "cell_type": "code",
   "execution_count": 23,
   "id": "8098ab3b",
   "metadata": {
    "deletable": false,
    "id": "8098ab3b"
   },
   "outputs": [
    {
     "data": {
      "text/html": [
       "<div>\n",
       "<style scoped>\n",
       "    .dataframe tbody tr th:only-of-type {\n",
       "        vertical-align: middle;\n",
       "    }\n",
       "\n",
       "    .dataframe tbody tr th {\n",
       "        vertical-align: top;\n",
       "    }\n",
       "\n",
       "    .dataframe thead th {\n",
       "        text-align: right;\n",
       "    }\n",
       "</style>\n",
       "<table border=\"1\" class=\"dataframe\">\n",
       "  <thead>\n",
       "    <tr style=\"text-align: right;\">\n",
       "      <th></th>\n",
       "      <th>count</th>\n",
       "      <th>sum</th>\n",
       "      <th>mean</th>\n",
       "    </tr>\n",
       "    <tr>\n",
       "      <th>family_status</th>\n",
       "      <th></th>\n",
       "      <th></th>\n",
       "      <th></th>\n",
       "    </tr>\n",
       "  </thead>\n",
       "  <tbody>\n",
       "    <tr>\n",
       "      <th>Не женат / не замужем</th>\n",
       "      <td>2796</td>\n",
       "      <td>273</td>\n",
       "      <td>0.097639</td>\n",
       "    </tr>\n",
       "    <tr>\n",
       "      <th>гражданский брак</th>\n",
       "      <td>4134</td>\n",
       "      <td>385</td>\n",
       "      <td>0.093130</td>\n",
       "    </tr>\n",
       "    <tr>\n",
       "      <th>женат / замужем</th>\n",
       "      <td>12261</td>\n",
       "      <td>927</td>\n",
       "      <td>0.075606</td>\n",
       "    </tr>\n",
       "    <tr>\n",
       "      <th>в разводе</th>\n",
       "      <td>1189</td>\n",
       "      <td>84</td>\n",
       "      <td>0.070648</td>\n",
       "    </tr>\n",
       "    <tr>\n",
       "      <th>вдовец / вдова</th>\n",
       "      <td>951</td>\n",
       "      <td>63</td>\n",
       "      <td>0.066246</td>\n",
       "    </tr>\n",
       "  </tbody>\n",
       "</table>\n",
       "</div>"
      ],
      "text/plain": [
       "                       count  sum      mean\n",
       "family_status                              \n",
       "Не женат / не замужем   2796  273  0.097639\n",
       "гражданский брак        4134  385  0.093130\n",
       "женат / замужем        12261  927  0.075606\n",
       "в разводе               1189   84  0.070648\n",
       "вдовец / вдова           951   63  0.066246"
      ]
     },
     "execution_count": 23,
     "metadata": {},
     "output_type": "execute_result"
    }
   ],
   "source": [
    "data.groupby('family_status')['debt'].agg(['count', 'sum', 'mean']).sort_values(by='mean', ascending=False)# Ваш код будет здесь. Вы можете создавать новые ячейки."
   ]
  },
  {
   "cell_type": "markdown",
   "id": "cec40490",
   "metadata": {},
   "source": [
    "<div class=\"alert alert-success\">\n",
    "<font size=\"5\"><b>Комментарий ревьюера</b></font>\n",
    "\n",
    "Успех: Круто, что ты владеешь методом agg!\n",
    "\n",
    "</div>"
   ]
  },
  {
   "cell_type": "markdown",
   "id": "c389ca63",
   "metadata": {
    "deletable": false,
    "id": "c389ca63"
   },
   "source": [
    "**Вывод:** Да, зависимость есть. Неженатые люди не такую хорошую имеют финансовую грамотность, сколько люди в браке или побывавшие в браке. Вероятно, это связано с тем, что у неженатых людей нет рядом финансовой поддержки в виде партнера и есть небольшой опыт распоряжения деньгами. Люди в браке чувствуют ответственность друг за друга, более точно рассчитывают свои расходы, поэтому и к взятию кредита они подходят с умом. А что касается людей, которые пожили в браке какое-то время, развелись/овдовели, набрались опыта, у них гораздо выше финансовая грамотность, поэтому и кредитов меньше и задолженность по ним."
   ]
  },
  {
   "cell_type": "markdown",
   "id": "4365d7d0",
   "metadata": {},
   "source": [
    "<div class=\"alert alert-success\">\n",
    "<font size=\"5\"><b>Комментарий ревьюера</b></font>\n",
    "\n",
    "Успех: Здорово, что ты не просто описала результат, но также привела и его трактовку и обоснование получаемым значениям. \n",
    "\n",
    "</div>"
   ]
  },
  {
   "cell_type": "markdown",
   "id": "9529de68",
   "metadata": {
    "deletable": false,
    "editable": false,
    "id": "9529de68"
   },
   "source": [
    "#### 3.3 Есть ли зависимость между уровнем дохода и возвратом кредита в срок?"
   ]
  },
  {
   "cell_type": "code",
   "execution_count": 24,
   "id": "8787f44a",
   "metadata": {
    "deletable": false,
    "id": "8787f44a",
    "scrolled": true
   },
   "outputs": [
    {
     "data": {
      "text/html": [
       "<div>\n",
       "<style scoped>\n",
       "    .dataframe tbody tr th:only-of-type {\n",
       "        vertical-align: middle;\n",
       "    }\n",
       "\n",
       "    .dataframe tbody tr th {\n",
       "        vertical-align: top;\n",
       "    }\n",
       "\n",
       "    .dataframe thead tr th {\n",
       "        text-align: left;\n",
       "    }\n",
       "\n",
       "    .dataframe thead tr:last-of-type th {\n",
       "        text-align: right;\n",
       "    }\n",
       "</style>\n",
       "<table border=\"1\" class=\"dataframe\">\n",
       "  <thead>\n",
       "    <tr>\n",
       "      <th></th>\n",
       "      <th>count</th>\n",
       "      <th>sum</th>\n",
       "      <th>mean</th>\n",
       "    </tr>\n",
       "    <tr>\n",
       "      <th></th>\n",
       "      <th>debt</th>\n",
       "      <th>debt</th>\n",
       "      <th>debt</th>\n",
       "    </tr>\n",
       "    <tr>\n",
       "      <th>total_income_category</th>\n",
       "      <th></th>\n",
       "      <th></th>\n",
       "      <th></th>\n",
       "    </tr>\n",
       "  </thead>\n",
       "  <tbody>\n",
       "    <tr>\n",
       "      <th>E</th>\n",
       "      <td>22</td>\n",
       "      <td>2</td>\n",
       "      <td>0.090909</td>\n",
       "    </tr>\n",
       "    <tr>\n",
       "      <th>D</th>\n",
       "      <td>349</td>\n",
       "      <td>21</td>\n",
       "      <td>0.060172</td>\n",
       "    </tr>\n",
       "    <tr>\n",
       "      <th>C</th>\n",
       "      <td>15921</td>\n",
       "      <td>1353</td>\n",
       "      <td>0.084982</td>\n",
       "    </tr>\n",
       "    <tr>\n",
       "      <th>B</th>\n",
       "      <td>5014</td>\n",
       "      <td>354</td>\n",
       "      <td>0.070602</td>\n",
       "    </tr>\n",
       "    <tr>\n",
       "      <th>A</th>\n",
       "      <td>25</td>\n",
       "      <td>2</td>\n",
       "      <td>0.080000</td>\n",
       "    </tr>\n",
       "  </tbody>\n",
       "</table>\n",
       "</div>"
      ],
      "text/plain": [
       "                       count   sum      mean\n",
       "                        debt  debt      debt\n",
       "total_income_category                       \n",
       "E                         22     2  0.090909\n",
       "D                        349    21  0.060172\n",
       "C                      15921  1353  0.084982\n",
       "B                       5014   354  0.070602\n",
       "A                         25     2  0.080000"
      ]
     },
     "execution_count": 24,
     "metadata": {},
     "output_type": "execute_result"
    }
   ],
   "source": [
    "data.pivot_table(index=['total_income_category'], values='debt', aggfunc=['count', 'sum', 'mean']).sort_values(by='total_income_category', ascending=False)"
   ]
  },
  {
   "cell_type": "markdown",
   "id": "6dd14b57",
   "metadata": {
    "deletable": false,
    "id": "6dd14b57"
   },
   "source": [
    "**Вывод:** Сложно отследить связь между уровнем дохода и возвратом кредита в срок, так как в категории A, D, E очень мало клиентов, попавших в статистику. Если возьмем во внимание только категории С и В, то можем полагать, что те, у кого доход больше, те и могут возвращать кредит в срок чаще, чем клиенты с меньшим уровнем дохода. Но количества клиентов в этих категориях все равно недостаточно, чтобы их сравнивать."
   ]
  },
  {
   "cell_type": "markdown",
   "id": "51ae8cfb",
   "metadata": {},
   "source": [
    "<div class=\"alert alert-success\">\n",
    "<font size=\"5\"><b>Комментарий ревьюера</b></font>\n",
    "\n",
    "Успех: Соглашусь, не все группы имеют достаточное количество клиентов для построения по ним надежных выводов. \n",
    "\n",
    "</div>"
   ]
  },
  {
   "cell_type": "markdown",
   "id": "1dcc9b12",
   "metadata": {
    "deletable": false,
    "editable": false,
    "id": "1dcc9b12"
   },
   "source": [
    "#### 3.4 Как разные цели кредита влияют на его возврат в срок?"
   ]
  },
  {
   "cell_type": "code",
   "execution_count": 25,
   "id": "c602bc8b",
   "metadata": {
    "deletable": false,
    "id": "c602bc8b"
   },
   "outputs": [
    {
     "data": {
      "text/html": [
       "<div>\n",
       "<style scoped>\n",
       "    .dataframe tbody tr th:only-of-type {\n",
       "        vertical-align: middle;\n",
       "    }\n",
       "\n",
       "    .dataframe tbody tr th {\n",
       "        vertical-align: top;\n",
       "    }\n",
       "\n",
       "    .dataframe thead th {\n",
       "        text-align: right;\n",
       "    }\n",
       "</style>\n",
       "<table border=\"1\" class=\"dataframe\">\n",
       "  <thead>\n",
       "    <tr style=\"text-align: right;\">\n",
       "      <th></th>\n",
       "      <th>count</th>\n",
       "      <th>sum</th>\n",
       "      <th>mean</th>\n",
       "    </tr>\n",
       "    <tr>\n",
       "      <th>purpose_category</th>\n",
       "      <th></th>\n",
       "      <th></th>\n",
       "      <th></th>\n",
       "    </tr>\n",
       "  </thead>\n",
       "  <tbody>\n",
       "    <tr>\n",
       "      <th>операции с недвижимостью</th>\n",
       "      <td>10751</td>\n",
       "      <td>780</td>\n",
       "      <td>0.072551</td>\n",
       "    </tr>\n",
       "    <tr>\n",
       "      <th>проведение свадьбы</th>\n",
       "      <td>2313</td>\n",
       "      <td>183</td>\n",
       "      <td>0.079118</td>\n",
       "    </tr>\n",
       "    <tr>\n",
       "      <th>получение образования</th>\n",
       "      <td>3988</td>\n",
       "      <td>369</td>\n",
       "      <td>0.092528</td>\n",
       "    </tr>\n",
       "    <tr>\n",
       "      <th>операции с автомобилем</th>\n",
       "      <td>4279</td>\n",
       "      <td>400</td>\n",
       "      <td>0.093480</td>\n",
       "    </tr>\n",
       "  </tbody>\n",
       "</table>\n",
       "</div>"
      ],
      "text/plain": [
       "                          count  sum      mean\n",
       "purpose_category                              \n",
       "операции с недвижимостью  10751  780  0.072551\n",
       "проведение свадьбы         2313  183  0.079118\n",
       "получение образования      3988  369  0.092528\n",
       "операции с автомобилем     4279  400  0.093480"
      ]
     },
     "execution_count": 25,
     "metadata": {},
     "output_type": "execute_result"
    }
   ],
   "source": [
    "data.groupby('purpose_category')['debt'].agg(['count', 'sum', 'mean']).sort_values(by='mean', ascending=True)# Ваш код будет здесь. Вы можете создавать новые ячейки."
   ]
  },
  {
   "cell_type": "markdown",
   "id": "cf05ed63",
   "metadata": {
    "deletable": false,
    "id": "cf05ed63"
   },
   "source": [
    "**Вывод:** Лидирующая цель кредита по его возврату в срок - операции с недвижимостью. Возможно, это связано с тем, что большинство людей понимает, что нужно свое жилье, где они будут строить семью. Они осознают, что эта цель превыше всего - иметь крышу над головой, хоть и нет всей суммы для покупки жилья без ипотек и кредитов. По этой причине они понимают, что чтобы не потерять свое жилье из-за задолженности, могут начаться проблемы, и люди могут остаться без жилья. Остальные цели - это что-то кратковременное с не очень большой суммой, поэтому клиенты могут не так серьезно относиться к этому. Один платеж могут пропустить, например, могут оплатить позже, отдав лишние проценты, или в другом месяце двойную сумму отдать в счет кредита, что портит кредитную историю и сказывается на статистике. А может быть, один из кредитов клиент платит вместе с ипотекой. Соответственно, жилье важнее, чем, например, авто. А машину можно и продать и обходиться без нее."
   ]
  },
  {
   "cell_type": "markdown",
   "id": "558da0ec",
   "metadata": {},
   "source": [
    "<div class=\"alert alert-success\">\n",
    "<font size=\"5\"><b>Комментарий ревьюера</b></font>\n",
    "\n",
    "Успех: Здорово, что при анализе использован метод сводных таблиц. Он пригодится в дальнейших проектах.\n",
    "\n",
    "Выводы сделаны по всем пунктам. \n",
    "\n",
    "</div>"
   ]
  },
  {
   "cell_type": "markdown",
   "id": "46c1f10b",
   "metadata": {
    "deletable": false,
    "editable": false,
    "id": "46c1f10b"
   },
   "source": [
    "#### 3.5 Приведите возможные причины появления пропусков в исходных данных."
   ]
  },
  {
   "cell_type": "markdown",
   "id": "3697d2a9",
   "metadata": {
    "deletable": false,
    "id": "3697d2a9"
   },
   "source": [
    "*Ответ:* В случае взятия кредита причиной может послужить сбой системы, так как при выдаче кредита фиксируется информация: кто взял, сколько, на сколько, на что. Хотя пропуск может возникнуть из-за того, что начали, например, заполнять заявку на выдачу кредита, клиент передумал брать его, а пустая заявка сохранилась."
   ]
  },
  {
   "cell_type": "markdown",
   "id": "bb8388ee",
   "metadata": {},
   "source": [
    "<div class=\"alert alert-success\">\n",
    "<font size=\"5\"><b>Комментарий ревьюера</b></font>\n",
    "\n",
    "Успех: Вполне возможное предположение. \n",
    "\n",
    "</div>"
   ]
  },
  {
   "cell_type": "markdown",
   "id": "3137d257",
   "metadata": {
    "deletable": false,
    "editable": false,
    "id": "3137d257"
   },
   "source": [
    "#### 3.6 Объясните, почему заполнить пропуски медианным значением — лучшее решение для количественных переменных."
   ]
  },
  {
   "cell_type": "markdown",
   "id": "cf40012a",
   "metadata": {
    "deletable": false,
    "id": "cf40012a"
   },
   "source": [
    "*Ответ:* Чтобы определить типичное значение выборки. Применяя среднее значение, оно некорректно характеризует данные, когда некоторые значения сильно выделяются среди большинства."
   ]
  },
  {
   "cell_type": "markdown",
   "id": "41debefd",
   "metadata": {},
   "source": [
    "<div class=\"alert alert-success\">\n",
    "<font size=\"5\"><b>Комментарий ревьюера</b></font>\n",
    "\n",
    "Успех: Да, все верно. Медиана более устойчива к наличию выбросов в данных.\n",
    "\n",
    "</div>"
   ]
  },
  {
   "cell_type": "markdown",
   "id": "57bc304e",
   "metadata": {
    "deletable": false,
    "editable": false,
    "id": "57bc304e"
   },
   "source": [
    "### Шаг 4: общий вывод."
   ]
  },
  {
   "cell_type": "markdown",
   "id": "1ab75d1c",
   "metadata": {
    "deletable": false,
    "id": "1ab75d1c"
   },
   "source": [
    "Напишите ваш общий вывод. По ходу анализа предоставленных данных мы выявили пропущенные значения, обработали пропуски и аномальные значения, заполнили пропуски, обработали дубликаты, создавали новый столбец для более детальеного анализа некоторых данных, например, цели кредита. На основе полученных данных мы выявили, от чего может зависеть возврат кредита в срок и сделали выводы:\n",
    "\n",
    "**Есть ли зависимость между количеством детей и возвратом кредита в срок?**\n",
    "На основе данных в таблице, мы можем сказать, что количество детей оказывает влияние на вероятность просроченной задолженности по кредиту. Бездетные чаще всего берут кредит, но чаще всех отдают их в срок. Чем больше детей, тем выше вероятность просроченного кредита. Но мы не можем этого сказать про семьи, у кого 5 детей, так как слишком мало клиентов брали кредит.\n",
    "\n",
    "**Есть ли зависимость между семейным положением и возвратом кредита в срок?**\n",
    "Да, зависимость есть. Неженатые люди не такую хорошую имеют финансовую грамотность, сколько люди в браке или побывавшие в браке. Вероятно, это связано с тем, что у неженатых людей нет рядом финансовой поддержки в виде партнера и есть небольшой опыт распоряжения деньгами. Люди в браке чувствуют ответственность друг за друга, более точно рассчитывают свои расходы, поэтому и к взятию кредита они подходят с умом. А что касается людей, которые пожили в браке какое-то время, развелись/овдовели, набрались опыта, у них гораздо выше финансовая грамотность, поэтому и кредитов меньше и задолженность по ним.\n",
    "\n",
    "**Есть ли зависимость между уровнем дохода и возвратом кредита в срок?**\n",
    "Сложно отследить связь между уровнем дохода и возвратом кредита в срок, так как в категории A, D, E очень мало клиентов, попавших в статистику. Если возьмем во внимание только категории С и В, то можем полагать, что те, у кого доход больше, те и могут возвращать кредит в срок чаще, чем клиенты с меньшим уровнем дохода. Но количества клиентов в этих категориях все равно недостаточно, чтобы их сравнивать.\n",
    "\n",
    "**Как разные цели кредита влияют на его возврат в срок?**\n",
    "Лидирующая цель кредита по его возврату в срок - операции с недвижимостью. Возможно, это связано с тем, что большинство людей понимает, что нужно свое жилье, где они будут строить семью. Они осознают, что эта цель превыше всего - иметь крышу над головой, хоть и нет всей суммы для покупки жилья без ипотек и кредитов. По этой причине они понимают, что чтобы не потерять свое жилье из-за задолженности, могут начаться проблемы, и люди могут остаться без жилья. Остальные цели - это что-то кратковременное с не очень большой суммой, поэтому клиенты могут не так серьезно относиться к этому. Один платеж могут пропустить, например, могут оплатить позже, отдав лишние проценты, или в другом месяце двойную сумму отдать в счет кредита, что портит кредитную историю и сказывается на статистике. А может быть, один из кредитов клиент платит вместе с ипотекой. Соответственно, жилье важнее, чем, например, авто. А машину можно и продать и обходиться без нее.\n",
    "\n",
    "**Возможные причины появления пропусков в исходных данных.**\n",
    "В случае взятия кредита причиной может послужить сбой системы, так как при выдаче кредита фиксируется информация: кто взял, сколько, на сколько, на что. Хотя пропуск может возникнуть из-за того, что начали, например, заполнять заявку на выдачу кредита, клиент передумал брать его, а пустая заявка сохранилась.\n",
    "\n",
    "**Почему заполнить пропуски медианным значением — лучшее решение для количественных переменных.**\n",
    "Чтобы определить типичное значение выборки. Применяя среднее значение, оно некорректно характеризует данные, когда некоторые значения сильно выделяются среди большинства."
   ]
  },
  {
   "cell_type": "markdown",
   "id": "ebd8656d",
   "metadata": {},
   "source": [
    "<div class=\"alert alert-danger\">\n",
    "<font size=\"5\"><b>Комментарий ревьюера</b></font>\n",
    "\n",
    "Ошибка: Финальный вывод и есть главный результат твоей работы. Стоит писать его подробно по результатам проведенной работы. В нем можно приводить полученные в ходе работы значения. Также можно расписать все, что было сделано в работе, что ты и сделала. Но основа вывода - именно итоги анализа. \n",
    "\n",
    "</div>"
   ]
  },
  {
   "cell_type": "markdown",
   "id": "549d160f",
   "metadata": {},
   "source": [
    "<div class=\"alert alert-info\">\n",
    "<font size=\"5\"><b>Комментарий ревьюера</b></font>\n",
    "\n",
    "Ты проделала большую работу, молодец! Ты овладела важными на данном этапе обучения инструментами, а также довольно качественно их используешь. Критических замечаний немного. Нужно лишь скорректировать итоговый вывод. Думаю, сделать это тебе не составит труда. Жду твою работу :)\n",
    "\n",
    "    \n",
    "    \n",
    "Отдельно не получилось оставить комментарий. Спасибо большое за замечания! Можно ли в общий вывод просто вставить выводы заданий? Боюсь, что если их буду больше расписывать напишу что-то некорректно или будет больше воды. Я их расписала, как могла)    \n",
    "    \n",
    "</div>"
   ]
  },
  {
   "cell_type": "code",
   "execution_count": null,
   "id": "f23e1de5",
   "metadata": {},
   "outputs": [],
   "source": []
  },
  {
   "cell_type": "code",
   "execution_count": null,
   "id": "1b239900",
   "metadata": {},
   "outputs": [],
   "source": []
  }
 ],
 "metadata": {
  "ExecuteTimeLog": [
   {
    "duration": 0,
    "start_time": "2024-07-10T15:29:25.155Z"
   },
   {
    "duration": 56,
    "start_time": "2024-07-10T15:29:28.028Z"
   },
   {
    "duration": 76,
    "start_time": "2024-07-10T15:30:11.867Z"
   },
   {
    "duration": 43,
    "start_time": "2024-07-10T15:32:54.181Z"
   },
   {
    "duration": 6,
    "start_time": "2024-07-10T15:33:08.756Z"
   },
   {
    "duration": 8,
    "start_time": "2024-07-10T15:33:17.969Z"
   },
   {
    "duration": 5,
    "start_time": "2024-07-10T15:37:21.871Z"
   },
   {
    "duration": 6,
    "start_time": "2024-07-10T15:37:38.402Z"
   },
   {
    "duration": 435,
    "start_time": "2024-07-10T15:37:49.957Z"
   },
   {
    "duration": 28,
    "start_time": "2024-07-10T15:37:50.394Z"
   },
   {
    "duration": 15,
    "start_time": "2024-07-10T15:37:50.423Z"
   },
   {
    "duration": 8,
    "start_time": "2024-07-10T15:37:50.440Z"
   },
   {
    "duration": 31,
    "start_time": "2024-07-10T15:37:50.450Z"
   },
   {
    "duration": 4,
    "start_time": "2024-07-10T15:37:50.482Z"
   },
   {
    "duration": 32,
    "start_time": "2024-07-10T15:37:50.486Z"
   },
   {
    "duration": 6,
    "start_time": "2024-07-10T15:37:50.520Z"
   },
   {
    "duration": 8,
    "start_time": "2024-07-10T15:37:50.528Z"
   },
   {
    "duration": 4,
    "start_time": "2024-07-10T15:37:50.539Z"
   },
   {
    "duration": 37,
    "start_time": "2024-07-10T15:37:50.544Z"
   },
   {
    "duration": 42,
    "start_time": "2024-07-10T15:37:50.583Z"
   },
   {
    "duration": 3,
    "start_time": "2024-07-10T15:37:50.627Z"
   },
   {
    "duration": 13,
    "start_time": "2024-07-10T15:37:50.632Z"
   },
   {
    "duration": 36,
    "start_time": "2024-07-10T15:37:50.646Z"
   },
   {
    "duration": 18,
    "start_time": "2024-07-10T15:37:50.684Z"
   },
   {
    "duration": 3,
    "start_time": "2024-07-10T15:37:50.711Z"
   },
   {
    "duration": 11,
    "start_time": "2024-07-10T15:37:50.716Z"
   },
   {
    "duration": 7,
    "start_time": "2024-07-10T15:37:50.728Z"
   },
   {
    "duration": 3,
    "start_time": "2024-07-10T15:37:50.737Z"
   },
   {
    "duration": 10,
    "start_time": "2024-07-10T15:37:50.742Z"
   },
   {
    "duration": 87,
    "start_time": "2024-07-10T15:37:50.754Z"
   },
   {
    "duration": 0,
    "start_time": "2024-07-10T15:37:50.843Z"
   },
   {
    "duration": 0,
    "start_time": "2024-07-10T15:37:50.844Z"
   },
   {
    "duration": 0,
    "start_time": "2024-07-10T15:37:50.845Z"
   },
   {
    "duration": 7,
    "start_time": "2024-07-10T15:37:54.711Z"
   },
   {
    "duration": 7,
    "start_time": "2024-07-10T15:40:56.532Z"
   },
   {
    "duration": 6,
    "start_time": "2024-07-10T15:41:04.282Z"
   },
   {
    "duration": 7,
    "start_time": "2024-07-10T15:45:52.313Z"
   },
   {
    "duration": 9,
    "start_time": "2024-07-10T15:45:59.251Z"
   },
   {
    "duration": 6,
    "start_time": "2024-07-10T15:52:30.507Z"
   },
   {
    "duration": 8,
    "start_time": "2024-07-10T15:52:34.314Z"
   },
   {
    "duration": 8,
    "start_time": "2024-07-10T15:52:57.084Z"
   },
   {
    "duration": 75,
    "start_time": "2024-07-10T16:00:29.733Z"
   },
   {
    "duration": 82,
    "start_time": "2024-07-10T16:00:43.202Z"
   },
   {
    "duration": 72,
    "start_time": "2024-07-10T16:00:52.047Z"
   },
   {
    "duration": 72,
    "start_time": "2024-07-10T16:01:01.129Z"
   },
   {
    "duration": 70,
    "start_time": "2024-07-10T16:01:05.993Z"
   },
   {
    "duration": 75,
    "start_time": "2024-07-10T16:02:41.167Z"
   },
   {
    "duration": 72,
    "start_time": "2024-07-10T16:03:05.457Z"
   },
   {
    "duration": 87,
    "start_time": "2024-07-10T16:03:19.832Z"
   },
   {
    "duration": 84,
    "start_time": "2024-07-10T16:04:38.746Z"
   },
   {
    "duration": 71,
    "start_time": "2024-07-10T16:05:42.188Z"
   },
   {
    "duration": 73,
    "start_time": "2024-07-10T16:06:35.231Z"
   },
   {
    "duration": 70,
    "start_time": "2024-07-10T16:07:09.398Z"
   },
   {
    "duration": 75,
    "start_time": "2024-07-10T16:07:22.582Z"
   },
   {
    "duration": 77,
    "start_time": "2024-07-10T16:07:48.896Z"
   },
   {
    "duration": 81,
    "start_time": "2024-07-10T16:09:03.121Z"
   },
   {
    "duration": 78,
    "start_time": "2024-07-10T16:09:11.345Z"
   },
   {
    "duration": 80,
    "start_time": "2024-07-10T16:09:20.906Z"
   },
   {
    "duration": 78,
    "start_time": "2024-07-10T16:09:44.115Z"
   },
   {
    "duration": 78,
    "start_time": "2024-07-10T16:10:36.834Z"
   },
   {
    "duration": 60,
    "start_time": "2024-07-10T16:11:19.001Z"
   },
   {
    "duration": 75,
    "start_time": "2024-07-10T16:11:25.325Z"
   },
   {
    "duration": 76,
    "start_time": "2024-07-10T16:11:34.271Z"
   },
   {
    "duration": 19,
    "start_time": "2024-07-10T16:15:21.938Z"
   },
   {
    "duration": 18,
    "start_time": "2024-07-10T16:15:37.801Z"
   },
   {
    "duration": 93,
    "start_time": "2024-07-10T16:19:15.048Z"
   },
   {
    "duration": 11,
    "start_time": "2024-07-10T17:02:23.473Z"
   },
   {
    "duration": 75,
    "start_time": "2024-07-10T17:17:04.899Z"
   },
   {
    "duration": 76,
    "start_time": "2024-07-10T17:24:30.142Z"
   },
   {
    "duration": 63,
    "start_time": "2024-07-10T17:24:36.492Z"
   },
   {
    "duration": 73,
    "start_time": "2024-07-10T17:24:40.729Z"
   },
   {
    "duration": 6,
    "start_time": "2024-07-10T17:25:42.627Z"
   },
   {
    "duration": 70,
    "start_time": "2024-07-10T17:25:55.780Z"
   },
   {
    "duration": 85,
    "start_time": "2024-07-10T17:31:00.867Z"
   },
   {
    "duration": 78,
    "start_time": "2024-07-10T17:35:28.331Z"
   },
   {
    "duration": 74,
    "start_time": "2024-07-10T17:35:35.237Z"
   },
   {
    "duration": 59,
    "start_time": "2024-07-10T17:36:15.265Z"
   },
   {
    "duration": 60,
    "start_time": "2024-07-10T17:36:41.182Z"
   },
   {
    "duration": 75,
    "start_time": "2024-07-10T17:36:50.800Z"
   },
   {
    "duration": 62,
    "start_time": "2024-07-10T17:51:59.875Z"
   },
   {
    "duration": 70,
    "start_time": "2024-07-10T17:52:04.955Z"
   },
   {
    "duration": 63,
    "start_time": "2024-07-10T17:52:11.777Z"
   },
   {
    "duration": 80,
    "start_time": "2024-07-10T17:52:17.424Z"
   },
   {
    "duration": 74,
    "start_time": "2024-07-10T17:53:32.557Z"
   },
   {
    "duration": 77,
    "start_time": "2024-07-10T17:55:14.716Z"
   },
   {
    "duration": 80,
    "start_time": "2024-07-10T18:02:52.446Z"
   },
   {
    "duration": 77,
    "start_time": "2024-07-10T18:03:13.667Z"
   },
   {
    "duration": 76,
    "start_time": "2024-07-10T18:04:14.321Z"
   },
   {
    "duration": 74,
    "start_time": "2024-07-10T18:04:31.256Z"
   },
   {
    "duration": 78,
    "start_time": "2024-07-10T18:04:59.296Z"
   },
   {
    "duration": 83,
    "start_time": "2024-07-10T18:05:44.256Z"
   },
   {
    "duration": 73,
    "start_time": "2024-07-10T18:05:47.912Z"
   },
   {
    "duration": 77,
    "start_time": "2024-07-10T18:06:09.632Z"
   },
   {
    "duration": 72,
    "start_time": "2024-07-10T18:06:43.927Z"
   },
   {
    "duration": 79,
    "start_time": "2024-07-10T18:07:01.202Z"
   },
   {
    "duration": 83,
    "start_time": "2024-07-10T18:07:35.249Z"
   },
   {
    "duration": 81,
    "start_time": "2024-07-10T18:07:52.036Z"
   },
   {
    "duration": 75,
    "start_time": "2024-07-10T18:08:22.361Z"
   },
   {
    "duration": 72,
    "start_time": "2024-07-10T18:11:50.048Z"
   },
   {
    "duration": 70,
    "start_time": "2024-07-10T18:11:52.698Z"
   },
   {
    "duration": 73,
    "start_time": "2024-07-10T18:11:56.205Z"
   },
   {
    "duration": 78,
    "start_time": "2024-07-10T18:18:53.072Z"
   },
   {
    "duration": 68,
    "start_time": "2024-07-10T18:19:20.790Z"
   },
   {
    "duration": 14,
    "start_time": "2024-07-10T18:19:24.410Z"
   },
   {
    "duration": 13,
    "start_time": "2024-07-10T18:19:28.255Z"
   },
   {
    "duration": 13,
    "start_time": "2024-07-10T18:19:31.754Z"
   },
   {
    "duration": 9,
    "start_time": "2024-07-10T18:19:35.018Z"
   },
   {
    "duration": 32,
    "start_time": "2024-07-10T18:19:38.369Z"
   },
   {
    "duration": 3,
    "start_time": "2024-07-10T18:19:41.007Z"
   },
   {
    "duration": 10,
    "start_time": "2024-07-10T18:19:43.050Z"
   },
   {
    "duration": 3,
    "start_time": "2024-07-10T18:19:48.634Z"
   },
   {
    "duration": 5,
    "start_time": "2024-07-10T18:19:50.986Z"
   },
   {
    "duration": 4,
    "start_time": "2024-07-10T18:19:53.540Z"
   },
   {
    "duration": 31,
    "start_time": "2024-07-10T18:19:57.568Z"
   },
   {
    "duration": 10,
    "start_time": "2024-07-10T18:20:00.023Z"
   },
   {
    "duration": 3,
    "start_time": "2024-07-10T18:20:06.580Z"
   },
   {
    "duration": 11,
    "start_time": "2024-07-10T18:20:12.670Z"
   },
   {
    "duration": 18,
    "start_time": "2024-07-10T18:20:14.877Z"
   },
   {
    "duration": 18,
    "start_time": "2024-07-10T18:20:17.522Z"
   },
   {
    "duration": 5,
    "start_time": "2024-07-10T18:20:21.300Z"
   },
   {
    "duration": 10,
    "start_time": "2024-07-10T18:20:24.883Z"
   },
   {
    "duration": 6,
    "start_time": "2024-07-10T18:20:27.426Z"
   },
   {
    "duration": 3,
    "start_time": "2024-07-10T18:20:31.383Z"
   },
   {
    "duration": 14,
    "start_time": "2024-07-10T18:20:33.466Z"
   },
   {
    "duration": 14,
    "start_time": "2024-07-10T18:20:39.292Z"
   },
   {
    "duration": 103,
    "start_time": "2024-07-10T18:20:45.059Z"
   },
   {
    "duration": 72,
    "start_time": "2024-07-10T18:20:48.346Z"
   },
   {
    "duration": 442,
    "start_time": "2024-07-10T18:20:54.156Z"
   },
   {
    "duration": 31,
    "start_time": "2024-07-10T18:20:54.600Z"
   },
   {
    "duration": 20,
    "start_time": "2024-07-10T18:20:54.632Z"
   },
   {
    "duration": 9,
    "start_time": "2024-07-10T18:20:54.654Z"
   },
   {
    "duration": 54,
    "start_time": "2024-07-10T18:20:54.665Z"
   },
   {
    "duration": 4,
    "start_time": "2024-07-10T18:20:54.720Z"
   },
   {
    "duration": 17,
    "start_time": "2024-07-10T18:20:54.725Z"
   },
   {
    "duration": 9,
    "start_time": "2024-07-10T18:20:54.744Z"
   },
   {
    "duration": 10,
    "start_time": "2024-07-10T18:20:54.754Z"
   },
   {
    "duration": 8,
    "start_time": "2024-07-10T18:20:54.766Z"
   },
   {
    "duration": 37,
    "start_time": "2024-07-10T18:20:54.775Z"
   },
   {
    "duration": 9,
    "start_time": "2024-07-10T18:20:54.814Z"
   },
   {
    "duration": 9,
    "start_time": "2024-07-10T18:20:54.824Z"
   },
   {
    "duration": 18,
    "start_time": "2024-07-10T18:20:54.834Z"
   },
   {
    "duration": 19,
    "start_time": "2024-07-10T18:20:54.853Z"
   },
   {
    "duration": 16,
    "start_time": "2024-07-10T18:20:54.874Z"
   },
   {
    "duration": 21,
    "start_time": "2024-07-10T18:20:54.891Z"
   },
   {
    "duration": 10,
    "start_time": "2024-07-10T18:20:54.914Z"
   },
   {
    "duration": 6,
    "start_time": "2024-07-10T18:20:54.925Z"
   },
   {
    "duration": 3,
    "start_time": "2024-07-10T18:20:54.932Z"
   },
   {
    "duration": 8,
    "start_time": "2024-07-10T18:20:54.937Z"
   },
   {
    "duration": 134,
    "start_time": "2024-07-10T18:20:54.946Z"
   },
   {
    "duration": 0,
    "start_time": "2024-07-10T18:20:55.082Z"
   },
   {
    "duration": 0,
    "start_time": "2024-07-10T18:20:55.084Z"
   },
   {
    "duration": 0,
    "start_time": "2024-07-10T18:20:55.085Z"
   },
   {
    "duration": 76,
    "start_time": "2024-07-10T18:20:59.988Z"
   },
   {
    "duration": 79,
    "start_time": "2024-07-10T18:21:15.718Z"
   },
   {
    "duration": 73,
    "start_time": "2024-07-10T18:21:49.979Z"
   },
   {
    "duration": 8,
    "start_time": "2024-07-10T18:28:22.251Z"
   },
   {
    "duration": 6,
    "start_time": "2024-07-10T18:28:25.051Z"
   },
   {
    "duration": 10,
    "start_time": "2024-07-10T18:28:50.538Z"
   },
   {
    "duration": 18,
    "start_time": "2024-07-10T18:30:44.939Z"
   },
   {
    "duration": 15,
    "start_time": "2024-07-10T18:31:01.914Z"
   },
   {
    "duration": 6,
    "start_time": "2024-07-10T18:51:00.046Z"
   },
   {
    "duration": 48,
    "start_time": "2024-07-11T06:23:22.613Z"
   },
   {
    "duration": 9,
    "start_time": "2024-07-11T06:23:29.559Z"
   },
   {
    "duration": 7,
    "start_time": "2024-07-11T06:24:07.839Z"
   },
   {
    "duration": 6,
    "start_time": "2024-07-11T06:24:36.828Z"
   },
   {
    "duration": 606,
    "start_time": "2024-07-11T06:24:45.633Z"
   },
   {
    "duration": 18,
    "start_time": "2024-07-11T06:24:46.240Z"
   },
   {
    "duration": 15,
    "start_time": "2024-07-11T06:24:46.260Z"
   },
   {
    "duration": 20,
    "start_time": "2024-07-11T06:24:46.277Z"
   },
   {
    "duration": 39,
    "start_time": "2024-07-11T06:24:46.298Z"
   },
   {
    "duration": 3,
    "start_time": "2024-07-11T06:24:46.338Z"
   },
   {
    "duration": 17,
    "start_time": "2024-07-11T06:24:46.342Z"
   },
   {
    "duration": 5,
    "start_time": "2024-07-11T06:24:46.360Z"
   },
   {
    "duration": 12,
    "start_time": "2024-07-11T06:24:46.366Z"
   },
   {
    "duration": 9,
    "start_time": "2024-07-11T06:24:46.381Z"
   },
   {
    "duration": 52,
    "start_time": "2024-07-11T06:24:46.391Z"
   },
   {
    "duration": 23,
    "start_time": "2024-07-11T06:24:46.444Z"
   },
   {
    "duration": 9,
    "start_time": "2024-07-11T06:24:46.468Z"
   },
   {
    "duration": 11,
    "start_time": "2024-07-11T06:24:46.478Z"
   },
   {
    "duration": 33,
    "start_time": "2024-07-11T06:24:46.490Z"
   },
   {
    "duration": 13,
    "start_time": "2024-07-11T06:24:46.524Z"
   },
   {
    "duration": 3,
    "start_time": "2024-07-11T06:24:46.539Z"
   },
   {
    "duration": 50,
    "start_time": "2024-07-11T06:24:46.543Z"
   },
   {
    "duration": 7,
    "start_time": "2024-07-11T06:24:46.595Z"
   },
   {
    "duration": 5,
    "start_time": "2024-07-11T06:24:46.603Z"
   },
   {
    "duration": 14,
    "start_time": "2024-07-11T06:24:46.610Z"
   },
   {
    "duration": 9,
    "start_time": "2024-07-11T06:24:46.625Z"
   },
   {
    "duration": 2,
    "start_time": "2024-07-11T06:24:46.635Z"
   },
   {
    "duration": 5,
    "start_time": "2024-07-11T06:24:46.638Z"
   },
   {
    "duration": 5,
    "start_time": "2024-07-11T06:24:46.644Z"
   },
   {
    "duration": 10,
    "start_time": "2024-07-11T06:52:35.206Z"
   },
   {
    "duration": 16,
    "start_time": "2024-07-11T06:52:49.836Z"
   },
   {
    "duration": 17,
    "start_time": "2024-07-11T06:53:00.916Z"
   },
   {
    "duration": 16,
    "start_time": "2024-07-11T06:53:23.364Z"
   },
   {
    "duration": 19,
    "start_time": "2024-07-11T06:53:56.987Z"
   },
   {
    "duration": 62,
    "start_time": "2024-07-11T17:00:35.411Z"
   },
   {
    "duration": 44,
    "start_time": "2024-07-11T17:01:03.010Z"
   },
   {
    "duration": 7,
    "start_time": "2024-07-11T17:01:45.849Z"
   },
   {
    "duration": 7,
    "start_time": "2024-07-11T17:01:59.789Z"
   },
   {
    "duration": 659,
    "start_time": "2024-07-11T17:02:53.148Z"
   },
   {
    "duration": 114,
    "start_time": "2024-07-11T17:03:05.470Z"
   },
   {
    "duration": 500,
    "start_time": "2024-07-11T17:04:47.679Z"
   },
   {
    "duration": 22,
    "start_time": "2024-07-11T17:04:48.181Z"
   },
   {
    "duration": 15,
    "start_time": "2024-07-11T17:04:48.205Z"
   },
   {
    "duration": 13,
    "start_time": "2024-07-11T17:04:48.222Z"
   },
   {
    "duration": 59,
    "start_time": "2024-07-11T17:04:48.236Z"
   },
   {
    "duration": 3,
    "start_time": "2024-07-11T17:04:48.298Z"
   },
   {
    "duration": 12,
    "start_time": "2024-07-11T17:04:48.302Z"
   },
   {
    "duration": 4,
    "start_time": "2024-07-11T17:04:48.315Z"
   },
   {
    "duration": 7,
    "start_time": "2024-07-11T17:04:48.320Z"
   },
   {
    "duration": 4,
    "start_time": "2024-07-11T17:04:48.329Z"
   },
   {
    "duration": 62,
    "start_time": "2024-07-11T17:04:48.334Z"
   },
   {
    "duration": 11,
    "start_time": "2024-07-11T17:04:48.397Z"
   },
   {
    "duration": 4,
    "start_time": "2024-07-11T17:04:48.409Z"
   },
   {
    "duration": 16,
    "start_time": "2024-07-11T17:04:48.414Z"
   },
   {
    "duration": 20,
    "start_time": "2024-07-11T17:04:48.432Z"
   },
   {
    "duration": 38,
    "start_time": "2024-07-11T17:04:48.453Z"
   },
   {
    "duration": 3,
    "start_time": "2024-07-11T17:04:48.492Z"
   },
   {
    "duration": 12,
    "start_time": "2024-07-11T17:04:48.497Z"
   },
   {
    "duration": 6,
    "start_time": "2024-07-11T17:04:48.510Z"
   },
   {
    "duration": 11,
    "start_time": "2024-07-11T17:04:48.517Z"
   },
   {
    "duration": 12,
    "start_time": "2024-07-11T17:04:48.529Z"
   },
   {
    "duration": 11,
    "start_time": "2024-07-11T17:04:48.542Z"
   },
   {
    "duration": 37,
    "start_time": "2024-07-11T17:04:48.554Z"
   },
   {
    "duration": 139,
    "start_time": "2024-07-11T17:04:48.592Z"
   },
   {
    "duration": 0,
    "start_time": "2024-07-11T17:04:48.732Z"
   },
   {
    "duration": 22,
    "start_time": "2024-07-11T17:05:05.052Z"
   },
   {
    "duration": 94,
    "start_time": "2024-07-11T17:05:27.365Z"
   },
   {
    "duration": 84,
    "start_time": "2024-07-11T17:06:33.245Z"
   },
   {
    "duration": 1044,
    "start_time": "2024-07-11T17:07:38.827Z"
   },
   {
    "duration": 1011,
    "start_time": "2024-07-11T17:07:46.996Z"
   },
   {
    "duration": 13,
    "start_time": "2024-07-11T17:11:24.698Z"
   },
   {
    "duration": 867,
    "start_time": "2024-07-11T17:14:08.413Z"
   },
   {
    "duration": 510,
    "start_time": "2024-07-11T17:14:18.278Z"
   },
   {
    "duration": 23,
    "start_time": "2024-07-11T17:14:18.790Z"
   },
   {
    "duration": 20,
    "start_time": "2024-07-11T17:14:18.814Z"
   },
   {
    "duration": 11,
    "start_time": "2024-07-11T17:14:18.835Z"
   },
   {
    "duration": 58,
    "start_time": "2024-07-11T17:14:18.847Z"
   },
   {
    "duration": 3,
    "start_time": "2024-07-11T17:14:18.906Z"
   },
   {
    "duration": 14,
    "start_time": "2024-07-11T17:14:18.911Z"
   },
   {
    "duration": 25,
    "start_time": "2024-07-11T17:14:18.926Z"
   },
   {
    "duration": 31,
    "start_time": "2024-07-11T17:14:18.953Z"
   },
   {
    "duration": 21,
    "start_time": "2024-07-11T17:14:18.987Z"
   },
   {
    "duration": 36,
    "start_time": "2024-07-11T17:14:19.009Z"
   },
   {
    "duration": 10,
    "start_time": "2024-07-11T17:14:19.047Z"
   },
   {
    "duration": 9,
    "start_time": "2024-07-11T17:14:19.059Z"
   },
   {
    "duration": 13,
    "start_time": "2024-07-11T17:14:19.069Z"
   },
   {
    "duration": 42,
    "start_time": "2024-07-11T17:14:19.084Z"
   },
   {
    "duration": 24,
    "start_time": "2024-07-11T17:14:19.127Z"
   },
   {
    "duration": 3,
    "start_time": "2024-07-11T17:14:19.153Z"
   },
   {
    "duration": 15,
    "start_time": "2024-07-11T17:14:19.157Z"
   },
   {
    "duration": 6,
    "start_time": "2024-07-11T17:14:19.173Z"
   },
   {
    "duration": 4,
    "start_time": "2024-07-11T17:14:19.180Z"
   },
   {
    "duration": 14,
    "start_time": "2024-07-11T17:14:19.185Z"
   },
   {
    "duration": 12,
    "start_time": "2024-07-11T17:14:19.201Z"
   },
   {
    "duration": 11,
    "start_time": "2024-07-11T17:14:19.215Z"
   },
   {
    "duration": 15,
    "start_time": "2024-07-11T17:14:19.228Z"
   },
   {
    "duration": 65,
    "start_time": "2024-07-11T17:14:32.804Z"
   },
   {
    "duration": 11,
    "start_time": "2024-07-11T17:14:50.337Z"
   },
   {
    "duration": 75,
    "start_time": "2024-07-11T17:19:49.978Z"
   },
   {
    "duration": 62,
    "start_time": "2024-07-11T17:20:36.928Z"
   },
   {
    "duration": 57,
    "start_time": "2024-07-11T17:21:19.518Z"
   },
   {
    "duration": 62,
    "start_time": "2024-07-11T17:21:47.332Z"
   },
   {
    "duration": 64,
    "start_time": "2024-07-11T17:22:05.279Z"
   },
   {
    "duration": 73,
    "start_time": "2024-07-11T17:23:15.739Z"
   },
   {
    "duration": 3,
    "start_time": "2024-07-11T17:23:49.695Z"
   },
   {
    "duration": 26,
    "start_time": "2024-07-11T17:24:11.309Z"
   },
   {
    "duration": 28,
    "start_time": "2024-07-11T17:24:56.637Z"
   },
   {
    "duration": 31,
    "start_time": "2024-07-11T17:25:26.076Z"
   },
   {
    "duration": 28,
    "start_time": "2024-07-11T17:25:36.898Z"
   },
   {
    "duration": 28,
    "start_time": "2024-07-11T17:25:45.389Z"
   },
   {
    "duration": 40,
    "start_time": "2024-07-14T03:16:27.855Z"
   },
   {
    "duration": 6,
    "start_time": "2024-07-14T03:16:43.169Z"
   },
   {
    "duration": 7,
    "start_time": "2024-07-14T03:16:47.008Z"
   },
   {
    "duration": 500,
    "start_time": "2024-07-14T03:16:52.963Z"
   },
   {
    "duration": 18,
    "start_time": "2024-07-14T03:16:53.465Z"
   },
   {
    "duration": 13,
    "start_time": "2024-07-14T03:16:53.485Z"
   },
   {
    "duration": 19,
    "start_time": "2024-07-14T03:16:53.499Z"
   },
   {
    "duration": 92,
    "start_time": "2024-07-14T03:16:53.519Z"
   },
   {
    "duration": 3,
    "start_time": "2024-07-14T03:16:53.613Z"
   },
   {
    "duration": 99,
    "start_time": "2024-07-14T03:16:53.617Z"
   },
   {
    "duration": 29,
    "start_time": "2024-07-14T03:16:53.718Z"
   },
   {
    "duration": 22,
    "start_time": "2024-07-14T03:16:53.748Z"
   },
   {
    "duration": 8,
    "start_time": "2024-07-14T03:16:53.773Z"
   },
   {
    "duration": 85,
    "start_time": "2024-07-14T03:16:53.782Z"
   },
   {
    "duration": 7,
    "start_time": "2024-07-14T03:16:53.869Z"
   },
   {
    "duration": 6,
    "start_time": "2024-07-14T03:16:53.877Z"
   },
   {
    "duration": 25,
    "start_time": "2024-07-14T03:16:53.884Z"
   },
   {
    "duration": 17,
    "start_time": "2024-07-14T03:16:53.910Z"
   },
   {
    "duration": 16,
    "start_time": "2024-07-14T03:16:53.928Z"
   },
   {
    "duration": 4,
    "start_time": "2024-07-14T03:16:53.945Z"
   },
   {
    "duration": 19,
    "start_time": "2024-07-14T03:16:53.950Z"
   },
   {
    "duration": 18,
    "start_time": "2024-07-14T03:16:53.970Z"
   },
   {
    "duration": 16,
    "start_time": "2024-07-14T03:16:53.990Z"
   },
   {
    "duration": 38,
    "start_time": "2024-07-14T03:16:54.007Z"
   },
   {
    "duration": 26,
    "start_time": "2024-07-14T03:16:54.046Z"
   },
   {
    "duration": 22,
    "start_time": "2024-07-14T03:16:54.074Z"
   },
   {
    "duration": 77,
    "start_time": "2024-07-14T03:16:54.097Z"
   },
   {
    "duration": 0,
    "start_time": "2024-07-14T03:16:54.176Z"
   },
   {
    "duration": 22,
    "start_time": "2024-07-14T03:18:54.018Z"
   },
   {
    "duration": 23,
    "start_time": "2024-07-14T03:19:20.894Z"
   },
   {
    "duration": 2,
    "start_time": "2024-07-14T03:30:56.019Z"
   },
   {
    "duration": 7,
    "start_time": "2024-07-14T03:30:57.165Z"
   },
   {
    "duration": 441,
    "start_time": "2024-07-14T03:31:04.494Z"
   },
   {
    "duration": 17,
    "start_time": "2024-07-14T03:31:04.937Z"
   },
   {
    "duration": 78,
    "start_time": "2024-07-14T03:31:04.955Z"
   },
   {
    "duration": 7,
    "start_time": "2024-07-14T03:31:05.035Z"
   },
   {
    "duration": 32,
    "start_time": "2024-07-14T03:31:05.044Z"
   },
   {
    "duration": 3,
    "start_time": "2024-07-14T03:31:05.077Z"
   },
   {
    "duration": 30,
    "start_time": "2024-07-14T03:31:05.081Z"
   },
   {
    "duration": 6,
    "start_time": "2024-07-14T03:31:05.112Z"
   },
   {
    "duration": 17,
    "start_time": "2024-07-14T03:31:05.119Z"
   },
   {
    "duration": 18,
    "start_time": "2024-07-14T03:31:05.138Z"
   },
   {
    "duration": 28,
    "start_time": "2024-07-14T03:31:05.157Z"
   },
   {
    "duration": 9,
    "start_time": "2024-07-14T03:31:05.186Z"
   },
   {
    "duration": 7,
    "start_time": "2024-07-14T03:31:05.196Z"
   },
   {
    "duration": 11,
    "start_time": "2024-07-14T03:31:05.204Z"
   },
   {
    "duration": 20,
    "start_time": "2024-07-14T03:31:05.216Z"
   },
   {
    "duration": 14,
    "start_time": "2024-07-14T03:31:05.237Z"
   },
   {
    "duration": 3,
    "start_time": "2024-07-14T03:31:05.253Z"
   },
   {
    "duration": 16,
    "start_time": "2024-07-14T03:31:05.257Z"
   },
   {
    "duration": 22,
    "start_time": "2024-07-14T03:31:05.274Z"
   },
   {
    "duration": 5,
    "start_time": "2024-07-14T03:31:05.297Z"
   },
   {
    "duration": 19,
    "start_time": "2024-07-14T03:31:05.303Z"
   },
   {
    "duration": 10,
    "start_time": "2024-07-14T03:31:05.323Z"
   },
   {
    "duration": 21,
    "start_time": "2024-07-14T03:31:05.334Z"
   },
   {
    "duration": 26,
    "start_time": "2024-07-14T03:31:05.356Z"
   },
   {
    "duration": 12,
    "start_time": "2024-07-14T03:31:05.383Z"
   },
   {
    "duration": 11,
    "start_time": "2024-07-14T03:31:09.984Z"
   },
   {
    "duration": 10,
    "start_time": "2024-07-14T03:34:55.079Z"
   },
   {
    "duration": 441,
    "start_time": "2024-07-14T04:11:34.493Z"
   },
   {
    "duration": 18,
    "start_time": "2024-07-14T04:11:34.936Z"
   },
   {
    "duration": 11,
    "start_time": "2024-07-14T04:11:34.955Z"
   },
   {
    "duration": 7,
    "start_time": "2024-07-14T04:11:34.968Z"
   },
   {
    "duration": 41,
    "start_time": "2024-07-14T04:11:34.976Z"
   },
   {
    "duration": 3,
    "start_time": "2024-07-14T04:11:35.019Z"
   },
   {
    "duration": 20,
    "start_time": "2024-07-14T04:11:35.023Z"
   },
   {
    "duration": 16,
    "start_time": "2024-07-14T04:11:35.044Z"
   },
   {
    "duration": 5,
    "start_time": "2024-07-14T04:11:35.061Z"
   },
   {
    "duration": 4,
    "start_time": "2024-07-14T04:11:35.068Z"
   },
   {
    "duration": 26,
    "start_time": "2024-07-14T04:11:35.073Z"
   },
   {
    "duration": 7,
    "start_time": "2024-07-14T04:11:35.100Z"
   },
   {
    "duration": 10,
    "start_time": "2024-07-14T04:11:35.108Z"
   },
   {
    "duration": 15,
    "start_time": "2024-07-14T04:11:35.119Z"
   },
   {
    "duration": 26,
    "start_time": "2024-07-14T04:11:35.135Z"
   },
   {
    "duration": 15,
    "start_time": "2024-07-14T04:11:35.162Z"
   },
   {
    "duration": 3,
    "start_time": "2024-07-14T04:11:35.178Z"
   },
   {
    "duration": 29,
    "start_time": "2024-07-14T04:11:35.183Z"
   },
   {
    "duration": 6,
    "start_time": "2024-07-14T04:11:35.213Z"
   },
   {
    "duration": 3,
    "start_time": "2024-07-14T04:11:35.220Z"
   },
   {
    "duration": 8,
    "start_time": "2024-07-14T04:11:35.224Z"
   },
   {
    "duration": 9,
    "start_time": "2024-07-14T04:11:35.233Z"
   },
   {
    "duration": 10,
    "start_time": "2024-07-14T04:11:35.243Z"
   },
   {
    "duration": 48,
    "start_time": "2024-07-14T04:11:35.254Z"
   },
   {
    "duration": 11,
    "start_time": "2024-07-14T04:11:35.303Z"
   },
   {
    "duration": 467,
    "start_time": "2024-07-14T06:15:45.337Z"
   },
   {
    "duration": 19,
    "start_time": "2024-07-14T06:15:45.805Z"
   },
   {
    "duration": 12,
    "start_time": "2024-07-14T06:15:45.825Z"
   },
   {
    "duration": 7,
    "start_time": "2024-07-14T06:15:45.839Z"
   },
   {
    "duration": 31,
    "start_time": "2024-07-14T06:15:45.847Z"
   },
   {
    "duration": 3,
    "start_time": "2024-07-14T06:15:45.879Z"
   },
   {
    "duration": 23,
    "start_time": "2024-07-14T06:15:45.883Z"
   },
   {
    "duration": 3,
    "start_time": "2024-07-14T06:15:45.908Z"
   },
   {
    "duration": 9,
    "start_time": "2024-07-14T06:15:45.913Z"
   },
   {
    "duration": 3,
    "start_time": "2024-07-14T06:15:45.925Z"
   },
   {
    "duration": 28,
    "start_time": "2024-07-14T06:15:45.929Z"
   },
   {
    "duration": 7,
    "start_time": "2024-07-14T06:15:45.958Z"
   },
   {
    "duration": 69,
    "start_time": "2024-07-14T06:15:45.966Z"
   },
   {
    "duration": 90,
    "start_time": "2024-07-14T06:15:46.037Z"
   },
   {
    "duration": 64,
    "start_time": "2024-07-14T06:15:46.129Z"
   },
   {
    "duration": 13,
    "start_time": "2024-07-14T06:15:46.195Z"
   },
   {
    "duration": 3,
    "start_time": "2024-07-14T06:15:46.210Z"
   },
   {
    "duration": 19,
    "start_time": "2024-07-14T06:15:46.214Z"
   },
   {
    "duration": 8,
    "start_time": "2024-07-14T06:15:46.234Z"
   },
   {
    "duration": 12,
    "start_time": "2024-07-14T06:15:46.244Z"
   },
   {
    "duration": 40,
    "start_time": "2024-07-14T06:15:46.257Z"
   },
   {
    "duration": 27,
    "start_time": "2024-07-14T06:15:46.298Z"
   },
   {
    "duration": 14,
    "start_time": "2024-07-14T06:15:46.326Z"
   },
   {
    "duration": 45,
    "start_time": "2024-07-14T06:15:46.341Z"
   },
   {
    "duration": 9,
    "start_time": "2024-07-14T06:15:46.388Z"
   },
   {
    "duration": 72,
    "start_time": "2024-07-18T15:12:49.334Z"
   },
   {
    "duration": 66,
    "start_time": "2024-07-18T15:13:02.509Z"
   },
   {
    "duration": 55,
    "start_time": "2024-07-18T15:13:12.301Z"
   },
   {
    "duration": 73,
    "start_time": "2024-07-18T15:13:51.560Z"
   },
   {
    "duration": 533,
    "start_time": "2024-07-18T15:14:10.766Z"
   },
   {
    "duration": 21,
    "start_time": "2024-07-18T15:14:11.301Z"
   },
   {
    "duration": 15,
    "start_time": "2024-07-18T15:14:11.323Z"
   },
   {
    "duration": 11,
    "start_time": "2024-07-18T15:14:11.340Z"
   },
   {
    "duration": 41,
    "start_time": "2024-07-18T15:14:11.352Z"
   },
   {
    "duration": 4,
    "start_time": "2024-07-18T15:14:11.395Z"
   },
   {
    "duration": 33,
    "start_time": "2024-07-18T15:14:11.400Z"
   },
   {
    "duration": 5,
    "start_time": "2024-07-18T15:14:11.434Z"
   },
   {
    "duration": 9,
    "start_time": "2024-07-18T15:14:11.440Z"
   },
   {
    "duration": 4,
    "start_time": "2024-07-18T15:14:11.453Z"
   },
   {
    "duration": 38,
    "start_time": "2024-07-18T15:14:11.461Z"
   },
   {
    "duration": 10,
    "start_time": "2024-07-18T15:14:11.501Z"
   },
   {
    "duration": 4,
    "start_time": "2024-07-18T15:14:11.512Z"
   },
   {
    "duration": 11,
    "start_time": "2024-07-18T15:14:11.517Z"
   },
   {
    "duration": 40,
    "start_time": "2024-07-18T15:14:11.530Z"
   },
   {
    "duration": 16,
    "start_time": "2024-07-18T15:14:11.571Z"
   },
   {
    "duration": 3,
    "start_time": "2024-07-18T15:14:11.589Z"
   },
   {
    "duration": 16,
    "start_time": "2024-07-18T15:14:11.594Z"
   },
   {
    "duration": 5,
    "start_time": "2024-07-18T15:14:11.612Z"
   },
   {
    "duration": 4,
    "start_time": "2024-07-18T15:14:11.618Z"
   },
   {
    "duration": 9,
    "start_time": "2024-07-18T15:14:11.623Z"
   },
   {
    "duration": 36,
    "start_time": "2024-07-18T15:14:11.633Z"
   },
   {
    "duration": 12,
    "start_time": "2024-07-18T15:14:11.670Z"
   },
   {
    "duration": 88,
    "start_time": "2024-07-18T15:14:11.683Z"
   },
   {
    "duration": 11,
    "start_time": "2024-07-18T15:14:11.773Z"
   },
   {
    "duration": 55,
    "start_time": "2024-07-18T15:14:11.786Z"
   }
  ],
  "colab": {
   "provenance": []
  },
  "kernelspec": {
   "display_name": "Python 3 (ipykernel)",
   "language": "python",
   "name": "python3"
  },
  "language_info": {
   "codemirror_mode": {
    "name": "ipython",
    "version": 3
   },
   "file_extension": ".py",
   "mimetype": "text/x-python",
   "name": "python",
   "nbconvert_exporter": "python",
   "pygments_lexer": "ipython3",
   "version": "3.9.5"
  },
  "toc": {
   "base_numbering": 1,
   "nav_menu": {},
   "number_sections": true,
   "sideBar": true,
   "skip_h1_title": true,
   "title_cell": "Table of Contents",
   "title_sidebar": "Contents",
   "toc_cell": false,
   "toc_position": {},
   "toc_section_display": true,
   "toc_window_display": false
  }
 },
 "nbformat": 4,
 "nbformat_minor": 5
}
