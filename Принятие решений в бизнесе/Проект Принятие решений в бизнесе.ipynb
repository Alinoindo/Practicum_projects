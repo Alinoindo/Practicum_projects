{
 "cells": [
  {
   "cell_type": "markdown",
   "metadata": {},
   "source": [
    "<div style=\"border:solid Chocolate 2px; padding: 40px\">\n",
    "\n",
    "<b>Привет!</b>\n",
    "\n",
    "Меня зовут Дмитрий Михаленко, я буду ревьюером твоего проекта. Если ты не против, то предлагаю построить наше общение на \"ты\" ;) Если удобнее на \"вы\", то нет проблем, только скажи об этом. \n",
    "\n",
    "Ниже в работе ты найдешь мои комментарии - **пожалуйста, не перемещай, не изменяй и не удаляй их**.\n",
    "    \n",
    "Для наглядности я буду использовать цветовую разметку:\n",
    "<font color='green'>зеленого</font>, <font color='gold'>желтого</font> и <font color='red'>красного</font> цветов. Сейчас объясню, что они значат:\n",
    "\n",
    "<br/>\n",
    "\n",
    "<div class=\"alert alert-success\">\n",
    "<h2> Комментарий ревьюера <a class=\"tocSkip\"> </h2>\n",
    "\n",
    "<b>Все супер!👍:</b> Решение на этом шаге является полностью правильным.\n",
    "</div>\n",
    "\n",
    "<br/>\n",
    "\n",
    "<div class=\"alert alert-warning\">\n",
    "    <h2> Комментарий ревьюера <a class=\"tocSkip\"> </h2>\n",
    "    \n",
    "<b>Небольшие замечания и рекомендации💡:</b> Решение на этом шаге может стать еще лучше, если внести небольшие коррективы.\n",
    "Но настаивать я не буду.\n",
    "</div>\n",
    "\n",
    "\n",
    "<br/>\n",
    "<div class=\"alert alert-block alert-danger\">\n",
    "<h2> Комментарий ревьюера <a class=\"tocSkip\"></h2>\n",
    "\n",
    "    \n",
    "<b>На доработку🤔:</b>\n",
    "Для правильного решения задачи на этом шаге необходимо внести правки. Напоминаю, что проект не может быть принят, без их отработки.\n",
    "</div>\n",
    "\n",
    "Для продуктивной работы прошу: **если ты что-то меняешь в проекте или отвечаешь на мои комментарии — пиши об этом**\n",
    "Мне будет легче отследить изменения, если ты тоже выделишь свои комментарии:\n",
    "    \n",
    "<div class=\"alert alert-info\"> <b>Комментарий студента:</b> Например, вот так.</div>\n",
    "\n",
    "Всё это поможет выполнить повторную проверку твоего проекта оперативнее. \n",
    "        \n",
    "Увидев у тебя ошибку, в первый раз я лишь укажу на ее наличие и дам тебе возможность самому найти и исправить ее. На реальной работе твой начальник будет поступать так же, а я пытаюсь подготовить тебя именно к работе аналитиком. Но если ты пока не справишься с такой задачей - при следующей проверке я дам более точную подсказку."
   ]
  },
  {
   "cell_type": "markdown",
   "metadata": {},
   "source": [
    "# Принятие решений в бизнесе"
   ]
  },
  {
   "cell_type": "markdown",
   "metadata": {},
   "source": [
    "**Описание проекта**"
   ]
  },
  {
   "cell_type": "markdown",
   "metadata": {},
   "source": [
    "Мы — аналитик крупного интернет-магазина. Вместе с отделом маркетинга мы подготовили список гипотез для увеличения выручки."
   ]
  },
  {
   "cell_type": "markdown",
   "metadata": {},
   "source": [
    "**Описание данных**\n",
    "\n",
    "**Данные для первой части**\n",
    "\n",
    "Файл `/datasets/hypothesis.csv`.\n",
    "- `Hypothesis` — краткое описание гипотезы;\n",
    "- `Reach` — охват пользователей по 10-балльной шкале;\n",
    "- `Impact` — влияние на пользователей по 10-балльной шкале;\n",
    "- `Confidence` — уверенность в гипотезе по 10-балльной шкале;\n",
    "- `Efforts` — затраты ресурсов на проверку гипотезы по 10-балльной шкале. Чем больше значение `Efforts`, тем дороже проверка гипотезы."
   ]
  },
  {
   "cell_type": "markdown",
   "metadata": {},
   "source": [
    "**Данные для второй части**\n",
    "\n",
    "Файл `/datasets/orders.csv`.\n",
    "- `transactionId` — идентификатор заказа;\n",
    "- `visitorId` — идентификатор пользователя, совершившего заказ;\n",
    "- `date` — дата, когда был совершён заказ;\n",
    "- `revenue` — выручка заказа;\n",
    "- `group` — группа A/B-теста, в которую попал заказ.\n",
    "\n",
    "\n",
    "Файл `/datasets/visitors.csv`.\n",
    "- `date` — дата;\n",
    "- `group` — группа A/B-теста;\n",
    "- `visitors` — количество пользователей в указанную дату в указанной группе A/B-теста"
   ]
  },
  {
   "cell_type": "markdown",
   "metadata": {},
   "source": [
    "**Цель проекта**\n",
    "\n",
    "Приоритизировать гипотезы, запустить A/B-тест и проанализировать результаты."
   ]
  },
  {
   "cell_type": "markdown",
   "metadata": {},
   "source": [
    "<div class=\"alert alert-success\">\n",
    "<h2> Комментарий ревьюера v1 <a class=\"tocSkip\"> </h2>\n",
    "\n",
    "<b>Все супер!👍:</b> Замечательное введение! Есть цель, исходные данные и план работы."
   ]
  },
  {
   "cell_type": "markdown",
   "metadata": {},
   "source": [
    "## Часть. Приоритизация гипотез.\n",
    "В файле `/datasets/hypothesis.csv` 9 гипотез по увеличению выручки интернет-магазина с указанными параметрами `Reach`, `Impact`, `Confidence`, `Effort`.\n",
    "\n",
    "**Задача**\n",
    "\n",
    "- Примените фреймворк `ICE` для приоритизации гипотез. Отсортируйте их по убыванию приоритета.\n",
    "- Примените фреймворк `RICE` для приоритизации гипотез. Отсортируйте их по убыванию приоритета.\n",
    "- Укажите, как изменилась приоритизация гипотез при применении `RICE` вместо `ICE`. Объясните, почему так произошло."
   ]
  },
  {
   "cell_type": "code",
   "execution_count": 1,
   "metadata": {},
   "outputs": [],
   "source": [
    "import pandas as pd # импортируем библиотеки\n",
    "import scipy.stats as stats\n",
    "import datetime as dt\n",
    "import numpy as np\n",
    "from matplotlib import pyplot as plt\n",
    "from pandas.plotting import register_matplotlib_converters\n",
    "register_matplotlib_converters() "
   ]
  },
  {
   "cell_type": "code",
   "execution_count": 2,
   "metadata": {},
   "outputs": [
    {
     "data": {
      "text/html": [
       "<div>\n",
       "<style scoped>\n",
       "    .dataframe tbody tr th:only-of-type {\n",
       "        vertical-align: middle;\n",
       "    }\n",
       "\n",
       "    .dataframe tbody tr th {\n",
       "        vertical-align: top;\n",
       "    }\n",
       "\n",
       "    .dataframe thead th {\n",
       "        text-align: right;\n",
       "    }\n",
       "</style>\n",
       "<table border=\"1\" class=\"dataframe\">\n",
       "  <thead>\n",
       "    <tr style=\"text-align: right;\">\n",
       "      <th></th>\n",
       "      <th>Hypothesis</th>\n",
       "      <th>Reach</th>\n",
       "      <th>Impact</th>\n",
       "      <th>Confidence</th>\n",
       "      <th>Efforts</th>\n",
       "    </tr>\n",
       "  </thead>\n",
       "  <tbody>\n",
       "    <tr>\n",
       "      <th>0</th>\n",
       "      <td>Добавить два новых канала привлечения трафика,...</td>\n",
       "      <td>3</td>\n",
       "      <td>10</td>\n",
       "      <td>8</td>\n",
       "      <td>6</td>\n",
       "    </tr>\n",
       "    <tr>\n",
       "      <th>1</th>\n",
       "      <td>Запустить собственную службу доставки, что сок...</td>\n",
       "      <td>2</td>\n",
       "      <td>5</td>\n",
       "      <td>4</td>\n",
       "      <td>10</td>\n",
       "    </tr>\n",
       "    <tr>\n",
       "      <th>2</th>\n",
       "      <td>Добавить блоки рекомендаций товаров на сайт ин...</td>\n",
       "      <td>8</td>\n",
       "      <td>3</td>\n",
       "      <td>7</td>\n",
       "      <td>3</td>\n",
       "    </tr>\n",
       "    <tr>\n",
       "      <th>3</th>\n",
       "      <td>Изменить структура категорий, что увеличит кон...</td>\n",
       "      <td>8</td>\n",
       "      <td>3</td>\n",
       "      <td>3</td>\n",
       "      <td>8</td>\n",
       "    </tr>\n",
       "    <tr>\n",
       "      <th>4</th>\n",
       "      <td>Изменить цвет фона главной страницы, чтобы уве...</td>\n",
       "      <td>3</td>\n",
       "      <td>1</td>\n",
       "      <td>1</td>\n",
       "      <td>1</td>\n",
       "    </tr>\n",
       "    <tr>\n",
       "      <th>5</th>\n",
       "      <td>Добавить страницу отзывов клиентов о магазине,...</td>\n",
       "      <td>3</td>\n",
       "      <td>2</td>\n",
       "      <td>2</td>\n",
       "      <td>3</td>\n",
       "    </tr>\n",
       "    <tr>\n",
       "      <th>6</th>\n",
       "      <td>Показать на главной странице баннеры с актуаль...</td>\n",
       "      <td>5</td>\n",
       "      <td>3</td>\n",
       "      <td>8</td>\n",
       "      <td>3</td>\n",
       "    </tr>\n",
       "    <tr>\n",
       "      <th>7</th>\n",
       "      <td>Добавить форму подписки на все основные страни...</td>\n",
       "      <td>10</td>\n",
       "      <td>7</td>\n",
       "      <td>8</td>\n",
       "      <td>5</td>\n",
       "    </tr>\n",
       "    <tr>\n",
       "      <th>8</th>\n",
       "      <td>Запустить акцию, дающую скидку на товар в день...</td>\n",
       "      <td>1</td>\n",
       "      <td>9</td>\n",
       "      <td>9</td>\n",
       "      <td>5</td>\n",
       "    </tr>\n",
       "  </tbody>\n",
       "</table>\n",
       "</div>"
      ],
      "text/plain": [
       "                                          Hypothesis  Reach  Impact  \\\n",
       "0  Добавить два новых канала привлечения трафика,...      3      10   \n",
       "1  Запустить собственную службу доставки, что сок...      2       5   \n",
       "2  Добавить блоки рекомендаций товаров на сайт ин...      8       3   \n",
       "3  Изменить структура категорий, что увеличит кон...      8       3   \n",
       "4  Изменить цвет фона главной страницы, чтобы уве...      3       1   \n",
       "5  Добавить страницу отзывов клиентов о магазине,...      3       2   \n",
       "6  Показать на главной странице баннеры с актуаль...      5       3   \n",
       "7  Добавить форму подписки на все основные страни...     10       7   \n",
       "8  Запустить акцию, дающую скидку на товар в день...      1       9   \n",
       "\n",
       "   Confidence  Efforts  \n",
       "0           8        6  \n",
       "1           4       10  \n",
       "2           7        3  \n",
       "3           3        8  \n",
       "4           1        1  \n",
       "5           2        3  \n",
       "6           8        3  \n",
       "7           8        5  \n",
       "8           9        5  "
      ]
     },
     "metadata": {},
     "output_type": "display_data"
    },
    {
     "data": {
      "text/html": [
       "<div>\n",
       "<style scoped>\n",
       "    .dataframe tbody tr th:only-of-type {\n",
       "        vertical-align: middle;\n",
       "    }\n",
       "\n",
       "    .dataframe tbody tr th {\n",
       "        vertical-align: top;\n",
       "    }\n",
       "\n",
       "    .dataframe thead th {\n",
       "        text-align: right;\n",
       "    }\n",
       "</style>\n",
       "<table border=\"1\" class=\"dataframe\">\n",
       "  <thead>\n",
       "    <tr style=\"text-align: right;\">\n",
       "      <th></th>\n",
       "      <th>transactionId</th>\n",
       "      <th>visitorId</th>\n",
       "      <th>date</th>\n",
       "      <th>revenue</th>\n",
       "      <th>group</th>\n",
       "    </tr>\n",
       "  </thead>\n",
       "  <tbody>\n",
       "    <tr>\n",
       "      <th>0</th>\n",
       "      <td>3667963787</td>\n",
       "      <td>3312258926</td>\n",
       "      <td>2019-08-15</td>\n",
       "      <td>1650</td>\n",
       "      <td>B</td>\n",
       "    </tr>\n",
       "    <tr>\n",
       "      <th>1</th>\n",
       "      <td>2804400009</td>\n",
       "      <td>3642806036</td>\n",
       "      <td>2019-08-15</td>\n",
       "      <td>730</td>\n",
       "      <td>B</td>\n",
       "    </tr>\n",
       "    <tr>\n",
       "      <th>2</th>\n",
       "      <td>2961555356</td>\n",
       "      <td>4069496402</td>\n",
       "      <td>2019-08-15</td>\n",
       "      <td>400</td>\n",
       "      <td>A</td>\n",
       "    </tr>\n",
       "    <tr>\n",
       "      <th>3</th>\n",
       "      <td>3797467345</td>\n",
       "      <td>1196621759</td>\n",
       "      <td>2019-08-15</td>\n",
       "      <td>9759</td>\n",
       "      <td>B</td>\n",
       "    </tr>\n",
       "    <tr>\n",
       "      <th>4</th>\n",
       "      <td>2282983706</td>\n",
       "      <td>2322279887</td>\n",
       "      <td>2019-08-15</td>\n",
       "      <td>2308</td>\n",
       "      <td>B</td>\n",
       "    </tr>\n",
       "  </tbody>\n",
       "</table>\n",
       "</div>"
      ],
      "text/plain": [
       "   transactionId   visitorId        date  revenue group\n",
       "0     3667963787  3312258926  2019-08-15     1650     B\n",
       "1     2804400009  3642806036  2019-08-15      730     B\n",
       "2     2961555356  4069496402  2019-08-15      400     A\n",
       "3     3797467345  1196621759  2019-08-15     9759     B\n",
       "4     2282983706  2322279887  2019-08-15     2308     B"
      ]
     },
     "metadata": {},
     "output_type": "display_data"
    },
    {
     "data": {
      "text/html": [
       "<div>\n",
       "<style scoped>\n",
       "    .dataframe tbody tr th:only-of-type {\n",
       "        vertical-align: middle;\n",
       "    }\n",
       "\n",
       "    .dataframe tbody tr th {\n",
       "        vertical-align: top;\n",
       "    }\n",
       "\n",
       "    .dataframe thead th {\n",
       "        text-align: right;\n",
       "    }\n",
       "</style>\n",
       "<table border=\"1\" class=\"dataframe\">\n",
       "  <thead>\n",
       "    <tr style=\"text-align: right;\">\n",
       "      <th></th>\n",
       "      <th>date</th>\n",
       "      <th>group</th>\n",
       "      <th>visitors</th>\n",
       "    </tr>\n",
       "  </thead>\n",
       "  <tbody>\n",
       "    <tr>\n",
       "      <th>0</th>\n",
       "      <td>2019-08-01</td>\n",
       "      <td>A</td>\n",
       "      <td>719</td>\n",
       "    </tr>\n",
       "    <tr>\n",
       "      <th>1</th>\n",
       "      <td>2019-08-02</td>\n",
       "      <td>A</td>\n",
       "      <td>619</td>\n",
       "    </tr>\n",
       "    <tr>\n",
       "      <th>2</th>\n",
       "      <td>2019-08-03</td>\n",
       "      <td>A</td>\n",
       "      <td>507</td>\n",
       "    </tr>\n",
       "    <tr>\n",
       "      <th>3</th>\n",
       "      <td>2019-08-04</td>\n",
       "      <td>A</td>\n",
       "      <td>717</td>\n",
       "    </tr>\n",
       "    <tr>\n",
       "      <th>4</th>\n",
       "      <td>2019-08-05</td>\n",
       "      <td>A</td>\n",
       "      <td>756</td>\n",
       "    </tr>\n",
       "  </tbody>\n",
       "</table>\n",
       "</div>"
      ],
      "text/plain": [
       "         date group  visitors\n",
       "0  2019-08-01     A       719\n",
       "1  2019-08-02     A       619\n",
       "2  2019-08-03     A       507\n",
       "3  2019-08-04     A       717\n",
       "4  2019-08-05     A       756"
      ]
     },
     "metadata": {},
     "output_type": "display_data"
    }
   ],
   "source": [
    "hypothesis, orders, visitors = (\n",
    "    pd.read_csv('/datasets/hypothesis.csv'), # 9 гипотез\n",
    "    pd.read_csv('/datasets/orders.csv'), # заказы\n",
    "    pd.read_csv('/datasets/visitors.csv'), # посетители\n",
    ")\n",
    "\n",
    "display(hypothesis)\n",
    "display(orders.head())\n",
    "display(visitors.head())"
   ]
  },
  {
   "cell_type": "code",
   "execution_count": 3,
   "metadata": {},
   "outputs": [],
   "source": [
    "# приведем названия столбцов к нижнему регистру\n",
    "hypothesis.columns = hypothesis.columns.str.lower()\n",
    "orders.columns = orders.columns.str.lower()"
   ]
  },
  {
   "cell_type": "code",
   "execution_count": 4,
   "metadata": {},
   "outputs": [],
   "source": [
    "# добавим к двум столбцам датафрейма orders нижнее подчеркивание\n",
    "orders.rename(columns={'transactionid': 'transaction_id', 'visitorid': 'visitor_id'}, inplace=True)"
   ]
  },
  {
   "cell_type": "code",
   "execution_count": 5,
   "metadata": {},
   "outputs": [],
   "source": [
    "# преобразуем данные о времени\n",
    "orders['date'] = pd.to_datetime(orders['date'])\n",
    "visitors['date'] = pd.to_datetime(visitors['date'])"
   ]
  },
  {
   "cell_type": "code",
   "execution_count": 6,
   "metadata": {},
   "outputs": [
    {
     "data": {
      "text/plain": [
       "transaction_id    0\n",
       "visitor_id        0\n",
       "date              0\n",
       "revenue           0\n",
       "group             0\n",
       "dtype: int64"
      ]
     },
     "execution_count": 6,
     "metadata": {},
     "output_type": "execute_result"
    }
   ],
   "source": [
    "# ищем пропуски\n",
    "orders.isna().sum()"
   ]
  },
  {
   "cell_type": "code",
   "execution_count": 7,
   "metadata": {},
   "outputs": [
    {
     "data": {
      "text/plain": [
       "date        0\n",
       "group       0\n",
       "visitors    0\n",
       "dtype: int64"
      ]
     },
     "execution_count": 7,
     "metadata": {},
     "output_type": "execute_result"
    }
   ],
   "source": [
    "visitors.isna().sum()"
   ]
  },
  {
   "cell_type": "code",
   "execution_count": 8,
   "metadata": {},
   "outputs": [
    {
     "data": {
      "text/plain": [
       "0"
      ]
     },
     "execution_count": 8,
     "metadata": {},
     "output_type": "execute_result"
    }
   ],
   "source": [
    "# ищем дубликаты\n",
    "orders.duplicated().sum()"
   ]
  },
  {
   "cell_type": "code",
   "execution_count": 9,
   "metadata": {},
   "outputs": [
    {
     "data": {
      "text/plain": [
       "0"
      ]
     },
     "execution_count": 9,
     "metadata": {},
     "output_type": "execute_result"
    }
   ],
   "source": [
    "visitors.duplicated().sum()"
   ]
  },
  {
   "cell_type": "code",
   "execution_count": 10,
   "metadata": {},
   "outputs": [
    {
     "data": {
      "text/plain": [
       "transaction_id    0\n",
       "visitor_id        0\n",
       "date              0\n",
       "revenue           0\n",
       "group             0\n",
       "dtype: int64"
      ]
     },
     "execution_count": 10,
     "metadata": {},
     "output_type": "execute_result"
    }
   ],
   "source": [
    "# ищем неявные дубликаты\n",
    "orders[orders.duplicated(['transaction_id', 'visitor_id', 'date', 'revenue', 'group'])].count()"
   ]
  },
  {
   "cell_type": "code",
   "execution_count": 11,
   "metadata": {},
   "outputs": [
    {
     "data": {
      "text/plain": [
       "date        0\n",
       "group       0\n",
       "visitors    0\n",
       "dtype: int64"
      ]
     },
     "execution_count": 11,
     "metadata": {},
     "output_type": "execute_result"
    }
   ],
   "source": [
    "visitors[visitors.duplicated(['date', 'group', 'visitors'])].count()"
   ]
  },
  {
   "cell_type": "code",
   "execution_count": 12,
   "metadata": {},
   "outputs": [
    {
     "name": "stdout",
     "output_type": "stream",
     "text": [
      "<class 'pandas.core.frame.DataFrame'>\n",
      "RangeIndex: 9 entries, 0 to 8\n",
      "Data columns (total 5 columns):\n",
      " #   Column      Non-Null Count  Dtype \n",
      "---  ------      --------------  ----- \n",
      " 0   hypothesis  9 non-null      object\n",
      " 1   reach       9 non-null      int64 \n",
      " 2   impact      9 non-null      int64 \n",
      " 3   confidence  9 non-null      int64 \n",
      " 4   efforts     9 non-null      int64 \n",
      "dtypes: int64(4), object(1)\n",
      "memory usage: 488.0+ bytes\n",
      "<class 'pandas.core.frame.DataFrame'>\n",
      "RangeIndex: 1197 entries, 0 to 1196\n",
      "Data columns (total 5 columns):\n",
      " #   Column          Non-Null Count  Dtype         \n",
      "---  ------          --------------  -----         \n",
      " 0   transaction_id  1197 non-null   int64         \n",
      " 1   visitor_id      1197 non-null   int64         \n",
      " 2   date            1197 non-null   datetime64[ns]\n",
      " 3   revenue         1197 non-null   int64         \n",
      " 4   group           1197 non-null   object        \n",
      "dtypes: datetime64[ns](1), int64(3), object(1)\n",
      "memory usage: 46.9+ KB\n",
      "<class 'pandas.core.frame.DataFrame'>\n",
      "RangeIndex: 62 entries, 0 to 61\n",
      "Data columns (total 3 columns):\n",
      " #   Column    Non-Null Count  Dtype         \n",
      "---  ------    --------------  -----         \n",
      " 0   date      62 non-null     datetime64[ns]\n",
      " 1   group     62 non-null     object        \n",
      " 2   visitors  62 non-null     int64         \n",
      "dtypes: datetime64[ns](1), int64(1), object(1)\n",
      "memory usage: 1.6+ KB\n"
     ]
    }
   ],
   "source": [
    "hypothesis.info()\n",
    "orders.info()\n",
    "visitors.info()"
   ]
  },
  {
   "cell_type": "markdown",
   "metadata": {},
   "source": [
    "Вывод:\n",
    "- датафрейм `hypothesis` содержит 9 записей, `orders` - 1197, `visitors` - 62\n",
    "- провели предобработку данных(привели названия столбцов к нижнему регистру, разделили названия с id двух столбцов нижним подчеркиванием)\n",
    "- изменили тип столбцов, содержащие дату\n",
    "- пропусков, явных и неявных дубликатов нет."
   ]
  },
  {
   "cell_type": "markdown",
   "metadata": {},
   "source": [
    "<div class=\"alert alert-success\">\n",
    "<h2> Комментарий ревьюера v1 <a class=\"tocSkip\"> </h2>\n",
    "\n",
    "<b>Все супер!👍:</b> Последовательная и качественная предобработка исходных датафреймов, молодец!"
   ]
  },
  {
   "cell_type": "markdown",
   "metadata": {},
   "source": [
    "**Примените фреймворк `ICE` для приоритизации гипотез. Отсортируйте их по убыванию приоритета.**"
   ]
  },
  {
   "cell_type": "code",
   "execution_count": 13,
   "metadata": {},
   "outputs": [],
   "source": [
    "# устанавливаем None для отображения полной ширины\n",
    "pd.set_option('display.max_colwidth', None)"
   ]
  },
  {
   "cell_type": "code",
   "execution_count": 14,
   "metadata": {},
   "outputs": [
    {
     "data": {
      "text/html": [
       "<div>\n",
       "<style scoped>\n",
       "    .dataframe tbody tr th:only-of-type {\n",
       "        vertical-align: middle;\n",
       "    }\n",
       "\n",
       "    .dataframe tbody tr th {\n",
       "        vertical-align: top;\n",
       "    }\n",
       "\n",
       "    .dataframe thead th {\n",
       "        text-align: right;\n",
       "    }\n",
       "</style>\n",
       "<table border=\"1\" class=\"dataframe\">\n",
       "  <thead>\n",
       "    <tr style=\"text-align: right;\">\n",
       "      <th></th>\n",
       "      <th>hypothesis</th>\n",
       "      <th>reach</th>\n",
       "      <th>impact</th>\n",
       "      <th>confidence</th>\n",
       "      <th>efforts</th>\n",
       "      <th>ice_score</th>\n",
       "    </tr>\n",
       "  </thead>\n",
       "  <tbody>\n",
       "    <tr>\n",
       "      <th>8</th>\n",
       "      <td>Запустить акцию, дающую скидку на товар в день рождения</td>\n",
       "      <td>1</td>\n",
       "      <td>9</td>\n",
       "      <td>9</td>\n",
       "      <td>5</td>\n",
       "      <td>16.20</td>\n",
       "    </tr>\n",
       "    <tr>\n",
       "      <th>0</th>\n",
       "      <td>Добавить два новых канала привлечения трафика, что позволит привлекать на 30% больше пользователей</td>\n",
       "      <td>3</td>\n",
       "      <td>10</td>\n",
       "      <td>8</td>\n",
       "      <td>6</td>\n",
       "      <td>13.33</td>\n",
       "    </tr>\n",
       "    <tr>\n",
       "      <th>7</th>\n",
       "      <td>Добавить форму подписки на все основные страницы, чтобы собрать базу клиентов для email-рассылок</td>\n",
       "      <td>10</td>\n",
       "      <td>7</td>\n",
       "      <td>8</td>\n",
       "      <td>5</td>\n",
       "      <td>11.20</td>\n",
       "    </tr>\n",
       "    <tr>\n",
       "      <th>6</th>\n",
       "      <td>Показать на главной странице баннеры с актуальными акциями и распродажами, чтобы увеличить конверсию</td>\n",
       "      <td>5</td>\n",
       "      <td>3</td>\n",
       "      <td>8</td>\n",
       "      <td>3</td>\n",
       "      <td>8.00</td>\n",
       "    </tr>\n",
       "    <tr>\n",
       "      <th>2</th>\n",
       "      <td>Добавить блоки рекомендаций товаров на сайт интернет магазина, чтобы повысить конверсию и средний чек заказа</td>\n",
       "      <td>8</td>\n",
       "      <td>3</td>\n",
       "      <td>7</td>\n",
       "      <td>3</td>\n",
       "      <td>7.00</td>\n",
       "    </tr>\n",
       "    <tr>\n",
       "      <th>1</th>\n",
       "      <td>Запустить собственную службу доставки, что сократит срок доставки заказов</td>\n",
       "      <td>2</td>\n",
       "      <td>5</td>\n",
       "      <td>4</td>\n",
       "      <td>10</td>\n",
       "      <td>2.00</td>\n",
       "    </tr>\n",
       "    <tr>\n",
       "      <th>5</th>\n",
       "      <td>Добавить страницу отзывов клиентов о магазине, что позволит увеличить количество заказов</td>\n",
       "      <td>3</td>\n",
       "      <td>2</td>\n",
       "      <td>2</td>\n",
       "      <td>3</td>\n",
       "      <td>1.33</td>\n",
       "    </tr>\n",
       "    <tr>\n",
       "      <th>3</th>\n",
       "      <td>Изменить структура категорий, что увеличит конверсию, т.к. пользователи быстрее найдут нужный товар</td>\n",
       "      <td>8</td>\n",
       "      <td>3</td>\n",
       "      <td>3</td>\n",
       "      <td>8</td>\n",
       "      <td>1.12</td>\n",
       "    </tr>\n",
       "    <tr>\n",
       "      <th>4</th>\n",
       "      <td>Изменить цвет фона главной страницы, чтобы увеличить вовлеченность пользователей</td>\n",
       "      <td>3</td>\n",
       "      <td>1</td>\n",
       "      <td>1</td>\n",
       "      <td>1</td>\n",
       "      <td>1.00</td>\n",
       "    </tr>\n",
       "  </tbody>\n",
       "</table>\n",
       "</div>"
      ],
      "text/plain": [
       "                                                                                                     hypothesis  \\\n",
       "8                                                       Запустить акцию, дающую скидку на товар в день рождения   \n",
       "0            Добавить два новых канала привлечения трафика, что позволит привлекать на 30% больше пользователей   \n",
       "7              Добавить форму подписки на все основные страницы, чтобы собрать базу клиентов для email-рассылок   \n",
       "6          Показать на главной странице баннеры с актуальными акциями и распродажами, чтобы увеличить конверсию   \n",
       "2  Добавить блоки рекомендаций товаров на сайт интернет магазина, чтобы повысить конверсию и средний чек заказа   \n",
       "1                                     Запустить собственную службу доставки, что сократит срок доставки заказов   \n",
       "5                      Добавить страницу отзывов клиентов о магазине, что позволит увеличить количество заказов   \n",
       "3           Изменить структура категорий, что увеличит конверсию, т.к. пользователи быстрее найдут нужный товар   \n",
       "4                              Изменить цвет фона главной страницы, чтобы увеличить вовлеченность пользователей   \n",
       "\n",
       "   reach  impact  confidence  efforts  ice_score  \n",
       "8      1       9           9        5      16.20  \n",
       "0      3      10           8        6      13.33  \n",
       "7     10       7           8        5      11.20  \n",
       "6      5       3           8        3       8.00  \n",
       "2      8       3           7        3       7.00  \n",
       "1      2       5           4       10       2.00  \n",
       "5      3       2           2        3       1.33  \n",
       "3      8       3           3        8       1.12  \n",
       "4      3       1           1        1       1.00  "
      ]
     },
     "execution_count": 14,
     "metadata": {},
     "output_type": "execute_result"
    }
   ],
   "source": [
    "hypothesis['ice_score'] = round((hypothesis['impact'] * hypothesis['confidence']) / hypothesis['efforts'], 2)\n",
    "hypothesis.sort_values(by='ice_score', ascending=False)"
   ]
  },
  {
   "cell_type": "markdown",
   "metadata": {},
   "source": [
    "Вывод: 8 гипотеза \"Запустить акцию, дающую скидку на товар в день рождения\" набрала больше всего баллов:\n",
    "- высокие значения параметров `impact` и `confidence` говорят нам с уверенностью о том, что такое изменение сильно повлияет на пользователей и их удовлетворение, ведь люди любят получать подарки\n",
    "- параметр `efforts` показывает, что такое изменение стоит средних затрат, то есть не сильно дорого и не дешево. Возможно затраты пойдут на рекламу или рассылки."
   ]
  },
  {
   "cell_type": "markdown",
   "metadata": {},
   "source": [
    "**Примените фреймворк `RICE` для приоритизации гипотез. Отсортируйте их по убыванию приоритета.**"
   ]
  },
  {
   "cell_type": "code",
   "execution_count": 15,
   "metadata": {},
   "outputs": [
    {
     "data": {
      "text/html": [
       "<div>\n",
       "<style scoped>\n",
       "    .dataframe tbody tr th:only-of-type {\n",
       "        vertical-align: middle;\n",
       "    }\n",
       "\n",
       "    .dataframe tbody tr th {\n",
       "        vertical-align: top;\n",
       "    }\n",
       "\n",
       "    .dataframe thead th {\n",
       "        text-align: right;\n",
       "    }\n",
       "</style>\n",
       "<table border=\"1\" class=\"dataframe\">\n",
       "  <thead>\n",
       "    <tr style=\"text-align: right;\">\n",
       "      <th></th>\n",
       "      <th>hypothesis</th>\n",
       "      <th>reach</th>\n",
       "      <th>impact</th>\n",
       "      <th>confidence</th>\n",
       "      <th>efforts</th>\n",
       "      <th>ice_score</th>\n",
       "      <th>rice_score</th>\n",
       "    </tr>\n",
       "  </thead>\n",
       "  <tbody>\n",
       "    <tr>\n",
       "      <th>7</th>\n",
       "      <td>Добавить форму подписки на все основные страницы, чтобы собрать базу клиентов для email-рассылок</td>\n",
       "      <td>10</td>\n",
       "      <td>7</td>\n",
       "      <td>8</td>\n",
       "      <td>5</td>\n",
       "      <td>11.20</td>\n",
       "      <td>112.0</td>\n",
       "    </tr>\n",
       "    <tr>\n",
       "      <th>2</th>\n",
       "      <td>Добавить блоки рекомендаций товаров на сайт интернет магазина, чтобы повысить конверсию и средний чек заказа</td>\n",
       "      <td>8</td>\n",
       "      <td>3</td>\n",
       "      <td>7</td>\n",
       "      <td>3</td>\n",
       "      <td>7.00</td>\n",
       "      <td>56.0</td>\n",
       "    </tr>\n",
       "    <tr>\n",
       "      <th>0</th>\n",
       "      <td>Добавить два новых канала привлечения трафика, что позволит привлекать на 30% больше пользователей</td>\n",
       "      <td>3</td>\n",
       "      <td>10</td>\n",
       "      <td>8</td>\n",
       "      <td>6</td>\n",
       "      <td>13.33</td>\n",
       "      <td>40.0</td>\n",
       "    </tr>\n",
       "    <tr>\n",
       "      <th>6</th>\n",
       "      <td>Показать на главной странице баннеры с актуальными акциями и распродажами, чтобы увеличить конверсию</td>\n",
       "      <td>5</td>\n",
       "      <td>3</td>\n",
       "      <td>8</td>\n",
       "      <td>3</td>\n",
       "      <td>8.00</td>\n",
       "      <td>40.0</td>\n",
       "    </tr>\n",
       "    <tr>\n",
       "      <th>8</th>\n",
       "      <td>Запустить акцию, дающую скидку на товар в день рождения</td>\n",
       "      <td>1</td>\n",
       "      <td>9</td>\n",
       "      <td>9</td>\n",
       "      <td>5</td>\n",
       "      <td>16.20</td>\n",
       "      <td>16.2</td>\n",
       "    </tr>\n",
       "    <tr>\n",
       "      <th>3</th>\n",
       "      <td>Изменить структура категорий, что увеличит конверсию, т.к. пользователи быстрее найдут нужный товар</td>\n",
       "      <td>8</td>\n",
       "      <td>3</td>\n",
       "      <td>3</td>\n",
       "      <td>8</td>\n",
       "      <td>1.12</td>\n",
       "      <td>9.0</td>\n",
       "    </tr>\n",
       "    <tr>\n",
       "      <th>1</th>\n",
       "      <td>Запустить собственную службу доставки, что сократит срок доставки заказов</td>\n",
       "      <td>2</td>\n",
       "      <td>5</td>\n",
       "      <td>4</td>\n",
       "      <td>10</td>\n",
       "      <td>2.00</td>\n",
       "      <td>4.0</td>\n",
       "    </tr>\n",
       "    <tr>\n",
       "      <th>5</th>\n",
       "      <td>Добавить страницу отзывов клиентов о магазине, что позволит увеличить количество заказов</td>\n",
       "      <td>3</td>\n",
       "      <td>2</td>\n",
       "      <td>2</td>\n",
       "      <td>3</td>\n",
       "      <td>1.33</td>\n",
       "      <td>4.0</td>\n",
       "    </tr>\n",
       "    <tr>\n",
       "      <th>4</th>\n",
       "      <td>Изменить цвет фона главной страницы, чтобы увеличить вовлеченность пользователей</td>\n",
       "      <td>3</td>\n",
       "      <td>1</td>\n",
       "      <td>1</td>\n",
       "      <td>1</td>\n",
       "      <td>1.00</td>\n",
       "      <td>3.0</td>\n",
       "    </tr>\n",
       "  </tbody>\n",
       "</table>\n",
       "</div>"
      ],
      "text/plain": [
       "                                                                                                     hypothesis  \\\n",
       "7              Добавить форму подписки на все основные страницы, чтобы собрать базу клиентов для email-рассылок   \n",
       "2  Добавить блоки рекомендаций товаров на сайт интернет магазина, чтобы повысить конверсию и средний чек заказа   \n",
       "0            Добавить два новых канала привлечения трафика, что позволит привлекать на 30% больше пользователей   \n",
       "6          Показать на главной странице баннеры с актуальными акциями и распродажами, чтобы увеличить конверсию   \n",
       "8                                                       Запустить акцию, дающую скидку на товар в день рождения   \n",
       "3           Изменить структура категорий, что увеличит конверсию, т.к. пользователи быстрее найдут нужный товар   \n",
       "1                                     Запустить собственную службу доставки, что сократит срок доставки заказов   \n",
       "5                      Добавить страницу отзывов клиентов о магазине, что позволит увеличить количество заказов   \n",
       "4                              Изменить цвет фона главной страницы, чтобы увеличить вовлеченность пользователей   \n",
       "\n",
       "   reach  impact  confidence  efforts  ice_score  rice_score  \n",
       "7     10       7           8        5      11.20       112.0  \n",
       "2      8       3           7        3       7.00        56.0  \n",
       "0      3      10           8        6      13.33        40.0  \n",
       "6      5       3           8        3       8.00        40.0  \n",
       "8      1       9           9        5      16.20        16.2  \n",
       "3      8       3           3        8       1.12         9.0  \n",
       "1      2       5           4       10       2.00         4.0  \n",
       "5      3       2           2        3       1.33         4.0  \n",
       "4      3       1           1        1       1.00         3.0  "
      ]
     },
     "execution_count": 15,
     "metadata": {},
     "output_type": "execute_result"
    }
   ],
   "source": [
    "hypothesis['rice_score'] = round((hypothesis['reach'] * hypothesis['impact'] * hypothesis['confidence']) / hypothesis['efforts'], 2)\n",
    "hypothesis.sort_values(by='rice_score', ascending=False)"
   ]
  },
  {
   "cell_type": "markdown",
   "metadata": {},
   "source": [
    "Вывод: 7 гипотеза \"Добавить форму подписки на все основные страницы, чтобы собрать базу клиентов для email-рассылок\" набрала больше всего баллов, так как сильно повлияет на пользователей, об этом говорит параметр `reach`. Гипотеза \"Запустить акцию, дающую скидку на товар в день рождения\" теперь стоит на 5 месте, так как это изменение повлияет на минимальное количество пользователей (день рождения пользователя всего раз в году), в отличие от 7 гипотезы, которая предполагает отправлять рассылки всем пользователям, оставившим на сайте свои данные.\n",
    "\n",
    "Эти две гипотезы имеют схожий параметр `efforts`, означающий средние затраты, то есть добавление формы вполне позволительно для интернет-магазина."
   ]
  },
  {
   "cell_type": "markdown",
   "metadata": {},
   "source": [
    "**Вывод по 1 части. Укажите, как изменилась приоритизация гипотез при применении `RICE` вместо `ICE`. Объясните, почему так произошло.**\n",
    "\n",
    "Поработав с приоритизацией гипотез, мы выяснили, что, если необходимо внести изменение, которое повлияет в большинстве своем на охват пользователей, то для проверки подойдет фреймворк `RICE`. Если количество пользователей особо не важно, то для оценки можно применить `ICE`. \n",
    "\n",
    "На данный момент нам необходимо увеличить выручку от пользователей, поэтому в приоритете тестирования у нас будет 7 гипотеза \"Добавить форму подписки на все основные страницы, чтобы собрать базу клиентов для email-рассылок\"."
   ]
  },
  {
   "cell_type": "markdown",
   "metadata": {},
   "source": [
    "<div class=\"alert alert-success\">\n",
    "<h2> Комментарий ревьюера v1 <a class=\"tocSkip\"> </h2>\n",
    "\n",
    "<b>Все супер!👍:</b> Молодец, что отобразила названия гипотез целтком и сделала приоритезацию через названия, а не только их номера. При таком методе разночтение данных исключено.\n",
    "    \n",
    "Фреймворки посчитаны верно и причина различий \"reach\" в них определена!"
   ]
  },
  {
   "cell_type": "markdown",
   "metadata": {},
   "source": [
    "## Часть. Анализ A/B-теста"
   ]
  },
  {
   "cell_type": "markdown",
   "metadata": {},
   "source": [
    "**Задача**\n",
    "\n",
    "**Проанализируйте A/B-тест**"
   ]
  },
  {
   "cell_type": "markdown",
   "metadata": {},
   "source": [
    "1. Постройте график кумулятивной выручки по группам. Сделайте выводы и предположения."
   ]
  },
  {
   "cell_type": "code",
   "execution_count": 16,
   "metadata": {},
   "outputs": [
    {
     "data": {
      "text/html": [
       "<div>\n",
       "<style scoped>\n",
       "    .dataframe tbody tr th:only-of-type {\n",
       "        vertical-align: middle;\n",
       "    }\n",
       "\n",
       "    .dataframe tbody tr th {\n",
       "        vertical-align: top;\n",
       "    }\n",
       "\n",
       "    .dataframe thead th {\n",
       "        text-align: right;\n",
       "    }\n",
       "</style>\n",
       "<table border=\"1\" class=\"dataframe\">\n",
       "  <thead>\n",
       "    <tr style=\"text-align: right;\">\n",
       "      <th></th>\n",
       "      <th>date</th>\n",
       "      <th>group</th>\n",
       "      <th>orders</th>\n",
       "      <th>buyers</th>\n",
       "      <th>revenue</th>\n",
       "      <th>visitors</th>\n",
       "    </tr>\n",
       "  </thead>\n",
       "  <tbody>\n",
       "    <tr>\n",
       "      <th>0</th>\n",
       "      <td>2019-08-01</td>\n",
       "      <td>A</td>\n",
       "      <td>24</td>\n",
       "      <td>20</td>\n",
       "      <td>148579</td>\n",
       "      <td>719</td>\n",
       "    </tr>\n",
       "    <tr>\n",
       "      <th>1</th>\n",
       "      <td>2019-08-01</td>\n",
       "      <td>B</td>\n",
       "      <td>21</td>\n",
       "      <td>20</td>\n",
       "      <td>101217</td>\n",
       "      <td>713</td>\n",
       "    </tr>\n",
       "    <tr>\n",
       "      <th>2</th>\n",
       "      <td>2019-08-02</td>\n",
       "      <td>A</td>\n",
       "      <td>44</td>\n",
       "      <td>38</td>\n",
       "      <td>242401</td>\n",
       "      <td>1338</td>\n",
       "    </tr>\n",
       "    <tr>\n",
       "      <th>3</th>\n",
       "      <td>2019-08-02</td>\n",
       "      <td>B</td>\n",
       "      <td>45</td>\n",
       "      <td>43</td>\n",
       "      <td>266748</td>\n",
       "      <td>1294</td>\n",
       "    </tr>\n",
       "    <tr>\n",
       "      <th>4</th>\n",
       "      <td>2019-08-03</td>\n",
       "      <td>A</td>\n",
       "      <td>68</td>\n",
       "      <td>62</td>\n",
       "      <td>354874</td>\n",
       "      <td>1845</td>\n",
       "    </tr>\n",
       "  </tbody>\n",
       "</table>\n",
       "</div>"
      ],
      "text/plain": [
       "        date group  orders  buyers  revenue  visitors\n",
       "0 2019-08-01     A      24      20   148579       719\n",
       "1 2019-08-01     B      21      20   101217       713\n",
       "2 2019-08-02     A      44      38   242401      1338\n",
       "3 2019-08-02     B      45      43   266748      1294\n",
       "4 2019-08-03     A      68      62   354874      1845"
      ]
     },
     "execution_count": 16,
     "metadata": {},
     "output_type": "execute_result"
    }
   ],
   "source": [
    "# создаем массив уникальных пар значений дат и групп теста\n",
    "dates_groups = orders[['date','group']].drop_duplicates()\n",
    "\n",
    "# получаем агрегированные кумулятивные по дням данные о заказах\n",
    "orders_aggregated = dates_groups.apply(\n",
    "    lambda x: orders[\n",
    "        np.logical_and(\n",
    "            orders['date'] <= x['date'], orders['group'] == x['group']\n",
    "        )\n",
    "    ].agg({\n",
    "        'date' : 'max', \n",
    "        'group' : 'max', \n",
    "        'transaction_id' : 'nunique', \n",
    "        'visitor_id' : 'nunique', \n",
    "        'revenue' : 'sum'\n",
    "    }\n",
    "    ), \n",
    "    axis=1\n",
    ").sort_values(by=['date','group'])\n",
    "\n",
    "# аналогично получим агрегированные кумулятивные по дням данные о посетителях интернет-магазина\n",
    "visitors_aggregated = dates_groups.apply(\n",
    "    lambda x: visitors[\n",
    "        np.logical_and(\n",
    "            visitors['date'] <= x['date'], visitors['group'] == x['group']\n",
    "        )\n",
    "    ].agg({\n",
    "        'date' : 'max', \n",
    "        'group' : 'max', \n",
    "        'visitors' : 'sum'\n",
    "    }\n",
    "    ), \n",
    "    axis=1\n",
    ").sort_values(by=['date','group'])\n",
    "\n",
    "# объединяем кумулятивные данные в одной таблице и присваиваем ее столбцам понятные названия\n",
    "cumulative_data = orders_aggregated.merge(visitors_aggregated, left_on=['date', 'group'], right_on=['date', 'group'])\n",
    "cumulative_data.columns = ['date', 'group', 'orders', 'buyers', 'revenue', 'visitors']\n",
    "\n",
    "cumulative_data.head()"
   ]
  },
  {
   "cell_type": "markdown",
   "metadata": {},
   "source": [
    "<div class=\"alert alert-success\">\n",
    "<h2> Комментарий ревьюера v1 <a class=\"tocSkip\"> </h2>\n",
    "\n",
    "<b>Все супер!👍:</b> Уникальные пары сформированы, получены агрегированные данные"
   ]
  },
  {
   "cell_type": "markdown",
   "metadata": {},
   "source": [
    "Построим график кумулятивной выручки по дням и группам A/B-тестирования:"
   ]
  },
  {
   "cell_type": "code",
   "execution_count": 17,
   "metadata": {},
   "outputs": [
    {
     "data": {
      "image/png": "[encoded data removed]",
      "text/plain": [
       "<Figure size 864x432 with 1 Axes>"
      ]
     },
     "metadata": {
      "needs_background": "light"
     },
     "output_type": "display_data"
    }
   ],
   "source": [
    "plt.figure(figsize=(12,6))\n",
    "plt.grid()\n",
    "\n",
    "# датафрейм с кумулятивным количеством заказов и кумулятивной выручкой по дням в группе А\n",
    "cumulative_revenue_a = cumulative_data[cumulative_data['group']=='A'][['date','revenue', 'orders']]\n",
    "\n",
    "# датафрейм с кумулятивным количеством заказов и кумулятивной выручкой по дням в группе B\n",
    "cumulative_revenue_b = cumulative_data[cumulative_data['group']=='B'][['date','revenue', 'orders']]\n",
    "\n",
    "# Строим график выручки группы А\n",
    "plt.plot(cumulative_revenue_a['date'], cumulative_revenue_a['revenue'], label='A')\n",
    "\n",
    "# Строим график выручки группы B\n",
    "plt.plot(cumulative_revenue_b['date'], cumulative_revenue_b['revenue'], label='B')\n",
    "\n",
    "plt.legend()\n",
    "plt.title('Кумулятивная выручка по дням и группам A/B-тестирования')\n",
    "plt.xlabel('Дата')\n",
    "plt.ylabel('Выручка')\n",
    "plt.show()"
   ]
  },
  {
   "cell_type": "markdown",
   "metadata": {},
   "source": [
    "Вывод: Как мы видим, выручка только растет, группа B лидирует с большим отрывом в конце месяца. 18-19 августа в группе B произошел резкий скачок выручки, это может говорить о том, что в эти дни были дорогие заказы или всплеск числа заказов."
   ]
  },
  {
   "cell_type": "markdown",
   "metadata": {},
   "source": [
    "<div class=\"alert alert-success\">\n",
    "<h2> Комментарий ревьюера v1 <a class=\"tocSkip\"> </h2>\n",
    "\n",
    "<b>Все супер!👍:</b> Все верно, молодец, что предположила причину появления аномалии"
   ]
  },
  {
   "cell_type": "markdown",
   "metadata": {},
   "source": [
    "2. Постройте график кумулятивного среднего чека по группам. Сделайте выводы и предположения."
   ]
  },
  {
   "cell_type": "code",
   "execution_count": 18,
   "metadata": {},
   "outputs": [
    {
     "data": {
      "image/png": "[encoded data removed]",
      "text/plain": [
       "<Figure size 864x432 with 1 Axes>"
      ]
     },
     "metadata": {
      "needs_background": "light"
     },
     "output_type": "display_data"
    }
   ],
   "source": [
    "plt.figure(figsize=(12, 6))\n",
    "plt.plot(cumulative_revenue_a['date'], cumulative_revenue_a['revenue']/cumulative_revenue_a['orders'], label='A')\n",
    "plt.plot(cumulative_revenue_b['date'], cumulative_revenue_b['revenue']/cumulative_revenue_b['orders'], label='B')\n",
    "\n",
    "plt.legend()\n",
    "plt.grid()\n",
    "plt.title('Кумулятивный средний чек по группам')\n",
    "plt.xlabel('Дата')\n",
    "plt.ylabel('Выручка')\n",
    "plt.show()"
   ]
  },
  {
   "cell_type": "markdown",
   "metadata": {},
   "source": [
    "Вывод: По графику мы можем наблюдать скачки роста и падения среднего чека у обеих групп, но бросается в глаза взлет выручки группы B 18-19 августа. В конце графика средний чек группы B стал снижаться, а у группы A, наоборот, расти."
   ]
  },
  {
   "cell_type": "markdown",
   "metadata": {},
   "source": [
    "<div class=\"alert alert-success\">\n",
    "<h2> Комментарий ревьюера v1 <a class=\"tocSkip\"> </h2>\n",
    "\n",
    "<b>Все супер!👍:</b> Действительно, тут влияние выбросов также очевидно и следует рассмотреть их подробнее"
   ]
  },
  {
   "cell_type": "markdown",
   "metadata": {},
   "source": [
    "3. Постройте график относительного изменения кумулятивного среднего чека группы B к группе A. Сделайте выводы и предположения."
   ]
  },
  {
   "cell_type": "code",
   "execution_count": 19,
   "metadata": {},
   "outputs": [
    {
     "data": {
      "text/html": [
       "<div>\n",
       "<style scoped>\n",
       "    .dataframe tbody tr th:only-of-type {\n",
       "        vertical-align: middle;\n",
       "    }\n",
       "\n",
       "    .dataframe tbody tr th {\n",
       "        vertical-align: top;\n",
       "    }\n",
       "\n",
       "    .dataframe thead th {\n",
       "        text-align: right;\n",
       "    }\n",
       "</style>\n",
       "<table border=\"1\" class=\"dataframe\">\n",
       "  <thead>\n",
       "    <tr style=\"text-align: right;\">\n",
       "      <th></th>\n",
       "      <th>date</th>\n",
       "      <th>revenue_a</th>\n",
       "      <th>orders_a</th>\n",
       "      <th>revenue_b</th>\n",
       "      <th>orders_b</th>\n",
       "    </tr>\n",
       "  </thead>\n",
       "  <tbody>\n",
       "    <tr>\n",
       "      <th>0</th>\n",
       "      <td>2019-08-01</td>\n",
       "      <td>148579</td>\n",
       "      <td>24</td>\n",
       "      <td>101217</td>\n",
       "      <td>21</td>\n",
       "    </tr>\n",
       "    <tr>\n",
       "      <th>1</th>\n",
       "      <td>2019-08-02</td>\n",
       "      <td>242401</td>\n",
       "      <td>44</td>\n",
       "      <td>266748</td>\n",
       "      <td>45</td>\n",
       "    </tr>\n",
       "    <tr>\n",
       "      <th>2</th>\n",
       "      <td>2019-08-03</td>\n",
       "      <td>354874</td>\n",
       "      <td>68</td>\n",
       "      <td>380996</td>\n",
       "      <td>61</td>\n",
       "    </tr>\n",
       "    <tr>\n",
       "      <th>3</th>\n",
       "      <td>2019-08-04</td>\n",
       "      <td>425699</td>\n",
       "      <td>84</td>\n",
       "      <td>489567</td>\n",
       "      <td>78</td>\n",
       "    </tr>\n",
       "    <tr>\n",
       "      <th>4</th>\n",
       "      <td>2019-08-05</td>\n",
       "      <td>549917</td>\n",
       "      <td>109</td>\n",
       "      <td>581995</td>\n",
       "      <td>101</td>\n",
       "    </tr>\n",
       "  </tbody>\n",
       "</table>\n",
       "</div>"
      ],
      "text/plain": [
       "        date  revenue_a  orders_a  revenue_b  orders_b\n",
       "0 2019-08-01     148579        24     101217        21\n",
       "1 2019-08-02     242401        44     266748        45\n",
       "2 2019-08-03     354874        68     380996        61\n",
       "3 2019-08-04     425699        84     489567        78\n",
       "4 2019-08-05     549917       109     581995       101"
      ]
     },
     "execution_count": 19,
     "metadata": {},
     "output_type": "execute_result"
    }
   ],
   "source": [
    "# собираем данные в одном датафрейме\n",
    "merged_cumulative_revenue = cumulative_revenue_a.merge(\n",
    "    cumulative_revenue_b, \n",
    "    left_on='date', right_on='date', \n",
    "    how='left', \n",
    "    suffixes=['_a', '_b']\n",
    ")\n",
    "\n",
    "merged_cumulative_revenue.head()"
   ]
  },
  {
   "cell_type": "markdown",
   "metadata": {},
   "source": [
    "Построим график:"
   ]
  },
  {
   "cell_type": "code",
   "execution_count": 20,
   "metadata": {},
   "outputs": [
    {
     "data": {
      "image/png": "[encoded data removed]",
      "text/plain": [
       "<Figure size 864x432 with 1 Axes>"
      ]
     },
     "metadata": {
      "needs_background": "light"
     },
     "output_type": "display_data"
    }
   ],
   "source": [
    "# зададим параметры графика\n",
    "plt.figure(figsize=(12, 6))\n",
    "\n",
    "# cтроим отношение средних чеков\n",
    "plt.plot(\n",
    "    merged_cumulative_revenue['date'], \n",
    "    (merged_cumulative_revenue['revenue_b']/\n",
    "     merged_cumulative_revenue['orders_b'])/\n",
    "    (merged_cumulative_revenue['revenue_a']/\n",
    "     merged_cumulative_revenue['orders_a'])\n",
    "    -1\n",
    ")\n",
    "\n",
    "# добавляем ось X\n",
    "plt.axhline(y=0, color='black', linestyle='--')\n",
    "\n",
    "plt.title('Относительное изменение кумулятивного среднего чека группы B к группе A')\n",
    "plt.xlabel('Дата')\n",
    "plt.ylabel('Отношение')\n",
    "plt.show()"
   ]
  },
  {
   "cell_type": "markdown",
   "metadata": {},
   "source": [
    "Вывод: Наблюдаются резкие скачки в графике, вероятно, в группе есть очень дорогие заказы или выбросы."
   ]
  },
  {
   "cell_type": "markdown",
   "metadata": {},
   "source": [
    "<div class=\"alert alert-success\">\n",
    "<h2> Комментарий ревьюера v1 <a class=\"tocSkip\"> </h2>\n",
    "\n",
    "<b>Все супер!👍:</b> Полностью согласен с тобой"
   ]
  },
  {
   "cell_type": "markdown",
   "metadata": {},
   "source": [
    "4. Постройте график кумулятивного среднего количества заказов на посетителя по группам. Сделайте выводы и предположения."
   ]
  },
  {
   "cell_type": "code",
   "execution_count": 21,
   "metadata": {},
   "outputs": [
    {
     "data": {
      "image/png": "[encoded data removed]",
      "text/plain": [
       "<Figure size 864x432 with 1 Axes>"
      ]
     },
     "metadata": {
      "needs_background": "light"
     },
     "output_type": "display_data"
    }
   ],
   "source": [
    "# считаем среднее количество заказов на посетителя\n",
    "cumulative_data['conversion'] = cumulative_data['orders']/cumulative_data['visitors']\n",
    "\n",
    "# отделяем данные по группе A\n",
    "cumulative_data_a = cumulative_data[cumulative_data['group']=='A']\n",
    "\n",
    "# отделяем данные по группе B\n",
    "cumulative_data_b = cumulative_data[cumulative_data['group']=='B']\n",
    "\n",
    "# зададим параметры графика\n",
    "plt.figure(figsize=(12, 6))\n",
    "\n",
    "# строим графики\n",
    "plt.plot(cumulative_data_a['date'], cumulative_data_a['conversion'], label='A')\n",
    "plt.plot(cumulative_data_b['date'], cumulative_data_b['conversion'], label='B')\n",
    "plt.legend()\n",
    "\n",
    "# задаем масштаб осей\n",
    "plt.axis([\"2019-08-01\", '2019-09-01', 0.028, 0.038])\n",
    "\n",
    "plt.title('Кумулятивное среднее количество заказов на посетителя по группам')\n",
    "plt.xlabel('Дата')\n",
    "plt.show()"
   ]
  },
  {
   "cell_type": "markdown",
   "metadata": {},
   "source": [
    "Вывод: В начале графика мы видим, что конверсия группы B (0.029) была ниже группы A (0.033), затем наблюдается резкий рост и такое же падение (вероятно, были дорогие заказы как единичные случаи), но конверсия группы A продолжала падать, а у группы B стала расти и на протяжении всего графика держалась выше группы A. После 29 августа конверсия обеих групп начала снижаться.\n",
    "Группа A достигла пика в 0.037, группа B - 0.036."
   ]
  },
  {
   "cell_type": "markdown",
   "metadata": {},
   "source": [
    "<div class=\"alert alert-success\">\n",
    "<h2> Комментарий ревьюера v1 <a class=\"tocSkip\"> </h2>\n",
    "\n",
    "<b>Все супер!👍:</b> Тренды графика описаны верно!"
   ]
  },
  {
   "cell_type": "markdown",
   "metadata": {},
   "source": [
    "5. Постройте график относительного изменения кумулятивного среднего количества заказов на посетителя группы B к группе A. Сделайте выводы и предположения."
   ]
  },
  {
   "cell_type": "code",
   "execution_count": 22,
   "metadata": {},
   "outputs": [
    {
     "data": {
      "text/plain": [
       "(18109.0, 18140.0, -0.2, 0.3)"
      ]
     },
     "execution_count": 22,
     "metadata": {},
     "output_type": "execute_result"
    },
    {
     "data": {
      "image/png": "[encoded data removed]",
      "text/plain": [
       "<Figure size 864x576 with 1 Axes>"
      ]
     },
     "metadata": {
      "needs_background": "light"
     },
     "output_type": "display_data"
    }
   ],
   "source": [
    "# объединим таблицы\n",
    "merged_cumulative_conversions = cumulative_data_a[['date','conversion']].merge(\n",
    "    cumulative_data_b[['date','conversion']], \n",
    "    left_on='date', right_on='date', \n",
    "    how='left', \n",
    "    suffixes=['_a', '_b']\n",
    ")\n",
    "\n",
    "# зададим параметры графика\n",
    "plt.figure(figsize=(12, 8))\n",
    "\n",
    "# строим график\n",
    "plt.plot(\n",
    "    merged_cumulative_conversions['date'], \n",
    "    merged_cumulative_conversions['conversion_b']/\n",
    "    merged_cumulative_conversions['conversion_a']\n",
    "    -1,\n",
    "    label=\"Относительное изменение кумулятивного среднего количества заказов на посетителя группы B к группе A\"\n",
    ")\n",
    "plt.legend()\n",
    "\n",
    "plt.axhline(y=0, color='black', linestyle='--')\n",
    "plt.axhline(y=0.2, color='grey', linestyle='--')\n",
    "plt.axis([\"2019-08-01\", '2019-09-01', -0.2, 0.3])"
   ]
  },
  {
   "cell_type": "markdown",
   "metadata": {},
   "source": [
    "Вывод: В начале графика мы видим, что группа B была значительно ниже группы A, затем резкий скачок вверх и снова спад, но потом группа B стремительно росла и держалась на протяжении нескольких дней, затем снова снижение и подъем. "
   ]
  },
  {
   "cell_type": "markdown",
   "metadata": {},
   "source": [
    "<div class=\"alert alert-warning\">\n",
    "    <h2> Комментарий ревьюера v1<a class=\"tocSkip\"> </h2>\n",
    "    \n",
    "<b>Небольшие замечания и рекомендации💡:</b> Да, но на выбранном горизонте анализа закончили мы восходищим трендом"
   ]
  },
  {
   "cell_type": "markdown",
   "metadata": {},
   "source": [
    "<div class=\"alert alert-info\"> <b>Комментарий студента:</b> Подправила.</div>"
   ]
  },
  {
   "cell_type": "markdown",
   "metadata": {},
   "source": [
    "<div class=\"alert alert-success\">\n",
    "<h2> Комментарий ревьюера v2 <a class=\"tocSkip\"> </h2>\n",
    "\n",
    "<b>Все супер!👍:</b> Замечательно"
   ]
  },
  {
   "cell_type": "markdown",
   "metadata": {},
   "source": [
    "6. Постройте точечный график количества заказов по пользователям. Сделайте выводы и предположения."
   ]
  },
  {
   "cell_type": "code",
   "execution_count": 23,
   "metadata": {},
   "outputs": [
    {
     "data": {
      "text/html": [
       "<div>\n",
       "<style scoped>\n",
       "    .dataframe tbody tr th:only-of-type {\n",
       "        vertical-align: middle;\n",
       "    }\n",
       "\n",
       "    .dataframe tbody tr th {\n",
       "        vertical-align: top;\n",
       "    }\n",
       "\n",
       "    .dataframe thead th {\n",
       "        text-align: right;\n",
       "    }\n",
       "</style>\n",
       "<table border=\"1\" class=\"dataframe\">\n",
       "  <thead>\n",
       "    <tr style=\"text-align: right;\">\n",
       "      <th></th>\n",
       "      <th>user_id</th>\n",
       "      <th>orders</th>\n",
       "    </tr>\n",
       "  </thead>\n",
       "  <tbody>\n",
       "    <tr>\n",
       "      <th>1023</th>\n",
       "      <td>4256040402</td>\n",
       "      <td>11</td>\n",
       "    </tr>\n",
       "    <tr>\n",
       "      <th>591</th>\n",
       "      <td>2458001652</td>\n",
       "      <td>11</td>\n",
       "    </tr>\n",
       "    <tr>\n",
       "      <th>569</th>\n",
       "      <td>2378935119</td>\n",
       "      <td>9</td>\n",
       "    </tr>\n",
       "    <tr>\n",
       "      <th>487</th>\n",
       "      <td>2038680547</td>\n",
       "      <td>8</td>\n",
       "    </tr>\n",
       "    <tr>\n",
       "      <th>44</th>\n",
       "      <td>199603092</td>\n",
       "      <td>5</td>\n",
       "    </tr>\n",
       "    <tr>\n",
       "      <th>744</th>\n",
       "      <td>3062433592</td>\n",
       "      <td>5</td>\n",
       "    </tr>\n",
       "    <tr>\n",
       "      <th>55</th>\n",
       "      <td>237748145</td>\n",
       "      <td>5</td>\n",
       "    </tr>\n",
       "    <tr>\n",
       "      <th>917</th>\n",
       "      <td>3803269165</td>\n",
       "      <td>5</td>\n",
       "    </tr>\n",
       "    <tr>\n",
       "      <th>299</th>\n",
       "      <td>1230306981</td>\n",
       "      <td>5</td>\n",
       "    </tr>\n",
       "    <tr>\n",
       "      <th>897</th>\n",
       "      <td>3717692402</td>\n",
       "      <td>5</td>\n",
       "    </tr>\n",
       "  </tbody>\n",
       "</table>\n",
       "</div>"
      ],
      "text/plain": [
       "         user_id  orders\n",
       "1023  4256040402      11\n",
       "591   2458001652      11\n",
       "569   2378935119       9\n",
       "487   2038680547       8\n",
       "44     199603092       5\n",
       "744   3062433592       5\n",
       "55     237748145       5\n",
       "917   3803269165       5\n",
       "299   1230306981       5\n",
       "897   3717692402       5"
      ]
     },
     "execution_count": 23,
     "metadata": {},
     "output_type": "execute_result"
    }
   ],
   "source": [
    "# построим сводную таблицу и подсчитаем количество заказов по пользователям\n",
    "orders_by_users = (\n",
    "    orders.groupby('visitor_id', as_index=False)\n",
    "    .agg({'transaction_id': 'nunique'})\n",
    ")\n",
    "\n",
    "# зададим названия столбцам\n",
    "orders_by_users.columns = ['user_id', 'orders']\n",
    "\n",
    "# посмотрим на результат\n",
    "orders_by_users.sort_values(by='orders', ascending=False).head(10)"
   ]
  },
  {
   "cell_type": "markdown",
   "metadata": {},
   "source": [
    "Построим график:"
   ]
  },
  {
   "cell_type": "code",
   "execution_count": 24,
   "metadata": {},
   "outputs": [
    {
     "data": {
      "image/png": "[encoded data removed]",
      "text/plain": [
       "<Figure size 864x576 with 1 Axes>"
      ]
     },
     "metadata": {
      "needs_background": "light"
     },
     "output_type": "display_data"
    }
   ],
   "source": [
    "x_values = pd.Series(range(0,len(orders_by_users)))\n",
    "\n",
    "# зададим параметры графика\n",
    "plt.figure(figsize=(12, 8))\n",
    "\n",
    "# строим точечный график\n",
    "plt.scatter(x_values, orders_by_users['orders'])\n",
    "\n",
    "plt.title('Точечный график количества заказов по пользователям')\n",
    "plt.xlabel('Пользователи')\n",
    "plt.ylabel('Заказы')\n",
    "plt.show()"
   ]
  },
  {
   "cell_type": "markdown",
   "metadata": {},
   "source": [
    "Вывод: В основном пользователи совершают 1-2 заказа, намного реже больше 2. Как мы видим на графике есть выбросы - несколько пользователей совершили свыше 10 заказов."
   ]
  },
  {
   "cell_type": "markdown",
   "metadata": {},
   "source": [
    "7. Посчитайте 95-й и 99-й перцентили количества заказов на пользователя. Выберите границу для определения аномальных пользователей."
   ]
  },
  {
   "cell_type": "code",
   "execution_count": 25,
   "metadata": {},
   "outputs": [
    {
     "data": {
      "text/plain": [
       "array([2., 4.])"
      ]
     },
     "metadata": {},
     "output_type": "display_data"
    }
   ],
   "source": [
    "display(np.percentile(orders_by_users['orders'], [95, 99]))"
   ]
  },
  {
   "cell_type": "markdown",
   "metadata": {},
   "source": [
    "Вывод: \n",
    "- не больше 5% пользователей совершили более 2 заказов\n",
    "- не больше 1% пользователей совершили более 4 заказов."
   ]
  },
  {
   "cell_type": "code",
   "execution_count": 26,
   "metadata": {},
   "outputs": [],
   "source": [
    "# граница для определения аномальных пользователей - 3\n",
    "user_boarder = 3"
   ]
  },
  {
   "cell_type": "markdown",
   "metadata": {},
   "source": [
    "<div class=\"alert alert-success\">\n",
    "<h2> Комментарий ревьюера v1 <a class=\"tocSkip\"> </h2>\n",
    "\n",
    "<b>Все супер!👍:</b> Логичный выбор границы фильтрации"
   ]
  },
  {
   "cell_type": "markdown",
   "metadata": {},
   "source": [
    "8. Постройте точечный график стоимостей заказов. Сделайте выводы и предположения."
   ]
  },
  {
   "cell_type": "code",
   "execution_count": 27,
   "metadata": {},
   "outputs": [
    {
     "data": {
      "image/png": "[encoded data removed]",
      "text/plain": [
       "<Figure size 864x576 with 1 Axes>"
      ]
     },
     "metadata": {
      "needs_background": "light"
     },
     "output_type": "display_data"
    }
   ],
   "source": [
    "x_values = pd.Series(range(0,len(orders['revenue'])))\n",
    "\n",
    "# зададим параметры графика\n",
    "plt.figure(figsize=(12, 8))\n",
    "\n",
    "# строим точечный график\n",
    "plt.scatter(x_values, orders['revenue'])\n",
    "\n",
    "plt.grid()\n",
    "plt.title('Точечный график стоимостей заказов')\n",
    "plt.xlabel('Пользователи')\n",
    "plt.ylabel('Стоимость заказов')\n",
    "plt.show()"
   ]
  },
  {
   "cell_type": "markdown",
   "metadata": {},
   "source": [
    "Вывод: по графику мы видим, что выбиваются два значения - 200 000 и выше 1 млн."
   ]
  },
  {
   "cell_type": "markdown",
   "metadata": {},
   "source": [
    "Построим график без аномальных значений"
   ]
  },
  {
   "cell_type": "code",
   "execution_count": 28,
   "metadata": {},
   "outputs": [
    {
     "data": {
      "image/png": "[encoded data removed]",
      "text/plain": [
       "<Figure size 864x576 with 1 Axes>"
      ]
     },
     "metadata": {
      "needs_background": "light"
     },
     "output_type": "display_data"
    }
   ],
   "source": [
    "x_values = pd.Series(range(0,len(orders['revenue'])))\n",
    "\n",
    "# зададим параметры графика\n",
    "plt.figure(figsize=(12, 8))\n",
    "\n",
    "# строим точечный график\n",
    "plt.scatter(x_values, orders['revenue'])\n",
    "\n",
    "# убираем аномальные значения\n",
    "plt.ylim(0, 100000) \n",
    "\n",
    "plt.grid()\n",
    "plt.title('Точечный график стоимостей заказов')\n",
    "plt.xlabel('Пользователи')\n",
    "plt.ylabel('Стоимость заказов')\n",
    "plt.show()"
   ]
  },
  {
   "cell_type": "markdown",
   "metadata": {},
   "source": [
    "Вывод: Зачастую пользователи совершают покупку на сумму не превышающую 20 000."
   ]
  },
  {
   "cell_type": "markdown",
   "metadata": {},
   "source": [
    "9. Посчитайте 95-й и 99-й перцентили стоимости заказов. Выберите границу для определения аномальных заказов."
   ]
  },
  {
   "cell_type": "code",
   "execution_count": 29,
   "metadata": {},
   "outputs": [
    {
     "data": {
      "text/plain": [
       "array([28000. , 58233.2])"
      ]
     },
     "metadata": {},
     "output_type": "display_data"
    }
   ],
   "source": [
    "display(np.percentile(orders['revenue'], [95, 99]))"
   ]
  },
  {
   "cell_type": "markdown",
   "metadata": {},
   "source": [
    "Вывод:\n",
    "- не больше 5% пользователей совершает покупку более 28 000 руб.\n",
    "- не больше 1% пользователей совершает покупку более 58 000 руб."
   ]
  },
  {
   "cell_type": "code",
   "execution_count": 30,
   "metadata": {},
   "outputs": [],
   "source": [
    "# граница для определения аномальных заказов - 30 000 рублей\n",
    "order_boarder = 30000"
   ]
  },
  {
   "cell_type": "markdown",
   "metadata": {},
   "source": [
    "<div class=\"alert alert-success\">\n",
    "<h2> Комментарий ревьюера v1 <a class=\"tocSkip\"> </h2>\n",
    "\n",
    "<b>Все супер!👍:</b> И по стоимости заказов тоже!\n",
    "    "
   ]
  },
  {
   "cell_type": "markdown",
   "metadata": {},
   "source": [
    "10. Посчитайте статистическую значимость различий в среднем количестве заказов на посетителя между группами по «сырым» данным. Сделайте выводы и предположения."
   ]
  },
  {
   "cell_type": "markdown",
   "metadata": {},
   "source": [
    "Создадим переменные `orders_by_users_a` и `orders_by_users_b` со столбцами `['visitors_id', 'orders']`. В них для пользователей, которые заказывали хотя бы 1 раз, укажем число совершённых заказов"
   ]
  },
  {
   "cell_type": "code",
   "execution_count": 31,
   "metadata": {},
   "outputs": [
    {
     "data": {
      "text/html": [
       "<div>\n",
       "<style scoped>\n",
       "    .dataframe tbody tr th:only-of-type {\n",
       "        vertical-align: middle;\n",
       "    }\n",
       "\n",
       "    .dataframe tbody tr th {\n",
       "        vertical-align: top;\n",
       "    }\n",
       "\n",
       "    .dataframe thead th {\n",
       "        text-align: right;\n",
       "    }\n",
       "</style>\n",
       "<table border=\"1\" class=\"dataframe\">\n",
       "  <thead>\n",
       "    <tr style=\"text-align: right;\">\n",
       "      <th></th>\n",
       "      <th>visitors_id</th>\n",
       "      <th>orders</th>\n",
       "    </tr>\n",
       "  </thead>\n",
       "  <tbody>\n",
       "    <tr>\n",
       "      <th>0</th>\n",
       "      <td>8300375</td>\n",
       "      <td>1</td>\n",
       "    </tr>\n",
       "    <tr>\n",
       "      <th>1</th>\n",
       "      <td>11685486</td>\n",
       "      <td>1</td>\n",
       "    </tr>\n",
       "    <tr>\n",
       "      <th>2</th>\n",
       "      <td>54447517</td>\n",
       "      <td>1</td>\n",
       "    </tr>\n",
       "    <tr>\n",
       "      <th>3</th>\n",
       "      <td>66685450</td>\n",
       "      <td>1</td>\n",
       "    </tr>\n",
       "    <tr>\n",
       "      <th>4</th>\n",
       "      <td>78758296</td>\n",
       "      <td>1</td>\n",
       "    </tr>\n",
       "  </tbody>\n",
       "</table>\n",
       "</div>"
      ],
      "text/plain": [
       "   visitors_id  orders\n",
       "0      8300375       1\n",
       "1     11685486       1\n",
       "2     54447517       1\n",
       "3     66685450       1\n",
       "4     78758296       1"
      ]
     },
     "metadata": {},
     "output_type": "display_data"
    },
    {
     "data": {
      "text/html": [
       "<div>\n",
       "<style scoped>\n",
       "    .dataframe tbody tr th:only-of-type {\n",
       "        vertical-align: middle;\n",
       "    }\n",
       "\n",
       "    .dataframe tbody tr th {\n",
       "        vertical-align: top;\n",
       "    }\n",
       "\n",
       "    .dataframe thead th {\n",
       "        text-align: right;\n",
       "    }\n",
       "</style>\n",
       "<table border=\"1\" class=\"dataframe\">\n",
       "  <thead>\n",
       "    <tr style=\"text-align: right;\">\n",
       "      <th></th>\n",
       "      <th>visitors_id</th>\n",
       "      <th>orders</th>\n",
       "    </tr>\n",
       "  </thead>\n",
       "  <tbody>\n",
       "    <tr>\n",
       "      <th>0</th>\n",
       "      <td>5114589</td>\n",
       "      <td>1</td>\n",
       "    </tr>\n",
       "    <tr>\n",
       "      <th>1</th>\n",
       "      <td>6958315</td>\n",
       "      <td>1</td>\n",
       "    </tr>\n",
       "    <tr>\n",
       "      <th>2</th>\n",
       "      <td>8300375</td>\n",
       "      <td>1</td>\n",
       "    </tr>\n",
       "    <tr>\n",
       "      <th>3</th>\n",
       "      <td>39475350</td>\n",
       "      <td>1</td>\n",
       "    </tr>\n",
       "    <tr>\n",
       "      <th>4</th>\n",
       "      <td>47206413</td>\n",
       "      <td>1</td>\n",
       "    </tr>\n",
       "  </tbody>\n",
       "</table>\n",
       "</div>"
      ],
      "text/plain": [
       "   visitors_id  orders\n",
       "0      5114589       1\n",
       "1      6958315       1\n",
       "2      8300375       1\n",
       "3     39475350       1\n",
       "4     47206413       1"
      ]
     },
     "metadata": {},
     "output_type": "display_data"
    }
   ],
   "source": [
    "orders_by_users_a = (\n",
    "    orders[orders['group'] == 'A']\n",
    "    .groupby('visitor_id', as_index=False)\n",
    "    .agg({'transaction_id': pd.Series.nunique})\n",
    ")\n",
    "orders_by_users_a.columns = ['visitors_id', 'orders']\n",
    "\n",
    "orders_by_users_b = (\n",
    "    orders[orders['group'] == 'B']\n",
    "    .groupby('visitor_id', as_index=False)\n",
    "    .agg({'transaction_id': pd.Series.nunique})\n",
    ")\n",
    "orders_by_users_b.columns = ['visitors_id', 'orders']\n",
    "\n",
    "display(orders_by_users_a.head()) \n",
    "display(orders_by_users_b.head()) "
   ]
  },
  {
   "cell_type": "markdown",
   "metadata": {},
   "source": [
    "Объявим переменные sample_a и sample_b, в которых пользователям из разных групп будет соответствовать количество заказов. Тем, кто ничего не заказал, будут соответствовать нули. Это нужно, чтобы подготовить выборки к проверке критерием Манна-Уитни."
   ]
  },
  {
   "cell_type": "code",
   "execution_count": 32,
   "metadata": {},
   "outputs": [],
   "source": [
    "sample_a = pd.concat(\n",
    "    [\n",
    "        orders_by_users_a['orders'],\n",
    "        pd.Series(\n",
    "            0,\n",
    "            index=np.arange(\n",
    "                visitors[visitors['group'] == 'A']['visitors'].sum() - len(orders_by_users_a['orders'])\n",
    "            ),\n",
    "            name='orders',\n",
    "        ),\n",
    "    ],\n",
    "    axis=0,\n",
    ")\n",
    "\n",
    "sample_b = pd.concat(\n",
    "    [\n",
    "        orders_by_users_b['orders'],\n",
    "        pd.Series(\n",
    "            0,\n",
    "            index=np.arange(\n",
    "                visitors[visitors['group'] == 'B']['visitors'].sum() - len(orders_by_users_b['orders'])\n",
    "            ),\n",
    "            name='orders',\n",
    "        ),\n",
    "    ],\n",
    "    axis=0,\n",
    ")"
   ]
  },
  {
   "cell_type": "markdown",
   "metadata": {},
   "source": [
    "Сформулируем гипотезы:\n",
    "- H0: различий в среднем количестве заказов между группами нет\n",
    "- H1: различия в среднем между группами есть"
   ]
  },
  {
   "cell_type": "markdown",
   "metadata": {},
   "source": [
    "<div class=\"alert alert-success\">\n",
    "<h2> Комментарий ревьюера v1 <a class=\"tocSkip\"> </h2>\n",
    "\n",
    "<b>Все супер!👍:</b> Гипотезы сформулированы\n",
    "    "
   ]
  },
  {
   "cell_type": "code",
   "execution_count": 33,
   "metadata": {},
   "outputs": [
    {
     "data": {
      "text/plain": [
       "'Значение p-value : 0.016792355056752608'"
      ]
     },
     "metadata": {},
     "output_type": "display_data"
    },
    {
     "data": {
      "text/plain": [
       "'Отвергаем нулевую гипотезу'"
      ]
     },
     "metadata": {},
     "output_type": "display_data"
    },
    {
     "data": {
      "text/plain": [
       "'Отношение конверсии В к А: 0.138'"
      ]
     },
     "metadata": {},
     "output_type": "display_data"
    }
   ],
   "source": [
    "results_1 = stats.mannwhitneyu(sample_a, sample_b)[1]\n",
    "# зададим значение aplha\n",
    "alpha = 0.05\n",
    "\n",
    "# выведем значение p-value\n",
    "display(f'Значение p-value : {results_1}')\n",
    "\n",
    "if results_1 < alpha:\n",
    "    display('Отвергаем нулевую гипотезу')\n",
    "else:\n",
    "    display('Не получилось отвергнуть нулевую гипотезу')\n",
    "\n",
    "# выведем отношение конверсии В к А\n",
    "display('Отношение конверсии В к А: {0:.3f}'.format(sample_b.mean() / sample_a.mean() - 1))"
   ]
  },
  {
   "cell_type": "markdown",
   "metadata": {},
   "source": [
    "Вывод: Отвергаем нулевую гипотезу, так как различия в среднем между группами есть.\n",
    "Относительный прирост группы B равен 13.8%."
   ]
  },
  {
   "cell_type": "markdown",
   "metadata": {},
   "source": [
    "<div class=\"alert alert-success\">\n",
    "<h2> Комментарий ревьюера v1 <a class=\"tocSkip\"> </h2>\n",
    "\n",
    "<b>Все супер!👍:</b> Все верно"
   ]
  },
  {
   "cell_type": "markdown",
   "metadata": {},
   "source": [
    "11. Посчитайте статистическую значимость различий в среднем чеке заказа между группами по «сырым» данным. Сделайте выводы и предположения."
   ]
  },
  {
   "cell_type": "markdown",
   "metadata": {},
   "source": [
    "Сформулируем гипотезы:\n",
    "- H0: различий в среднем количестве заказов между группами нет\n",
    "- H1: различия в среднем между группами есть"
   ]
  },
  {
   "cell_type": "code",
   "execution_count": 34,
   "metadata": {},
   "outputs": [
    {
     "data": {
      "text/plain": [
       "'Значение p-value : 0.7292909855432458'"
      ]
     },
     "metadata": {},
     "output_type": "display_data"
    },
    {
     "data": {
      "text/plain": [
       "'Не получилось отвергнуть нулевую гипотезу'"
      ]
     },
     "metadata": {},
     "output_type": "display_data"
    },
    {
     "data": {
      "text/plain": [
       "'Средний чек группы A: 7333.58'"
      ]
     },
     "metadata": {},
     "output_type": "display_data"
    },
    {
     "data": {
      "text/plain": [
       "'Средний чек группы B: 9230.88'"
      ]
     },
     "metadata": {},
     "output_type": "display_data"
    },
    {
     "data": {
      "text/plain": [
       "'Отношение средних чеков группы B к A: 1.26'"
      ]
     },
     "metadata": {},
     "output_type": "display_data"
    }
   ],
   "source": [
    "results_2 = stats.mannwhitneyu(orders[orders['group']=='A']['revenue'], orders[orders['group']=='B']['revenue'])[1]\n",
    "# зададим значение aplha\n",
    "alpha = 0.05\n",
    "\n",
    "# выведем значение p-value\n",
    "display(f'Значение p-value : {results_2}')\n",
    "\n",
    "if results_2 < alpha:\n",
    "    display('Отвергаем нулевую гипотезу')\n",
    "else:\n",
    "    display('Не получилось отвергнуть нулевую гипотезу')\n",
    "\n",
    "display('Средний чек группы A: {0:.2f}'.format(orders[orders['group']=='A']['revenue'].mean()))\n",
    "display('Средний чек группы B: {0:.2f}'.format(orders[orders['group']=='B']['revenue'].mean()))\n",
    "display('Отношение средних чеков группы B к A: {0:.2f}'.format(orders[orders['group']=='B']['revenue'].mean()/orders[orders['group']=='A']['revenue'].mean()))"
   ]
  },
  {
   "cell_type": "markdown",
   "metadata": {},
   "source": [
    "Вывод: Не получилось отвергнуть нулевую гипотезу, так как статистической значимости в среднем чеке заказа между группами нет, хотя разница общего среднего между ними составила 26%."
   ]
  },
  {
   "cell_type": "markdown",
   "metadata": {},
   "source": [
    "<div class=\"alert alert-warning\">\n",
    "    <h2> Комментарий ревьюера v1<a class=\"tocSkip\"> </h2>\n",
    "    \n",
    "<b>Небольшие замечания и рекомендации💡:</b> Тут кажется закралась опечатка в третей F-строке"
   ]
  },
  {
   "cell_type": "markdown",
   "metadata": {},
   "source": [
    "<div class=\"alert alert-info\"> <b>Комментарий студента:</b> Исправила</div>"
   ]
  },
  {
   "cell_type": "markdown",
   "metadata": {},
   "source": [
    "<div class=\"alert alert-success\">\n",
    "<h2> Комментарий ревьюера v2 <a class=\"tocSkip\"> </h2>\n",
    "\n",
    "<b>Все супер!👍:</b> Отлично)"
   ]
  },
  {
   "cell_type": "markdown",
   "metadata": {},
   "source": [
    "12. Посчитайте статистическую значимость различий в среднем количестве заказов на посетителя между группами по «очищенным» данным. Сделайте выводы и предположения."
   ]
  },
  {
   "cell_type": "markdown",
   "metadata": {},
   "source": [
    "Примем за аномальных пользователей тех, кто совершил от 3 заказов  или совершил заказ дороже 30 000 рублей. \n",
    "- user_boarder = 3\n",
    "- order_boarder = 30000"
   ]
  },
  {
   "cell_type": "code",
   "execution_count": 35,
   "metadata": {},
   "outputs": [
    {
     "data": {
      "text/plain": [
       "1099    148427295\n",
       "18      199603092\n",
       "928     204675465\n",
       "23      237748145\n",
       "684     358944393\n",
       "dtype: int64"
      ]
     },
     "metadata": {},
     "output_type": "display_data"
    },
    {
     "data": {
      "text/plain": [
       "57"
      ]
     },
     "metadata": {},
     "output_type": "display_data"
    }
   ],
   "source": [
    "# сделаем срезы пользователей с числом заказов больше 3\n",
    "users_with_many_orders = pd.concat(\n",
    "    [\n",
    "        orders_by_users_a[orders_by_users_a['orders'] > user_boarder]['visitors_id'],\n",
    "        orders_by_users_b[orders_by_users_b['orders'] > user_boarder]['visitors_id'],\n",
    "    ],\n",
    "    axis=0,\n",
    ")\n",
    "\n",
    "# сделаем срезы пользователей, совершивших заказы дороже 30 000\n",
    "users_with_expensive_orders = orders[orders['revenue'] > order_boarder]['visitor_id']\n",
    "\n",
    "abnormal_users = (\n",
    "    pd.concat([users_with_many_orders, users_with_expensive_orders], axis=0)\n",
    "    .drop_duplicates()\n",
    "    .sort_values()\n",
    ")\n",
    "\n",
    "display(abnormal_users.head(5))\n",
    "display(abnormal_users.shape[0])"
   ]
  },
  {
   "cell_type": "markdown",
   "metadata": {},
   "source": [
    "Вывод: Всего аномальных пользователей - 57."
   ]
  },
  {
   "cell_type": "markdown",
   "metadata": {},
   "source": [
    "Посчитаем статистическую значимость различий в среднем количестве заказов между группами теста по очищенным данным. Сначала подготовим выборки количества заказов по пользователям по группам теста:"
   ]
  },
  {
   "cell_type": "code",
   "execution_count": 36,
   "metadata": {},
   "outputs": [],
   "source": [
    "# отфильтруем данные в группе A\n",
    "sample_a_filtered = pd.concat(\n",
    "    [\n",
    "        orders_by_users_a[\n",
    "            np.logical_not(orders_by_users_a['visitors_id'].isin(abnormal_users))\n",
    "        ]['orders'],\n",
    "        pd.Series(\n",
    "            0,\n",
    "            index=np.arange(\n",
    "                visitors[visitors['group']=='A']['visitors'].sum() - len(orders_by_users_a['orders'])\n",
    "            ),\n",
    "            name='orders',\n",
    "        ),\n",
    "    ],\n",
    "    axis=0,\n",
    ")\n",
    "\n",
    "# отфильтруем данные в группе B\n",
    "sample_b_filtered = pd.concat(\n",
    "    [\n",
    "        orders_by_users_b[\n",
    "            np.logical_not(orders_by_users_b['visitors_id'].isin(abnormal_users))\n",
    "        ]['orders'],\n",
    "        pd.Series(\n",
    "            0,\n",
    "            index=np.arange(\n",
    "                visitors[visitors['group']=='B']['visitors'].sum() - len(orders_by_users_b['orders'])\n",
    "            ),\n",
    "            name='orders',\n",
    "        ),\n",
    "    ],\n",
    "    axis=0,\n",
    ")"
   ]
  },
  {
   "cell_type": "markdown",
   "metadata": {},
   "source": [
    "Применим статистический критерий Манна-Уитни к полученным выборкам:\n",
    "\n"
   ]
  },
  {
   "cell_type": "code",
   "execution_count": 37,
   "metadata": {},
   "outputs": [
    {
     "data": {
      "text/plain": [
       "'Значение p-value : 0.01831750089424907'"
      ]
     },
     "metadata": {},
     "output_type": "display_data"
    },
    {
     "data": {
      "text/plain": [
       "'Отвергаем нулевую гипотезу'"
      ]
     },
     "metadata": {},
     "output_type": "display_data"
    },
    {
     "data": {
      "text/plain": [
       "'Отношение очищенной конверсии В к А: 0.148'"
      ]
     },
     "metadata": {},
     "output_type": "display_data"
    }
   ],
   "source": [
    "results_3 = stats.mannwhitneyu(sample_a_filtered, sample_b_filtered)[1]\n",
    "# зададим значение aplha\n",
    "alpha = 0.05\n",
    "\n",
    "# выведем значение p-value\n",
    "display(f'Значение p-value : {results_3}')\n",
    "\n",
    "if results_3 < alpha:\n",
    "    display('Отвергаем нулевую гипотезу')\n",
    "else:\n",
    "    display('Не получилось отвергнуть нулевую гипотезу')\n",
    "\n",
    "# выведем отношение конверсии В к А\n",
    "display('Отношение очищенной конверсии В к А: {0:.3f}'.format(sample_b_filtered.mean() / sample_a_filtered.mean() - 1))"
   ]
  },
  {
   "cell_type": "markdown",
   "metadata": {},
   "source": [
    "Вывод: Так же отвергаем нулевую гипотезу. Результаты по среднему количеству заказов практически не изменились. "
   ]
  },
  {
   "cell_type": "markdown",
   "metadata": {},
   "source": [
    "13. Посчитайте статистическую значимость различий в среднем чеке заказа между группами по «очищенным» данным. Сделайте выводы и предположения."
   ]
  },
  {
   "cell_type": "code",
   "execution_count": 38,
   "metadata": {},
   "outputs": [
    {
     "data": {
      "text/plain": [
       "'Значение p-value : 0.9583231483662625'"
      ]
     },
     "metadata": {},
     "output_type": "display_data"
    },
    {
     "data": {
      "text/plain": [
       "'Не получилось отвергнуть нулевую гипотезу'"
      ]
     },
     "metadata": {},
     "output_type": "display_data"
    },
    {
     "data": {
      "text/plain": [
       "'Средний очищенный чек группы A: 5333.29'"
      ]
     },
     "metadata": {},
     "output_type": "display_data"
    },
    {
     "data": {
      "text/plain": [
       "'Средний очищенный чек группы B: 5228.22'"
      ]
     },
     "metadata": {},
     "output_type": "display_data"
    },
    {
     "data": {
      "text/plain": [
       "'Отношение очищенной конверсии группы B к группе A: 0.98'"
      ]
     },
     "metadata": {},
     "output_type": "display_data"
    }
   ],
   "source": [
    "results_4 = stats.mannwhitneyu(\n",
    "            orders[\n",
    "                np.logical_and(\n",
    "                    orders['group'] == 'A',\n",
    "                    np.logical_not(orders['visitor_id'].isin(abnormal_users)),\n",
    "                )\n",
    "            ]['revenue'],\n",
    "            orders[\n",
    "                np.logical_and(\n",
    "                    orders['group'] == 'B',\n",
    "                    np.logical_not(orders['visitor_id'].isin(abnormal_users)),\n",
    "                )\n",
    "            ]['revenue'],\n",
    "        )[1]\n",
    "\n",
    "# считаем средние значения\n",
    "mean_revenue_b = orders[\n",
    "            np.logical_and(\n",
    "                orders['group'] == 'B',\n",
    "                np.logical_not(orders['visitor_id'].isin(abnormal_users)),\n",
    "            )\n",
    "        ]['revenue'].mean()\n",
    "\n",
    "mean_revenue_a = orders[\n",
    "            np.logical_and(\n",
    "                orders['group'] == 'A',\n",
    "                np.logical_not(orders['visitor_id'].isin(abnormal_users)),\n",
    "            )\n",
    "        ]['revenue'].mean()\n",
    "    \n",
    "# зададим значение aplha\n",
    "alpha = 0.05\n",
    "\n",
    "# выведем значение p-value\n",
    "display(f'Значение p-value : {results_4}')\n",
    "\n",
    "if results_4 < alpha:\n",
    "    display('Отвергаем нулевую гипотезу')\n",
    "else:\n",
    "    display('Не получилось отвергнуть нулевую гипотезу')\n",
    "\n",
    "display('Средний очищенный чек группы A: {0:.2f}'.format(mean_revenue_a))\n",
    "display('Средний очищенный чек группы B: {0:.2f}'.format(mean_revenue_b))\n",
    "display('Отношение очищенной конверсии группы B к группе A: {0:.2f}'.format(mean_revenue_b / mean_revenue_a))"
   ]
  },
  {
   "cell_type": "markdown",
   "metadata": {},
   "source": [
    "Вывод: значение p-value равно 0.958. Это означает, что мы не можем отвергнуть нулевую гипотезу, то есть разницы между группами нет.\n",
    "\n",
    "Вот что мы узнали:\n",
    "\n",
    "- Средний чек в группе А (очищенные данные) составляет 5333.29.\n",
    "\n",
    "- Средний чек в группе В (очищенные данные) составляет 5228.22.\n",
    "\n",
    "- Отношение среднего чека группы В к группе А равно 0.98.\n",
    "\n",
    "Это значит, что средние чеки обеих групп почти одинаковы и очень близки друг к другу."
   ]
  },
  {
   "cell_type": "markdown",
   "metadata": {},
   "source": [
    "<div class=\"alert alert-success\">\n",
    "<h2> Комментарий ревьюера v1 <a class=\"tocSkip\"> </h2>\n",
    "\n",
    "<b>Все супер!👍:</b> Решения по \"очищенным\" данным верные. И тут без опечаток)"
   ]
  },
  {
   "cell_type": "markdown",
   "metadata": {},
   "source": [
    "14. Примите решение по результатам теста и объясните его. Варианты решений:\n",
    "- Остановить тест, зафиксировать победу одной из групп.\n",
    "- Остановить тест, зафиксировать отсутствие различий между группами.\n",
    "- Продолжить тест."
   ]
  },
  {
   "cell_type": "markdown",
   "metadata": {},
   "source": [
    "Можно остановить тест, так как мы видим, что внесение изменения повлекло положительный результат. Мы это увидели на примере группы B."
   ]
  },
  {
   "cell_type": "markdown",
   "metadata": {},
   "source": [
    "<div class=\"alert alert-block alert-danger\">\n",
    "<h2> Комментарий ревьюера v1<a class=\"tocSkip\"></h2>\n",
    "\n",
    "<b>На доработку🤔:</b> Алина, я не совсем согласен с решением по тесту. Ты получила устойчивый рост графиков группы В и наличие статистически значимых различий в конверсии как по сырым, так и очищенным данным....\n",
    "    \n",
    "Получается, что тест оказался успешным и есть обоснованное расчетами идея повышения показателей"
   ]
  },
  {
   "cell_type": "markdown",
   "metadata": {},
   "source": [
    "<div class=\"alert alert-info\"> <b>Комментарий студента:</b> Исправила решение и общий вывод</div>"
   ]
  },
  {
   "cell_type": "markdown",
   "metadata": {},
   "source": [
    "<div class=\"alert alert-success\">\n",
    "<h2> Комментарий ревьюера v2 <a class=\"tocSkip\"> </h2>\n",
    "\n",
    "<b>Все супер!👍:</b> Теперь интерпретация результатов теста абсолютно верна"
   ]
  },
  {
   "cell_type": "markdown",
   "metadata": {},
   "source": [
    "# Выводы\n",
    "\n",
    "В ходе анализа данных крупного интернет-магазина были выполнены следующие шаги:\n",
    "###### Часть 1. Приоритизация гипотез.\n",
    "- Подготовка и предобработка данных:\n",
    "    - датафрейм `hypothesis` содержит 9 записей, `orders` - 1197, `visitors` - 62\n",
    "    - провели предобработку данных(привели названия столбцов к нижнему регистру, разделили названия с id двух столбцов нижним подчеркиванием)\n",
    "    - изменили тип столбцов, содержащие дату\n",
    "    - пропусков, явных и неявных дубликатов нет.\n",
    "\n",
    "Поработав с приоритизацией гипотез, мы выяснили, что, если необходимо внести изменение, которое повлияет в большинстве своем на охват пользователей, то для проверки подойдет фреймворк `RICE`. Если количество пользователей особо не важно, то для оценки можно применить `ICE`. \n",
    "\n",
    "На данный момент нам необходимо увеличить выручку от пользователей, поэтому в приоритете тестирования у нас будет 7 гипотеза \"Добавить форму подписки на все основные страницы, чтобы собрать базу клиентов для email-рассылок\".\n",
    "\n",
    "###### Часть 2. Анализ A/B-теста\n",
    "Выводы по заданиям 2 части:\n",
    "1. Как мы видим, выручка только растет, группа B лидирует с большим отрывом в конце месяца. 18-19 августа в группе B произошел резкий скачок выручки, это может говорить о том, что в эти дни были дорогие заказы или всплеск числа заказов.\n",
    "2. По графику мы можем наблюдать скачки роста и падения среднего чека у обеих групп, но бросается в глаза взлет выручки группы B 18-19 августа. В конце графика средний чек группы B стал снижаться, а у группы A, наоборот, расти.\n",
    "3. Наблюдаются резкие скачки в графике, вероятно, в группе есть очень дорогие заказы или выбросы.\n",
    "4. В начале графика мы видим, что конверсия группы B (0.029) была ниже группы A (0.033), затем наблюдается резкий рост и такое же падение (вероятно, были дорогие заказы как единичные случаи), но конверсия группы A продолжала падать, а у группы B стала расти и на протяжении всего графика держалась выше группы A. После 29 августа конверсия обеих групп начала снижаться. Группа A достигла пика в 0.037, группа B - 0.036.\n",
    "5. В начале графика мы видим, что группа B была значительно ниже группы A, затем резкий скачок вверх и снова спад, но потом группа B стремительно росла и держалась на протяжении нескольких дней, затем снова снижение и подъем.\n",
    "6. В основном пользователи совершают 1-2 заказа, намного реже больше 2. Как мы видим на графике есть выбросы - несколько пользователей совершили свыше 10 заказов.\n",
    "7. \n",
    "- не больше 5% пользователей совершили более 2 заказов\n",
    "- не больше 1% пользователей совершили более 4 заказов.\n",
    "8. Зачастую пользователи совершают покупку на сумму не превышающую 20 000.\n",
    "9. \n",
    "- не больше 5% пользователей совершает покупку более 28 000 руб.\n",
    "- не больше 1% пользователей совершает покупку более 58 000 руб.\n",
    "10. Отвергаем нулевую гипотезу, так как различия в среднем между группами есть. Относительный прирост группы B равен 13.8%.\n",
    "11. Не получилось отвергнуть нулевую гипотезу, так как статистической значимости в среднем чеке заказа между группами нет, хотя разница общего среднего между ними составила 26%.\n",
    "12. Так же отвергаем нулевую гипотезу. Результаты по среднему количеству заказов практически не изменились. \n",
    "13. Значение p-value равно 0.958. Это означает, что мы не можем отвергнуть нулевую гипотезу, то есть разницы между группами нет.\n",
    "- Средний чек в группе А (очищенные данные) составляет 5333.29.\n",
    "- Средний чек в группе В (очищенные данные) составляет 5228.22.\n",
    "- Отношение среднего чека группы В к группе А равно 0.98.\n",
    "Это значит, что средние чеки обеих групп почти одинаковы и очень близки друг к другу.\n",
    "14. Можно остановить тест, так как мы видим, что внесение изменения повлекло положительный результат. Мы это увидели на примере группы B."
   ]
  },
  {
   "cell_type": "markdown",
   "metadata": {},
   "source": [
    "<div class=\"alert alert-success\">\n",
    "<h2> Комментарий ревьюера v1 <a class=\"tocSkip\"> </h2>\n",
    "\n",
    "<b>Все супер!👍:</b> Алина, проект получился отличный! У тебя очень сильные аналитические навыки и владение инструментами для проведения исследования. Итоговый вывод полностью отражает все этары твоей работы"
   ]
  },
  {
   "cell_type": "markdown",
   "metadata": {},
   "source": [
    "<div style=\"border:solid Chocolate 2px; padding: 40px\">\n",
    "    \n",
    "**Общий вывод по проекту ревьювера**:\n",
    "     Алина, спасибо за  проект! Ты приложила много усилий, чтобы довести его до конца, проделана огромная работа, и это видно невооруженным глазом, ты  молодец! Но у меня осталось несколько не больших дополнений с которыми проект станет еще лучше.\n",
    "    \n",
    "**Отмечу положительные моменты**:\n",
    "    \n",
    "    1. Все разложено по полочкам, всегда понятен ход твоих мыслей, приятно смотреть\n",
    "    \n",
    "    2. Подробные и логичные выводы.\n",
    "    \n",
    "    3. Отличные визуализации\n",
    "    \n",
    "    \n",
    "**На что стоит обратить внимание**:\n",
    "       \n",
    "    1. Небольшая доработка выводов в А/В тестировании\n",
    "    \n",
    "    \n",
    "**Удачи и жду твой проект на повторное ревью!**\n",
    "    \n",
    "    "
   ]
  },
  {
   "cell_type": "markdown",
   "metadata": {},
   "source": [
    "<div class=\"alert alert-success\">\n",
    "<h2> Комментарий ревьюера v2 <a class=\"tocSkip\"> </h2>\n",
    "\n",
    "<b>Все супер!👍:</b> Алина, сспасибо за качественную отработку моих дополнений и хорошую обратную связь"
   ]
  },
  {
   "cell_type": "markdown",
   "metadata": {},
   "source": [
    "<div style=\"border:solid Chocolate 2px; padding: 40px\">\n",
    "    \n",
    "**Общий вывод по проекту ревьювера V2**:\n",
    "     Молодец! Недочеты исправлены, проект зачтен, поздравляю тебя и увидимся в практикуме!   \n"
   ]
  },
  {
   "cell_type": "code",
   "execution_count": null,
   "metadata": {},
   "outputs": [],
   "source": []
  }
 ],
 "metadata": {
  "ExecuteTimeLog": [
   {
    "duration": 916,
    "start_time": "2024-11-19T07:54:13.594Z"
   },
   {
    "duration": 399,
    "start_time": "2024-11-19T07:55:02.474Z"
   },
   {
    "duration": 58,
    "start_time": "2024-11-19T07:58:23.442Z"
   },
   {
    "duration": 318,
    "start_time": "2024-11-19T07:59:35.319Z"
   },
   {
    "duration": 108,
    "start_time": "2024-11-19T08:00:21.610Z"
   },
   {
    "duration": 103,
    "start_time": "2024-11-19T08:00:40.808Z"
   },
   {
    "duration": 5,
    "start_time": "2024-11-19T08:13:52.690Z"
   },
   {
    "duration": 4,
    "start_time": "2024-11-19T08:14:04.736Z"
   },
   {
    "duration": 3,
    "start_time": "2024-11-19T08:19:26.116Z"
   },
   {
    "duration": 9,
    "start_time": "2024-11-19T08:19:43.739Z"
   },
   {
    "duration": 1088,
    "start_time": "2024-11-19T08:19:55.575Z"
   },
   {
    "duration": 161,
    "start_time": "2024-11-19T08:19:56.665Z"
   },
   {
    "duration": 4,
    "start_time": "2024-11-19T08:19:56.828Z"
   },
   {
    "duration": 13,
    "start_time": "2024-11-19T08:19:56.833Z"
   },
   {
    "duration": 4,
    "start_time": "2024-11-19T08:20:14.420Z"
   },
   {
    "duration": 12,
    "start_time": "2024-11-19T08:20:52.925Z"
   },
   {
    "duration": 11,
    "start_time": "2024-11-19T08:21:08.767Z"
   },
   {
    "duration": 16,
    "start_time": "2024-11-19T08:22:47.698Z"
   },
   {
    "duration": 124,
    "start_time": "2024-11-19T08:22:55.660Z"
   },
   {
    "duration": 4,
    "start_time": "2024-11-19T08:23:12.760Z"
   },
   {
    "duration": 1141,
    "start_time": "2024-11-19T08:23:17.445Z"
   },
   {
    "duration": 143,
    "start_time": "2024-11-19T08:23:18.588Z"
   },
   {
    "duration": 5,
    "start_time": "2024-11-19T08:23:18.733Z"
   },
   {
    "duration": 14,
    "start_time": "2024-11-19T08:23:18.740Z"
   },
   {
    "duration": 118,
    "start_time": "2024-11-19T08:23:18.755Z"
   },
   {
    "duration": 0,
    "start_time": "2024-11-19T08:23:18.875Z"
   },
   {
    "duration": 0,
    "start_time": "2024-11-19T08:23:18.876Z"
   },
   {
    "duration": 0,
    "start_time": "2024-11-19T08:23:18.877Z"
   },
   {
    "duration": 3,
    "start_time": "2024-11-19T08:23:40.971Z"
   },
   {
    "duration": 1170,
    "start_time": "2024-11-19T08:23:44.962Z"
   },
   {
    "duration": 158,
    "start_time": "2024-11-19T08:23:46.134Z"
   },
   {
    "duration": 4,
    "start_time": "2024-11-19T08:23:46.293Z"
   },
   {
    "duration": 6,
    "start_time": "2024-11-19T08:23:46.300Z"
   },
   {
    "duration": 14,
    "start_time": "2024-11-19T08:23:46.309Z"
   },
   {
    "duration": 12,
    "start_time": "2024-11-19T08:23:46.326Z"
   },
   {
    "duration": 11,
    "start_time": "2024-11-19T08:23:46.340Z"
   },
   {
    "duration": 12,
    "start_time": "2024-11-19T08:23:46.353Z"
   },
   {
    "duration": 6,
    "start_time": "2024-11-19T08:24:33.347Z"
   },
   {
    "duration": 5,
    "start_time": "2024-11-19T08:25:27.326Z"
   },
   {
    "duration": 6,
    "start_time": "2024-11-19T08:25:53.658Z"
   },
   {
    "duration": 8,
    "start_time": "2024-11-19T08:26:05.967Z"
   },
   {
    "duration": 8,
    "start_time": "2024-11-19T08:26:45.095Z"
   },
   {
    "duration": 9,
    "start_time": "2024-11-19T08:27:38.437Z"
   },
   {
    "duration": 6,
    "start_time": "2024-11-19T08:27:49.956Z"
   },
   {
    "duration": 8,
    "start_time": "2024-11-19T08:29:39.922Z"
   },
   {
    "duration": 7,
    "start_time": "2024-11-19T08:30:24.417Z"
   },
   {
    "duration": 25,
    "start_time": "2024-11-19T08:30:55.129Z"
   },
   {
    "duration": 1030,
    "start_time": "2024-11-19T08:31:04.749Z"
   },
   {
    "duration": 168,
    "start_time": "2024-11-19T08:31:05.782Z"
   },
   {
    "duration": 5,
    "start_time": "2024-11-19T08:31:05.952Z"
   },
   {
    "duration": 9,
    "start_time": "2024-11-19T08:31:05.959Z"
   },
   {
    "duration": 7,
    "start_time": "2024-11-19T08:31:05.970Z"
   },
   {
    "duration": 54,
    "start_time": "2024-11-19T08:31:05.978Z"
   },
   {
    "duration": 42,
    "start_time": "2024-11-19T08:31:06.034Z"
   },
   {
    "duration": 26,
    "start_time": "2024-11-19T08:31:06.077Z"
   },
   {
    "duration": 38,
    "start_time": "2024-11-19T08:31:06.105Z"
   },
   {
    "duration": 29,
    "start_time": "2024-11-19T08:31:06.146Z"
   },
   {
    "duration": 71,
    "start_time": "2024-11-19T08:31:06.177Z"
   },
   {
    "duration": 45,
    "start_time": "2024-11-19T08:31:06.250Z"
   },
   {
    "duration": 12,
    "start_time": "2024-11-19T08:40:31.322Z"
   },
   {
    "duration": 11,
    "start_time": "2024-11-19T08:42:47.162Z"
   },
   {
    "duration": 21,
    "start_time": "2024-11-19T08:44:38.996Z"
   },
   {
    "duration": 8,
    "start_time": "2024-11-19T08:44:52.512Z"
   },
   {
    "duration": 6,
    "start_time": "2024-11-19T08:48:56.149Z"
   },
   {
    "duration": 14,
    "start_time": "2024-11-19T08:49:05.588Z"
   },
   {
    "duration": 3,
    "start_time": "2024-11-19T08:50:13.944Z"
   },
   {
    "duration": 1134,
    "start_time": "2024-11-19T08:50:19.516Z"
   },
   {
    "duration": 149,
    "start_time": "2024-11-19T08:50:20.652Z"
   },
   {
    "duration": 6,
    "start_time": "2024-11-19T08:50:20.803Z"
   },
   {
    "duration": 62,
    "start_time": "2024-11-19T08:50:20.813Z"
   },
   {
    "duration": 45,
    "start_time": "2024-11-19T08:50:20.876Z"
   },
   {
    "duration": 33,
    "start_time": "2024-11-19T08:50:20.925Z"
   },
   {
    "duration": 21,
    "start_time": "2024-11-19T08:50:20.960Z"
   },
   {
    "duration": 25,
    "start_time": "2024-11-19T08:50:20.983Z"
   },
   {
    "duration": 34,
    "start_time": "2024-11-19T08:50:21.010Z"
   },
   {
    "duration": 21,
    "start_time": "2024-11-19T08:50:21.046Z"
   },
   {
    "duration": 26,
    "start_time": "2024-11-19T08:50:21.069Z"
   },
   {
    "duration": 48,
    "start_time": "2024-11-19T08:50:21.098Z"
   },
   {
    "duration": 45,
    "start_time": "2024-11-19T08:50:21.147Z"
   },
   {
    "duration": 53,
    "start_time": "2024-11-19T08:50:21.194Z"
   },
   {
    "duration": 12,
    "start_time": "2024-11-19T08:53:46.624Z"
   },
   {
    "duration": 919,
    "start_time": "2024-11-19T09:09:33.755Z"
   },
   {
    "duration": 26,
    "start_time": "2024-11-19T09:09:41.996Z"
   },
   {
    "duration": 1158,
    "start_time": "2024-11-19T10:00:17.911Z"
   },
   {
    "duration": 177,
    "start_time": "2024-11-19T10:00:19.071Z"
   },
   {
    "duration": 5,
    "start_time": "2024-11-19T10:00:19.251Z"
   },
   {
    "duration": 5,
    "start_time": "2024-11-19T10:00:19.259Z"
   },
   {
    "duration": 15,
    "start_time": "2024-11-19T10:00:19.266Z"
   },
   {
    "duration": 16,
    "start_time": "2024-11-19T10:00:19.284Z"
   },
   {
    "duration": 17,
    "start_time": "2024-11-19T10:00:19.303Z"
   },
   {
    "duration": 22,
    "start_time": "2024-11-19T10:00:19.323Z"
   },
   {
    "duration": 6,
    "start_time": "2024-11-19T10:00:19.348Z"
   },
   {
    "duration": 17,
    "start_time": "2024-11-19T10:00:19.357Z"
   },
   {
    "duration": 8,
    "start_time": "2024-11-19T10:00:19.377Z"
   },
   {
    "duration": 46,
    "start_time": "2024-11-19T10:00:19.386Z"
   },
   {
    "duration": 3,
    "start_time": "2024-11-19T10:00:19.434Z"
   },
   {
    "duration": 23,
    "start_time": "2024-11-19T10:00:19.439Z"
   },
   {
    "duration": 35,
    "start_time": "2024-11-19T10:00:19.464Z"
   },
   {
    "duration": 298,
    "start_time": "2024-11-19T10:16:32.706Z"
   },
   {
    "duration": 275,
    "start_time": "2024-11-19T10:18:46.458Z"
   },
   {
    "duration": 283,
    "start_time": "2024-11-19T10:19:05.008Z"
   },
   {
    "duration": 191,
    "start_time": "2024-11-19T10:19:25.946Z"
   },
   {
    "duration": 185,
    "start_time": "2024-11-19T10:19:34.164Z"
   },
   {
    "duration": 193,
    "start_time": "2024-11-19T10:19:41.229Z"
   },
   {
    "duration": 187,
    "start_time": "2024-11-19T10:19:51.254Z"
   },
   {
    "duration": 216,
    "start_time": "2024-11-19T10:20:02.919Z"
   },
   {
    "duration": 226,
    "start_time": "2024-11-19T10:20:18.910Z"
   },
   {
    "duration": 206,
    "start_time": "2024-11-19T10:20:31.927Z"
   },
   {
    "duration": 211,
    "start_time": "2024-11-19T10:20:42.236Z"
   },
   {
    "duration": 311,
    "start_time": "2024-11-19T10:22:16.689Z"
   },
   {
    "duration": 1191,
    "start_time": "2024-11-19T10:22:48.003Z"
   },
   {
    "duration": 175,
    "start_time": "2024-11-19T10:22:49.196Z"
   },
   {
    "duration": 4,
    "start_time": "2024-11-19T10:22:49.373Z"
   },
   {
    "duration": 8,
    "start_time": "2024-11-19T10:22:49.380Z"
   },
   {
    "duration": 53,
    "start_time": "2024-11-19T10:22:49.390Z"
   },
   {
    "duration": 11,
    "start_time": "2024-11-19T10:22:49.445Z"
   },
   {
    "duration": 8,
    "start_time": "2024-11-19T10:22:49.458Z"
   },
   {
    "duration": 8,
    "start_time": "2024-11-19T10:22:49.468Z"
   },
   {
    "duration": 6,
    "start_time": "2024-11-19T10:22:49.478Z"
   },
   {
    "duration": 12,
    "start_time": "2024-11-19T10:22:49.487Z"
   },
   {
    "duration": 8,
    "start_time": "2024-11-19T10:22:49.501Z"
   },
   {
    "duration": 24,
    "start_time": "2024-11-19T10:22:49.511Z"
   },
   {
    "duration": 2,
    "start_time": "2024-11-19T10:22:49.537Z"
   },
   {
    "duration": 16,
    "start_time": "2024-11-19T10:22:49.541Z"
   },
   {
    "duration": 48,
    "start_time": "2024-11-19T10:22:49.558Z"
   },
   {
    "duration": 328,
    "start_time": "2024-11-19T10:22:49.607Z"
   },
   {
    "duration": 361,
    "start_time": "2024-11-19T10:22:49.937Z"
   },
   {
    "duration": 49,
    "start_time": "2024-11-20T06:01:04.085Z"
   },
   {
    "duration": 1184,
    "start_time": "2024-11-20T06:01:35.641Z"
   },
   {
    "duration": 303,
    "start_time": "2024-11-20T06:01:36.827Z"
   },
   {
    "duration": 4,
    "start_time": "2024-11-20T06:01:37.132Z"
   },
   {
    "duration": 10,
    "start_time": "2024-11-20T06:01:37.139Z"
   },
   {
    "duration": 10,
    "start_time": "2024-11-20T06:01:37.151Z"
   },
   {
    "duration": 13,
    "start_time": "2024-11-20T06:01:37.162Z"
   },
   {
    "duration": 12,
    "start_time": "2024-11-20T06:01:37.177Z"
   },
   {
    "duration": 6,
    "start_time": "2024-11-20T06:01:37.191Z"
   },
   {
    "duration": 16,
    "start_time": "2024-11-20T06:01:37.199Z"
   },
   {
    "duration": 17,
    "start_time": "2024-11-20T06:01:37.217Z"
   },
   {
    "duration": 7,
    "start_time": "2024-11-20T06:01:37.235Z"
   },
   {
    "duration": 27,
    "start_time": "2024-11-20T06:01:37.243Z"
   },
   {
    "duration": 8,
    "start_time": "2024-11-20T06:01:37.272Z"
   },
   {
    "duration": 16,
    "start_time": "2024-11-20T06:01:37.282Z"
   },
   {
    "duration": 26,
    "start_time": "2024-11-20T06:01:37.300Z"
   },
   {
    "duration": 300,
    "start_time": "2024-11-20T06:01:37.327Z"
   },
   {
    "duration": 297,
    "start_time": "2024-11-20T06:01:37.629Z"
   },
   {
    "duration": 196,
    "start_time": "2024-11-20T06:01:37.928Z"
   },
   {
    "duration": 271,
    "start_time": "2024-11-20T06:01:59.558Z"
   },
   {
    "duration": 1005,
    "start_time": "2024-11-20T06:02:13.875Z"
   },
   {
    "duration": 129,
    "start_time": "2024-11-20T06:02:14.882Z"
   },
   {
    "duration": 3,
    "start_time": "2024-11-20T06:02:15.013Z"
   },
   {
    "duration": 111,
    "start_time": "2024-11-20T06:02:15.018Z"
   },
   {
    "duration": 24,
    "start_time": "2024-11-20T06:02:15.130Z"
   },
   {
    "duration": 26,
    "start_time": "2024-11-20T06:02:15.156Z"
   },
   {
    "duration": 47,
    "start_time": "2024-11-20T06:02:15.183Z"
   },
   {
    "duration": 15,
    "start_time": "2024-11-20T06:02:15.232Z"
   },
   {
    "duration": 11,
    "start_time": "2024-11-20T06:02:15.248Z"
   },
   {
    "duration": 12,
    "start_time": "2024-11-20T06:02:15.262Z"
   },
   {
    "duration": 36,
    "start_time": "2024-11-20T06:02:15.275Z"
   },
   {
    "duration": 52,
    "start_time": "2024-11-20T06:02:15.313Z"
   },
   {
    "duration": 35,
    "start_time": "2024-11-20T06:02:15.366Z"
   },
   {
    "duration": 19,
    "start_time": "2024-11-20T06:02:15.403Z"
   },
   {
    "duration": 21,
    "start_time": "2024-11-20T06:02:15.424Z"
   },
   {
    "duration": 276,
    "start_time": "2024-11-20T06:02:15.446Z"
   },
   {
    "duration": 343,
    "start_time": "2024-11-20T06:02:15.724Z"
   },
   {
    "duration": 287,
    "start_time": "2024-11-20T06:02:16.069Z"
   },
   {
    "duration": 187,
    "start_time": "2024-11-20T06:02:29.187Z"
   },
   {
    "duration": 187,
    "start_time": "2024-11-20T06:02:45.867Z"
   },
   {
    "duration": 197,
    "start_time": "2024-11-20T06:06:16.805Z"
   },
   {
    "duration": 1147,
    "start_time": "2024-11-20T06:19:10.939Z"
   },
   {
    "duration": 1009,
    "start_time": "2024-11-20T06:19:31.796Z"
   },
   {
    "duration": 133,
    "start_time": "2024-11-20T06:19:32.807Z"
   },
   {
    "duration": 3,
    "start_time": "2024-11-20T06:19:32.942Z"
   },
   {
    "duration": 31,
    "start_time": "2024-11-20T06:19:32.947Z"
   },
   {
    "duration": 26,
    "start_time": "2024-11-20T06:19:32.979Z"
   },
   {
    "duration": 16,
    "start_time": "2024-11-20T06:19:33.007Z"
   },
   {
    "duration": 6,
    "start_time": "2024-11-20T06:19:33.024Z"
   },
   {
    "duration": 15,
    "start_time": "2024-11-20T06:19:33.031Z"
   },
   {
    "duration": 7,
    "start_time": "2024-11-20T06:19:33.047Z"
   },
   {
    "duration": 49,
    "start_time": "2024-11-20T06:19:33.057Z"
   },
   {
    "duration": 17,
    "start_time": "2024-11-20T06:19:33.108Z"
   },
   {
    "duration": 34,
    "start_time": "2024-11-20T06:19:33.127Z"
   },
   {
    "duration": 7,
    "start_time": "2024-11-20T06:19:33.163Z"
   },
   {
    "duration": 17,
    "start_time": "2024-11-20T06:19:33.171Z"
   },
   {
    "duration": 15,
    "start_time": "2024-11-20T06:19:33.189Z"
   },
   {
    "duration": 262,
    "start_time": "2024-11-20T06:19:33.206Z"
   },
   {
    "duration": 289,
    "start_time": "2024-11-20T06:19:33.470Z"
   },
   {
    "duration": 201,
    "start_time": "2024-11-20T06:19:33.761Z"
   },
   {
    "duration": 1667,
    "start_time": "2024-11-20T06:19:33.964Z"
   },
   {
    "duration": 11,
    "start_time": "2024-11-20T06:21:51.249Z"
   },
   {
    "duration": 10,
    "start_time": "2024-11-20T06:22:10.935Z"
   },
   {
    "duration": 1021,
    "start_time": "2024-11-20T06:23:30.674Z"
   },
   {
    "duration": 123,
    "start_time": "2024-11-20T06:23:31.697Z"
   },
   {
    "duration": 4,
    "start_time": "2024-11-20T06:23:31.823Z"
   },
   {
    "duration": 43,
    "start_time": "2024-11-20T06:23:31.828Z"
   },
   {
    "duration": 8,
    "start_time": "2024-11-20T06:23:31.873Z"
   },
   {
    "duration": 10,
    "start_time": "2024-11-20T06:23:31.882Z"
   },
   {
    "duration": 6,
    "start_time": "2024-11-20T06:23:31.893Z"
   },
   {
    "duration": 5,
    "start_time": "2024-11-20T06:23:31.901Z"
   },
   {
    "duration": 4,
    "start_time": "2024-11-20T06:23:31.909Z"
   },
   {
    "duration": 17,
    "start_time": "2024-11-20T06:23:31.915Z"
   },
   {
    "duration": 11,
    "start_time": "2024-11-20T06:23:31.934Z"
   },
   {
    "duration": 29,
    "start_time": "2024-11-20T06:23:31.947Z"
   },
   {
    "duration": 2,
    "start_time": "2024-11-20T06:23:31.978Z"
   },
   {
    "duration": 12,
    "start_time": "2024-11-20T06:23:31.982Z"
   },
   {
    "duration": 17,
    "start_time": "2024-11-20T06:23:31.995Z"
   },
   {
    "duration": 264,
    "start_time": "2024-11-20T06:23:32.014Z"
   },
   {
    "duration": 288,
    "start_time": "2024-11-20T06:23:32.280Z"
   },
   {
    "duration": 191,
    "start_time": "2024-11-20T06:23:32.569Z"
   },
   {
    "duration": 10,
    "start_time": "2024-11-20T06:23:32.762Z"
   },
   {
    "duration": 319,
    "start_time": "2024-11-20T06:23:32.773Z"
   },
   {
    "duration": 944,
    "start_time": "2024-11-20T06:24:52.569Z"
   },
   {
    "duration": 128,
    "start_time": "2024-11-20T06:24:53.515Z"
   },
   {
    "duration": 3,
    "start_time": "2024-11-20T06:24:53.644Z"
   },
   {
    "duration": 9,
    "start_time": "2024-11-20T06:24:53.649Z"
   },
   {
    "duration": 8,
    "start_time": "2024-11-20T06:24:53.659Z"
   },
   {
    "duration": 6,
    "start_time": "2024-11-20T06:24:53.668Z"
   },
   {
    "duration": 12,
    "start_time": "2024-11-20T06:24:53.675Z"
   },
   {
    "duration": 6,
    "start_time": "2024-11-20T06:24:53.688Z"
   },
   {
    "duration": 10,
    "start_time": "2024-11-20T06:24:53.695Z"
   },
   {
    "duration": 5,
    "start_time": "2024-11-20T06:24:53.713Z"
   },
   {
    "duration": 6,
    "start_time": "2024-11-20T06:24:53.719Z"
   },
   {
    "duration": 25,
    "start_time": "2024-11-20T06:24:53.727Z"
   },
   {
    "duration": 2,
    "start_time": "2024-11-20T06:24:53.754Z"
   },
   {
    "duration": 18,
    "start_time": "2024-11-20T06:24:53.758Z"
   },
   {
    "duration": 36,
    "start_time": "2024-11-20T06:24:53.778Z"
   },
   {
    "duration": 280,
    "start_time": "2024-11-20T06:24:53.816Z"
   },
   {
    "duration": 322,
    "start_time": "2024-11-20T06:24:54.098Z"
   },
   {
    "duration": 224,
    "start_time": "2024-11-20T06:24:54.421Z"
   },
   {
    "duration": 11,
    "start_time": "2024-11-20T06:24:54.647Z"
   },
   {
    "duration": 311,
    "start_time": "2024-11-20T06:24:54.660Z"
   },
   {
    "duration": 192,
    "start_time": "2024-11-20T06:26:00.773Z"
   },
   {
    "duration": 249,
    "start_time": "2024-11-20T06:26:19.437Z"
   },
   {
    "duration": 962,
    "start_time": "2024-11-20T06:26:28.652Z"
   },
   {
    "duration": 129,
    "start_time": "2024-11-20T06:26:29.616Z"
   },
   {
    "duration": 3,
    "start_time": "2024-11-20T06:26:29.747Z"
   },
   {
    "duration": 4,
    "start_time": "2024-11-20T06:26:29.752Z"
   },
   {
    "duration": 8,
    "start_time": "2024-11-20T06:26:29.757Z"
   },
   {
    "duration": 13,
    "start_time": "2024-11-20T06:26:29.766Z"
   },
   {
    "duration": 6,
    "start_time": "2024-11-20T06:26:29.781Z"
   },
   {
    "duration": 6,
    "start_time": "2024-11-20T06:26:29.788Z"
   },
   {
    "duration": 17,
    "start_time": "2024-11-20T06:26:29.796Z"
   },
   {
    "duration": 11,
    "start_time": "2024-11-20T06:26:29.816Z"
   },
   {
    "duration": 8,
    "start_time": "2024-11-20T06:26:29.828Z"
   },
   {
    "duration": 26,
    "start_time": "2024-11-20T06:26:29.837Z"
   },
   {
    "duration": 2,
    "start_time": "2024-11-20T06:26:29.865Z"
   },
   {
    "duration": 14,
    "start_time": "2024-11-20T06:26:29.869Z"
   },
   {
    "duration": 38,
    "start_time": "2024-11-20T06:26:29.884Z"
   },
   {
    "duration": 274,
    "start_time": "2024-11-20T06:26:29.923Z"
   },
   {
    "duration": 287,
    "start_time": "2024-11-20T06:26:30.199Z"
   },
   {
    "duration": 194,
    "start_time": "2024-11-20T06:26:30.488Z"
   },
   {
    "duration": 11,
    "start_time": "2024-11-20T06:26:30.684Z"
   },
   {
    "duration": 317,
    "start_time": "2024-11-20T06:26:30.696Z"
   },
   {
    "duration": 270,
    "start_time": "2024-11-20T06:31:24.975Z"
   },
   {
    "duration": 1080,
    "start_time": "2024-11-20T06:39:26.747Z"
   },
   {
    "duration": 127,
    "start_time": "2024-11-20T06:39:27.829Z"
   },
   {
    "duration": 3,
    "start_time": "2024-11-20T06:39:27.958Z"
   },
   {
    "duration": 5,
    "start_time": "2024-11-20T06:39:27.962Z"
   },
   {
    "duration": 21,
    "start_time": "2024-11-20T06:39:27.968Z"
   },
   {
    "duration": 9,
    "start_time": "2024-11-20T06:39:27.990Z"
   },
   {
    "duration": 7,
    "start_time": "2024-11-20T06:39:28.000Z"
   },
   {
    "duration": 5,
    "start_time": "2024-11-20T06:39:28.008Z"
   },
   {
    "duration": 5,
    "start_time": "2024-11-20T06:39:28.014Z"
   },
   {
    "duration": 6,
    "start_time": "2024-11-20T06:39:28.021Z"
   },
   {
    "duration": 5,
    "start_time": "2024-11-20T06:39:28.028Z"
   },
   {
    "duration": 19,
    "start_time": "2024-11-20T06:39:28.035Z"
   },
   {
    "duration": 2,
    "start_time": "2024-11-20T06:39:28.055Z"
   },
   {
    "duration": 19,
    "start_time": "2024-11-20T06:39:28.059Z"
   },
   {
    "duration": 38,
    "start_time": "2024-11-20T06:39:28.079Z"
   },
   {
    "duration": 263,
    "start_time": "2024-11-20T06:39:28.119Z"
   },
   {
    "duration": 298,
    "start_time": "2024-11-20T06:39:28.383Z"
   },
   {
    "duration": 204,
    "start_time": "2024-11-20T06:39:28.683Z"
   },
   {
    "duration": 10,
    "start_time": "2024-11-20T06:39:28.889Z"
   },
   {
    "duration": 324,
    "start_time": "2024-11-20T06:39:28.901Z"
   },
   {
    "duration": 277,
    "start_time": "2024-11-20T06:39:29.227Z"
   },
   {
    "duration": 181,
    "start_time": "2024-11-20T06:39:44.737Z"
   },
   {
    "duration": 172,
    "start_time": "2024-11-20T06:40:36.368Z"
   },
   {
    "duration": 970,
    "start_time": "2024-11-20T06:41:04.335Z"
   },
   {
    "duration": 132,
    "start_time": "2024-11-20T06:41:05.307Z"
   },
   {
    "duration": 3,
    "start_time": "2024-11-20T06:41:05.441Z"
   },
   {
    "duration": 22,
    "start_time": "2024-11-20T06:41:05.445Z"
   },
   {
    "duration": 8,
    "start_time": "2024-11-20T06:41:05.469Z"
   },
   {
    "duration": 11,
    "start_time": "2024-11-20T06:41:05.478Z"
   },
   {
    "duration": 6,
    "start_time": "2024-11-20T06:41:05.490Z"
   },
   {
    "duration": 7,
    "start_time": "2024-11-20T06:41:05.497Z"
   },
   {
    "duration": 4,
    "start_time": "2024-11-20T06:41:05.505Z"
   },
   {
    "duration": 21,
    "start_time": "2024-11-20T06:41:05.511Z"
   },
   {
    "duration": 7,
    "start_time": "2024-11-20T06:41:05.533Z"
   },
   {
    "duration": 29,
    "start_time": "2024-11-20T06:41:05.542Z"
   },
   {
    "duration": 14,
    "start_time": "2024-11-20T06:41:05.572Z"
   },
   {
    "duration": 15,
    "start_time": "2024-11-20T06:41:05.587Z"
   },
   {
    "duration": 22,
    "start_time": "2024-11-20T06:41:05.604Z"
   },
   {
    "duration": 295,
    "start_time": "2024-11-20T06:41:05.628Z"
   },
   {
    "duration": 272,
    "start_time": "2024-11-20T06:41:05.925Z"
   },
   {
    "duration": 205,
    "start_time": "2024-11-20T06:41:06.198Z"
   },
   {
    "duration": 15,
    "start_time": "2024-11-20T06:41:06.404Z"
   },
   {
    "duration": 292,
    "start_time": "2024-11-20T06:41:06.420Z"
   },
   {
    "duration": 278,
    "start_time": "2024-11-20T06:41:06.713Z"
   },
   {
    "duration": 1031,
    "start_time": "2024-11-20T06:44:02.574Z"
   },
   {
    "duration": 126,
    "start_time": "2024-11-20T06:44:03.606Z"
   },
   {
    "duration": 3,
    "start_time": "2024-11-20T06:44:03.734Z"
   },
   {
    "duration": 21,
    "start_time": "2024-11-20T06:44:03.738Z"
   },
   {
    "duration": 21,
    "start_time": "2024-11-20T06:44:03.761Z"
   },
   {
    "duration": 21,
    "start_time": "2024-11-20T06:44:03.783Z"
   },
   {
    "duration": 19,
    "start_time": "2024-11-20T06:44:03.806Z"
   },
   {
    "duration": 8,
    "start_time": "2024-11-20T06:44:03.826Z"
   },
   {
    "duration": 10,
    "start_time": "2024-11-20T06:44:03.835Z"
   },
   {
    "duration": 32,
    "start_time": "2024-11-20T06:44:03.848Z"
   },
   {
    "duration": 8,
    "start_time": "2024-11-20T06:44:03.882Z"
   },
   {
    "duration": 36,
    "start_time": "2024-11-20T06:44:03.892Z"
   },
   {
    "duration": 10,
    "start_time": "2024-11-20T06:44:03.929Z"
   },
   {
    "duration": 12,
    "start_time": "2024-11-20T06:44:03.940Z"
   },
   {
    "duration": 19,
    "start_time": "2024-11-20T06:44:03.953Z"
   },
   {
    "duration": 285,
    "start_time": "2024-11-20T06:44:03.974Z"
   },
   {
    "duration": 278,
    "start_time": "2024-11-20T06:44:04.261Z"
   },
   {
    "duration": 201,
    "start_time": "2024-11-20T06:44:04.540Z"
   },
   {
    "duration": 11,
    "start_time": "2024-11-20T06:44:04.742Z"
   },
   {
    "duration": 290,
    "start_time": "2024-11-20T06:44:04.754Z"
   },
   {
    "duration": 279,
    "start_time": "2024-11-20T06:44:05.046Z"
   },
   {
    "duration": 37,
    "start_time": "2024-11-20T06:45:36.874Z"
   },
   {
    "duration": 1044,
    "start_time": "2024-11-20T06:45:46.086Z"
   },
   {
    "duration": 133,
    "start_time": "2024-11-20T06:45:47.131Z"
   },
   {
    "duration": 3,
    "start_time": "2024-11-20T06:45:47.265Z"
   },
   {
    "duration": 34,
    "start_time": "2024-11-20T06:45:47.270Z"
   },
   {
    "duration": 46,
    "start_time": "2024-11-20T06:45:47.305Z"
   },
   {
    "duration": 13,
    "start_time": "2024-11-20T06:45:47.353Z"
   },
   {
    "duration": 8,
    "start_time": "2024-11-20T06:45:47.367Z"
   },
   {
    "duration": 5,
    "start_time": "2024-11-20T06:45:47.376Z"
   },
   {
    "duration": 6,
    "start_time": "2024-11-20T06:45:47.382Z"
   },
   {
    "duration": 5,
    "start_time": "2024-11-20T06:45:47.390Z"
   },
   {
    "duration": 6,
    "start_time": "2024-11-20T06:45:47.396Z"
   },
   {
    "duration": 20,
    "start_time": "2024-11-20T06:45:47.403Z"
   },
   {
    "duration": 2,
    "start_time": "2024-11-20T06:45:47.424Z"
   },
   {
    "duration": 48,
    "start_time": "2024-11-20T06:45:47.427Z"
   },
   {
    "duration": 15,
    "start_time": "2024-11-20T06:45:47.477Z"
   },
   {
    "duration": 253,
    "start_time": "2024-11-20T06:45:47.493Z"
   },
   {
    "duration": 303,
    "start_time": "2024-11-20T06:45:47.747Z"
   },
   {
    "duration": 208,
    "start_time": "2024-11-20T06:45:48.052Z"
   },
   {
    "duration": 11,
    "start_time": "2024-11-20T06:45:48.262Z"
   },
   {
    "duration": 290,
    "start_time": "2024-11-20T06:45:48.275Z"
   },
   {
    "duration": 49,
    "start_time": "2024-11-20T06:45:48.566Z"
   },
   {
    "duration": 1013,
    "start_time": "2024-11-20T06:46:48.629Z"
   },
   {
    "duration": 124,
    "start_time": "2024-11-20T06:46:49.643Z"
   },
   {
    "duration": 3,
    "start_time": "2024-11-20T06:46:49.768Z"
   },
   {
    "duration": 7,
    "start_time": "2024-11-20T06:46:49.773Z"
   },
   {
    "duration": 7,
    "start_time": "2024-11-20T06:46:49.781Z"
   },
   {
    "duration": 17,
    "start_time": "2024-11-20T06:46:49.789Z"
   },
   {
    "duration": 11,
    "start_time": "2024-11-20T06:46:49.807Z"
   },
   {
    "duration": 16,
    "start_time": "2024-11-20T06:46:49.820Z"
   },
   {
    "duration": 9,
    "start_time": "2024-11-20T06:46:49.837Z"
   },
   {
    "duration": 6,
    "start_time": "2024-11-20T06:46:49.848Z"
   },
   {
    "duration": 6,
    "start_time": "2024-11-20T06:46:49.855Z"
   },
   {
    "duration": 21,
    "start_time": "2024-11-20T06:46:49.862Z"
   },
   {
    "duration": 3,
    "start_time": "2024-11-20T06:46:49.884Z"
   },
   {
    "duration": 37,
    "start_time": "2024-11-20T06:46:49.888Z"
   },
   {
    "duration": 11,
    "start_time": "2024-11-20T06:46:49.927Z"
   },
   {
    "duration": 296,
    "start_time": "2024-11-20T06:46:49.939Z"
   },
   {
    "duration": 284,
    "start_time": "2024-11-20T06:46:50.236Z"
   },
   {
    "duration": 203,
    "start_time": "2024-11-20T06:46:50.522Z"
   },
   {
    "duration": 10,
    "start_time": "2024-11-20T06:46:50.726Z"
   },
   {
    "duration": 286,
    "start_time": "2024-11-20T06:46:50.737Z"
   },
   {
    "duration": 36,
    "start_time": "2024-11-20T06:46:51.025Z"
   },
   {
    "duration": 39,
    "start_time": "2024-11-20T06:47:22.277Z"
   },
   {
    "duration": 257,
    "start_time": "2024-11-20T06:47:34.611Z"
   },
   {
    "duration": 178,
    "start_time": "2024-11-20T06:47:51.316Z"
   },
   {
    "duration": 170,
    "start_time": "2024-11-20T06:47:57.853Z"
   },
   {
    "duration": 176,
    "start_time": "2024-11-20T06:48:06.114Z"
   },
   {
    "duration": 1036,
    "start_time": "2024-11-20T06:50:52.606Z"
   },
   {
    "duration": 125,
    "start_time": "2024-11-20T06:50:53.643Z"
   },
   {
    "duration": 3,
    "start_time": "2024-11-20T06:50:53.769Z"
   },
   {
    "duration": 6,
    "start_time": "2024-11-20T06:50:53.774Z"
   },
   {
    "duration": 14,
    "start_time": "2024-11-20T06:50:53.781Z"
   },
   {
    "duration": 10,
    "start_time": "2024-11-20T06:50:53.797Z"
   },
   {
    "duration": 10,
    "start_time": "2024-11-20T06:50:53.808Z"
   },
   {
    "duration": 11,
    "start_time": "2024-11-20T06:50:53.819Z"
   },
   {
    "duration": 4,
    "start_time": "2024-11-20T06:50:53.832Z"
   },
   {
    "duration": 15,
    "start_time": "2024-11-20T06:50:53.838Z"
   },
   {
    "duration": 13,
    "start_time": "2024-11-20T06:50:53.854Z"
   },
   {
    "duration": 31,
    "start_time": "2024-11-20T06:50:53.868Z"
   },
   {
    "duration": 6,
    "start_time": "2024-11-20T06:50:53.900Z"
   },
   {
    "duration": 15,
    "start_time": "2024-11-20T06:50:53.907Z"
   },
   {
    "duration": 24,
    "start_time": "2024-11-20T06:50:53.923Z"
   },
   {
    "duration": 257,
    "start_time": "2024-11-20T06:50:53.948Z"
   },
   {
    "duration": 292,
    "start_time": "2024-11-20T06:50:54.212Z"
   },
   {
    "duration": 194,
    "start_time": "2024-11-20T06:50:54.505Z"
   },
   {
    "duration": 17,
    "start_time": "2024-11-20T06:50:54.700Z"
   },
   {
    "duration": 302,
    "start_time": "2024-11-20T06:50:54.718Z"
   },
   {
    "duration": 305,
    "start_time": "2024-11-20T06:50:55.022Z"
   },
   {
    "duration": 185,
    "start_time": "2024-11-20T06:51:18.815Z"
   },
   {
    "duration": 180,
    "start_time": "2024-11-20T06:51:35.680Z"
   },
   {
    "duration": 1084,
    "start_time": "2024-11-20T06:51:54.778Z"
   },
   {
    "duration": 90,
    "start_time": "2024-11-20T06:51:55.863Z"
   },
   {
    "duration": 3,
    "start_time": "2024-11-20T06:51:55.955Z"
   },
   {
    "duration": 11,
    "start_time": "2024-11-20T06:51:55.960Z"
   },
   {
    "duration": 21,
    "start_time": "2024-11-20T06:51:55.972Z"
   },
   {
    "duration": 6,
    "start_time": "2024-11-20T06:51:55.994Z"
   },
   {
    "duration": 12,
    "start_time": "2024-11-20T06:51:56.001Z"
   },
   {
    "duration": 6,
    "start_time": "2024-11-20T06:51:56.015Z"
   },
   {
    "duration": 14,
    "start_time": "2024-11-20T06:51:56.022Z"
   },
   {
    "duration": 6,
    "start_time": "2024-11-20T06:51:56.038Z"
   },
   {
    "duration": 5,
    "start_time": "2024-11-20T06:51:56.046Z"
   },
   {
    "duration": 27,
    "start_time": "2024-11-20T06:51:56.053Z"
   },
   {
    "duration": 2,
    "start_time": "2024-11-20T06:51:56.082Z"
   },
   {
    "duration": 33,
    "start_time": "2024-11-20T06:51:56.086Z"
   },
   {
    "duration": 15,
    "start_time": "2024-11-20T06:51:56.121Z"
   },
   {
    "duration": 274,
    "start_time": "2024-11-20T06:51:56.137Z"
   },
   {
    "duration": 276,
    "start_time": "2024-11-20T06:51:56.412Z"
   },
   {
    "duration": 196,
    "start_time": "2024-11-20T06:51:56.689Z"
   },
   {
    "duration": 9,
    "start_time": "2024-11-20T06:51:56.887Z"
   },
   {
    "duration": 319,
    "start_time": "2024-11-20T06:51:56.898Z"
   },
   {
    "duration": 165,
    "start_time": "2024-11-20T06:51:57.218Z"
   },
   {
    "duration": 177,
    "start_time": "2024-11-20T06:52:06.874Z"
   },
   {
    "duration": 160,
    "start_time": "2024-11-20T06:52:26.314Z"
   },
   {
    "duration": 177,
    "start_time": "2024-11-20T06:52:34.615Z"
   },
   {
    "duration": 1051,
    "start_time": "2024-11-20T06:52:40.507Z"
   },
   {
    "duration": 96,
    "start_time": "2024-11-20T06:52:41.559Z"
   },
   {
    "duration": 3,
    "start_time": "2024-11-20T06:52:41.657Z"
   },
   {
    "duration": 4,
    "start_time": "2024-11-20T06:52:41.662Z"
   },
   {
    "duration": 13,
    "start_time": "2024-11-20T06:52:41.668Z"
   },
   {
    "duration": 5,
    "start_time": "2024-11-20T06:52:41.683Z"
   },
   {
    "duration": 16,
    "start_time": "2024-11-20T06:52:41.689Z"
   },
   {
    "duration": 6,
    "start_time": "2024-11-20T06:52:41.706Z"
   },
   {
    "duration": 10,
    "start_time": "2024-11-20T06:52:41.714Z"
   },
   {
    "duration": 8,
    "start_time": "2024-11-20T06:52:41.726Z"
   },
   {
    "duration": 48,
    "start_time": "2024-11-20T06:52:41.736Z"
   },
   {
    "duration": 27,
    "start_time": "2024-11-20T06:52:41.786Z"
   },
   {
    "duration": 2,
    "start_time": "2024-11-20T06:52:41.815Z"
   },
   {
    "duration": 28,
    "start_time": "2024-11-20T06:52:41.818Z"
   },
   {
    "duration": 14,
    "start_time": "2024-11-20T06:52:41.848Z"
   },
   {
    "duration": 261,
    "start_time": "2024-11-20T06:52:41.863Z"
   },
   {
    "duration": 273,
    "start_time": "2024-11-20T06:52:42.126Z"
   },
   {
    "duration": 191,
    "start_time": "2024-11-20T06:52:42.400Z"
   },
   {
    "duration": 9,
    "start_time": "2024-11-20T06:52:42.593Z"
   },
   {
    "duration": 310,
    "start_time": "2024-11-20T06:52:42.604Z"
   },
   {
    "duration": 167,
    "start_time": "2024-11-20T06:52:42.916Z"
   },
   {
    "duration": 191,
    "start_time": "2024-11-20T06:54:12.247Z"
   },
   {
    "duration": 183,
    "start_time": "2024-11-20T06:54:38.498Z"
   },
   {
    "duration": 177,
    "start_time": "2024-11-20T06:54:44.409Z"
   },
   {
    "duration": 181,
    "start_time": "2024-11-20T06:54:50.291Z"
   },
   {
    "duration": 196,
    "start_time": "2024-11-20T06:55:07.237Z"
   },
   {
    "duration": 230,
    "start_time": "2024-11-20T06:55:20.092Z"
   },
   {
    "duration": 184,
    "start_time": "2024-11-20T06:55:28.391Z"
   },
   {
    "duration": 199,
    "start_time": "2024-11-20T07:22:38.182Z"
   },
   {
    "duration": 99,
    "start_time": "2024-11-20T07:26:54.558Z"
   },
   {
    "duration": 351,
    "start_time": "2024-11-20T07:27:04.883Z"
   },
   {
    "duration": 315,
    "start_time": "2024-11-20T07:27:34.799Z"
   },
   {
    "duration": 328,
    "start_time": "2024-11-20T07:27:49.110Z"
   },
   {
    "duration": 343,
    "start_time": "2024-11-20T07:28:37.406Z"
   },
   {
    "duration": 307,
    "start_time": "2024-11-20T07:31:05.151Z"
   },
   {
    "duration": 10,
    "start_time": "2024-11-20T07:39:38.229Z"
   },
   {
    "duration": 10,
    "start_time": "2024-11-20T07:39:54.993Z"
   },
   {
    "duration": 14,
    "start_time": "2024-11-20T07:41:55.165Z"
   },
   {
    "duration": 163,
    "start_time": "2024-11-20T07:46:36.910Z"
   },
   {
    "duration": 5,
    "start_time": "2024-11-20T07:50:40.844Z"
   },
   {
    "duration": 146,
    "start_time": "2024-11-20T07:59:42.358Z"
   },
   {
    "duration": 157,
    "start_time": "2024-11-20T08:01:14.186Z"
   },
   {
    "duration": 236,
    "start_time": "2024-11-20T08:04:30.859Z"
   },
   {
    "duration": 6,
    "start_time": "2024-11-20T08:07:32.936Z"
   },
   {
    "duration": 3,
    "start_time": "2024-11-20T08:09:48.422Z"
   },
   {
    "duration": 1032,
    "start_time": "2024-11-20T08:09:53.465Z"
   },
   {
    "duration": 99,
    "start_time": "2024-11-20T08:09:54.499Z"
   },
   {
    "duration": 3,
    "start_time": "2024-11-20T08:09:54.599Z"
   },
   {
    "duration": 6,
    "start_time": "2024-11-20T08:09:54.604Z"
   },
   {
    "duration": 23,
    "start_time": "2024-11-20T08:09:54.611Z"
   },
   {
    "duration": 8,
    "start_time": "2024-11-20T08:09:54.636Z"
   },
   {
    "duration": 8,
    "start_time": "2024-11-20T08:09:54.645Z"
   },
   {
    "duration": 8,
    "start_time": "2024-11-20T08:09:54.654Z"
   },
   {
    "duration": 4,
    "start_time": "2024-11-20T08:09:54.664Z"
   },
   {
    "duration": 7,
    "start_time": "2024-11-20T08:09:54.670Z"
   },
   {
    "duration": 8,
    "start_time": "2024-11-20T08:09:54.679Z"
   },
   {
    "duration": 42,
    "start_time": "2024-11-20T08:09:54.688Z"
   },
   {
    "duration": 3,
    "start_time": "2024-11-20T08:09:54.732Z"
   },
   {
    "duration": 13,
    "start_time": "2024-11-20T08:09:54.737Z"
   },
   {
    "duration": 10,
    "start_time": "2024-11-20T08:09:54.752Z"
   },
   {
    "duration": 301,
    "start_time": "2024-11-20T08:09:54.763Z"
   },
   {
    "duration": 322,
    "start_time": "2024-11-20T08:09:55.065Z"
   },
   {
    "duration": 216,
    "start_time": "2024-11-20T08:09:55.389Z"
   },
   {
    "duration": 15,
    "start_time": "2024-11-20T08:09:55.607Z"
   },
   {
    "duration": 327,
    "start_time": "2024-11-20T08:09:55.624Z"
   },
   {
    "duration": 214,
    "start_time": "2024-11-20T08:09:55.952Z"
   },
   {
    "duration": 337,
    "start_time": "2024-11-20T08:09:56.167Z"
   },
   {
    "duration": 14,
    "start_time": "2024-11-20T08:09:56.515Z"
   },
   {
    "duration": 152,
    "start_time": "2024-11-20T08:09:56.530Z"
   },
   {
    "duration": 4,
    "start_time": "2024-11-20T08:09:56.683Z"
   },
   {
    "duration": 8,
    "start_time": "2024-11-20T08:09:56.689Z"
   },
   {
    "duration": 174,
    "start_time": "2024-11-20T08:09:56.698Z"
   },
   {
    "duration": 198,
    "start_time": "2024-11-20T08:09:56.875Z"
   },
   {
    "duration": 5,
    "start_time": "2024-11-20T08:09:57.075Z"
   },
   {
    "duration": 5,
    "start_time": "2024-11-20T08:09:57.083Z"
   },
   {
    "duration": 3,
    "start_time": "2024-11-20T08:10:29.128Z"
   },
   {
    "duration": 151,
    "start_time": "2024-11-20T08:16:36.010Z"
   },
   {
    "duration": 7,
    "start_time": "2024-11-20T08:36:10.752Z"
   },
   {
    "duration": 114,
    "start_time": "2024-11-20T08:55:48.640Z"
   },
   {
    "duration": 37,
    "start_time": "2024-11-20T08:56:57.796Z"
   },
   {
    "duration": 28,
    "start_time": "2024-11-20T08:57:13.325Z"
   },
   {
    "duration": 27,
    "start_time": "2024-11-20T08:57:24.421Z"
   },
   {
    "duration": 27,
    "start_time": "2024-11-20T08:59:09.145Z"
   },
   {
    "duration": 38,
    "start_time": "2024-11-20T08:59:31.471Z"
   },
   {
    "duration": 24,
    "start_time": "2024-11-20T09:00:19.679Z"
   },
   {
    "duration": 36,
    "start_time": "2024-11-20T09:01:27.462Z"
   },
   {
    "duration": 24,
    "start_time": "2024-11-20T09:14:15.343Z"
   },
   {
    "duration": 12,
    "start_time": "2024-11-20T09:16:10.128Z"
   },
   {
    "duration": 13,
    "start_time": "2024-11-20T09:16:19.121Z"
   },
   {
    "duration": 13,
    "start_time": "2024-11-20T09:17:30.849Z"
   },
   {
    "duration": 13,
    "start_time": "2024-11-20T09:18:51.958Z"
   },
   {
    "duration": 12,
    "start_time": "2024-11-20T09:19:04.200Z"
   },
   {
    "duration": 16,
    "start_time": "2024-11-20T09:19:24.037Z"
   },
   {
    "duration": 12,
    "start_time": "2024-11-20T09:19:32.855Z"
   },
   {
    "duration": 14,
    "start_time": "2024-11-20T09:20:08.378Z"
   },
   {
    "duration": 54,
    "start_time": "2024-11-20T09:22:34.568Z"
   },
   {
    "duration": 1025,
    "start_time": "2024-11-20T09:23:31.538Z"
   },
   {
    "duration": 91,
    "start_time": "2024-11-20T09:23:32.565Z"
   },
   {
    "duration": 3,
    "start_time": "2024-11-20T09:23:32.657Z"
   },
   {
    "duration": 82,
    "start_time": "2024-11-20T09:23:32.662Z"
   },
   {
    "duration": 48,
    "start_time": "2024-11-20T09:23:32.746Z"
   },
   {
    "duration": 8,
    "start_time": "2024-11-20T09:23:32.795Z"
   },
   {
    "duration": 5,
    "start_time": "2024-11-20T09:23:32.804Z"
   },
   {
    "duration": 31,
    "start_time": "2024-11-20T09:23:32.810Z"
   },
   {
    "duration": 14,
    "start_time": "2024-11-20T09:23:32.842Z"
   },
   {
    "duration": 9,
    "start_time": "2024-11-20T09:23:32.858Z"
   },
   {
    "duration": 15,
    "start_time": "2024-11-20T09:23:32.869Z"
   },
   {
    "duration": 26,
    "start_time": "2024-11-20T09:23:32.885Z"
   },
   {
    "duration": 15,
    "start_time": "2024-11-20T09:23:32.913Z"
   },
   {
    "duration": 19,
    "start_time": "2024-11-20T09:23:32.930Z"
   },
   {
    "duration": 19,
    "start_time": "2024-11-20T09:23:32.950Z"
   },
   {
    "duration": 271,
    "start_time": "2024-11-20T09:23:32.971Z"
   },
   {
    "duration": 276,
    "start_time": "2024-11-20T09:23:33.244Z"
   },
   {
    "duration": 198,
    "start_time": "2024-11-20T09:23:33.521Z"
   },
   {
    "duration": 11,
    "start_time": "2024-11-20T09:23:33.721Z"
   },
   {
    "duration": 287,
    "start_time": "2024-11-20T09:23:33.733Z"
   },
   {
    "duration": 192,
    "start_time": "2024-11-20T09:23:34.022Z"
   },
   {
    "duration": 306,
    "start_time": "2024-11-20T09:23:34.216Z"
   },
   {
    "duration": 10,
    "start_time": "2024-11-20T09:23:34.523Z"
   },
   {
    "duration": 146,
    "start_time": "2024-11-20T09:23:34.534Z"
   },
   {
    "duration": 4,
    "start_time": "2024-11-20T09:23:34.681Z"
   },
   {
    "duration": 7,
    "start_time": "2024-11-20T09:23:34.686Z"
   },
   {
    "duration": 176,
    "start_time": "2024-11-20T09:23:34.694Z"
   },
   {
    "duration": 168,
    "start_time": "2024-11-20T09:23:34.872Z"
   },
   {
    "duration": 4,
    "start_time": "2024-11-20T09:23:35.042Z"
   },
   {
    "duration": 23,
    "start_time": "2024-11-20T09:23:35.048Z"
   },
   {
    "duration": 162,
    "start_time": "2024-11-20T09:23:35.072Z"
   },
   {
    "duration": 9,
    "start_time": "2024-11-20T09:23:35.235Z"
   },
   {
    "duration": 54,
    "start_time": "2024-11-20T09:23:35.245Z"
   },
   {
    "duration": 59,
    "start_time": "2024-11-20T09:23:35.300Z"
   },
   {
    "duration": 16,
    "start_time": "2024-11-20T09:23:58.497Z"
   },
   {
    "duration": 14,
    "start_time": "2024-11-20T09:37:13.823Z"
   },
   {
    "duration": 11,
    "start_time": "2024-11-20T09:44:49.715Z"
   },
   {
    "duration": 25,
    "start_time": "2024-11-20T09:48:06.548Z"
   },
   {
    "duration": 12,
    "start_time": "2024-11-20T09:57:43.983Z"
   },
   {
    "duration": 66,
    "start_time": "2024-11-20T10:08:42.256Z"
   },
   {
    "duration": 20,
    "start_time": "2024-11-20T10:08:49.809Z"
   },
   {
    "duration": 110,
    "start_time": "2024-11-20T10:19:30.073Z"
   },
   {
    "duration": 1007,
    "start_time": "2024-11-20T10:20:00.945Z"
   },
   {
    "duration": 92,
    "start_time": "2024-11-20T10:20:01.954Z"
   },
   {
    "duration": 3,
    "start_time": "2024-11-20T10:20:02.047Z"
   },
   {
    "duration": 20,
    "start_time": "2024-11-20T10:20:02.053Z"
   },
   {
    "duration": 17,
    "start_time": "2024-11-20T10:20:02.074Z"
   },
   {
    "duration": 8,
    "start_time": "2024-11-20T10:20:02.092Z"
   },
   {
    "duration": 7,
    "start_time": "2024-11-20T10:20:02.101Z"
   },
   {
    "duration": 12,
    "start_time": "2024-11-20T10:20:02.109Z"
   },
   {
    "duration": 25,
    "start_time": "2024-11-20T10:20:02.122Z"
   },
   {
    "duration": 51,
    "start_time": "2024-11-20T10:20:02.150Z"
   },
   {
    "duration": 11,
    "start_time": "2024-11-20T10:20:02.202Z"
   },
   {
    "duration": 61,
    "start_time": "2024-11-20T10:20:02.214Z"
   },
   {
    "duration": 17,
    "start_time": "2024-11-20T10:20:02.276Z"
   },
   {
    "duration": 25,
    "start_time": "2024-11-20T10:20:02.294Z"
   },
   {
    "duration": 14,
    "start_time": "2024-11-20T10:20:02.320Z"
   },
   {
    "duration": 277,
    "start_time": "2024-11-20T10:20:02.335Z"
   },
   {
    "duration": 299,
    "start_time": "2024-11-20T10:20:02.613Z"
   },
   {
    "duration": 200,
    "start_time": "2024-11-20T10:20:02.914Z"
   },
   {
    "duration": 16,
    "start_time": "2024-11-20T10:20:03.115Z"
   },
   {
    "duration": 308,
    "start_time": "2024-11-20T10:20:03.133Z"
   },
   {
    "duration": 194,
    "start_time": "2024-11-20T10:20:03.442Z"
   },
   {
    "duration": 298,
    "start_time": "2024-11-20T10:20:03.637Z"
   },
   {
    "duration": 11,
    "start_time": "2024-11-20T10:20:03.936Z"
   },
   {
    "duration": 151,
    "start_time": "2024-11-20T10:20:03.949Z"
   },
   {
    "duration": 11,
    "start_time": "2024-11-20T10:20:04.101Z"
   },
   {
    "duration": 3,
    "start_time": "2024-11-20T10:20:04.113Z"
   },
   {
    "duration": 172,
    "start_time": "2024-11-20T10:20:04.118Z"
   },
   {
    "duration": 162,
    "start_time": "2024-11-20T10:20:04.293Z"
   },
   {
    "duration": 4,
    "start_time": "2024-11-20T10:20:04.456Z"
   },
   {
    "duration": 36,
    "start_time": "2024-11-20T10:20:04.462Z"
   },
   {
    "duration": 135,
    "start_time": "2024-11-20T10:20:04.500Z"
   },
   {
    "duration": 7,
    "start_time": "2024-11-20T10:20:04.636Z"
   },
   {
    "duration": 46,
    "start_time": "2024-11-20T10:20:04.644Z"
   },
   {
    "duration": 21,
    "start_time": "2024-11-20T10:20:04.691Z"
   },
   {
    "duration": 22,
    "start_time": "2024-11-20T10:20:04.713Z"
   },
   {
    "duration": 31,
    "start_time": "2024-11-20T10:20:04.736Z"
   },
   {
    "duration": 51,
    "start_time": "2024-11-20T10:20:04.769Z"
   },
   {
    "duration": 16,
    "start_time": "2024-11-20T10:20:04.822Z"
   },
   {
    "duration": 1025,
    "start_time": "2024-11-20T10:45:35.618Z"
   },
   {
    "duration": 92,
    "start_time": "2024-11-20T10:45:36.645Z"
   },
   {
    "duration": 3,
    "start_time": "2024-11-20T10:45:36.738Z"
   },
   {
    "duration": 25,
    "start_time": "2024-11-20T10:45:36.743Z"
   },
   {
    "duration": 15,
    "start_time": "2024-11-20T10:45:36.769Z"
   },
   {
    "duration": 6,
    "start_time": "2024-11-20T10:45:36.786Z"
   },
   {
    "duration": 6,
    "start_time": "2024-11-20T10:45:36.793Z"
   },
   {
    "duration": 7,
    "start_time": "2024-11-20T10:45:36.800Z"
   },
   {
    "duration": 26,
    "start_time": "2024-11-20T10:45:36.809Z"
   },
   {
    "duration": 9,
    "start_time": "2024-11-20T10:45:36.837Z"
   },
   {
    "duration": 26,
    "start_time": "2024-11-20T10:45:36.847Z"
   },
   {
    "duration": 19,
    "start_time": "2024-11-20T10:45:36.875Z"
   },
   {
    "duration": 2,
    "start_time": "2024-11-20T10:45:36.896Z"
   },
   {
    "duration": 13,
    "start_time": "2024-11-20T10:45:36.899Z"
   },
   {
    "duration": 11,
    "start_time": "2024-11-20T10:45:36.913Z"
   },
   {
    "duration": 307,
    "start_time": "2024-11-20T10:45:36.926Z"
   },
   {
    "duration": 284,
    "start_time": "2024-11-20T10:45:37.235Z"
   },
   {
    "duration": 211,
    "start_time": "2024-11-20T10:45:37.520Z"
   },
   {
    "duration": 11,
    "start_time": "2024-11-20T10:45:37.733Z"
   },
   {
    "duration": 277,
    "start_time": "2024-11-20T10:45:37.746Z"
   },
   {
    "duration": 193,
    "start_time": "2024-11-20T10:45:38.025Z"
   },
   {
    "duration": 306,
    "start_time": "2024-11-20T10:45:38.219Z"
   },
   {
    "duration": 11,
    "start_time": "2024-11-20T10:45:38.527Z"
   },
   {
    "duration": 149,
    "start_time": "2024-11-20T10:45:38.539Z"
   },
   {
    "duration": 4,
    "start_time": "2024-11-20T10:45:38.690Z"
   },
   {
    "duration": 17,
    "start_time": "2024-11-20T10:45:38.695Z"
   },
   {
    "duration": 172,
    "start_time": "2024-11-20T10:45:38.713Z"
   },
   {
    "duration": 173,
    "start_time": "2024-11-20T10:45:38.887Z"
   },
   {
    "duration": 5,
    "start_time": "2024-11-20T10:45:39.061Z"
   },
   {
    "duration": 11,
    "start_time": "2024-11-20T10:45:39.067Z"
   },
   {
    "duration": 153,
    "start_time": "2024-11-20T10:45:39.079Z"
   },
   {
    "duration": 6,
    "start_time": "2024-11-20T10:45:39.234Z"
   },
   {
    "duration": 24,
    "start_time": "2024-11-20T10:45:39.241Z"
   },
   {
    "duration": 14,
    "start_time": "2024-11-20T10:45:39.266Z"
   },
   {
    "duration": 36,
    "start_time": "2024-11-20T10:45:39.282Z"
   },
   {
    "duration": 8,
    "start_time": "2024-11-20T10:45:39.319Z"
   },
   {
    "duration": 25,
    "start_time": "2024-11-20T10:45:39.328Z"
   },
   {
    "duration": 17,
    "start_time": "2024-11-20T10:45:39.354Z"
   },
   {
    "duration": 62,
    "start_time": "2024-11-20T14:15:34.402Z"
   },
   {
    "duration": 1318,
    "start_time": "2024-11-20T14:15:48.912Z"
   },
   {
    "duration": 246,
    "start_time": "2024-11-20T14:15:50.232Z"
   },
   {
    "duration": 3,
    "start_time": "2024-11-20T14:15:50.480Z"
   },
   {
    "duration": 6,
    "start_time": "2024-11-20T14:15:50.485Z"
   },
   {
    "duration": 13,
    "start_time": "2024-11-20T14:15:50.493Z"
   },
   {
    "duration": 10,
    "start_time": "2024-11-20T14:15:50.507Z"
   },
   {
    "duration": 19,
    "start_time": "2024-11-20T14:15:50.519Z"
   },
   {
    "duration": 12,
    "start_time": "2024-11-20T14:15:50.540Z"
   },
   {
    "duration": 5,
    "start_time": "2024-11-20T14:15:50.553Z"
   },
   {
    "duration": 9,
    "start_time": "2024-11-20T14:15:50.561Z"
   },
   {
    "duration": 7,
    "start_time": "2024-11-20T14:15:50.571Z"
   },
   {
    "duration": 26,
    "start_time": "2024-11-20T14:15:50.579Z"
   },
   {
    "duration": 3,
    "start_time": "2024-11-20T14:15:50.618Z"
   },
   {
    "duration": 20,
    "start_time": "2024-11-20T14:15:50.623Z"
   },
   {
    "duration": 13,
    "start_time": "2024-11-20T14:15:50.645Z"
   },
   {
    "duration": 303,
    "start_time": "2024-11-20T14:15:50.660Z"
   },
   {
    "duration": 321,
    "start_time": "2024-11-20T14:15:50.965Z"
   },
   {
    "duration": 222,
    "start_time": "2024-11-20T14:15:51.287Z"
   },
   {
    "duration": 11,
    "start_time": "2024-11-20T14:15:51.517Z"
   },
   {
    "duration": 411,
    "start_time": "2024-11-20T14:15:51.529Z"
   },
   {
    "duration": 230,
    "start_time": "2024-11-20T14:15:51.942Z"
   },
   {
    "duration": 324,
    "start_time": "2024-11-20T14:15:52.174Z"
   },
   {
    "duration": 18,
    "start_time": "2024-11-20T14:15:52.499Z"
   },
   {
    "duration": 159,
    "start_time": "2024-11-20T14:15:52.519Z"
   },
   {
    "duration": 5,
    "start_time": "2024-11-20T14:15:52.680Z"
   },
   {
    "duration": 8,
    "start_time": "2024-11-20T14:15:52.687Z"
   },
   {
    "duration": 184,
    "start_time": "2024-11-20T14:15:52.696Z"
   },
   {
    "duration": 218,
    "start_time": "2024-11-20T14:15:52.883Z"
   },
   {
    "duration": 5,
    "start_time": "2024-11-20T14:15:53.103Z"
   },
   {
    "duration": 10,
    "start_time": "2024-11-20T14:15:53.109Z"
   },
   {
    "duration": 159,
    "start_time": "2024-11-20T14:15:53.120Z"
   },
   {
    "duration": 8,
    "start_time": "2024-11-20T14:15:53.280Z"
   },
   {
    "duration": 49,
    "start_time": "2024-11-20T14:15:53.290Z"
   },
   {
    "duration": 18,
    "start_time": "2024-11-20T14:15:53.341Z"
   },
   {
    "duration": 18,
    "start_time": "2024-11-20T14:15:53.361Z"
   },
   {
    "duration": 10,
    "start_time": "2024-11-20T14:15:53.381Z"
   },
   {
    "duration": 31,
    "start_time": "2024-11-20T14:15:53.417Z"
   },
   {
    "duration": 19,
    "start_time": "2024-11-20T14:15:53.449Z"
   },
   {
    "duration": 1134,
    "start_time": "2024-11-20T14:25:44.708Z"
   },
   {
    "duration": 90,
    "start_time": "2024-11-20T14:25:45.844Z"
   },
   {
    "duration": 3,
    "start_time": "2024-11-20T14:25:45.936Z"
   },
   {
    "duration": 4,
    "start_time": "2024-11-20T14:25:45.941Z"
   },
   {
    "duration": 14,
    "start_time": "2024-11-20T14:25:45.946Z"
   },
   {
    "duration": 9,
    "start_time": "2024-11-20T14:25:45.961Z"
   },
   {
    "duration": 7,
    "start_time": "2024-11-20T14:25:45.971Z"
   },
   {
    "duration": 8,
    "start_time": "2024-11-20T14:25:45.980Z"
   },
   {
    "duration": 29,
    "start_time": "2024-11-20T14:25:45.989Z"
   },
   {
    "duration": 7,
    "start_time": "2024-11-20T14:25:46.020Z"
   },
   {
    "duration": 16,
    "start_time": "2024-11-20T14:25:46.028Z"
   },
   {
    "duration": 43,
    "start_time": "2024-11-20T14:25:46.046Z"
   },
   {
    "duration": 2,
    "start_time": "2024-11-20T14:25:46.091Z"
   },
   {
    "duration": 12,
    "start_time": "2024-11-20T14:25:46.095Z"
   },
   {
    "duration": 12,
    "start_time": "2024-11-20T14:25:46.109Z"
   },
   {
    "duration": 308,
    "start_time": "2024-11-20T14:25:46.122Z"
   },
   {
    "duration": 325,
    "start_time": "2024-11-20T14:25:46.432Z"
   },
   {
    "duration": 231,
    "start_time": "2024-11-20T14:25:46.759Z"
   },
   {
    "duration": 11,
    "start_time": "2024-11-20T14:25:46.992Z"
   },
   {
    "duration": 334,
    "start_time": "2024-11-20T14:25:47.004Z"
   },
   {
    "duration": 218,
    "start_time": "2024-11-20T14:25:47.340Z"
   },
   {
    "duration": 324,
    "start_time": "2024-11-20T14:25:47.560Z"
   },
   {
    "duration": 12,
    "start_time": "2024-11-20T14:25:47.885Z"
   },
   {
    "duration": 180,
    "start_time": "2024-11-20T14:25:47.898Z"
   },
   {
    "duration": 4,
    "start_time": "2024-11-20T14:25:48.080Z"
   },
   {
    "duration": 5,
    "start_time": "2024-11-20T14:25:48.086Z"
   },
   {
    "duration": 192,
    "start_time": "2024-11-20T14:25:48.092Z"
   },
   {
    "duration": 185,
    "start_time": "2024-11-20T14:25:48.287Z"
   },
   {
    "duration": 5,
    "start_time": "2024-11-20T14:25:48.473Z"
   },
   {
    "duration": 4,
    "start_time": "2024-11-20T14:25:48.479Z"
   },
   {
    "duration": 176,
    "start_time": "2024-11-20T14:25:48.484Z"
   },
   {
    "duration": 7,
    "start_time": "2024-11-20T14:25:48.661Z"
   },
   {
    "duration": 48,
    "start_time": "2024-11-20T14:25:48.670Z"
   },
   {
    "duration": 18,
    "start_time": "2024-11-20T14:25:48.720Z"
   },
   {
    "duration": 13,
    "start_time": "2024-11-20T14:25:48.740Z"
   },
   {
    "duration": 9,
    "start_time": "2024-11-20T14:25:48.754Z"
   },
   {
    "duration": 58,
    "start_time": "2024-11-20T14:25:48.765Z"
   },
   {
    "duration": 20,
    "start_time": "2024-11-20T14:25:48.825Z"
   }
  ],
  "kernelspec": {
   "display_name": "Python 3 (ipykernel)",
   "language": "python",
   "name": "python3"
  },
  "language_info": {
   "codemirror_mode": {
    "name": "ipython",
    "version": 3
   },
   "file_extension": ".py",
   "mimetype": "text/x-python",
   "name": "python",
   "nbconvert_exporter": "python",
   "pygments_lexer": "ipython3",
   "version": "3.9.5"
  },
  "toc": {
   "base_numbering": 1,
   "nav_menu": {},
   "number_sections": true,
   "sideBar": true,
   "skip_h1_title": true,
   "title_cell": "Table of Contents",
   "title_sidebar": "Contents",
   "toc_cell": false,
   "toc_position": {},
   "toc_section_display": true,
   "toc_window_display": false
  }
 },
 "nbformat": 4,
 "nbformat_minor": 2
}
