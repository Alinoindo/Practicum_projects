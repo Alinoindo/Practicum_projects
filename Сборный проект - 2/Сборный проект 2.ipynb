{
 "cells": [
  {
   "cell_type": "markdown",
   "metadata": {},
   "source": [
    "<span style=\"color:green\">**Поздравляю, твой проект принят!**</span>\n",
    "\n",
    "Алина, отличная работа, получился качественный аналитический отчет. Поставленные задачи были успешно выполнены! Спасибо за обозначение корректировок. Недочёты исправлены! Надеюсь, ревью было полезным:) Желаю успехов в учебе и следующих проектах!\n",
    "\n",
    "Новые комментарии имеют метку `v2`.\n",
    "\n",
    "<span style=\"color:purple\">**Привет, Алина!**</span>\n",
    "\n",
    "Меня зовут **Василий** и я - ревьювер, буду проверять твой проект.\n",
    "\n",
    "Если не против, я буду обращаться к тебе на \"ТЫ\". Если это неприемлемо, обязательно напиши мне в комментариях – мы прейдем на \"ВЫ\".\n",
    "\n",
    "Спасибо, что прислала проект. Ты проделала большую работу над проектом. В тетради ты сможешь найти мои комментарии. Пострайся учесть эти комментарии в ходе выполнения дальнейших проектов.\n",
    "\n",
    "Обрати внимание, я буду выделять свои комментарии цветом, в зависимости от того, какие действия, важность и особенности тебя ждут в процессе проверки.\n",
    "\n",
    "<div class=\"alert alert-block alert-success\">\n",
    "\n",
    "**Комментарий ревьювера (все отлично)**\n",
    "    \n",
    "Такими комментариями я буду помечать хорошо проделаную работу, а так же хорошо проделаную работу над ошибками.\n",
    "</div>\n",
    "\n",
    "<div class=\"alert alert-block alert-warning\">\n",
    "\n",
    "**Комментарий ревьювера (что можно улучшить)**\n",
    "    \n",
    "После таких комментариев ничего исправлять не нужно, но я дам рекомендации на будущее и подскажу, что можно улучшить.\n",
    "</div>\n",
    "\n",
    "<div class=\"alert alert-block alert-danger\">\n",
    "    \n",
    "**Комментарий ревьювера (недочет, который нужно доработать)**\n",
    "    \n",
    "Если ты видишь такой комментарий, значит я указываю тебе на недочёт, его нужно исправить. Без такого исправления я не приму твою работу:)\n",
    "</div>\n",
    "\n",
    "**Пожалуста, не удаляй мои комментарии. При повторной проверке, я буду ориентироваться на них.**\n",
    "\n",
    "<span style=\"color:blue\"> Можешь под моими комментариями оставлять свои, в которых опиши свои исправления. Это облегчит процесс проверки и мне, и тебе:) Например, вот так:</span>\n",
    "\n",
    "<div class=\"alert alert-block alert-info\">\n",
    "<b>КОММЕНТАРИЙ ОТ УЧЕНИКА:</b>\n",
    "</div>"
   ]
  },
  {
   "cell_type": "markdown",
   "metadata": {},
   "source": [
    "# Сборный проект №2"
   ]
  },
  {
   "cell_type": "markdown",
   "metadata": {},
   "source": [
    "**Описание проекта**"
   ]
  },
  {
   "cell_type": "markdown",
   "metadata": {},
   "source": [
    " Мы работаем в стартапе, который продаёт продукты питания. Нужно разобраться, как ведут себя пользователи нашего мобильного приложения. "
   ]
  },
  {
   "cell_type": "markdown",
   "metadata": {},
   "source": [
    "**Описание данных**"
   ]
  },
  {
   "cell_type": "markdown",
   "metadata": {},
   "source": [
    "Каждая запись в логе — это действие пользователя, или событие. \n",
    "Файл `/datasets/logs_exp.csv`\n",
    "- `EventName` — название события;\n",
    "- `DeviceIDHash` — уникальный идентификатор пользователя;\n",
    "- `EventTimestamp` — время события;\n",
    "- `ExpId` — номер эксперимента: 246 и 247 — контрольные группы, а 248 — экспериментальная."
   ]
  },
  {
   "cell_type": "markdown",
   "metadata": {},
   "source": [
    "**Цель проекта**\n",
    "\n",
    "Разобраться, как ведут себя пользователи нашего мобильного приложения. "
   ]
  },
  {
   "cell_type": "markdown",
   "metadata": {},
   "source": [
    "<div class=\"alert alert-block alert-success\">\n",
    "\n",
    "**Комментарий ревьювера (все отлично)**\n",
    "    \n",
    "План работы можно сделать кликабельным. Можно автоматически собрать кликабельное содержание при помощи плагина table of contents в панели инструментов. Или расставляя метки и ссылки на них вручную. Вот тут почитай, как сделать <a href=\"https://sebastianraschka.com/Articles/2014_ipython_internal_links.html\">кликабельные разделы</a>.\n",
    "</div>"
   ]
  },
  {
   "cell_type": "markdown",
   "metadata": {},
   "source": [
    "## Откройте файл с данными и изучите общую информацию"
   ]
  },
  {
   "cell_type": "code",
   "execution_count": 1,
   "metadata": {},
   "outputs": [],
   "source": [
    "import pandas as pd # импортируем библиотеки\n",
    "from scipy import stats as st\n",
    "import datetime as dt\n",
    "import numpy as np\n",
    "from matplotlib import pyplot as plt\n",
    "import math as mth"
   ]
  },
  {
   "cell_type": "markdown",
   "metadata": {},
   "source": [
    "<div class=\"alert alert-block alert-success\">\n",
    "\n",
    "**Комментарий ревьювера (все отлично)**\n",
    "    \n",
    "Правильно, что импортируешь необходимые библиотеки в первой ячейке. Так твой коллега, запускающий работу, будет в курсе используемых в ней библиотек и сможет настроить свое окружение при необходимости.\n",
    "</div>"
   ]
  },
  {
   "cell_type": "code",
   "execution_count": 2,
   "metadata": {},
   "outputs": [
    {
     "name": "stdout",
     "output_type": "stream",
     "text": [
      "<class 'pandas.core.frame.DataFrame'>\n",
      "RangeIndex: 244126 entries, 0 to 244125\n",
      "Data columns (total 1 columns):\n",
      " #   Column                                       Non-Null Count   Dtype \n",
      "---  ------                                       --------------   ----- \n",
      " 0   EventName\tDeviceIDHash\tEventTimestamp\tExpId  244126 non-null  object\n",
      "dtypes: object(1)\n",
      "memory usage: 1.9+ MB\n"
     ]
    }
   ],
   "source": [
    "df = pd.read_csv('/datasets/logs_exp.csv') # открываем файл\n",
    "\n",
    "df.info()"
   ]
  },
  {
   "cell_type": "markdown",
   "metadata": {},
   "source": [
    "Вывод: Таблица содержит 244126 записи, и все данные находятся в одном столбце. Необходимо это исправить."
   ]
  },
  {
   "cell_type": "markdown",
   "metadata": {},
   "source": [
    "## Подготовьте данные"
   ]
  },
  {
   "cell_type": "code",
   "execution_count": 3,
   "metadata": {},
   "outputs": [
    {
     "data": {
      "text/html": [
       "<div>\n",
       "<style scoped>\n",
       "    .dataframe tbody tr th:only-of-type {\n",
       "        vertical-align: middle;\n",
       "    }\n",
       "\n",
       "    .dataframe tbody tr th {\n",
       "        vertical-align: top;\n",
       "    }\n",
       "\n",
       "    .dataframe thead th {\n",
       "        text-align: right;\n",
       "    }\n",
       "</style>\n",
       "<table border=\"1\" class=\"dataframe\">\n",
       "  <thead>\n",
       "    <tr style=\"text-align: right;\">\n",
       "      <th></th>\n",
       "      <th>event_name</th>\n",
       "      <th>user_id</th>\n",
       "      <th>dt_event</th>\n",
       "      <th>exp_id</th>\n",
       "    </tr>\n",
       "  </thead>\n",
       "  <tbody>\n",
       "    <tr>\n",
       "      <th>0</th>\n",
       "      <td>MainScreenAppear</td>\n",
       "      <td>4575588528974610257</td>\n",
       "      <td>1564029816</td>\n",
       "      <td>246</td>\n",
       "    </tr>\n",
       "    <tr>\n",
       "      <th>1</th>\n",
       "      <td>MainScreenAppear</td>\n",
       "      <td>7416695313311560658</td>\n",
       "      <td>1564053102</td>\n",
       "      <td>246</td>\n",
       "    </tr>\n",
       "    <tr>\n",
       "      <th>2</th>\n",
       "      <td>PaymentScreenSuccessful</td>\n",
       "      <td>3518123091307005509</td>\n",
       "      <td>1564054127</td>\n",
       "      <td>248</td>\n",
       "    </tr>\n",
       "    <tr>\n",
       "      <th>3</th>\n",
       "      <td>CartScreenAppear</td>\n",
       "      <td>3518123091307005509</td>\n",
       "      <td>1564054127</td>\n",
       "      <td>248</td>\n",
       "    </tr>\n",
       "    <tr>\n",
       "      <th>4</th>\n",
       "      <td>PaymentScreenSuccessful</td>\n",
       "      <td>6217807653094995999</td>\n",
       "      <td>1564055322</td>\n",
       "      <td>248</td>\n",
       "    </tr>\n",
       "  </tbody>\n",
       "</table>\n",
       "</div>"
      ],
      "text/plain": [
       "                event_name              user_id    dt_event exp_id\n",
       "0         MainScreenAppear  4575588528974610257  1564029816    246\n",
       "1         MainScreenAppear  7416695313311560658  1564053102    246\n",
       "2  PaymentScreenSuccessful  3518123091307005509  1564054127    248\n",
       "3         CartScreenAppear  3518123091307005509  1564054127    248\n",
       "4  PaymentScreenSuccessful  6217807653094995999  1564055322    248"
      ]
     },
     "execution_count": 3,
     "metadata": {},
     "output_type": "execute_result"
    }
   ],
   "source": [
    "# разделяем данные на столбцы и задаем им удобные названия \n",
    "df[['event_name', 'user_id', 'dt_event', 'exp_id']] = df['EventName\\tDeviceIDHash\\tEventTimestamp\\tExpId'].str.split(expand=True)\n",
    "df = df.drop(columns=['EventName\\tDeviceIDHash\\tEventTimestamp\\tExpId']) # удаляем старый столбец \n",
    "\n",
    "df.head()"
   ]
  },
  {
   "cell_type": "code",
   "execution_count": 4,
   "metadata": {},
   "outputs": [
    {
     "data": {
      "text/plain": [
       "event_name    0\n",
       "user_id       0\n",
       "dt_event      0\n",
       "exp_id        0\n",
       "dtype: int64"
      ]
     },
     "execution_count": 4,
     "metadata": {},
     "output_type": "execute_result"
    }
   ],
   "source": [
    "# проверим пропуски\n",
    "df.isna().sum()"
   ]
  },
  {
   "cell_type": "code",
   "execution_count": 5,
   "metadata": {},
   "outputs": [
    {
     "data": {
      "text/plain": [
       "413"
      ]
     },
     "execution_count": 5,
     "metadata": {},
     "output_type": "execute_result"
    }
   ],
   "source": [
    "# ищем явные дубликаты\n",
    "df.duplicated().sum()"
   ]
  },
  {
   "cell_type": "code",
   "execution_count": 6,
   "metadata": {},
   "outputs": [],
   "source": [
    "# удалим явные дубликаты\n",
    "df = df.drop_duplicates().reset_index(drop=True)"
   ]
  },
  {
   "cell_type": "code",
   "execution_count": 7,
   "metadata": {},
   "outputs": [
    {
     "data": {
      "text/plain": [
       "0"
      ]
     },
     "execution_count": 7,
     "metadata": {},
     "output_type": "execute_result"
    }
   ],
   "source": [
    "# проверяем количество явных дубликатов\n",
    "df.duplicated().sum()"
   ]
  },
  {
   "cell_type": "markdown",
   "metadata": {},
   "source": [
    "<div class=\"alert alert-block alert-success\">\n",
    "\n",
    "**Комментарий ревьювера (все отлично)**\n",
    "    \n",
    "Дубликаты обнаружены и удалены – верное решение👍\n",
    "</div>"
   ]
  },
  {
   "cell_type": "code",
   "execution_count": 8,
   "metadata": {},
   "outputs": [],
   "source": [
    "# изменим тип данных столбца с датой и временем\n",
    "df['dt_event'] = pd. to_datetime(df['dt_event'], unit='s')\n",
    "# добавим новый столбец с датой\n",
    "df['date'] = pd.to_datetime(df['dt_event'].dt.date)\n",
    "\n",
    "df['exp_id'] = df['exp_id'].astype('int')"
   ]
  },
  {
   "cell_type": "code",
   "execution_count": 9,
   "metadata": {},
   "outputs": [
    {
     "data": {
      "text/plain": [
       "event_name    0\n",
       "user_id       0\n",
       "dt_event      0\n",
       "exp_id        0\n",
       "date          0\n",
       "dtype: int64"
      ]
     },
     "execution_count": 9,
     "metadata": {},
     "output_type": "execute_result"
    }
   ],
   "source": [
    "# ищем неявные дубликаты\n",
    "df[df.duplicated(['event_name', 'user_id', 'dt_event', 'exp_id', 'date'])].count()"
   ]
  },
  {
   "cell_type": "code",
   "execution_count": 10,
   "metadata": {
    "scrolled": true
   },
   "outputs": [
    {
     "name": "stdout",
     "output_type": "stream",
     "text": [
      "<class 'pandas.core.frame.DataFrame'>\n",
      "RangeIndex: 243713 entries, 0 to 243712\n",
      "Data columns (total 5 columns):\n",
      " #   Column      Non-Null Count   Dtype         \n",
      "---  ------      --------------   -----         \n",
      " 0   event_name  243713 non-null  object        \n",
      " 1   user_id     243713 non-null  object        \n",
      " 2   dt_event    243713 non-null  datetime64[ns]\n",
      " 3   exp_id      243713 non-null  int64         \n",
      " 4   date        243713 non-null  datetime64[ns]\n",
      "dtypes: datetime64[ns](2), int64(1), object(2)\n",
      "memory usage: 9.3+ MB\n"
     ]
    }
   ],
   "source": [
    "df.info()"
   ]
  },
  {
   "cell_type": "markdown",
   "metadata": {},
   "source": [
    "<div class=\"alert alert-block alert-success\">\n",
    "\n",
    "**Комментарий ревьювера (все отлично)**\n",
    "    \n",
    "Даты приведены к соответствующему типу👍\n",
    "</div>"
   ]
  },
  {
   "cell_type": "markdown",
   "metadata": {},
   "source": [
    "Вывод:\n",
    "- в таблице 243713 записей\n",
    "- провели предобработку данных\n",
    "- заменили названия столбцов\n",
    "- пропусков нет\n",
    "- изменили тип данных в столбце с датой и временем на `datetime`\n",
    "- добавили новый столбец с датой\n",
    "- удалили явные дубликаты\n",
    "- неявных дубликатов нет"
   ]
  },
  {
   "cell_type": "markdown",
   "metadata": {},
   "source": [
    "## Изучите и проверьте данные"
   ]
  },
  {
   "cell_type": "markdown",
   "metadata": {},
   "source": [
    "### Сколько всего событий в логе?"
   ]
  },
  {
   "cell_type": "code",
   "execution_count": 11,
   "metadata": {},
   "outputs": [
    {
     "data": {
      "text/plain": [
       "243713"
      ]
     },
     "execution_count": 11,
     "metadata": {},
     "output_type": "execute_result"
    }
   ],
   "source": [
    "df['event_name'].count()"
   ]
  },
  {
   "cell_type": "markdown",
   "metadata": {},
   "source": [
    "Всего 243713 событий в логе."
   ]
  },
  {
   "cell_type": "markdown",
   "metadata": {},
   "source": [
    "### Сколько всего пользователей в логе?"
   ]
  },
  {
   "cell_type": "code",
   "execution_count": 12,
   "metadata": {},
   "outputs": [
    {
     "data": {
      "text/plain": [
       "7551"
      ]
     },
     "execution_count": 12,
     "metadata": {},
     "output_type": "execute_result"
    }
   ],
   "source": [
    "df['user_id'].nunique()"
   ]
  },
  {
   "cell_type": "markdown",
   "metadata": {},
   "source": [
    "Всего 7551 пользователей в логе."
   ]
  },
  {
   "cell_type": "markdown",
   "metadata": {},
   "source": [
    "### Сколько в среднем событий приходится на пользователя?"
   ]
  },
  {
   "cell_type": "code",
   "execution_count": 13,
   "metadata": {},
   "outputs": [
    {
     "data": {
      "text/plain": [
       "20.0"
      ]
     },
     "execution_count": 13,
     "metadata": {},
     "output_type": "execute_result"
    }
   ],
   "source": [
    "df.groupby('user_id')['event_name'].agg('count').median()"
   ]
  },
  {
   "cell_type": "markdown",
   "metadata": {},
   "source": [
    "В среднем 20 событий приходится на одного пользователя."
   ]
  },
  {
   "cell_type": "markdown",
   "metadata": {},
   "source": [
    "<div class=\"alert alert-block alert-warning\">\n",
    "\n",
    "**Комментарий ревьювера (что можно улучшить)**\n",
    "    \n",
    "Можно дополнительно изучить распределение количества событий по каждому пользователю, тем самым объяснить выбор медианы.\n",
    "</div>"
   ]
  },
  {
   "cell_type": "markdown",
   "metadata": {},
   "source": [
    "### Данными за какой период вы располагаете?"
   ]
  },
  {
   "cell_type": "code",
   "execution_count": 14,
   "metadata": {},
   "outputs": [
    {
     "data": {
      "text/plain": [
       "Timestamp('2019-07-25 04:43:36')"
      ]
     },
     "metadata": {},
     "output_type": "display_data"
    }
   ],
   "source": [
    "# определяем минимальную дату\n",
    "display(df['dt_event'].min())"
   ]
  },
  {
   "cell_type": "code",
   "execution_count": 15,
   "metadata": {},
   "outputs": [
    {
     "data": {
      "text/plain": [
       "Timestamp('2019-08-07 21:15:17')"
      ]
     },
     "metadata": {},
     "output_type": "display_data"
    }
   ],
   "source": [
    "# определяем максимальную дату\n",
    "display(df['dt_event'].max())"
   ]
  },
  {
   "cell_type": "code",
   "execution_count": 16,
   "metadata": {
    "scrolled": false
   },
   "outputs": [
    {
     "data": {
      "image/png": "[encoded data removed]",
      "text/plain": [
       "<Figure size 1368x576 with 1 Axes>"
      ]
     },
     "metadata": {
      "needs_background": "light"
     },
     "output_type": "display_data"
    }
   ],
   "source": [
    "# построим столбчатую диаграмму, которая отобразит количество событий в зависимости от времени в разрезе групп\n",
    "eventy = df.groupby([df['date'].dt.date, 'exp_id'])['user_id'].nunique().unstack(fill_value=0)\n",
    "\n",
    "eventy.plot(kind='bar', figsize=(19, 8))\n",
    "plt.title('Количество событий в зависимости от времени в разрезе групп')\n",
    "plt.xlabel('Дата')\n",
    "plt.ylabel('Количество событий')\n",
    "plt.xticks(rotation=45)\n",
    "plt.show()"
   ]
  },
  {
   "cell_type": "markdown",
   "metadata": {},
   "source": [
    "<div class=\"alert alert-block alert-danger\">\n",
    "    \n",
    "**Комментарий ревьювера (недочет, который нужно доработать)**\n",
    "    \n",
    "По заданию нужно построить столбчатую диаграмму:\n",
    "    \n",
    "`Изучите, как меняется количество данных: постройте столбчатую диаграмму, которая отобразит количество событий в зависимости от времени в разрезе групп.` \n",
    "    \n",
    "То есть нужно использовать один столбчатый график, где будет разбивка по группам.\n",
    "    \n",
    "\n",
    "</div>"
   ]
  },
  {
   "cell_type": "markdown",
   "metadata": {},
   "source": [
    "<div class=\"alert alert-block alert-info\">\n",
    "<b>КОММЕНТАРИЙ ОТ УЧЕНИКА:</b>\n",
    "    Исправила\n",
    "</div>"
   ]
  },
  {
   "cell_type": "markdown",
   "metadata": {},
   "source": [
    "<div class=\"alert alert-block alert-success\">\n",
    "\n",
    "**Комментарий ревьювера v2 (все отлично)**\n",
    "    \n",
    "Отличный график👍 Предлагаю изучить интересные методы по визуализации. Прикрепляю несколько интересных ссылок:\n",
    "\n",
    "\n",
    "https://coderlessons.com/tutorials/python-technologies/izuchai-siborna/siborn-kratkoe-rukovodstvo\n",
    "\n",
    "https://tproger.ru/translations/python-data-vizualization/\n",
    "</div>"
   ]
  },
  {
   "cell_type": "markdown",
   "metadata": {},
   "source": [
    "Судя по гистограмме, мы обладаем полными данными только с 01.08 по 07.08."
   ]
  },
  {
   "cell_type": "code",
   "execution_count": 17,
   "metadata": {},
   "outputs": [],
   "source": [
    "# отбросим старые данные\n",
    "filtered_df = df.query('dt_event >= \"2019-08-01\"')"
   ]
  },
  {
   "cell_type": "markdown",
   "metadata": {},
   "source": [
    "### Много ли событий и пользователей вы потеряли, отбросив старые данные?"
   ]
  },
  {
   "cell_type": "code",
   "execution_count": 18,
   "metadata": {},
   "outputs": [
    {
     "data": {
      "text/plain": [
       "2826"
      ]
     },
     "execution_count": 18,
     "metadata": {},
     "output_type": "execute_result"
    }
   ],
   "source": [
    "lost_events = len(df) - len(filtered_df)\n",
    "\n",
    "lost_events"
   ]
  },
  {
   "cell_type": "code",
   "execution_count": 19,
   "metadata": {},
   "outputs": [
    {
     "data": {
      "text/plain": [
       "'Доля потерянных событий: 1.2%'"
      ]
     },
     "metadata": {},
     "output_type": "display_data"
    }
   ],
   "source": [
    "total_events = len(df)\n",
    "part_lost = (lost_events / total_events) * 100\n",
    "display(f\"Доля потерянных событий: {part_lost:.1f}%\")"
   ]
  },
  {
   "cell_type": "code",
   "execution_count": 20,
   "metadata": {},
   "outputs": [
    {
     "data": {
      "text/plain": [
       "17"
      ]
     },
     "execution_count": 20,
     "metadata": {},
     "output_type": "execute_result"
    }
   ],
   "source": [
    "lost_users = df['user_id'].nunique() - filtered_df['user_id'].nunique()\n",
    "lost_users"
   ]
  },
  {
   "cell_type": "code",
   "execution_count": 21,
   "metadata": {
    "scrolled": true
   },
   "outputs": [
    {
     "data": {
      "text/plain": [
       "'Доля потерянных пользователей: 0.2%'"
      ]
     },
     "metadata": {},
     "output_type": "display_data"
    }
   ],
   "source": [
    "part_u = (lost_users / df['user_id'].nunique()) * 100\n",
    "display(f\"Доля потерянных пользователей: {part_u:.1f}%\")"
   ]
  },
  {
   "cell_type": "markdown",
   "metadata": {},
   "source": [
    "<div class=\"alert alert-block alert-success\">\n",
    "\n",
    "**Комментарий ревьювера (все отлично)**\n",
    "    \n",
    "Верный выбор даты, с которой фильтруешь данные. Потери незначительны.\n",
    "\n",
    "</div>"
   ]
  },
  {
   "cell_type": "markdown",
   "metadata": {},
   "source": [
    "### Проверьте, что у вас есть пользователи из всех трёх экспериментальных групп."
   ]
  },
  {
   "cell_type": "code",
   "execution_count": 22,
   "metadata": {},
   "outputs": [
    {
     "data": {
      "text/plain": [
       "exp_id\n",
       "246    79302\n",
       "247    77022\n",
       "248    84563\n",
       "Name: user_id, dtype: int64"
      ]
     },
     "execution_count": 22,
     "metadata": {},
     "output_type": "execute_result"
    }
   ],
   "source": [
    "filtered_df.groupby('exp_id')['user_id'].agg('count')"
   ]
  },
  {
   "cell_type": "markdown",
   "metadata": {},
   "source": [
    "Вывод: \n",
    "- Всего 243713 событий в логе\n",
    "- Всего 7551 пользователей в логе\n",
    "- В среднем 20 событий приходится на одного пользователя\n",
    "- Мы обладаем полными данными только с 01.08 по 07.08\n",
    "- Доля потерянных событий: 1.2% (2826)\n",
    "- Доля потерянных пользователей: 0.2% (17)."
   ]
  },
  {
   "cell_type": "markdown",
   "metadata": {},
   "source": [
    " ## Изучите воронку событий"
   ]
  },
  {
   "cell_type": "markdown",
   "metadata": {},
   "source": [
    "### Посмотрите, какие события есть в логах, как часто они встречаются. Отсортируйте события по частоте."
   ]
  },
  {
   "cell_type": "code",
   "execution_count": 23,
   "metadata": {
    "scrolled": true
   },
   "outputs": [
    {
     "data": {
      "text/plain": [
       "event_name\n",
       "MainScreenAppear           117328\n",
       "OffersScreenAppear          46333\n",
       "CartScreenAppear            42303\n",
       "PaymentScreenSuccessful     33918\n",
       "Tutorial                     1005\n",
       "Name: user_id, dtype: int64"
      ]
     },
     "execution_count": 23,
     "metadata": {},
     "output_type": "execute_result"
    }
   ],
   "source": [
    "filtered_df.groupby('event_name')['user_id'].agg('count').sort_values(ascending=False)"
   ]
  },
  {
   "cell_type": "markdown",
   "metadata": {},
   "source": [
    "### Посчитайте, сколько пользователей совершали каждое из этих событий. Отсортируйте события по числу пользователей. Посчитайте долю пользователей, которые хоть раз совершали событие."
   ]
  },
  {
   "cell_type": "code",
   "execution_count": 24,
   "metadata": {},
   "outputs": [
    {
     "data": {
      "text/html": [
       "<div>\n",
       "<style scoped>\n",
       "    .dataframe tbody tr th:only-of-type {\n",
       "        vertical-align: middle;\n",
       "    }\n",
       "\n",
       "    .dataframe tbody tr th {\n",
       "        vertical-align: top;\n",
       "    }\n",
       "\n",
       "    .dataframe thead th {\n",
       "        text-align: right;\n",
       "    }\n",
       "</style>\n",
       "<table border=\"1\" class=\"dataframe\">\n",
       "  <thead>\n",
       "    <tr style=\"text-align: right;\">\n",
       "      <th></th>\n",
       "      <th>event_name</th>\n",
       "      <th>unique_user_count</th>\n",
       "      <th>user_percentage</th>\n",
       "    </tr>\n",
       "  </thead>\n",
       "  <tbody>\n",
       "    <tr>\n",
       "      <th>0</th>\n",
       "      <td>MainScreenAppear</td>\n",
       "      <td>7419</td>\n",
       "      <td>98.25</td>\n",
       "    </tr>\n",
       "    <tr>\n",
       "      <th>1</th>\n",
       "      <td>OffersScreenAppear</td>\n",
       "      <td>4593</td>\n",
       "      <td>60.83</td>\n",
       "    </tr>\n",
       "    <tr>\n",
       "      <th>2</th>\n",
       "      <td>CartScreenAppear</td>\n",
       "      <td>3734</td>\n",
       "      <td>49.45</td>\n",
       "    </tr>\n",
       "    <tr>\n",
       "      <th>3</th>\n",
       "      <td>PaymentScreenSuccessful</td>\n",
       "      <td>3539</td>\n",
       "      <td>46.87</td>\n",
       "    </tr>\n",
       "    <tr>\n",
       "      <th>4</th>\n",
       "      <td>Tutorial</td>\n",
       "      <td>840</td>\n",
       "      <td>11.12</td>\n",
       "    </tr>\n",
       "  </tbody>\n",
       "</table>\n",
       "</div>"
      ],
      "text/plain": [
       "                event_name  unique_user_count  user_percentage\n",
       "0         MainScreenAppear               7419            98.25\n",
       "1       OffersScreenAppear               4593            60.83\n",
       "2         CartScreenAppear               3734            49.45\n",
       "3  PaymentScreenSuccessful               3539            46.87\n",
       "4                 Tutorial                840            11.12"
      ]
     },
     "execution_count": 24,
     "metadata": {},
     "output_type": "execute_result"
    }
   ],
   "source": [
    "event_counts = filtered_df.groupby('event_name')['user_id'].nunique().sort_values(ascending=False)\n",
    "total_users = df['user_id'].nunique()\n",
    "\n",
    "event_counts_df = event_counts.reset_index()\n",
    "event_counts_df.columns = ['event_name', 'unique_user_count']\n",
    "\n",
    "event_counts_df['user_percentage'] = round((event_counts_df['unique_user_count'] / total_users) * 100, 2)\n",
    "event_counts_df"
   ]
  },
  {
   "cell_type": "markdown",
   "metadata": {},
   "source": [
    "<div class=\"alert alert-block alert-warning\">\n",
    "\n",
    "**Комментарий ревьювера (что можно улучшить)**\n",
    "    \n",
    "Как думаешь, почему около 1,5% пользователей миновали главный экран?\n",
    "</div>"
   ]
  },
  {
   "cell_type": "markdown",
   "metadata": {},
   "source": [
    "\n",
    "<div class=\"alert alert-block alert-info\">\n",
    "<b>Возможно 1,5% пользователей переходили по уведомлению на нужную страницу без необходимости посещать главную</b>\n",
    "</div>"
   ]
  },
  {
   "cell_type": "markdown",
   "metadata": {},
   "source": [
    "<div class=\"alert alert-block alert-success\">\n",
    "\n",
    "**Комментарий ревьювера v2 (все отлично)**\n",
    "    \n",
    "Согласен👍\n",
    "</div>"
   ]
  },
  {
   "cell_type": "markdown",
   "metadata": {},
   "source": [
    "### Предположите, в каком порядке происходят события. Все ли они выстраиваются в последовательную цепочку? Их не нужно учитывать при расчёте воронки."
   ]
  },
  {
   "cell_type": "markdown",
   "metadata": {},
   "source": [
    "Мы можем предположить, что события выстраиваются в следующую последовательную цепочку:\n",
    "1. Пользователь заходит на главный экран - MainScreenAppear\n",
    "2. Видит/выбирает на главном экране предложения - OffersScreenAppear\n",
    "3. Переходит в корзину - CartScreenAppear\n",
    "4. Совершает покупку - PaymentScreenSuccessful\n",
    "\n",
    "Руководство (Tutorial) не будем учитывать."
   ]
  },
  {
   "cell_type": "markdown",
   "metadata": {},
   "source": [
    "<div class=\"alert alert-block alert-success\">\n",
    "\n",
    "**Комментарий ревьювера (все отлично)**\n",
    "    \n",
    "Согласен с решением не включать tutorial в воронку. Это событие обычно можно пройти по желанию и на любом этапе.\n",
    "</div>"
   ]
  },
  {
   "cell_type": "markdown",
   "metadata": {},
   "source": [
    "### По воронке событий посчитайте, какая доля пользователей проходит на следующий шаг воронки (от числа пользователей на предыдущем). То есть для последовательности событий A → B → C посчитайте отношение числа пользователей с событием B к количеству пользователей с событием A, а также отношение числа пользователей с событием C к количеству пользователей с событием B."
   ]
  },
  {
   "cell_type": "code",
   "execution_count": 25,
   "metadata": {},
   "outputs": [
    {
     "data": {
      "text/html": [
       "<div>\n",
       "<style scoped>\n",
       "    .dataframe tbody tr th:only-of-type {\n",
       "        vertical-align: middle;\n",
       "    }\n",
       "\n",
       "    .dataframe tbody tr th {\n",
       "        vertical-align: top;\n",
       "    }\n",
       "\n",
       "    .dataframe thead th {\n",
       "        text-align: right;\n",
       "    }\n",
       "</style>\n",
       "<table border=\"1\" class=\"dataframe\">\n",
       "  <thead>\n",
       "    <tr style=\"text-align: right;\">\n",
       "      <th></th>\n",
       "      <th>event_name</th>\n",
       "      <th>unique_user_count</th>\n",
       "      <th>user_percentage</th>\n",
       "    </tr>\n",
       "  </thead>\n",
       "  <tbody>\n",
       "    <tr>\n",
       "      <th>0</th>\n",
       "      <td>MainScreenAppear</td>\n",
       "      <td>7439</td>\n",
       "      <td>100.0</td>\n",
       "    </tr>\n",
       "    <tr>\n",
       "      <th>1</th>\n",
       "      <td>OffersScreenAppear</td>\n",
       "      <td>4613</td>\n",
       "      <td>62.0</td>\n",
       "    </tr>\n",
       "    <tr>\n",
       "      <th>2</th>\n",
       "      <td>CartScreenAppear</td>\n",
       "      <td>3749</td>\n",
       "      <td>81.3</td>\n",
       "    </tr>\n",
       "    <tr>\n",
       "      <th>3</th>\n",
       "      <td>PaymentScreenSuccessful</td>\n",
       "      <td>3547</td>\n",
       "      <td>94.6</td>\n",
       "    </tr>\n",
       "  </tbody>\n",
       "</table>\n",
       "</div>"
      ],
      "text/plain": [
       "                event_name  unique_user_count  user_percentage\n",
       "0         MainScreenAppear               7439            100.0\n",
       "1       OffersScreenAppear               4613             62.0\n",
       "2         CartScreenAppear               3749             81.3\n",
       "3  PaymentScreenSuccessful               3547             94.6"
      ]
     },
     "metadata": {},
     "output_type": "display_data"
    }
   ],
   "source": [
    "# фильтруем события, исключая 'Tutorial'\n",
    "filtered_events = df[df['event_name'].isin(['MainScreenAppear', 'OffersScreenAppear', 'CartScreenAppear', 'PaymentScreenSuccessful'])]\n",
    "\n",
    "# уникальные пользователи для каждого события\n",
    "event_counts = filtered_events.groupby('event_name')['user_id'].nunique().sort_values(ascending=False)\n",
    "\n",
    "# создаем DataFrame для воронки\n",
    "funnel_df = event_counts.reset_index()\n",
    "funnel_df.columns = ['event_name', 'unique_user_count']\n",
    "\n",
    "# рассчитываем долю пользователей, переходящих от одного события к следующему\n",
    "funnel_df['user_percentage'] = round(funnel_df['unique_user_count'] / funnel_df['unique_user_count'].shift(1) * 100, 1)\n",
    "\n",
    "# Заменяем NaN на 100%\n",
    "funnel_df['user_percentage'].fillna(100, inplace=True)\n",
    "\n",
    "display(funnel_df)"
   ]
  },
  {
   "cell_type": "markdown",
   "metadata": {},
   "source": [
    "### На каком шаге теряете больше всего пользователей?"
   ]
  },
  {
   "cell_type": "markdown",
   "metadata": {},
   "source": [
    "После 1 шага теряется практически половина пользователей."
   ]
  },
  {
   "cell_type": "markdown",
   "metadata": {},
   "source": [
    "### Какая доля пользователей доходит от первого события до оплаты?"
   ]
  },
  {
   "cell_type": "code",
   "execution_count": 26,
   "metadata": {},
   "outputs": [
    {
     "data": {
      "text/plain": [
       "'Доля пользователей от первого события до оплаты: 47.7%'"
      ]
     },
     "metadata": {},
     "output_type": "display_data"
    }
   ],
   "source": [
    "first_event_users = event_counts.loc['MainScreenAppear']\n",
    "payment_users = event_counts.loc['PaymentScreenSuccessful']\n",
    "\n",
    "if first_event_users > 0:\n",
    "    total_conversion_rate = round((payment_users / first_event_users) * 100, 1)\n",
    "else:\n",
    "    total_conversion_rate = 0\n",
    "    \n",
    "display(f\"Доля пользователей от первого события до оплаты: {total_conversion_rate}%\")"
   ]
  },
  {
   "cell_type": "markdown",
   "metadata": {},
   "source": [
    "Вывод:\n",
    "1. Посмотрели, как часто встречаются в логе события:\n",
    "    - MainScreenAppear - 117328\n",
    "    - OffersScreenAppear - 46333\n",
    "    - CartScreenAppear - 42303\n",
    "    - PaymentScreenSuccessful - 33918\n",
    "    - Tutorial - 1005\n",
    "\n",
    "\n",
    "2. Посмотрели, сколько пользователей совершали каждое из этих событий, посчитали долю:\n",
    "    - MainScreenAppear: 7419 -\t98.25\n",
    "    - OffersScreenAppear: 4593 -\t60.83\n",
    "    - CartScreenAppear: 3734 -\t49.45\n",
    "    - PaymentScreenSuccessful: 3539 -\t46.87\n",
    "    - Tutorial: 840\t- 11.12\n",
    "\n",
    "\n",
    "3. Мы можем предположить, что события выстраиваются в следующую последовательную цепочку:\n",
    "    1. Пользователь заходит на главный экран - MainScreenAppear\n",
    "    2. Видит/выбирает на главном экране предложения - OffersScreenAppear\n",
    "    3. Переходит в корзину - CartScreenAppear\n",
    "    4. Совершает покупку - PaymentScreenSuccessful\n",
    "\n",
    "Руководство (Tutorial) не будем учитывать.\n",
    "\n",
    "4. Посчитали, какая доля пользователей проходит на следующий шаг воронки:\n",
    "    - MainScreenAppear: 7419 -\t100.0\n",
    "    - OffersScreenAppear: 4593 -\t61.9\n",
    "    - CartScreenAppear: 3734 -\t81.3\n",
    "    - PaymentScreenSuccessful: 3539 -\t94.8\n",
    "\n",
    "\n",
    "5. После 1 шага теряется практически половина пользователей.\n",
    "\n",
    "6. 47.7% пользователей проходит от первого события до оплаты."
   ]
  },
  {
   "cell_type": "markdown",
   "metadata": {},
   "source": [
    "<div class=\"alert alert-block alert-warning\">\n",
    "\n",
    "**Комментарий ревьювера (что можно улучшить)**\n",
    "    \n",
    "Какие рекомендации можно дать заказчику на основании проведенного анализа?\n",
    "</div>"
   ]
  },
  {
   "cell_type": "markdown",
   "metadata": {},
   "source": [
    "\n",
    "<div class=\"alert alert-block alert-info\">\n",
    "<b>КОММЕНТАРИЙ ОТ УЧЕНИКА:\n",
    "К сожалению, не могу сказать</b>\n",
    "</div>"
   ]
  },
  {
   "cell_type": "markdown",
   "metadata": {},
   "source": [
    "<div class=\"alert alert-block alert-warning\">\n",
    "\n",
    "**Комментарий ревьювера v2 (что можно улучшить)**\n",
    "    \n",
    "Можно предложить изучить главную страницу, чтобы определить причины большого оттока после этого события.\n",
    "</div>"
   ]
  },
  {
   "cell_type": "markdown",
   "metadata": {},
   "source": [
    "## Изучите результаты эксперимента"
   ]
  },
  {
   "cell_type": "markdown",
   "metadata": {},
   "source": [
    "### Сколько пользователей в каждой экспериментальной группе?"
   ]
  },
  {
   "cell_type": "code",
   "execution_count": 27,
   "metadata": {},
   "outputs": [
    {
     "data": {
      "text/html": [
       "<div>\n",
       "<style scoped>\n",
       "    .dataframe tbody tr th:only-of-type {\n",
       "        vertical-align: middle;\n",
       "    }\n",
       "\n",
       "    .dataframe tbody tr th {\n",
       "        vertical-align: top;\n",
       "    }\n",
       "\n",
       "    .dataframe thead th {\n",
       "        text-align: right;\n",
       "    }\n",
       "</style>\n",
       "<table border=\"1\" class=\"dataframe\">\n",
       "  <thead>\n",
       "    <tr style=\"text-align: right;\">\n",
       "      <th></th>\n",
       "      <th>user_id</th>\n",
       "    </tr>\n",
       "    <tr>\n",
       "      <th>exp_id</th>\n",
       "      <th></th>\n",
       "    </tr>\n",
       "  </thead>\n",
       "  <tbody>\n",
       "    <tr>\n",
       "      <th>246</th>\n",
       "      <td>2484</td>\n",
       "    </tr>\n",
       "    <tr>\n",
       "      <th>247</th>\n",
       "      <td>2513</td>\n",
       "    </tr>\n",
       "    <tr>\n",
       "      <th>248</th>\n",
       "      <td>2537</td>\n",
       "    </tr>\n",
       "  </tbody>\n",
       "</table>\n",
       "</div>"
      ],
      "text/plain": [
       "        user_id\n",
       "exp_id         \n",
       "246        2484\n",
       "247        2513\n",
       "248        2537"
      ]
     },
     "execution_count": 27,
     "metadata": {},
     "output_type": "execute_result"
    }
   ],
   "source": [
    "filtered_df.pivot_table(index = 'exp_id', values = 'user_id', aggfunc = 'nunique')"
   ]
  },
  {
   "cell_type": "markdown",
   "metadata": {},
   "source": [
    "### Есть 2 контрольные группы для А/А-эксперимента, чтобы проверить корректность всех механизмов и расчётов. Проверьте, находят ли статистические критерии разницу между выборками 246 и 247."
   ]
  },
  {
   "cell_type": "markdown",
   "metadata": {},
   "source": [
    "Критерии успешного A/A-теста: \n",
    "- Количество пользователей в различных группах различается не более, чем на 1%;\n",
    "- Для всех групп фиксируют и отправляют в системы аналитики данные об одном и том же;\n",
    "- Различие ключевых метрик по группам не превышает 1% и не имеет статистической значимости;\n",
    "- Попавший в одну из групп посетитель остаётся в этой группе до конца теста."
   ]
  },
  {
   "cell_type": "markdown",
   "metadata": {},
   "source": [
    "### Выберите самое популярное событие. Посчитайте число пользователей, совершивших это событие в каждой из контрольных групп. Посчитайте долю пользователей, совершивших это событие. Проверьте, будет ли отличие между группами статистически достоверным. Проделайте то же самое для всех других событий (удобно обернуть проверку в отдельную функцию). Можно ли сказать, что разбиение на группы работает корректно?"
   ]
  },
  {
   "cell_type": "code",
   "execution_count": 28,
   "metadata": {},
   "outputs": [],
   "source": [
    "# делаем срез по всем группам\n",
    "group_246 = filtered_df.query('exp_id == 246')\n",
    "group_247 = filtered_df.query('exp_id == 247')\n",
    "group_248 = filtered_df.query('exp_id == 248')"
   ]
  },
  {
   "cell_type": "code",
   "execution_count": 29,
   "metadata": {},
   "outputs": [
    {
     "data": {
      "text/html": [
       "<div>\n",
       "<style scoped>\n",
       "    .dataframe tbody tr th:only-of-type {\n",
       "        vertical-align: middle;\n",
       "    }\n",
       "\n",
       "    .dataframe tbody tr th {\n",
       "        vertical-align: top;\n",
       "    }\n",
       "\n",
       "    .dataframe thead th {\n",
       "        text-align: right;\n",
       "    }\n",
       "</style>\n",
       "<table border=\"1\" class=\"dataframe\">\n",
       "  <thead>\n",
       "    <tr style=\"text-align: right;\">\n",
       "      <th></th>\n",
       "      <th>user_id</th>\n",
       "    </tr>\n",
       "    <tr>\n",
       "      <th>event_name</th>\n",
       "      <th></th>\n",
       "    </tr>\n",
       "  </thead>\n",
       "  <tbody>\n",
       "    <tr>\n",
       "      <th>MainScreenAppear</th>\n",
       "      <td>2450</td>\n",
       "    </tr>\n",
       "    <tr>\n",
       "      <th>OffersScreenAppear</th>\n",
       "      <td>1542</td>\n",
       "    </tr>\n",
       "    <tr>\n",
       "      <th>CartScreenAppear</th>\n",
       "      <td>1266</td>\n",
       "    </tr>\n",
       "    <tr>\n",
       "      <th>PaymentScreenSuccessful</th>\n",
       "      <td>1200</td>\n",
       "    </tr>\n",
       "    <tr>\n",
       "      <th>Tutorial</th>\n",
       "      <td>278</td>\n",
       "    </tr>\n",
       "  </tbody>\n",
       "</table>\n",
       "</div>"
      ],
      "text/plain": [
       "                         user_id\n",
       "event_name                      \n",
       "MainScreenAppear            2450\n",
       "OffersScreenAppear          1542\n",
       "CartScreenAppear            1266\n",
       "PaymentScreenSuccessful     1200\n",
       "Tutorial                     278"
      ]
     },
     "execution_count": 29,
     "metadata": {},
     "output_type": "execute_result"
    }
   ],
   "source": [
    "# вычисляем популярное событие в 246 группе\n",
    "group_246.pivot_table(index = 'event_name', values = 'user_id', aggfunc = 'nunique').sort_values(by='user_id', ascending=False)"
   ]
  },
  {
   "cell_type": "code",
   "execution_count": 30,
   "metadata": {},
   "outputs": [
    {
     "data": {
      "text/html": [
       "<div>\n",
       "<style scoped>\n",
       "    .dataframe tbody tr th:only-of-type {\n",
       "        vertical-align: middle;\n",
       "    }\n",
       "\n",
       "    .dataframe tbody tr th {\n",
       "        vertical-align: top;\n",
       "    }\n",
       "\n",
       "    .dataframe thead th {\n",
       "        text-align: right;\n",
       "    }\n",
       "</style>\n",
       "<table border=\"1\" class=\"dataframe\">\n",
       "  <thead>\n",
       "    <tr style=\"text-align: right;\">\n",
       "      <th></th>\n",
       "      <th>user_id</th>\n",
       "    </tr>\n",
       "    <tr>\n",
       "      <th>event_name</th>\n",
       "      <th></th>\n",
       "    </tr>\n",
       "  </thead>\n",
       "  <tbody>\n",
       "    <tr>\n",
       "      <th>MainScreenAppear</th>\n",
       "      <td>2476</td>\n",
       "    </tr>\n",
       "    <tr>\n",
       "      <th>OffersScreenAppear</th>\n",
       "      <td>1520</td>\n",
       "    </tr>\n",
       "    <tr>\n",
       "      <th>CartScreenAppear</th>\n",
       "      <td>1238</td>\n",
       "    </tr>\n",
       "    <tr>\n",
       "      <th>PaymentScreenSuccessful</th>\n",
       "      <td>1158</td>\n",
       "    </tr>\n",
       "    <tr>\n",
       "      <th>Tutorial</th>\n",
       "      <td>283</td>\n",
       "    </tr>\n",
       "  </tbody>\n",
       "</table>\n",
       "</div>"
      ],
      "text/plain": [
       "                         user_id\n",
       "event_name                      \n",
       "MainScreenAppear            2476\n",
       "OffersScreenAppear          1520\n",
       "CartScreenAppear            1238\n",
       "PaymentScreenSuccessful     1158\n",
       "Tutorial                     283"
      ]
     },
     "execution_count": 30,
     "metadata": {},
     "output_type": "execute_result"
    }
   ],
   "source": [
    "# вычисляем популярное событие в 247 группе\n",
    "group_247.pivot_table(index = 'event_name', values = 'user_id', aggfunc = 'nunique').sort_values(by='user_id', ascending=False)"
   ]
  },
  {
   "cell_type": "code",
   "execution_count": 31,
   "metadata": {},
   "outputs": [
    {
     "data": {
      "text/html": [
       "<div>\n",
       "<style scoped>\n",
       "    .dataframe tbody tr th:only-of-type {\n",
       "        vertical-align: middle;\n",
       "    }\n",
       "\n",
       "    .dataframe tbody tr th {\n",
       "        vertical-align: top;\n",
       "    }\n",
       "\n",
       "    .dataframe thead th {\n",
       "        text-align: right;\n",
       "    }\n",
       "</style>\n",
       "<table border=\"1\" class=\"dataframe\">\n",
       "  <thead>\n",
       "    <tr style=\"text-align: right;\">\n",
       "      <th></th>\n",
       "      <th>user_id</th>\n",
       "    </tr>\n",
       "    <tr>\n",
       "      <th>event_name</th>\n",
       "      <th></th>\n",
       "    </tr>\n",
       "  </thead>\n",
       "  <tbody>\n",
       "    <tr>\n",
       "      <th>MainScreenAppear</th>\n",
       "      <td>2493</td>\n",
       "    </tr>\n",
       "    <tr>\n",
       "      <th>OffersScreenAppear</th>\n",
       "      <td>1531</td>\n",
       "    </tr>\n",
       "    <tr>\n",
       "      <th>CartScreenAppear</th>\n",
       "      <td>1230</td>\n",
       "    </tr>\n",
       "    <tr>\n",
       "      <th>PaymentScreenSuccessful</th>\n",
       "      <td>1181</td>\n",
       "    </tr>\n",
       "    <tr>\n",
       "      <th>Tutorial</th>\n",
       "      <td>279</td>\n",
       "    </tr>\n",
       "  </tbody>\n",
       "</table>\n",
       "</div>"
      ],
      "text/plain": [
       "                         user_id\n",
       "event_name                      \n",
       "MainScreenAppear            2493\n",
       "OffersScreenAppear          1531\n",
       "CartScreenAppear            1230\n",
       "PaymentScreenSuccessful     1181\n",
       "Tutorial                     279"
      ]
     },
     "execution_count": 31,
     "metadata": {},
     "output_type": "execute_result"
    }
   ],
   "source": [
    "# вычисляем популярное событие в 248 группе\n",
    "group_248.pivot_table(index = 'event_name', values = 'user_id', aggfunc = 'nunique').sort_values(by='user_id', ascending=False)"
   ]
  },
  {
   "cell_type": "code",
   "execution_count": 32,
   "metadata": {},
   "outputs": [
    {
     "data": {
      "text/plain": [
       "'Доля пользователей в 246 группе: 98.63'"
      ]
     },
     "metadata": {},
     "output_type": "display_data"
    },
    {
     "data": {
      "text/plain": [
       "'Доля пользователей в 247 группе: 98.53'"
      ]
     },
     "metadata": {},
     "output_type": "display_data"
    },
    {
     "data": {
      "text/plain": [
       "'Доля пользователей в 246 группе: 98.27'"
      ]
     },
     "metadata": {},
     "output_type": "display_data"
    }
   ],
   "source": [
    "# общее количество уникальных пользователей в каждой группе\n",
    "total_users_246 = group_246['user_id'].nunique()\n",
    "total_users_247 = group_247['user_id'].nunique()\n",
    "total_users_248 = group_248['user_id'].nunique()\n",
    "\n",
    "# количество уникальных пользователей, совершивших событие MainScreenAppear\n",
    "users_mainscreen_246 = group_246.query('event_name == \"MainScreenAppear\"')['user_id'].nunique()\n",
    "users_mainscreen_247 = group_247.query('event_name == \"MainScreenAppear\"')['user_id'].nunique()\n",
    "users_mainscreen_248 = group_248.query('event_name == \"MainScreenAppear\"')['user_id'].nunique()\n",
    "\n",
    "# вычисляем долю пользователей, совершивших событие MainScreenAppear\n",
    "share_main_screen_246 = round((users_mainscreen_246 / total_users_246) * 100, 2)\n",
    "share_main_screen_247 = round((users_mainscreen_247 / total_users_247) * 100, 2)\n",
    "share_main_screen_248 = round((users_mainscreen_248 / total_users_248) * 100, 2)\n",
    "\n",
    "display(f'Доля пользователей в 246 группе: {share_main_screen_246}')\n",
    "display(f'Доля пользователей в 247 группе: {share_main_screen_247}')\n",
    "display(f'Доля пользователей в 246 группе: {share_main_screen_248}')"
   ]
  },
  {
   "cell_type": "markdown",
   "metadata": {},
   "source": [
    "Уровень статистически значимости - **0.05**\n",
    "\n",
    "**Составим гипотезы:**\n",
    "\n",
    "- H0: между долями нет статистически значимой разницы\n",
    "\n",
    "- H1: между долями есть статистически значимая разница\n",
    "\n",
    "Для проверки гипотез мы будем использовать **z-тест**\n"
   ]
  },
  {
   "cell_type": "markdown",
   "metadata": {},
   "source": [
    "<div class=\"alert alert-block alert-danger\">\n",
    "    \n",
    "**Комментарий ревьювера (недочет, который нужно доработать)**\n",
    "    \n",
    "Необходимо заняться оформлением отчёта на этапе проверки гипотез:\n",
    "    \n",
    "1) Обозначь выбранный уровень статистической значимости.\n",
    "    \n",
    "2) Укажи статистический тест (критерий) проверки гипотез.\n",
    "</div>"
   ]
  },
  {
   "cell_type": "markdown",
   "metadata": {},
   "source": [
    "<div class=\"alert alert-block alert-info\">\n",
    "<b>КОММЕНТАРИЙ ОТ УЧЕНИКА:</b>\n",
    "    Исправила\n",
    "</div>"
   ]
  },
  {
   "cell_type": "markdown",
   "metadata": {},
   "source": [
    "<div class=\"alert alert-block alert-success\">\n",
    "\n",
    "**Комментарий ревьювера v2 (все отлично)**\n",
    "    \n",
    "Основные параметры проверки гипотез отражены👍\n",
    "</div>"
   ]
  },
  {
   "cell_type": "code",
   "execution_count": 33,
   "metadata": {
    "scrolled": true
   },
   "outputs": [
    {
     "name": "stdout",
     "output_type": "stream",
     "text": [
      "p-значение:  0.7570597232046099\n",
      "Не получилось отвергнуть нулевую гипотезу, нет оснований считать доли разными\n"
     ]
    }
   ],
   "source": [
    "alpha = 0.05  # критический уровень статистической значимости\n",
    "    \n",
    "two_group_events = np.array([group_246[group_246['event_name'] == 'MainScreenAppear']['user_id'].nunique(), group_247[group_247['event_name'] == 'MainScreenAppear']['user_id'].nunique()])\n",
    "uni_users = np.array([group_246['user_id'].nunique(), group_247['user_id'].nunique()])\n",
    "    \n",
    "p1 = two_group_events[0]/uni_users[0]\n",
    "p2 = two_group_events[1]/uni_users[1]\n",
    "    \n",
    "p_combined = (two_group_events[0] + two_group_events[1]) / (uni_users[0] + uni_users[1])\n",
    "    \n",
    "difference = p1 - p2\n",
    "    \n",
    "z_value = difference / mth.sqrt(p_combined * (1 - p_combined) * (1/uni_users[0] + 1/uni_users[1]))\n",
    "    \n",
    "distr = st.norm(0, 1)  \n",
    "\n",
    "p_value = (1 - distr.cdf(abs(z_value))) * 2\n",
    "              \n",
    "print('p-значение: ', p_value)\n",
    "\n",
    "if p_value < alpha:\n",
    "    print('Отвергаем нулевую гипотезу: между долями есть значимая разница')\n",
    "else:\n",
    "    print('Не получилось отвергнуть нулевую гипотезу, нет оснований считать доли разными')"
   ]
  },
  {
   "cell_type": "markdown",
   "metadata": {},
   "source": [
    "<div class=\"alert alert-block alert-danger\">\n",
    "    \n",
    "**Комментарий ревьювера (недочет, который нужно доработать)**\n",
    "    \n",
    "В расчёте выше и в функции неправильно посчитан z_value. Исправь ошибку и проверь результаты проверок.\n",
    "\n",
    "    \n",
    "</div>"
   ]
  },
  {
   "cell_type": "markdown",
   "metadata": {},
   "source": [
    "<div class=\"alert alert-block alert-info\">\n",
    "<b>КОММЕНТАРИЙ ОТ УЧЕНИКА:</b>\n",
    "    Исправила\n",
    "</div>"
   ]
  },
  {
   "cell_type": "markdown",
   "metadata": {},
   "source": [
    "<div class=\"alert alert-block alert-success\">\n",
    "\n",
    "**Комментарий ревьювера v2 (все отлично)**\n",
    "    \n",
    "Проверки выполнены корректно👍\n",
    "</div>"
   ]
  },
  {
   "cell_type": "code",
   "execution_count": 34,
   "metadata": {},
   "outputs": [],
   "source": [
    "# напишем функцию теста статистических различий между группами\n",
    "def test(g1, g2, event_name):\n",
    "    \n",
    "    alpha = 0.05\n",
    "    \n",
    "    two_group_events = np.array([g1[g1['event_name'] == event_name]['user_id'].nunique(), g2[g2['event_name'] == event_name]['user_id'].nunique()])\n",
    "    uni_users = np.array([g1['user_id'].nunique(), g2['user_id'].nunique()])\n",
    "    \n",
    "    p1 = two_group_events[0]/uni_users[0]\n",
    "    p2 = two_group_events[1]/uni_users[1]\n",
    "    \n",
    "    p_combined = (two_group_events[0] + two_group_events[1]) / (uni_users[0] + uni_users[1])\n",
    "    \n",
    "    difference = p1 - p2\n",
    "    \n",
    "    z_value = difference / mth.sqrt(p_combined * (1 - p_combined) * (1/uni_users[0] + 1/uni_users[1]))\n",
    "    \n",
    "    distr = st.norm(0, 1)  \n",
    "\n",
    "    p_value = (1 - distr.cdf(abs(z_value))) * 2\n",
    "    \n",
    "    print(event_name)\n",
    "          \n",
    "    print('p-значение: ', p_value)\n",
    "\n",
    "    if p_value < alpha:\n",
    "        print('Отвергаем нулевую гипотезу: между долями есть значимая разница')\n",
    "    else:\n",
    "        print('Не получилось отвергнуть нулевую гипотезу, нет оснований считать доли разными')\n",
    "    print()"
   ]
  },
  {
   "cell_type": "code",
   "execution_count": 35,
   "metadata": {},
   "outputs": [
    {
     "name": "stdout",
     "output_type": "stream",
     "text": [
      "MainScreenAppear\n",
      "p-значение:  0.7570597232046099\n",
      "Не получилось отвергнуть нулевую гипотезу, нет оснований считать доли разными\n",
      "\n",
      "PaymentScreenSuccessful\n",
      "p-значение:  0.11456679313141849\n",
      "Не получилось отвергнуть нулевую гипотезу, нет оснований считать доли разными\n",
      "\n",
      "CartScreenAppear\n",
      "p-значение:  0.22883372237997213\n",
      "Не получилось отвергнуть нулевую гипотезу, нет оснований считать доли разными\n",
      "\n",
      "OffersScreenAppear\n",
      "p-значение:  0.2480954578522181\n",
      "Не получилось отвергнуть нулевую гипотезу, нет оснований считать доли разными\n",
      "\n",
      "Tutorial\n",
      "p-значение:  0.9376996189257114\n",
      "Не получилось отвергнуть нулевую гипотезу, нет оснований считать доли разными\n",
      "\n"
     ]
    }
   ],
   "source": [
    "# создадим список с уникальными событиями:\n",
    "event_name_array = df['event_name'].unique()\n",
    "# создадим цикл, который будет подставлять в функцию уникальные значения событий:\n",
    "for event_name in event_name_array:\n",
    "    test(group_246, group_247, event_name)"
   ]
  },
  {
   "cell_type": "markdown",
   "metadata": {},
   "source": [
    "Вывод: Между контрольными группами 246 и 247 нет статистически значимых различий. Разбиние на группы работает корректно."
   ]
  },
  {
   "cell_type": "markdown",
   "metadata": {},
   "source": [
    "<div class=\"alert alert-block alert-success\">\n",
    "\n",
    "**Комментарий ревьювера v2 (все отлично)**\n",
    "    \n",
    "Все верно, такой результат и ожидался. Разбиение прошло корректно и можно смело приступать к А/В тесту.\n",
    "    \n",
    "</div>"
   ]
  },
  {
   "cell_type": "markdown",
   "metadata": {},
   "source": [
    "### Аналогично поступите с группой с изменённым шрифтом. Сравните результаты с каждой из контрольных групп в отдельности по каждому событию. Сравните результаты с объединённой контрольной группой. Какие выводы из эксперимента можно сделать?"
   ]
  },
  {
   "cell_type": "code",
   "execution_count": 36,
   "metadata": {},
   "outputs": [
    {
     "name": "stdout",
     "output_type": "stream",
     "text": [
      "MainScreenAppear\n",
      "p-значение:  0.2949721933554552\n",
      "Не получилось отвергнуть нулевую гипотезу, нет оснований считать доли разными\n",
      "\n",
      "PaymentScreenSuccessful\n",
      "p-значение:  0.2122553275697796\n",
      "Не получилось отвергнуть нулевую гипотезу, нет оснований считать доли разными\n",
      "\n",
      "CartScreenAppear\n",
      "p-значение:  0.07842923237520116\n",
      "Не получилось отвергнуть нулевую гипотезу, нет оснований считать доли разными\n",
      "\n",
      "OffersScreenAppear\n",
      "p-значение:  0.20836205402738917\n",
      "Не получилось отвергнуть нулевую гипотезу, нет оснований считать доли разными\n",
      "\n",
      "Tutorial\n",
      "p-значение:  0.8264294010087645\n",
      "Не получилось отвергнуть нулевую гипотезу, нет оснований считать доли разными\n",
      "\n"
     ]
    }
   ],
   "source": [
    "for event_name in event_name_array:\n",
    "    test(group_246, group_248, event_name)"
   ]
  },
  {
   "cell_type": "markdown",
   "metadata": {},
   "source": [
    "Статистически значимой разницы между 246 и 248 группами нет."
   ]
  },
  {
   "cell_type": "code",
   "execution_count": 37,
   "metadata": {},
   "outputs": [
    {
     "name": "stdout",
     "output_type": "stream",
     "text": [
      "MainScreenAppear\n",
      "p-значение:  0.4587053616621515\n",
      "Не получилось отвергнуть нулевую гипотезу, нет оснований считать доли разными\n",
      "\n",
      "PaymentScreenSuccessful\n",
      "p-значение:  0.7373415053803964\n",
      "Не получилось отвергнуть нулевую гипотезу, нет оснований считать доли разными\n",
      "\n",
      "CartScreenAppear\n",
      "p-значение:  0.5786197879539783\n",
      "Не получилось отвергнуть нулевую гипотезу, нет оснований считать доли разными\n",
      "\n",
      "OffersScreenAppear\n",
      "p-значение:  0.9197817830592261\n",
      "Не получилось отвергнуть нулевую гипотезу, нет оснований считать доли разными\n",
      "\n",
      "Tutorial\n",
      "p-значение:  0.765323922474501\n",
      "Не получилось отвергнуть нулевую гипотезу, нет оснований считать доли разными\n",
      "\n"
     ]
    }
   ],
   "source": [
    "for event_name in event_name_array:\n",
    "    test(group_247, group_248, event_name)"
   ]
  },
  {
   "cell_type": "markdown",
   "metadata": {},
   "source": [
    "Статистической значимой разницы между 247 и 248 группами нет."
   ]
  },
  {
   "cell_type": "code",
   "execution_count": 38,
   "metadata": {},
   "outputs": [],
   "source": [
    "# объединим группы\n",
    "group_246_247 = pd.concat([group_246, group_247])"
   ]
  },
  {
   "cell_type": "code",
   "execution_count": 39,
   "metadata": {},
   "outputs": [
    {
     "name": "stdout",
     "output_type": "stream",
     "text": [
      "MainScreenAppear\n",
      "p-значение:  0.29424526837179577\n",
      "Не получилось отвергнуть нулевую гипотезу, нет оснований считать доли разными\n",
      "\n",
      "PaymentScreenSuccessful\n",
      "p-значение:  0.6004294282308704\n",
      "Не получилось отвергнуть нулевую гипотезу, нет оснований считать доли разными\n",
      "\n",
      "CartScreenAppear\n",
      "p-значение:  0.18175875284404386\n",
      "Не получилось отвергнуть нулевую гипотезу, нет оснований считать доли разными\n",
      "\n",
      "OffersScreenAppear\n",
      "p-значение:  0.43425549655188256\n",
      "Не получилось отвергнуть нулевую гипотезу, нет оснований считать доли разными\n",
      "\n",
      "Tutorial\n",
      "p-значение:  0.764862472531507\n",
      "Не получилось отвергнуть нулевую гипотезу, нет оснований считать доли разными\n",
      "\n"
     ]
    }
   ],
   "source": [
    "# проверим объединенную контрольную группу с 248\n",
    "for event_name in event_name_array:\n",
    "    test(group_246_247, group_248, event_name)"
   ]
  },
  {
   "cell_type": "markdown",
   "metadata": {},
   "source": [
    "Вывод: Статистически значимой разницы нет между объединенными контрольными группами и 248 группой. Значит, изменение на пользователей не повлияет."
   ]
  },
  {
   "cell_type": "markdown",
   "metadata": {},
   "source": [
    "<div class=\"alert alert-block alert-success\">\n",
    "\n",
    "**Комментарий ревьювера v2 (все отлично)**\n",
    "    \n",
    "Верный вывод👍\n",
    "</div>"
   ]
  },
  {
   "cell_type": "markdown",
   "metadata": {},
   "source": [
    "### Какой уровень значимости вы выбрали при проверке статистических гипотез выше? Посчитайте, сколько проверок статистических гипотез вы сделали. При уровне значимости 0.1 в 10% случаев можно ошибочно отклонить нулевую гипотезу при условии, что она верна. Какой уровень значимости стоит применить? Если вы хотите изменить его, проделайте предыдущие пункты и проверьте свои выводы."
   ]
  },
  {
   "cell_type": "markdown",
   "metadata": {},
   "source": [
    "Мы брали критический уровень статистической значимости 0.05. У нас 5 уникальных событий, соответственно, мы провели 20 экспериментов. Если мы возьмем уровень значимости 0.1, то увеличилась бы вероятность ошибочного отклонения нулевой гипотезы, что могло бы привести к ложным результатам."
   ]
  },
  {
   "cell_type": "markdown",
   "metadata": {},
   "source": [
    "<div class=\"alert alert-block alert-warning\">\n",
    "\n",
    "**Комментарий ревьювера (что можно улучшить)**\n",
    "    \n",
    "В случае, когда на одних и тех же данных тестируется несколько гипотез (проводится несколько тестов), лучше проводить коррекцию уровня значимости. Один из вариантов это сделать - поправка Бонферрони. Можешь почитать про нее ([ссылка](http://www.machinelearning.ru/wiki/index.php?title=%D0%9F%D0%BE%D0%BF%D1%80%D0%B0%D0%B2%D0%BA%D0%B0_%D0%91%D0%BE%D0%BD%D1%84%D0%B5%D1%80%D1%80%D0%BE%D0%BD%D0%B8)). \n",
    "    \n",
    "</div>"
   ]
  },
  {
   "cell_type": "markdown",
   "metadata": {},
   "source": [
    "Вывод:\n",
    "1. количество пользователей в каждой группе:\n",
    "- 246 -\t2484\n",
    "- 247 -\t2513\n",
    "- 248 -\t2537\n",
    "2. \n",
    "- выбрали самое популярное событие\n",
    "- посчитали число пользователей, совершивших это событие в каждой из контрольных групп\n",
    "- посчитали долю пользователей, совершивших это событие\n",
    "- между контрольными группами 246 и 247 нет статистически значимых различий. Разбиние на группы работает корректно.\n",
    "\n",
    "3. Статистически значимой разницы нет между объединенными контрольными группами и 248 группой. Значит, изменение на пользователей не повлияет.\n",
    "4. Мы брали критический уровень статистической значимости 0.05. У нас 5 уникальных событий, соответственно, мы провели 20 экспериментов. Если мы возьмем уровень значимости 0.1, то увеличилась бы вероятность ошибочного отклонения нулевой гипотезы, что могло бы привести к ложным результатам."
   ]
  },
  {
   "cell_type": "markdown",
   "metadata": {},
   "source": [
    "# Выводы"
   ]
  },
  {
   "cell_type": "markdown",
   "metadata": {},
   "source": [
    "В ходе анализа данных стартапа, который продаёт продукты питания, мы выполнили следующие шаги:\n",
    "1. Изучили общую информацию:\n",
    "- Таблица содержит 244126 записи, и все данные находятся в одном столбце.\n",
    "2. Подготовили данные:\n",
    "- в таблице 243713 записей\n",
    "- провели предобработку данных\n",
    "- заменили названия столбцов\n",
    "- пропусков нет\n",
    "- изменили тип данных в столбце с датой и временем на `datetime`\n",
    "- добавили новый столбец с датой\n",
    "- удалили явные дубликаты\n",
    "- неявных дубликатов нет.\n",
    "3. Изучили и подготовили данные:\n",
    "- Всего 243713 событий в логе\n",
    "- Всего 7551 пользователей в логе\n",
    "- В среднем 20 событий приходится на одного пользователя\n",
    "- Мы обладаем полными данными только с 01.08 по 07.08\n",
    "- Доля потерянных событий: 1.2% (2826)\n",
    "- Доля потерянных пользователей: 0.2% (17).\n",
    "4. Изучили воронку событий:\n",
    "\n",
    "\n",
    "    1. Посмотрели, как часто встречаются в логе события:\n",
    "        - MainScreenAppear - 117328\n",
    "        - OffersScreenAppear - 46333\n",
    "        - CartScreenAppear - 42303\n",
    "        - PaymentScreenSuccessful - 33918\n",
    "        - Tutorial - 1005\n",
    "\n",
    "    2. Посмотрели, сколько пользователей совершали каждое из этих событий, посчитали долю:\n",
    "        - MainScreenAppear: 7419 -\t98.25\n",
    "        - OffersScreenAppear: 4593 -\t60.83\n",
    "        - CartScreenAppear: 3734 -\t49.45\n",
    "        - PaymentScreenSuccessful: 3539 -\t46.87\n",
    "        - Tutorial: 840\t- 11.12\n",
    "\n",
    "    3. Мы можем предположить, что события выстраиваются в следующую последовательную цепочку:\n",
    "        1. Пользователь заходит на главный экран - MainScreenAppear\n",
    "        2. Видит/выбирает на главном экране предложения - OffersScreenAppear\n",
    "        3. Переходит в корзину - CartScreenAppear\n",
    "        4. Совершает покупку - PaymentScreenSuccessful\n",
    "\n",
    "        Руководство (Tutorial) не будем учитывать.\n",
    "\n",
    "    4. Посчитали, какая доля пользователей проходит на следующий шаг воронки:\n",
    "        - MainScreenAppear: 7419 -\t100.0\n",
    "        - OffersScreenAppear: 4593 -\t61.9\n",
    "        - CartScreenAppear: 3734 -\t81.3\n",
    "        - PaymentScreenSuccessful: 3539 -\t94.8\n",
    "\n",
    "    5. После 1 шага теряется практически половина пользователей.\n",
    "    6. 47.7% пользователей проходит от первого события до оплаты.\n",
    "5. \n",
    "\n",
    "\n",
    "    1. количество пользователей в каждой группе:\n",
    "        - 246 -\t2484\n",
    "        - 247 -\t2513\n",
    "        - 248 -\t2537\n",
    "    2. \n",
    "        - выбрали самое популярное событие\n",
    "        - посчитали число пользователей, совершивших это событие в каждой из контрольных групп\n",
    "        - посчитали долю пользователей, совершивших это событие\n",
    "        - между контрольными группами 246 и 247 нет статистически значимых различий. Разбиние на группы работает корректно.\n",
    "\n",
    "    3. Статистически значимой разницы нет между объединенными контрольными группами и 248 группой. Значит, изменение на пользователей не повлияет.\n",
    "    4. Мы брали критический уровень статистической значимости 0.05. У нас 5 уникальных событий, соответственно, мы провели 20 экспериментов. Если мы возьмем уровень значимости 0.1, то увеличилась бы вероятность ошибочного отклонения нулевой гипотезы, что могло бы привести к ложным результатам.\n",
    "    \n",
    "В результате проведенных проверок A/B теста, статистически значимой разницы между контрольными и экспериментальной группами нет, соответственно, изменение шрифта в приложении не повлияет на пользователей."
   ]
  },
  {
   "cell_type": "markdown",
   "metadata": {},
   "source": [
    "<div class=\"alert alert-block alert-success\">\n",
    "\n",
    "**Комментарий ревьювера (все отлично)**\n",
    "    \n",
    "Основные результаты отражены.\n",
    "    \n",
    "*Проверь результаты и выводы после исправлений недочётов*\n",
    "</div>"
   ]
  },
  {
   "cell_type": "markdown",
   "metadata": {},
   "source": [
    "<div class=\"alert alert-block alert-warning\">\n",
    "\n",
    "**Общий комментарий ревьювера**\n",
    "    \n",
    "Алина, мне понравилась твоя работа! Выводы структурированы и достаточно четко отражают результаты исследования, требуемые задачи были рассмотрены, хорошая работа с данными на этапе анализа конверсии и воронок. Есть навыки в проверках гипотез. Однако в работе есть недочёты, которые нужно исправить для принятия работы:\n",
    "    \n",
    "* построить столбчатый график распределения количества событий по датам в разрезе групп;\n",
    "* указать параметры проверки гипотез;\n",
    "* исправить расчёт p-value в функции.\n",
    "    \n",
    "Спасибо за четкие комментарии по результатам исследования и аккуратный код, это упростило проверку. Еще есть несколько рекомендаций, которые помогут тебе с будущими проектами. Жду твою работу!\n",
    "    \n",
    "В дополнении прикрепляю полезный материал по A/B-тесту: \n",
    "\n",
    "* https://your-scorpion.ru/ab-tests-check-mathematics/\n",
    "\n",
    "</div>\n"
   ]
  },
  {
   "cell_type": "code",
   "execution_count": null,
   "metadata": {},
   "outputs": [],
   "source": []
  }
 ],
 "metadata": {
  "ExecuteTimeLog": [
   {
    "duration": 1279,
    "start_time": "2024-11-26T12:42:23.237Z"
   },
   {
    "duration": 1074,
    "start_time": "2024-11-26T12:43:23.871Z"
   },
   {
    "duration": 345,
    "start_time": "2024-11-26T12:43:43.240Z"
   },
   {
    "duration": 335,
    "start_time": "2024-11-26T12:44:45.117Z"
   },
   {
    "duration": 1176,
    "start_time": "2024-11-26T12:51:58.740Z"
   },
   {
    "duration": 4,
    "start_time": "2024-11-26T12:53:16.917Z"
   },
   {
    "duration": 825,
    "start_time": "2024-11-26T12:53:34.152Z"
   },
   {
    "duration": 1038,
    "start_time": "2024-11-26T12:54:16.169Z"
   },
   {
    "duration": 1030,
    "start_time": "2024-11-26T12:54:35.023Z"
   },
   {
    "duration": 3,
    "start_time": "2024-11-26T12:54:41.493Z"
   },
   {
    "duration": 806,
    "start_time": "2024-11-26T12:54:55.429Z"
   },
   {
    "duration": 1021,
    "start_time": "2024-11-26T12:55:08.397Z"
   },
   {
    "duration": 411,
    "start_time": "2024-11-26T12:55:09.420Z"
   },
   {
    "duration": 938,
    "start_time": "2024-11-26T12:55:09.832Z"
   },
   {
    "duration": 998,
    "start_time": "2024-11-26T12:56:39.416Z"
   },
   {
    "duration": 1176,
    "start_time": "2024-11-26T12:56:54.254Z"
   },
   {
    "duration": 430,
    "start_time": "2024-11-26T12:56:55.432Z"
   },
   {
    "duration": 985,
    "start_time": "2024-11-26T12:56:55.864Z"
   },
   {
    "duration": 1224,
    "start_time": "2024-11-26T12:58:38.617Z"
   },
   {
    "duration": 584,
    "start_time": "2024-11-26T12:58:39.844Z"
   },
   {
    "duration": 968,
    "start_time": "2024-11-26T12:58:40.430Z"
   },
   {
    "duration": 79,
    "start_time": "2024-11-26T12:58:54.289Z"
   },
   {
    "duration": 2077,
    "start_time": "2024-11-26T13:05:49.607Z"
   },
   {
    "duration": 1207,
    "start_time": "2024-11-26T13:07:31.351Z"
   },
   {
    "duration": 406,
    "start_time": "2024-11-26T13:07:32.561Z"
   },
   {
    "duration": 987,
    "start_time": "2024-11-26T13:07:32.969Z"
   },
   {
    "duration": 101,
    "start_time": "2024-11-26T13:07:33.959Z"
   },
   {
    "duration": 211,
    "start_time": "2024-11-26T13:07:34.062Z"
   },
   {
    "duration": 12308,
    "start_time": "2024-11-26T13:07:39.434Z"
   },
   {
    "duration": 39,
    "start_time": "2024-11-26T13:08:39.311Z"
   },
   {
    "duration": 71,
    "start_time": "2024-11-26T13:08:53.032Z"
   },
   {
    "duration": 17,
    "start_time": "2024-11-26T13:09:43.612Z"
   },
   {
    "duration": 10,
    "start_time": "2024-11-26T13:11:51.051Z"
   },
   {
    "duration": 1009,
    "start_time": "2024-11-26T13:11:55.409Z"
   },
   {
    "duration": 39,
    "start_time": "2024-11-26T13:12:05.527Z"
   },
   {
    "duration": 1240,
    "start_time": "2024-11-26T13:12:15.553Z"
   },
   {
    "duration": 402,
    "start_time": "2024-11-26T13:12:16.795Z"
   },
   {
    "duration": 947,
    "start_time": "2024-11-26T13:12:17.199Z"
   },
   {
    "duration": 81,
    "start_time": "2024-11-26T13:12:18.151Z"
   },
   {
    "duration": 340,
    "start_time": "2024-11-26T13:12:18.234Z"
   },
   {
    "duration": 85,
    "start_time": "2024-11-26T13:12:18.576Z"
   },
   {
    "duration": 18,
    "start_time": "2024-11-26T13:12:18.662Z"
   },
   {
    "duration": 1134,
    "start_time": "2024-11-26T13:15:22.155Z"
   },
   {
    "duration": 406,
    "start_time": "2024-11-26T13:15:23.291Z"
   },
   {
    "duration": 1042,
    "start_time": "2024-11-26T13:15:23.699Z"
   },
   {
    "duration": 87,
    "start_time": "2024-11-26T13:15:24.743Z"
   },
   {
    "duration": 434,
    "start_time": "2024-11-26T13:15:24.832Z"
   },
   {
    "duration": 60,
    "start_time": "2024-11-26T13:15:25.268Z"
   },
   {
    "duration": 30,
    "start_time": "2024-11-26T13:15:25.330Z"
   },
   {
    "duration": 61,
    "start_time": "2024-11-26T13:17:23.588Z"
   },
   {
    "duration": 144,
    "start_time": "2024-11-26T13:17:39.486Z"
   },
   {
    "duration": 158,
    "start_time": "2024-11-26T13:19:34.868Z"
   },
   {
    "duration": 167,
    "start_time": "2024-11-26T13:20:30.708Z"
   },
   {
    "duration": 1093,
    "start_time": "2024-11-26T13:20:37.350Z"
   },
   {
    "duration": 383,
    "start_time": "2024-11-26T13:20:38.445Z"
   },
   {
    "duration": 901,
    "start_time": "2024-11-26T13:20:38.830Z"
   },
   {
    "duration": 81,
    "start_time": "2024-11-26T13:20:39.733Z"
   },
   {
    "duration": 95,
    "start_time": "2024-11-26T13:20:39.816Z"
   },
   {
    "duration": 192,
    "start_time": "2024-11-26T13:20:39.912Z"
   },
   {
    "duration": 231,
    "start_time": "2024-11-26T13:20:40.105Z"
   },
   {
    "duration": 356,
    "start_time": "2024-11-26T13:20:40.338Z"
   },
   {
    "duration": 65,
    "start_time": "2024-11-26T13:20:40.696Z"
   },
   {
    "duration": 16,
    "start_time": "2024-11-26T13:20:40.763Z"
   },
   {
    "duration": 1149,
    "start_time": "2024-11-26T13:22:26.155Z"
   },
   {
    "duration": 393,
    "start_time": "2024-11-26T13:22:27.306Z"
   },
   {
    "duration": 946,
    "start_time": "2024-11-26T13:22:27.701Z"
   },
   {
    "duration": 76,
    "start_time": "2024-11-26T13:22:28.653Z"
   },
   {
    "duration": 85,
    "start_time": "2024-11-26T13:22:28.731Z"
   },
   {
    "duration": 229,
    "start_time": "2024-11-26T13:22:28.818Z"
   },
   {
    "duration": 256,
    "start_time": "2024-11-26T13:22:29.051Z"
   },
   {
    "duration": 338,
    "start_time": "2024-11-26T13:22:29.308Z"
   },
   {
    "duration": 60,
    "start_time": "2024-11-26T13:22:29.648Z"
   },
   {
    "duration": 15,
    "start_time": "2024-11-26T13:22:29.710Z"
   },
   {
    "duration": 140,
    "start_time": "2024-11-26T13:22:56.151Z"
   },
   {
    "duration": 964,
    "start_time": "2024-11-26T13:24:48.391Z"
   },
   {
    "duration": 12,
    "start_time": "2024-11-26T13:25:06.182Z"
   },
   {
    "duration": 175,
    "start_time": "2024-11-26T13:25:14.643Z"
   },
   {
    "duration": 1154,
    "start_time": "2024-11-26T13:25:27.050Z"
   },
   {
    "duration": 385,
    "start_time": "2024-11-26T13:25:28.206Z"
   },
   {
    "duration": 919,
    "start_time": "2024-11-26T13:25:28.593Z"
   },
   {
    "duration": 82,
    "start_time": "2024-11-26T13:25:29.514Z"
   },
   {
    "duration": 83,
    "start_time": "2024-11-26T13:25:29.598Z"
   },
   {
    "duration": 201,
    "start_time": "2024-11-26T13:25:29.683Z"
   },
   {
    "duration": 267,
    "start_time": "2024-11-26T13:25:29.886Z"
   },
   {
    "duration": 191,
    "start_time": "2024-11-26T13:25:30.155Z"
   },
   {
    "duration": 350,
    "start_time": "2024-11-26T13:25:30.351Z"
   },
   {
    "duration": 67,
    "start_time": "2024-11-26T13:25:30.703Z"
   },
   {
    "duration": 169,
    "start_time": "2024-11-26T13:25:30.772Z"
   },
   {
    "duration": 62,
    "start_time": "2024-11-26T13:25:41.088Z"
   },
   {
    "duration": 1055,
    "start_time": "2024-11-26T13:25:50.306Z"
   },
   {
    "duration": 404,
    "start_time": "2024-11-26T13:25:51.363Z"
   },
   {
    "duration": 934,
    "start_time": "2024-11-26T13:25:51.768Z"
   },
   {
    "duration": 80,
    "start_time": "2024-11-26T13:25:52.704Z"
   },
   {
    "duration": 84,
    "start_time": "2024-11-26T13:25:52.785Z"
   },
   {
    "duration": 229,
    "start_time": "2024-11-26T13:25:52.870Z"
   },
   {
    "duration": 267,
    "start_time": "2024-11-26T13:25:53.101Z"
   },
   {
    "duration": 191,
    "start_time": "2024-11-26T13:25:53.370Z"
   },
   {
    "duration": 424,
    "start_time": "2024-11-26T13:25:53.562Z"
   },
   {
    "duration": 194,
    "start_time": "2024-11-26T13:25:53.990Z"
   },
   {
    "duration": 69,
    "start_time": "2024-11-26T13:25:54.187Z"
   },
   {
    "duration": 1093,
    "start_time": "2024-11-26T13:28:20.565Z"
   },
   {
    "duration": 392,
    "start_time": "2024-11-26T13:28:21.660Z"
   },
   {
    "duration": 914,
    "start_time": "2024-11-26T13:28:22.054Z"
   },
   {
    "duration": 73,
    "start_time": "2024-11-26T13:28:22.970Z"
   },
   {
    "duration": 200,
    "start_time": "2024-11-26T13:28:23.054Z"
   },
   {
    "duration": 259,
    "start_time": "2024-11-26T13:28:23.255Z"
   },
   {
    "duration": 185,
    "start_time": "2024-11-26T13:28:23.516Z"
   },
   {
    "duration": 401,
    "start_time": "2024-11-26T13:28:23.703Z"
   },
   {
    "duration": 159,
    "start_time": "2024-11-26T13:28:24.106Z"
   },
   {
    "duration": 63,
    "start_time": "2024-11-26T13:28:24.268Z"
   },
   {
    "duration": 22,
    "start_time": "2024-11-26T13:32:11.320Z"
   },
   {
    "duration": 21,
    "start_time": "2024-11-26T13:33:28.194Z"
   },
   {
    "duration": 62,
    "start_time": "2024-11-26T13:33:38.477Z"
   },
   {
    "duration": 1113,
    "start_time": "2024-11-26T13:36:02.514Z"
   },
   {
    "duration": 426,
    "start_time": "2024-11-26T13:36:03.629Z"
   },
   {
    "duration": 931,
    "start_time": "2024-11-26T13:36:04.057Z"
   },
   {
    "duration": 83,
    "start_time": "2024-11-26T13:36:04.990Z"
   },
   {
    "duration": 226,
    "start_time": "2024-11-26T13:36:05.075Z"
   },
   {
    "duration": 275,
    "start_time": "2024-11-26T13:36:05.303Z"
   },
   {
    "duration": 190,
    "start_time": "2024-11-26T13:36:05.580Z"
   },
   {
    "duration": 377,
    "start_time": "2024-11-26T13:36:05.771Z"
   },
   {
    "duration": 162,
    "start_time": "2024-11-26T13:36:06.151Z"
   },
   {
    "duration": 68,
    "start_time": "2024-11-26T13:36:06.315Z"
   },
   {
    "duration": 20,
    "start_time": "2024-11-26T13:36:06.385Z"
   },
   {
    "duration": 118,
    "start_time": "2024-11-26T13:36:06.407Z"
   },
   {
    "duration": 61,
    "start_time": "2024-11-26T13:36:06.527Z"
   },
   {
    "duration": 97,
    "start_time": "2024-11-26T13:36:33.336Z"
   },
   {
    "duration": 69,
    "start_time": "2024-11-26T13:36:54.182Z"
   },
   {
    "duration": 66,
    "start_time": "2024-11-26T13:37:04.230Z"
   },
   {
    "duration": 65,
    "start_time": "2024-11-26T13:37:09.872Z"
   },
   {
    "duration": 10,
    "start_time": "2024-11-26T13:39:08.764Z"
   },
   {
    "duration": 14,
    "start_time": "2024-11-26T13:39:16.874Z"
   },
   {
    "duration": 15,
    "start_time": "2024-11-26T13:40:17.581Z"
   },
   {
    "duration": 14,
    "start_time": "2024-11-26T13:40:46.128Z"
   },
   {
    "duration": 7,
    "start_time": "2024-11-26T13:42:29.365Z"
   },
   {
    "duration": 4,
    "start_time": "2024-11-26T13:42:43.444Z"
   },
   {
    "duration": 407,
    "start_time": "2024-11-26T13:47:25.057Z"
   },
   {
    "duration": 334,
    "start_time": "2024-11-26T13:47:31.544Z"
   },
   {
    "duration": 414,
    "start_time": "2024-11-26T13:47:36.410Z"
   },
   {
    "duration": 323,
    "start_time": "2024-11-26T13:47:42.652Z"
   },
   {
    "duration": 324,
    "start_time": "2024-11-26T13:47:47.676Z"
   },
   {
    "duration": 333,
    "start_time": "2024-11-26T13:47:58.865Z"
   },
   {
    "duration": 326,
    "start_time": "2024-11-26T13:48:04.472Z"
   },
   {
    "duration": 477,
    "start_time": "2024-11-26T13:48:21.722Z"
   },
   {
    "duration": 335,
    "start_time": "2024-11-26T13:48:28.003Z"
   },
   {
    "duration": 370,
    "start_time": "2024-11-26T13:50:27.402Z"
   },
   {
    "duration": 402,
    "start_time": "2024-11-26T13:51:15.827Z"
   },
   {
    "duration": 17,
    "start_time": "2024-11-26T14:11:41.030Z"
   },
   {
    "duration": 74,
    "start_time": "2024-11-26T14:16:07.934Z"
   },
   {
    "duration": 1148,
    "start_time": "2024-11-26T14:16:33.477Z"
   },
   {
    "duration": 392,
    "start_time": "2024-11-26T14:16:34.627Z"
   },
   {
    "duration": 970,
    "start_time": "2024-11-26T14:16:35.021Z"
   },
   {
    "duration": 83,
    "start_time": "2024-11-26T14:16:35.993Z"
   },
   {
    "duration": 205,
    "start_time": "2024-11-26T14:16:36.078Z"
   },
   {
    "duration": 270,
    "start_time": "2024-11-26T14:16:36.284Z"
   },
   {
    "duration": 192,
    "start_time": "2024-11-26T14:16:36.556Z"
   },
   {
    "duration": 367,
    "start_time": "2024-11-26T14:16:36.751Z"
   },
   {
    "duration": 164,
    "start_time": "2024-11-26T14:16:37.120Z"
   },
   {
    "duration": 73,
    "start_time": "2024-11-26T14:16:37.287Z"
   },
   {
    "duration": 28,
    "start_time": "2024-11-26T14:16:37.363Z"
   },
   {
    "duration": 81,
    "start_time": "2024-11-26T14:16:37.393Z"
   },
   {
    "duration": 77,
    "start_time": "2024-11-26T14:16:37.476Z"
   },
   {
    "duration": 6,
    "start_time": "2024-11-26T14:16:37.555Z"
   },
   {
    "duration": 40,
    "start_time": "2024-11-26T14:16:37.562Z"
   },
   {
    "duration": 456,
    "start_time": "2024-11-26T14:16:37.603Z"
   },
   {
    "duration": 6,
    "start_time": "2024-11-26T14:16:38.061Z"
   },
   {
    "duration": 84,
    "start_time": "2024-11-26T14:16:38.069Z"
   },
   {
    "duration": 4,
    "start_time": "2024-11-26T14:17:05.980Z"
   },
   {
    "duration": 1034,
    "start_time": "2024-11-26T14:17:38.786Z"
   },
   {
    "duration": 386,
    "start_time": "2024-11-26T14:17:39.822Z"
   },
   {
    "duration": 914,
    "start_time": "2024-11-26T14:17:40.209Z"
   },
   {
    "duration": 75,
    "start_time": "2024-11-26T14:17:41.125Z"
   },
   {
    "duration": 230,
    "start_time": "2024-11-26T14:17:41.202Z"
   },
   {
    "duration": 260,
    "start_time": "2024-11-26T14:17:41.433Z"
   },
   {
    "duration": 190,
    "start_time": "2024-11-26T14:17:41.694Z"
   },
   {
    "duration": 360,
    "start_time": "2024-11-26T14:17:41.886Z"
   },
   {
    "duration": 149,
    "start_time": "2024-11-26T14:17:42.248Z"
   },
   {
    "duration": 69,
    "start_time": "2024-11-26T14:17:42.399Z"
   },
   {
    "duration": 20,
    "start_time": "2024-11-26T14:17:42.469Z"
   },
   {
    "duration": 75,
    "start_time": "2024-11-26T14:17:42.491Z"
   },
   {
    "duration": 66,
    "start_time": "2024-11-26T14:17:42.568Z"
   },
   {
    "duration": 17,
    "start_time": "2024-11-26T14:17:42.636Z"
   },
   {
    "duration": 5,
    "start_time": "2024-11-26T14:17:42.655Z"
   },
   {
    "duration": 437,
    "start_time": "2024-11-26T14:17:42.662Z"
   },
   {
    "duration": 7,
    "start_time": "2024-11-26T14:17:43.101Z"
   },
   {
    "duration": 4,
    "start_time": "2024-11-26T14:17:43.110Z"
   },
   {
    "duration": 4,
    "start_time": "2024-11-26T14:18:27.569Z"
   },
   {
    "duration": 1077,
    "start_time": "2024-11-26T14:18:32.751Z"
   },
   {
    "duration": 476,
    "start_time": "2024-11-26T14:18:33.830Z"
   },
   {
    "duration": 951,
    "start_time": "2024-11-26T14:18:34.308Z"
   },
   {
    "duration": 75,
    "start_time": "2024-11-26T14:18:35.261Z"
   },
   {
    "duration": 219,
    "start_time": "2024-11-26T14:18:35.352Z"
   },
   {
    "duration": 283,
    "start_time": "2024-11-26T14:18:35.572Z"
   },
   {
    "duration": 199,
    "start_time": "2024-11-26T14:18:35.857Z"
   },
   {
    "duration": 383,
    "start_time": "2024-11-26T14:18:36.059Z"
   },
   {
    "duration": 161,
    "start_time": "2024-11-26T14:18:36.443Z"
   },
   {
    "duration": 67,
    "start_time": "2024-11-26T14:18:36.606Z"
   },
   {
    "duration": 22,
    "start_time": "2024-11-26T14:18:36.675Z"
   },
   {
    "duration": 108,
    "start_time": "2024-11-26T14:18:36.699Z"
   },
   {
    "duration": 77,
    "start_time": "2024-11-26T14:18:36.809Z"
   },
   {
    "duration": 5,
    "start_time": "2024-11-26T14:18:36.887Z"
   },
   {
    "duration": 43,
    "start_time": "2024-11-26T14:18:36.893Z"
   },
   {
    "duration": 445,
    "start_time": "2024-11-26T14:18:36.938Z"
   },
   {
    "duration": 7,
    "start_time": "2024-11-26T14:18:37.385Z"
   },
   {
    "duration": 14,
    "start_time": "2024-11-26T14:18:37.394Z"
   },
   {
    "duration": 74,
    "start_time": "2024-11-26T14:20:27.973Z"
   },
   {
    "duration": 66,
    "start_time": "2024-11-26T14:20:51.793Z"
   },
   {
    "duration": 1080,
    "start_time": "2024-11-26T14:20:56.730Z"
   },
   {
    "duration": 379,
    "start_time": "2024-11-26T14:20:57.812Z"
   },
   {
    "duration": 909,
    "start_time": "2024-11-26T14:20:58.193Z"
   },
   {
    "duration": 81,
    "start_time": "2024-11-26T14:20:59.104Z"
   },
   {
    "duration": 249,
    "start_time": "2024-11-26T14:20:59.187Z"
   },
   {
    "duration": 261,
    "start_time": "2024-11-26T14:20:59.437Z"
   },
   {
    "duration": 185,
    "start_time": "2024-11-26T14:20:59.700Z"
   },
   {
    "duration": 343,
    "start_time": "2024-11-26T14:20:59.887Z"
   },
   {
    "duration": 164,
    "start_time": "2024-11-26T14:21:00.231Z"
   },
   {
    "duration": 67,
    "start_time": "2024-11-26T14:21:00.397Z"
   },
   {
    "duration": 37,
    "start_time": "2024-11-26T14:21:00.465Z"
   },
   {
    "duration": 82,
    "start_time": "2024-11-26T14:21:00.503Z"
   },
   {
    "duration": 76,
    "start_time": "2024-11-26T14:21:00.586Z"
   },
   {
    "duration": 5,
    "start_time": "2024-11-26T14:21:00.663Z"
   },
   {
    "duration": 50,
    "start_time": "2024-11-26T14:21:00.670Z"
   },
   {
    "duration": 459,
    "start_time": "2024-11-26T14:21:00.722Z"
   },
   {
    "duration": 6,
    "start_time": "2024-11-26T14:21:01.182Z"
   },
   {
    "duration": 134,
    "start_time": "2024-11-26T14:21:01.190Z"
   },
   {
    "duration": 71,
    "start_time": "2024-11-26T14:21:49.850Z"
   },
   {
    "duration": 1081,
    "start_time": "2024-11-26T14:21:56.627Z"
   },
   {
    "duration": 399,
    "start_time": "2024-11-26T14:21:57.710Z"
   },
   {
    "duration": 936,
    "start_time": "2024-11-26T14:21:58.111Z"
   },
   {
    "duration": 75,
    "start_time": "2024-11-26T14:21:59.053Z"
   },
   {
    "duration": 210,
    "start_time": "2024-11-26T14:21:59.130Z"
   },
   {
    "duration": 264,
    "start_time": "2024-11-26T14:21:59.341Z"
   },
   {
    "duration": 186,
    "start_time": "2024-11-26T14:21:59.606Z"
   },
   {
    "duration": 373,
    "start_time": "2024-11-26T14:21:59.793Z"
   },
   {
    "duration": 156,
    "start_time": "2024-11-26T14:22:00.168Z"
   },
   {
    "duration": 70,
    "start_time": "2024-11-26T14:22:00.327Z"
   },
   {
    "duration": 21,
    "start_time": "2024-11-26T14:22:00.399Z"
   },
   {
    "duration": 90,
    "start_time": "2024-11-26T14:22:00.422Z"
   },
   {
    "duration": 76,
    "start_time": "2024-11-26T14:22:00.514Z"
   },
   {
    "duration": 5,
    "start_time": "2024-11-26T14:22:00.592Z"
   },
   {
    "duration": 52,
    "start_time": "2024-11-26T14:22:00.599Z"
   },
   {
    "duration": 449,
    "start_time": "2024-11-26T14:22:00.653Z"
   },
   {
    "duration": 7,
    "start_time": "2024-11-26T14:22:01.104Z"
   },
   {
    "duration": 186,
    "start_time": "2024-11-26T14:22:01.113Z"
   },
   {
    "duration": 1068,
    "start_time": "2024-11-26T14:22:17.190Z"
   },
   {
    "duration": 417,
    "start_time": "2024-11-26T14:22:18.260Z"
   },
   {
    "duration": 974,
    "start_time": "2024-11-26T14:22:18.679Z"
   },
   {
    "duration": 80,
    "start_time": "2024-11-26T14:22:19.655Z"
   },
   {
    "duration": 221,
    "start_time": "2024-11-26T14:22:19.738Z"
   },
   {
    "duration": 287,
    "start_time": "2024-11-26T14:22:19.960Z"
   },
   {
    "duration": 194,
    "start_time": "2024-11-26T14:22:20.248Z"
   },
   {
    "duration": 390,
    "start_time": "2024-11-26T14:22:20.444Z"
   },
   {
    "duration": 167,
    "start_time": "2024-11-26T14:22:20.836Z"
   },
   {
    "duration": 73,
    "start_time": "2024-11-26T14:22:21.005Z"
   },
   {
    "duration": 39,
    "start_time": "2024-11-26T14:22:21.080Z"
   },
   {
    "duration": 67,
    "start_time": "2024-11-26T14:22:21.121Z"
   },
   {
    "duration": 77,
    "start_time": "2024-11-26T14:22:21.190Z"
   },
   {
    "duration": 4,
    "start_time": "2024-11-26T14:22:21.270Z"
   },
   {
    "duration": 31,
    "start_time": "2024-11-26T14:22:21.276Z"
   },
   {
    "duration": 457,
    "start_time": "2024-11-26T14:22:21.308Z"
   },
   {
    "duration": 7,
    "start_time": "2024-11-26T14:22:21.767Z"
   },
   {
    "duration": 89,
    "start_time": "2024-11-26T14:22:21.775Z"
   },
   {
    "duration": 3,
    "start_time": "2024-11-26T14:22:48.720Z"
   },
   {
    "duration": 97,
    "start_time": "2024-11-26T14:22:59.589Z"
   },
   {
    "duration": 3,
    "start_time": "2024-11-26T14:23:06.153Z"
   },
   {
    "duration": 72,
    "start_time": "2024-11-26T14:28:28.863Z"
   },
   {
    "duration": 1221,
    "start_time": "2024-11-27T08:26:38.384Z"
   },
   {
    "duration": 1075,
    "start_time": "2024-11-27T08:26:39.607Z"
   },
   {
    "duration": 899,
    "start_time": "2024-11-27T08:26:40.683Z"
   },
   {
    "duration": 74,
    "start_time": "2024-11-27T08:26:41.584Z"
   },
   {
    "duration": 179,
    "start_time": "2024-11-27T08:26:41.671Z"
   },
   {
    "duration": 248,
    "start_time": "2024-11-27T08:26:41.852Z"
   },
   {
    "duration": 179,
    "start_time": "2024-11-27T08:26:42.102Z"
   },
   {
    "duration": 351,
    "start_time": "2024-11-27T08:26:42.283Z"
   },
   {
    "duration": 149,
    "start_time": "2024-11-27T08:26:42.636Z"
   },
   {
    "duration": 57,
    "start_time": "2024-11-27T08:26:42.787Z"
   },
   {
    "duration": 33,
    "start_time": "2024-11-27T08:26:42.845Z"
   },
   {
    "duration": 79,
    "start_time": "2024-11-27T08:26:42.879Z"
   },
   {
    "duration": 65,
    "start_time": "2024-11-27T08:26:42.960Z"
   },
   {
    "duration": 4,
    "start_time": "2024-11-27T08:26:43.028Z"
   },
   {
    "duration": 5,
    "start_time": "2024-11-27T08:26:43.034Z"
   },
   {
    "duration": 430,
    "start_time": "2024-11-27T08:26:43.040Z"
   },
   {
    "duration": 26,
    "start_time": "2024-11-27T08:26:43.472Z"
   },
   {
    "duration": 84,
    "start_time": "2024-11-27T08:26:43.500Z"
   },
   {
    "duration": 4,
    "start_time": "2024-11-27T08:27:02.742Z"
   },
   {
    "duration": 1174,
    "start_time": "2024-11-27T08:27:08.375Z"
   },
   {
    "duration": 380,
    "start_time": "2024-11-27T08:27:09.551Z"
   },
   {
    "duration": 921,
    "start_time": "2024-11-27T08:27:09.933Z"
   },
   {
    "duration": 77,
    "start_time": "2024-11-27T08:27:10.856Z"
   },
   {
    "duration": 211,
    "start_time": "2024-11-27T08:27:10.934Z"
   },
   {
    "duration": 271,
    "start_time": "2024-11-27T08:27:11.147Z"
   },
   {
    "duration": 209,
    "start_time": "2024-11-27T08:27:11.420Z"
   },
   {
    "duration": 358,
    "start_time": "2024-11-27T08:27:11.630Z"
   },
   {
    "duration": 166,
    "start_time": "2024-11-27T08:27:11.990Z"
   },
   {
    "duration": 65,
    "start_time": "2024-11-27T08:27:12.159Z"
   },
   {
    "duration": 47,
    "start_time": "2024-11-27T08:27:12.226Z"
   },
   {
    "duration": 63,
    "start_time": "2024-11-27T08:27:12.275Z"
   },
   {
    "duration": 79,
    "start_time": "2024-11-27T08:27:12.340Z"
   },
   {
    "duration": 5,
    "start_time": "2024-11-27T08:27:12.421Z"
   },
   {
    "duration": 20,
    "start_time": "2024-11-27T08:27:12.428Z"
   },
   {
    "duration": 447,
    "start_time": "2024-11-27T08:27:12.450Z"
   },
   {
    "duration": 32,
    "start_time": "2024-11-27T08:27:12.899Z"
   },
   {
    "duration": 5,
    "start_time": "2024-11-27T08:27:12.933Z"
   },
   {
    "duration": 6,
    "start_time": "2024-11-27T08:32:58.003Z"
   },
   {
    "duration": 208,
    "start_time": "2024-11-27T08:33:19.406Z"
   },
   {
    "duration": 4,
    "start_time": "2024-11-27T08:33:24.472Z"
   },
   {
    "duration": 4,
    "start_time": "2024-11-27T08:33:35.758Z"
   },
   {
    "duration": 4,
    "start_time": "2024-11-27T08:33:52.303Z"
   },
   {
    "duration": 4,
    "start_time": "2024-11-27T08:34:04.389Z"
   },
   {
    "duration": 5,
    "start_time": "2024-11-27T08:34:16.362Z"
   },
   {
    "duration": 4,
    "start_time": "2024-11-27T08:34:23.181Z"
   },
   {
    "duration": 128,
    "start_time": "2024-11-27T08:36:09.132Z"
   },
   {
    "duration": 2,
    "start_time": "2024-11-27T08:36:38.777Z"
   },
   {
    "duration": 4,
    "start_time": "2024-11-27T08:36:53.142Z"
   },
   {
    "duration": 3,
    "start_time": "2024-11-27T08:36:54.216Z"
   },
   {
    "duration": 4,
    "start_time": "2024-11-27T08:37:05.252Z"
   },
   {
    "duration": 5,
    "start_time": "2024-11-27T08:37:10.364Z"
   },
   {
    "duration": 117,
    "start_time": "2024-11-27T08:37:10.875Z"
   },
   {
    "duration": 167,
    "start_time": "2024-11-27T08:39:14.618Z"
   },
   {
    "duration": 65,
    "start_time": "2024-11-27T08:39:31.694Z"
   },
   {
    "duration": 67,
    "start_time": "2024-11-27T08:42:06.751Z"
   },
   {
    "duration": 986,
    "start_time": "2024-11-27T08:42:13.221Z"
   },
   {
    "duration": 368,
    "start_time": "2024-11-27T08:42:14.209Z"
   },
   {
    "duration": 897,
    "start_time": "2024-11-27T08:42:14.579Z"
   },
   {
    "duration": 75,
    "start_time": "2024-11-27T08:42:15.479Z"
   },
   {
    "duration": 190,
    "start_time": "2024-11-27T08:42:15.571Z"
   },
   {
    "duration": 263,
    "start_time": "2024-11-27T08:42:15.763Z"
   },
   {
    "duration": 195,
    "start_time": "2024-11-27T08:42:16.028Z"
   },
   {
    "duration": 352,
    "start_time": "2024-11-27T08:42:16.224Z"
   },
   {
    "duration": 154,
    "start_time": "2024-11-27T08:42:16.577Z"
   },
   {
    "duration": 68,
    "start_time": "2024-11-27T08:42:16.734Z"
   },
   {
    "duration": 20,
    "start_time": "2024-11-27T08:42:16.804Z"
   },
   {
    "duration": 80,
    "start_time": "2024-11-27T08:42:16.826Z"
   },
   {
    "duration": 77,
    "start_time": "2024-11-27T08:42:16.908Z"
   },
   {
    "duration": 6,
    "start_time": "2024-11-27T08:42:16.987Z"
   },
   {
    "duration": 7,
    "start_time": "2024-11-27T08:42:16.995Z"
   },
   {
    "duration": 438,
    "start_time": "2024-11-27T08:42:17.003Z"
   },
   {
    "duration": 40,
    "start_time": "2024-11-27T08:42:17.443Z"
   },
   {
    "duration": 5,
    "start_time": "2024-11-27T08:42:17.484Z"
   },
   {
    "duration": 5,
    "start_time": "2024-11-27T08:42:17.490Z"
   },
   {
    "duration": 136,
    "start_time": "2024-11-27T08:42:17.496Z"
   },
   {
    "duration": 71,
    "start_time": "2024-11-27T08:42:17.634Z"
   },
   {
    "duration": 59,
    "start_time": "2024-11-27T08:48:03.137Z"
   },
   {
    "duration": 1121,
    "start_time": "2024-11-27T08:53:34.419Z"
   },
   {
    "duration": 397,
    "start_time": "2024-11-27T08:53:35.542Z"
   },
   {
    "duration": 919,
    "start_time": "2024-11-27T08:53:35.941Z"
   },
   {
    "duration": 85,
    "start_time": "2024-11-27T08:53:36.863Z"
   },
   {
    "duration": 208,
    "start_time": "2024-11-27T08:53:36.950Z"
   },
   {
    "duration": 259,
    "start_time": "2024-11-27T08:53:37.160Z"
   },
   {
    "duration": 186,
    "start_time": "2024-11-27T08:53:37.420Z"
   },
   {
    "duration": 355,
    "start_time": "2024-11-27T08:53:37.608Z"
   },
   {
    "duration": 158,
    "start_time": "2024-11-27T08:53:37.965Z"
   },
   {
    "duration": 80,
    "start_time": "2024-11-27T08:53:38.126Z"
   },
   {
    "duration": 29,
    "start_time": "2024-11-27T08:53:38.208Z"
   },
   {
    "duration": 86,
    "start_time": "2024-11-27T08:53:38.239Z"
   },
   {
    "duration": 76,
    "start_time": "2024-11-27T08:53:38.326Z"
   },
   {
    "duration": 5,
    "start_time": "2024-11-27T08:53:38.403Z"
   },
   {
    "duration": 4,
    "start_time": "2024-11-27T08:53:38.409Z"
   },
   {
    "duration": 439,
    "start_time": "2024-11-27T08:53:38.415Z"
   },
   {
    "duration": 38,
    "start_time": "2024-11-27T08:53:38.856Z"
   },
   {
    "duration": 4,
    "start_time": "2024-11-27T08:53:38.896Z"
   },
   {
    "duration": 5,
    "start_time": "2024-11-27T08:53:38.901Z"
   },
   {
    "duration": 154,
    "start_time": "2024-11-27T08:53:38.907Z"
   },
   {
    "duration": 65,
    "start_time": "2024-11-27T08:53:39.062Z"
   },
   {
    "duration": 100,
    "start_time": "2024-11-27T08:53:39.129Z"
   },
   {
    "duration": 58,
    "start_time": "2024-11-27T08:55:00.826Z"
   },
   {
    "duration": 150,
    "start_time": "2024-11-27T08:55:49.621Z"
   },
   {
    "duration": 53,
    "start_time": "2024-11-27T08:55:57.563Z"
   },
   {
    "duration": 55,
    "start_time": "2024-11-27T08:56:52.233Z"
   },
   {
    "duration": 58,
    "start_time": "2024-11-27T09:03:14.367Z"
   },
   {
    "duration": 191,
    "start_time": "2024-11-27T09:03:37.447Z"
   },
   {
    "duration": 200,
    "start_time": "2024-11-27T09:04:00.554Z"
   },
   {
    "duration": 180,
    "start_time": "2024-11-27T09:04:05.011Z"
   },
   {
    "duration": 188,
    "start_time": "2024-11-27T09:05:01.785Z"
   },
   {
    "duration": 185,
    "start_time": "2024-11-27T09:05:26.144Z"
   },
   {
    "duration": 101,
    "start_time": "2024-11-27T09:05:41.192Z"
   },
   {
    "duration": 109,
    "start_time": "2024-11-27T09:09:06.153Z"
   },
   {
    "duration": 58,
    "start_time": "2024-11-27T09:09:32.520Z"
   },
   {
    "duration": 95,
    "start_time": "2024-11-27T09:09:39.263Z"
   },
   {
    "duration": 1092,
    "start_time": "2024-11-27T09:10:23.629Z"
   },
   {
    "duration": 375,
    "start_time": "2024-11-27T09:10:24.723Z"
   },
   {
    "duration": 923,
    "start_time": "2024-11-27T09:10:25.100Z"
   },
   {
    "duration": 82,
    "start_time": "2024-11-27T09:10:26.025Z"
   },
   {
    "duration": 202,
    "start_time": "2024-11-27T09:10:26.110Z"
   },
   {
    "duration": 263,
    "start_time": "2024-11-27T09:10:26.314Z"
   },
   {
    "duration": 182,
    "start_time": "2024-11-27T09:10:26.579Z"
   },
   {
    "duration": 344,
    "start_time": "2024-11-27T09:10:26.763Z"
   },
   {
    "duration": 156,
    "start_time": "2024-11-27T09:10:27.109Z"
   },
   {
    "duration": 61,
    "start_time": "2024-11-27T09:10:27.267Z"
   },
   {
    "duration": 59,
    "start_time": "2024-11-27T09:10:27.330Z"
   },
   {
    "duration": 92,
    "start_time": "2024-11-27T09:10:27.391Z"
   },
   {
    "duration": 66,
    "start_time": "2024-11-27T09:10:27.485Z"
   },
   {
    "duration": 6,
    "start_time": "2024-11-27T09:10:27.569Z"
   },
   {
    "duration": 7,
    "start_time": "2024-11-27T09:10:27.577Z"
   },
   {
    "duration": 446,
    "start_time": "2024-11-27T09:10:27.586Z"
   },
   {
    "duration": 42,
    "start_time": "2024-11-27T09:10:28.034Z"
   },
   {
    "duration": 5,
    "start_time": "2024-11-27T09:10:28.077Z"
   },
   {
    "duration": 6,
    "start_time": "2024-11-27T09:10:28.084Z"
   },
   {
    "duration": 170,
    "start_time": "2024-11-27T09:10:28.091Z"
   },
   {
    "duration": 63,
    "start_time": "2024-11-27T09:10:28.263Z"
   },
   {
    "duration": 70,
    "start_time": "2024-11-27T09:10:28.327Z"
   },
   {
    "duration": 50,
    "start_time": "2024-11-27T09:10:28.399Z"
   },
   {
    "duration": 119,
    "start_time": "2024-11-27T09:10:28.451Z"
   },
   {
    "duration": 182,
    "start_time": "2024-11-27T09:10:28.572Z"
   },
   {
    "duration": 1086,
    "start_time": "2024-11-27T09:12:19.130Z"
   },
   {
    "duration": 392,
    "start_time": "2024-11-27T09:12:20.217Z"
   },
   {
    "duration": 913,
    "start_time": "2024-11-27T09:12:20.611Z"
   },
   {
    "duration": 80,
    "start_time": "2024-11-27T09:12:21.525Z"
   },
   {
    "duration": 197,
    "start_time": "2024-11-27T09:12:21.607Z"
   },
   {
    "duration": 264,
    "start_time": "2024-11-27T09:12:21.806Z"
   },
   {
    "duration": 185,
    "start_time": "2024-11-27T09:12:22.071Z"
   },
   {
    "duration": 341,
    "start_time": "2024-11-27T09:12:22.258Z"
   },
   {
    "duration": 162,
    "start_time": "2024-11-27T09:12:22.600Z"
   },
   {
    "duration": 69,
    "start_time": "2024-11-27T09:12:22.764Z"
   },
   {
    "duration": 21,
    "start_time": "2024-11-27T09:12:22.835Z"
   },
   {
    "duration": 64,
    "start_time": "2024-11-27T09:12:22.871Z"
   },
   {
    "duration": 86,
    "start_time": "2024-11-27T09:12:22.937Z"
   },
   {
    "duration": 5,
    "start_time": "2024-11-27T09:12:23.026Z"
   },
   {
    "duration": 7,
    "start_time": "2024-11-27T09:12:23.033Z"
   },
   {
    "duration": 450,
    "start_time": "2024-11-27T09:12:23.042Z"
   },
   {
    "duration": 29,
    "start_time": "2024-11-27T09:12:23.494Z"
   },
   {
    "duration": 5,
    "start_time": "2024-11-27T09:12:23.525Z"
   },
   {
    "duration": 13,
    "start_time": "2024-11-27T09:12:23.532Z"
   },
   {
    "duration": 139,
    "start_time": "2024-11-27T09:12:23.546Z"
   },
   {
    "duration": 63,
    "start_time": "2024-11-27T09:12:23.687Z"
   },
   {
    "duration": 67,
    "start_time": "2024-11-27T09:12:23.751Z"
   },
   {
    "duration": 64,
    "start_time": "2024-11-27T09:12:23.820Z"
   },
   {
    "duration": 176,
    "start_time": "2024-11-27T09:12:23.885Z"
   },
   {
    "duration": 194,
    "start_time": "2024-11-27T09:12:24.063Z"
   },
   {
    "duration": 172,
    "start_time": "2024-11-27T09:12:36.896Z"
   },
   {
    "duration": 160,
    "start_time": "2024-11-27T09:12:51.198Z"
   },
   {
    "duration": 104,
    "start_time": "2024-11-27T09:13:48.679Z"
   },
   {
    "duration": 1006,
    "start_time": "2024-11-27T09:14:14.407Z"
   },
   {
    "duration": 373,
    "start_time": "2024-11-27T09:14:15.415Z"
   },
   {
    "duration": 950,
    "start_time": "2024-11-27T09:14:15.790Z"
   },
   {
    "duration": 85,
    "start_time": "2024-11-27T09:14:16.743Z"
   },
   {
    "duration": 198,
    "start_time": "2024-11-27T09:14:16.830Z"
   },
   {
    "duration": 266,
    "start_time": "2024-11-27T09:14:17.030Z"
   },
   {
    "duration": 190,
    "start_time": "2024-11-27T09:14:17.297Z"
   },
   {
    "duration": 354,
    "start_time": "2024-11-27T09:14:17.489Z"
   },
   {
    "duration": 167,
    "start_time": "2024-11-27T09:14:17.845Z"
   },
   {
    "duration": 70,
    "start_time": "2024-11-27T09:14:18.014Z"
   },
   {
    "duration": 22,
    "start_time": "2024-11-27T09:14:18.086Z"
   },
   {
    "duration": 94,
    "start_time": "2024-11-27T09:14:18.110Z"
   },
   {
    "duration": 86,
    "start_time": "2024-11-27T09:14:18.207Z"
   },
   {
    "duration": 5,
    "start_time": "2024-11-27T09:14:18.294Z"
   },
   {
    "duration": 5,
    "start_time": "2024-11-27T09:14:18.300Z"
   },
   {
    "duration": 446,
    "start_time": "2024-11-27T09:14:18.306Z"
   },
   {
    "duration": 38,
    "start_time": "2024-11-27T09:14:18.753Z"
   },
   {
    "duration": 4,
    "start_time": "2024-11-27T09:14:18.792Z"
   },
   {
    "duration": 5,
    "start_time": "2024-11-27T09:14:18.797Z"
   },
   {
    "duration": 136,
    "start_time": "2024-11-27T09:14:18.804Z"
   },
   {
    "duration": 70,
    "start_time": "2024-11-27T09:14:18.942Z"
   },
   {
    "duration": 61,
    "start_time": "2024-11-27T09:14:19.014Z"
   },
   {
    "duration": 50,
    "start_time": "2024-11-27T09:14:19.077Z"
   },
   {
    "duration": 197,
    "start_time": "2024-11-27T09:14:19.129Z"
   },
   {
    "duration": 110,
    "start_time": "2024-11-27T09:15:51.431Z"
   },
   {
    "duration": 989,
    "start_time": "2024-11-27T09:16:11.832Z"
   },
   {
    "duration": 962,
    "start_time": "2024-11-27T09:16:29.490Z"
   },
   {
    "duration": 924,
    "start_time": "2024-11-27T09:16:35.841Z"
   },
   {
    "duration": 902,
    "start_time": "2024-11-27T09:18:45.977Z"
   },
   {
    "duration": 1089,
    "start_time": "2024-11-27T09:18:52.634Z"
   },
   {
    "duration": 160,
    "start_time": "2024-11-27T09:19:34.278Z"
   },
   {
    "duration": 159,
    "start_time": "2024-11-27T09:20:00.176Z"
   },
   {
    "duration": 1046,
    "start_time": "2024-11-27T09:20:12.019Z"
   },
   {
    "duration": 393,
    "start_time": "2024-11-27T09:20:13.067Z"
   },
   {
    "duration": 935,
    "start_time": "2024-11-27T09:20:13.462Z"
   },
   {
    "duration": 81,
    "start_time": "2024-11-27T09:20:14.399Z"
   },
   {
    "duration": 202,
    "start_time": "2024-11-27T09:20:14.482Z"
   },
   {
    "duration": 255,
    "start_time": "2024-11-27T09:20:14.685Z"
   },
   {
    "duration": 191,
    "start_time": "2024-11-27T09:20:14.942Z"
   },
   {
    "duration": 349,
    "start_time": "2024-11-27T09:20:15.135Z"
   },
   {
    "duration": 159,
    "start_time": "2024-11-27T09:20:15.485Z"
   },
   {
    "duration": 67,
    "start_time": "2024-11-27T09:20:15.645Z"
   },
   {
    "duration": 22,
    "start_time": "2024-11-27T09:20:15.713Z"
   },
   {
    "duration": 81,
    "start_time": "2024-11-27T09:20:15.737Z"
   },
   {
    "duration": 81,
    "start_time": "2024-11-27T09:20:15.820Z"
   },
   {
    "duration": 5,
    "start_time": "2024-11-27T09:20:15.903Z"
   },
   {
    "duration": 24,
    "start_time": "2024-11-27T09:20:15.909Z"
   },
   {
    "duration": 435,
    "start_time": "2024-11-27T09:20:15.935Z"
   },
   {
    "duration": 28,
    "start_time": "2024-11-27T09:20:16.372Z"
   },
   {
    "duration": 4,
    "start_time": "2024-11-27T09:20:16.401Z"
   },
   {
    "duration": 5,
    "start_time": "2024-11-27T09:20:16.406Z"
   },
   {
    "duration": 152,
    "start_time": "2024-11-27T09:20:16.412Z"
   },
   {
    "duration": 62,
    "start_time": "2024-11-27T09:20:16.566Z"
   },
   {
    "duration": 67,
    "start_time": "2024-11-27T09:20:16.629Z"
   },
   {
    "duration": 72,
    "start_time": "2024-11-27T09:20:16.698Z"
   },
   {
    "duration": 166,
    "start_time": "2024-11-27T09:20:16.772Z"
   },
   {
    "duration": 223,
    "start_time": "2024-11-27T09:57:50.111Z"
   },
   {
    "duration": 176,
    "start_time": "2024-11-27T09:58:04.130Z"
   },
   {
    "duration": 182,
    "start_time": "2024-11-27T09:58:48.184Z"
   },
   {
    "duration": 152,
    "start_time": "2024-11-27T09:59:26.942Z"
   },
   {
    "duration": 151,
    "start_time": "2024-11-27T09:59:50.863Z"
   },
   {
    "duration": 257,
    "start_time": "2024-11-27T10:00:07.905Z"
   },
   {
    "duration": 152,
    "start_time": "2024-11-27T10:00:12.252Z"
   },
   {
    "duration": 157,
    "start_time": "2024-11-27T10:04:52.236Z"
   },
   {
    "duration": 1999,
    "start_time": "2024-11-27T10:10:59.359Z"
   },
   {
    "duration": 165,
    "start_time": "2024-11-27T10:13:30.106Z"
   },
   {
    "duration": 164,
    "start_time": "2024-11-27T10:16:18.807Z"
   },
   {
    "duration": 157,
    "start_time": "2024-11-27T10:16:46.300Z"
   },
   {
    "duration": 162,
    "start_time": "2024-11-27T10:17:21.348Z"
   },
   {
    "duration": 1052,
    "start_time": "2024-11-27T10:17:49.378Z"
   },
   {
    "duration": 413,
    "start_time": "2024-11-27T10:17:50.432Z"
   },
   {
    "duration": 952,
    "start_time": "2024-11-27T10:17:50.847Z"
   },
   {
    "duration": 84,
    "start_time": "2024-11-27T10:17:51.801Z"
   },
   {
    "duration": 213,
    "start_time": "2024-11-27T10:17:51.886Z"
   },
   {
    "duration": 280,
    "start_time": "2024-11-27T10:17:52.100Z"
   },
   {
    "duration": 208,
    "start_time": "2024-11-27T10:17:52.381Z"
   },
   {
    "duration": 364,
    "start_time": "2024-11-27T10:17:52.590Z"
   },
   {
    "duration": 165,
    "start_time": "2024-11-27T10:17:52.955Z"
   },
   {
    "duration": 70,
    "start_time": "2024-11-27T10:17:53.122Z"
   },
   {
    "duration": 23,
    "start_time": "2024-11-27T10:17:53.194Z"
   },
   {
    "duration": 93,
    "start_time": "2024-11-27T10:17:53.219Z"
   },
   {
    "duration": 82,
    "start_time": "2024-11-27T10:17:53.314Z"
   },
   {
    "duration": 4,
    "start_time": "2024-11-27T10:17:53.398Z"
   },
   {
    "duration": 61,
    "start_time": "2024-11-27T10:17:53.404Z"
   },
   {
    "duration": 418,
    "start_time": "2024-11-27T10:17:53.466Z"
   },
   {
    "duration": 30,
    "start_time": "2024-11-27T10:17:53.885Z"
   },
   {
    "duration": 3,
    "start_time": "2024-11-27T10:17:53.917Z"
   },
   {
    "duration": 5,
    "start_time": "2024-11-27T10:17:53.922Z"
   },
   {
    "duration": 152,
    "start_time": "2024-11-27T10:17:53.928Z"
   },
   {
    "duration": 69,
    "start_time": "2024-11-27T10:17:54.081Z"
   },
   {
    "duration": 71,
    "start_time": "2024-11-27T10:17:54.152Z"
   },
   {
    "duration": 66,
    "start_time": "2024-11-27T10:17:54.224Z"
   },
   {
    "duration": 183,
    "start_time": "2024-11-27T10:17:54.291Z"
   },
   {
    "duration": 175,
    "start_time": "2024-11-27T10:17:54.476Z"
   },
   {
    "duration": 202,
    "start_time": "2024-11-27T10:19:43.577Z"
   },
   {
    "duration": 1110,
    "start_time": "2024-11-27T10:20:52.443Z"
   },
   {
    "duration": 384,
    "start_time": "2024-11-27T10:20:53.554Z"
   },
   {
    "duration": 953,
    "start_time": "2024-11-27T10:20:53.940Z"
   },
   {
    "duration": 86,
    "start_time": "2024-11-27T10:20:54.894Z"
   },
   {
    "duration": 214,
    "start_time": "2024-11-27T10:20:54.982Z"
   },
   {
    "duration": 279,
    "start_time": "2024-11-27T10:20:55.198Z"
   },
   {
    "duration": 186,
    "start_time": "2024-11-27T10:20:55.479Z"
   },
   {
    "duration": 377,
    "start_time": "2024-11-27T10:20:55.669Z"
   },
   {
    "duration": 156,
    "start_time": "2024-11-27T10:20:56.047Z"
   },
   {
    "duration": 73,
    "start_time": "2024-11-27T10:20:56.205Z"
   },
   {
    "duration": 24,
    "start_time": "2024-11-27T10:20:56.279Z"
   },
   {
    "duration": 84,
    "start_time": "2024-11-27T10:20:56.304Z"
   },
   {
    "duration": 81,
    "start_time": "2024-11-27T10:20:56.389Z"
   },
   {
    "duration": 4,
    "start_time": "2024-11-27T10:20:56.473Z"
   },
   {
    "duration": 5,
    "start_time": "2024-11-27T10:20:56.479Z"
   },
   {
    "duration": 438,
    "start_time": "2024-11-27T10:20:56.485Z"
   },
   {
    "duration": 30,
    "start_time": "2024-11-27T10:20:56.925Z"
   },
   {
    "duration": 17,
    "start_time": "2024-11-27T10:20:56.956Z"
   },
   {
    "duration": 4,
    "start_time": "2024-11-27T10:20:56.974Z"
   },
   {
    "duration": 146,
    "start_time": "2024-11-27T10:20:56.979Z"
   },
   {
    "duration": 74,
    "start_time": "2024-11-27T10:20:57.126Z"
   },
   {
    "duration": 57,
    "start_time": "2024-11-27T10:20:57.201Z"
   },
   {
    "duration": 63,
    "start_time": "2024-11-27T10:20:57.260Z"
   },
   {
    "duration": 183,
    "start_time": "2024-11-27T10:20:57.325Z"
   },
   {
    "duration": 195,
    "start_time": "2024-11-27T10:20:57.510Z"
   },
   {
    "duration": 5,
    "start_time": "2024-11-27T10:24:39.491Z"
   },
   {
    "duration": 101,
    "start_time": "2024-11-27T10:36:07.676Z"
   },
   {
    "duration": 94,
    "start_time": "2024-11-27T11:03:18.723Z"
   },
   {
    "duration": 1074,
    "start_time": "2024-11-27T11:03:28.078Z"
   },
   {
    "duration": 414,
    "start_time": "2024-11-27T11:03:29.154Z"
   },
   {
    "duration": 948,
    "start_time": "2024-11-27T11:03:29.570Z"
   },
   {
    "duration": 85,
    "start_time": "2024-11-27T11:03:30.521Z"
   },
   {
    "duration": 210,
    "start_time": "2024-11-27T11:03:30.608Z"
   },
   {
    "duration": 273,
    "start_time": "2024-11-27T11:03:30.820Z"
   },
   {
    "duration": 193,
    "start_time": "2024-11-27T11:03:31.094Z"
   },
   {
    "duration": 361,
    "start_time": "2024-11-27T11:03:31.288Z"
   },
   {
    "duration": 165,
    "start_time": "2024-11-27T11:03:31.651Z"
   },
   {
    "duration": 68,
    "start_time": "2024-11-27T11:03:31.819Z"
   },
   {
    "duration": 23,
    "start_time": "2024-11-27T11:03:31.888Z"
   },
   {
    "duration": 88,
    "start_time": "2024-11-27T11:03:31.913Z"
   },
   {
    "duration": 78,
    "start_time": "2024-11-27T11:03:32.003Z"
   },
   {
    "duration": 5,
    "start_time": "2024-11-27T11:03:32.083Z"
   },
   {
    "duration": 23,
    "start_time": "2024-11-27T11:03:32.090Z"
   },
   {
    "duration": 455,
    "start_time": "2024-11-27T11:03:32.115Z"
   },
   {
    "duration": 30,
    "start_time": "2024-11-27T11:03:32.572Z"
   },
   {
    "duration": 4,
    "start_time": "2024-11-27T11:03:32.604Z"
   },
   {
    "duration": 6,
    "start_time": "2024-11-27T11:03:32.610Z"
   },
   {
    "duration": 154,
    "start_time": "2024-11-27T11:03:32.617Z"
   },
   {
    "duration": 66,
    "start_time": "2024-11-27T11:03:32.773Z"
   },
   {
    "duration": 79,
    "start_time": "2024-11-27T11:03:32.841Z"
   },
   {
    "duration": 65,
    "start_time": "2024-11-27T11:03:32.922Z"
   },
   {
    "duration": 186,
    "start_time": "2024-11-27T11:03:32.989Z"
   },
   {
    "duration": 200,
    "start_time": "2024-11-27T11:03:33.177Z"
   },
   {
    "duration": 6,
    "start_time": "2024-11-27T11:03:33.379Z"
   },
   {
    "duration": 117,
    "start_time": "2024-11-27T11:03:33.387Z"
   },
   {
    "duration": 1301,
    "start_time": "2024-11-27T11:03:33.508Z"
   },
   {
    "duration": 0,
    "start_time": "2024-11-27T11:03:34.811Z"
   },
   {
    "duration": 46,
    "start_time": "2024-11-27T11:03:52.914Z"
   },
   {
    "duration": 16,
    "start_time": "2024-11-27T11:03:57.111Z"
   },
   {
    "duration": 4,
    "start_time": "2024-11-27T11:04:29.068Z"
   },
   {
    "duration": 46,
    "start_time": "2024-11-27T11:04:32.961Z"
   },
   {
    "duration": 50,
    "start_time": "2024-11-27T11:04:56.162Z"
   },
   {
    "duration": 16,
    "start_time": "2024-11-27T11:04:56.451Z"
   },
   {
    "duration": 1134,
    "start_time": "2024-11-27T11:05:18.167Z"
   },
   {
    "duration": 375,
    "start_time": "2024-11-27T11:05:19.303Z"
   },
   {
    "duration": 897,
    "start_time": "2024-11-27T11:05:19.680Z"
   },
   {
    "duration": 95,
    "start_time": "2024-11-27T11:05:20.580Z"
   },
   {
    "duration": 188,
    "start_time": "2024-11-27T11:05:20.677Z"
   },
   {
    "duration": 259,
    "start_time": "2024-11-27T11:05:20.866Z"
   },
   {
    "duration": 187,
    "start_time": "2024-11-27T11:05:21.126Z"
   },
   {
    "duration": 348,
    "start_time": "2024-11-27T11:05:21.314Z"
   },
   {
    "duration": 156,
    "start_time": "2024-11-27T11:05:21.663Z"
   },
   {
    "duration": 67,
    "start_time": "2024-11-27T11:05:21.821Z"
   },
   {
    "duration": 22,
    "start_time": "2024-11-27T11:05:21.889Z"
   },
   {
    "duration": 83,
    "start_time": "2024-11-27T11:05:21.913Z"
   },
   {
    "duration": 75,
    "start_time": "2024-11-27T11:05:21.998Z"
   },
   {
    "duration": 4,
    "start_time": "2024-11-27T11:05:22.075Z"
   },
   {
    "duration": 4,
    "start_time": "2024-11-27T11:05:22.081Z"
   },
   {
    "duration": 428,
    "start_time": "2024-11-27T11:05:22.087Z"
   },
   {
    "duration": 29,
    "start_time": "2024-11-27T11:05:22.517Z"
   },
   {
    "duration": 3,
    "start_time": "2024-11-27T11:05:22.548Z"
   },
   {
    "duration": 20,
    "start_time": "2024-11-27T11:05:22.553Z"
   },
   {
    "duration": 122,
    "start_time": "2024-11-27T11:05:22.575Z"
   },
   {
    "duration": 61,
    "start_time": "2024-11-27T11:05:22.698Z"
   },
   {
    "duration": 59,
    "start_time": "2024-11-27T11:05:22.761Z"
   },
   {
    "duration": 72,
    "start_time": "2024-11-27T11:05:22.821Z"
   },
   {
    "duration": 167,
    "start_time": "2024-11-27T11:05:22.894Z"
   },
   {
    "duration": 190,
    "start_time": "2024-11-27T11:05:23.062Z"
   },
   {
    "duration": 5,
    "start_time": "2024-11-27T11:05:23.253Z"
   },
   {
    "duration": 102,
    "start_time": "2024-11-27T11:05:23.270Z"
   },
   {
    "duration": 46,
    "start_time": "2024-11-27T11:05:23.375Z"
   },
   {
    "duration": 122,
    "start_time": "2024-11-27T11:05:23.422Z"
   },
   {
    "duration": 16,
    "start_time": "2024-11-27T11:06:02.091Z"
   },
   {
    "duration": 1017,
    "start_time": "2024-11-27T11:07:59.215Z"
   },
   {
    "duration": 390,
    "start_time": "2024-11-27T11:08:00.234Z"
   },
   {
    "duration": 927,
    "start_time": "2024-11-27T11:08:00.626Z"
   },
   {
    "duration": 77,
    "start_time": "2024-11-27T11:08:01.556Z"
   },
   {
    "duration": 205,
    "start_time": "2024-11-27T11:08:01.635Z"
   },
   {
    "duration": 260,
    "start_time": "2024-11-27T11:08:01.842Z"
   },
   {
    "duration": 182,
    "start_time": "2024-11-27T11:08:02.104Z"
   },
   {
    "duration": 387,
    "start_time": "2024-11-27T11:08:02.287Z"
   },
   {
    "duration": 167,
    "start_time": "2024-11-27T11:08:02.676Z"
   },
   {
    "duration": 67,
    "start_time": "2024-11-27T11:08:02.845Z"
   },
   {
    "duration": 23,
    "start_time": "2024-11-27T11:08:02.914Z"
   },
   {
    "duration": 119,
    "start_time": "2024-11-27T11:08:02.939Z"
   },
   {
    "duration": 71,
    "start_time": "2024-11-27T11:08:03.060Z"
   },
   {
    "duration": 6,
    "start_time": "2024-11-27T11:08:03.133Z"
   },
   {
    "duration": 30,
    "start_time": "2024-11-27T11:08:03.140Z"
   },
   {
    "duration": 422,
    "start_time": "2024-11-27T11:08:03.172Z"
   },
   {
    "duration": 29,
    "start_time": "2024-11-27T11:08:03.597Z"
   },
   {
    "duration": 9,
    "start_time": "2024-11-27T11:08:03.627Z"
   },
   {
    "duration": 15,
    "start_time": "2024-11-27T11:08:03.638Z"
   },
   {
    "duration": 129,
    "start_time": "2024-11-27T11:08:03.655Z"
   },
   {
    "duration": 63,
    "start_time": "2024-11-27T11:08:03.785Z"
   },
   {
    "duration": 67,
    "start_time": "2024-11-27T11:08:03.849Z"
   },
   {
    "duration": 64,
    "start_time": "2024-11-27T11:08:03.917Z"
   },
   {
    "duration": 173,
    "start_time": "2024-11-27T11:08:03.983Z"
   },
   {
    "duration": 190,
    "start_time": "2024-11-27T11:08:04.158Z"
   },
   {
    "duration": 4,
    "start_time": "2024-11-27T11:08:04.350Z"
   },
   {
    "duration": 108,
    "start_time": "2024-11-27T11:08:04.356Z"
   },
   {
    "duration": 67,
    "start_time": "2024-11-27T11:08:04.472Z"
   },
   {
    "duration": 112,
    "start_time": "2024-11-27T11:08:04.540Z"
   },
   {
    "duration": 71,
    "start_time": "2024-11-27T11:10:26.794Z"
   },
   {
    "duration": 1040,
    "start_time": "2024-11-27T11:11:23.464Z"
   },
   {
    "duration": 366,
    "start_time": "2024-11-27T11:11:24.507Z"
   },
   {
    "duration": 866,
    "start_time": "2024-11-27T11:11:24.875Z"
   },
   {
    "duration": 76,
    "start_time": "2024-11-27T11:11:25.743Z"
   },
   {
    "duration": 189,
    "start_time": "2024-11-27T11:11:25.821Z"
   },
   {
    "duration": 258,
    "start_time": "2024-11-27T11:11:26.012Z"
   },
   {
    "duration": 180,
    "start_time": "2024-11-27T11:11:26.272Z"
   },
   {
    "duration": 337,
    "start_time": "2024-11-27T11:11:26.453Z"
   },
   {
    "duration": 153,
    "start_time": "2024-11-27T11:11:26.791Z"
   },
   {
    "duration": 63,
    "start_time": "2024-11-27T11:11:26.946Z"
   },
   {
    "duration": 21,
    "start_time": "2024-11-27T11:11:27.011Z"
   },
   {
    "duration": 80,
    "start_time": "2024-11-27T11:11:27.034Z"
   },
   {
    "duration": 80,
    "start_time": "2024-11-27T11:11:27.116Z"
   },
   {
    "duration": 5,
    "start_time": "2024-11-27T11:11:27.197Z"
   },
   {
    "duration": 15,
    "start_time": "2024-11-27T11:11:27.203Z"
   },
   {
    "duration": 433,
    "start_time": "2024-11-27T11:11:27.220Z"
   },
   {
    "duration": 40,
    "start_time": "2024-11-27T11:11:27.654Z"
   },
   {
    "duration": 3,
    "start_time": "2024-11-27T11:11:27.696Z"
   },
   {
    "duration": 4,
    "start_time": "2024-11-27T11:11:27.701Z"
   },
   {
    "duration": 143,
    "start_time": "2024-11-27T11:11:27.706Z"
   },
   {
    "duration": 62,
    "start_time": "2024-11-27T11:11:27.850Z"
   },
   {
    "duration": 67,
    "start_time": "2024-11-27T11:11:27.914Z"
   },
   {
    "duration": 54,
    "start_time": "2024-11-27T11:11:27.982Z"
   },
   {
    "duration": 193,
    "start_time": "2024-11-27T11:11:28.038Z"
   },
   {
    "duration": 200,
    "start_time": "2024-11-27T11:11:28.233Z"
   },
   {
    "duration": 5,
    "start_time": "2024-11-27T11:11:28.435Z"
   },
   {
    "duration": 105,
    "start_time": "2024-11-27T11:11:28.441Z"
   },
   {
    "duration": 74,
    "start_time": "2024-11-27T11:11:28.549Z"
   },
   {
    "duration": 110,
    "start_time": "2024-11-27T11:11:28.625Z"
   },
   {
    "duration": 1068,
    "start_time": "2024-11-27T11:11:40.249Z"
   },
   {
    "duration": 373,
    "start_time": "2024-11-27T11:11:41.319Z"
   },
   {
    "duration": 863,
    "start_time": "2024-11-27T11:11:41.694Z"
   },
   {
    "duration": 72,
    "start_time": "2024-11-27T11:11:42.560Z"
   },
   {
    "duration": 187,
    "start_time": "2024-11-27T11:11:42.634Z"
   },
   {
    "duration": 252,
    "start_time": "2024-11-27T11:11:42.823Z"
   },
   {
    "duration": 178,
    "start_time": "2024-11-27T11:11:43.077Z"
   },
   {
    "duration": 349,
    "start_time": "2024-11-27T11:11:43.257Z"
   },
   {
    "duration": 163,
    "start_time": "2024-11-27T11:11:43.607Z"
   },
   {
    "duration": 63,
    "start_time": "2024-11-27T11:11:43.772Z"
   },
   {
    "duration": 35,
    "start_time": "2024-11-27T11:11:43.837Z"
   },
   {
    "duration": 61,
    "start_time": "2024-11-27T11:11:43.874Z"
   },
   {
    "duration": 83,
    "start_time": "2024-11-27T11:11:43.937Z"
   },
   {
    "duration": 5,
    "start_time": "2024-11-27T11:11:44.021Z"
   },
   {
    "duration": 5,
    "start_time": "2024-11-27T11:11:44.027Z"
   },
   {
    "duration": 443,
    "start_time": "2024-11-27T11:11:44.033Z"
   },
   {
    "duration": 26,
    "start_time": "2024-11-27T11:11:44.478Z"
   },
   {
    "duration": 4,
    "start_time": "2024-11-27T11:11:44.505Z"
   },
   {
    "duration": 30,
    "start_time": "2024-11-27T11:11:44.510Z"
   },
   {
    "duration": 121,
    "start_time": "2024-11-27T11:11:44.541Z"
   },
   {
    "duration": 60,
    "start_time": "2024-11-27T11:11:44.664Z"
   },
   {
    "duration": 66,
    "start_time": "2024-11-27T11:11:44.725Z"
   },
   {
    "duration": 51,
    "start_time": "2024-11-27T11:11:44.792Z"
   },
   {
    "duration": 175,
    "start_time": "2024-11-27T11:11:44.845Z"
   },
   {
    "duration": 195,
    "start_time": "2024-11-27T11:11:45.021Z"
   },
   {
    "duration": 5,
    "start_time": "2024-11-27T11:11:45.218Z"
   },
   {
    "duration": 106,
    "start_time": "2024-11-27T11:11:45.224Z"
   },
   {
    "duration": 79,
    "start_time": "2024-11-27T11:11:45.333Z"
   },
   {
    "duration": 108,
    "start_time": "2024-11-27T11:11:45.413Z"
   },
   {
    "duration": 81,
    "start_time": "2024-11-27T11:11:51.049Z"
   },
   {
    "duration": 1022,
    "start_time": "2024-11-27T11:12:58.799Z"
   },
   {
    "duration": 374,
    "start_time": "2024-11-27T11:12:59.823Z"
   },
   {
    "duration": 891,
    "start_time": "2024-11-27T11:13:00.199Z"
   },
   {
    "duration": 78,
    "start_time": "2024-11-27T11:13:01.092Z"
   },
   {
    "duration": 185,
    "start_time": "2024-11-27T11:13:01.172Z"
   },
   {
    "duration": 254,
    "start_time": "2024-11-27T11:13:01.359Z"
   },
   {
    "duration": 184,
    "start_time": "2024-11-27T11:13:01.615Z"
   },
   {
    "duration": 354,
    "start_time": "2024-11-27T11:13:01.800Z"
   },
   {
    "duration": 151,
    "start_time": "2024-11-27T11:13:02.156Z"
   },
   {
    "duration": 64,
    "start_time": "2024-11-27T11:13:02.309Z"
   },
   {
    "duration": 29,
    "start_time": "2024-11-27T11:13:02.375Z"
   },
   {
    "duration": 119,
    "start_time": "2024-11-27T11:13:02.405Z"
   },
   {
    "duration": 74,
    "start_time": "2024-11-27T11:13:02.526Z"
   },
   {
    "duration": 5,
    "start_time": "2024-11-27T11:13:02.602Z"
   },
   {
    "duration": 15,
    "start_time": "2024-11-27T11:13:02.608Z"
   },
   {
    "duration": 439,
    "start_time": "2024-11-27T11:13:02.626Z"
   },
   {
    "duration": 28,
    "start_time": "2024-11-27T11:13:03.066Z"
   },
   {
    "duration": 4,
    "start_time": "2024-11-27T11:13:03.095Z"
   },
   {
    "duration": 11,
    "start_time": "2024-11-27T11:13:03.100Z"
   },
   {
    "duration": 134,
    "start_time": "2024-11-27T11:13:03.112Z"
   },
   {
    "duration": 65,
    "start_time": "2024-11-27T11:13:03.248Z"
   },
   {
    "duration": 65,
    "start_time": "2024-11-27T11:13:03.314Z"
   },
   {
    "duration": 52,
    "start_time": "2024-11-27T11:13:03.380Z"
   },
   {
    "duration": 176,
    "start_time": "2024-11-27T11:13:03.434Z"
   },
   {
    "duration": 187,
    "start_time": "2024-11-27T11:13:03.612Z"
   },
   {
    "duration": 4,
    "start_time": "2024-11-27T11:13:03.801Z"
   },
   {
    "duration": 148,
    "start_time": "2024-11-27T11:13:03.807Z"
   },
   {
    "duration": 89,
    "start_time": "2024-11-27T11:13:03.958Z"
   },
   {
    "duration": 106,
    "start_time": "2024-11-27T11:13:04.048Z"
   },
   {
    "duration": 70,
    "start_time": "2024-11-27T11:13:37.318Z"
   },
   {
    "duration": 10,
    "start_time": "2024-11-27T11:15:29.781Z"
   },
   {
    "duration": 10,
    "start_time": "2024-11-27T11:15:32.414Z"
   },
   {
    "duration": 1006,
    "start_time": "2024-11-27T11:15:40.614Z"
   },
   {
    "duration": 373,
    "start_time": "2024-11-27T11:15:41.621Z"
   },
   {
    "duration": 918,
    "start_time": "2024-11-27T11:15:41.995Z"
   },
   {
    "duration": 78,
    "start_time": "2024-11-27T11:15:42.915Z"
   },
   {
    "duration": 211,
    "start_time": "2024-11-27T11:15:42.994Z"
   },
   {
    "duration": 265,
    "start_time": "2024-11-27T11:15:43.207Z"
   },
   {
    "duration": 185,
    "start_time": "2024-11-27T11:15:43.474Z"
   },
   {
    "duration": 336,
    "start_time": "2024-11-27T11:15:43.661Z"
   },
   {
    "duration": 159,
    "start_time": "2024-11-27T11:15:43.998Z"
   },
   {
    "duration": 66,
    "start_time": "2024-11-27T11:15:44.160Z"
   },
   {
    "duration": 21,
    "start_time": "2024-11-27T11:15:44.227Z"
   },
   {
    "duration": 79,
    "start_time": "2024-11-27T11:15:44.250Z"
   },
   {
    "duration": 73,
    "start_time": "2024-11-27T11:15:44.330Z"
   },
   {
    "duration": 4,
    "start_time": "2024-11-27T11:15:44.404Z"
   },
   {
    "duration": 5,
    "start_time": "2024-11-27T11:15:44.410Z"
   },
   {
    "duration": 464,
    "start_time": "2024-11-27T11:15:44.416Z"
   },
   {
    "duration": 28,
    "start_time": "2024-11-27T11:15:44.881Z"
   },
   {
    "duration": 4,
    "start_time": "2024-11-27T11:15:44.911Z"
   },
   {
    "duration": 9,
    "start_time": "2024-11-27T11:15:44.916Z"
   },
   {
    "duration": 144,
    "start_time": "2024-11-27T11:15:44.927Z"
   },
   {
    "duration": 63,
    "start_time": "2024-11-27T11:15:45.073Z"
   },
   {
    "duration": 68,
    "start_time": "2024-11-27T11:15:45.138Z"
   },
   {
    "duration": 66,
    "start_time": "2024-11-27T11:15:45.207Z"
   },
   {
    "duration": 168,
    "start_time": "2024-11-27T11:15:45.275Z"
   },
   {
    "duration": 197,
    "start_time": "2024-11-27T11:15:45.444Z"
   },
   {
    "duration": 5,
    "start_time": "2024-11-27T11:15:45.642Z"
   },
   {
    "duration": 140,
    "start_time": "2024-11-27T11:15:45.649Z"
   },
   {
    "duration": 9,
    "start_time": "2024-11-27T11:15:45.792Z"
   },
   {
    "duration": 83,
    "start_time": "2024-11-27T11:15:45.803Z"
   },
   {
    "duration": 113,
    "start_time": "2024-11-27T11:15:45.887Z"
   },
   {
    "duration": 10,
    "start_time": "2024-11-27T11:17:11.978Z"
   },
   {
    "duration": 1092,
    "start_time": "2024-11-27T11:17:24.031Z"
   },
   {
    "duration": 403,
    "start_time": "2024-11-27T11:17:25.125Z"
   },
   {
    "duration": 915,
    "start_time": "2024-11-27T11:17:25.530Z"
   },
   {
    "duration": 75,
    "start_time": "2024-11-27T11:17:26.447Z"
   },
   {
    "duration": 197,
    "start_time": "2024-11-27T11:17:26.524Z"
   },
   {
    "duration": 265,
    "start_time": "2024-11-27T11:17:26.723Z"
   },
   {
    "duration": 185,
    "start_time": "2024-11-27T11:17:26.990Z"
   },
   {
    "duration": 349,
    "start_time": "2024-11-27T11:17:27.176Z"
   },
   {
    "duration": 153,
    "start_time": "2024-11-27T11:17:27.527Z"
   },
   {
    "duration": 60,
    "start_time": "2024-11-27T11:17:27.684Z"
   },
   {
    "duration": 38,
    "start_time": "2024-11-27T11:17:27.746Z"
   },
   {
    "duration": 64,
    "start_time": "2024-11-27T11:17:27.786Z"
   },
   {
    "duration": 74,
    "start_time": "2024-11-27T11:17:27.852Z"
   },
   {
    "duration": 5,
    "start_time": "2024-11-27T11:17:27.927Z"
   },
   {
    "duration": 9,
    "start_time": "2024-11-27T11:17:27.934Z"
   },
   {
    "duration": 487,
    "start_time": "2024-11-27T11:17:27.944Z"
   },
   {
    "duration": 39,
    "start_time": "2024-11-27T11:17:28.432Z"
   },
   {
    "duration": 4,
    "start_time": "2024-11-27T11:17:28.472Z"
   },
   {
    "duration": 5,
    "start_time": "2024-11-27T11:17:28.478Z"
   },
   {
    "duration": 139,
    "start_time": "2024-11-27T11:17:28.485Z"
   },
   {
    "duration": 68,
    "start_time": "2024-11-27T11:17:28.626Z"
   },
   {
    "duration": 55,
    "start_time": "2024-11-27T11:17:28.696Z"
   },
   {
    "duration": 64,
    "start_time": "2024-11-27T11:17:28.753Z"
   },
   {
    "duration": 177,
    "start_time": "2024-11-27T11:17:28.819Z"
   },
   {
    "duration": 195,
    "start_time": "2024-11-27T11:17:28.998Z"
   },
   {
    "duration": 5,
    "start_time": "2024-11-27T11:17:29.196Z"
   },
   {
    "duration": 138,
    "start_time": "2024-11-27T11:17:29.203Z"
   },
   {
    "duration": 9,
    "start_time": "2024-11-27T11:17:29.344Z"
   },
   {
    "duration": 88,
    "start_time": "2024-11-27T11:17:29.354Z"
   },
   {
    "duration": 11,
    "start_time": "2024-11-27T11:17:29.444Z"
   },
   {
    "duration": 12,
    "start_time": "2024-11-27T11:50:35.118Z"
   },
   {
    "duration": 70,
    "start_time": "2024-11-27T11:50:46.178Z"
   },
   {
    "duration": 10,
    "start_time": "2024-11-27T11:50:46.891Z"
   },
   {
    "duration": 1006,
    "start_time": "2024-11-27T11:50:51.910Z"
   },
   {
    "duration": 370,
    "start_time": "2024-11-27T11:50:52.918Z"
   },
   {
    "duration": 880,
    "start_time": "2024-11-27T11:50:53.290Z"
   },
   {
    "duration": 69,
    "start_time": "2024-11-27T11:50:54.172Z"
   },
   {
    "duration": 197,
    "start_time": "2024-11-27T11:50:54.243Z"
   },
   {
    "duration": 262,
    "start_time": "2024-11-27T11:50:54.442Z"
   },
   {
    "duration": 179,
    "start_time": "2024-11-27T11:50:54.705Z"
   },
   {
    "duration": 342,
    "start_time": "2024-11-27T11:50:54.885Z"
   },
   {
    "duration": 156,
    "start_time": "2024-11-27T11:50:55.229Z"
   },
   {
    "duration": 62,
    "start_time": "2024-11-27T11:50:55.387Z"
   },
   {
    "duration": 33,
    "start_time": "2024-11-27T11:50:55.450Z"
   },
   {
    "duration": 64,
    "start_time": "2024-11-27T11:50:55.486Z"
   },
   {
    "duration": 79,
    "start_time": "2024-11-27T11:50:55.552Z"
   },
   {
    "duration": 5,
    "start_time": "2024-11-27T11:50:55.633Z"
   },
   {
    "duration": 6,
    "start_time": "2024-11-27T11:50:55.640Z"
   },
   {
    "duration": 417,
    "start_time": "2024-11-27T11:50:55.671Z"
   },
   {
    "duration": 26,
    "start_time": "2024-11-27T11:50:56.090Z"
   },
   {
    "duration": 4,
    "start_time": "2024-11-27T11:50:56.117Z"
   },
   {
    "duration": 11,
    "start_time": "2024-11-27T11:50:56.122Z"
   },
   {
    "duration": 135,
    "start_time": "2024-11-27T11:50:56.135Z"
   },
   {
    "duration": 63,
    "start_time": "2024-11-27T11:50:56.272Z"
   },
   {
    "duration": 68,
    "start_time": "2024-11-27T11:50:56.337Z"
   },
   {
    "duration": 64,
    "start_time": "2024-11-27T11:50:56.407Z"
   },
   {
    "duration": 166,
    "start_time": "2024-11-27T11:50:56.473Z"
   },
   {
    "duration": 190,
    "start_time": "2024-11-27T11:50:56.640Z"
   },
   {
    "duration": 5,
    "start_time": "2024-11-27T11:50:56.832Z"
   },
   {
    "duration": 137,
    "start_time": "2024-11-27T11:50:56.839Z"
   },
   {
    "duration": 9,
    "start_time": "2024-11-27T11:50:56.980Z"
   },
   {
    "duration": 88,
    "start_time": "2024-11-27T11:50:56.991Z"
   },
   {
    "duration": 12,
    "start_time": "2024-11-27T11:50:57.081Z"
   },
   {
    "duration": 86,
    "start_time": "2024-11-27T11:51:29.243Z"
   },
   {
    "duration": 1119,
    "start_time": "2024-11-27T11:51:39.635Z"
   },
   {
    "duration": 372,
    "start_time": "2024-11-27T11:51:40.756Z"
   },
   {
    "duration": 901,
    "start_time": "2024-11-27T11:51:41.130Z"
   },
   {
    "duration": 79,
    "start_time": "2024-11-27T11:51:42.033Z"
   },
   {
    "duration": 194,
    "start_time": "2024-11-27T11:51:42.114Z"
   },
   {
    "duration": 260,
    "start_time": "2024-11-27T11:51:42.310Z"
   },
   {
    "duration": 184,
    "start_time": "2024-11-27T11:51:42.572Z"
   },
   {
    "duration": 366,
    "start_time": "2024-11-27T11:51:42.758Z"
   },
   {
    "duration": 158,
    "start_time": "2024-11-27T11:51:43.125Z"
   },
   {
    "duration": 63,
    "start_time": "2024-11-27T11:51:43.285Z"
   },
   {
    "duration": 36,
    "start_time": "2024-11-27T11:51:43.349Z"
   },
   {
    "duration": 63,
    "start_time": "2024-11-27T11:51:43.387Z"
   },
   {
    "duration": 88,
    "start_time": "2024-11-27T11:51:43.451Z"
   },
   {
    "duration": 5,
    "start_time": "2024-11-27T11:51:43.540Z"
   },
   {
    "duration": 25,
    "start_time": "2024-11-27T11:51:43.547Z"
   },
   {
    "duration": 459,
    "start_time": "2024-11-27T11:51:43.574Z"
   },
   {
    "duration": 35,
    "start_time": "2024-11-27T11:51:44.035Z"
   },
   {
    "duration": 4,
    "start_time": "2024-11-27T11:51:44.072Z"
   },
   {
    "duration": 4,
    "start_time": "2024-11-27T11:51:44.077Z"
   },
   {
    "duration": 135,
    "start_time": "2024-11-27T11:51:44.083Z"
   },
   {
    "duration": 69,
    "start_time": "2024-11-27T11:51:44.219Z"
   },
   {
    "duration": 55,
    "start_time": "2024-11-27T11:51:44.290Z"
   },
   {
    "duration": 63,
    "start_time": "2024-11-27T11:51:44.346Z"
   },
   {
    "duration": 170,
    "start_time": "2024-11-27T11:51:44.410Z"
   },
   {
    "duration": 189,
    "start_time": "2024-11-27T11:51:44.582Z"
   },
   {
    "duration": 4,
    "start_time": "2024-11-27T11:51:44.773Z"
   },
   {
    "duration": 138,
    "start_time": "2024-11-27T11:51:44.778Z"
   },
   {
    "duration": 10,
    "start_time": "2024-11-27T11:51:44.919Z"
   },
   {
    "duration": 90,
    "start_time": "2024-11-27T11:51:44.931Z"
   },
   {
    "duration": 13,
    "start_time": "2024-11-27T11:51:45.022Z"
   },
   {
    "duration": 1067,
    "start_time": "2024-11-27T12:15:57.852Z"
   },
   {
    "duration": 383,
    "start_time": "2024-11-27T12:15:58.921Z"
   },
   {
    "duration": 918,
    "start_time": "2024-11-27T12:15:59.306Z"
   },
   {
    "duration": 77,
    "start_time": "2024-11-27T12:16:00.227Z"
   },
   {
    "duration": 197,
    "start_time": "2024-11-27T12:16:00.306Z"
   },
   {
    "duration": 284,
    "start_time": "2024-11-27T12:16:00.504Z"
   },
   {
    "duration": 190,
    "start_time": "2024-11-27T12:16:00.790Z"
   },
   {
    "duration": 345,
    "start_time": "2024-11-27T12:16:00.982Z"
   },
   {
    "duration": 160,
    "start_time": "2024-11-27T12:16:01.329Z"
   },
   {
    "duration": 61,
    "start_time": "2024-11-27T12:16:01.492Z"
   },
   {
    "duration": 34,
    "start_time": "2024-11-27T12:16:01.554Z"
   },
   {
    "duration": 71,
    "start_time": "2024-11-27T12:16:01.589Z"
   },
   {
    "duration": 69,
    "start_time": "2024-11-27T12:16:01.669Z"
   },
   {
    "duration": 6,
    "start_time": "2024-11-27T12:16:01.740Z"
   },
   {
    "duration": 64,
    "start_time": "2024-11-27T12:16:01.748Z"
   },
   {
    "duration": 473,
    "start_time": "2024-11-27T12:16:01.815Z"
   },
   {
    "duration": 28,
    "start_time": "2024-11-27T12:16:02.290Z"
   },
   {
    "duration": 4,
    "start_time": "2024-11-27T12:16:02.319Z"
   },
   {
    "duration": 30,
    "start_time": "2024-11-27T12:16:02.325Z"
   },
   {
    "duration": 133,
    "start_time": "2024-11-27T12:16:02.357Z"
   },
   {
    "duration": 62,
    "start_time": "2024-11-27T12:16:02.492Z"
   },
   {
    "duration": 66,
    "start_time": "2024-11-27T12:16:02.556Z"
   },
   {
    "duration": 66,
    "start_time": "2024-11-27T12:16:02.624Z"
   },
   {
    "duration": 169,
    "start_time": "2024-11-27T12:16:02.692Z"
   },
   {
    "duration": 152,
    "start_time": "2024-11-27T12:16:02.870Z"
   },
   {
    "duration": 99,
    "start_time": "2024-11-27T12:16:03.023Z"
   },
   {
    "duration": 0,
    "start_time": "2024-11-27T12:16:03.124Z"
   },
   {
    "duration": 0,
    "start_time": "2024-11-27T12:16:03.125Z"
   },
   {
    "duration": 0,
    "start_time": "2024-11-27T12:16:03.126Z"
   },
   {
    "duration": 0,
    "start_time": "2024-11-27T12:16:03.127Z"
   },
   {
    "duration": 151,
    "start_time": "2024-11-27T12:16:20.068Z"
   },
   {
    "duration": 1048,
    "start_time": "2024-11-27T12:19:46.600Z"
   },
   {
    "duration": 400,
    "start_time": "2024-11-27T12:19:47.650Z"
   },
   {
    "duration": 942,
    "start_time": "2024-11-27T12:19:48.052Z"
   },
   {
    "duration": 78,
    "start_time": "2024-11-27T12:19:48.995Z"
   },
   {
    "duration": 193,
    "start_time": "2024-11-27T12:19:49.076Z"
   },
   {
    "duration": 258,
    "start_time": "2024-11-27T12:19:49.271Z"
   },
   {
    "duration": 179,
    "start_time": "2024-11-27T12:19:49.531Z"
   },
   {
    "duration": 340,
    "start_time": "2024-11-27T12:19:49.712Z"
   },
   {
    "duration": 157,
    "start_time": "2024-11-27T12:19:50.053Z"
   },
   {
    "duration": 67,
    "start_time": "2024-11-27T12:19:50.211Z"
   },
   {
    "duration": 22,
    "start_time": "2024-11-27T12:19:50.280Z"
   },
   {
    "duration": 79,
    "start_time": "2024-11-27T12:19:50.304Z"
   },
   {
    "duration": 64,
    "start_time": "2024-11-27T12:19:50.384Z"
   },
   {
    "duration": 21,
    "start_time": "2024-11-27T12:19:50.450Z"
   },
   {
    "duration": 4,
    "start_time": "2024-11-27T12:19:50.473Z"
   },
   {
    "duration": 461,
    "start_time": "2024-11-27T12:19:50.479Z"
   },
   {
    "duration": 35,
    "start_time": "2024-11-27T12:19:50.941Z"
   },
   {
    "duration": 4,
    "start_time": "2024-11-27T12:19:50.978Z"
   },
   {
    "duration": 10,
    "start_time": "2024-11-27T12:19:50.983Z"
   },
   {
    "duration": 128,
    "start_time": "2024-11-27T12:19:50.995Z"
   },
   {
    "duration": 72,
    "start_time": "2024-11-27T12:19:51.125Z"
   },
   {
    "duration": 54,
    "start_time": "2024-11-27T12:19:51.199Z"
   },
   {
    "duration": 72,
    "start_time": "2024-11-27T12:19:51.255Z"
   },
   {
    "duration": 176,
    "start_time": "2024-11-27T12:19:51.329Z"
   },
   {
    "duration": 183,
    "start_time": "2024-11-27T12:19:51.507Z"
   },
   {
    "duration": 4,
    "start_time": "2024-11-27T12:19:51.692Z"
   },
   {
    "duration": 138,
    "start_time": "2024-11-27T12:19:51.698Z"
   },
   {
    "duration": 10,
    "start_time": "2024-11-27T12:19:51.837Z"
   },
   {
    "duration": 91,
    "start_time": "2024-11-27T12:19:51.848Z"
   },
   {
    "duration": 12,
    "start_time": "2024-11-27T12:19:51.941Z"
   },
   {
    "duration": 97,
    "start_time": "2024-11-27T12:23:58.141Z"
   },
   {
    "duration": 80,
    "start_time": "2024-11-27T12:24:22.231Z"
   },
   {
    "duration": 2017,
    "start_time": "2024-11-28T08:13:00.762Z"
   },
   {
    "duration": 1154,
    "start_time": "2024-11-28T08:13:02.781Z"
   },
   {
    "duration": 948,
    "start_time": "2024-11-28T08:13:03.936Z"
   },
   {
    "duration": 85,
    "start_time": "2024-11-28T08:13:04.886Z"
   },
   {
    "duration": 204,
    "start_time": "2024-11-28T08:13:04.973Z"
   },
   {
    "duration": 269,
    "start_time": "2024-11-28T08:13:05.179Z"
   },
   {
    "duration": 198,
    "start_time": "2024-11-28T08:13:05.449Z"
   },
   {
    "duration": 354,
    "start_time": "2024-11-28T08:13:05.649Z"
   },
   {
    "duration": 161,
    "start_time": "2024-11-28T08:13:06.005Z"
   },
   {
    "duration": 68,
    "start_time": "2024-11-28T08:13:06.168Z"
   },
   {
    "duration": 35,
    "start_time": "2024-11-28T08:13:06.238Z"
   },
   {
    "duration": 91,
    "start_time": "2024-11-28T08:13:06.275Z"
   },
   {
    "duration": 69,
    "start_time": "2024-11-28T08:13:06.368Z"
   },
   {
    "duration": 5,
    "start_time": "2024-11-28T08:13:06.438Z"
   },
   {
    "duration": 29,
    "start_time": "2024-11-28T08:13:06.445Z"
   },
   {
    "duration": 453,
    "start_time": "2024-11-28T08:13:06.476Z"
   },
   {
    "duration": 29,
    "start_time": "2024-11-28T08:13:06.931Z"
   },
   {
    "duration": 3,
    "start_time": "2024-11-28T08:13:06.962Z"
   },
   {
    "duration": 27,
    "start_time": "2024-11-28T08:13:06.967Z"
   },
   {
    "duration": 151,
    "start_time": "2024-11-28T08:13:06.995Z"
   },
   {
    "duration": 67,
    "start_time": "2024-11-28T08:13:07.148Z"
   },
   {
    "duration": 55,
    "start_time": "2024-11-28T08:13:07.216Z"
   },
   {
    "duration": 61,
    "start_time": "2024-11-28T08:13:07.272Z"
   },
   {
    "duration": 178,
    "start_time": "2024-11-28T08:13:07.335Z"
   },
   {
    "duration": 214,
    "start_time": "2024-11-28T08:13:07.516Z"
   },
   {
    "duration": 5,
    "start_time": "2024-11-28T08:13:07.732Z"
   },
   {
    "duration": 159,
    "start_time": "2024-11-28T08:13:07.739Z"
   },
   {
    "duration": 10,
    "start_time": "2024-11-28T08:13:07.901Z"
   },
   {
    "duration": 97,
    "start_time": "2024-11-28T08:13:07.912Z"
   },
   {
    "duration": 10,
    "start_time": "2024-11-28T08:13:08.011Z"
   },
   {
    "duration": 79,
    "start_time": "2024-11-28T08:19:54.938Z"
   },
   {
    "duration": 235,
    "start_time": "2024-11-28T08:19:59.527Z"
   },
   {
    "duration": 147,
    "start_time": "2024-11-28T08:20:08.145Z"
   },
   {
    "duration": 1098,
    "start_time": "2024-11-28T08:20:27.642Z"
   },
   {
    "duration": 155,
    "start_time": "2024-11-28T08:21:07.717Z"
   },
   {
    "duration": 153,
    "start_time": "2024-11-28T08:23:29.956Z"
   },
   {
    "duration": 147,
    "start_time": "2024-11-28T08:23:43.027Z"
   },
   {
    "duration": 1083,
    "start_time": "2024-11-28T08:24:04.631Z"
   },
   {
    "duration": 399,
    "start_time": "2024-11-28T08:24:05.716Z"
   },
   {
    "duration": 953,
    "start_time": "2024-11-28T08:24:06.117Z"
   },
   {
    "duration": 82,
    "start_time": "2024-11-28T08:24:07.072Z"
   },
   {
    "duration": 206,
    "start_time": "2024-11-28T08:24:07.155Z"
   },
   {
    "duration": 287,
    "start_time": "2024-11-28T08:24:07.362Z"
   },
   {
    "duration": 202,
    "start_time": "2024-11-28T08:24:07.650Z"
   },
   {
    "duration": 350,
    "start_time": "2024-11-28T08:24:07.855Z"
   },
   {
    "duration": 160,
    "start_time": "2024-11-28T08:24:08.207Z"
   },
   {
    "duration": 89,
    "start_time": "2024-11-28T08:24:08.370Z"
   },
   {
    "duration": 38,
    "start_time": "2024-11-28T08:24:08.460Z"
   },
   {
    "duration": 64,
    "start_time": "2024-11-28T08:24:08.500Z"
   },
   {
    "duration": 85,
    "start_time": "2024-11-28T08:24:08.565Z"
   },
   {
    "duration": 5,
    "start_time": "2024-11-28T08:24:08.651Z"
   },
   {
    "duration": 6,
    "start_time": "2024-11-28T08:24:08.658Z"
   },
   {
    "duration": 451,
    "start_time": "2024-11-28T08:24:08.665Z"
   },
   {
    "duration": 31,
    "start_time": "2024-11-28T08:24:09.118Z"
   },
   {
    "duration": 4,
    "start_time": "2024-11-28T08:24:09.151Z"
   },
   {
    "duration": 23,
    "start_time": "2024-11-28T08:24:09.156Z"
   },
   {
    "duration": 138,
    "start_time": "2024-11-28T08:24:09.181Z"
   },
   {
    "duration": 62,
    "start_time": "2024-11-28T08:24:09.321Z"
   },
   {
    "duration": 62,
    "start_time": "2024-11-28T08:24:09.384Z"
   },
   {
    "duration": 70,
    "start_time": "2024-11-28T08:24:09.448Z"
   },
   {
    "duration": 178,
    "start_time": "2024-11-28T08:24:09.520Z"
   },
   {
    "duration": 158,
    "start_time": "2024-11-28T08:24:09.700Z"
   },
   {
    "duration": 106,
    "start_time": "2024-11-28T08:24:09.859Z"
   },
   {
    "duration": 0,
    "start_time": "2024-11-28T08:24:09.967Z"
   },
   {
    "duration": 0,
    "start_time": "2024-11-28T08:24:09.968Z"
   },
   {
    "duration": 0,
    "start_time": "2024-11-28T08:24:09.969Z"
   },
   {
    "duration": 0,
    "start_time": "2024-11-28T08:24:09.971Z"
   },
   {
    "duration": 819,
    "start_time": "2024-11-28T08:24:43.351Z"
   },
   {
    "duration": 14,
    "start_time": "2024-11-28T08:24:59.391Z"
   },
   {
    "duration": 165,
    "start_time": "2024-11-28T08:26:09.054Z"
   },
   {
    "duration": 6,
    "start_time": "2024-11-28T08:29:51.630Z"
   },
   {
    "duration": 1993,
    "start_time": "2024-11-28T08:30:04.938Z"
   },
   {
    "duration": 385,
    "start_time": "2024-11-28T08:30:06.933Z"
   },
   {
    "duration": 957,
    "start_time": "2024-11-28T08:30:07.320Z"
   },
   {
    "duration": 82,
    "start_time": "2024-11-28T08:30:08.279Z"
   },
   {
    "duration": 230,
    "start_time": "2024-11-28T08:30:08.363Z"
   },
   {
    "duration": 279,
    "start_time": "2024-11-28T08:30:08.597Z"
   },
   {
    "duration": 192,
    "start_time": "2024-11-28T08:30:08.878Z"
   },
   {
    "duration": 357,
    "start_time": "2024-11-28T08:30:09.072Z"
   },
   {
    "duration": 160,
    "start_time": "2024-11-28T08:30:09.431Z"
   },
   {
    "duration": 63,
    "start_time": "2024-11-28T08:30:09.597Z"
   },
   {
    "duration": 32,
    "start_time": "2024-11-28T08:30:09.662Z"
   },
   {
    "duration": 77,
    "start_time": "2024-11-28T08:30:09.698Z"
   },
   {
    "duration": 70,
    "start_time": "2024-11-28T08:30:09.777Z"
   },
   {
    "duration": 5,
    "start_time": "2024-11-28T08:30:09.850Z"
   },
   {
    "duration": 34,
    "start_time": "2024-11-28T08:30:09.857Z"
   },
   {
    "duration": 455,
    "start_time": "2024-11-28T08:30:09.892Z"
   },
   {
    "duration": 31,
    "start_time": "2024-11-28T08:30:10.349Z"
   },
   {
    "duration": 18,
    "start_time": "2024-11-28T08:30:10.381Z"
   },
   {
    "duration": 20,
    "start_time": "2024-11-28T08:30:10.401Z"
   },
   {
    "duration": 140,
    "start_time": "2024-11-28T08:30:10.423Z"
   },
   {
    "duration": 68,
    "start_time": "2024-11-28T08:30:10.564Z"
   },
   {
    "duration": 66,
    "start_time": "2024-11-28T08:30:10.633Z"
   },
   {
    "duration": 56,
    "start_time": "2024-11-28T08:30:10.700Z"
   },
   {
    "duration": 187,
    "start_time": "2024-11-28T08:30:10.758Z"
   },
   {
    "duration": 168,
    "start_time": "2024-11-28T08:30:10.946Z"
   },
   {
    "duration": 6,
    "start_time": "2024-11-28T08:30:11.116Z"
   },
   {
    "duration": 161,
    "start_time": "2024-11-28T08:30:11.124Z"
   },
   {
    "duration": 14,
    "start_time": "2024-11-28T08:30:11.289Z"
   },
   {
    "duration": 97,
    "start_time": "2024-11-28T08:30:11.305Z"
   },
   {
    "duration": 11,
    "start_time": "2024-11-28T08:30:11.404Z"
   },
   {
    "duration": 4,
    "start_time": "2024-11-28T08:32:50.446Z"
   },
   {
    "duration": 4,
    "start_time": "2024-11-28T08:33:00.956Z"
   },
   {
    "duration": 3,
    "start_time": "2024-11-28T08:33:27.640Z"
   },
   {
    "duration": 29,
    "start_time": "2024-11-28T08:38:16.051Z"
   },
   {
    "duration": 1083,
    "start_time": "2024-11-28T08:39:52.972Z"
   },
   {
    "duration": 373,
    "start_time": "2024-11-28T08:39:54.057Z"
   },
   {
    "duration": 928,
    "start_time": "2024-11-28T08:39:54.431Z"
   },
   {
    "duration": 78,
    "start_time": "2024-11-28T08:39:55.361Z"
   },
   {
    "duration": 194,
    "start_time": "2024-11-28T08:39:55.440Z"
   },
   {
    "duration": 269,
    "start_time": "2024-11-28T08:39:55.636Z"
   },
   {
    "duration": 199,
    "start_time": "2024-11-28T08:39:55.906Z"
   },
   {
    "duration": 445,
    "start_time": "2024-11-28T08:39:56.106Z"
   },
   {
    "duration": 125,
    "start_time": "2024-11-28T08:39:56.553Z"
   },
   {
    "duration": 51,
    "start_time": "2024-11-28T08:39:56.681Z"
   },
   {
    "duration": 27,
    "start_time": "2024-11-28T08:39:56.733Z"
   },
   {
    "duration": 80,
    "start_time": "2024-11-28T08:39:56.761Z"
   },
   {
    "duration": 76,
    "start_time": "2024-11-28T08:39:56.843Z"
   },
   {
    "duration": 6,
    "start_time": "2024-11-28T08:39:56.921Z"
   },
   {
    "duration": 6,
    "start_time": "2024-11-28T08:39:56.929Z"
   },
   {
    "duration": 444,
    "start_time": "2024-11-28T08:39:56.937Z"
   },
   {
    "duration": 30,
    "start_time": "2024-11-28T08:39:57.382Z"
   },
   {
    "duration": 9,
    "start_time": "2024-11-28T08:39:57.414Z"
   },
   {
    "duration": 28,
    "start_time": "2024-11-28T08:39:57.425Z"
   },
   {
    "duration": 118,
    "start_time": "2024-11-28T08:39:57.455Z"
   },
   {
    "duration": 65,
    "start_time": "2024-11-28T08:39:57.574Z"
   },
   {
    "duration": 26,
    "start_time": "2024-11-28T08:39:57.643Z"
   },
   {
    "duration": 75,
    "start_time": "2024-11-28T08:39:57.671Z"
   },
   {
    "duration": 180,
    "start_time": "2024-11-28T08:39:57.748Z"
   },
   {
    "duration": 160,
    "start_time": "2024-11-28T08:39:57.930Z"
   },
   {
    "duration": 8,
    "start_time": "2024-11-28T08:39:58.092Z"
   },
   {
    "duration": 110,
    "start_time": "2024-11-28T08:39:58.102Z"
   },
   {
    "duration": 4,
    "start_time": "2024-11-28T08:39:58.215Z"
   },
   {
    "duration": 98,
    "start_time": "2024-11-28T08:39:58.221Z"
   },
   {
    "duration": 84,
    "start_time": "2024-11-28T08:39:58.320Z"
   },
   {
    "duration": 1089,
    "start_time": "2024-11-28T08:41:54.486Z"
   },
   {
    "duration": 397,
    "start_time": "2024-11-28T08:41:55.577Z"
   },
   {
    "duration": 953,
    "start_time": "2024-11-28T08:41:55.976Z"
   },
   {
    "duration": 77,
    "start_time": "2024-11-28T08:41:56.930Z"
   },
   {
    "duration": 203,
    "start_time": "2024-11-28T08:41:57.009Z"
   },
   {
    "duration": 265,
    "start_time": "2024-11-28T08:41:57.214Z"
   },
   {
    "duration": 199,
    "start_time": "2024-11-28T08:41:57.481Z"
   },
   {
    "duration": 436,
    "start_time": "2024-11-28T08:41:57.682Z"
   },
   {
    "duration": 128,
    "start_time": "2024-11-28T08:41:58.120Z"
   },
   {
    "duration": 56,
    "start_time": "2024-11-28T08:41:58.250Z"
   },
   {
    "duration": 22,
    "start_time": "2024-11-28T08:41:58.308Z"
   },
   {
    "duration": 95,
    "start_time": "2024-11-28T08:41:58.331Z"
   },
   {
    "duration": 89,
    "start_time": "2024-11-28T08:41:58.428Z"
   },
   {
    "duration": 5,
    "start_time": "2024-11-28T08:41:58.520Z"
   },
   {
    "duration": 6,
    "start_time": "2024-11-28T08:41:58.526Z"
   },
   {
    "duration": 466,
    "start_time": "2024-11-28T08:41:58.534Z"
   },
   {
    "duration": 23,
    "start_time": "2024-11-28T08:41:59.002Z"
   },
   {
    "duration": 3,
    "start_time": "2024-11-28T08:41:59.027Z"
   },
   {
    "duration": 4,
    "start_time": "2024-11-28T08:41:59.032Z"
   },
   {
    "duration": 163,
    "start_time": "2024-11-28T08:41:59.039Z"
   },
   {
    "duration": 68,
    "start_time": "2024-11-28T08:41:59.204Z"
   },
   {
    "duration": 32,
    "start_time": "2024-11-28T08:41:59.274Z"
   },
   {
    "duration": 56,
    "start_time": "2024-11-28T08:41:59.308Z"
   },
   {
    "duration": 192,
    "start_time": "2024-11-28T08:41:59.366Z"
   },
   {
    "duration": 163,
    "start_time": "2024-11-28T08:41:59.559Z"
   },
   {
    "duration": 5,
    "start_time": "2024-11-28T08:41:59.724Z"
   },
   {
    "duration": 108,
    "start_time": "2024-11-28T08:41:59.730Z"
   },
   {
    "duration": 35,
    "start_time": "2024-11-28T08:41:59.839Z"
   },
   {
    "duration": 79,
    "start_time": "2024-11-28T08:41:59.875Z"
   },
   {
    "duration": 65,
    "start_time": "2024-11-28T08:42:37.173Z"
   },
   {
    "duration": 78,
    "start_time": "2024-11-28T08:44:07.795Z"
   },
   {
    "duration": 64,
    "start_time": "2024-11-28T08:44:14.477Z"
   },
   {
    "duration": 1249,
    "start_time": "2024-11-28T15:27:18.319Z"
   },
   {
    "duration": 897,
    "start_time": "2024-11-28T15:27:19.571Z"
   },
   {
    "duration": 941,
    "start_time": "2024-11-28T15:27:20.470Z"
   },
   {
    "duration": 75,
    "start_time": "2024-11-28T15:27:21.417Z"
   },
   {
    "duration": 204,
    "start_time": "2024-11-28T15:27:21.493Z"
   },
   {
    "duration": 272,
    "start_time": "2024-11-28T15:27:21.699Z"
   },
   {
    "duration": 191,
    "start_time": "2024-11-28T15:27:21.973Z"
   },
   {
    "duration": 417,
    "start_time": "2024-11-28T15:27:22.165Z"
   },
   {
    "duration": 122,
    "start_time": "2024-11-28T15:27:22.584Z"
   },
   {
    "duration": 49,
    "start_time": "2024-11-28T15:27:22.709Z"
   },
   {
    "duration": 20,
    "start_time": "2024-11-28T15:27:22.760Z"
   },
   {
    "duration": 79,
    "start_time": "2024-11-28T15:27:22.782Z"
   },
   {
    "duration": 71,
    "start_time": "2024-11-28T15:27:22.862Z"
   },
   {
    "duration": 4,
    "start_time": "2024-11-28T15:27:22.935Z"
   },
   {
    "duration": 53,
    "start_time": "2024-11-28T15:27:22.941Z"
   },
   {
    "duration": 444,
    "start_time": "2024-11-28T15:27:22.996Z"
   },
   {
    "duration": 20,
    "start_time": "2024-11-28T15:27:23.441Z"
   },
   {
    "duration": 4,
    "start_time": "2024-11-28T15:27:23.463Z"
   },
   {
    "duration": 6,
    "start_time": "2024-11-28T15:27:23.468Z"
   },
   {
    "duration": 138,
    "start_time": "2024-11-28T15:27:23.475Z"
   },
   {
    "duration": 64,
    "start_time": "2024-11-28T15:27:23.617Z"
   },
   {
    "duration": 42,
    "start_time": "2024-11-28T15:27:23.683Z"
   },
   {
    "duration": 65,
    "start_time": "2024-11-28T15:27:23.728Z"
   },
   {
    "duration": 198,
    "start_time": "2024-11-28T15:27:23.794Z"
   },
   {
    "duration": 153,
    "start_time": "2024-11-28T15:27:23.994Z"
   },
   {
    "duration": 5,
    "start_time": "2024-11-28T15:27:24.148Z"
   },
   {
    "duration": 111,
    "start_time": "2024-11-28T15:27:24.154Z"
   },
   {
    "duration": 34,
    "start_time": "2024-11-28T15:27:24.268Z"
   },
   {
    "duration": 72,
    "start_time": "2024-11-28T15:27:24.304Z"
   },
   {
    "duration": 72,
    "start_time": "2024-11-28T15:27:24.378Z"
   },
   {
    "duration": 73,
    "start_time": "2024-11-28T15:27:24.451Z"
   },
   {
    "duration": 44,
    "start_time": "2024-11-28T15:27:24.526Z"
   },
   {
    "duration": 215,
    "start_time": "2024-11-28T16:02:05.092Z"
   },
   {
    "duration": 1070,
    "start_time": "2024-11-28T16:02:19.730Z"
   },
   {
    "duration": 451,
    "start_time": "2024-11-28T16:02:20.802Z"
   },
   {
    "duration": 928,
    "start_time": "2024-11-28T16:02:21.255Z"
   },
   {
    "duration": 79,
    "start_time": "2024-11-28T16:02:22.185Z"
   },
   {
    "duration": 203,
    "start_time": "2024-11-28T16:02:22.265Z"
   },
   {
    "duration": 267,
    "start_time": "2024-11-28T16:02:22.470Z"
   },
   {
    "duration": 196,
    "start_time": "2024-11-28T16:02:22.740Z"
   },
   {
    "duration": 438,
    "start_time": "2024-11-28T16:02:22.937Z"
   },
   {
    "duration": 113,
    "start_time": "2024-11-28T16:02:23.376Z"
   },
   {
    "duration": 48,
    "start_time": "2024-11-28T16:02:23.492Z"
   },
   {
    "duration": 24,
    "start_time": "2024-11-28T16:02:23.541Z"
   },
   {
    "duration": 97,
    "start_time": "2024-11-28T16:02:23.567Z"
   },
   {
    "duration": 68,
    "start_time": "2024-11-28T16:02:23.665Z"
   },
   {
    "duration": 4,
    "start_time": "2024-11-28T16:02:23.734Z"
   },
   {
    "duration": 20,
    "start_time": "2024-11-28T16:02:23.740Z"
   },
   {
    "duration": 442,
    "start_time": "2024-11-28T16:02:23.761Z"
   },
   {
    "duration": 25,
    "start_time": "2024-11-28T16:02:24.204Z"
   },
   {
    "duration": 24,
    "start_time": "2024-11-28T16:02:24.230Z"
   },
   {
    "duration": 13,
    "start_time": "2024-11-28T16:02:24.256Z"
   },
   {
    "duration": 147,
    "start_time": "2024-11-28T16:02:24.271Z"
   },
   {
    "duration": 76,
    "start_time": "2024-11-28T16:02:24.419Z"
   },
   {
    "duration": 37,
    "start_time": "2024-11-28T16:02:24.497Z"
   },
   {
    "duration": 54,
    "start_time": "2024-11-28T16:02:24.535Z"
   },
   {
    "duration": 175,
    "start_time": "2024-11-28T16:02:24.591Z"
   },
   {
    "duration": 156,
    "start_time": "2024-11-28T16:02:24.767Z"
   },
   {
    "duration": 5,
    "start_time": "2024-11-28T16:02:24.924Z"
   },
   {
    "duration": 105,
    "start_time": "2024-11-28T16:02:24.931Z"
   },
   {
    "duration": 33,
    "start_time": "2024-11-28T16:02:25.039Z"
   },
   {
    "duration": 74,
    "start_time": "2024-11-28T16:02:25.074Z"
   },
   {
    "duration": 92,
    "start_time": "2024-11-28T16:02:25.149Z"
   },
   {
    "duration": 58,
    "start_time": "2024-11-28T16:02:25.243Z"
   },
   {
    "duration": 228,
    "start_time": "2024-11-28T16:02:25.303Z"
   },
   {
    "duration": 1056,
    "start_time": "2024-11-28T16:02:58.551Z"
   },
   {
    "duration": 376,
    "start_time": "2024-11-28T16:02:59.609Z"
   },
   {
    "duration": 973,
    "start_time": "2024-11-28T16:02:59.987Z"
   },
   {
    "duration": 81,
    "start_time": "2024-11-28T16:03:00.962Z"
   },
   {
    "duration": 217,
    "start_time": "2024-11-28T16:03:01.044Z"
   },
   {
    "duration": 282,
    "start_time": "2024-11-28T16:03:01.263Z"
   },
   {
    "duration": 194,
    "start_time": "2024-11-28T16:03:01.546Z"
   },
   {
    "duration": 449,
    "start_time": "2024-11-28T16:03:01.742Z"
   },
   {
    "duration": 115,
    "start_time": "2024-11-28T16:03:02.192Z"
   },
   {
    "duration": 48,
    "start_time": "2024-11-28T16:03:02.309Z"
   },
   {
    "duration": 22,
    "start_time": "2024-11-28T16:03:02.359Z"
   },
   {
    "duration": 84,
    "start_time": "2024-11-28T16:03:02.383Z"
   },
   {
    "duration": 76,
    "start_time": "2024-11-28T16:03:02.469Z"
   },
   {
    "duration": 5,
    "start_time": "2024-11-28T16:03:02.547Z"
   },
   {
    "duration": 23,
    "start_time": "2024-11-28T16:03:02.553Z"
   },
   {
    "duration": 445,
    "start_time": "2024-11-28T16:03:02.577Z"
   },
   {
    "duration": 29,
    "start_time": "2024-11-28T16:03:03.025Z"
   },
   {
    "duration": 4,
    "start_time": "2024-11-28T16:03:03.057Z"
   },
   {
    "duration": 34,
    "start_time": "2024-11-28T16:03:03.062Z"
   },
   {
    "duration": 135,
    "start_time": "2024-11-28T16:03:03.098Z"
   },
   {
    "duration": 65,
    "start_time": "2024-11-28T16:03:03.235Z"
   },
   {
    "duration": 37,
    "start_time": "2024-11-28T16:03:03.302Z"
   },
   {
    "duration": 57,
    "start_time": "2024-11-28T16:03:03.341Z"
   },
   {
    "duration": 174,
    "start_time": "2024-11-28T16:03:03.417Z"
   },
   {
    "duration": 184,
    "start_time": "2024-11-28T16:03:03.592Z"
   },
   {
    "duration": 11,
    "start_time": "2024-11-28T16:03:03.778Z"
   },
   {
    "duration": 120,
    "start_time": "2024-11-28T16:03:03.791Z"
   },
   {
    "duration": 33,
    "start_time": "2024-11-28T16:03:03.914Z"
   },
   {
    "duration": 73,
    "start_time": "2024-11-28T16:03:03.948Z"
   },
   {
    "duration": 57,
    "start_time": "2024-11-28T16:03:04.023Z"
   },
   {
    "duration": 73,
    "start_time": "2024-11-28T16:03:04.082Z"
   },
   {
    "duration": 132,
    "start_time": "2024-11-28T16:03:04.157Z"
   },
   {
    "duration": 30,
    "start_time": "2024-11-28T16:13:09.606Z"
   },
   {
    "duration": 84,
    "start_time": "2024-11-28T16:18:00.039Z"
   },
   {
    "duration": 194,
    "start_time": "2024-11-28T16:18:07.579Z"
   },
   {
    "duration": 168,
    "start_time": "2024-11-28T16:19:12.149Z"
   },
   {
    "duration": 172,
    "start_time": "2024-11-28T16:19:25.032Z"
   },
   {
    "duration": 177,
    "start_time": "2024-11-28T16:19:48.753Z"
   },
   {
    "duration": 150,
    "start_time": "2024-11-28T16:20:32.092Z"
   },
   {
    "duration": 208,
    "start_time": "2024-11-28T16:21:05.775Z"
   },
   {
    "duration": 181,
    "start_time": "2024-11-28T16:21:20.235Z"
   },
   {
    "duration": 169,
    "start_time": "2024-11-28T16:21:30.368Z"
   },
   {
    "duration": 165,
    "start_time": "2024-11-28T16:21:58.222Z"
   },
   {
    "duration": 106,
    "start_time": "2024-11-28T16:24:17.933Z"
   },
   {
    "duration": 6,
    "start_time": "2024-11-28T16:42:32.603Z"
   },
   {
    "duration": 641,
    "start_time": "2024-11-28T16:46:47.391Z"
   },
   {
    "duration": 7,
    "start_time": "2024-11-28T16:47:25.336Z"
   },
   {
    "duration": 555,
    "start_time": "2024-11-28T16:47:25.691Z"
   },
   {
    "duration": 1021,
    "start_time": "2024-11-28T16:48:11.350Z"
   },
   {
    "duration": 377,
    "start_time": "2024-11-28T16:48:12.372Z"
   },
   {
    "duration": 962,
    "start_time": "2024-11-28T16:48:12.752Z"
   },
   {
    "duration": 75,
    "start_time": "2024-11-28T16:48:13.717Z"
   },
   {
    "duration": 201,
    "start_time": "2024-11-28T16:48:13.794Z"
   },
   {
    "duration": 272,
    "start_time": "2024-11-28T16:48:13.996Z"
   },
   {
    "duration": 188,
    "start_time": "2024-11-28T16:48:14.270Z"
   },
   {
    "duration": 382,
    "start_time": "2024-11-28T16:48:14.459Z"
   },
   {
    "duration": 118,
    "start_time": "2024-11-28T16:48:14.843Z"
   },
   {
    "duration": 54,
    "start_time": "2024-11-28T16:48:14.964Z"
   },
   {
    "duration": 22,
    "start_time": "2024-11-28T16:48:15.019Z"
   },
   {
    "duration": 76,
    "start_time": "2024-11-28T16:48:15.043Z"
   },
   {
    "duration": 67,
    "start_time": "2024-11-28T16:48:15.120Z"
   },
   {
    "duration": 4,
    "start_time": "2024-11-28T16:48:15.189Z"
   },
   {
    "duration": 24,
    "start_time": "2024-11-28T16:48:15.195Z"
   },
   {
    "duration": 449,
    "start_time": "2024-11-28T16:48:15.221Z"
   },
   {
    "duration": 21,
    "start_time": "2024-11-28T16:48:15.673Z"
   },
   {
    "duration": 11,
    "start_time": "2024-11-28T16:48:15.696Z"
   },
   {
    "duration": 7,
    "start_time": "2024-11-28T16:48:15.718Z"
   },
   {
    "duration": 169,
    "start_time": "2024-11-28T16:48:15.726Z"
   },
   {
    "duration": 73,
    "start_time": "2024-11-28T16:48:15.897Z"
   },
   {
    "duration": 24,
    "start_time": "2024-11-28T16:48:15.972Z"
   },
   {
    "duration": 55,
    "start_time": "2024-11-28T16:48:16.017Z"
   },
   {
    "duration": 191,
    "start_time": "2024-11-28T16:48:16.073Z"
   },
   {
    "duration": 170,
    "start_time": "2024-11-28T16:48:16.266Z"
   },
   {
    "duration": 5,
    "start_time": "2024-11-28T16:48:16.437Z"
   },
   {
    "duration": 104,
    "start_time": "2024-11-28T16:48:16.444Z"
   },
   {
    "duration": 33,
    "start_time": "2024-11-28T16:48:16.552Z"
   },
   {
    "duration": 74,
    "start_time": "2024-11-28T16:48:16.587Z"
   },
   {
    "duration": 67,
    "start_time": "2024-11-28T16:48:16.663Z"
   },
   {
    "duration": 60,
    "start_time": "2024-11-28T16:48:16.732Z"
   },
   {
    "duration": 180,
    "start_time": "2024-11-28T16:48:16.794Z"
   },
   {
    "duration": 115,
    "start_time": "2024-11-28T16:48:16.976Z"
   },
   {
    "duration": 6,
    "start_time": "2024-11-28T16:48:17.093Z"
   },
   {
    "duration": 596,
    "start_time": "2024-11-28T16:48:17.100Z"
   },
   {
    "duration": 6,
    "start_time": "2024-11-28T16:50:51.764Z"
   },
   {
    "duration": 586,
    "start_time": "2024-11-28T16:50:52.137Z"
   },
   {
    "duration": 544,
    "start_time": "2024-11-28T16:53:14.891Z"
   },
   {
    "duration": 121,
    "start_time": "2024-11-28T16:53:31.479Z"
   },
   {
    "duration": 553,
    "start_time": "2024-11-28T16:53:41.857Z"
   },
   {
    "duration": 7,
    "start_time": "2024-11-28T16:57:59.850Z"
   },
   {
    "duration": 458,
    "start_time": "2024-11-28T16:58:00.202Z"
   },
   {
    "duration": 6,
    "start_time": "2024-11-28T17:00:00.220Z"
   },
   {
    "duration": 149,
    "start_time": "2024-11-28T17:00:01.318Z"
   },
   {
    "duration": 5,
    "start_time": "2024-11-28T17:00:28.255Z"
   },
   {
    "duration": 456,
    "start_time": "2024-11-28T17:00:28.744Z"
   },
   {
    "duration": 1026,
    "start_time": "2024-11-28T17:02:18.867Z"
   },
   {
    "duration": 385,
    "start_time": "2024-11-28T17:02:19.895Z"
   },
   {
    "duration": 937,
    "start_time": "2024-11-28T17:02:20.282Z"
   },
   {
    "duration": 75,
    "start_time": "2024-11-28T17:02:21.221Z"
   },
   {
    "duration": 252,
    "start_time": "2024-11-28T17:02:21.297Z"
   },
   {
    "duration": 331,
    "start_time": "2024-11-28T17:02:21.551Z"
   },
   {
    "duration": 183,
    "start_time": "2024-11-28T17:02:21.884Z"
   },
   {
    "duration": 389,
    "start_time": "2024-11-28T17:02:22.068Z"
   },
   {
    "duration": 117,
    "start_time": "2024-11-28T17:02:22.459Z"
   },
   {
    "duration": 52,
    "start_time": "2024-11-28T17:02:22.579Z"
   },
   {
    "duration": 21,
    "start_time": "2024-11-28T17:02:22.633Z"
   },
   {
    "duration": 80,
    "start_time": "2024-11-28T17:02:22.656Z"
   },
   {
    "duration": 64,
    "start_time": "2024-11-28T17:02:22.737Z"
   },
   {
    "duration": 18,
    "start_time": "2024-11-28T17:02:22.802Z"
   },
   {
    "duration": 13,
    "start_time": "2024-11-28T17:02:22.822Z"
   },
   {
    "duration": 452,
    "start_time": "2024-11-28T17:02:22.836Z"
   },
   {
    "duration": 30,
    "start_time": "2024-11-28T17:02:23.289Z"
   },
   {
    "duration": 4,
    "start_time": "2024-11-28T17:02:23.320Z"
   },
   {
    "duration": 38,
    "start_time": "2024-11-28T17:02:23.326Z"
   },
   {
    "duration": 141,
    "start_time": "2024-11-28T17:02:23.366Z"
   },
   {
    "duration": 70,
    "start_time": "2024-11-28T17:02:23.508Z"
   },
   {
    "duration": 38,
    "start_time": "2024-11-28T17:02:23.581Z"
   },
   {
    "duration": 63,
    "start_time": "2024-11-28T17:02:23.621Z"
   },
   {
    "duration": 179,
    "start_time": "2024-11-28T17:02:23.686Z"
   },
   {
    "duration": 147,
    "start_time": "2024-11-28T17:02:23.866Z"
   },
   {
    "duration": 5,
    "start_time": "2024-11-28T17:02:24.018Z"
   },
   {
    "duration": 106,
    "start_time": "2024-11-28T17:02:24.024Z"
   },
   {
    "duration": 32,
    "start_time": "2024-11-28T17:02:24.133Z"
   },
   {
    "duration": 70,
    "start_time": "2024-11-28T17:02:24.167Z"
   },
   {
    "duration": 56,
    "start_time": "2024-11-28T17:02:24.239Z"
   },
   {
    "duration": 74,
    "start_time": "2024-11-28T17:02:24.296Z"
   },
   {
    "duration": 158,
    "start_time": "2024-11-28T17:02:24.371Z"
   },
   {
    "duration": 106,
    "start_time": "2024-11-28T17:02:24.530Z"
   },
   {
    "duration": 0,
    "start_time": "2024-11-28T17:02:24.638Z"
   },
   {
    "duration": 0,
    "start_time": "2024-11-28T17:02:24.639Z"
   },
   {
    "duration": 11,
    "start_time": "2024-11-28T17:03:02.073Z"
   },
   {
    "duration": 12,
    "start_time": "2024-11-28T17:03:42.604Z"
   },
   {
    "duration": 135,
    "start_time": "2024-11-28T17:04:35.736Z"
   },
   {
    "duration": 117,
    "start_time": "2024-11-28T17:04:47.816Z"
   },
   {
    "duration": 116,
    "start_time": "2024-11-28T17:05:08.046Z"
   },
   {
    "duration": 6,
    "start_time": "2024-11-28T17:05:11.647Z"
   },
   {
    "duration": 486,
    "start_time": "2024-11-28T17:05:12.450Z"
   },
   {
    "duration": 1098,
    "start_time": "2024-11-28T17:05:28.198Z"
   },
   {
    "duration": 356,
    "start_time": "2024-11-28T17:05:29.298Z"
   },
   {
    "duration": 964,
    "start_time": "2024-11-28T17:05:29.656Z"
   },
   {
    "duration": 73,
    "start_time": "2024-11-28T17:05:30.622Z"
   },
   {
    "duration": 200,
    "start_time": "2024-11-28T17:05:30.696Z"
   },
   {
    "duration": 259,
    "start_time": "2024-11-28T17:05:30.898Z"
   },
   {
    "duration": 184,
    "start_time": "2024-11-28T17:05:31.159Z"
   },
   {
    "duration": 406,
    "start_time": "2024-11-28T17:05:31.345Z"
   },
   {
    "duration": 115,
    "start_time": "2024-11-28T17:05:31.753Z"
   },
   {
    "duration": 63,
    "start_time": "2024-11-28T17:05:31.871Z"
   },
   {
    "duration": 22,
    "start_time": "2024-11-28T17:05:31.935Z"
   },
   {
    "duration": 75,
    "start_time": "2024-11-28T17:05:31.959Z"
   },
   {
    "duration": 65,
    "start_time": "2024-11-28T17:05:32.035Z"
   },
   {
    "duration": 19,
    "start_time": "2024-11-28T17:05:32.101Z"
   },
   {
    "duration": 15,
    "start_time": "2024-11-28T17:05:32.121Z"
   },
   {
    "duration": 436,
    "start_time": "2024-11-28T17:05:32.138Z"
   },
   {
    "duration": 20,
    "start_time": "2024-11-28T17:05:32.576Z"
   },
   {
    "duration": 16,
    "start_time": "2024-11-28T17:05:32.598Z"
   },
   {
    "duration": 25,
    "start_time": "2024-11-28T17:05:32.617Z"
   },
   {
    "duration": 123,
    "start_time": "2024-11-28T17:05:32.643Z"
   },
   {
    "duration": 61,
    "start_time": "2024-11-28T17:05:32.767Z"
   },
   {
    "duration": 22,
    "start_time": "2024-11-28T17:05:32.830Z"
   },
   {
    "duration": 68,
    "start_time": "2024-11-28T17:05:32.854Z"
   },
   {
    "duration": 186,
    "start_time": "2024-11-28T17:05:32.923Z"
   },
   {
    "duration": 152,
    "start_time": "2024-11-28T17:05:33.117Z"
   },
   {
    "duration": 5,
    "start_time": "2024-11-28T17:05:33.271Z"
   },
   {
    "duration": 131,
    "start_time": "2024-11-28T17:05:33.278Z"
   },
   {
    "duration": 34,
    "start_time": "2024-11-28T17:05:33.417Z"
   },
   {
    "duration": 70,
    "start_time": "2024-11-28T17:05:33.453Z"
   },
   {
    "duration": 67,
    "start_time": "2024-11-28T17:05:33.525Z"
   },
   {
    "duration": 80,
    "start_time": "2024-11-28T17:05:33.594Z"
   },
   {
    "duration": 182,
    "start_time": "2024-11-28T17:05:33.675Z"
   },
   {
    "duration": 118,
    "start_time": "2024-11-28T17:05:33.859Z"
   },
   {
    "duration": 5,
    "start_time": "2024-11-28T17:05:33.979Z"
   },
   {
    "duration": 465,
    "start_time": "2024-11-28T17:05:33.986Z"
   },
   {
    "duration": 425,
    "start_time": "2024-11-28T17:13:37.712Z"
   },
   {
    "duration": 479,
    "start_time": "2024-11-28T17:14:25.303Z"
   },
   {
    "duration": 1058,
    "start_time": "2024-11-28T17:18:58.541Z"
   },
   {
    "duration": 365,
    "start_time": "2024-11-28T17:18:59.602Z"
   },
   {
    "duration": 897,
    "start_time": "2024-11-28T17:18:59.969Z"
   },
   {
    "duration": 85,
    "start_time": "2024-11-28T17:19:00.868Z"
   },
   {
    "duration": 218,
    "start_time": "2024-11-28T17:19:00.955Z"
   },
   {
    "duration": 263,
    "start_time": "2024-11-28T17:19:01.174Z"
   },
   {
    "duration": 186,
    "start_time": "2024-11-28T17:19:01.439Z"
   },
   {
    "duration": 395,
    "start_time": "2024-11-28T17:19:01.627Z"
   },
   {
    "duration": 119,
    "start_time": "2024-11-28T17:19:02.024Z"
   },
   {
    "duration": 44,
    "start_time": "2024-11-28T17:19:02.146Z"
   },
   {
    "duration": 33,
    "start_time": "2024-11-28T17:19:02.192Z"
   },
   {
    "duration": 96,
    "start_time": "2024-11-28T17:19:02.226Z"
   },
   {
    "duration": 65,
    "start_time": "2024-11-28T17:19:02.323Z"
   },
   {
    "duration": 4,
    "start_time": "2024-11-28T17:19:02.390Z"
   },
   {
    "duration": 30,
    "start_time": "2024-11-28T17:19:02.396Z"
   },
   {
    "duration": 479,
    "start_time": "2024-11-28T17:19:02.428Z"
   },
   {
    "duration": 28,
    "start_time": "2024-11-28T17:19:02.909Z"
   },
   {
    "duration": 14,
    "start_time": "2024-11-28T17:19:02.939Z"
   },
   {
    "duration": 8,
    "start_time": "2024-11-28T17:19:02.955Z"
   },
   {
    "duration": 139,
    "start_time": "2024-11-28T17:19:02.964Z"
   },
   {
    "duration": 63,
    "start_time": "2024-11-28T17:19:03.104Z"
   },
   {
    "duration": 26,
    "start_time": "2024-11-28T17:19:03.168Z"
   },
   {
    "duration": 73,
    "start_time": "2024-11-28T17:19:03.195Z"
   },
   {
    "duration": 174,
    "start_time": "2024-11-28T17:19:03.269Z"
   },
   {
    "duration": 146,
    "start_time": "2024-11-28T17:19:03.445Z"
   },
   {
    "duration": 5,
    "start_time": "2024-11-28T17:19:03.593Z"
   },
   {
    "duration": 138,
    "start_time": "2024-11-28T17:19:03.599Z"
   },
   {
    "duration": 33,
    "start_time": "2024-11-28T17:19:03.741Z"
   },
   {
    "duration": 75,
    "start_time": "2024-11-28T17:19:03.776Z"
   },
   {
    "duration": 71,
    "start_time": "2024-11-28T17:19:03.853Z"
   },
   {
    "duration": 61,
    "start_time": "2024-11-28T17:19:03.926Z"
   },
   {
    "duration": 199,
    "start_time": "2024-11-28T17:19:03.989Z"
   },
   {
    "duration": 141,
    "start_time": "2024-11-28T17:19:04.190Z"
   },
   {
    "duration": 7,
    "start_time": "2024-11-28T17:19:04.333Z"
   },
   {
    "duration": 500,
    "start_time": "2024-11-28T17:19:04.341Z"
   },
   {
    "duration": 499,
    "start_time": "2024-11-28T17:19:04.843Z"
   },
   {
    "duration": 494,
    "start_time": "2024-11-28T17:19:05.344Z"
   },
   {
    "duration": 406,
    "start_time": "2024-11-28T17:23:22.551Z"
   },
   {
    "duration": 454,
    "start_time": "2024-11-28T17:23:49.167Z"
   },
   {
    "duration": 491,
    "start_time": "2024-11-28T17:23:51.403Z"
   },
   {
    "duration": 16,
    "start_time": "2024-11-28T17:25:24.944Z"
   },
   {
    "duration": 280,
    "start_time": "2024-11-28T17:25:33.079Z"
   },
   {
    "duration": 7,
    "start_time": "2024-11-28T17:30:51.703Z"
   },
   {
    "duration": 1060,
    "start_time": "2024-11-28T17:30:57.717Z"
   },
   {
    "duration": 388,
    "start_time": "2024-11-28T17:30:58.779Z"
   },
   {
    "duration": 894,
    "start_time": "2024-11-28T17:30:59.169Z"
   },
   {
    "duration": 79,
    "start_time": "2024-11-28T17:31:00.065Z"
   },
   {
    "duration": 207,
    "start_time": "2024-11-28T17:31:00.145Z"
   },
   {
    "duration": 271,
    "start_time": "2024-11-28T17:31:00.354Z"
   },
   {
    "duration": 199,
    "start_time": "2024-11-28T17:31:00.627Z"
   },
   {
    "duration": 392,
    "start_time": "2024-11-28T17:31:00.828Z"
   },
   {
    "duration": 119,
    "start_time": "2024-11-28T17:31:01.222Z"
   },
   {
    "duration": 45,
    "start_time": "2024-11-28T17:31:01.344Z"
   },
   {
    "duration": 35,
    "start_time": "2024-11-28T17:31:01.391Z"
   },
   {
    "duration": 65,
    "start_time": "2024-11-28T17:31:01.428Z"
   },
   {
    "duration": 75,
    "start_time": "2024-11-28T17:31:01.494Z"
   },
   {
    "duration": 4,
    "start_time": "2024-11-28T17:31:01.571Z"
   },
   {
    "duration": 13,
    "start_time": "2024-11-28T17:31:01.577Z"
   },
   {
    "duration": 456,
    "start_time": "2024-11-28T17:31:01.591Z"
   },
   {
    "duration": 21,
    "start_time": "2024-11-28T17:31:02.048Z"
   },
   {
    "duration": 11,
    "start_time": "2024-11-28T17:31:02.071Z"
   },
   {
    "duration": 19,
    "start_time": "2024-11-28T17:31:02.084Z"
   },
   {
    "duration": 131,
    "start_time": "2024-11-28T17:31:02.104Z"
   },
   {
    "duration": 65,
    "start_time": "2024-11-28T17:31:02.237Z"
   },
   {
    "duration": 25,
    "start_time": "2024-11-28T17:31:02.317Z"
   },
   {
    "duration": 76,
    "start_time": "2024-11-28T17:31:02.343Z"
   },
   {
    "duration": 179,
    "start_time": "2024-11-28T17:31:02.420Z"
   },
   {
    "duration": 150,
    "start_time": "2024-11-28T17:31:02.600Z"
   },
   {
    "duration": 5,
    "start_time": "2024-11-28T17:31:02.751Z"
   },
   {
    "duration": 124,
    "start_time": "2024-11-28T17:31:02.757Z"
   },
   {
    "duration": 36,
    "start_time": "2024-11-28T17:31:02.883Z"
   },
   {
    "duration": 61,
    "start_time": "2024-11-28T17:31:02.921Z"
   },
   {
    "duration": 87,
    "start_time": "2024-11-28T17:31:02.983Z"
   },
   {
    "duration": 70,
    "start_time": "2024-11-28T17:31:03.072Z"
   },
   {
    "duration": 161,
    "start_time": "2024-11-28T17:31:03.144Z"
   },
   {
    "duration": 107,
    "start_time": "2024-11-28T17:31:03.318Z"
   },
   {
    "duration": 6,
    "start_time": "2024-11-28T17:31:03.427Z"
   },
   {
    "duration": 504,
    "start_time": "2024-11-28T17:31:03.435Z"
   },
   {
    "duration": 471,
    "start_time": "2024-11-28T17:31:03.941Z"
   },
   {
    "duration": 439,
    "start_time": "2024-11-28T17:31:04.418Z"
   },
   {
    "duration": 13,
    "start_time": "2024-11-28T17:31:04.859Z"
   },
   {
    "duration": 720,
    "start_time": "2024-11-28T17:31:04.874Z"
   },
   {
    "duration": 677,
    "start_time": "2024-11-28T17:32:32.427Z"
   },
   {
    "duration": 1071,
    "start_time": "2024-11-28T18:14:34.392Z"
   },
   {
    "duration": 392,
    "start_time": "2024-11-28T18:14:35.465Z"
   },
   {
    "duration": 961,
    "start_time": "2024-11-28T18:14:35.859Z"
   },
   {
    "duration": 72,
    "start_time": "2024-11-28T18:14:36.822Z"
   },
   {
    "duration": 197,
    "start_time": "2024-11-28T18:14:36.896Z"
   },
   {
    "duration": 262,
    "start_time": "2024-11-28T18:14:37.095Z"
   },
   {
    "duration": 185,
    "start_time": "2024-11-28T18:14:37.359Z"
   },
   {
    "duration": 412,
    "start_time": "2024-11-28T18:14:37.546Z"
   },
   {
    "duration": 134,
    "start_time": "2024-11-28T18:14:37.960Z"
   },
   {
    "duration": 61,
    "start_time": "2024-11-28T18:14:38.097Z"
   },
   {
    "duration": 21,
    "start_time": "2024-11-28T18:14:38.160Z"
   },
   {
    "duration": 87,
    "start_time": "2024-11-28T18:14:38.183Z"
   },
   {
    "duration": 79,
    "start_time": "2024-11-28T18:14:38.271Z"
   },
   {
    "duration": 4,
    "start_time": "2024-11-28T18:14:38.352Z"
   },
   {
    "duration": 23,
    "start_time": "2024-11-28T18:14:38.357Z"
   },
   {
    "duration": 441,
    "start_time": "2024-11-28T18:14:38.382Z"
   },
   {
    "duration": 21,
    "start_time": "2024-11-28T18:14:38.824Z"
   },
   {
    "duration": 4,
    "start_time": "2024-11-28T18:14:38.846Z"
   },
   {
    "duration": 7,
    "start_time": "2024-11-28T18:14:38.852Z"
   },
   {
    "duration": 140,
    "start_time": "2024-11-28T18:14:38.860Z"
   },
   {
    "duration": 65,
    "start_time": "2024-11-28T18:14:39.002Z"
   },
   {
    "duration": 28,
    "start_time": "2024-11-28T18:14:39.070Z"
   },
   {
    "duration": 75,
    "start_time": "2024-11-28T18:14:39.100Z"
   },
   {
    "duration": 199,
    "start_time": "2024-11-28T18:14:39.176Z"
   },
   {
    "duration": 179,
    "start_time": "2024-11-28T18:14:39.377Z"
   },
   {
    "duration": 5,
    "start_time": "2024-11-28T18:14:39.558Z"
   },
   {
    "duration": 120,
    "start_time": "2024-11-28T18:14:39.564Z"
   },
   {
    "duration": 42,
    "start_time": "2024-11-28T18:14:39.688Z"
   },
   {
    "duration": 66,
    "start_time": "2024-11-28T18:14:39.732Z"
   },
   {
    "duration": 72,
    "start_time": "2024-11-28T18:14:39.800Z"
   },
   {
    "duration": 78,
    "start_time": "2024-11-28T18:14:39.873Z"
   },
   {
    "duration": 166,
    "start_time": "2024-11-28T18:14:39.952Z"
   },
   {
    "duration": 118,
    "start_time": "2024-11-28T18:14:40.119Z"
   },
   {
    "duration": 6,
    "start_time": "2024-11-28T18:14:40.239Z"
   },
   {
    "duration": 474,
    "start_time": "2024-11-28T18:14:40.247Z"
   },
   {
    "duration": 469,
    "start_time": "2024-11-28T18:14:40.723Z"
   },
   {
    "duration": 509,
    "start_time": "2024-11-28T18:14:41.194Z"
   },
   {
    "duration": 22,
    "start_time": "2024-11-28T18:14:41.705Z"
   },
   {
    "duration": 670,
    "start_time": "2024-11-28T18:14:41.728Z"
   },
   {
    "duration": 980,
    "start_time": "2024-11-29T10:32:38.099Z"
   },
   {
    "duration": 939,
    "start_time": "2024-11-29T10:32:39.081Z"
   },
   {
    "duration": 751,
    "start_time": "2024-11-29T10:32:40.022Z"
   },
   {
    "duration": 49,
    "start_time": "2024-11-29T10:32:40.776Z"
   },
   {
    "duration": 158,
    "start_time": "2024-11-29T10:32:40.826Z"
   },
   {
    "duration": 206,
    "start_time": "2024-11-29T10:32:40.985Z"
   },
   {
    "duration": 149,
    "start_time": "2024-11-29T10:32:41.192Z"
   },
   {
    "duration": 399,
    "start_time": "2024-11-29T10:32:41.342Z"
   },
   {
    "duration": 105,
    "start_time": "2024-11-29T10:32:41.743Z"
   },
   {
    "duration": 44,
    "start_time": "2024-11-29T10:32:41.850Z"
   },
   {
    "duration": 14,
    "start_time": "2024-11-29T10:32:41.896Z"
   },
   {
    "duration": 62,
    "start_time": "2024-11-29T10:32:41.911Z"
   },
   {
    "duration": 50,
    "start_time": "2024-11-29T10:32:41.974Z"
   },
   {
    "duration": 4,
    "start_time": "2024-11-29T10:32:42.025Z"
   },
   {
    "duration": 9,
    "start_time": "2024-11-29T10:32:42.030Z"
   },
   {
    "duration": 399,
    "start_time": "2024-11-29T10:32:42.040Z"
   },
   {
    "duration": 31,
    "start_time": "2024-11-29T10:32:42.440Z"
   },
   {
    "duration": 4,
    "start_time": "2024-11-29T10:32:42.473Z"
   },
   {
    "duration": 5,
    "start_time": "2024-11-29T10:32:42.479Z"
   },
   {
    "duration": 112,
    "start_time": "2024-11-29T10:32:42.486Z"
   },
   {
    "duration": 41,
    "start_time": "2024-11-29T10:32:42.600Z"
   },
   {
    "duration": 33,
    "start_time": "2024-11-29T10:32:42.643Z"
   },
   {
    "duration": 40,
    "start_time": "2024-11-29T10:32:42.677Z"
   },
   {
    "duration": 156,
    "start_time": "2024-11-29T10:32:42.718Z"
   },
   {
    "duration": 127,
    "start_time": "2024-11-29T10:32:42.875Z"
   },
   {
    "duration": 4,
    "start_time": "2024-11-29T10:32:43.004Z"
   },
   {
    "duration": 99,
    "start_time": "2024-11-29T10:32:43.010Z"
   },
   {
    "duration": 24,
    "start_time": "2024-11-29T10:32:43.113Z"
   },
   {
    "duration": 50,
    "start_time": "2024-11-29T10:32:43.138Z"
   },
   {
    "duration": 39,
    "start_time": "2024-11-29T10:32:43.189Z"
   },
   {
    "duration": 65,
    "start_time": "2024-11-29T10:32:43.230Z"
   },
   {
    "duration": 119,
    "start_time": "2024-11-29T10:32:43.296Z"
   },
   {
    "duration": 101,
    "start_time": "2024-11-29T10:32:43.417Z"
   },
   {
    "duration": 6,
    "start_time": "2024-11-29T10:32:43.520Z"
   },
   {
    "duration": 348,
    "start_time": "2024-11-29T10:32:43.527Z"
   },
   {
    "duration": 308,
    "start_time": "2024-11-29T10:32:43.877Z"
   },
   {
    "duration": 335,
    "start_time": "2024-11-29T10:32:44.186Z"
   },
   {
    "duration": 9,
    "start_time": "2024-11-29T10:32:44.522Z"
   },
   {
    "duration": 484,
    "start_time": "2024-11-29T10:32:44.533Z"
   },
   {
    "duration": 90,
    "start_time": "2024-11-29T10:43:08.022Z"
   },
   {
    "duration": 1042,
    "start_time": "2024-11-29T10:46:56.345Z"
   },
   {
    "duration": 323,
    "start_time": "2024-11-29T10:46:57.389Z"
   },
   {
    "duration": 776,
    "start_time": "2024-11-29T10:46:57.714Z"
   },
   {
    "duration": 52,
    "start_time": "2024-11-29T10:46:58.493Z"
   },
   {
    "duration": 180,
    "start_time": "2024-11-29T10:46:58.547Z"
   },
   {
    "duration": 210,
    "start_time": "2024-11-29T10:46:58.728Z"
   },
   {
    "duration": 148,
    "start_time": "2024-11-29T10:46:58.939Z"
   },
   {
    "duration": 408,
    "start_time": "2024-11-29T10:46:59.089Z"
   },
   {
    "duration": 101,
    "start_time": "2024-11-29T10:46:59.498Z"
   },
   {
    "duration": 31,
    "start_time": "2024-11-29T10:46:59.603Z"
   },
   {
    "duration": 35,
    "start_time": "2024-11-29T10:46:59.635Z"
   },
   {
    "duration": 65,
    "start_time": "2024-11-29T10:46:59.672Z"
   },
   {
    "duration": 73,
    "start_time": "2024-11-29T10:46:59.739Z"
   },
   {
    "duration": 5,
    "start_time": "2024-11-29T10:46:59.813Z"
   },
   {
    "duration": 4,
    "start_time": "2024-11-29T10:46:59.819Z"
   },
   {
    "duration": 450,
    "start_time": "2024-11-29T10:46:59.825Z"
   },
   {
    "duration": 23,
    "start_time": "2024-11-29T10:47:00.277Z"
   },
   {
    "duration": 30,
    "start_time": "2024-11-29T10:47:00.302Z"
   },
   {
    "duration": 19,
    "start_time": "2024-11-29T10:47:00.334Z"
   },
   {
    "duration": 155,
    "start_time": "2024-11-29T10:47:00.355Z"
   },
   {
    "duration": 64,
    "start_time": "2024-11-29T10:47:00.511Z"
   },
   {
    "duration": 31,
    "start_time": "2024-11-29T10:47:00.576Z"
   },
   {
    "duration": 65,
    "start_time": "2024-11-29T10:47:00.608Z"
   },
   {
    "duration": 138,
    "start_time": "2024-11-29T10:47:00.676Z"
   },
   {
    "duration": 136,
    "start_time": "2024-11-29T10:47:00.816Z"
   },
   {
    "duration": 13,
    "start_time": "2024-11-29T10:47:00.953Z"
   },
   {
    "duration": 89,
    "start_time": "2024-11-29T10:47:00.974Z"
   },
   {
    "duration": 32,
    "start_time": "2024-11-29T10:47:01.066Z"
   },
   {
    "duration": 44,
    "start_time": "2024-11-29T10:47:01.100Z"
   },
   {
    "duration": 63,
    "start_time": "2024-11-29T10:47:01.145Z"
   },
   {
    "duration": 65,
    "start_time": "2024-11-29T10:47:01.209Z"
   },
   {
    "duration": 119,
    "start_time": "2024-11-29T10:47:01.278Z"
   },
   {
    "duration": 85,
    "start_time": "2024-11-29T10:47:01.398Z"
   },
   {
    "duration": 9,
    "start_time": "2024-11-29T10:47:01.485Z"
   },
   {
    "duration": 380,
    "start_time": "2024-11-29T10:47:01.495Z"
   },
   {
    "duration": 311,
    "start_time": "2024-11-29T10:47:01.877Z"
   },
   {
    "duration": 347,
    "start_time": "2024-11-29T10:47:02.189Z"
   },
   {
    "duration": 28,
    "start_time": "2024-11-29T10:47:02.537Z"
   },
   {
    "duration": 499,
    "start_time": "2024-11-29T10:47:02.576Z"
   },
   {
    "duration": 12,
    "start_time": "2024-11-29T12:43:59.325Z"
   },
   {
    "duration": 3,
    "start_time": "2024-11-29T12:44:08.720Z"
   },
   {
    "duration": 348,
    "start_time": "2024-11-29T12:44:08.725Z"
   },
   {
    "duration": 1142,
    "start_time": "2024-11-29T12:44:09.076Z"
   },
   {
    "duration": 91,
    "start_time": "2024-11-29T12:44:10.220Z"
   },
   {
    "duration": 226,
    "start_time": "2024-11-29T12:44:10.313Z"
   },
   {
    "duration": 290,
    "start_time": "2024-11-29T12:44:10.541Z"
   },
   {
    "duration": 222,
    "start_time": "2024-11-29T12:44:10.832Z"
   },
   {
    "duration": 436,
    "start_time": "2024-11-29T12:44:11.055Z"
   },
   {
    "duration": 129,
    "start_time": "2024-11-29T12:44:11.493Z"
   },
   {
    "duration": 46,
    "start_time": "2024-11-29T12:44:11.624Z"
   },
   {
    "duration": 40,
    "start_time": "2024-11-29T12:44:11.672Z"
   },
   {
    "duration": 67,
    "start_time": "2024-11-29T12:44:11.713Z"
   },
   {
    "duration": 74,
    "start_time": "2024-11-29T12:44:11.781Z"
   },
   {
    "duration": 5,
    "start_time": "2024-11-29T12:44:11.857Z"
   },
   {
    "duration": 10,
    "start_time": "2024-11-29T12:44:11.863Z"
   },
   {
    "duration": 364,
    "start_time": "2024-11-29T12:44:11.874Z"
   },
   {
    "duration": 28,
    "start_time": "2024-11-29T12:44:12.240Z"
   },
   {
    "duration": 4,
    "start_time": "2024-11-29T12:44:12.270Z"
   },
   {
    "duration": 24,
    "start_time": "2024-11-29T12:44:12.275Z"
   },
   {
    "duration": 134,
    "start_time": "2024-11-29T12:44:12.300Z"
   },
   {
    "duration": 70,
    "start_time": "2024-11-29T12:44:12.436Z"
   },
   {
    "duration": 25,
    "start_time": "2024-11-29T12:44:12.508Z"
   },
   {
    "duration": 70,
    "start_time": "2024-11-29T12:44:12.535Z"
   },
   {
    "duration": 169,
    "start_time": "2024-11-29T12:44:12.607Z"
   },
   {
    "duration": 152,
    "start_time": "2024-11-29T12:44:12.777Z"
   },
   {
    "duration": 5,
    "start_time": "2024-11-29T12:44:12.931Z"
   },
   {
    "duration": 109,
    "start_time": "2024-11-29T12:44:12.937Z"
   },
   {
    "duration": 51,
    "start_time": "2024-11-29T12:44:13.047Z"
   },
   {
    "duration": 63,
    "start_time": "2024-11-29T12:44:13.099Z"
   },
   {
    "duration": 70,
    "start_time": "2024-11-29T12:44:13.163Z"
   },
   {
    "duration": 69,
    "start_time": "2024-11-29T12:44:13.235Z"
   },
   {
    "duration": 173,
    "start_time": "2024-11-29T12:44:13.306Z"
   },
   {
    "duration": 128,
    "start_time": "2024-11-29T12:44:13.481Z"
   },
   {
    "duration": 7,
    "start_time": "2024-11-29T12:44:13.611Z"
   },
   {
    "duration": 509,
    "start_time": "2024-11-29T12:44:13.620Z"
   },
   {
    "duration": 502,
    "start_time": "2024-11-29T12:44:14.130Z"
   },
   {
    "duration": 513,
    "start_time": "2024-11-29T12:44:14.634Z"
   },
   {
    "duration": 18,
    "start_time": "2024-11-29T12:44:15.148Z"
   },
   {
    "duration": 777,
    "start_time": "2024-11-29T12:44:15.168Z"
   },
   {
    "duration": 1112,
    "start_time": "2024-11-29T12:51:16.993Z"
   },
   {
    "duration": 398,
    "start_time": "2024-11-29T12:51:18.107Z"
   },
   {
    "duration": 965,
    "start_time": "2024-11-29T12:51:18.507Z"
   },
   {
    "duration": 81,
    "start_time": "2024-11-29T12:51:19.474Z"
   },
   {
    "duration": 196,
    "start_time": "2024-11-29T12:51:19.557Z"
   },
   {
    "duration": 269,
    "start_time": "2024-11-29T12:51:19.754Z"
   },
   {
    "duration": 194,
    "start_time": "2024-11-29T12:51:20.024Z"
   },
   {
    "duration": 405,
    "start_time": "2024-11-29T12:51:20.220Z"
   },
   {
    "duration": 125,
    "start_time": "2024-11-29T12:51:20.627Z"
   },
   {
    "duration": 51,
    "start_time": "2024-11-29T12:51:20.755Z"
   },
   {
    "duration": 39,
    "start_time": "2024-11-29T12:51:20.808Z"
   },
   {
    "duration": 96,
    "start_time": "2024-11-29T12:51:20.848Z"
   },
   {
    "duration": 68,
    "start_time": "2024-11-29T12:51:20.946Z"
   },
   {
    "duration": 5,
    "start_time": "2024-11-29T12:51:21.015Z"
   },
   {
    "duration": 28,
    "start_time": "2024-11-29T12:51:21.021Z"
   },
   {
    "duration": 49,
    "start_time": "2024-11-29T12:55:21.106Z"
   },
   {
    "duration": 1125,
    "start_time": "2024-11-29T12:55:30.084Z"
   },
   {
    "duration": 1150,
    "start_time": "2024-11-29T12:55:31.211Z"
   },
   {
    "duration": 929,
    "start_time": "2024-11-29T12:55:32.363Z"
   },
   {
    "duration": 79,
    "start_time": "2024-11-29T12:55:33.298Z"
   },
   {
    "duration": 220,
    "start_time": "2024-11-29T12:55:33.378Z"
   },
   {
    "duration": 271,
    "start_time": "2024-11-29T12:55:33.600Z"
   },
   {
    "duration": 210,
    "start_time": "2024-11-29T12:55:33.872Z"
   },
   {
    "duration": 405,
    "start_time": "2024-11-29T12:55:34.084Z"
   },
   {
    "duration": 122,
    "start_time": "2024-11-29T12:55:34.490Z"
   },
   {
    "duration": 47,
    "start_time": "2024-11-29T12:55:34.615Z"
   },
   {
    "duration": 38,
    "start_time": "2024-11-29T12:55:34.663Z"
   },
   {
    "duration": 72,
    "start_time": "2024-11-29T12:55:34.703Z"
   },
   {
    "duration": 82,
    "start_time": "2024-11-29T12:55:34.777Z"
   },
   {
    "duration": 5,
    "start_time": "2024-11-29T12:55:34.861Z"
   },
   {
    "duration": 6,
    "start_time": "2024-11-29T12:55:34.868Z"
   },
   {
    "duration": 50,
    "start_time": "2024-11-29T12:59:11.968Z"
   },
   {
    "duration": 1111,
    "start_time": "2024-11-29T12:59:33.462Z"
   },
   {
    "duration": 1122,
    "start_time": "2024-11-29T12:59:34.575Z"
   },
   {
    "duration": 922,
    "start_time": "2024-11-29T12:59:35.699Z"
   },
   {
    "duration": 87,
    "start_time": "2024-11-29T12:59:36.622Z"
   },
   {
    "duration": 207,
    "start_time": "2024-11-29T12:59:36.711Z"
   },
   {
    "duration": 279,
    "start_time": "2024-11-29T12:59:36.919Z"
   },
   {
    "duration": 195,
    "start_time": "2024-11-29T12:59:37.199Z"
   },
   {
    "duration": 411,
    "start_time": "2024-11-29T12:59:37.397Z"
   },
   {
    "duration": 122,
    "start_time": "2024-11-29T12:59:37.810Z"
   },
   {
    "duration": 44,
    "start_time": "2024-11-29T12:59:37.934Z"
   },
   {
    "duration": 34,
    "start_time": "2024-11-29T12:59:37.980Z"
   },
   {
    "duration": 80,
    "start_time": "2024-11-29T12:59:38.016Z"
   },
   {
    "duration": 65,
    "start_time": "2024-11-29T12:59:38.097Z"
   },
   {
    "duration": 5,
    "start_time": "2024-11-29T12:59:38.165Z"
   },
   {
    "duration": 20,
    "start_time": "2024-11-29T12:59:38.171Z"
   },
   {
    "duration": 170,
    "start_time": "2024-11-29T12:59:38.193Z"
   },
   {
    "duration": 0,
    "start_time": "2024-11-29T12:59:38.364Z"
   },
   {
    "duration": 0,
    "start_time": "2024-11-29T12:59:38.366Z"
   },
   {
    "duration": 0,
    "start_time": "2024-11-29T12:59:38.367Z"
   },
   {
    "duration": 0,
    "start_time": "2024-11-29T12:59:38.368Z"
   },
   {
    "duration": 0,
    "start_time": "2024-11-29T12:59:38.369Z"
   },
   {
    "duration": 0,
    "start_time": "2024-11-29T12:59:38.370Z"
   },
   {
    "duration": 0,
    "start_time": "2024-11-29T12:59:38.371Z"
   },
   {
    "duration": 0,
    "start_time": "2024-11-29T12:59:38.372Z"
   },
   {
    "duration": 0,
    "start_time": "2024-11-29T12:59:38.373Z"
   },
   {
    "duration": 0,
    "start_time": "2024-11-29T12:59:38.374Z"
   },
   {
    "duration": 0,
    "start_time": "2024-11-29T12:59:38.375Z"
   },
   {
    "duration": 0,
    "start_time": "2024-11-29T12:59:38.376Z"
   },
   {
    "duration": 0,
    "start_time": "2024-11-29T12:59:38.397Z"
   },
   {
    "duration": 1,
    "start_time": "2024-11-29T12:59:38.398Z"
   },
   {
    "duration": 0,
    "start_time": "2024-11-29T12:59:38.399Z"
   },
   {
    "duration": 0,
    "start_time": "2024-11-29T12:59:38.400Z"
   },
   {
    "duration": 0,
    "start_time": "2024-11-29T12:59:38.402Z"
   },
   {
    "duration": 0,
    "start_time": "2024-11-29T12:59:38.403Z"
   },
   {
    "duration": 0,
    "start_time": "2024-11-29T12:59:38.404Z"
   },
   {
    "duration": 0,
    "start_time": "2024-11-29T12:59:38.405Z"
   },
   {
    "duration": 0,
    "start_time": "2024-11-29T12:59:38.406Z"
   },
   {
    "duration": 1,
    "start_time": "2024-11-29T12:59:38.407Z"
   },
   {
    "duration": 0,
    "start_time": "2024-11-29T12:59:38.408Z"
   },
   {
    "duration": 1112,
    "start_time": "2024-11-29T13:01:33.592Z"
   },
   {
    "duration": 384,
    "start_time": "2024-11-29T13:01:34.706Z"
   },
   {
    "duration": 939,
    "start_time": "2024-11-29T13:01:35.092Z"
   },
   {
    "duration": 83,
    "start_time": "2024-11-29T13:01:36.033Z"
   },
   {
    "duration": 214,
    "start_time": "2024-11-29T13:01:36.117Z"
   },
   {
    "duration": 272,
    "start_time": "2024-11-29T13:01:36.333Z"
   },
   {
    "duration": 198,
    "start_time": "2024-11-29T13:01:36.607Z"
   },
   {
    "duration": 403,
    "start_time": "2024-11-29T13:01:36.806Z"
   },
   {
    "duration": 129,
    "start_time": "2024-11-29T13:01:37.211Z"
   },
   {
    "duration": 55,
    "start_time": "2024-11-29T13:01:37.343Z"
   },
   {
    "duration": 31,
    "start_time": "2024-11-29T13:01:37.399Z"
   },
   {
    "duration": 87,
    "start_time": "2024-11-29T13:01:37.432Z"
   },
   {
    "duration": 65,
    "start_time": "2024-11-29T13:01:37.521Z"
   },
   {
    "duration": 5,
    "start_time": "2024-11-29T13:01:37.598Z"
   },
   {
    "duration": 27,
    "start_time": "2024-11-29T13:01:37.604Z"
   },
   {
    "duration": 95,
    "start_time": "2024-11-29T13:01:37.633Z"
   },
   {
    "duration": 0,
    "start_time": "2024-11-29T13:01:37.730Z"
   },
   {
    "duration": 0,
    "start_time": "2024-11-29T13:01:37.731Z"
   },
   {
    "duration": 0,
    "start_time": "2024-11-29T13:01:37.732Z"
   },
   {
    "duration": 0,
    "start_time": "2024-11-29T13:01:37.733Z"
   },
   {
    "duration": 0,
    "start_time": "2024-11-29T13:01:37.734Z"
   },
   {
    "duration": 0,
    "start_time": "2024-11-29T13:01:37.735Z"
   },
   {
    "duration": 0,
    "start_time": "2024-11-29T13:01:37.736Z"
   },
   {
    "duration": 0,
    "start_time": "2024-11-29T13:01:37.737Z"
   },
   {
    "duration": 0,
    "start_time": "2024-11-29T13:01:37.738Z"
   },
   {
    "duration": 0,
    "start_time": "2024-11-29T13:01:37.739Z"
   },
   {
    "duration": 0,
    "start_time": "2024-11-29T13:01:37.740Z"
   },
   {
    "duration": 0,
    "start_time": "2024-11-29T13:01:37.741Z"
   },
   {
    "duration": 0,
    "start_time": "2024-11-29T13:01:37.742Z"
   },
   {
    "duration": 0,
    "start_time": "2024-11-29T13:01:37.743Z"
   },
   {
    "duration": 0,
    "start_time": "2024-11-29T13:01:37.744Z"
   },
   {
    "duration": 0,
    "start_time": "2024-11-29T13:01:37.745Z"
   },
   {
    "duration": 0,
    "start_time": "2024-11-29T13:01:37.746Z"
   },
   {
    "duration": 0,
    "start_time": "2024-11-29T13:01:37.747Z"
   },
   {
    "duration": 0,
    "start_time": "2024-11-29T13:01:37.747Z"
   },
   {
    "duration": 0,
    "start_time": "2024-11-29T13:01:37.749Z"
   },
   {
    "duration": 0,
    "start_time": "2024-11-29T13:01:37.750Z"
   },
   {
    "duration": 0,
    "start_time": "2024-11-29T13:01:37.751Z"
   },
   {
    "duration": 0,
    "start_time": "2024-11-29T13:01:37.751Z"
   },
   {
    "duration": 0,
    "start_time": "2024-11-29T13:01:37.752Z"
   },
   {
    "duration": 4,
    "start_time": "2024-11-29T13:01:55.469Z"
   },
   {
    "duration": 367,
    "start_time": "2024-11-29T13:02:57.860Z"
   },
   {
    "duration": 15,
    "start_time": "2024-11-29T13:03:24.305Z"
   },
   {
    "duration": 12,
    "start_time": "2024-11-29T13:03:44.374Z"
   },
   {
    "duration": 1108,
    "start_time": "2024-11-29T13:04:04.763Z"
   },
   {
    "duration": 388,
    "start_time": "2024-11-29T13:04:05.872Z"
   },
   {
    "duration": 930,
    "start_time": "2024-11-29T13:04:06.262Z"
   },
   {
    "duration": 78,
    "start_time": "2024-11-29T13:04:07.194Z"
   },
   {
    "duration": 207,
    "start_time": "2024-11-29T13:04:07.274Z"
   },
   {
    "duration": 282,
    "start_time": "2024-11-29T13:04:07.483Z"
   },
   {
    "duration": 197,
    "start_time": "2024-11-29T13:04:07.766Z"
   },
   {
    "duration": 401,
    "start_time": "2024-11-29T13:04:07.964Z"
   },
   {
    "duration": 143,
    "start_time": "2024-11-29T13:04:08.367Z"
   },
   {
    "duration": 44,
    "start_time": "2024-11-29T13:04:08.514Z"
   },
   {
    "duration": 23,
    "start_time": "2024-11-29T13:04:08.560Z"
   },
   {
    "duration": 75,
    "start_time": "2024-11-29T13:04:08.598Z"
   },
   {
    "duration": 71,
    "start_time": "2024-11-29T13:04:08.674Z"
   },
   {
    "duration": 4,
    "start_time": "2024-11-29T13:04:08.747Z"
   },
   {
    "duration": 12,
    "start_time": "2024-11-29T13:04:08.753Z"
   },
   {
    "duration": 439,
    "start_time": "2024-11-29T13:04:08.766Z"
   },
   {
    "duration": 652,
    "start_time": "2024-11-29T13:04:09.207Z"
   },
   {
    "duration": 0,
    "start_time": "2024-11-29T13:04:09.861Z"
   },
   {
    "duration": 0,
    "start_time": "2024-11-29T13:04:09.863Z"
   },
   {
    "duration": 0,
    "start_time": "2024-11-29T13:04:09.864Z"
   },
   {
    "duration": 0,
    "start_time": "2024-11-29T13:04:09.865Z"
   },
   {
    "duration": 0,
    "start_time": "2024-11-29T13:04:09.866Z"
   },
   {
    "duration": 0,
    "start_time": "2024-11-29T13:04:09.866Z"
   },
   {
    "duration": 0,
    "start_time": "2024-11-29T13:04:09.868Z"
   },
   {
    "duration": 0,
    "start_time": "2024-11-29T13:04:09.869Z"
   },
   {
    "duration": 0,
    "start_time": "2024-11-29T13:04:09.870Z"
   },
   {
    "duration": 0,
    "start_time": "2024-11-29T13:04:09.871Z"
   },
   {
    "duration": 0,
    "start_time": "2024-11-29T13:04:09.872Z"
   },
   {
    "duration": 0,
    "start_time": "2024-11-29T13:04:09.873Z"
   },
   {
    "duration": 0,
    "start_time": "2024-11-29T13:04:09.874Z"
   },
   {
    "duration": 0,
    "start_time": "2024-11-29T13:04:09.876Z"
   },
   {
    "duration": 0,
    "start_time": "2024-11-29T13:04:09.877Z"
   },
   {
    "duration": 0,
    "start_time": "2024-11-29T13:04:09.878Z"
   },
   {
    "duration": 0,
    "start_time": "2024-11-29T13:04:09.879Z"
   },
   {
    "duration": 0,
    "start_time": "2024-11-29T13:04:09.880Z"
   },
   {
    "duration": 0,
    "start_time": "2024-11-29T13:04:09.881Z"
   },
   {
    "duration": 0,
    "start_time": "2024-11-29T13:04:09.882Z"
   },
   {
    "duration": 0,
    "start_time": "2024-11-29T13:04:09.883Z"
   },
   {
    "duration": 0,
    "start_time": "2024-11-29T13:04:09.884Z"
   },
   {
    "duration": 348,
    "start_time": "2024-11-29T13:04:48.708Z"
   },
   {
    "duration": 230,
    "start_time": "2024-11-29T13:04:56.875Z"
   },
   {
    "duration": 1180,
    "start_time": "2024-11-29T13:05:04.199Z"
   },
   {
    "duration": 398,
    "start_time": "2024-11-29T13:05:05.381Z"
   },
   {
    "duration": 943,
    "start_time": "2024-11-29T13:05:05.781Z"
   },
   {
    "duration": 84,
    "start_time": "2024-11-29T13:05:06.726Z"
   },
   {
    "duration": 206,
    "start_time": "2024-11-29T13:05:06.811Z"
   },
   {
    "duration": 279,
    "start_time": "2024-11-29T13:05:07.019Z"
   },
   {
    "duration": 194,
    "start_time": "2024-11-29T13:05:07.299Z"
   },
   {
    "duration": 430,
    "start_time": "2024-11-29T13:05:07.497Z"
   },
   {
    "duration": 129,
    "start_time": "2024-11-29T13:05:07.928Z"
   },
   {
    "duration": 56,
    "start_time": "2024-11-29T13:05:08.060Z"
   },
   {
    "duration": 22,
    "start_time": "2024-11-29T13:05:08.118Z"
   },
   {
    "duration": 81,
    "start_time": "2024-11-29T13:05:08.142Z"
   },
   {
    "duration": 79,
    "start_time": "2024-11-29T13:05:08.225Z"
   },
   {
    "duration": 5,
    "start_time": "2024-11-29T13:05:08.305Z"
   },
   {
    "duration": 23,
    "start_time": "2024-11-29T13:05:08.312Z"
   },
   {
    "duration": 369,
    "start_time": "2024-11-29T13:05:08.337Z"
   },
   {
    "duration": 24,
    "start_time": "2024-11-29T13:05:08.708Z"
   },
   {
    "duration": 4,
    "start_time": "2024-11-29T13:05:08.734Z"
   },
   {
    "duration": 30,
    "start_time": "2024-11-29T13:05:08.739Z"
   },
   {
    "duration": 149,
    "start_time": "2024-11-29T13:05:08.770Z"
   },
   {
    "duration": 63,
    "start_time": "2024-11-29T13:05:08.920Z"
   },
   {
    "duration": 25,
    "start_time": "2024-11-29T13:05:08.997Z"
   },
   {
    "duration": 59,
    "start_time": "2024-11-29T13:05:09.023Z"
   },
   {
    "duration": 200,
    "start_time": "2024-11-29T13:05:09.083Z"
   },
   {
    "duration": 162,
    "start_time": "2024-11-29T13:05:09.285Z"
   },
   {
    "duration": 6,
    "start_time": "2024-11-29T13:05:09.448Z"
   },
   {
    "duration": 113,
    "start_time": "2024-11-29T13:05:09.456Z"
   },
   {
    "duration": 46,
    "start_time": "2024-11-29T13:05:09.573Z"
   },
   {
    "duration": 78,
    "start_time": "2024-11-29T13:05:09.620Z"
   },
   {
    "duration": 67,
    "start_time": "2024-11-29T13:05:09.700Z"
   },
   {
    "duration": 89,
    "start_time": "2024-11-29T13:05:09.769Z"
   },
   {
    "duration": 184,
    "start_time": "2024-11-29T13:05:09.859Z"
   },
   {
    "duration": 131,
    "start_time": "2024-11-29T13:05:10.044Z"
   },
   {
    "duration": 6,
    "start_time": "2024-11-29T13:05:10.177Z"
   },
   {
    "duration": 578,
    "start_time": "2024-11-29T13:05:10.184Z"
   },
   {
    "duration": 475,
    "start_time": "2024-11-29T13:05:10.764Z"
   },
   {
    "duration": 469,
    "start_time": "2024-11-29T13:05:11.240Z"
   },
   {
    "duration": 14,
    "start_time": "2024-11-29T13:05:11.711Z"
   },
   {
    "duration": 759,
    "start_time": "2024-11-29T13:05:11.727Z"
   },
   {
    "duration": 441,
    "start_time": "2024-11-29T13:06:29.111Z"
   },
   {
    "duration": 1043,
    "start_time": "2024-11-29T13:06:42.607Z"
   },
   {
    "duration": 413,
    "start_time": "2024-11-29T13:06:43.652Z"
   },
   {
    "duration": 973,
    "start_time": "2024-11-29T13:06:44.066Z"
   },
   {
    "duration": 82,
    "start_time": "2024-11-29T13:06:45.041Z"
   },
   {
    "duration": 226,
    "start_time": "2024-11-29T13:06:45.125Z"
   },
   {
    "duration": 284,
    "start_time": "2024-11-29T13:06:45.353Z"
   },
   {
    "duration": 203,
    "start_time": "2024-11-29T13:06:45.639Z"
   },
   {
    "duration": 421,
    "start_time": "2024-11-29T13:06:45.844Z"
   },
   {
    "duration": 120,
    "start_time": "2024-11-29T13:06:46.267Z"
   },
   {
    "duration": 52,
    "start_time": "2024-11-29T13:06:46.389Z"
   },
   {
    "duration": 22,
    "start_time": "2024-11-29T13:06:46.443Z"
   },
   {
    "duration": 83,
    "start_time": "2024-11-29T13:06:46.466Z"
   },
   {
    "duration": 85,
    "start_time": "2024-11-29T13:06:46.550Z"
   },
   {
    "duration": 4,
    "start_time": "2024-11-29T13:06:46.637Z"
   },
   {
    "duration": 24,
    "start_time": "2024-11-29T13:06:46.642Z"
   },
   {
    "duration": 435,
    "start_time": "2024-11-29T13:06:46.668Z"
   },
   {
    "duration": 21,
    "start_time": "2024-11-29T13:06:47.105Z"
   },
   {
    "duration": 4,
    "start_time": "2024-11-29T13:06:47.128Z"
   },
   {
    "duration": 7,
    "start_time": "2024-11-29T13:06:47.133Z"
   },
   {
    "duration": 146,
    "start_time": "2024-11-29T13:06:47.142Z"
   },
   {
    "duration": 67,
    "start_time": "2024-11-29T13:06:47.290Z"
   },
   {
    "duration": 39,
    "start_time": "2024-11-29T13:06:47.359Z"
   },
   {
    "duration": 66,
    "start_time": "2024-11-29T13:06:47.400Z"
   },
   {
    "duration": 192,
    "start_time": "2024-11-29T13:06:47.467Z"
   },
   {
    "duration": 165,
    "start_time": "2024-11-29T13:06:47.661Z"
   },
   {
    "duration": 5,
    "start_time": "2024-11-29T13:06:47.828Z"
   },
   {
    "duration": 110,
    "start_time": "2024-11-29T13:06:47.834Z"
   },
   {
    "duration": 36,
    "start_time": "2024-11-29T13:06:47.948Z"
   },
   {
    "duration": 78,
    "start_time": "2024-11-29T13:06:47.986Z"
   },
   {
    "duration": 83,
    "start_time": "2024-11-29T13:06:48.066Z"
   },
   {
    "duration": 78,
    "start_time": "2024-11-29T13:06:48.151Z"
   },
   {
    "duration": 226,
    "start_time": "2024-11-29T13:06:48.231Z"
   },
   {
    "duration": 133,
    "start_time": "2024-11-29T13:06:48.459Z"
   },
   {
    "duration": 8,
    "start_time": "2024-11-29T13:06:48.594Z"
   },
   {
    "duration": 564,
    "start_time": "2024-11-29T13:06:48.604Z"
   },
   {
    "duration": 572,
    "start_time": "2024-11-29T13:06:49.169Z"
   },
   {
    "duration": 566,
    "start_time": "2024-11-29T13:06:49.742Z"
   },
   {
    "duration": 16,
    "start_time": "2024-11-29T13:06:50.310Z"
   },
   {
    "duration": 821,
    "start_time": "2024-11-29T13:06:50.328Z"
   },
   {
    "duration": 173,
    "start_time": "2024-11-29T13:10:42.477Z"
   },
   {
    "duration": 1070,
    "start_time": "2024-11-29T13:11:02.998Z"
   },
   {
    "duration": 394,
    "start_time": "2024-11-29T13:11:04.070Z"
   },
   {
    "duration": 980,
    "start_time": "2024-11-29T13:11:04.466Z"
   },
   {
    "duration": 84,
    "start_time": "2024-11-29T13:11:05.449Z"
   },
   {
    "duration": 216,
    "start_time": "2024-11-29T13:11:05.534Z"
   },
   {
    "duration": 283,
    "start_time": "2024-11-29T13:11:05.752Z"
   },
   {
    "duration": 203,
    "start_time": "2024-11-29T13:11:06.037Z"
   },
   {
    "duration": 402,
    "start_time": "2024-11-29T13:11:06.241Z"
   },
   {
    "duration": 126,
    "start_time": "2024-11-29T13:11:06.644Z"
   },
   {
    "duration": 57,
    "start_time": "2024-11-29T13:11:06.773Z"
   },
   {
    "duration": 40,
    "start_time": "2024-11-29T13:11:06.831Z"
   },
   {
    "duration": 83,
    "start_time": "2024-11-29T13:11:06.873Z"
   },
   {
    "duration": 79,
    "start_time": "2024-11-29T13:11:06.958Z"
   },
   {
    "duration": 5,
    "start_time": "2024-11-29T13:11:07.038Z"
   },
   {
    "duration": 40,
    "start_time": "2024-11-29T13:11:07.045Z"
   },
   {
    "duration": 190,
    "start_time": "2024-11-29T13:11:07.087Z"
   },
   {
    "duration": 0,
    "start_time": "2024-11-29T13:11:07.279Z"
   },
   {
    "duration": 0,
    "start_time": "2024-11-29T13:11:07.280Z"
   },
   {
    "duration": 0,
    "start_time": "2024-11-29T13:11:07.281Z"
   },
   {
    "duration": 0,
    "start_time": "2024-11-29T13:11:07.282Z"
   },
   {
    "duration": 0,
    "start_time": "2024-11-29T13:11:07.283Z"
   },
   {
    "duration": 0,
    "start_time": "2024-11-29T13:11:07.284Z"
   },
   {
    "duration": 0,
    "start_time": "2024-11-29T13:11:07.285Z"
   },
   {
    "duration": 0,
    "start_time": "2024-11-29T13:11:07.298Z"
   },
   {
    "duration": 0,
    "start_time": "2024-11-29T13:11:07.299Z"
   },
   {
    "duration": 0,
    "start_time": "2024-11-29T13:11:07.300Z"
   },
   {
    "duration": 0,
    "start_time": "2024-11-29T13:11:07.302Z"
   },
   {
    "duration": 0,
    "start_time": "2024-11-29T13:11:07.303Z"
   },
   {
    "duration": 0,
    "start_time": "2024-11-29T13:11:07.303Z"
   },
   {
    "duration": 0,
    "start_time": "2024-11-29T13:11:07.305Z"
   },
   {
    "duration": 0,
    "start_time": "2024-11-29T13:11:07.306Z"
   },
   {
    "duration": 0,
    "start_time": "2024-11-29T13:11:07.307Z"
   },
   {
    "duration": 0,
    "start_time": "2024-11-29T13:11:07.308Z"
   },
   {
    "duration": 0,
    "start_time": "2024-11-29T13:11:07.309Z"
   },
   {
    "duration": 0,
    "start_time": "2024-11-29T13:11:07.310Z"
   },
   {
    "duration": 0,
    "start_time": "2024-11-29T13:11:07.311Z"
   },
   {
    "duration": 0,
    "start_time": "2024-11-29T13:11:07.312Z"
   },
   {
    "duration": 0,
    "start_time": "2024-11-29T13:11:07.313Z"
   },
   {
    "duration": 0,
    "start_time": "2024-11-29T13:11:07.314Z"
   },
   {
    "duration": 81,
    "start_time": "2024-11-29T13:11:49.122Z"
   },
   {
    "duration": 766,
    "start_time": "2024-11-29T13:12:46.239Z"
   },
   {
    "duration": 463,
    "start_time": "2024-11-29T13:12:54.820Z"
   },
   {
    "duration": 1064,
    "start_time": "2024-11-29T13:14:29.738Z"
   },
   {
    "duration": 398,
    "start_time": "2024-11-29T13:14:30.804Z"
   },
   {
    "duration": 989,
    "start_time": "2024-11-29T13:14:31.204Z"
   },
   {
    "duration": 76,
    "start_time": "2024-11-29T13:14:32.198Z"
   },
   {
    "duration": 219,
    "start_time": "2024-11-29T13:14:32.275Z"
   },
   {
    "duration": 277,
    "start_time": "2024-11-29T13:14:32.498Z"
   },
   {
    "duration": 204,
    "start_time": "2024-11-29T13:14:32.776Z"
   },
   {
    "duration": 425,
    "start_time": "2024-11-29T13:14:32.981Z"
   },
   {
    "duration": 131,
    "start_time": "2024-11-29T13:14:33.408Z"
   },
   {
    "duration": 45,
    "start_time": "2024-11-29T13:14:33.542Z"
   },
   {
    "duration": 28,
    "start_time": "2024-11-29T13:14:33.597Z"
   },
   {
    "duration": 89,
    "start_time": "2024-11-29T13:14:33.626Z"
   },
   {
    "duration": 66,
    "start_time": "2024-11-29T13:14:33.717Z"
   },
   {
    "duration": 13,
    "start_time": "2024-11-29T13:14:33.785Z"
   },
   {
    "duration": 12,
    "start_time": "2024-11-29T13:14:33.800Z"
   },
   {
    "duration": 513,
    "start_time": "2024-11-29T13:14:33.813Z"
   },
   {
    "duration": 24,
    "start_time": "2024-11-29T13:14:34.327Z"
   },
   {
    "duration": 4,
    "start_time": "2024-11-29T13:14:34.352Z"
   },
   {
    "duration": 6,
    "start_time": "2024-11-29T13:14:34.358Z"
   },
   {
    "duration": 154,
    "start_time": "2024-11-29T13:14:34.366Z"
   },
   {
    "duration": 64,
    "start_time": "2024-11-29T13:14:34.522Z"
   },
   {
    "duration": 36,
    "start_time": "2024-11-29T13:14:34.588Z"
   },
   {
    "duration": 77,
    "start_time": "2024-11-29T13:14:34.626Z"
   },
   {
    "duration": 190,
    "start_time": "2024-11-29T13:14:34.705Z"
   },
   {
    "duration": 166,
    "start_time": "2024-11-29T13:14:34.897Z"
   },
   {
    "duration": 4,
    "start_time": "2024-11-29T13:14:35.064Z"
   },
   {
    "duration": 116,
    "start_time": "2024-11-29T13:14:35.070Z"
   },
   {
    "duration": 45,
    "start_time": "2024-11-29T13:14:35.189Z"
   },
   {
    "duration": 83,
    "start_time": "2024-11-29T13:14:35.235Z"
   },
   {
    "duration": 63,
    "start_time": "2024-11-29T13:14:35.320Z"
   },
   {
    "duration": 90,
    "start_time": "2024-11-29T13:14:35.384Z"
   },
   {
    "duration": 199,
    "start_time": "2024-11-29T13:14:35.475Z"
   },
   {
    "duration": 147,
    "start_time": "2024-11-29T13:14:35.676Z"
   },
   {
    "duration": 6,
    "start_time": "2024-11-29T13:14:35.825Z"
   },
   {
    "duration": 550,
    "start_time": "2024-11-29T13:14:35.833Z"
   },
   {
    "duration": 575,
    "start_time": "2024-11-29T13:14:36.384Z"
   },
   {
    "duration": 541,
    "start_time": "2024-11-29T13:14:36.961Z"
   },
   {
    "duration": 15,
    "start_time": "2024-11-29T13:14:37.504Z"
   },
   {
    "duration": 808,
    "start_time": "2024-11-29T13:14:37.520Z"
   },
   {
    "duration": 1008,
    "start_time": "2024-11-30T04:25:42.723Z"
   },
   {
    "duration": 364,
    "start_time": "2024-11-30T04:25:43.733Z"
   },
   {
    "duration": 911,
    "start_time": "2024-11-30T04:25:44.098Z"
   },
   {
    "duration": 77,
    "start_time": "2024-11-30T04:25:45.011Z"
   },
   {
    "duration": 190,
    "start_time": "2024-11-30T04:25:45.089Z"
   },
   {
    "duration": 244,
    "start_time": "2024-11-30T04:25:45.280Z"
   },
   {
    "duration": 176,
    "start_time": "2024-11-30T04:25:45.525Z"
   },
   {
    "duration": 427,
    "start_time": "2024-11-30T04:25:45.703Z"
   },
   {
    "duration": 116,
    "start_time": "2024-11-30T04:25:46.132Z"
   },
   {
    "duration": 49,
    "start_time": "2024-11-30T04:25:46.250Z"
   },
   {
    "duration": 21,
    "start_time": "2024-11-30T04:25:46.300Z"
   },
   {
    "duration": 96,
    "start_time": "2024-11-30T04:25:46.322Z"
   },
   {
    "duration": 68,
    "start_time": "2024-11-30T04:25:46.419Z"
   },
   {
    "duration": 4,
    "start_time": "2024-11-30T04:25:46.489Z"
   },
   {
    "duration": 39,
    "start_time": "2024-11-30T04:25:46.495Z"
   },
   {
    "duration": 486,
    "start_time": "2024-11-30T04:25:46.536Z"
   },
   {
    "duration": 20,
    "start_time": "2024-11-30T04:25:47.024Z"
   },
   {
    "duration": 49,
    "start_time": "2024-11-30T04:25:47.045Z"
   },
   {
    "duration": 4,
    "start_time": "2024-11-30T04:25:47.096Z"
   },
   {
    "duration": 110,
    "start_time": "2024-11-30T04:25:47.102Z"
   },
   {
    "duration": 55,
    "start_time": "2024-11-30T04:25:47.214Z"
   },
   {
    "duration": 24,
    "start_time": "2024-11-30T04:25:47.270Z"
   },
   {
    "duration": 70,
    "start_time": "2024-11-30T04:25:47.296Z"
   },
   {
    "duration": 164,
    "start_time": "2024-11-30T04:25:47.368Z"
   },
   {
    "duration": 151,
    "start_time": "2024-11-30T04:25:47.534Z"
   },
   {
    "duration": 5,
    "start_time": "2024-11-30T04:25:47.687Z"
   },
   {
    "duration": 111,
    "start_time": "2024-11-30T04:25:47.693Z"
   },
   {
    "duration": 31,
    "start_time": "2024-11-30T04:25:47.807Z"
   },
   {
    "duration": 70,
    "start_time": "2024-11-30T04:25:47.840Z"
   },
   {
    "duration": 69,
    "start_time": "2024-11-30T04:25:47.912Z"
   },
   {
    "duration": 60,
    "start_time": "2024-11-30T04:25:47.982Z"
   },
   {
    "duration": 163,
    "start_time": "2024-11-30T04:25:48.043Z"
   },
   {
    "duration": 107,
    "start_time": "2024-11-30T04:25:48.207Z"
   },
   {
    "duration": 5,
    "start_time": "2024-11-30T04:25:48.316Z"
   },
   {
    "duration": 460,
    "start_time": "2024-11-30T04:25:48.323Z"
   },
   {
    "duration": 394,
    "start_time": "2024-11-30T04:25:48.785Z"
   },
   {
    "duration": 428,
    "start_time": "2024-11-30T04:25:49.181Z"
   },
   {
    "duration": 13,
    "start_time": "2024-11-30T04:25:49.610Z"
   },
   {
    "duration": 719,
    "start_time": "2024-11-30T04:25:49.625Z"
   },
   {
    "duration": 1026,
    "start_time": "2024-11-30T04:27:40.012Z"
   },
   {
    "duration": 350,
    "start_time": "2024-11-30T04:27:41.040Z"
   },
   {
    "duration": 854,
    "start_time": "2024-11-30T04:27:41.392Z"
   },
   {
    "duration": 73,
    "start_time": "2024-11-30T04:27:42.248Z"
   },
   {
    "duration": 211,
    "start_time": "2024-11-30T04:27:42.322Z"
   },
   {
    "duration": 262,
    "start_time": "2024-11-30T04:27:42.534Z"
   },
   {
    "duration": 175,
    "start_time": "2024-11-30T04:27:42.797Z"
   },
   {
    "duration": 391,
    "start_time": "2024-11-30T04:27:42.974Z"
   },
   {
    "duration": 118,
    "start_time": "2024-11-30T04:27:43.367Z"
   },
   {
    "duration": 43,
    "start_time": "2024-11-30T04:27:43.487Z"
   },
   {
    "duration": 35,
    "start_time": "2024-11-30T04:27:43.531Z"
   },
   {
    "duration": 61,
    "start_time": "2024-11-30T04:27:43.568Z"
   },
   {
    "duration": 82,
    "start_time": "2024-11-30T04:27:43.631Z"
   },
   {
    "duration": 5,
    "start_time": "2024-11-30T04:27:43.714Z"
   },
   {
    "duration": 5,
    "start_time": "2024-11-30T04:27:43.720Z"
   },
   {
    "duration": 462,
    "start_time": "2024-11-30T04:27:43.726Z"
   },
   {
    "duration": 20,
    "start_time": "2024-11-30T04:27:44.190Z"
   },
   {
    "duration": 4,
    "start_time": "2024-11-30T04:27:44.212Z"
   },
   {
    "duration": 12,
    "start_time": "2024-11-30T04:27:44.217Z"
   },
   {
    "duration": 129,
    "start_time": "2024-11-30T04:27:44.230Z"
   },
   {
    "duration": 62,
    "start_time": "2024-11-30T04:27:44.361Z"
   },
   {
    "duration": 40,
    "start_time": "2024-11-30T04:27:44.424Z"
   },
   {
    "duration": 51,
    "start_time": "2024-11-30T04:27:44.466Z"
   },
   {
    "duration": 171,
    "start_time": "2024-11-30T04:27:44.518Z"
   },
   {
    "duration": 139,
    "start_time": "2024-11-30T04:27:44.691Z"
   },
   {
    "duration": 4,
    "start_time": "2024-11-30T04:27:44.832Z"
   },
   {
    "duration": 99,
    "start_time": "2024-11-30T04:27:44.837Z"
   },
   {
    "duration": 36,
    "start_time": "2024-11-30T04:27:44.939Z"
   },
   {
    "duration": 53,
    "start_time": "2024-11-30T04:27:44.977Z"
   },
   {
    "duration": 100,
    "start_time": "2024-11-30T04:27:45.032Z"
   },
   {
    "duration": 58,
    "start_time": "2024-11-30T04:27:45.133Z"
   },
   {
    "duration": 182,
    "start_time": "2024-11-30T04:27:45.192Z"
   },
   {
    "duration": 111,
    "start_time": "2024-11-30T04:27:45.376Z"
   },
   {
    "duration": 6,
    "start_time": "2024-11-30T04:27:45.489Z"
   },
   {
    "duration": 501,
    "start_time": "2024-11-30T04:27:45.496Z"
   },
   {
    "duration": 428,
    "start_time": "2024-11-30T04:27:45.999Z"
   },
   {
    "duration": 440,
    "start_time": "2024-11-30T04:27:46.428Z"
   },
   {
    "duration": 14,
    "start_time": "2024-11-30T04:27:46.869Z"
   },
   {
    "duration": 698,
    "start_time": "2024-11-30T04:27:46.884Z"
   },
   {
    "duration": 1027,
    "start_time": "2024-11-30T04:32:24.383Z"
   },
   {
    "duration": 365,
    "start_time": "2024-11-30T04:32:25.411Z"
   },
   {
    "duration": 965,
    "start_time": "2024-11-30T04:32:25.778Z"
   },
   {
    "duration": 74,
    "start_time": "2024-11-30T04:32:26.745Z"
   },
   {
    "duration": 198,
    "start_time": "2024-11-30T04:32:26.821Z"
   },
   {
    "duration": 248,
    "start_time": "2024-11-30T04:32:27.020Z"
   },
   {
    "duration": 171,
    "start_time": "2024-11-30T04:32:27.270Z"
   },
   {
    "duration": 377,
    "start_time": "2024-11-30T04:32:27.442Z"
   },
   {
    "duration": 109,
    "start_time": "2024-11-30T04:32:27.821Z"
   },
   {
    "duration": 49,
    "start_time": "2024-11-30T04:32:27.933Z"
   },
   {
    "duration": 20,
    "start_time": "2024-11-30T04:32:27.984Z"
   },
   {
    "duration": 77,
    "start_time": "2024-11-30T04:32:28.005Z"
   },
   {
    "duration": 64,
    "start_time": "2024-11-30T04:32:28.083Z"
   },
   {
    "duration": 19,
    "start_time": "2024-11-30T04:32:28.148Z"
   },
   {
    "duration": 6,
    "start_time": "2024-11-30T04:32:28.169Z"
   },
   {
    "duration": 495,
    "start_time": "2024-11-30T04:32:28.176Z"
   },
   {
    "duration": 20,
    "start_time": "2024-11-30T04:32:28.672Z"
   },
   {
    "duration": 3,
    "start_time": "2024-11-30T04:32:28.694Z"
   },
   {
    "duration": 5,
    "start_time": "2024-11-30T04:32:28.699Z"
   },
   {
    "duration": 132,
    "start_time": "2024-11-30T04:32:28.705Z"
   },
   {
    "duration": 60,
    "start_time": "2024-11-30T04:32:28.838Z"
   },
   {
    "duration": 21,
    "start_time": "2024-11-30T04:32:28.900Z"
   },
   {
    "duration": 64,
    "start_time": "2024-11-30T04:32:28.922Z"
   },
   {
    "duration": 155,
    "start_time": "2024-11-30T04:32:28.988Z"
   },
   {
    "duration": 140,
    "start_time": "2024-11-30T04:32:29.144Z"
   },
   {
    "duration": 4,
    "start_time": "2024-11-30T04:32:29.286Z"
   },
   {
    "duration": 99,
    "start_time": "2024-11-30T04:32:29.291Z"
   },
   {
    "duration": 30,
    "start_time": "2024-11-30T04:32:29.393Z"
   },
   {
    "duration": 73,
    "start_time": "2024-11-30T04:32:29.425Z"
   },
   {
    "duration": 67,
    "start_time": "2024-11-30T04:32:29.500Z"
   },
   {
    "duration": 55,
    "start_time": "2024-11-30T04:32:29.568Z"
   },
   {
    "duration": 162,
    "start_time": "2024-11-30T04:32:29.625Z"
   },
   {
    "duration": 128,
    "start_time": "2024-11-30T04:32:29.789Z"
   },
   {
    "duration": 5,
    "start_time": "2024-11-30T04:32:29.920Z"
   },
   {
    "duration": 497,
    "start_time": "2024-11-30T04:32:29.927Z"
   },
   {
    "duration": 458,
    "start_time": "2024-11-30T04:32:30.425Z"
   },
   {
    "duration": 409,
    "start_time": "2024-11-30T04:32:30.884Z"
   },
   {
    "duration": 12,
    "start_time": "2024-11-30T04:32:31.295Z"
   },
   {
    "duration": 684,
    "start_time": "2024-11-30T04:32:31.308Z"
   },
   {
    "duration": 1068,
    "start_time": "2024-11-30T04:32:47.629Z"
   },
   {
    "duration": 355,
    "start_time": "2024-11-30T04:32:48.699Z"
   },
   {
    "duration": 866,
    "start_time": "2024-11-30T04:32:49.056Z"
   },
   {
    "duration": 81,
    "start_time": "2024-11-30T04:32:49.925Z"
   },
   {
    "duration": 195,
    "start_time": "2024-11-30T04:32:50.007Z"
   },
   {
    "duration": 266,
    "start_time": "2024-11-30T04:32:50.204Z"
   },
   {
    "duration": 188,
    "start_time": "2024-11-30T04:32:50.471Z"
   },
   {
    "duration": 458,
    "start_time": "2024-11-30T04:32:50.660Z"
   },
   {
    "duration": 114,
    "start_time": "2024-11-30T04:32:51.119Z"
   },
   {
    "duration": 45,
    "start_time": "2024-11-30T04:32:51.236Z"
   },
   {
    "duration": 22,
    "start_time": "2024-11-30T04:32:51.282Z"
   },
   {
    "duration": 81,
    "start_time": "2024-11-30T04:32:51.305Z"
   },
   {
    "duration": 62,
    "start_time": "2024-11-30T04:32:51.388Z"
   },
   {
    "duration": 6,
    "start_time": "2024-11-30T04:32:51.464Z"
   },
   {
    "duration": 5,
    "start_time": "2024-11-30T04:32:51.472Z"
   },
   {
    "duration": 463,
    "start_time": "2024-11-30T04:32:51.479Z"
   },
   {
    "duration": 27,
    "start_time": "2024-11-30T04:32:51.943Z"
   },
   {
    "duration": 4,
    "start_time": "2024-11-30T04:32:51.971Z"
   },
   {
    "duration": 17,
    "start_time": "2024-11-30T04:32:51.976Z"
   },
   {
    "duration": 129,
    "start_time": "2024-11-30T04:32:51.994Z"
   },
   {
    "duration": 62,
    "start_time": "2024-11-30T04:32:52.124Z"
   },
   {
    "duration": 22,
    "start_time": "2024-11-30T04:32:52.188Z"
   },
   {
    "duration": 65,
    "start_time": "2024-11-30T04:32:52.212Z"
   },
   {
    "duration": 165,
    "start_time": "2024-11-30T04:32:52.279Z"
   },
   {
    "duration": 149,
    "start_time": "2024-11-30T04:32:52.445Z"
   },
   {
    "duration": 6,
    "start_time": "2024-11-30T04:32:52.596Z"
   },
   {
    "duration": 152,
    "start_time": "2024-11-30T04:32:52.604Z"
   },
   {
    "duration": 47,
    "start_time": "2024-11-30T04:32:52.760Z"
   },
   {
    "duration": 90,
    "start_time": "2024-11-30T04:32:52.810Z"
   },
   {
    "duration": 71,
    "start_time": "2024-11-30T04:32:52.902Z"
   },
   {
    "duration": 66,
    "start_time": "2024-11-30T04:32:52.974Z"
   },
   {
    "duration": 212,
    "start_time": "2024-11-30T04:32:53.042Z"
   },
   {
    "duration": 118,
    "start_time": "2024-11-30T04:32:53.255Z"
   },
   {
    "duration": 5,
    "start_time": "2024-11-30T04:32:53.375Z"
   },
   {
    "duration": 484,
    "start_time": "2024-11-30T04:32:53.381Z"
   },
   {
    "duration": 426,
    "start_time": "2024-11-30T04:32:53.867Z"
   },
   {
    "duration": 449,
    "start_time": "2024-11-30T04:32:54.295Z"
   },
   {
    "duration": 24,
    "start_time": "2024-11-30T04:32:54.746Z"
   },
   {
    "duration": 710,
    "start_time": "2024-11-30T04:32:54.771Z"
   }
  ],
  "kernelspec": {
   "display_name": "Python 3 (ipykernel)",
   "language": "python",
   "name": "python3"
  },
  "language_info": {
   "codemirror_mode": {
    "name": "ipython",
    "version": 3
   },
   "file_extension": ".py",
   "mimetype": "text/x-python",
   "name": "python",
   "nbconvert_exporter": "python",
   "pygments_lexer": "ipython3",
   "version": "3.9.5"
  },
  "toc": {
   "base_numbering": 1,
   "nav_menu": {},
   "number_sections": true,
   "sideBar": true,
   "skip_h1_title": true,
   "title_cell": "Table of Contents",
   "title_sidebar": "Contents",
   "toc_cell": false,
   "toc_position": {},
   "toc_section_display": true,
   "toc_window_display": false
  }
 },
 "nbformat": 4,
 "nbformat_minor": 2
}
