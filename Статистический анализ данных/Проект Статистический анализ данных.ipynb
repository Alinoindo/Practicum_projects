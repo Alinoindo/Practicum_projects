{
 "cells": [
  {
   "cell_type": "markdown",
   "id": "317f7202",
   "metadata": {},
   "source": [
    "<div style=\"border:solid green 3px; padding: 20px\">\n",
    "<b>🥇 Алина, спасибо за доработки, проект принят, молодец!</b>\n",
    "    \n",
    "Ты провела очень хорошую работу над ошибками! Уверен, ты обязательно достигнешь своей цели! Успехов в дальнейшем обучении! 🙂\n",
    "    "
   ]
  },
  {
   "cell_type": "markdown",
   "id": "77824f9e",
   "metadata": {},
   "source": [
    "<div style=\"border:solid green 2px; padding: 20px\">\n",
    "Алина, привет! Меня зовут Ефимов Денис и сегодня я буду делать ревью твоего проекта!\n",
    "    \n",
    "В Практикуме принято общаться на \"ты\", однако если это неудобно - дай знать, и можем перейти на более официальное общение.\n",
    "\n",
    "Ниже ты найдешь мои комментарии - пожалуйста, не перемещай, не изменяй и не удаляй их. Я буду использовать цветовую разметку: \n",
    "\n",
    "<div class=\"alert alert-block alert-success\">\n",
    "<b>✅Комментарий ревьюера:</b> Если все сделано хорошо. </div>\n",
    "\n",
    "<div class=\"alert alert-block alert-warning\">\n",
    "<b>🔁Комментарий ревьюера:</b> Некритичное замечание, рекомендация.</div>\n",
    "\n",
    "<div class=\"alert alert-block alert-danger\">\n",
    "<b>❌Комментарий ревьюера:</b> Грубая ошибка, необходимо исправить, иначе проект не будет принят.\n",
    "</div>\n",
    "\n",
    "Давай работать над проектом в диалоге: если ты что-то меняешь в проекте или отвечаешь на мои комментарии — пиши об этом. Мне будет легче отследить изменения, если ты выделишь свои комментарии:\n",
    "Например так:\n",
    "<div class=\"alert alert-block alert-info\">\n",
    "<b>🔄Комментарий студента:</b> \n",
    "Hello World! ✔\n",
    "</div>\n",
    "\n",
    "Или можешь использовать эту галочку ✔ в моих комментариях, если писать особо нечего.\n",
    "\n",
    "<div class=\"alert alert-block alert-warning\">\n",
    "<b>Общее впечатление:</b> \n",
    "    \n",
    "- Ты проделала огромную работу :)\n",
    "- У меня есть несколько замечаний, исправив которые ты сделаешь проект  лучше.\n",
    "- Пробегись по моим комментариям, исправь недочёты и всё будет отлично :)\n",
    "    \n",
    "</div>\n",
    "\n"
   ]
  },
  {
   "cell_type": "markdown",
   "id": "34d8a5ae",
   "metadata": {},
   "source": [
    "# Проект: Статистический анализ данных"
   ]
  },
  {
   "cell_type": "markdown",
   "id": "2f3bf974",
   "metadata": {},
   "source": [
    "<div class=\"alert alert-block alert-danger\">\n",
    "<b>❌Комментарий ревьюера:</b> \n",
    "    \n",
    " Любому проекту нужно название и введение - так ты поясняешь читателю, что вообще тут происходит. Также стоит задуматься, как еще его можно дополнить, чтобы сделать более ценным для читателя. Все инструкции по оформлению проекта есть на платформе в разделе \"Полезные инструкции для учебы\"\n",
    "    \n",
    "Также советую тебе взглянуть на <a href=\"https://www.kaggle.com/code?sortBy=voteCount&language=Python\">работы</a> профессиональных аналитиков, чтобы оценить, как другие люди оформляют и проводят исследования.   \n",
    "\n",
    "</div>"
   ]
  },
  {
   "cell_type": "markdown",
   "id": "35836b0c",
   "metadata": {},
   "source": [
    "<div class=\"alert alert-block alert-success\">\n",
    "<b>✅Комментарий ревьюера 2:</b> Отлично, исправлено!👍  </div>"
   ]
  },
  {
   "cell_type": "markdown",
   "id": "7c9a2d1e",
   "metadata": {},
   "source": [
    "**Описание проекта**"
   ]
  },
  {
   "cell_type": "markdown",
   "id": "6756a848",
   "metadata": {},
   "source": [
    "Вы аналитик популярного сервиса аренды самокатов GoFast. Вам передали данные о некоторых пользователях из нескольких городов, а также об их поездках. \n",
    "\n",
    "Чтобы совершать поездки по городу, пользователи сервиса GoFast пользуются мобильным приложением. Сервисом можно пользоваться:\n",
    "- без подписки\n",
    "    - абонентская плата отсутствует;\n",
    "    - стоимость одной минуты поездки — 8 рублей;\n",
    "    - стоимость старта (начала поездки) — 50 рублей;\n",
    "- с подпиской Ultra\n",
    "    - абонентская плата — 199 рублей в месяц;\n",
    "    - стоимость одной минуты поездки — 6 рублей;\n",
    "    - стоимость старта — бесплатно."
   ]
  },
  {
   "cell_type": "markdown",
   "id": "5b0a734d",
   "metadata": {},
   "source": [
    "**Цель проекта**"
   ]
  },
  {
   "cell_type": "markdown",
   "id": "ea21dd28",
   "metadata": {},
   "source": [
    "Необходимо проанализировать данные и проверить некоторые гипотезы, которые помогут бизнесу вырасти."
   ]
  },
  {
   "cell_type": "markdown",
   "id": "5a9a4fb3",
   "metadata": {},
   "source": [
    "**Описание данных**"
   ]
  },
  {
   "cell_type": "markdown",
   "id": "02e5fa1f",
   "metadata": {},
   "source": [
    "В основных данных есть информация о пользователях, их поездках и подписках."
   ]
  },
  {
   "cell_type": "markdown",
   "id": "dd985e32",
   "metadata": {},
   "source": [
    "**Пользователи** — `users_go.csv`\n",
    "- `user_id` - уникальный идентификатор пользователя\n",
    "- `name` - имя пользователя\n",
    "- `age` - возраст\n",
    "- `city` - город\n",
    "- `subscription_type` - тип подписки (free, ultra)"
   ]
  },
  {
   "cell_type": "markdown",
   "id": "562e2128",
   "metadata": {},
   "source": [
    "**Поездки** — `rides_go.csv`\n",
    "- `user_id` - уникальный идентификатор пользователя\n",
    "- `distance` - расстояние, которое пользователь проехал в текущей сессии (в метрах)\n",
    "- `duration` -\tпродолжительность сессии (в минутах) — время с того момента, как пользователь нажал кнопку «Начать поездку» до момента, как он нажал кнопку «Завершить поездку»\n",
    "- `date` - дата совершения поездки"
   ]
  },
  {
   "cell_type": "markdown",
   "id": "4da424e6",
   "metadata": {},
   "source": [
    "**Подписки** — `subscriptions_go.csv`\n",
    "- `subscription_type` -\tтип подписки\n",
    "- `minute_price` - стоимость одной минуты поездки по данной подписке\n",
    "- `start_ride_price` - стоимость начала поездки\n",
    "- `subscription_fee` - стоимость ежемесячного платежа"
   ]
  },
  {
   "cell_type": "markdown",
   "id": "9c7dabbd",
   "metadata": {},
   "source": [
    "<div class=\"alert alert-block alert-info\">\n",
    "<b>🔄Комментарий студента:</b> \n",
    "Добавила описание, цель и заголовок проекта.\n",
    "</div>"
   ]
  },
  {
   "cell_type": "markdown",
   "id": "90762408",
   "metadata": {},
   "source": [
    "Импортируем библиотеки"
   ]
  },
  {
   "cell_type": "code",
   "execution_count": 1,
   "id": "197d8e07",
   "metadata": {},
   "outputs": [],
   "source": [
    "import pandas as pd\n",
    "import matplotlib.pyplot as plt\n",
    "import numpy as np\n",
    "from scipy import stats as st\n",
    "from scipy.stats import binom"
   ]
  },
  {
   "cell_type": "markdown",
   "id": "0088ede8",
   "metadata": {},
   "source": [
    "<div class=\"alert alert-block alert-success\">\n",
    "<b>✅Комментарий ревьюера:</b> Правильно, что импортируешь все библиотеки в отдельной ячейке!  </div>"
   ]
  },
  {
   "cell_type": "markdown",
   "id": "eaa58606",
   "metadata": {},
   "source": [
    "#### Шаг 1. Загрузка данных"
   ]
  },
  {
   "cell_type": "markdown",
   "id": "31f99386",
   "metadata": {},
   "source": [
    "1.1 Прочитаем файлы и сохраним в датафреймы, затем выведим первые строки каждого набора данных"
   ]
  },
  {
   "cell_type": "code",
   "execution_count": 2,
   "id": "23f68ef4",
   "metadata": {},
   "outputs": [
    {
     "data": {
      "text/html": [
       "<div>\n",
       "<style scoped>\n",
       "    .dataframe tbody tr th:only-of-type {\n",
       "        vertical-align: middle;\n",
       "    }\n",
       "\n",
       "    .dataframe tbody tr th {\n",
       "        vertical-align: top;\n",
       "    }\n",
       "\n",
       "    .dataframe thead th {\n",
       "        text-align: right;\n",
       "    }\n",
       "</style>\n",
       "<table border=\"1\" class=\"dataframe\">\n",
       "  <thead>\n",
       "    <tr style=\"text-align: right;\">\n",
       "      <th></th>\n",
       "      <th>user_id</th>\n",
       "      <th>name</th>\n",
       "      <th>age</th>\n",
       "      <th>city</th>\n",
       "      <th>subscription_type</th>\n",
       "    </tr>\n",
       "  </thead>\n",
       "  <tbody>\n",
       "    <tr>\n",
       "      <th>0</th>\n",
       "      <td>1</td>\n",
       "      <td>Кира</td>\n",
       "      <td>22</td>\n",
       "      <td>Тюмень</td>\n",
       "      <td>ultra</td>\n",
       "    </tr>\n",
       "    <tr>\n",
       "      <th>1</th>\n",
       "      <td>2</td>\n",
       "      <td>Станислав</td>\n",
       "      <td>31</td>\n",
       "      <td>Омск</td>\n",
       "      <td>ultra</td>\n",
       "    </tr>\n",
       "    <tr>\n",
       "      <th>2</th>\n",
       "      <td>3</td>\n",
       "      <td>Алексей</td>\n",
       "      <td>20</td>\n",
       "      <td>Москва</td>\n",
       "      <td>ultra</td>\n",
       "    </tr>\n",
       "    <tr>\n",
       "      <th>3</th>\n",
       "      <td>4</td>\n",
       "      <td>Константин</td>\n",
       "      <td>26</td>\n",
       "      <td>Ростов-на-Дону</td>\n",
       "      <td>ultra</td>\n",
       "    </tr>\n",
       "    <tr>\n",
       "      <th>4</th>\n",
       "      <td>5</td>\n",
       "      <td>Адель</td>\n",
       "      <td>28</td>\n",
       "      <td>Омск</td>\n",
       "      <td>ultra</td>\n",
       "    </tr>\n",
       "  </tbody>\n",
       "</table>\n",
       "</div>"
      ],
      "text/plain": [
       "   user_id        name  age            city subscription_type\n",
       "0        1        Кира   22          Тюмень             ultra\n",
       "1        2   Станислав   31            Омск             ultra\n",
       "2        3     Алексей   20          Москва             ultra\n",
       "3        4  Константин   26  Ростов-на-Дону             ultra\n",
       "4        5       Адель   28            Омск             ultra"
      ]
     },
     "metadata": {},
     "output_type": "display_data"
    },
    {
     "data": {
      "text/html": [
       "<div>\n",
       "<style scoped>\n",
       "    .dataframe tbody tr th:only-of-type {\n",
       "        vertical-align: middle;\n",
       "    }\n",
       "\n",
       "    .dataframe tbody tr th {\n",
       "        vertical-align: top;\n",
       "    }\n",
       "\n",
       "    .dataframe thead th {\n",
       "        text-align: right;\n",
       "    }\n",
       "</style>\n",
       "<table border=\"1\" class=\"dataframe\">\n",
       "  <thead>\n",
       "    <tr style=\"text-align: right;\">\n",
       "      <th></th>\n",
       "      <th>user_id</th>\n",
       "      <th>distance</th>\n",
       "      <th>duration</th>\n",
       "      <th>date</th>\n",
       "    </tr>\n",
       "  </thead>\n",
       "  <tbody>\n",
       "    <tr>\n",
       "      <th>0</th>\n",
       "      <td>1</td>\n",
       "      <td>4409.919140</td>\n",
       "      <td>25.599769</td>\n",
       "      <td>2021-01-01</td>\n",
       "    </tr>\n",
       "    <tr>\n",
       "      <th>1</th>\n",
       "      <td>1</td>\n",
       "      <td>2617.592153</td>\n",
       "      <td>15.816871</td>\n",
       "      <td>2021-01-18</td>\n",
       "    </tr>\n",
       "    <tr>\n",
       "      <th>2</th>\n",
       "      <td>1</td>\n",
       "      <td>754.159807</td>\n",
       "      <td>6.232113</td>\n",
       "      <td>2021-04-20</td>\n",
       "    </tr>\n",
       "    <tr>\n",
       "      <th>3</th>\n",
       "      <td>1</td>\n",
       "      <td>2694.783254</td>\n",
       "      <td>18.511000</td>\n",
       "      <td>2021-08-11</td>\n",
       "    </tr>\n",
       "    <tr>\n",
       "      <th>4</th>\n",
       "      <td>1</td>\n",
       "      <td>4028.687306</td>\n",
       "      <td>26.265803</td>\n",
       "      <td>2021-08-28</td>\n",
       "    </tr>\n",
       "  </tbody>\n",
       "</table>\n",
       "</div>"
      ],
      "text/plain": [
       "   user_id     distance   duration        date\n",
       "0        1  4409.919140  25.599769  2021-01-01\n",
       "1        1  2617.592153  15.816871  2021-01-18\n",
       "2        1   754.159807   6.232113  2021-04-20\n",
       "3        1  2694.783254  18.511000  2021-08-11\n",
       "4        1  4028.687306  26.265803  2021-08-28"
      ]
     },
     "metadata": {},
     "output_type": "display_data"
    },
    {
     "data": {
      "text/html": [
       "<div>\n",
       "<style scoped>\n",
       "    .dataframe tbody tr th:only-of-type {\n",
       "        vertical-align: middle;\n",
       "    }\n",
       "\n",
       "    .dataframe tbody tr th {\n",
       "        vertical-align: top;\n",
       "    }\n",
       "\n",
       "    .dataframe thead th {\n",
       "        text-align: right;\n",
       "    }\n",
       "</style>\n",
       "<table border=\"1\" class=\"dataframe\">\n",
       "  <thead>\n",
       "    <tr style=\"text-align: right;\">\n",
       "      <th></th>\n",
       "      <th>subscription_type</th>\n",
       "      <th>minute_price</th>\n",
       "      <th>start_ride_price</th>\n",
       "      <th>subscription_fee</th>\n",
       "    </tr>\n",
       "  </thead>\n",
       "  <tbody>\n",
       "    <tr>\n",
       "      <th>0</th>\n",
       "      <td>free</td>\n",
       "      <td>8</td>\n",
       "      <td>50</td>\n",
       "      <td>0</td>\n",
       "    </tr>\n",
       "    <tr>\n",
       "      <th>1</th>\n",
       "      <td>ultra</td>\n",
       "      <td>6</td>\n",
       "      <td>0</td>\n",
       "      <td>199</td>\n",
       "    </tr>\n",
       "  </tbody>\n",
       "</table>\n",
       "</div>"
      ],
      "text/plain": [
       "  subscription_type  minute_price  start_ride_price  subscription_fee\n",
       "0              free             8                50                 0\n",
       "1             ultra             6                 0               199"
      ]
     },
     "metadata": {},
     "output_type": "display_data"
    }
   ],
   "source": [
    "df_users = pd.read_csv('/datasets/users_go.csv')\n",
    "display(df_users.head())\n",
    "df_rides = pd.read_csv('/datasets/rides_go.csv')\n",
    "display(df_rides.head())\n",
    "df_subscriptions = pd.read_csv('/datasets/subscriptions_go.csv')\n",
    "display(df_subscriptions.head())"
   ]
  },
  {
   "cell_type": "markdown",
   "id": "c0c389a0",
   "metadata": {},
   "source": [
    "<div class=\"alert alert-block alert-warning\">\n",
    "<b>🔁Комментарий ревьюера:</b> \n",
    "    \n",
    "Выводить датафрейм (или его части) на экран лучше в табличном виде (без использования функции `print()`), так будет гораздо понятнее и нагляднее. Можно использовать функцию `display()`. \n",
    "\n",
    "Также перед выводом строк датафрейма стоит обозначить его название, чтобы было очевидно понятно какие строки к какому датафрейму относятся.</div>"
   ]
  },
  {
   "cell_type": "markdown",
   "id": "15589330",
   "metadata": {},
   "source": [
    "<div class=\"alert alert-block alert-success\">\n",
    "<b>✅Комментарий ревьюера 2:</b> Отлично, исправлено!👍  </div>"
   ]
  },
  {
   "cell_type": "markdown",
   "id": "5cad0071",
   "metadata": {},
   "source": [
    "<div class=\"alert alert-block alert-info\">\n",
    "<b>🔄Комментарий студента:</b> \n",
    "Использовала функцию display() для отображения таблиц.\n",
    "</div>"
   ]
  },
  {
   "cell_type": "markdown",
   "id": "e8be5d0b",
   "metadata": {},
   "source": [
    "1.2 Изучим информацию по каждому датафрейму"
   ]
  },
  {
   "cell_type": "code",
   "execution_count": 3,
   "id": "4e5d4cf2",
   "metadata": {},
   "outputs": [
    {
     "name": "stdout",
     "output_type": "stream",
     "text": [
      "<class 'pandas.core.frame.DataFrame'>\n",
      "RangeIndex: 1565 entries, 0 to 1564\n",
      "Data columns (total 5 columns):\n",
      " #   Column             Non-Null Count  Dtype \n",
      "---  ------             --------------  ----- \n",
      " 0   user_id            1565 non-null   int64 \n",
      " 1   name               1565 non-null   object\n",
      " 2   age                1565 non-null   int64 \n",
      " 3   city               1565 non-null   object\n",
      " 4   subscription_type  1565 non-null   object\n",
      "dtypes: int64(2), object(3)\n",
      "memory usage: 61.3+ KB\n"
     ]
    }
   ],
   "source": [
    "df_users.info()"
   ]
  },
  {
   "cell_type": "code",
   "execution_count": 4,
   "id": "a103ed61",
   "metadata": {},
   "outputs": [
    {
     "name": "stdout",
     "output_type": "stream",
     "text": [
      "<class 'pandas.core.frame.DataFrame'>\n",
      "RangeIndex: 18068 entries, 0 to 18067\n",
      "Data columns (total 4 columns):\n",
      " #   Column    Non-Null Count  Dtype  \n",
      "---  ------    --------------  -----  \n",
      " 0   user_id   18068 non-null  int64  \n",
      " 1   distance  18068 non-null  float64\n",
      " 2   duration  18068 non-null  float64\n",
      " 3   date      18068 non-null  object \n",
      "dtypes: float64(2), int64(1), object(1)\n",
      "memory usage: 564.8+ KB\n"
     ]
    }
   ],
   "source": [
    "df_rides.info()"
   ]
  },
  {
   "cell_type": "code",
   "execution_count": 5,
   "id": "8601ea4c",
   "metadata": {},
   "outputs": [
    {
     "name": "stdout",
     "output_type": "stream",
     "text": [
      "<class 'pandas.core.frame.DataFrame'>\n",
      "RangeIndex: 2 entries, 0 to 1\n",
      "Data columns (total 4 columns):\n",
      " #   Column             Non-Null Count  Dtype \n",
      "---  ------             --------------  ----- \n",
      " 0   subscription_type  2 non-null      object\n",
      " 1   minute_price       2 non-null      int64 \n",
      " 2   start_ride_price   2 non-null      int64 \n",
      " 3   subscription_fee   2 non-null      int64 \n",
      "dtypes: int64(3), object(1)\n",
      "memory usage: 192.0+ bytes\n"
     ]
    }
   ],
   "source": [
    "df_subscriptions.info()"
   ]
  },
  {
   "cell_type": "markdown",
   "id": "590996b6",
   "metadata": {},
   "source": [
    "Вывод: \n",
    "- в df_users 1565 записей\n",
    "- в df_rides 18068 записей\n",
    "- в df_subscriptions 2 записи\n",
    "- все столбцы указаны корректно\n",
    "\n",
    "В некоторых столбцах указан неверный тип данных."
   ]
  },
  {
   "cell_type": "markdown",
   "id": "19a00fcf",
   "metadata": {},
   "source": [
    "<div class=\"alert alert-block alert-warning\">\n",
    "<b>🔁Комментарий ревьюера :</b>\n",
    "\n",
    "Также стоит отметить  корректность наименования столбцов и наличие пропусков.</div>"
   ]
  },
  {
   "cell_type": "markdown",
   "id": "de3a9a40",
   "metadata": {},
   "source": [
    "<div class=\"alert alert-block alert-success\">\n",
    "<b>✅Комментарий ревьюера 2:</b> Отлично, исправлено!👍  </div>"
   ]
  },
  {
   "cell_type": "markdown",
   "id": "c0781c42",
   "metadata": {},
   "source": [
    "<div class=\"alert alert-block alert-info\">\n",
    "<b>🔄Комментарий студента:</b> \n",
    "Отметила корректность наименования столбцов, а наличие пропусков я проверила во 2 шаге, как и предполагалось по плану анализа\n",
    "</div>"
   ]
  },
  {
   "cell_type": "markdown",
   "id": "afc19c6b",
   "metadata": {},
   "source": [
    "#### Шаг 2. Предобработка данных"
   ]
  },
  {
   "cell_type": "markdown",
   "id": "ab28b09d",
   "metadata": {},
   "source": [
    "2.1 Приведем столбец **date** к типу даты pandas"
   ]
  },
  {
   "cell_type": "code",
   "execution_count": 6,
   "id": "803a008e",
   "metadata": {},
   "outputs": [],
   "source": [
    "df_rides['date'] = pd.to_datetime(df_rides['date'], format='%Y-%m-%d')"
   ]
  },
  {
   "cell_type": "markdown",
   "id": "8ab7377a",
   "metadata": {},
   "source": [
    "2.2 Создадим новый столбец **month** с номером месяца на основе столбца **date**"
   ]
  },
  {
   "cell_type": "code",
   "execution_count": 7,
   "id": "aa9586f0",
   "metadata": {},
   "outputs": [
    {
     "name": "stdout",
     "output_type": "stream",
     "text": [
      "Данные охаватывают период с 2021-01-01 00:00:00 по 2021-12-30 00:00:00.\n"
     ]
    }
   ],
   "source": [
    "df_rides['month'] = df_rides['date'].dt.month\n",
    "initial_date = df_rides['date'].min()\n",
    "end_date = df_rides['date'].max()\n",
    "print(f\"Данные охаватывают период с {initial_date} по {end_date}.\")"
   ]
  },
  {
   "cell_type": "markdown",
   "id": "13c0c0d6",
   "metadata": {},
   "source": [
    "<div class=\"alert alert-block alert-warning\">\n",
    "<b>🔁Комментарий ревьюера:</b> \n",
    "\n",
    "Дополнительно лучше проверить данные за какой период у нас имеются, чтобы в дальнейшем не допустить ошибок при группировке по месяцам.</div>"
   ]
  },
  {
   "cell_type": "markdown",
   "id": "d8a3836a",
   "metadata": {},
   "source": [
    "<div class=\"alert alert-block alert-success\">\n",
    "<b>✅Комментарий ревьюера 2:</b> Отлично, исправлено!👍  </div>"
   ]
  },
  {
   "cell_type": "markdown",
   "id": "d55a50ff",
   "metadata": {},
   "source": [
    "<div class=\"alert alert-block alert-info\">\n",
    "<b>🔄Комментарий студента:</b> \n",
    "Указала период дат.\n",
    "</div>"
   ]
  },
  {
   "cell_type": "markdown",
   "id": "91cb4f7d",
   "metadata": {},
   "source": [
    "2.3 Проверим наличие пропущенных значений и дубликатов в датафреймах"
   ]
  },
  {
   "cell_type": "code",
   "execution_count": 8,
   "id": "2eaaa6d3",
   "metadata": {},
   "outputs": [
    {
     "data": {
      "text/plain": [
       "user_id              0\n",
       "name                 0\n",
       "age                  0\n",
       "city                 0\n",
       "subscription_type    0\n",
       "dtype: int64"
      ]
     },
     "execution_count": 8,
     "metadata": {},
     "output_type": "execute_result"
    }
   ],
   "source": [
    "df_users.isna().sum()"
   ]
  },
  {
   "cell_type": "code",
   "execution_count": 9,
   "id": "c9ef471a",
   "metadata": {},
   "outputs": [
    {
     "data": {
      "text/plain": [
       "31"
      ]
     },
     "execution_count": 9,
     "metadata": {},
     "output_type": "execute_result"
    }
   ],
   "source": [
    "df_users.duplicated().sum()"
   ]
  },
  {
   "cell_type": "markdown",
   "id": "93b5310b",
   "metadata": {},
   "source": [
    "Обработаем явные дубликаты в **df_users**"
   ]
  },
  {
   "cell_type": "code",
   "execution_count": 10,
   "id": "b52ea028",
   "metadata": {},
   "outputs": [
    {
     "data": {
      "text/plain": [
       "0"
      ]
     },
     "execution_count": 10,
     "metadata": {},
     "output_type": "execute_result"
    }
   ],
   "source": [
    "df_users.drop_duplicates(inplace=True)\n",
    "df_users.duplicated().sum()"
   ]
  },
  {
   "cell_type": "code",
   "execution_count": 11,
   "id": "d65e79de",
   "metadata": {},
   "outputs": [
    {
     "data": {
      "text/plain": [
       "user_id     0\n",
       "distance    0\n",
       "duration    0\n",
       "date        0\n",
       "month       0\n",
       "dtype: int64"
      ]
     },
     "execution_count": 11,
     "metadata": {},
     "output_type": "execute_result"
    }
   ],
   "source": [
    "df_rides.isna().sum()"
   ]
  },
  {
   "cell_type": "code",
   "execution_count": 12,
   "id": "972efa88",
   "metadata": {},
   "outputs": [
    {
     "data": {
      "text/plain": [
       "0"
      ]
     },
     "execution_count": 12,
     "metadata": {},
     "output_type": "execute_result"
    }
   ],
   "source": [
    "df_rides.duplicated().sum()"
   ]
  },
  {
   "cell_type": "code",
   "execution_count": 13,
   "id": "cf7c86e8",
   "metadata": {},
   "outputs": [
    {
     "data": {
      "text/plain": [
       "subscription_type    0\n",
       "minute_price         0\n",
       "start_ride_price     0\n",
       "subscription_fee     0\n",
       "dtype: int64"
      ]
     },
     "execution_count": 13,
     "metadata": {},
     "output_type": "execute_result"
    }
   ],
   "source": [
    "df_subscriptions.isna().sum()"
   ]
  },
  {
   "cell_type": "code",
   "execution_count": 14,
   "id": "9626bad4",
   "metadata": {},
   "outputs": [
    {
     "data": {
      "text/plain": [
       "0"
      ]
     },
     "execution_count": 14,
     "metadata": {},
     "output_type": "execute_result"
    }
   ],
   "source": [
    "df_subscriptions.duplicated().sum()"
   ]
  },
  {
   "cell_type": "markdown",
   "id": "acb09d47",
   "metadata": {},
   "source": [
    "Вывод:\n",
    "- привели столбец **date** к типу даты pandas.\n",
    "- создали новый столбец **month** с номером месяца на основе столбца **date**\n",
    "- в датафреймах **df_rides** и **df_subscriptions** нет пропусков и явных дубликатов. В **df_users** также нет пропусков, но есть 31 дубликат.\n",
    "- дубликаты в **df_users** обработаны."
   ]
  },
  {
   "cell_type": "markdown",
   "id": "1468eb90",
   "metadata": {},
   "source": [
    "<div class=\"alert alert-block alert-success\">\n",
    "<b>✅Комментарий ревьюера:</b> Предобработка данных проведена успешно! Можно приступать к исследованию)</div>"
   ]
  },
  {
   "cell_type": "markdown",
   "id": "950ec8d6",
   "metadata": {},
   "source": [
    "#### Шаг 3. Исследовательский анализ данных"
   ]
  },
  {
   "cell_type": "markdown",
   "id": "41f25066",
   "metadata": {},
   "source": [
    "Опишем и визуализируем общую информацию о пользователях и поездках:"
   ]
  },
  {
   "cell_type": "markdown",
   "id": "41e9f6b4",
   "metadata": {},
   "source": [
    "3.1 частота встречаемости городов"
   ]
  },
  {
   "cell_type": "code",
   "execution_count": 15,
   "id": "5ea40127",
   "metadata": {},
   "outputs": [
    {
     "data": {
      "image/png": "[encoded data removed]",
      "text/plain": [
       "<Figure size 720x432 with 1 Axes>"
      ]
     },
     "metadata": {
      "needs_background": "light"
     },
     "output_type": "display_data"
    },
    {
     "data": {
      "text/plain": [
       "city\n",
       "Пятигорск         219\n",
       "Екатеринбург      204\n",
       "Ростов-на-Дону    198\n",
       "Краснодар         193\n",
       "Сочи              189\n",
       "Омск              183\n",
       "Тюмень            180\n",
       "Москва            168\n",
       "Name: user_id, dtype: int64"
      ]
     },
     "execution_count": 15,
     "metadata": {},
     "output_type": "execute_result"
    }
   ],
   "source": [
    "city_counts = df_users['city'].value_counts()\n",
    "\n",
    "city_counts.plot(kind='bar', grid=True, figsize=(10, 6))\n",
    "plt.title('Частота встречамости городов')\n",
    "plt.xlabel('Города')\n",
    "plt.ylabel('Количество пользователей')\n",
    "plt.xticks(rotation=45)\n",
    "plt.show()\n",
    "\n",
    "df_users.groupby('city')['user_id'].count().sort_values(ascending=False)"
   ]
  },
  {
   "cell_type": "markdown",
   "id": "77a09b84",
   "metadata": {},
   "source": [
    "<div class=\"alert alert-block alert-warning\">\n",
    "<b>🔁Комментарий ревьюера:</b> \n",
    "\n",
    "Количество пользователей в каждом городе можно получить немного проще, с помощью метода value_counts() </div>"
   ]
  },
  {
   "cell_type": "markdown",
   "id": "e6d33bea",
   "metadata": {},
   "source": [
    "<div class=\"alert alert-block alert-success\">\n",
    "<b>✅Комментарий ревьюера 2:</b> Отлично, исправлено!👍  </div>"
   ]
  },
  {
   "cell_type": "markdown",
   "id": "90ca60a5",
   "metadata": {},
   "source": [
    "<div class=\"alert alert-block alert-info\">\n",
    "<b>🔄Комментарий студента:</b> \n",
    "Это действительно оказалось проще, спасибо!\n",
    "</div>"
   ]
  },
  {
   "cell_type": "markdown",
   "id": "1a941ddf",
   "metadata": {},
   "source": [
    "<div class=\"alert alert-block alert-success\">\n",
    "<b>✅Комментарий ревьюера 2:</b> Пожалуйста)  </div>"
   ]
  },
  {
   "cell_type": "markdown",
   "id": "1dcc7597",
   "metadata": {},
   "source": [
    "Вывод: по графику мы видим, что лидирует Пятигорск, за ним следует Екатеринбург и остальные города."
   ]
  },
  {
   "cell_type": "markdown",
   "id": "b21a05de",
   "metadata": {},
   "source": [
    "3.2 соотношение пользователей с подпиской и без подписки"
   ]
  },
  {
   "cell_type": "code",
   "execution_count": 16,
   "id": "a44ebfe9",
   "metadata": {},
   "outputs": [
    {
     "data": {
      "image/png": "[encoded data removed]",
      "text/plain": [
       "<Figure size 504x504 with 1 Axes>"
      ]
     },
     "metadata": {},
     "output_type": "display_data"
    }
   ],
   "source": [
    "(\n",
    "    df_users.groupby('subscription_type')['user_id'].count()\n",
    "    .plot.pie(y='user_id', autopct='%1.1f%%', startangle=90, figsize=(7, 7))\n",
    ")\n",
    "plt.title('Соотношение  пользователей с подпиской и без')\n",
    "plt.ylabel('')\n",
    "plt.show()"
   ]
  },
  {
   "cell_type": "markdown",
   "id": "12d11efb",
   "metadata": {},
   "source": [
    "Вывод: диаграмма говорит нам о том, что практически половина пользователей сервиса аренды самокатов GoFast имеет подписку Ultra, но все же 54.4% пользователей не пользуется подпиской."
   ]
  },
  {
   "cell_type": "markdown",
   "id": "ad79b2d4",
   "metadata": {},
   "source": [
    "3.3 возраст пользователей"
   ]
  },
  {
   "cell_type": "code",
   "execution_count": 17,
   "id": "f557f94a",
   "metadata": {},
   "outputs": [
    {
     "data": {
      "image/png": "[encoded data removed]",
      "text/plain": [
       "<Figure size 720x432 with 1 Axes>"
      ]
     },
     "metadata": {
      "needs_background": "light"
     },
     "output_type": "display_data"
    },
    {
     "data": {
      "text/plain": [
       "25.0"
      ]
     },
     "execution_count": 17,
     "metadata": {},
     "output_type": "execute_result"
    }
   ],
   "source": [
    "(\n",
    "    df_users.groupby('age')['user_id'].count()\n",
    "    .sort_values(ascending=False)\n",
    "    .plot(kind='bar', grid=True, figsize=(10, 6))\n",
    ")\n",
    "plt.title('Возраст пользователей')\n",
    "plt.xlabel('Возраст')\n",
    "plt.ylabel('Количество пользователей')\n",
    "plt.xticks(rotation=45)\n",
    "plt.show()\n",
    "\n",
    "df_users['age'].mean().round() # узнаем средний возраст пользователя"
   ]
  },
  {
   "cell_type": "markdown",
   "id": "4af3b528",
   "metadata": {},
   "source": [
    "<div class=\"alert alert-block alert-warning\">\n",
    "<b>🔁Комментарий ревьюера:</b>\n",
    "\n",
    "Тут лучше построить гистограмму, чтобы было проще определить диапазон возраста для большинства пользователей.</div>"
   ]
  },
  {
   "cell_type": "markdown",
   "id": "a5a9ee77",
   "metadata": {},
   "source": [
    "Вывод: чаще всего сервисом пользуются пользователи 25 лет. Средний возвраст пользователя совпадает с большинством берущих в аренду электросамокат."
   ]
  },
  {
   "cell_type": "markdown",
   "id": "2d886042",
   "metadata": {},
   "source": [
    "3.4 расстояние, которое пользователь преодолел за одну поездку"
   ]
  },
  {
   "cell_type": "code",
   "execution_count": 18,
   "id": "6b89af27",
   "metadata": {},
   "outputs": [
    {
     "data": {
      "text/plain": [
       "count    18068.000000\n",
       "mean      3070.659010\n",
       "std       1116.832209\n",
       "min          1.000000\n",
       "25%       2543.000000\n",
       "50%       3134.000000\n",
       "75%       3776.000000\n",
       "max       7211.000000\n",
       "Name: distance, dtype: float64"
      ]
     },
     "execution_count": 18,
     "metadata": {},
     "output_type": "execute_result"
    }
   ],
   "source": [
    "df_rides['distance'].round().describe()"
   ]
  },
  {
   "cell_type": "code",
   "execution_count": 19,
   "id": "353cc786",
   "metadata": {},
   "outputs": [
    {
     "data": {
      "image/png": "[encoded data removed]",
      "text/plain": [
       "<Figure size 432x288 with 1 Axes>"
      ]
     },
     "metadata": {
      "needs_background": "light"
     },
     "output_type": "display_data"
    }
   ],
   "source": [
    "df_rides['distance'].hist(bins=20, range=(1, 5000))\n",
    "plt.title('Расстояние за одну поездку')\n",
    "plt.xlabel('Расстояние (м)')\n",
    "plt.ylabel('Количество поездок')\n",
    "plt.show()"
   ]
  },
  {
   "cell_type": "markdown",
   "id": "74804fcb",
   "metadata": {},
   "source": [
    "<div class=\"alert alert-block alert-warning\">\n",
    "<b>🔁Комментарий ревьюера:</b>\n",
    "\n",
    "Для чего ограничивается диапазон значений на распределении?</div>"
   ]
  },
  {
   "cell_type": "markdown",
   "id": "0ee1941b",
   "metadata": {},
   "source": [
    "<div class=\"alert alert-block alert-info\">\n",
    "<b>🔄Комментарий студента:</b> \n",
    "Для фокусировки на основном диапазоне. Это делает график визуально более понятным.\n",
    "</div>"
   ]
  },
  {
   "cell_type": "markdown",
   "id": "2cec3764",
   "metadata": {},
   "source": [
    "<div class=\"alert alert-block alert-success\">\n",
    "<b>✅Комментарий ревьюера 2:</b> \n",
    "\n",
    "Это актуально для распределений с \"жирными хвостами\", у нас же распределение позволяет вполне хорошо рассмотреть его полностью.</div>"
   ]
  },
  {
   "cell_type": "markdown",
   "id": "e6d9560c",
   "metadata": {
    "id": "5766e785"
   },
   "source": [
    "<div class=\"alert alert-block alert-danger\">\n",
    "<b>❌Комментарий ревьюера:</b> \n",
    "    \n",
    "Разве по оси у отображается количество пользователей?</div>"
   ]
  },
  {
   "cell_type": "markdown",
   "id": "6de54788",
   "metadata": {},
   "source": [
    "<div class=\"alert alert-block alert-success\">\n",
    "<b>✅Комментарий ревьюера 2:</b> Отлично, исправлено!👍  </div>"
   ]
  },
  {
   "cell_type": "markdown",
   "id": "e31c9746",
   "metadata": {},
   "source": [
    "<div class=\"alert alert-block alert-info\">\n",
    "<b>🔄Комментарий студента:</b> \n",
    "Исправила на \"Количество поездок\".\n",
    "</div>"
   ]
  },
  {
   "cell_type": "markdown",
   "id": "af183d37",
   "metadata": {},
   "source": [
    "Вывод: в среднем пользователь преодолевает 3 км за одну поездку. Обычно пользователи на электросамокате преодолевают расстояние от 2,5 до 4 км."
   ]
  },
  {
   "cell_type": "markdown",
   "id": "7cfb6a8f",
   "metadata": {},
   "source": [
    "<div class=\"alert alert-block alert-warning\">\n",
    "<b>🔁Комментарий ревьюера:</b>\n",
    "\n",
    "Как ты думаешь, чем можно объяснить два пиковых значения на распределении?</div>"
   ]
  },
  {
   "cell_type": "markdown",
   "id": "7a269c75",
   "metadata": {},
   "source": [
    "<div class=\"alert alert-block alert-info\">\n",
    "<b>🔄Комментарий студента:</b> \n",
    "К сожалению, у меня не нашлось ответа на этот вопрос.\n",
    "</div>"
   ]
  },
  {
   "cell_type": "markdown",
   "id": "7af23f3b",
   "metadata": {},
   "source": [
    "<div class=\"alert alert-block alert-success\">\n",
    "<b>✅Комментарий ревьюера 2:</b> Короткими могут быть, например, поездки до ближайшей станции метро или остановки общественного транспорта. </div>"
   ]
  },
  {
   "cell_type": "markdown",
   "id": "b88cba86",
   "metadata": {},
   "source": [
    "3.5 продолжительность поездок"
   ]
  },
  {
   "cell_type": "code",
   "execution_count": 20,
   "id": "a4683104",
   "metadata": {},
   "outputs": [
    {
     "data": {
      "text/plain": [
       "count    18068.000000\n",
       "mean        17.805011\n",
       "std          6.091051\n",
       "min          0.500000\n",
       "25%         13.597563\n",
       "50%         17.678395\n",
       "75%         21.724800\n",
       "max         40.823963\n",
       "Name: duration, dtype: float64"
      ]
     },
     "execution_count": 20,
     "metadata": {},
     "output_type": "execute_result"
    }
   ],
   "source": [
    "df_rides['duration'].describe()"
   ]
  },
  {
   "cell_type": "code",
   "execution_count": 21,
   "id": "aae88248",
   "metadata": {},
   "outputs": [
    {
     "data": {
      "image/png": "[encoded data removed]",
      "text/plain": [
       "<Figure size 432x288 with 1 Axes>"
      ]
     },
     "metadata": {
      "needs_background": "light"
     },
     "output_type": "display_data"
    }
   ],
   "source": [
    "df_rides['duration'].hist(bins=20, range=(0, 35))\n",
    "plt.title('Продолжительность поездок')\n",
    "plt.xlabel('Продолжительность (мин)')\n",
    "plt.ylabel('Количество пользователей')\n",
    "plt.show()"
   ]
  },
  {
   "cell_type": "markdown",
   "id": "89d35001",
   "metadata": {},
   "source": [
    "В данных есть аномалии, так как в столбце указаны поездки, которые длятся менее 1 минуты, что невозможно. Обработаем эти аномалии"
   ]
  },
  {
   "cell_type": "markdown",
   "id": "9d97340b",
   "metadata": {},
   "source": [
    "<div class=\"alert alert-block alert-warning\">\n",
    "<b>🔁Комментарий ревьюера:</b> \n",
    "    \n",
    "А если проверить дистанции этих поездок?\n",
    "\n",
    "Подобные моменты стоит утонять у коллег. Возможно таким образом была реализована какая-нибудь акция с бесплатными минутами и эти поездки нужно учитывать при расчете выручки.</div>"
   ]
  },
  {
   "cell_type": "code",
   "execution_count": 22,
   "id": "50413a76",
   "metadata": {},
   "outputs": [
    {
     "data": {
      "image/png": "[encoded data removed]",
      "text/plain": [
       "<Figure size 432x288 with 1 Axes>"
      ]
     },
     "metadata": {
      "needs_background": "light"
     },
     "output_type": "display_data"
    },
    {
     "data": {
      "text/plain": [
       "count    17973.000000\n",
       "mean        17.896480\n",
       "std          5.975424\n",
       "min          2.035632\n",
       "25%         13.670439\n",
       "50%         17.714122\n",
       "75%         21.747016\n",
       "max         40.823963\n",
       "Name: duration, dtype: float64"
      ]
     },
     "execution_count": 22,
     "metadata": {},
     "output_type": "execute_result"
    }
   ],
   "source": [
    "df_rides_filtered = df_rides[df_rides['duration'] >= 1]\n",
    "df_rides_filtered['duration'].hist(bins=20, range=(1, 35))\n",
    "plt.title('Продолжительность поездок')\n",
    "plt.xlabel('Продолжительность (мин)')\n",
    "plt.ylabel('Количество пользователей')\n",
    "plt.show()\n",
    "\n",
    "df_rides_filtered['duration'].describe()"
   ]
  },
  {
   "cell_type": "markdown",
   "id": "48bfe3b5",
   "metadata": {},
   "source": [
    "Вывод: продолжительность поездки занимает от 13 до 21 минуты, в среднем - 17 минут."
   ]
  },
  {
   "cell_type": "markdown",
   "id": "ef47826f",
   "metadata": {},
   "source": [
    "Вывод по исследовательскому анализу данных:\n",
    "- в основном берут в аренду электросамокат в Пятигорске и Екатеринбурге.\n",
    "- чуть больше половины пользователей 54.4% пользуются сервисом GoFast без подписки, остальная часть 45.6% использует подписку Ultra.\n",
    "- чаще всего сервисом пользуются пользователи 25 лет. Средний возраст пользователя совпадает с большинством берущих в аренду электросамокат.\n",
    "- в среднем пользователь преодолевает 3 км за одну поездку. Обычно пользователи на электросамокате преодолевают расстояние от 2,5 до 4 км.\n",
    "- продолжительность поездки занимает от 13 до 21 минуты, в среднем - 17 минут. В данных убрали аномалии в виде поездок продолжительностью менее 1 минуты."
   ]
  },
  {
   "cell_type": "markdown",
   "id": "d34a8e5a",
   "metadata": {},
   "source": [
    "<div class=\"alert alert-block alert-success\">\n",
    "<b>✅Комментарий ревьюера:</b> Основные параметры поездок и характеристики пользователей изучены! </div>"
   ]
  },
  {
   "cell_type": "markdown",
   "id": "b6aff8c1",
   "metadata": {},
   "source": [
    "#### Шаг 4. Объединение данных"
   ]
  },
  {
   "cell_type": "markdown",
   "id": "c18b2aa9",
   "metadata": {},
   "source": [
    "4.1 Объединим данные о пользователях, поездках и подписках в один датафрейм"
   ]
  },
  {
   "cell_type": "code",
   "execution_count": 23,
   "id": "d0350771",
   "metadata": {},
   "outputs": [],
   "source": [
    "merged_df = pd.merge(df_users, df_rides, how='inner', on='user_id') # объединим два датафрейма по общему столбцу user_id\n",
    "final_df = pd.merge(merged_df, df_subscriptions, how='inner', on='subscription_type') # объединим два датафрейма с третьим по столбцу subscription_type"
   ]
  },
  {
   "cell_type": "code",
   "execution_count": 24,
   "id": "ead6c557",
   "metadata": {},
   "outputs": [
    {
     "name": "stdout",
     "output_type": "stream",
     "text": [
      "<class 'pandas.core.frame.DataFrame'>\n",
      "Int64Index: 18068 entries, 0 to 18067\n",
      "Data columns (total 12 columns):\n",
      " #   Column             Non-Null Count  Dtype         \n",
      "---  ------             --------------  -----         \n",
      " 0   user_id            18068 non-null  int64         \n",
      " 1   name               18068 non-null  object        \n",
      " 2   age                18068 non-null  int64         \n",
      " 3   city               18068 non-null  object        \n",
      " 4   subscription_type  18068 non-null  object        \n",
      " 5   distance           18068 non-null  float64       \n",
      " 6   duration           18068 non-null  float64       \n",
      " 7   date               18068 non-null  datetime64[ns]\n",
      " 8   month              18068 non-null  int64         \n",
      " 9   minute_price       18068 non-null  int64         \n",
      " 10  start_ride_price   18068 non-null  int64         \n",
      " 11  subscription_fee   18068 non-null  int64         \n",
      "dtypes: datetime64[ns](1), float64(2), int64(6), object(3)\n",
      "memory usage: 1.8+ MB\n"
     ]
    }
   ],
   "source": [
    "final_df.info()"
   ]
  },
  {
   "cell_type": "code",
   "execution_count": 25,
   "id": "963d5906",
   "metadata": {},
   "outputs": [
    {
     "data": {
      "text/html": [
       "<div>\n",
       "<style scoped>\n",
       "    .dataframe tbody tr th:only-of-type {\n",
       "        vertical-align: middle;\n",
       "    }\n",
       "\n",
       "    .dataframe tbody tr th {\n",
       "        vertical-align: top;\n",
       "    }\n",
       "\n",
       "    .dataframe thead th {\n",
       "        text-align: right;\n",
       "    }\n",
       "</style>\n",
       "<table border=\"1\" class=\"dataframe\">\n",
       "  <thead>\n",
       "    <tr style=\"text-align: right;\">\n",
       "      <th></th>\n",
       "      <th>user_id</th>\n",
       "      <th>name</th>\n",
       "      <th>age</th>\n",
       "      <th>city</th>\n",
       "      <th>subscription_type</th>\n",
       "      <th>distance</th>\n",
       "      <th>duration</th>\n",
       "      <th>date</th>\n",
       "      <th>month</th>\n",
       "      <th>minute_price</th>\n",
       "      <th>start_ride_price</th>\n",
       "      <th>subscription_fee</th>\n",
       "    </tr>\n",
       "  </thead>\n",
       "  <tbody>\n",
       "    <tr>\n",
       "      <th>0</th>\n",
       "      <td>1</td>\n",
       "      <td>Кира</td>\n",
       "      <td>22</td>\n",
       "      <td>Тюмень</td>\n",
       "      <td>ultra</td>\n",
       "      <td>4409.919140</td>\n",
       "      <td>25.599769</td>\n",
       "      <td>2021-01-01</td>\n",
       "      <td>1</td>\n",
       "      <td>6</td>\n",
       "      <td>0</td>\n",
       "      <td>199</td>\n",
       "    </tr>\n",
       "    <tr>\n",
       "      <th>1</th>\n",
       "      <td>1</td>\n",
       "      <td>Кира</td>\n",
       "      <td>22</td>\n",
       "      <td>Тюмень</td>\n",
       "      <td>ultra</td>\n",
       "      <td>2617.592153</td>\n",
       "      <td>15.816871</td>\n",
       "      <td>2021-01-18</td>\n",
       "      <td>1</td>\n",
       "      <td>6</td>\n",
       "      <td>0</td>\n",
       "      <td>199</td>\n",
       "    </tr>\n",
       "    <tr>\n",
       "      <th>2</th>\n",
       "      <td>1</td>\n",
       "      <td>Кира</td>\n",
       "      <td>22</td>\n",
       "      <td>Тюмень</td>\n",
       "      <td>ultra</td>\n",
       "      <td>754.159807</td>\n",
       "      <td>6.232113</td>\n",
       "      <td>2021-04-20</td>\n",
       "      <td>4</td>\n",
       "      <td>6</td>\n",
       "      <td>0</td>\n",
       "      <td>199</td>\n",
       "    </tr>\n",
       "    <tr>\n",
       "      <th>3</th>\n",
       "      <td>1</td>\n",
       "      <td>Кира</td>\n",
       "      <td>22</td>\n",
       "      <td>Тюмень</td>\n",
       "      <td>ultra</td>\n",
       "      <td>2694.783254</td>\n",
       "      <td>18.511000</td>\n",
       "      <td>2021-08-11</td>\n",
       "      <td>8</td>\n",
       "      <td>6</td>\n",
       "      <td>0</td>\n",
       "      <td>199</td>\n",
       "    </tr>\n",
       "    <tr>\n",
       "      <th>4</th>\n",
       "      <td>1</td>\n",
       "      <td>Кира</td>\n",
       "      <td>22</td>\n",
       "      <td>Тюмень</td>\n",
       "      <td>ultra</td>\n",
       "      <td>4028.687306</td>\n",
       "      <td>26.265803</td>\n",
       "      <td>2021-08-28</td>\n",
       "      <td>8</td>\n",
       "      <td>6</td>\n",
       "      <td>0</td>\n",
       "      <td>199</td>\n",
       "    </tr>\n",
       "  </tbody>\n",
       "</table>\n",
       "</div>"
      ],
      "text/plain": [
       "   user_id  name  age    city subscription_type     distance   duration  \\\n",
       "0        1  Кира   22  Тюмень             ultra  4409.919140  25.599769   \n",
       "1        1  Кира   22  Тюмень             ultra  2617.592153  15.816871   \n",
       "2        1  Кира   22  Тюмень             ultra   754.159807   6.232113   \n",
       "3        1  Кира   22  Тюмень             ultra  2694.783254  18.511000   \n",
       "4        1  Кира   22  Тюмень             ultra  4028.687306  26.265803   \n",
       "\n",
       "        date  month  minute_price  start_ride_price  subscription_fee  \n",
       "0 2021-01-01      1             6                 0               199  \n",
       "1 2021-01-18      1             6                 0               199  \n",
       "2 2021-04-20      4             6                 0               199  \n",
       "3 2021-08-11      8             6                 0               199  \n",
       "4 2021-08-28      8             6                 0               199  "
      ]
     },
     "execution_count": 25,
     "metadata": {},
     "output_type": "execute_result"
    }
   ],
   "source": [
    "final_df.head()"
   ]
  },
  {
   "cell_type": "markdown",
   "id": "f74f3e42",
   "metadata": {},
   "source": [
    "Вывод: в новом датафрейме final_df 18068 записей. Столько же записей в исходном датафрейме df_rides, это значит, что в таблице нет пропусков."
   ]
  },
  {
   "cell_type": "markdown",
   "id": "9ca9d55a",
   "metadata": {},
   "source": [
    "<div class=\"alert alert-block alert-success\">\n",
    "<b>✅Комментарий ревьюера:</b> Молодец, что проверила! </div>"
   ]
  },
  {
   "cell_type": "markdown",
   "id": "0f2f829c",
   "metadata": {},
   "source": [
    "4.2 Создадим ещё два датафрейма из датафрейма, созданного на этапе 4.1:\n",
    "- c данными о пользователях без подписки;"
   ]
  },
  {
   "cell_type": "code",
   "execution_count": 26,
   "id": "f7e724fa",
   "metadata": {},
   "outputs": [
    {
     "data": {
      "text/html": [
       "<div>\n",
       "<style scoped>\n",
       "    .dataframe tbody tr th:only-of-type {\n",
       "        vertical-align: middle;\n",
       "    }\n",
       "\n",
       "    .dataframe tbody tr th {\n",
       "        vertical-align: top;\n",
       "    }\n",
       "\n",
       "    .dataframe thead th {\n",
       "        text-align: right;\n",
       "    }\n",
       "</style>\n",
       "<table border=\"1\" class=\"dataframe\">\n",
       "  <thead>\n",
       "    <tr style=\"text-align: right;\">\n",
       "      <th></th>\n",
       "      <th>user_id</th>\n",
       "      <th>name</th>\n",
       "      <th>age</th>\n",
       "      <th>city</th>\n",
       "      <th>subscription_type</th>\n",
       "      <th>distance</th>\n",
       "      <th>duration</th>\n",
       "      <th>date</th>\n",
       "      <th>month</th>\n",
       "      <th>minute_price</th>\n",
       "      <th>start_ride_price</th>\n",
       "      <th>subscription_fee</th>\n",
       "    </tr>\n",
       "  </thead>\n",
       "  <tbody>\n",
       "    <tr>\n",
       "      <th>6500</th>\n",
       "      <td>700</td>\n",
       "      <td>Айдар</td>\n",
       "      <td>22</td>\n",
       "      <td>Омск</td>\n",
       "      <td>free</td>\n",
       "      <td>2515.690719</td>\n",
       "      <td>14.944286</td>\n",
       "      <td>2021-01-02</td>\n",
       "      <td>1</td>\n",
       "      <td>8</td>\n",
       "      <td>50</td>\n",
       "      <td>0</td>\n",
       "    </tr>\n",
       "    <tr>\n",
       "      <th>6501</th>\n",
       "      <td>700</td>\n",
       "      <td>Айдар</td>\n",
       "      <td>22</td>\n",
       "      <td>Омск</td>\n",
       "      <td>free</td>\n",
       "      <td>846.932642</td>\n",
       "      <td>16.234663</td>\n",
       "      <td>2021-02-01</td>\n",
       "      <td>2</td>\n",
       "      <td>8</td>\n",
       "      <td>50</td>\n",
       "      <td>0</td>\n",
       "    </tr>\n",
       "    <tr>\n",
       "      <th>6502</th>\n",
       "      <td>700</td>\n",
       "      <td>Айдар</td>\n",
       "      <td>22</td>\n",
       "      <td>Омск</td>\n",
       "      <td>free</td>\n",
       "      <td>4004.434142</td>\n",
       "      <td>20.016628</td>\n",
       "      <td>2021-02-04</td>\n",
       "      <td>2</td>\n",
       "      <td>8</td>\n",
       "      <td>50</td>\n",
       "      <td>0</td>\n",
       "    </tr>\n",
       "    <tr>\n",
       "      <th>6503</th>\n",
       "      <td>700</td>\n",
       "      <td>Айдар</td>\n",
       "      <td>22</td>\n",
       "      <td>Омск</td>\n",
       "      <td>free</td>\n",
       "      <td>1205.911290</td>\n",
       "      <td>9.782872</td>\n",
       "      <td>2021-02-10</td>\n",
       "      <td>2</td>\n",
       "      <td>8</td>\n",
       "      <td>50</td>\n",
       "      <td>0</td>\n",
       "    </tr>\n",
       "    <tr>\n",
       "      <th>6504</th>\n",
       "      <td>700</td>\n",
       "      <td>Айдар</td>\n",
       "      <td>22</td>\n",
       "      <td>Омск</td>\n",
       "      <td>free</td>\n",
       "      <td>3047.379435</td>\n",
       "      <td>17.427673</td>\n",
       "      <td>2021-02-14</td>\n",
       "      <td>2</td>\n",
       "      <td>8</td>\n",
       "      <td>50</td>\n",
       "      <td>0</td>\n",
       "    </tr>\n",
       "  </tbody>\n",
       "</table>\n",
       "</div>"
      ],
      "text/plain": [
       "      user_id   name  age  city subscription_type     distance   duration  \\\n",
       "6500      700  Айдар   22  Омск              free  2515.690719  14.944286   \n",
       "6501      700  Айдар   22  Омск              free   846.932642  16.234663   \n",
       "6502      700  Айдар   22  Омск              free  4004.434142  20.016628   \n",
       "6503      700  Айдар   22  Омск              free  1205.911290   9.782872   \n",
       "6504      700  Айдар   22  Омск              free  3047.379435  17.427673   \n",
       "\n",
       "           date  month  minute_price  start_ride_price  subscription_fee  \n",
       "6500 2021-01-02      1             8                50                 0  \n",
       "6501 2021-02-01      2             8                50                 0  \n",
       "6502 2021-02-04      2             8                50                 0  \n",
       "6503 2021-02-10      2             8                50                 0  \n",
       "6504 2021-02-14      2             8                50                 0  "
      ]
     },
     "execution_count": 26,
     "metadata": {},
     "output_type": "execute_result"
    }
   ],
   "source": [
    "df_free = final_df[final_df['subscription_type'] == 'free']\n",
    "df_free.head()"
   ]
  },
  {
   "cell_type": "markdown",
   "id": "18c1d780",
   "metadata": {},
   "source": [
    "- с данными о пользователях с подпиской"
   ]
  },
  {
   "cell_type": "code",
   "execution_count": 27,
   "id": "4374bc35",
   "metadata": {},
   "outputs": [
    {
     "data": {
      "text/html": [
       "<div>\n",
       "<style scoped>\n",
       "    .dataframe tbody tr th:only-of-type {\n",
       "        vertical-align: middle;\n",
       "    }\n",
       "\n",
       "    .dataframe tbody tr th {\n",
       "        vertical-align: top;\n",
       "    }\n",
       "\n",
       "    .dataframe thead th {\n",
       "        text-align: right;\n",
       "    }\n",
       "</style>\n",
       "<table border=\"1\" class=\"dataframe\">\n",
       "  <thead>\n",
       "    <tr style=\"text-align: right;\">\n",
       "      <th></th>\n",
       "      <th>user_id</th>\n",
       "      <th>name</th>\n",
       "      <th>age</th>\n",
       "      <th>city</th>\n",
       "      <th>subscription_type</th>\n",
       "      <th>distance</th>\n",
       "      <th>duration</th>\n",
       "      <th>date</th>\n",
       "      <th>month</th>\n",
       "      <th>minute_price</th>\n",
       "      <th>start_ride_price</th>\n",
       "      <th>subscription_fee</th>\n",
       "    </tr>\n",
       "  </thead>\n",
       "  <tbody>\n",
       "    <tr>\n",
       "      <th>0</th>\n",
       "      <td>1</td>\n",
       "      <td>Кира</td>\n",
       "      <td>22</td>\n",
       "      <td>Тюмень</td>\n",
       "      <td>ultra</td>\n",
       "      <td>4409.919140</td>\n",
       "      <td>25.599769</td>\n",
       "      <td>2021-01-01</td>\n",
       "      <td>1</td>\n",
       "      <td>6</td>\n",
       "      <td>0</td>\n",
       "      <td>199</td>\n",
       "    </tr>\n",
       "    <tr>\n",
       "      <th>1</th>\n",
       "      <td>1</td>\n",
       "      <td>Кира</td>\n",
       "      <td>22</td>\n",
       "      <td>Тюмень</td>\n",
       "      <td>ultra</td>\n",
       "      <td>2617.592153</td>\n",
       "      <td>15.816871</td>\n",
       "      <td>2021-01-18</td>\n",
       "      <td>1</td>\n",
       "      <td>6</td>\n",
       "      <td>0</td>\n",
       "      <td>199</td>\n",
       "    </tr>\n",
       "    <tr>\n",
       "      <th>2</th>\n",
       "      <td>1</td>\n",
       "      <td>Кира</td>\n",
       "      <td>22</td>\n",
       "      <td>Тюмень</td>\n",
       "      <td>ultra</td>\n",
       "      <td>754.159807</td>\n",
       "      <td>6.232113</td>\n",
       "      <td>2021-04-20</td>\n",
       "      <td>4</td>\n",
       "      <td>6</td>\n",
       "      <td>0</td>\n",
       "      <td>199</td>\n",
       "    </tr>\n",
       "    <tr>\n",
       "      <th>3</th>\n",
       "      <td>1</td>\n",
       "      <td>Кира</td>\n",
       "      <td>22</td>\n",
       "      <td>Тюмень</td>\n",
       "      <td>ultra</td>\n",
       "      <td>2694.783254</td>\n",
       "      <td>18.511000</td>\n",
       "      <td>2021-08-11</td>\n",
       "      <td>8</td>\n",
       "      <td>6</td>\n",
       "      <td>0</td>\n",
       "      <td>199</td>\n",
       "    </tr>\n",
       "    <tr>\n",
       "      <th>4</th>\n",
       "      <td>1</td>\n",
       "      <td>Кира</td>\n",
       "      <td>22</td>\n",
       "      <td>Тюмень</td>\n",
       "      <td>ultra</td>\n",
       "      <td>4028.687306</td>\n",
       "      <td>26.265803</td>\n",
       "      <td>2021-08-28</td>\n",
       "      <td>8</td>\n",
       "      <td>6</td>\n",
       "      <td>0</td>\n",
       "      <td>199</td>\n",
       "    </tr>\n",
       "  </tbody>\n",
       "</table>\n",
       "</div>"
      ],
      "text/plain": [
       "   user_id  name  age    city subscription_type     distance   duration  \\\n",
       "0        1  Кира   22  Тюмень             ultra  4409.919140  25.599769   \n",
       "1        1  Кира   22  Тюмень             ultra  2617.592153  15.816871   \n",
       "2        1  Кира   22  Тюмень             ultra   754.159807   6.232113   \n",
       "3        1  Кира   22  Тюмень             ultra  2694.783254  18.511000   \n",
       "4        1  Кира   22  Тюмень             ultra  4028.687306  26.265803   \n",
       "\n",
       "        date  month  minute_price  start_ride_price  subscription_fee  \n",
       "0 2021-01-01      1             6                 0               199  \n",
       "1 2021-01-18      1             6                 0               199  \n",
       "2 2021-04-20      4             6                 0               199  \n",
       "3 2021-08-11      8             6                 0               199  \n",
       "4 2021-08-28      8             6                 0               199  "
      ]
     },
     "execution_count": 27,
     "metadata": {},
     "output_type": "execute_result"
    }
   ],
   "source": [
    "df_ultra = final_df[final_df['subscription_type'] == 'ultra']\n",
    "df_ultra.head()"
   ]
  },
  {
   "cell_type": "markdown",
   "id": "6d259306",
   "metadata": {},
   "source": [
    "<div class=\"alert alert-block alert-success\">\n",
    "<b>✅Комментарий ревьюера:</b> Таблицы созданы верно!  </div>"
   ]
  },
  {
   "cell_type": "markdown",
   "id": "52e4a9e1",
   "metadata": {},
   "source": [
    "4.3 Визуализируем информацию о расстоянии и времени поездок для пользователей обеих категорий"
   ]
  },
  {
   "cell_type": "code",
   "execution_count": 28,
   "id": "2f8dc3c0",
   "metadata": {},
   "outputs": [
    {
     "data": {
      "image/png": "[encoded data removed]",
      "text/plain": [
       "<Figure size 432x288 with 1 Axes>"
      ]
     },
     "metadata": {
      "needs_background": "light"
     },
     "output_type": "display_data"
    }
   ],
   "source": [
    "plt.hist([df_free['distance'], df_ultra['distance']], bins=50, label=['free', 'ultra'])\n",
    "plt.title('Количество поездок в зависимости от расстояния')\n",
    "plt.xlabel('Расстояние в метрах')\n",
    "plt.ylabel('Количество поездок')\n",
    "plt.legend()\n",
    "plt.grid()\n",
    "plt.show()"
   ]
  },
  {
   "cell_type": "code",
   "execution_count": 29,
   "id": "ce9ee9ac",
   "metadata": {
    "scrolled": true
   },
   "outputs": [
    {
     "data": {
      "image/png": "[encoded data removed]",
      "text/plain": [
       "<Figure size 432x288 with 1 Axes>"
      ]
     },
     "metadata": {
      "needs_background": "light"
     },
     "output_type": "display_data"
    }
   ],
   "source": [
    "plt.hist([df_free['duration'], df_ultra['duration']], bins=50, label=['free', 'ultra'])\n",
    "plt.title('Количество поездок в зависимости от времени')\n",
    "plt.xlabel('Время в минутах')\n",
    "plt.ylabel('Количество поездок')\n",
    "plt.legend()\n",
    "plt.grid()\n",
    "plt.show()"
   ]
  },
  {
   "cell_type": "markdown",
   "id": "2ed6225f",
   "metadata": {},
   "source": [
    "<div class=\"alert alert-block alert-warning\">\n",
    "<b>🔁Комментарий ревьюера:</b> \n",
    "\n",
    "На этих распределениях тоже нет смысла ограничивать диапазоны значений.</div>"
   ]
  },
  {
   "cell_type": "markdown",
   "id": "eb935fc6",
   "metadata": {},
   "source": [
    "<div class=\"alert alert-block alert-success\">\n",
    "<b>✅Комментарий ревьюера 2:</b> Отлично, исправлено!👍  </div>"
   ]
  },
  {
   "cell_type": "markdown",
   "id": "edfe1b95",
   "metadata": {},
   "source": [
    "<div class=\"alert alert-block alert-info\">\n",
    "<b>🔄Комментарий студента:</b> \n",
    "Убрала диапазоны значений.\n",
    "</div>"
   ]
  },
  {
   "cell_type": "code",
   "execution_count": 30,
   "id": "1e0a2aa2",
   "metadata": {},
   "outputs": [
    {
     "data": {
      "text/plain": [
       "count    11568.000000\n",
       "mean        17.390909\n",
       "std          6.326803\n",
       "min          0.500000\n",
       "25%         12.958437\n",
       "50%         17.326890\n",
       "75%         21.594071\n",
       "max         34.948498\n",
       "Name: duration, dtype: float64"
      ]
     },
     "execution_count": 30,
     "metadata": {},
     "output_type": "execute_result"
    }
   ],
   "source": [
    "df_free['duration'].describe()"
   ]
  },
  {
   "cell_type": "code",
   "execution_count": 31,
   "id": "ca1cc332",
   "metadata": {},
   "outputs": [
    {
     "data": {
      "text/plain": [
       "count    11568.000000\n",
       "mean      3045.495282\n",
       "std       1246.173806\n",
       "min          0.855683\n",
       "25%       2366.562689\n",
       "50%       3114.648465\n",
       "75%       3905.697894\n",
       "max       7211.007745\n",
       "Name: distance, dtype: float64"
      ]
     },
     "execution_count": 31,
     "metadata": {},
     "output_type": "execute_result"
    }
   ],
   "source": [
    "df_free['distance'].describe()"
   ]
  },
  {
   "cell_type": "code",
   "execution_count": 32,
   "id": "b142b587",
   "metadata": {},
   "outputs": [
    {
     "data": {
      "text/plain": [
       "count    6500.000000\n",
       "mean       18.541985\n",
       "std         5.572048\n",
       "min         3.760353\n",
       "25%        14.524654\n",
       "50%        18.178153\n",
       "75%        21.884129\n",
       "max        40.823963\n",
       "Name: duration, dtype: float64"
      ]
     },
     "execution_count": 32,
     "metadata": {},
     "output_type": "execute_result"
    }
   ],
   "source": [
    "df_ultra['duration'].describe()"
   ]
  },
  {
   "cell_type": "code",
   "execution_count": 33,
   "id": "d2c846e8",
   "metadata": {},
   "outputs": [
    {
     "data": {
      "text/plain": [
       "count    6500.000000\n",
       "mean     3115.445388\n",
       "std       836.895330\n",
       "min       244.210438\n",
       "25%      2785.444017\n",
       "50%      3148.637229\n",
       "75%      3560.574425\n",
       "max      5699.769662\n",
       "Name: distance, dtype: float64"
      ]
     },
     "execution_count": 33,
     "metadata": {},
     "output_type": "execute_result"
    }
   ],
   "source": [
    "df_ultra['distance'].describe()"
   ]
  },
  {
   "cell_type": "markdown",
   "id": "91b2c3eb",
   "metadata": {},
   "source": [
    "Вывод: сравнивая таблицы с данными пользователей с подпиской и без, мы видим, что меняется медианное значение (расстояние поездки без подписки (free) 3114.64 метров, с подпиской (ultra) - 3148.63 метров). Также мы заметили, что у пользователей без подписки разброс данных больше (стандартное отклонение с подпиской 836.89, без подписки - 1246.17).\n",
    "\n",
    "Графическое представление информации о расстоянии и времени поездок и описательная статистика демонстрируют влияние наличия подписки на медианные значения. Поездки с подпиской в среднем длятся 19 минут, без подписки - 18. Что касается разброса данных, то наличие подписки его уменьшает (стандартное отклонение с подпиской 5.57, без подписки - 6.33)."
   ]
  },
  {
   "cell_type": "markdown",
   "id": "9d595f5b",
   "metadata": {},
   "source": [
    "<div class=\"alert alert-block alert-success\">\n",
    "<b>✅Комментарий ревьюера:</b> Отлично, различия в поведении двух групп пользователей изучили!  </div>"
   ]
  },
  {
   "cell_type": "markdown",
   "id": "b837af08",
   "metadata": {},
   "source": [
    "#### Шаг 5. Подсчёт выручки"
   ]
  },
  {
   "cell_type": "markdown",
   "id": "5eb9eb92",
   "metadata": {},
   "source": [
    "5.1 Создадим датафрейм с агрегированными данными о поездках на основе датафрейма с объединёнными данными из шага 4: найдем суммарное расстояние, количество поездок и суммарное время для каждого пользователя за каждый месяц."
   ]
  },
  {
   "cell_type": "code",
   "execution_count": 34,
   "id": "f208d0aa",
   "metadata": {},
   "outputs": [
    {
     "data": {
      "text/html": [
       "<div>\n",
       "<style scoped>\n",
       "    .dataframe tbody tr th:only-of-type {\n",
       "        vertical-align: middle;\n",
       "    }\n",
       "\n",
       "    .dataframe tbody tr th {\n",
       "        vertical-align: top;\n",
       "    }\n",
       "\n",
       "    .dataframe thead th {\n",
       "        text-align: right;\n",
       "    }\n",
       "</style>\n",
       "<table border=\"1\" class=\"dataframe\">\n",
       "  <thead>\n",
       "    <tr style=\"text-align: right;\">\n",
       "      <th></th>\n",
       "      <th></th>\n",
       "      <th>distance</th>\n",
       "      <th>total_trips</th>\n",
       "      <th>duration</th>\n",
       "      <th>minute_price</th>\n",
       "      <th>start_ride_price</th>\n",
       "      <th>subscription_fee</th>\n",
       "      <th>subscription_type</th>\n",
       "    </tr>\n",
       "    <tr>\n",
       "      <th>user_id</th>\n",
       "      <th>month</th>\n",
       "      <th></th>\n",
       "      <th></th>\n",
       "      <th></th>\n",
       "      <th></th>\n",
       "      <th></th>\n",
       "      <th></th>\n",
       "      <th></th>\n",
       "    </tr>\n",
       "  </thead>\n",
       "  <tbody>\n",
       "    <tr>\n",
       "      <th rowspan=\"5\" valign=\"top\">1</th>\n",
       "      <th>1</th>\n",
       "      <td>7027.511294</td>\n",
       "      <td>2</td>\n",
       "      <td>42.0</td>\n",
       "      <td>6</td>\n",
       "      <td>0</td>\n",
       "      <td>199</td>\n",
       "      <td>ultra</td>\n",
       "    </tr>\n",
       "    <tr>\n",
       "      <th>4</th>\n",
       "      <td>754.159807</td>\n",
       "      <td>1</td>\n",
       "      <td>7.0</td>\n",
       "      <td>6</td>\n",
       "      <td>0</td>\n",
       "      <td>199</td>\n",
       "      <td>ultra</td>\n",
       "    </tr>\n",
       "    <tr>\n",
       "      <th>8</th>\n",
       "      <td>6723.470560</td>\n",
       "      <td>2</td>\n",
       "      <td>46.0</td>\n",
       "      <td>6</td>\n",
       "      <td>0</td>\n",
       "      <td>199</td>\n",
       "      <td>ultra</td>\n",
       "    </tr>\n",
       "    <tr>\n",
       "      <th>10</th>\n",
       "      <td>5809.911100</td>\n",
       "      <td>2</td>\n",
       "      <td>32.0</td>\n",
       "      <td>6</td>\n",
       "      <td>0</td>\n",
       "      <td>199</td>\n",
       "      <td>ultra</td>\n",
       "    </tr>\n",
       "    <tr>\n",
       "      <th>11</th>\n",
       "      <td>7003.499363</td>\n",
       "      <td>3</td>\n",
       "      <td>56.0</td>\n",
       "      <td>6</td>\n",
       "      <td>0</td>\n",
       "      <td>199</td>\n",
       "      <td>ultra</td>\n",
       "    </tr>\n",
       "  </tbody>\n",
       "</table>\n",
       "</div>"
      ],
      "text/plain": [
       "                  distance  total_trips  duration  minute_price  \\\n",
       "user_id month                                                     \n",
       "1       1      7027.511294            2      42.0             6   \n",
       "        4       754.159807            1       7.0             6   \n",
       "        8      6723.470560            2      46.0             6   \n",
       "        10     5809.911100            2      32.0             6   \n",
       "        11     7003.499363            3      56.0             6   \n",
       "\n",
       "               start_ride_price  subscription_fee subscription_type  \n",
       "user_id month                                                        \n",
       "1       1                     0               199             ultra  \n",
       "        4                     0               199             ultra  \n",
       "        8                     0               199             ultra  \n",
       "        10                    0               199             ultra  \n",
       "        11                    0               199             ultra  "
      ]
     },
     "execution_count": 34,
     "metadata": {},
     "output_type": "execute_result"
    }
   ],
   "source": [
    "final_df['duration'] = np.ceil(final_df['duration'])\n",
    "new_df = final_df.groupby(['user_id', 'month']).agg(\n",
    "    distance=('distance', 'sum'),\n",
    "    total_trips=('distance', 'count'),\n",
    "    duration=('duration', 'sum'),\n",
    "    minute_price=('minute_price', 'mean'),\n",
    "    start_ride_price=('start_ride_price', 'mean'),\n",
    "    subscription_fee=('subscription_fee', 'first'),\n",
    "    subscription_type=('subscription_type', 'first')\n",
    ")\n",
    "\n",
    "new_df.head()"
   ]
  },
  {
   "cell_type": "markdown",
   "id": "66d26b9e",
   "metadata": {},
   "source": [
    "<div class=\"alert alert-block alert-warning\">\n",
    "<b>🔁Комментарий ревьюера:</b> \n",
    "\n",
    "Также в сводную таблицу стоит добавить тип подписки, чтобы мы могли корректно и легко разделять пользователей.</div>\n",
    "\n",
    "<div class=\"alert alert-block alert-info\">\n",
    "<b>🔄Комментарий студента:</b> \n",
    "Добавила столбец с типом подписки и округлила поездки в исходной объединенной таблице final_df до агрегирования.\n",
    "</div>"
   ]
  },
  {
   "cell_type": "markdown",
   "id": "e682f609",
   "metadata": {},
   "source": [
    "<div class=\"alert alert-block alert-success\">\n",
    "<b>✅Комментарий ревьюера 2:</b> Отлично, исправлено!👍  </div>"
   ]
  },
  {
   "cell_type": "markdown",
   "id": "3ad5003e",
   "metadata": {},
   "source": [
    "5.2 В этот же датафрейм добавим столбец с помесячной выручкой, которую принёс каждый пользователь"
   ]
  },
  {
   "cell_type": "markdown",
   "id": "a8068638",
   "metadata": {},
   "source": [
    "<div class=\"alert alert-block alert-danger\">\n",
    "<b>❌Комментарий ревьюера:</b> \n",
    "    \n",
    "Метод округления продолжительности поездок выбран верный, но округлять необходимо каждую поездку, то есть в исходной объединенной таблице до агрегирования.\n",
    "\n",
    "\n",
    "</div>"
   ]
  },
  {
   "cell_type": "markdown",
   "id": "eca737a5",
   "metadata": {},
   "source": [
    "<div class=\"alert alert-block alert-success\">\n",
    "<b>✅Комментарий ревьюера 2:</b> Отлично, исправлено!👍  </div>"
   ]
  },
  {
   "cell_type": "code",
   "execution_count": 35,
   "id": "bfcbfd9b",
   "metadata": {},
   "outputs": [
    {
     "data": {
      "text/plain": [
       "3878641.0"
      ]
     },
     "execution_count": 35,
     "metadata": {},
     "output_type": "execute_result"
    }
   ],
   "source": [
    "new_df['revenue'] = new_df['start_ride_price'] * new_df['total_trips'] + new_df['minute_price'] * new_df['duration'] + new_df['subscription_fee']\n",
    "new_df['revenue'].sum()"
   ]
  },
  {
   "cell_type": "markdown",
   "id": "087c97ae",
   "metadata": {},
   "source": [
    "<div class=\"alert alert-block alert-warning\">\n",
    "<b>🔁Комментарий ревьюера:</b> \n",
    "    \n",
    "Формула для расчета выручки верная, но результат получился не совсем правильным из-за некорректного округления продолжительности.\n",
    "\n",
    "</div>"
   ]
  },
  {
   "cell_type": "markdown",
   "id": "e58df4d0",
   "metadata": {},
   "source": [
    "<div class=\"alert alert-block alert-success\">\n",
    "<b>✅Комментарий ревьюера 2:</b> Отлично, исправлено!👍  </div>"
   ]
  },
  {
   "cell_type": "markdown",
   "id": "eb5a8815",
   "metadata": {},
   "source": [
    "Вывод: выручка сервиса аренды самокатов составила 3878641 рублей за год."
   ]
  },
  {
   "cell_type": "markdown",
   "id": "426ab59e",
   "metadata": {},
   "source": [
    "#### Шаг 6. Проверка гипотез"
   ]
  },
  {
   "cell_type": "markdown",
   "id": "6feb667f",
   "metadata": {},
   "source": [
    "6.1 Тратят ли пользователи с подпиской больше времени на поездки? \n",
    "Если да, то пользователи с подпиской могут быть «выгоднее» для компании. "
   ]
  },
  {
   "cell_type": "markdown",
   "id": "6a7a6286",
   "metadata": {},
   "source": [
    "Наша нулевая гипотеза (H0) звучит так:\n",
    "- Средняя продолжительность (duration) для группы df_free равна средней продолжительности для группы df_ultra\n",
    "\n",
    "Альтернативная (H1):\n",
    "- Средняя продолжительность для группы df_ultra (с подпиской) больше, чем для группы df_free (без подписки)"
   ]
  },
  {
   "cell_type": "markdown",
   "id": "f49b9fc8",
   "metadata": {},
   "source": [
    "<div class=\"alert alert-block alert-success\">\n",
    "<b>✅Комментарий ревьюера:</b> Здорово, что формулируешь гипотезы перед проверкой!</div>"
   ]
  },
  {
   "cell_type": "code",
   "execution_count": 36,
   "id": "0bb1c0bd",
   "metadata": {},
   "outputs": [
    {
     "name": "stdout",
     "output_type": "stream",
     "text": [
      "p-значение: 1.2804098316645618e-34\n",
      "Отвергаем нулевую гипотезу\n"
     ]
    }
   ],
   "source": [
    "results = st.ttest_ind(df_ultra['duration'], df_free['duration'], equal_var=True, alternative='greater')\n",
    "print('p-значение:', results.pvalue)\n",
    "\n",
    "alpha = 0.05\n",
    "\n",
    "if results.pvalue < alpha:\n",
    "    print('Отвергаем нулевую гипотезу')\n",
    "else:\n",
    "    print('Не получилось отвергнуть нулевую гипотезу') "
   ]
  },
  {
   "cell_type": "markdown",
   "id": "851100d7",
   "metadata": {},
   "source": [
    "Вывод: Мы отвергаем нулевую гипотезу, потому что результаты теста показывают, что средняя продолжительность в группе df_ultra действительно больше, чем в группе df_free. Это говорит о том, что между этими двумя группами существует статистически значимая разница."
   ]
  },
  {
   "cell_type": "markdown",
   "id": "68bbc009",
   "metadata": {},
   "source": [
    "6.2 Расстояние одной поездки в 3130 метров — оптимальное с точки зрения износа самоката. Можно ли сказать, что среднее расстояние, которое проезжают пользователи с подпиской за одну поездку, не превышает 3130 метров? "
   ]
  },
  {
   "cell_type": "markdown",
   "id": "255b03bc",
   "metadata": {},
   "source": [
    "Наши гипотезы:\n",
    "- H0: Среднее расстояние поездок для подписчиков не превышает 3130 метров\n",
    "- H1: Среднее расстояние поездок для подписчиков превышает 3130 метров"
   ]
  },
  {
   "cell_type": "code",
   "execution_count": 37,
   "id": "a8223372",
   "metadata": {},
   "outputs": [
    {
     "name": "stdout",
     "output_type": "stream",
     "text": [
      "p-значение: 0.9195368847849785\n",
      "Не отвергаем нулевую гипотезу\n"
     ]
    }
   ],
   "source": [
    "distance = 3130\n",
    "alpha = 0.05\n",
    "results = st.ttest_1samp(df_ultra['distance'], distance, alternative='greater')\n",
    "\n",
    "print('p-значение:', results.pvalue)\n",
    "if results.pvalue < alpha:\n",
    "    print('Отвергаем нулевую гипотезу')\n",
    "else:\n",
    "    print('Не отвергаем нулевую гипотезу')"
   ]
  },
  {
   "cell_type": "markdown",
   "id": "d073c9b0",
   "metadata": {},
   "source": [
    "Вывод: Нулевую гипотезу мы не отвергли, соответственно, среднее расстояние поездок для подписчиков сервиса не превышает оптимальные 3130 метров с точки зрения износа самоката."
   ]
  },
  {
   "cell_type": "markdown",
   "id": "2c3d747b",
   "metadata": {},
   "source": [
    "6.3 Проверим гипотезу о том, будет ли помесячная выручка от пользователей с подпиской по месяцам выше, чем выручка от пользователей без подписки. "
   ]
  },
  {
   "cell_type": "markdown",
   "id": "2af9f493",
   "metadata": {},
   "source": [
    "Сформулируем гипотезы:\n",
    "- H0: помесячная выручка от подписчиков по месяцам равна выручке от пользователей без подписки\n",
    "- H1: помесячная выручка от подписчиков по месяцам выше выручки от пользователей без подписки"
   ]
  },
  {
   "cell_type": "code",
   "execution_count": 38,
   "id": "4ddd18d5",
   "metadata": {},
   "outputs": [
    {
     "name": "stdout",
     "output_type": "stream",
     "text": [
      "p-значение: 1.8850394384715216e-31\n",
      "Отвергаем нулевую гипотезу\n"
     ]
    }
   ],
   "source": [
    "results = st.ttest_ind(\n",
    "    new_df.loc[new_df['subscription_fee'] > 0, 'revenue'],\n",
    "    new_df.loc[new_df['subscription_fee'] == 0, 'revenue'],\n",
    "    equal_var=True,\n",
    "    alternative='greater')\n",
    "print('p-значение:', results.pvalue)\n",
    "\n",
    "alpha = 0.05\n",
    "if results.pvalue < alpha:\n",
    "    print('Отвергаем нулевую гипотезу')\n",
    "else:\n",
    "    print('Не отвергаем нулевую гипотезу')"
   ]
  },
  {
   "cell_type": "markdown",
   "id": "a23edfd5",
   "metadata": {},
   "source": [
    "Вывод: мы отвергаем нулевую гипотезу, значит, по результатам теста мы можем сказать, что помесячная выручка от подписчиков по месяцам действительно выше выручки от пользователей без подписки. Таким образом, данные свидетельствуют о том, что подписчики приносят больше выручки по сравнению с пользователями без подписки."
   ]
  },
  {
   "cell_type": "markdown",
   "id": "b78abd11",
   "metadata": {},
   "source": [
    "<div class=\"alert alert-block alert-success\">\n",
    "<b>✅Комментарий ревьюера:</b> Гипотезы верно проработаны!</div>"
   ]
  },
  {
   "cell_type": "markdown",
   "id": "61e56eb8",
   "metadata": {},
   "source": [
    "6.4 Представим такую ситуацию: техническая команда сервиса обновила сервера, с которыми взаимодействует мобильное приложение. Она надеется, что из-за этого количество обращений в техподдержку значимо снизилось. Некоторый файл содержит для каждого пользователя данные о количестве обращений до обновления и после него. Какой тест понадобился бы для проверки этой гипотезы?"
   ]
  },
  {
   "cell_type": "markdown",
   "id": "7d8e5af3",
   "metadata": {},
   "source": [
    "Выборки в этом случае будут зависимыми, иначе — парными. Парная выборка означает, что некоторая переменная измеряется дважды для одних и тех же объектов. В нашем примере это пара обращений в техподдержку каждого пользователя — до и после обновления серверов. \n",
    "\n",
    "Чтобы проверить гипотезу о равенстве среднего генеральной совокупности для зависимых (парных) выборок в Python, применим метод scipy.stats.ttest_rel(). Также нужно указать alternative='less', чтобы проверить левостороннюю альтернативную гипотезу о том, что истинное среднее генеральной совокупности до изменения меньше, чем истинное среднее генеральной совокупности после изменения."
   ]
  },
  {
   "cell_type": "markdown",
   "id": "b3911a72",
   "metadata": {},
   "source": [
    "<div class=\"alert alert-block alert-success\">\n",
    "<b>✅Комментарий ревьюера:</b> Метод выбран верно </div>"
   ]
  },
  {
   "cell_type": "markdown",
   "id": "fb364cba",
   "metadata": {},
   "source": [
    "Вывод по проверке гипотез:\n",
    "1. Мы отвергаем нулевую гипотезу, потому что результаты теста показывают, что средняя продолжительность в группе df_ultra действительно больше, чем в группе df_free. Это говорит о том, что между этими двумя группами существует статистически значимая разница.\n",
    "2. Нулевую гипотезу мы не отвергли, соответственно, среднее расстояние поездок для подписчиков сервиса не превышает оптимальные 3130 метров с точки зрения износа самоката.\n",
    "3. Мы отвергаем нулевую гипотезу, значит, по результатам теста мы можем сказать, что помесячная выручка от подписчиков по месяцам действительно выше выручки от пользователей без подписки. Таким образом, данные свидетельствуют о том, что подписчики приносят больше выручки по сравнению с пользователями без подписки.\n",
    "4. Выборки в этом случае будут зависимыми, иначе — парными. Парная выборка означает, что некоторая переменная измеряется дважды для одних и тех же объектов. В нашем примере это пара обращений в техподдержку каждого пользователя — до и после обновления серверов. Чтобы проверить гипотезу о равенстве среднего генеральной совокупности для зависимых (парных) выборок в Python, применим метод scipy.stats.ttest_rel(). Также нужно указать alternative='less', чтобы проверить левостороннюю альтернативную гипотезу о том, что истинное среднее генеральной совокупности до изменения меньше, чем истинное среднее генеральной совокупности после изменения."
   ]
  },
  {
   "cell_type": "markdown",
   "id": "53dfe192",
   "metadata": {},
   "source": [
    "#### Шаг 7. Распределения"
   ]
  },
  {
   "cell_type": "markdown",
   "id": "5beccecc",
   "metadata": {},
   "source": [
    "Общий вывод:\n",
    "В ходе анализа данных популярного сервиса аренды самокатов GoFast были выполнены следующие шаги:\n",
    "1. Загрузка данных:\n",
    "- в df_users 1565 записей\n",
    "- в df_rides 18068 записей\n",
    "- в df_subscriptions 2 записи\n",
    "- все столбцы указаны корректно\n",
    "\n",
    "В некоторых столбцах указан неверный тип данных.\n",
    "\n",
    "2. Предобработка данных:\n",
    "- привели столбец **date** к типу даты pandas.\n",
    "- создали новый столбец **month** с номером месяца на основе столбца **date**\n",
    "- в датафреймах **df_rides** и **df_subscriptions** нет пропусков и явных дубликатов. В **df_users** также нет пропусков, но есть 31 дубликат.\n",
    "- дубликаты в **df_users** обработаны.\n",
    "\n",
    "3. Исследовательский анализ данных:\n",
    "- в основном берут в аренду электросамокат в Пятигорске и Екатеринбурге.\n",
    "- чуть больше половины пользователей 54.4% пользуются сервисом GoFast без подписки, остальная часть 45.6% использует подписку Ultra.\n",
    "- чаще всего сервисом пользуются пользователи 25 лет. Средний возраст пользователя совпадает с большинством берущих в аренду электросамокат.\n",
    "- в среднем пользователь преодолевает 3 км за одну поездку. Обычно пользователи на электросамокате преодолевают расстояние от 2,5 до 4 км.\n",
    "- продолжительность поездки занимает от 13 до 21 минуты, в среднем - 17 минут. В данных убрали аномалии в виде поездок продолжительностью менее 1 минуты.\n",
    "\n",
    "4. Объединение данных:\n",
    "\n",
    "Сравнивая таблицы с данными пользователей с подпиской и без, мы видим, что меняется медианное значение (расстояние поездки без подписки (free) 3114.64 метров, с подпиской (ultra) - 3148.63 метров). Также мы заметили, что у пользователей без подписки разброс данных больше (стандартное отклонение с подпиской 836.89, без подписки - 1246.17).\n",
    "\n",
    "Графическое представление информации о расстоянии и времени поездок и описательная статистика демонстрируют влияние наличия подписки на медианные значения. Поездки с подпиской в среднем длятся 19 минут, без подписки - 18. Что касается разброса данных, то наличие подписки его уменьшает (стандартное отклонение с подпиской 5.57, без подписки - 6.33).\n",
    "\n",
    "5. Подсчет выручки:\n",
    "- выручка сервиса аренды самокатов составила 3878641 рублей за год.\n",
    "\n",
    "6. Проверка гипотез:\n",
    "    1. Мы отвергаем нулевую гипотезу, потому что результаты теста показывают, что средняя продолжительность в группе df_ultra действительно больше, чем в группе df_free. Это говорит о том, что между этими двумя группами существует статистически значимая разница.\n",
    "    2. Нулевую гипотезу мы не отвергли, соответственно, среднее расстояние поездок для подписчиков сервиса не превышает оптимальные 3130 метров с точки зрения износа самоката.\n",
    "    3. Мы отвергаем нулевую гипотезу, значит, по результатам теста мы можем сказать, что помесячная выручка от подписчиков по месяцам действительно выше выручки от пользователей без подписки. Таким образом, данные свидетельствуют о том, что подписчики приносят больше выручки по сравнению с пользователями без подписки.\n",
    "    4. Выборки в этом случае будут зависимыми, иначе — парными. Парная выборка означает, что некоторая переменная измеряется дважды для одних и тех же объектов. В нашем примере это пара обращений в техподдержку каждого пользователя — до и после обновления серверов. Чтобы проверить гипотезу о равенстве среднего генеральной совокупности для зависимых (парных) выборок в Python, применим метод scipy.stats.ttest_rel(). Также нужно указать alternative='less', чтобы проверить левостороннюю альтернативную гипотезу о том, что истинное среднее генеральной совокупности до изменения меньше, чем истинное среднее генеральной совокупности после изменения."
   ]
  },
  {
   "cell_type": "markdown",
   "id": "44de3faf",
   "metadata": {},
   "source": [
    "<div class=\"alert alert-block alert-warning\">\n",
    "<b>🔁Комментарий ревьюера:</b> \n",
    "    \n",
    "\n",
    "\n",
    "\n",
    "Являются ли пользователи с подпиской более \"выгодными\" для компании? Можем ли мы сформулировать какие-нибудь рекомендации?</div>"
   ]
  },
  {
   "cell_type": "markdown",
   "id": "4248a866",
   "metadata": {},
   "source": [
    "<div class=\"alert alert-block alert-success\">\n",
    "<b>✅Комментарий ревьюера 2:</b> Отлично, исправлено!👍  </div>"
   ]
  },
  {
   "cell_type": "markdown",
   "id": "ecb4c0fd",
   "metadata": {},
   "source": [
    "<div class=\"alert alert-block alert-info\">\n",
    "<b>🔄Комментарий студента:</b> \n",
    "Для компании пользователи с подпиской являются более выгодными, так как с ней средняя продолжительность поездок дольше и расстояние больше. Компания может увеличить число пользователей с подпиской, если будет проводить акции, например, первый месяц подписки бесплатный или на 50% меньше полной стоимости, а со следующего месяца 199 рублей.\n",
    "</div>"
   ]
  },
  {
   "cell_type": "markdown",
   "id": "64e44947",
   "metadata": {},
   "source": [
    "<div class=\"alert alert-block alert-success\">\n",
    "<b>✅Комментарий ревьюера:</b> \n",
    "\n",
    "\n",
    "Хороший резюмирующий вывод!\n",
    "\n",
    "\n",
    "    \n",
    "**Хочу обратить твое внимание на то, что после исправления замечаний в некоторых пунктах исследования могут измениться результаты, поэтому нужно будет подкорректировать выводы.**\n",
    "</div>"
   ]
  },
  {
   "cell_type": "markdown",
   "id": "74ab0ed3",
   "metadata": {},
   "source": [
    "<div class=\"alert alert-block alert-info\">\n",
    "<b>🔄Комментарий студента:</b> \n",
    "Спасибо за замечания! Подправила все, что смогла.\n",
    "</div>"
   ]
  },
  {
   "cell_type": "markdown",
   "id": "dd1cb0e3",
   "metadata": {},
   "source": [
    "<div class=\"alert alert-block alert-success\">\n",
    "<b>✅Комментарий ревьюера 2:</b> Рад знакомству! Спасибо за комментарии и обратную связь!  </div>"
   ]
  }
 ],
 "metadata": {
  "ExecuteTimeLog": [
   {
    "duration": 50,
    "start_time": "2024-09-05T12:20:14.256Z"
   },
   {
    "duration": 452,
    "start_time": "2024-09-05T12:20:22.557Z"
   },
   {
    "duration": 294,
    "start_time": "2024-09-05T12:20:23.011Z"
   },
   {
    "duration": 14,
    "start_time": "2024-09-05T12:20:59.953Z"
   },
   {
    "duration": 9,
    "start_time": "2024-09-05T12:21:15.789Z"
   },
   {
    "duration": 6,
    "start_time": "2024-09-05T12:21:50.059Z"
   },
   {
    "duration": 6,
    "start_time": "2024-09-05T12:21:50.493Z"
   },
   {
    "duration": 5,
    "start_time": "2024-09-05T12:21:50.832Z"
   },
   {
    "duration": 77,
    "start_time": "2024-09-05T12:33:21.588Z"
   },
   {
    "duration": 11,
    "start_time": "2024-09-05T12:34:13.671Z"
   },
   {
    "duration": 16,
    "start_time": "2024-09-05T12:35:04.937Z"
   },
   {
    "duration": 16,
    "start_time": "2024-09-05T12:35:14.240Z"
   },
   {
    "duration": 7,
    "start_time": "2024-09-05T12:43:50.003Z"
   },
   {
    "duration": 5,
    "start_time": "2024-09-05T12:49:51.721Z"
   },
   {
    "duration": 21,
    "start_time": "2024-09-05T12:52:26.839Z"
   },
   {
    "duration": 11,
    "start_time": "2024-09-05T12:52:27.250Z"
   },
   {
    "duration": 6,
    "start_time": "2024-09-05T12:52:27.667Z"
   },
   {
    "duration": 11,
    "start_time": "2024-09-05T12:52:52.362Z"
   },
   {
    "duration": 75,
    "start_time": "2024-09-05T12:53:02.989Z"
   },
   {
    "duration": 9,
    "start_time": "2024-09-05T12:53:44.542Z"
   },
   {
    "duration": 7,
    "start_time": "2024-09-05T12:53:48.293Z"
   },
   {
    "duration": 6,
    "start_time": "2024-09-05T12:54:31.592Z"
   },
   {
    "duration": 9,
    "start_time": "2024-09-05T12:54:47.597Z"
   },
   {
    "duration": 6,
    "start_time": "2024-09-05T12:55:00.381Z"
   },
   {
    "duration": 6,
    "start_time": "2024-09-05T12:55:10.408Z"
   },
   {
    "duration": 16,
    "start_time": "2024-09-05T12:56:05.200Z"
   },
   {
    "duration": 9,
    "start_time": "2024-09-05T12:56:11.394Z"
   },
   {
    "duration": 8,
    "start_time": "2024-09-05T12:56:20.883Z"
   },
   {
    "duration": 1340,
    "start_time": "2024-09-05T12:56:45.326Z"
   },
   {
    "duration": 88,
    "start_time": "2024-09-05T12:56:46.668Z"
   },
   {
    "duration": 15,
    "start_time": "2024-09-05T12:56:46.760Z"
   },
   {
    "duration": 11,
    "start_time": "2024-09-05T12:56:46.776Z"
   },
   {
    "duration": 17,
    "start_time": "2024-09-05T12:56:46.789Z"
   },
   {
    "duration": 26,
    "start_time": "2024-09-05T12:56:46.808Z"
   },
   {
    "duration": 5,
    "start_time": "2024-09-05T12:56:46.835Z"
   },
   {
    "duration": 19,
    "start_time": "2024-09-05T12:56:46.841Z"
   },
   {
    "duration": 6,
    "start_time": "2024-09-05T12:56:46.862Z"
   },
   {
    "duration": 8,
    "start_time": "2024-09-05T12:56:46.869Z"
   },
   {
    "duration": 8,
    "start_time": "2024-09-05T12:56:46.878Z"
   },
   {
    "duration": 8,
    "start_time": "2024-09-05T12:56:46.888Z"
   },
   {
    "duration": 20,
    "start_time": "2024-09-05T12:56:46.897Z"
   },
   {
    "duration": 28,
    "start_time": "2024-09-05T12:56:46.920Z"
   },
   {
    "duration": 103,
    "start_time": "2024-09-05T12:57:11.693Z"
   },
   {
    "duration": 5,
    "start_time": "2024-09-05T12:57:30.962Z"
   },
   {
    "duration": 9,
    "start_time": "2024-09-05T12:57:36.820Z"
   },
   {
    "duration": 55,
    "start_time": "2024-09-05T12:59:01.677Z"
   },
   {
    "duration": 14,
    "start_time": "2024-09-05T13:00:06.417Z"
   },
   {
    "duration": 1224,
    "start_time": "2024-09-05T13:08:29.432Z"
   },
   {
    "duration": 82,
    "start_time": "2024-09-05T13:08:30.661Z"
   },
   {
    "duration": 19,
    "start_time": "2024-09-05T13:08:30.745Z"
   },
   {
    "duration": 12,
    "start_time": "2024-09-05T13:08:30.766Z"
   },
   {
    "duration": 11,
    "start_time": "2024-09-05T13:08:30.780Z"
   },
   {
    "duration": 20,
    "start_time": "2024-09-05T13:08:30.793Z"
   },
   {
    "duration": 5,
    "start_time": "2024-09-05T13:08:30.815Z"
   },
   {
    "duration": 19,
    "start_time": "2024-09-05T13:08:30.821Z"
   },
   {
    "duration": 9,
    "start_time": "2024-09-05T13:08:30.847Z"
   },
   {
    "duration": 8,
    "start_time": "2024-09-05T13:08:30.861Z"
   },
   {
    "duration": 6,
    "start_time": "2024-09-05T13:08:30.870Z"
   },
   {
    "duration": 8,
    "start_time": "2024-09-05T13:08:30.878Z"
   },
   {
    "duration": 5,
    "start_time": "2024-09-05T13:08:30.888Z"
   },
   {
    "duration": 35,
    "start_time": "2024-09-05T13:08:30.895Z"
   },
   {
    "duration": 15,
    "start_time": "2024-09-05T13:22:51.547Z"
   },
   {
    "duration": 272,
    "start_time": "2024-09-05T13:23:44.260Z"
   },
   {
    "duration": 67,
    "start_time": "2024-09-05T13:32:04.777Z"
   },
   {
    "duration": 118,
    "start_time": "2024-09-05T13:33:12.541Z"
   },
   {
    "duration": 250,
    "start_time": "2024-09-05T13:34:12.475Z"
   },
   {
    "duration": 247,
    "start_time": "2024-09-05T13:35:20.893Z"
   },
   {
    "duration": 255,
    "start_time": "2024-09-05T13:36:35.371Z"
   },
   {
    "duration": 1185,
    "start_time": "2024-09-05T13:36:46.636Z"
   },
   {
    "duration": 92,
    "start_time": "2024-09-05T13:36:47.823Z"
   },
   {
    "duration": 10,
    "start_time": "2024-09-05T13:36:47.917Z"
   },
   {
    "duration": 32,
    "start_time": "2024-09-05T13:36:47.929Z"
   },
   {
    "duration": 16,
    "start_time": "2024-09-05T13:36:47.963Z"
   },
   {
    "duration": 9,
    "start_time": "2024-09-05T13:36:47.981Z"
   },
   {
    "duration": 5,
    "start_time": "2024-09-05T13:36:47.991Z"
   },
   {
    "duration": 22,
    "start_time": "2024-09-05T13:36:47.998Z"
   },
   {
    "duration": 39,
    "start_time": "2024-09-05T13:36:48.022Z"
   },
   {
    "duration": 9,
    "start_time": "2024-09-05T13:36:48.063Z"
   },
   {
    "duration": 17,
    "start_time": "2024-09-05T13:36:48.073Z"
   },
   {
    "duration": 11,
    "start_time": "2024-09-05T13:36:48.091Z"
   },
   {
    "duration": 5,
    "start_time": "2024-09-05T13:36:48.104Z"
   },
   {
    "duration": 5,
    "start_time": "2024-09-05T13:36:48.111Z"
   },
   {
    "duration": 281,
    "start_time": "2024-09-05T13:36:48.117Z"
   },
   {
    "duration": 294,
    "start_time": "2024-09-05T13:36:48.400Z"
   },
   {
    "duration": 106,
    "start_time": "2024-09-05T13:37:06.238Z"
   },
   {
    "duration": 217,
    "start_time": "2024-09-05T13:37:29.074Z"
   },
   {
    "duration": 202,
    "start_time": "2024-09-05T13:38:27.131Z"
   },
   {
    "duration": 251,
    "start_time": "2024-09-05T13:39:13.957Z"
   },
   {
    "duration": 16,
    "start_time": "2024-09-05T13:39:26.616Z"
   },
   {
    "duration": 9,
    "start_time": "2024-09-05T13:39:31.712Z"
   },
   {
    "duration": 10,
    "start_time": "2024-09-05T13:39:39.423Z"
   },
   {
    "duration": 251,
    "start_time": "2024-09-05T13:39:45.453Z"
   },
   {
    "duration": 258,
    "start_time": "2024-09-05T13:40:02.632Z"
   },
   {
    "duration": 245,
    "start_time": "2024-09-05T13:40:19.692Z"
   },
   {
    "duration": 271,
    "start_time": "2024-09-05T13:42:17.489Z"
   },
   {
    "duration": 166,
    "start_time": "2024-09-05T13:42:30.652Z"
   },
   {
    "duration": 172,
    "start_time": "2024-09-05T13:42:45.539Z"
   },
   {
    "duration": 1209,
    "start_time": "2024-09-05T13:45:42.155Z"
   },
   {
    "duration": 84,
    "start_time": "2024-09-05T13:45:43.366Z"
   },
   {
    "duration": 14,
    "start_time": "2024-09-05T13:45:43.454Z"
   },
   {
    "duration": 32,
    "start_time": "2024-09-05T13:45:43.470Z"
   },
   {
    "duration": 10,
    "start_time": "2024-09-05T13:45:43.503Z"
   },
   {
    "duration": 19,
    "start_time": "2024-09-05T13:45:43.515Z"
   },
   {
    "duration": 19,
    "start_time": "2024-09-05T13:45:43.535Z"
   },
   {
    "duration": 26,
    "start_time": "2024-09-05T13:45:43.556Z"
   },
   {
    "duration": 11,
    "start_time": "2024-09-05T13:45:43.584Z"
   },
   {
    "duration": 15,
    "start_time": "2024-09-05T13:45:43.597Z"
   },
   {
    "duration": 8,
    "start_time": "2024-09-05T13:45:43.614Z"
   },
   {
    "duration": 41,
    "start_time": "2024-09-05T13:45:43.624Z"
   },
   {
    "duration": 15,
    "start_time": "2024-09-05T13:45:43.666Z"
   },
   {
    "duration": 18,
    "start_time": "2024-09-05T13:45:43.683Z"
   },
   {
    "duration": 202,
    "start_time": "2024-09-05T13:45:43.703Z"
   },
   {
    "duration": 112,
    "start_time": "2024-09-05T13:50:51.971Z"
   },
   {
    "duration": 11,
    "start_time": "2024-09-05T13:52:23.325Z"
   },
   {
    "duration": 14,
    "start_time": "2024-09-05T13:53:42.741Z"
   },
   {
    "duration": 115,
    "start_time": "2024-09-05T13:54:22.421Z"
   },
   {
    "duration": 93,
    "start_time": "2024-09-05T13:54:32.173Z"
   },
   {
    "duration": 108,
    "start_time": "2024-09-05T13:54:46.443Z"
   },
   {
    "duration": 92,
    "start_time": "2024-09-05T13:54:53.128Z"
   },
   {
    "duration": 101,
    "start_time": "2024-09-05T13:55:30.592Z"
   },
   {
    "duration": 103,
    "start_time": "2024-09-05T13:55:35.899Z"
   },
   {
    "duration": 319,
    "start_time": "2024-09-05T14:00:58.595Z"
   },
   {
    "duration": 209,
    "start_time": "2024-09-05T14:02:05.772Z"
   },
   {
    "duration": 282,
    "start_time": "2024-09-05T14:02:42.269Z"
   },
   {
    "duration": 320,
    "start_time": "2024-09-05T14:02:52.577Z"
   },
   {
    "duration": 303,
    "start_time": "2024-09-05T14:03:29.477Z"
   },
   {
    "duration": 329,
    "start_time": "2024-09-05T14:03:55.305Z"
   },
   {
    "duration": 326,
    "start_time": "2024-09-05T14:04:03.795Z"
   },
   {
    "duration": 382,
    "start_time": "2024-09-05T14:04:44.129Z"
   },
   {
    "duration": 1098,
    "start_time": "2024-09-05T14:12:37.912Z"
   },
   {
    "duration": 79,
    "start_time": "2024-09-05T14:12:39.012Z"
   },
   {
    "duration": 15,
    "start_time": "2024-09-05T14:12:39.093Z"
   },
   {
    "duration": 20,
    "start_time": "2024-09-05T14:12:39.111Z"
   },
   {
    "duration": 16,
    "start_time": "2024-09-05T14:12:39.133Z"
   },
   {
    "duration": 18,
    "start_time": "2024-09-05T14:12:39.158Z"
   },
   {
    "duration": 13,
    "start_time": "2024-09-05T14:12:39.179Z"
   },
   {
    "duration": 22,
    "start_time": "2024-09-05T14:12:39.194Z"
   },
   {
    "duration": 19,
    "start_time": "2024-09-05T14:12:39.218Z"
   },
   {
    "duration": 14,
    "start_time": "2024-09-05T14:12:39.240Z"
   },
   {
    "duration": 9,
    "start_time": "2024-09-05T14:12:39.256Z"
   },
   {
    "duration": 20,
    "start_time": "2024-09-05T14:12:39.267Z"
   },
   {
    "duration": 6,
    "start_time": "2024-09-05T14:12:39.288Z"
   },
   {
    "duration": 17,
    "start_time": "2024-09-05T14:12:39.296Z"
   },
   {
    "duration": 221,
    "start_time": "2024-09-05T14:12:39.315Z"
   },
   {
    "duration": 99,
    "start_time": "2024-09-05T14:12:39.537Z"
   },
   {
    "duration": 295,
    "start_time": "2024-09-05T14:12:39.637Z"
   },
   {
    "duration": 1178,
    "start_time": "2024-09-05T14:14:37.040Z"
   },
   {
    "duration": 83,
    "start_time": "2024-09-05T14:14:38.220Z"
   },
   {
    "duration": 11,
    "start_time": "2024-09-05T14:14:38.305Z"
   },
   {
    "duration": 23,
    "start_time": "2024-09-05T14:14:38.317Z"
   },
   {
    "duration": 18,
    "start_time": "2024-09-05T14:14:38.342Z"
   },
   {
    "duration": 10,
    "start_time": "2024-09-05T14:14:38.362Z"
   },
   {
    "duration": 13,
    "start_time": "2024-09-05T14:14:38.374Z"
   },
   {
    "duration": 23,
    "start_time": "2024-09-05T14:14:38.389Z"
   },
   {
    "duration": 10,
    "start_time": "2024-09-05T14:14:38.414Z"
   },
   {
    "duration": 8,
    "start_time": "2024-09-05T14:14:38.425Z"
   },
   {
    "duration": 5,
    "start_time": "2024-09-05T14:14:38.435Z"
   },
   {
    "duration": 21,
    "start_time": "2024-09-05T14:14:38.442Z"
   },
   {
    "duration": 18,
    "start_time": "2024-09-05T14:14:38.465Z"
   },
   {
    "duration": 5,
    "start_time": "2024-09-05T14:14:38.485Z"
   },
   {
    "duration": 229,
    "start_time": "2024-09-05T14:14:38.491Z"
   },
   {
    "duration": 99,
    "start_time": "2024-09-05T14:14:38.721Z"
   },
   {
    "duration": 308,
    "start_time": "2024-09-05T14:14:38.821Z"
   },
   {
    "duration": 27,
    "start_time": "2024-09-05T14:14:39.131Z"
   },
   {
    "duration": 168,
    "start_time": "2024-09-05T14:16:14.075Z"
   },
   {
    "duration": 167,
    "start_time": "2024-09-05T14:16:32.773Z"
   },
   {
    "duration": 172,
    "start_time": "2024-09-05T14:16:37.657Z"
   },
   {
    "duration": 58,
    "start_time": "2024-09-05T14:17:01.933Z"
   },
   {
    "duration": 8,
    "start_time": "2024-09-05T14:17:05.416Z"
   },
   {
    "duration": 183,
    "start_time": "2024-09-05T14:17:58.130Z"
   },
   {
    "duration": 8,
    "start_time": "2024-09-05T14:18:13.374Z"
   },
   {
    "duration": 10,
    "start_time": "2024-09-05T14:19:16.756Z"
   },
   {
    "duration": 179,
    "start_time": "2024-09-05T14:20:31.060Z"
   },
   {
    "duration": 10,
    "start_time": "2024-09-05T14:27:06.085Z"
   },
   {
    "duration": 295,
    "start_time": "2024-09-05T14:27:06.440Z"
   },
   {
    "duration": 207,
    "start_time": "2024-09-05T14:27:20.359Z"
   },
   {
    "duration": 11,
    "start_time": "2024-09-05T14:27:32.871Z"
   },
   {
    "duration": 57,
    "start_time": "2024-09-05T14:36:37.131Z"
   },
   {
    "duration": 9,
    "start_time": "2024-09-05T14:36:40.411Z"
   },
   {
    "duration": 173,
    "start_time": "2024-09-05T14:38:11.293Z"
   },
   {
    "duration": 161,
    "start_time": "2024-09-05T14:38:15.608Z"
   },
   {
    "duration": 157,
    "start_time": "2024-09-05T14:38:34.016Z"
   },
   {
    "duration": 204,
    "start_time": "2024-09-05T14:38:37.808Z"
   },
   {
    "duration": 184,
    "start_time": "2024-09-05T14:40:06.709Z"
   },
   {
    "duration": 628,
    "start_time": "2024-09-05T14:40:23.086Z"
   },
   {
    "duration": 259,
    "start_time": "2024-09-05T14:40:41.793Z"
   },
   {
    "duration": 175,
    "start_time": "2024-09-05T14:40:57.791Z"
   },
   {
    "duration": 179,
    "start_time": "2024-09-05T14:41:07.623Z"
   },
   {
    "duration": 1218,
    "start_time": "2024-09-05T14:41:27.618Z"
   },
   {
    "duration": 79,
    "start_time": "2024-09-05T14:41:28.838Z"
   },
   {
    "duration": 11,
    "start_time": "2024-09-05T14:41:28.918Z"
   },
   {
    "duration": 19,
    "start_time": "2024-09-05T14:41:28.931Z"
   },
   {
    "duration": 9,
    "start_time": "2024-09-05T14:41:28.952Z"
   },
   {
    "duration": 30,
    "start_time": "2024-09-05T14:41:28.963Z"
   },
   {
    "duration": 12,
    "start_time": "2024-09-05T14:41:28.995Z"
   },
   {
    "duration": 16,
    "start_time": "2024-09-05T14:41:29.009Z"
   },
   {
    "duration": 19,
    "start_time": "2024-09-05T14:41:29.027Z"
   },
   {
    "duration": 18,
    "start_time": "2024-09-05T14:41:29.048Z"
   },
   {
    "duration": 11,
    "start_time": "2024-09-05T14:41:29.067Z"
   },
   {
    "duration": 14,
    "start_time": "2024-09-05T14:41:29.080Z"
   },
   {
    "duration": 11,
    "start_time": "2024-09-05T14:41:29.095Z"
   },
   {
    "duration": 9,
    "start_time": "2024-09-05T14:41:29.108Z"
   },
   {
    "duration": 192,
    "start_time": "2024-09-05T14:41:29.119Z"
   },
   {
    "duration": 98,
    "start_time": "2024-09-05T14:41:29.313Z"
   },
   {
    "duration": 307,
    "start_time": "2024-09-05T14:41:29.412Z"
   },
   {
    "duration": 9,
    "start_time": "2024-09-05T14:41:29.721Z"
   },
   {
    "duration": 243,
    "start_time": "2024-09-05T14:41:29.731Z"
   },
   {
    "duration": 9,
    "start_time": "2024-09-05T14:41:29.975Z"
   },
   {
    "duration": 194,
    "start_time": "2024-09-05T14:41:29.985Z"
   },
   {
    "duration": 200,
    "start_time": "2024-09-05T14:41:30.180Z"
   },
   {
    "duration": 192,
    "start_time": "2024-09-05T14:42:16.230Z"
   },
   {
    "duration": 180,
    "start_time": "2024-09-05T15:01:14.745Z"
   },
   {
    "duration": 240,
    "start_time": "2024-09-05T15:01:21.485Z"
   },
   {
    "duration": 182,
    "start_time": "2024-09-05T15:01:31.450Z"
   },
   {
    "duration": 60,
    "start_time": "2024-09-11T06:09:28.533Z"
   },
   {
    "duration": 1472,
    "start_time": "2024-09-11T06:12:23.656Z"
   },
   {
    "duration": 312,
    "start_time": "2024-09-11T06:12:25.130Z"
   },
   {
    "duration": 11,
    "start_time": "2024-09-11T06:12:25.444Z"
   },
   {
    "duration": 42,
    "start_time": "2024-09-11T06:12:25.457Z"
   },
   {
    "duration": 19,
    "start_time": "2024-09-11T06:12:25.500Z"
   },
   {
    "duration": 9,
    "start_time": "2024-09-11T06:12:25.521Z"
   },
   {
    "duration": 10,
    "start_time": "2024-09-11T06:12:25.531Z"
   },
   {
    "duration": 8,
    "start_time": "2024-09-11T06:12:25.542Z"
   },
   {
    "duration": 9,
    "start_time": "2024-09-11T06:12:25.552Z"
   },
   {
    "duration": 24,
    "start_time": "2024-09-11T06:12:25.571Z"
   },
   {
    "duration": 7,
    "start_time": "2024-09-11T06:12:25.596Z"
   },
   {
    "duration": 9,
    "start_time": "2024-09-11T06:12:25.604Z"
   },
   {
    "duration": 6,
    "start_time": "2024-09-11T06:12:25.614Z"
   },
   {
    "duration": 6,
    "start_time": "2024-09-11T06:12:25.621Z"
   },
   {
    "duration": 237,
    "start_time": "2024-09-11T06:12:25.629Z"
   },
   {
    "duration": 107,
    "start_time": "2024-09-11T06:12:25.869Z"
   },
   {
    "duration": 319,
    "start_time": "2024-09-11T06:12:25.981Z"
   },
   {
    "duration": 9,
    "start_time": "2024-09-11T06:12:26.302Z"
   },
   {
    "duration": 199,
    "start_time": "2024-09-11T06:12:26.313Z"
   },
   {
    "duration": 9,
    "start_time": "2024-09-11T06:12:26.513Z"
   },
   {
    "duration": 215,
    "start_time": "2024-09-11T06:12:26.523Z"
   },
   {
    "duration": 210,
    "start_time": "2024-09-11T06:12:26.739Z"
   },
   {
    "duration": 127,
    "start_time": "2024-09-11T06:12:26.950Z"
   },
   {
    "duration": 13,
    "start_time": "2024-09-11T06:15:28.375Z"
   },
   {
    "duration": 13,
    "start_time": "2024-09-11T06:15:31.694Z"
   },
   {
    "duration": 30,
    "start_time": "2024-09-11T06:17:06.562Z"
   },
   {
    "duration": 16,
    "start_time": "2024-09-11T06:17:11.799Z"
   },
   {
    "duration": 12,
    "start_time": "2024-09-11T06:17:16.970Z"
   },
   {
    "duration": 14,
    "start_time": "2024-09-11T06:17:29.600Z"
   },
   {
    "duration": 22,
    "start_time": "2024-09-11T06:19:53.628Z"
   },
   {
    "duration": 18,
    "start_time": "2024-09-11T06:20:37.352Z"
   },
   {
    "duration": 33,
    "start_time": "2024-09-11T06:20:49.096Z"
   },
   {
    "duration": 5,
    "start_time": "2024-09-11T06:28:40.837Z"
   },
   {
    "duration": 6,
    "start_time": "2024-09-11T06:29:10.808Z"
   },
   {
    "duration": 10,
    "start_time": "2024-09-11T06:29:51.356Z"
   },
   {
    "duration": 11,
    "start_time": "2024-09-11T06:38:07.917Z"
   },
   {
    "duration": 34,
    "start_time": "2024-09-11T07:38:38.802Z"
   },
   {
    "duration": 23,
    "start_time": "2024-09-11T07:38:46.997Z"
   },
   {
    "duration": 27,
    "start_time": "2024-09-11T07:39:06.541Z"
   },
   {
    "duration": 2053,
    "start_time": "2024-09-11T08:12:17.362Z"
   },
   {
    "duration": 2405,
    "start_time": "2024-09-11T08:12:29.548Z"
   },
   {
    "duration": 1016,
    "start_time": "2024-09-11T08:17:26.620Z"
   },
   {
    "duration": 88,
    "start_time": "2024-09-11T08:17:27.637Z"
   },
   {
    "duration": 12,
    "start_time": "2024-09-11T08:17:27.728Z"
   },
   {
    "duration": 12,
    "start_time": "2024-09-11T08:17:27.742Z"
   },
   {
    "duration": 12,
    "start_time": "2024-09-11T08:17:27.756Z"
   },
   {
    "duration": 22,
    "start_time": "2024-09-11T08:17:27.769Z"
   },
   {
    "duration": 5,
    "start_time": "2024-09-11T08:17:27.792Z"
   },
   {
    "duration": 7,
    "start_time": "2024-09-11T08:17:27.799Z"
   },
   {
    "duration": 6,
    "start_time": "2024-09-11T08:17:27.807Z"
   },
   {
    "duration": 8,
    "start_time": "2024-09-11T08:17:27.816Z"
   },
   {
    "duration": 7,
    "start_time": "2024-09-11T08:17:27.825Z"
   },
   {
    "duration": 43,
    "start_time": "2024-09-11T08:17:27.833Z"
   },
   {
    "duration": 40,
    "start_time": "2024-09-11T08:17:27.877Z"
   },
   {
    "duration": 8,
    "start_time": "2024-09-11T08:17:27.919Z"
   },
   {
    "duration": 188,
    "start_time": "2024-09-11T08:17:27.928Z"
   },
   {
    "duration": 95,
    "start_time": "2024-09-11T08:17:28.118Z"
   },
   {
    "duration": 323,
    "start_time": "2024-09-11T08:17:28.215Z"
   },
   {
    "duration": 8,
    "start_time": "2024-09-11T08:17:28.540Z"
   },
   {
    "duration": 187,
    "start_time": "2024-09-11T08:17:28.550Z"
   },
   {
    "duration": 9,
    "start_time": "2024-09-11T08:17:28.739Z"
   },
   {
    "duration": 194,
    "start_time": "2024-09-11T08:17:28.749Z"
   },
   {
    "duration": 191,
    "start_time": "2024-09-11T08:17:28.945Z"
   },
   {
    "duration": 44,
    "start_time": "2024-09-11T08:17:29.137Z"
   },
   {
    "duration": 18,
    "start_time": "2024-09-11T08:17:29.183Z"
   },
   {
    "duration": 14,
    "start_time": "2024-09-11T08:17:29.202Z"
   },
   {
    "duration": 254,
    "start_time": "2024-09-11T08:37:12.742Z"
   },
   {
    "duration": 436,
    "start_time": "2024-09-11T08:38:07.068Z"
   },
   {
    "duration": 250,
    "start_time": "2024-09-11T08:38:23.431Z"
   },
   {
    "duration": 236,
    "start_time": "2024-09-11T08:38:26.920Z"
   },
   {
    "duration": 302,
    "start_time": "2024-09-11T08:38:39.192Z"
   },
   {
    "duration": 246,
    "start_time": "2024-09-11T08:38:55.892Z"
   },
   {
    "duration": 344,
    "start_time": "2024-09-11T08:39:22.779Z"
   },
   {
    "duration": 243,
    "start_time": "2024-09-11T11:21:54.520Z"
   },
   {
    "duration": 270,
    "start_time": "2024-09-11T11:23:17.552Z"
   },
   {
    "duration": 267,
    "start_time": "2024-09-11T11:24:05.860Z"
   },
   {
    "duration": 259,
    "start_time": "2024-09-11T11:26:04.503Z"
   },
   {
    "duration": 303,
    "start_time": "2024-09-11T11:26:39.611Z"
   },
   {
    "duration": 437,
    "start_time": "2024-09-11T11:27:02.415Z"
   },
   {
    "duration": 307,
    "start_time": "2024-09-11T11:27:32.553Z"
   },
   {
    "duration": 1197,
    "start_time": "2024-09-11T11:27:46.087Z"
   },
   {
    "duration": 106,
    "start_time": "2024-09-11T11:27:47.288Z"
   },
   {
    "duration": 22,
    "start_time": "2024-09-11T11:27:47.410Z"
   },
   {
    "duration": 11,
    "start_time": "2024-09-11T11:27:47.434Z"
   },
   {
    "duration": 30,
    "start_time": "2024-09-11T11:27:47.448Z"
   },
   {
    "duration": 19,
    "start_time": "2024-09-11T11:27:47.481Z"
   },
   {
    "duration": 6,
    "start_time": "2024-09-11T11:27:47.502Z"
   },
   {
    "duration": 10,
    "start_time": "2024-09-11T11:27:47.510Z"
   },
   {
    "duration": 12,
    "start_time": "2024-09-11T11:27:47.521Z"
   },
   {
    "duration": 10,
    "start_time": "2024-09-11T11:27:47.535Z"
   },
   {
    "duration": 25,
    "start_time": "2024-09-11T11:27:47.546Z"
   },
   {
    "duration": 15,
    "start_time": "2024-09-11T11:27:47.573Z"
   },
   {
    "duration": 10,
    "start_time": "2024-09-11T11:27:47.590Z"
   },
   {
    "duration": 14,
    "start_time": "2024-09-11T11:27:47.604Z"
   },
   {
    "duration": 228,
    "start_time": "2024-09-11T11:27:47.620Z"
   },
   {
    "duration": 98,
    "start_time": "2024-09-11T11:27:47.850Z"
   },
   {
    "duration": 352,
    "start_time": "2024-09-11T11:27:47.951Z"
   },
   {
    "duration": 8,
    "start_time": "2024-09-11T11:27:48.305Z"
   },
   {
    "duration": 216,
    "start_time": "2024-09-11T11:27:48.314Z"
   },
   {
    "duration": 9,
    "start_time": "2024-09-11T11:27:48.531Z"
   },
   {
    "duration": 219,
    "start_time": "2024-09-11T11:27:48.541Z"
   },
   {
    "duration": 188,
    "start_time": "2024-09-11T11:27:48.766Z"
   },
   {
    "duration": 50,
    "start_time": "2024-09-11T11:27:48.956Z"
   },
   {
    "duration": 15,
    "start_time": "2024-09-11T11:27:49.007Z"
   },
   {
    "duration": 17,
    "start_time": "2024-09-11T11:27:49.024Z"
   },
   {
    "duration": 335,
    "start_time": "2024-09-11T11:27:49.043Z"
   },
   {
    "duration": 412,
    "start_time": "2024-09-11T11:28:08.993Z"
   },
   {
    "duration": 305,
    "start_time": "2024-09-11T11:30:04.189Z"
   },
   {
    "duration": 272,
    "start_time": "2024-09-11T11:30:14.454Z"
   },
   {
    "duration": 64,
    "start_time": "2024-09-11T11:31:46.048Z"
   },
   {
    "duration": 210,
    "start_time": "2024-09-11T11:31:55.346Z"
   },
   {
    "duration": 277,
    "start_time": "2024-09-11T11:32:17.328Z"
   },
   {
    "duration": 1389,
    "start_time": "2024-09-11T11:36:10.274Z"
   },
   {
    "duration": 356,
    "start_time": "2024-09-11T11:36:19.835Z"
   },
   {
    "duration": 73,
    "start_time": "2024-09-11T11:38:05.455Z"
   },
   {
    "duration": 57,
    "start_time": "2024-09-11T11:38:09.335Z"
   },
   {
    "duration": 1254,
    "start_time": "2024-09-11T11:38:35.293Z"
   },
   {
    "duration": 87,
    "start_time": "2024-09-11T11:38:36.549Z"
   },
   {
    "duration": 10,
    "start_time": "2024-09-11T11:38:36.637Z"
   },
   {
    "duration": 22,
    "start_time": "2024-09-11T11:38:36.649Z"
   },
   {
    "duration": 11,
    "start_time": "2024-09-11T11:38:36.672Z"
   },
   {
    "duration": 9,
    "start_time": "2024-09-11T11:38:36.684Z"
   },
   {
    "duration": 5,
    "start_time": "2024-09-11T11:38:36.695Z"
   },
   {
    "duration": 27,
    "start_time": "2024-09-11T11:38:36.702Z"
   },
   {
    "duration": 33,
    "start_time": "2024-09-11T11:38:36.731Z"
   },
   {
    "duration": 14,
    "start_time": "2024-09-11T11:38:36.778Z"
   },
   {
    "duration": 5,
    "start_time": "2024-09-11T11:38:36.793Z"
   },
   {
    "duration": 8,
    "start_time": "2024-09-11T11:38:36.800Z"
   },
   {
    "duration": 7,
    "start_time": "2024-09-11T11:38:36.809Z"
   },
   {
    "duration": 5,
    "start_time": "2024-09-11T11:38:36.817Z"
   },
   {
    "duration": 214,
    "start_time": "2024-09-11T11:38:36.823Z"
   },
   {
    "duration": 102,
    "start_time": "2024-09-11T11:38:37.038Z"
   },
   {
    "duration": 314,
    "start_time": "2024-09-11T11:38:37.142Z"
   },
   {
    "duration": 28,
    "start_time": "2024-09-11T11:38:37.457Z"
   },
   {
    "duration": 203,
    "start_time": "2024-09-11T11:38:37.493Z"
   },
   {
    "duration": 9,
    "start_time": "2024-09-11T11:38:37.698Z"
   },
   {
    "duration": 235,
    "start_time": "2024-09-11T11:38:37.709Z"
   },
   {
    "duration": 236,
    "start_time": "2024-09-11T11:38:37.946Z"
   },
   {
    "duration": 36,
    "start_time": "2024-09-11T11:38:38.183Z"
   },
   {
    "duration": 18,
    "start_time": "2024-09-11T11:38:38.220Z"
   },
   {
    "duration": 28,
    "start_time": "2024-09-11T11:38:38.240Z"
   },
   {
    "duration": 100,
    "start_time": "2024-09-11T11:38:38.272Z"
   },
   {
    "duration": 358,
    "start_time": "2024-09-11T11:39:15.465Z"
   },
   {
    "duration": 442,
    "start_time": "2024-09-11T11:40:32.547Z"
   },
   {
    "duration": 375,
    "start_time": "2024-09-11T11:41:32.621Z"
   },
   {
    "duration": 373,
    "start_time": "2024-09-11T11:41:42.437Z"
   },
   {
    "duration": 369,
    "start_time": "2024-09-11T11:42:01.984Z"
   },
   {
    "duration": 66,
    "start_time": "2024-09-11T11:42:24.107Z"
   },
   {
    "duration": 358,
    "start_time": "2024-09-11T11:42:27.377Z"
   },
   {
    "duration": 453,
    "start_time": "2024-09-11T11:43:09.851Z"
   },
   {
    "duration": 9,
    "start_time": "2024-09-11T11:44:10.115Z"
   },
   {
    "duration": 12,
    "start_time": "2024-09-11T11:44:21.060Z"
   },
   {
    "duration": 18,
    "start_time": "2024-09-11T11:45:11.762Z"
   },
   {
    "duration": 26,
    "start_time": "2024-09-11T11:45:27.356Z"
   },
   {
    "duration": 39,
    "start_time": "2024-09-11T11:47:46.551Z"
   },
   {
    "duration": 23,
    "start_time": "2024-09-11T11:48:31.879Z"
   },
   {
    "duration": 14,
    "start_time": "2024-09-11T11:49:27.204Z"
   },
   {
    "duration": 23,
    "start_time": "2024-09-11T11:49:27.569Z"
   },
   {
    "duration": 1167,
    "start_time": "2024-09-11T11:51:38.985Z"
   },
   {
    "duration": 85,
    "start_time": "2024-09-11T11:51:40.154Z"
   },
   {
    "duration": 11,
    "start_time": "2024-09-11T11:51:40.241Z"
   },
   {
    "duration": 21,
    "start_time": "2024-09-11T11:51:40.253Z"
   },
   {
    "duration": 13,
    "start_time": "2024-09-11T11:51:40.277Z"
   },
   {
    "duration": 9,
    "start_time": "2024-09-11T11:51:40.294Z"
   },
   {
    "duration": 8,
    "start_time": "2024-09-11T11:51:40.304Z"
   },
   {
    "duration": 7,
    "start_time": "2024-09-11T11:51:40.313Z"
   },
   {
    "duration": 10,
    "start_time": "2024-09-11T11:51:40.321Z"
   },
   {
    "duration": 10,
    "start_time": "2024-09-11T11:51:40.333Z"
   },
   {
    "duration": 95,
    "start_time": "2024-09-11T11:51:40.344Z"
   },
   {
    "duration": 45,
    "start_time": "2024-09-11T11:51:40.441Z"
   },
   {
    "duration": 9,
    "start_time": "2024-09-11T11:51:40.488Z"
   },
   {
    "duration": 18,
    "start_time": "2024-09-11T11:51:40.500Z"
   },
   {
    "duration": 202,
    "start_time": "2024-09-11T11:51:40.520Z"
   },
   {
    "duration": 112,
    "start_time": "2024-09-11T11:51:40.723Z"
   },
   {
    "duration": 326,
    "start_time": "2024-09-11T11:51:40.837Z"
   },
   {
    "duration": 8,
    "start_time": "2024-09-11T11:51:41.167Z"
   },
   {
    "duration": 219,
    "start_time": "2024-09-11T11:51:41.177Z"
   },
   {
    "duration": 10,
    "start_time": "2024-09-11T11:51:41.398Z"
   },
   {
    "duration": 234,
    "start_time": "2024-09-11T11:51:41.410Z"
   },
   {
    "duration": 224,
    "start_time": "2024-09-11T11:51:41.646Z"
   },
   {
    "duration": 21,
    "start_time": "2024-09-11T11:51:41.879Z"
   },
   {
    "duration": 38,
    "start_time": "2024-09-11T11:51:41.903Z"
   },
   {
    "duration": 54,
    "start_time": "2024-09-11T11:51:41.943Z"
   },
   {
    "duration": 37,
    "start_time": "2024-09-11T11:51:41.999Z"
   },
   {
    "duration": 76,
    "start_time": "2024-09-11T11:51:42.037Z"
   },
   {
    "duration": 355,
    "start_time": "2024-09-11T11:51:42.115Z"
   },
   {
    "duration": 462,
    "start_time": "2024-09-11T11:51:42.471Z"
   },
   {
    "duration": 8,
    "start_time": "2024-09-11T11:51:42.934Z"
   },
   {
    "duration": 40,
    "start_time": "2024-09-11T11:51:42.944Z"
   },
   {
    "duration": 21,
    "start_time": "2024-09-11T11:51:42.990Z"
   },
   {
    "duration": 30,
    "start_time": "2024-09-11T11:51:43.013Z"
   },
   {
    "duration": 42,
    "start_time": "2024-09-13T14:01:49.842Z"
   },
   {
    "duration": 1087,
    "start_time": "2024-09-13T14:02:06.361Z"
   },
   {
    "duration": 297,
    "start_time": "2024-09-13T14:02:07.450Z"
   },
   {
    "duration": 9,
    "start_time": "2024-09-13T14:02:07.748Z"
   },
   {
    "duration": 99,
    "start_time": "2024-09-13T14:02:07.758Z"
   },
   {
    "duration": 20,
    "start_time": "2024-09-13T14:02:07.859Z"
   },
   {
    "duration": 13,
    "start_time": "2024-09-13T14:02:07.881Z"
   },
   {
    "duration": 14,
    "start_time": "2024-09-13T14:02:07.895Z"
   },
   {
    "duration": 10,
    "start_time": "2024-09-13T14:02:07.910Z"
   },
   {
    "duration": 18,
    "start_time": "2024-09-13T14:02:07.922Z"
   },
   {
    "duration": 7,
    "start_time": "2024-09-13T14:02:07.943Z"
   },
   {
    "duration": 6,
    "start_time": "2024-09-13T14:02:07.951Z"
   },
   {
    "duration": 10,
    "start_time": "2024-09-13T14:02:07.958Z"
   },
   {
    "duration": 12,
    "start_time": "2024-09-13T14:02:07.970Z"
   },
   {
    "duration": 10,
    "start_time": "2024-09-13T14:02:07.983Z"
   },
   {
    "duration": 184,
    "start_time": "2024-09-13T14:02:07.994Z"
   },
   {
    "duration": 75,
    "start_time": "2024-09-13T14:02:08.180Z"
   },
   {
    "duration": 221,
    "start_time": "2024-09-13T14:02:08.256Z"
   },
   {
    "duration": 8,
    "start_time": "2024-09-13T14:02:08.478Z"
   },
   {
    "duration": 140,
    "start_time": "2024-09-13T14:02:08.487Z"
   },
   {
    "duration": 7,
    "start_time": "2024-09-13T14:02:08.628Z"
   },
   {
    "duration": 139,
    "start_time": "2024-09-13T14:02:08.637Z"
   },
   {
    "duration": 149,
    "start_time": "2024-09-13T14:02:08.778Z"
   },
   {
    "duration": 14,
    "start_time": "2024-09-13T14:02:08.929Z"
   },
   {
    "duration": 12,
    "start_time": "2024-09-13T14:02:08.944Z"
   },
   {
    "duration": 32,
    "start_time": "2024-09-13T14:02:08.957Z"
   },
   {
    "duration": 47,
    "start_time": "2024-09-13T14:02:08.990Z"
   },
   {
    "duration": 12,
    "start_time": "2024-09-13T14:02:09.039Z"
   },
   {
    "duration": 253,
    "start_time": "2024-09-13T14:02:09.054Z"
   },
   {
    "duration": 300,
    "start_time": "2024-09-13T14:02:09.308Z"
   },
   {
    "duration": 6,
    "start_time": "2024-09-13T14:02:09.610Z"
   },
   {
    "duration": 182,
    "start_time": "2024-09-13T14:02:09.617Z"
   },
   {
    "duration": 63,
    "start_time": "2024-09-13T14:02:09.800Z"
   },
   {
    "duration": 41,
    "start_time": "2024-09-13T14:02:09.864Z"
   },
   {
    "duration": 21,
    "start_time": "2024-09-13T14:02:09.907Z"
   },
   {
    "duration": 13,
    "start_time": "2024-09-13T14:02:16.978Z"
   },
   {
    "duration": 19,
    "start_time": "2024-09-13T14:02:48.778Z"
   },
   {
    "duration": 94,
    "start_time": "2024-09-13T14:03:10.385Z"
   },
   {
    "duration": 22,
    "start_time": "2024-09-13T14:03:13.032Z"
   },
   {
    "duration": 20,
    "start_time": "2024-09-13T14:03:57.182Z"
   },
   {
    "duration": 33,
    "start_time": "2024-09-13T14:05:45.517Z"
   },
   {
    "duration": 35,
    "start_time": "2024-09-13T14:05:58.951Z"
   },
   {
    "duration": 33,
    "start_time": "2024-09-13T14:09:56.318Z"
   },
   {
    "duration": 43,
    "start_time": "2024-09-13T14:09:59.145Z"
   },
   {
    "duration": 21,
    "start_time": "2024-09-13T14:13:17.683Z"
   },
   {
    "duration": 20,
    "start_time": "2024-09-13T14:13:23.254Z"
   },
   {
    "duration": 16,
    "start_time": "2024-09-13T14:14:06.910Z"
   },
   {
    "duration": 78,
    "start_time": "2024-09-13T14:15:29.736Z"
   },
   {
    "duration": 22,
    "start_time": "2024-09-13T14:15:42.370Z"
   },
   {
    "duration": 25,
    "start_time": "2024-09-13T14:15:50.624Z"
   },
   {
    "duration": 23,
    "start_time": "2024-09-13T14:16:19.359Z"
   },
   {
    "duration": 998,
    "start_time": "2024-09-13T14:16:25.520Z"
   },
   {
    "duration": 74,
    "start_time": "2024-09-13T14:16:26.519Z"
   },
   {
    "duration": 9,
    "start_time": "2024-09-13T14:16:26.594Z"
   },
   {
    "duration": 28,
    "start_time": "2024-09-13T14:16:26.605Z"
   },
   {
    "duration": 51,
    "start_time": "2024-09-13T14:16:26.634Z"
   },
   {
    "duration": 36,
    "start_time": "2024-09-13T14:16:26.686Z"
   },
   {
    "duration": 33,
    "start_time": "2024-09-13T14:16:26.723Z"
   },
   {
    "duration": 34,
    "start_time": "2024-09-13T14:16:26.757Z"
   },
   {
    "duration": 22,
    "start_time": "2024-09-13T14:16:26.793Z"
   },
   {
    "duration": 30,
    "start_time": "2024-09-13T14:16:26.817Z"
   },
   {
    "duration": 26,
    "start_time": "2024-09-13T14:16:26.848Z"
   },
   {
    "duration": 44,
    "start_time": "2024-09-13T14:16:26.875Z"
   },
   {
    "duration": 24,
    "start_time": "2024-09-13T14:16:26.921Z"
   },
   {
    "duration": 19,
    "start_time": "2024-09-13T14:16:26.946Z"
   },
   {
    "duration": 157,
    "start_time": "2024-09-13T14:16:26.966Z"
   },
   {
    "duration": 71,
    "start_time": "2024-09-13T14:16:27.124Z"
   },
   {
    "duration": 221,
    "start_time": "2024-09-13T14:16:27.206Z"
   },
   {
    "duration": 8,
    "start_time": "2024-09-13T14:16:27.428Z"
   },
   {
    "duration": 159,
    "start_time": "2024-09-13T14:16:27.438Z"
   },
   {
    "duration": 8,
    "start_time": "2024-09-13T14:16:27.599Z"
   },
   {
    "duration": 139,
    "start_time": "2024-09-13T14:16:27.608Z"
   },
   {
    "duration": 143,
    "start_time": "2024-09-13T14:16:27.748Z"
   },
   {
    "duration": 19,
    "start_time": "2024-09-13T14:16:27.892Z"
   },
   {
    "duration": 11,
    "start_time": "2024-09-13T14:16:27.912Z"
   },
   {
    "duration": 21,
    "start_time": "2024-09-13T14:16:27.924Z"
   },
   {
    "duration": 21,
    "start_time": "2024-09-13T14:16:27.946Z"
   },
   {
    "duration": 12,
    "start_time": "2024-09-13T14:16:27.968Z"
   },
   {
    "duration": 247,
    "start_time": "2024-09-13T14:16:27.983Z"
   },
   {
    "duration": 317,
    "start_time": "2024-09-13T14:16:28.232Z"
   },
   {
    "duration": 6,
    "start_time": "2024-09-13T14:16:28.550Z"
   },
   {
    "duration": 6,
    "start_time": "2024-09-13T14:16:28.557Z"
   },
   {
    "duration": 6,
    "start_time": "2024-09-13T14:16:28.564Z"
   },
   {
    "duration": 5,
    "start_time": "2024-09-13T14:16:28.571Z"
   },
   {
    "duration": 46,
    "start_time": "2024-09-13T14:16:28.577Z"
   },
   {
    "duration": 25,
    "start_time": "2024-09-13T14:18:47.112Z"
   },
   {
    "duration": 30,
    "start_time": "2024-09-13T14:18:55.315Z"
   },
   {
    "duration": 27,
    "start_time": "2024-09-13T14:19:36.760Z"
   },
   {
    "duration": 5,
    "start_time": "2024-09-13T14:45:33.365Z"
   },
   {
    "duration": 10,
    "start_time": "2024-09-13T14:45:46.145Z"
   },
   {
    "duration": 6,
    "start_time": "2024-09-13T14:46:36.145Z"
   },
   {
    "duration": 59,
    "start_time": "2024-09-13T14:47:13.106Z"
   },
   {
    "duration": 72,
    "start_time": "2024-09-13T14:47:20.660Z"
   },
   {
    "duration": 6,
    "start_time": "2024-09-13T14:47:32.558Z"
   },
   {
    "duration": 5,
    "start_time": "2024-09-13T14:48:01.717Z"
   },
   {
    "duration": 8,
    "start_time": "2024-09-13T14:48:05.161Z"
   },
   {
    "duration": 976,
    "start_time": "2024-09-13T14:48:15.822Z"
   },
   {
    "duration": 71,
    "start_time": "2024-09-13T14:48:16.800Z"
   },
   {
    "duration": 9,
    "start_time": "2024-09-13T14:48:16.873Z"
   },
   {
    "duration": 21,
    "start_time": "2024-09-13T14:48:16.884Z"
   },
   {
    "duration": 8,
    "start_time": "2024-09-13T14:48:16.906Z"
   },
   {
    "duration": 16,
    "start_time": "2024-09-13T14:48:16.916Z"
   },
   {
    "duration": 12,
    "start_time": "2024-09-13T14:48:16.933Z"
   },
   {
    "duration": 8,
    "start_time": "2024-09-13T14:48:16.946Z"
   },
   {
    "duration": 20,
    "start_time": "2024-09-13T14:48:16.956Z"
   },
   {
    "duration": 17,
    "start_time": "2024-09-13T14:48:16.979Z"
   },
   {
    "duration": 6,
    "start_time": "2024-09-13T14:48:16.998Z"
   },
   {
    "duration": 11,
    "start_time": "2024-09-13T14:48:17.006Z"
   },
   {
    "duration": 16,
    "start_time": "2024-09-13T14:48:17.019Z"
   },
   {
    "duration": 37,
    "start_time": "2024-09-13T14:48:17.037Z"
   },
   {
    "duration": 165,
    "start_time": "2024-09-13T14:48:17.076Z"
   },
   {
    "duration": 86,
    "start_time": "2024-09-13T14:48:17.242Z"
   },
   {
    "duration": 233,
    "start_time": "2024-09-13T14:48:17.330Z"
   },
   {
    "duration": 7,
    "start_time": "2024-09-13T14:48:17.564Z"
   },
   {
    "duration": 229,
    "start_time": "2024-09-13T14:48:17.572Z"
   },
   {
    "duration": 10,
    "start_time": "2024-09-13T14:48:17.802Z"
   },
   {
    "duration": 239,
    "start_time": "2024-09-13T14:48:17.813Z"
   },
   {
    "duration": 157,
    "start_time": "2024-09-13T14:48:18.053Z"
   },
   {
    "duration": 18,
    "start_time": "2024-09-13T14:48:18.211Z"
   },
   {
    "duration": 16,
    "start_time": "2024-09-13T14:48:18.231Z"
   },
   {
    "duration": 14,
    "start_time": "2024-09-13T14:48:18.248Z"
   },
   {
    "duration": 17,
    "start_time": "2024-09-13T14:48:18.263Z"
   },
   {
    "duration": 41,
    "start_time": "2024-09-13T14:48:18.281Z"
   },
   {
    "duration": 247,
    "start_time": "2024-09-13T14:48:18.326Z"
   },
   {
    "duration": 299,
    "start_time": "2024-09-13T14:48:18.574Z"
   },
   {
    "duration": 7,
    "start_time": "2024-09-13T14:48:18.874Z"
   },
   {
    "duration": 8,
    "start_time": "2024-09-13T14:48:18.882Z"
   },
   {
    "duration": 16,
    "start_time": "2024-09-13T14:48:18.892Z"
   },
   {
    "duration": 9,
    "start_time": "2024-09-13T14:48:18.909Z"
   },
   {
    "duration": 33,
    "start_time": "2024-09-13T14:48:18.920Z"
   },
   {
    "duration": 5,
    "start_time": "2024-09-13T14:48:18.954Z"
   },
   {
    "duration": 7,
    "start_time": "2024-09-13T14:48:33.194Z"
   },
   {
    "duration": 1012,
    "start_time": "2024-09-13T14:49:03.801Z"
   },
   {
    "duration": 73,
    "start_time": "2024-09-13T14:49:04.815Z"
   },
   {
    "duration": 9,
    "start_time": "2024-09-13T14:49:04.890Z"
   },
   {
    "duration": 45,
    "start_time": "2024-09-13T14:49:04.901Z"
   },
   {
    "duration": 25,
    "start_time": "2024-09-13T14:49:04.948Z"
   },
   {
    "duration": 21,
    "start_time": "2024-09-13T14:49:04.975Z"
   },
   {
    "duration": 8,
    "start_time": "2024-09-13T14:49:04.997Z"
   },
   {
    "duration": 9,
    "start_time": "2024-09-13T14:49:05.007Z"
   },
   {
    "duration": 7,
    "start_time": "2024-09-13T14:49:05.017Z"
   },
   {
    "duration": 8,
    "start_time": "2024-09-13T14:49:05.026Z"
   },
   {
    "duration": 5,
    "start_time": "2024-09-13T14:49:05.036Z"
   },
   {
    "duration": 6,
    "start_time": "2024-09-13T14:49:05.043Z"
   },
   {
    "duration": 5,
    "start_time": "2024-09-13T14:49:05.051Z"
   },
   {
    "duration": 12,
    "start_time": "2024-09-13T14:49:05.058Z"
   },
   {
    "duration": 204,
    "start_time": "2024-09-13T14:49:05.072Z"
   },
   {
    "duration": 97,
    "start_time": "2024-09-13T14:49:05.277Z"
   },
   {
    "duration": 227,
    "start_time": "2024-09-13T14:49:05.376Z"
   },
   {
    "duration": 7,
    "start_time": "2024-09-13T14:49:05.605Z"
   },
   {
    "duration": 192,
    "start_time": "2024-09-13T14:49:05.613Z"
   },
   {
    "duration": 7,
    "start_time": "2024-09-13T14:49:05.807Z"
   },
   {
    "duration": 288,
    "start_time": "2024-09-13T14:49:05.815Z"
   },
   {
    "duration": 144,
    "start_time": "2024-09-13T14:49:06.106Z"
   },
   {
    "duration": 14,
    "start_time": "2024-09-13T14:49:06.251Z"
   },
   {
    "duration": 11,
    "start_time": "2024-09-13T14:49:06.266Z"
   },
   {
    "duration": 28,
    "start_time": "2024-09-13T14:49:06.279Z"
   },
   {
    "duration": 21,
    "start_time": "2024-09-13T14:49:06.309Z"
   },
   {
    "duration": 11,
    "start_time": "2024-09-13T14:49:06.332Z"
   },
   {
    "duration": 239,
    "start_time": "2024-09-13T14:49:06.344Z"
   },
   {
    "duration": 316,
    "start_time": "2024-09-13T14:49:06.584Z"
   },
   {
    "duration": 11,
    "start_time": "2024-09-13T14:49:06.901Z"
   },
   {
    "duration": 20,
    "start_time": "2024-09-13T14:49:06.914Z"
   },
   {
    "duration": 6,
    "start_time": "2024-09-13T14:49:06.936Z"
   },
   {
    "duration": 7,
    "start_time": "2024-09-13T14:49:06.944Z"
   },
   {
    "duration": 32,
    "start_time": "2024-09-13T14:49:06.952Z"
   },
   {
    "duration": 1198,
    "start_time": "2024-09-13T14:49:06.985Z"
   },
   {
    "duration": 10,
    "start_time": "2024-09-13T14:49:43.542Z"
   },
   {
    "duration": 29,
    "start_time": "2024-09-13T14:49:45.886Z"
   },
   {
    "duration": 967,
    "start_time": "2024-09-13T14:49:52.143Z"
   },
   {
    "duration": 76,
    "start_time": "2024-09-13T14:49:53.111Z"
   },
   {
    "duration": 12,
    "start_time": "2024-09-13T14:49:53.188Z"
   },
   {
    "duration": 33,
    "start_time": "2024-09-13T14:49:53.202Z"
   },
   {
    "duration": 27,
    "start_time": "2024-09-13T14:49:53.237Z"
   },
   {
    "duration": 13,
    "start_time": "2024-09-13T14:49:53.266Z"
   },
   {
    "duration": 19,
    "start_time": "2024-09-13T14:49:53.280Z"
   },
   {
    "duration": 22,
    "start_time": "2024-09-13T14:49:53.300Z"
   },
   {
    "duration": 19,
    "start_time": "2024-09-13T14:49:53.324Z"
   },
   {
    "duration": 16,
    "start_time": "2024-09-13T14:49:53.345Z"
   },
   {
    "duration": 11,
    "start_time": "2024-09-13T14:49:53.362Z"
   },
   {
    "duration": 12,
    "start_time": "2024-09-13T14:49:53.374Z"
   },
   {
    "duration": 19,
    "start_time": "2024-09-13T14:49:53.387Z"
   },
   {
    "duration": 11,
    "start_time": "2024-09-13T14:49:53.408Z"
   },
   {
    "duration": 164,
    "start_time": "2024-09-13T14:49:53.421Z"
   },
   {
    "duration": 78,
    "start_time": "2024-09-13T14:49:53.586Z"
   },
   {
    "duration": 273,
    "start_time": "2024-09-13T14:49:53.665Z"
   },
   {
    "duration": 8,
    "start_time": "2024-09-13T14:49:53.939Z"
   },
   {
    "duration": 222,
    "start_time": "2024-09-13T14:49:53.948Z"
   },
   {
    "duration": 7,
    "start_time": "2024-09-13T14:49:54.171Z"
   },
   {
    "duration": 176,
    "start_time": "2024-09-13T14:49:54.180Z"
   },
   {
    "duration": 198,
    "start_time": "2024-09-13T14:49:54.357Z"
   },
   {
    "duration": 13,
    "start_time": "2024-09-13T14:49:54.557Z"
   },
   {
    "duration": 10,
    "start_time": "2024-09-13T14:49:54.571Z"
   },
   {
    "duration": 11,
    "start_time": "2024-09-13T14:49:54.583Z"
   },
   {
    "duration": 21,
    "start_time": "2024-09-13T14:49:54.595Z"
   },
   {
    "duration": 17,
    "start_time": "2024-09-13T14:49:54.617Z"
   },
   {
    "duration": 374,
    "start_time": "2024-09-13T14:49:54.639Z"
   },
   {
    "duration": 333,
    "start_time": "2024-09-13T14:49:55.014Z"
   },
   {
    "duration": 7,
    "start_time": "2024-09-13T14:49:55.349Z"
   },
   {
    "duration": 47,
    "start_time": "2024-09-13T14:49:55.357Z"
   },
   {
    "duration": 15,
    "start_time": "2024-09-13T14:49:55.405Z"
   },
   {
    "duration": 19,
    "start_time": "2024-09-13T14:49:55.421Z"
   },
   {
    "duration": 41,
    "start_time": "2024-09-13T14:49:55.441Z"
   },
   {
    "duration": 5,
    "start_time": "2024-09-13T14:49:55.483Z"
   },
   {
    "duration": 942,
    "start_time": "2024-09-13T15:14:14.061Z"
   },
   {
    "duration": 74,
    "start_time": "2024-09-13T15:14:15.007Z"
   },
   {
    "duration": 9,
    "start_time": "2024-09-13T15:14:15.082Z"
   },
   {
    "duration": 35,
    "start_time": "2024-09-13T15:14:15.093Z"
   },
   {
    "duration": 62,
    "start_time": "2024-09-13T15:14:15.130Z"
   },
   {
    "duration": 27,
    "start_time": "2024-09-13T15:14:15.194Z"
   },
   {
    "duration": 53,
    "start_time": "2024-09-13T15:14:15.222Z"
   },
   {
    "duration": 44,
    "start_time": "2024-09-13T15:14:15.277Z"
   },
   {
    "duration": 26,
    "start_time": "2024-09-13T15:14:15.323Z"
   },
   {
    "duration": 30,
    "start_time": "2024-09-13T15:14:15.352Z"
   },
   {
    "duration": 26,
    "start_time": "2024-09-13T15:14:15.384Z"
   },
   {
    "duration": 60,
    "start_time": "2024-09-13T15:14:15.411Z"
   },
   {
    "duration": 66,
    "start_time": "2024-09-13T15:14:15.473Z"
   },
   {
    "duration": 42,
    "start_time": "2024-09-13T15:14:15.541Z"
   },
   {
    "duration": 156,
    "start_time": "2024-09-13T15:14:15.585Z"
   },
   {
    "duration": 78,
    "start_time": "2024-09-13T15:14:15.743Z"
   },
   {
    "duration": 224,
    "start_time": "2024-09-13T15:14:15.823Z"
   },
   {
    "duration": 8,
    "start_time": "2024-09-13T15:14:16.049Z"
   },
   {
    "duration": 197,
    "start_time": "2024-09-13T15:14:16.058Z"
   },
   {
    "duration": 8,
    "start_time": "2024-09-13T15:14:16.257Z"
   },
   {
    "duration": 157,
    "start_time": "2024-09-13T15:14:16.266Z"
   },
   {
    "duration": 145,
    "start_time": "2024-09-13T15:14:16.425Z"
   },
   {
    "duration": 15,
    "start_time": "2024-09-13T15:14:16.572Z"
   },
   {
    "duration": 74,
    "start_time": "2024-09-13T15:14:16.588Z"
   },
   {
    "duration": 43,
    "start_time": "2024-09-13T15:14:16.663Z"
   },
   {
    "duration": 17,
    "start_time": "2024-09-13T15:14:16.708Z"
   },
   {
    "duration": 27,
    "start_time": "2024-09-13T15:14:16.726Z"
   },
   {
    "duration": 230,
    "start_time": "2024-09-13T15:14:16.756Z"
   },
   {
    "duration": 314,
    "start_time": "2024-09-13T15:14:16.987Z"
   },
   {
    "duration": 9,
    "start_time": "2024-09-13T15:14:17.303Z"
   },
   {
    "duration": 12,
    "start_time": "2024-09-13T15:14:17.313Z"
   },
   {
    "duration": 9,
    "start_time": "2024-09-13T15:14:17.326Z"
   },
   {
    "duration": 13,
    "start_time": "2024-09-13T15:14:17.336Z"
   },
   {
    "duration": 26,
    "start_time": "2024-09-13T15:14:17.351Z"
   },
   {
    "duration": 17,
    "start_time": "2024-09-13T15:14:17.378Z"
   },
   {
    "duration": 56,
    "start_time": "2024-09-16T07:05:28.798Z"
   },
   {
    "duration": 1267,
    "start_time": "2024-09-16T07:05:39.033Z"
   },
   {
    "duration": 305,
    "start_time": "2024-09-16T07:05:40.304Z"
   },
   {
    "duration": 11,
    "start_time": "2024-09-16T07:05:40.611Z"
   },
   {
    "duration": 15,
    "start_time": "2024-09-16T07:05:40.624Z"
   },
   {
    "duration": 10,
    "start_time": "2024-09-16T07:05:40.641Z"
   },
   {
    "duration": 10,
    "start_time": "2024-09-16T07:05:40.652Z"
   },
   {
    "duration": 7,
    "start_time": "2024-09-16T07:05:40.664Z"
   },
   {
    "duration": 7,
    "start_time": "2024-09-16T07:05:40.673Z"
   },
   {
    "duration": 32,
    "start_time": "2024-09-16T07:05:40.682Z"
   },
   {
    "duration": 16,
    "start_time": "2024-09-16T07:05:40.716Z"
   },
   {
    "duration": 18,
    "start_time": "2024-09-16T07:05:40.734Z"
   },
   {
    "duration": 12,
    "start_time": "2024-09-16T07:05:40.753Z"
   },
   {
    "duration": 19,
    "start_time": "2024-09-16T07:05:40.767Z"
   },
   {
    "duration": 11,
    "start_time": "2024-09-16T07:05:40.788Z"
   },
   {
    "duration": 199,
    "start_time": "2024-09-16T07:05:40.801Z"
   },
   {
    "duration": 87,
    "start_time": "2024-09-16T07:05:41.002Z"
   },
   {
    "duration": 285,
    "start_time": "2024-09-16T07:05:41.091Z"
   },
   {
    "duration": 9,
    "start_time": "2024-09-16T07:05:41.378Z"
   },
   {
    "duration": 176,
    "start_time": "2024-09-16T07:05:41.388Z"
   },
   {
    "duration": 11,
    "start_time": "2024-09-16T07:05:41.566Z"
   },
   {
    "duration": 203,
    "start_time": "2024-09-16T07:05:41.579Z"
   },
   {
    "duration": 180,
    "start_time": "2024-09-16T07:05:41.784Z"
   },
   {
    "duration": 16,
    "start_time": "2024-09-16T07:05:41.965Z"
   },
   {
    "duration": 56,
    "start_time": "2024-09-16T07:05:41.983Z"
   },
   {
    "duration": 26,
    "start_time": "2024-09-16T07:05:42.041Z"
   },
   {
    "duration": 17,
    "start_time": "2024-09-16T07:05:42.069Z"
   },
   {
    "duration": 14,
    "start_time": "2024-09-16T07:05:42.088Z"
   },
   {
    "duration": 300,
    "start_time": "2024-09-16T07:05:42.105Z"
   },
   {
    "duration": 405,
    "start_time": "2024-09-16T07:05:42.406Z"
   },
   {
    "duration": 9,
    "start_time": "2024-09-16T07:05:42.813Z"
   },
   {
    "duration": 20,
    "start_time": "2024-09-16T07:05:42.824Z"
   },
   {
    "duration": 8,
    "start_time": "2024-09-16T07:05:42.846Z"
   },
   {
    "duration": 12,
    "start_time": "2024-09-16T07:05:42.856Z"
   },
   {
    "duration": 50,
    "start_time": "2024-09-16T07:05:42.869Z"
   },
   {
    "duration": 8,
    "start_time": "2024-09-16T07:05:42.920Z"
   },
   {
    "duration": 8,
    "start_time": "2024-09-16T07:05:42.929Z"
   },
   {
    "duration": 4,
    "start_time": "2024-09-16T07:05:51.744Z"
   },
   {
    "duration": 5,
    "start_time": "2024-09-16T07:06:25.438Z"
   },
   {
    "duration": 8,
    "start_time": "2024-09-16T07:12:41.734Z"
   },
   {
    "duration": 6,
    "start_time": "2024-09-16T07:13:03.502Z"
   },
   {
    "duration": 6,
    "start_time": "2024-09-16T07:15:50.422Z"
   },
   {
    "duration": 6,
    "start_time": "2024-09-16T07:16:21.134Z"
   },
   {
    "duration": 6,
    "start_time": "2024-09-16T07:27:19.533Z"
   },
   {
    "duration": 6,
    "start_time": "2024-09-16T07:27:47.222Z"
   },
   {
    "duration": 6,
    "start_time": "2024-09-16T07:31:26.139Z"
   },
   {
    "duration": 5,
    "start_time": "2024-09-16T07:36:16.174Z"
   },
   {
    "duration": 5,
    "start_time": "2024-09-16T07:36:54.100Z"
   },
   {
    "duration": 1166,
    "start_time": "2024-09-16T07:38:20.986Z"
   },
   {
    "duration": 80,
    "start_time": "2024-09-16T07:38:22.154Z"
   },
   {
    "duration": 11,
    "start_time": "2024-09-16T07:38:22.236Z"
   },
   {
    "duration": 14,
    "start_time": "2024-09-16T07:38:22.249Z"
   },
   {
    "duration": 11,
    "start_time": "2024-09-16T07:38:22.265Z"
   },
   {
    "duration": 7,
    "start_time": "2024-09-16T07:38:22.278Z"
   },
   {
    "duration": 6,
    "start_time": "2024-09-16T07:38:22.287Z"
   },
   {
    "duration": 12,
    "start_time": "2024-09-16T07:38:22.295Z"
   },
   {
    "duration": 16,
    "start_time": "2024-09-16T07:38:22.309Z"
   },
   {
    "duration": 12,
    "start_time": "2024-09-16T07:38:22.327Z"
   },
   {
    "duration": 7,
    "start_time": "2024-09-16T07:38:22.341Z"
   },
   {
    "duration": 22,
    "start_time": "2024-09-16T07:38:22.349Z"
   },
   {
    "duration": 11,
    "start_time": "2024-09-16T07:38:22.373Z"
   },
   {
    "duration": 5,
    "start_time": "2024-09-16T07:38:22.386Z"
   },
   {
    "duration": 200,
    "start_time": "2024-09-16T07:38:22.393Z"
   },
   {
    "duration": 100,
    "start_time": "2024-09-16T07:38:22.594Z"
   },
   {
    "duration": 289,
    "start_time": "2024-09-16T07:38:22.695Z"
   },
   {
    "duration": 9,
    "start_time": "2024-09-16T07:38:22.986Z"
   },
   {
    "duration": 186,
    "start_time": "2024-09-16T07:38:23.005Z"
   },
   {
    "duration": 14,
    "start_time": "2024-09-16T07:38:23.193Z"
   },
   {
    "duration": 234,
    "start_time": "2024-09-16T07:38:23.209Z"
   },
   {
    "duration": 210,
    "start_time": "2024-09-16T07:38:23.445Z"
   },
   {
    "duration": 16,
    "start_time": "2024-09-16T07:38:23.657Z"
   },
   {
    "duration": 32,
    "start_time": "2024-09-16T07:38:23.674Z"
   },
   {
    "duration": 87,
    "start_time": "2024-09-16T07:38:23.708Z"
   },
   {
    "duration": 27,
    "start_time": "2024-09-16T07:38:23.797Z"
   },
   {
    "duration": 15,
    "start_time": "2024-09-16T07:38:23.825Z"
   },
   {
    "duration": 316,
    "start_time": "2024-09-16T07:38:23.843Z"
   },
   {
    "duration": 395,
    "start_time": "2024-09-16T07:38:24.161Z"
   },
   {
    "duration": 8,
    "start_time": "2024-09-16T07:38:24.558Z"
   },
   {
    "duration": 10,
    "start_time": "2024-09-16T07:38:24.567Z"
   },
   {
    "duration": 24,
    "start_time": "2024-09-16T07:38:24.578Z"
   },
   {
    "duration": 8,
    "start_time": "2024-09-16T07:38:24.603Z"
   },
   {
    "duration": 32,
    "start_time": "2024-09-16T07:38:24.612Z"
   },
   {
    "duration": 7,
    "start_time": "2024-09-16T07:38:24.646Z"
   },
   {
    "duration": 5,
    "start_time": "2024-09-16T07:38:24.654Z"
   },
   {
    "duration": 7,
    "start_time": "2024-09-16T08:10:12.780Z"
   },
   {
    "duration": 5,
    "start_time": "2024-09-16T08:11:09.852Z"
   },
   {
    "duration": 1181,
    "start_time": "2024-09-16T08:11:22.691Z"
   },
   {
    "duration": 80,
    "start_time": "2024-09-16T08:11:23.875Z"
   },
   {
    "duration": 11,
    "start_time": "2024-09-16T08:11:23.957Z"
   },
   {
    "duration": 16,
    "start_time": "2024-09-16T08:11:23.970Z"
   },
   {
    "duration": 10,
    "start_time": "2024-09-16T08:11:23.987Z"
   },
   {
    "duration": 10,
    "start_time": "2024-09-16T08:11:23.999Z"
   },
   {
    "duration": 19,
    "start_time": "2024-09-16T08:11:24.011Z"
   },
   {
    "duration": 8,
    "start_time": "2024-09-16T08:11:24.031Z"
   },
   {
    "duration": 9,
    "start_time": "2024-09-16T08:11:24.040Z"
   },
   {
    "duration": 15,
    "start_time": "2024-09-16T08:11:24.051Z"
   },
   {
    "duration": 6,
    "start_time": "2024-09-16T08:11:24.068Z"
   },
   {
    "duration": 9,
    "start_time": "2024-09-16T08:11:24.075Z"
   },
   {
    "duration": 20,
    "start_time": "2024-09-16T08:11:24.086Z"
   },
   {
    "duration": 52,
    "start_time": "2024-09-16T08:11:24.108Z"
   },
   {
    "duration": 200,
    "start_time": "2024-09-16T08:11:24.161Z"
   },
   {
    "duration": 111,
    "start_time": "2024-09-16T08:11:24.362Z"
   },
   {
    "duration": 293,
    "start_time": "2024-09-16T08:11:24.475Z"
   },
   {
    "duration": 10,
    "start_time": "2024-09-16T08:11:24.770Z"
   },
   {
    "duration": 198,
    "start_time": "2024-09-16T08:11:24.782Z"
   },
   {
    "duration": 9,
    "start_time": "2024-09-16T08:11:24.982Z"
   },
   {
    "duration": 177,
    "start_time": "2024-09-16T08:11:25.004Z"
   },
   {
    "duration": 183,
    "start_time": "2024-09-16T08:11:25.183Z"
   },
   {
    "duration": 16,
    "start_time": "2024-09-16T08:11:25.368Z"
   },
   {
    "duration": 43,
    "start_time": "2024-09-16T08:11:25.386Z"
   },
   {
    "duration": 14,
    "start_time": "2024-09-16T08:11:25.431Z"
   },
   {
    "duration": 16,
    "start_time": "2024-09-16T08:11:25.447Z"
   },
   {
    "duration": 15,
    "start_time": "2024-09-16T08:11:25.465Z"
   },
   {
    "duration": 330,
    "start_time": "2024-09-16T08:11:25.484Z"
   },
   {
    "duration": 463,
    "start_time": "2024-09-16T08:11:25.816Z"
   },
   {
    "duration": 9,
    "start_time": "2024-09-16T08:11:26.281Z"
   },
   {
    "duration": 20,
    "start_time": "2024-09-16T08:11:26.292Z"
   },
   {
    "duration": 15,
    "start_time": "2024-09-16T08:11:26.314Z"
   },
   {
    "duration": 18,
    "start_time": "2024-09-16T08:11:26.331Z"
   },
   {
    "duration": 46,
    "start_time": "2024-09-16T08:11:26.350Z"
   },
   {
    "duration": 9,
    "start_time": "2024-09-16T08:11:26.397Z"
   },
   {
    "duration": 112,
    "start_time": "2024-09-16T08:11:26.408Z"
   },
   {
    "duration": 0,
    "start_time": "2024-09-16T08:11:26.521Z"
   },
   {
    "duration": 6,
    "start_time": "2024-09-16T08:12:02.426Z"
   },
   {
    "duration": 6,
    "start_time": "2024-09-16T08:12:12.288Z"
   },
   {
    "duration": 1163,
    "start_time": "2024-09-16T08:12:19.600Z"
   },
   {
    "duration": 81,
    "start_time": "2024-09-16T08:12:20.765Z"
   },
   {
    "duration": 11,
    "start_time": "2024-09-16T08:12:20.848Z"
   },
   {
    "duration": 44,
    "start_time": "2024-09-16T08:12:20.861Z"
   },
   {
    "duration": 18,
    "start_time": "2024-09-16T08:12:20.907Z"
   },
   {
    "duration": 13,
    "start_time": "2024-09-16T08:12:20.927Z"
   },
   {
    "duration": 29,
    "start_time": "2024-09-16T08:12:20.942Z"
   },
   {
    "duration": 41,
    "start_time": "2024-09-16T08:12:20.972Z"
   },
   {
    "duration": 40,
    "start_time": "2024-09-16T08:12:21.015Z"
   },
   {
    "duration": 32,
    "start_time": "2024-09-16T08:12:21.058Z"
   },
   {
    "duration": 29,
    "start_time": "2024-09-16T08:12:21.091Z"
   },
   {
    "duration": 18,
    "start_time": "2024-09-16T08:12:21.122Z"
   },
   {
    "duration": 22,
    "start_time": "2024-09-16T08:12:21.141Z"
   },
   {
    "duration": 36,
    "start_time": "2024-09-16T08:12:21.164Z"
   },
   {
    "duration": 197,
    "start_time": "2024-09-16T08:12:21.202Z"
   },
   {
    "duration": 87,
    "start_time": "2024-09-16T08:12:21.401Z"
   },
   {
    "duration": 288,
    "start_time": "2024-09-16T08:12:21.490Z"
   },
   {
    "duration": 10,
    "start_time": "2024-09-16T08:12:21.780Z"
   },
   {
    "duration": 166,
    "start_time": "2024-09-16T08:12:21.805Z"
   },
   {
    "duration": 10,
    "start_time": "2024-09-16T08:12:21.973Z"
   },
   {
    "duration": 192,
    "start_time": "2024-09-16T08:12:21.985Z"
   },
   {
    "duration": 193,
    "start_time": "2024-09-16T08:12:22.180Z"
   },
   {
    "duration": 17,
    "start_time": "2024-09-16T08:12:22.374Z"
   },
   {
    "duration": 24,
    "start_time": "2024-09-16T08:12:22.404Z"
   },
   {
    "duration": 58,
    "start_time": "2024-09-16T08:12:22.430Z"
   },
   {
    "duration": 57,
    "start_time": "2024-09-16T08:12:22.490Z"
   },
   {
    "duration": 19,
    "start_time": "2024-09-16T08:12:22.549Z"
   },
   {
    "duration": 313,
    "start_time": "2024-09-16T08:12:22.571Z"
   },
   {
    "duration": 390,
    "start_time": "2024-09-16T08:12:22.885Z"
   },
   {
    "duration": 8,
    "start_time": "2024-09-16T08:12:23.277Z"
   },
   {
    "duration": 71,
    "start_time": "2024-09-16T08:12:23.287Z"
   },
   {
    "duration": 142,
    "start_time": "2024-09-16T08:12:23.360Z"
   },
   {
    "duration": 24,
    "start_time": "2024-09-16T08:12:23.503Z"
   },
   {
    "duration": 31,
    "start_time": "2024-09-16T08:12:23.529Z"
   },
   {
    "duration": 7,
    "start_time": "2024-09-16T08:12:23.562Z"
   },
   {
    "duration": 14,
    "start_time": "2024-09-16T08:12:23.571Z"
   },
   {
    "duration": 15,
    "start_time": "2024-09-16T08:12:23.587Z"
   },
   {
    "duration": 6,
    "start_time": "2024-09-16T08:12:37.362Z"
   },
   {
    "duration": 21,
    "start_time": "2024-09-16T08:24:04.677Z"
   },
   {
    "duration": 6,
    "start_time": "2024-09-16T08:29:52.559Z"
   },
   {
    "duration": 60,
    "start_time": "2024-09-16T08:30:18.830Z"
   },
   {
    "duration": 8,
    "start_time": "2024-09-16T08:30:58.152Z"
   },
   {
    "duration": 1151,
    "start_time": "2024-09-16T08:31:25.334Z"
   },
   {
    "duration": 78,
    "start_time": "2024-09-16T08:31:26.487Z"
   },
   {
    "duration": 12,
    "start_time": "2024-09-16T08:31:26.566Z"
   },
   {
    "duration": 15,
    "start_time": "2024-09-16T08:31:26.580Z"
   },
   {
    "duration": 15,
    "start_time": "2024-09-16T08:31:26.596Z"
   },
   {
    "duration": 7,
    "start_time": "2024-09-16T08:31:26.613Z"
   },
   {
    "duration": 6,
    "start_time": "2024-09-16T08:31:26.622Z"
   },
   {
    "duration": 10,
    "start_time": "2024-09-16T08:31:26.629Z"
   },
   {
    "duration": 6,
    "start_time": "2024-09-16T08:31:26.641Z"
   },
   {
    "duration": 8,
    "start_time": "2024-09-16T08:31:26.650Z"
   },
   {
    "duration": 15,
    "start_time": "2024-09-16T08:31:26.659Z"
   },
   {
    "duration": 14,
    "start_time": "2024-09-16T08:31:26.676Z"
   },
   {
    "duration": 6,
    "start_time": "2024-09-16T08:31:26.704Z"
   },
   {
    "duration": 6,
    "start_time": "2024-09-16T08:31:26.712Z"
   },
   {
    "duration": 218,
    "start_time": "2024-09-16T08:31:26.720Z"
   },
   {
    "duration": 101,
    "start_time": "2024-09-16T08:31:26.940Z"
   },
   {
    "duration": 287,
    "start_time": "2024-09-16T08:31:27.042Z"
   },
   {
    "duration": 10,
    "start_time": "2024-09-16T08:31:27.331Z"
   },
   {
    "duration": 185,
    "start_time": "2024-09-16T08:31:27.342Z"
   },
   {
    "duration": 9,
    "start_time": "2024-09-16T08:31:27.528Z"
   },
   {
    "duration": 184,
    "start_time": "2024-09-16T08:31:27.538Z"
   },
   {
    "duration": 195,
    "start_time": "2024-09-16T08:31:27.723Z"
   },
   {
    "duration": 16,
    "start_time": "2024-09-16T08:31:27.919Z"
   },
   {
    "duration": 46,
    "start_time": "2024-09-16T08:31:27.937Z"
   },
   {
    "duration": 12,
    "start_time": "2024-09-16T08:31:27.985Z"
   },
   {
    "duration": 29,
    "start_time": "2024-09-16T08:31:27.999Z"
   },
   {
    "duration": 14,
    "start_time": "2024-09-16T08:31:28.029Z"
   },
   {
    "duration": 298,
    "start_time": "2024-09-16T08:31:28.046Z"
   },
   {
    "duration": 382,
    "start_time": "2024-09-16T08:31:28.345Z"
   },
   {
    "duration": 9,
    "start_time": "2024-09-16T08:31:28.728Z"
   },
   {
    "duration": 9,
    "start_time": "2024-09-16T08:31:28.739Z"
   },
   {
    "duration": 9,
    "start_time": "2024-09-16T08:31:28.749Z"
   },
   {
    "duration": 11,
    "start_time": "2024-09-16T08:31:28.760Z"
   },
   {
    "duration": 61,
    "start_time": "2024-09-16T08:31:28.773Z"
   },
   {
    "duration": 9,
    "start_time": "2024-09-16T08:31:28.836Z"
   },
   {
    "duration": 6,
    "start_time": "2024-09-16T08:31:28.847Z"
   },
   {
    "duration": 6,
    "start_time": "2024-09-16T08:31:28.855Z"
   },
   {
    "duration": 13,
    "start_time": "2024-09-16T08:31:28.863Z"
   },
   {
    "duration": 1222,
    "start_time": "2024-09-16T11:16:55.328Z"
   },
   {
    "duration": 415,
    "start_time": "2024-09-16T11:16:56.552Z"
   },
   {
    "duration": 11,
    "start_time": "2024-09-16T11:16:56.969Z"
   },
   {
    "duration": 27,
    "start_time": "2024-09-16T11:16:56.981Z"
   },
   {
    "duration": 8,
    "start_time": "2024-09-16T11:16:57.010Z"
   },
   {
    "duration": 34,
    "start_time": "2024-09-16T11:16:57.020Z"
   },
   {
    "duration": 5,
    "start_time": "2024-09-16T11:16:57.055Z"
   },
   {
    "duration": 13,
    "start_time": "2024-09-16T11:16:57.061Z"
   },
   {
    "duration": 7,
    "start_time": "2024-09-16T11:16:57.075Z"
   },
   {
    "duration": 7,
    "start_time": "2024-09-16T11:16:57.085Z"
   },
   {
    "duration": 11,
    "start_time": "2024-09-16T11:16:57.094Z"
   },
   {
    "duration": 7,
    "start_time": "2024-09-16T11:16:57.106Z"
   },
   {
    "duration": 5,
    "start_time": "2024-09-16T11:16:57.115Z"
   },
   {
    "duration": 4,
    "start_time": "2024-09-16T11:16:57.121Z"
   },
   {
    "duration": 197,
    "start_time": "2024-09-16T11:16:57.127Z"
   },
   {
    "duration": 92,
    "start_time": "2024-09-16T11:16:57.325Z"
   },
   {
    "duration": 263,
    "start_time": "2024-09-16T11:16:57.418Z"
   },
   {
    "duration": 9,
    "start_time": "2024-09-16T11:16:57.690Z"
   },
   {
    "duration": 161,
    "start_time": "2024-09-16T11:16:57.701Z"
   },
   {
    "duration": 9,
    "start_time": "2024-09-16T11:16:57.864Z"
   },
   {
    "duration": 165,
    "start_time": "2024-09-16T11:16:57.889Z"
   },
   {
    "duration": 182,
    "start_time": "2024-09-16T11:16:58.057Z"
   },
   {
    "duration": 17,
    "start_time": "2024-09-16T11:16:58.241Z"
   },
   {
    "duration": 36,
    "start_time": "2024-09-16T11:16:58.259Z"
   },
   {
    "duration": 13,
    "start_time": "2024-09-16T11:16:58.298Z"
   },
   {
    "duration": 20,
    "start_time": "2024-09-16T11:16:58.313Z"
   },
   {
    "duration": 14,
    "start_time": "2024-09-16T11:16:58.335Z"
   },
   {
    "duration": 307,
    "start_time": "2024-09-16T11:16:58.352Z"
   },
   {
    "duration": 374,
    "start_time": "2024-09-16T11:16:58.660Z"
   },
   {
    "duration": 9,
    "start_time": "2024-09-16T11:16:59.036Z"
   },
   {
    "duration": 8,
    "start_time": "2024-09-16T11:16:59.047Z"
   },
   {
    "duration": 36,
    "start_time": "2024-09-16T11:16:59.057Z"
   },
   {
    "duration": 8,
    "start_time": "2024-09-16T11:16:59.095Z"
   },
   {
    "duration": 29,
    "start_time": "2024-09-16T11:16:59.104Z"
   },
   {
    "duration": 8,
    "start_time": "2024-09-16T11:16:59.135Z"
   },
   {
    "duration": 7,
    "start_time": "2024-09-16T11:16:59.144Z"
   },
   {
    "duration": 38,
    "start_time": "2024-09-16T11:16:59.152Z"
   },
   {
    "duration": 8,
    "start_time": "2024-09-16T11:16:59.192Z"
   },
   {
    "duration": 1294,
    "start_time": "2024-09-16T14:11:24.150Z"
   },
   {
    "duration": 312,
    "start_time": "2024-09-16T14:11:25.446Z"
   },
   {
    "duration": 12,
    "start_time": "2024-09-16T14:11:25.760Z"
   },
   {
    "duration": 11,
    "start_time": "2024-09-16T14:11:25.774Z"
   },
   {
    "duration": 10,
    "start_time": "2024-09-16T14:11:25.787Z"
   },
   {
    "duration": 9,
    "start_time": "2024-09-16T14:11:25.799Z"
   },
   {
    "duration": 5,
    "start_time": "2024-09-16T14:11:25.811Z"
   },
   {
    "duration": 12,
    "start_time": "2024-09-16T14:11:25.817Z"
   },
   {
    "duration": 47,
    "start_time": "2024-09-16T14:11:25.830Z"
   },
   {
    "duration": 8,
    "start_time": "2024-09-16T14:11:25.880Z"
   },
   {
    "duration": 7,
    "start_time": "2024-09-16T14:11:25.889Z"
   },
   {
    "duration": 9,
    "start_time": "2024-09-16T14:11:25.898Z"
   },
   {
    "duration": 6,
    "start_time": "2024-09-16T14:11:25.909Z"
   },
   {
    "duration": 7,
    "start_time": "2024-09-16T14:11:25.917Z"
   },
   {
    "duration": 216,
    "start_time": "2024-09-16T14:11:25.925Z"
   },
   {
    "duration": 98,
    "start_time": "2024-09-16T14:11:26.143Z"
   },
   {
    "duration": 308,
    "start_time": "2024-09-16T14:11:26.242Z"
   },
   {
    "duration": 15,
    "start_time": "2024-09-16T14:11:26.551Z"
   },
   {
    "duration": 183,
    "start_time": "2024-09-16T14:11:26.567Z"
   },
   {
    "duration": 16,
    "start_time": "2024-09-16T14:11:26.751Z"
   },
   {
    "duration": 179,
    "start_time": "2024-09-16T14:11:26.768Z"
   },
   {
    "duration": 183,
    "start_time": "2024-09-16T14:11:26.948Z"
   },
   {
    "duration": 16,
    "start_time": "2024-09-16T14:11:27.132Z"
   },
   {
    "duration": 29,
    "start_time": "2024-09-16T14:11:27.149Z"
   },
   {
    "duration": 12,
    "start_time": "2024-09-16T14:11:27.180Z"
   },
   {
    "duration": 15,
    "start_time": "2024-09-16T14:11:27.194Z"
   },
   {
    "duration": 14,
    "start_time": "2024-09-16T14:11:27.210Z"
   },
   {
    "duration": 321,
    "start_time": "2024-09-16T14:11:27.227Z"
   },
   {
    "duration": 431,
    "start_time": "2024-09-16T14:11:27.549Z"
   },
   {
    "duration": 8,
    "start_time": "2024-09-16T14:11:27.981Z"
   },
   {
    "duration": 7,
    "start_time": "2024-09-16T14:11:27.991Z"
   },
   {
    "duration": 7,
    "start_time": "2024-09-16T14:11:27.999Z"
   },
   {
    "duration": 7,
    "start_time": "2024-09-16T14:11:28.007Z"
   },
   {
    "duration": 57,
    "start_time": "2024-09-16T14:11:28.015Z"
   },
   {
    "duration": 9,
    "start_time": "2024-09-16T14:11:28.073Z"
   },
   {
    "duration": 5,
    "start_time": "2024-09-16T14:11:28.084Z"
   },
   {
    "duration": 5,
    "start_time": "2024-09-16T14:11:28.091Z"
   },
   {
    "duration": 7,
    "start_time": "2024-09-16T14:11:28.097Z"
   },
   {
    "duration": 6,
    "start_time": "2024-09-16T14:19:57.991Z"
   },
   {
    "duration": 1160,
    "start_time": "2024-09-16T14:22:36.373Z"
   },
   {
    "duration": 79,
    "start_time": "2024-09-16T14:22:37.535Z"
   },
   {
    "duration": 11,
    "start_time": "2024-09-16T14:22:37.615Z"
   },
   {
    "duration": 11,
    "start_time": "2024-09-16T14:22:37.628Z"
   },
   {
    "duration": 9,
    "start_time": "2024-09-16T14:22:37.640Z"
   },
   {
    "duration": 16,
    "start_time": "2024-09-16T14:22:37.650Z"
   },
   {
    "duration": 5,
    "start_time": "2024-09-16T14:22:37.667Z"
   },
   {
    "duration": 7,
    "start_time": "2024-09-16T14:22:37.673Z"
   },
   {
    "duration": 7,
    "start_time": "2024-09-16T14:22:37.681Z"
   },
   {
    "duration": 7,
    "start_time": "2024-09-16T14:22:37.690Z"
   },
   {
    "duration": 6,
    "start_time": "2024-09-16T14:22:37.698Z"
   },
   {
    "duration": 8,
    "start_time": "2024-09-16T14:22:37.705Z"
   },
   {
    "duration": 5,
    "start_time": "2024-09-16T14:22:37.715Z"
   },
   {
    "duration": 5,
    "start_time": "2024-09-16T14:22:37.721Z"
   },
   {
    "duration": 187,
    "start_time": "2024-09-16T14:22:37.765Z"
   },
   {
    "duration": 94,
    "start_time": "2024-09-16T14:22:37.954Z"
   },
   {
    "duration": 298,
    "start_time": "2024-09-16T14:22:38.050Z"
   },
   {
    "duration": 15,
    "start_time": "2024-09-16T14:22:38.350Z"
   },
   {
    "duration": 178,
    "start_time": "2024-09-16T14:22:38.367Z"
   },
   {
    "duration": 18,
    "start_time": "2024-09-16T14:22:38.547Z"
   },
   {
    "duration": 191,
    "start_time": "2024-09-16T14:22:38.567Z"
   },
   {
    "duration": 219,
    "start_time": "2024-09-16T14:22:38.765Z"
   },
   {
    "duration": 17,
    "start_time": "2024-09-16T14:22:38.985Z"
   },
   {
    "duration": 15,
    "start_time": "2024-09-16T14:22:39.004Z"
   },
   {
    "duration": 13,
    "start_time": "2024-09-16T14:22:39.021Z"
   },
   {
    "duration": 42,
    "start_time": "2024-09-16T14:22:39.035Z"
   },
   {
    "duration": 13,
    "start_time": "2024-09-16T14:22:39.078Z"
   },
   {
    "duration": 313,
    "start_time": "2024-09-16T14:22:39.094Z"
   },
   {
    "duration": 384,
    "start_time": "2024-09-16T14:22:39.409Z"
   },
   {
    "duration": 9,
    "start_time": "2024-09-16T14:22:39.795Z"
   },
   {
    "duration": 17,
    "start_time": "2024-09-16T14:22:39.806Z"
   },
   {
    "duration": 8,
    "start_time": "2024-09-16T14:22:39.824Z"
   },
   {
    "duration": 7,
    "start_time": "2024-09-16T14:22:39.833Z"
   },
   {
    "duration": 55,
    "start_time": "2024-09-16T14:22:39.842Z"
   },
   {
    "duration": 8,
    "start_time": "2024-09-16T14:22:39.899Z"
   },
   {
    "duration": 6,
    "start_time": "2024-09-16T14:22:39.909Z"
   },
   {
    "duration": 6,
    "start_time": "2024-09-16T14:22:39.917Z"
   },
   {
    "duration": 41,
    "start_time": "2024-09-16T14:22:39.924Z"
   },
   {
    "duration": 42,
    "start_time": "2024-09-17T05:16:05.570Z"
   },
   {
    "duration": 1086,
    "start_time": "2024-09-17T05:16:16.935Z"
   },
   {
    "duration": 303,
    "start_time": "2024-09-17T05:16:18.023Z"
   },
   {
    "duration": 9,
    "start_time": "2024-09-17T05:16:18.328Z"
   },
   {
    "duration": 138,
    "start_time": "2024-09-17T05:16:18.338Z"
   },
   {
    "duration": 9,
    "start_time": "2024-09-17T05:16:18.478Z"
   },
   {
    "duration": 33,
    "start_time": "2024-09-17T05:16:18.488Z"
   },
   {
    "duration": 17,
    "start_time": "2024-09-17T05:16:18.523Z"
   },
   {
    "duration": 28,
    "start_time": "2024-09-17T05:16:18.542Z"
   },
   {
    "duration": 29,
    "start_time": "2024-09-17T05:16:18.572Z"
   },
   {
    "duration": 8,
    "start_time": "2024-09-17T05:16:18.603Z"
   },
   {
    "duration": 22,
    "start_time": "2024-09-17T05:16:18.612Z"
   },
   {
    "duration": 43,
    "start_time": "2024-09-17T05:16:18.635Z"
   },
   {
    "duration": 8,
    "start_time": "2024-09-17T05:16:18.679Z"
   },
   {
    "duration": 22,
    "start_time": "2024-09-17T05:16:18.689Z"
   },
   {
    "duration": 152,
    "start_time": "2024-09-17T05:16:18.713Z"
   },
   {
    "duration": 77,
    "start_time": "2024-09-17T05:16:18.867Z"
   },
   {
    "duration": 224,
    "start_time": "2024-09-17T05:16:18.946Z"
   },
   {
    "duration": 6,
    "start_time": "2024-09-17T05:16:19.171Z"
   },
   {
    "duration": 168,
    "start_time": "2024-09-17T05:16:19.178Z"
   },
   {
    "duration": 7,
    "start_time": "2024-09-17T05:16:19.347Z"
   },
   {
    "duration": 160,
    "start_time": "2024-09-17T05:16:19.355Z"
   },
   {
    "duration": 165,
    "start_time": "2024-09-17T05:16:19.517Z"
   },
   {
    "duration": 13,
    "start_time": "2024-09-17T05:16:19.683Z"
   },
   {
    "duration": 20,
    "start_time": "2024-09-17T05:16:19.697Z"
   },
   {
    "duration": 12,
    "start_time": "2024-09-17T05:16:19.719Z"
   },
   {
    "duration": 15,
    "start_time": "2024-09-17T05:16:19.732Z"
   },
   {
    "duration": 11,
    "start_time": "2024-09-17T05:16:19.748Z"
   },
   {
    "duration": 246,
    "start_time": "2024-09-17T05:16:19.761Z"
   },
   {
    "duration": 300,
    "start_time": "2024-09-17T05:16:20.008Z"
   },
   {
    "duration": 6,
    "start_time": "2024-09-17T05:16:20.310Z"
   },
   {
    "duration": 86,
    "start_time": "2024-09-17T05:16:20.317Z"
   },
   {
    "duration": 42,
    "start_time": "2024-09-17T05:16:20.404Z"
   },
   {
    "duration": 32,
    "start_time": "2024-09-17T05:16:20.447Z"
   },
   {
    "duration": 32,
    "start_time": "2024-09-17T05:16:20.480Z"
   },
   {
    "duration": 11,
    "start_time": "2024-09-17T05:16:20.513Z"
   },
   {
    "duration": 5,
    "start_time": "2024-09-17T05:16:20.525Z"
   },
   {
    "duration": 20,
    "start_time": "2024-09-17T05:16:20.532Z"
   },
   {
    "duration": 19,
    "start_time": "2024-09-17T05:16:20.553Z"
   },
   {
    "duration": 61,
    "start_time": "2024-09-17T05:17:28.183Z"
   },
   {
    "duration": 50,
    "start_time": "2024-09-17T12:07:30.298Z"
   },
   {
    "duration": 1420,
    "start_time": "2024-09-17T12:07:47.817Z"
   },
   {
    "duration": 320,
    "start_time": "2024-09-17T12:07:49.239Z"
   },
   {
    "duration": 12,
    "start_time": "2024-09-17T12:07:49.560Z"
   },
   {
    "duration": 26,
    "start_time": "2024-09-17T12:07:49.574Z"
   },
   {
    "duration": 16,
    "start_time": "2024-09-17T12:07:49.602Z"
   },
   {
    "duration": 11,
    "start_time": "2024-09-17T12:07:49.619Z"
   },
   {
    "duration": 10,
    "start_time": "2024-09-17T12:07:49.631Z"
   },
   {
    "duration": 6,
    "start_time": "2024-09-17T12:07:49.643Z"
   },
   {
    "duration": 8,
    "start_time": "2024-09-17T12:07:49.651Z"
   },
   {
    "duration": 12,
    "start_time": "2024-09-17T12:07:49.660Z"
   },
   {
    "duration": 5,
    "start_time": "2024-09-17T12:07:49.674Z"
   },
   {
    "duration": 8,
    "start_time": "2024-09-17T12:07:49.680Z"
   },
   {
    "duration": 9,
    "start_time": "2024-09-17T12:07:49.689Z"
   },
   {
    "duration": 5,
    "start_time": "2024-09-17T12:07:49.701Z"
   },
   {
    "duration": 233,
    "start_time": "2024-09-17T12:07:49.707Z"
   },
   {
    "duration": 102,
    "start_time": "2024-09-17T12:07:49.946Z"
   },
   {
    "duration": 307,
    "start_time": "2024-09-17T12:07:50.050Z"
   },
   {
    "duration": 9,
    "start_time": "2024-09-17T12:07:50.359Z"
   },
   {
    "duration": 211,
    "start_time": "2024-09-17T12:07:50.370Z"
   },
   {
    "duration": 9,
    "start_time": "2024-09-17T12:07:50.582Z"
   },
   {
    "duration": 242,
    "start_time": "2024-09-17T12:07:50.593Z"
   },
   {
    "duration": 187,
    "start_time": "2024-09-17T12:07:50.837Z"
   },
   {
    "duration": 26,
    "start_time": "2024-09-17T12:07:51.026Z"
   },
   {
    "duration": 15,
    "start_time": "2024-09-17T12:07:51.053Z"
   },
   {
    "duration": 13,
    "start_time": "2024-09-17T12:07:51.069Z"
   },
   {
    "duration": 26,
    "start_time": "2024-09-17T12:07:51.084Z"
   },
   {
    "duration": 37,
    "start_time": "2024-09-17T12:07:51.111Z"
   },
   {
    "duration": 311,
    "start_time": "2024-09-17T12:07:51.149Z"
   },
   {
    "duration": 397,
    "start_time": "2024-09-17T12:07:51.461Z"
   },
   {
    "duration": 8,
    "start_time": "2024-09-17T12:07:51.860Z"
   },
   {
    "duration": 11,
    "start_time": "2024-09-17T12:07:51.869Z"
   },
   {
    "duration": 7,
    "start_time": "2024-09-17T12:07:51.882Z"
   },
   {
    "duration": 7,
    "start_time": "2024-09-17T12:07:51.890Z"
   },
   {
    "duration": 68,
    "start_time": "2024-09-17T12:07:51.899Z"
   },
   {
    "duration": 10,
    "start_time": "2024-09-17T12:07:51.969Z"
   },
   {
    "duration": 7,
    "start_time": "2024-09-17T12:07:51.981Z"
   },
   {
    "duration": 17,
    "start_time": "2024-09-17T12:07:51.990Z"
   },
   {
    "duration": 53,
    "start_time": "2024-09-17T12:07:52.009Z"
   },
   {
    "duration": 85,
    "start_time": "2024-09-17T12:12:05.827Z"
   },
   {
    "duration": 92,
    "start_time": "2024-09-17T12:12:16.729Z"
   },
   {
    "duration": 98,
    "start_time": "2024-09-17T12:12:19.036Z"
   },
   {
    "duration": 7,
    "start_time": "2024-09-17T12:12:35.433Z"
   },
   {
    "duration": 86,
    "start_time": "2024-09-17T12:16:59.566Z"
   },
   {
    "duration": 170,
    "start_time": "2024-09-17T12:17:19.060Z"
   },
   {
    "duration": 157,
    "start_time": "2024-09-17T12:20:04.218Z"
   },
   {
    "duration": 304,
    "start_time": "2024-09-17T12:20:11.152Z"
   },
   {
    "duration": 293,
    "start_time": "2024-09-17T12:22:03.762Z"
   },
   {
    "duration": 175,
    "start_time": "2024-09-17T12:22:13.453Z"
   },
   {
    "duration": 291,
    "start_time": "2024-09-17T12:22:29.830Z"
   },
   {
    "duration": 1137,
    "start_time": "2024-09-17T12:22:53.996Z"
   },
   {
    "duration": 92,
    "start_time": "2024-09-17T12:22:55.135Z"
   },
   {
    "duration": 11,
    "start_time": "2024-09-17T12:22:55.228Z"
   },
   {
    "duration": 117,
    "start_time": "2024-09-17T12:22:55.241Z"
   },
   {
    "duration": 47,
    "start_time": "2024-09-17T12:22:55.359Z"
   },
   {
    "duration": 25,
    "start_time": "2024-09-17T12:22:55.408Z"
   },
   {
    "duration": 21,
    "start_time": "2024-09-17T12:22:55.435Z"
   },
   {
    "duration": 7,
    "start_time": "2024-09-17T12:22:55.458Z"
   },
   {
    "duration": 8,
    "start_time": "2024-09-17T12:22:55.467Z"
   },
   {
    "duration": 10,
    "start_time": "2024-09-17T12:22:55.479Z"
   },
   {
    "duration": 7,
    "start_time": "2024-09-17T12:22:55.491Z"
   },
   {
    "duration": 14,
    "start_time": "2024-09-17T12:22:55.500Z"
   },
   {
    "duration": 10,
    "start_time": "2024-09-17T12:22:55.545Z"
   },
   {
    "duration": 8,
    "start_time": "2024-09-17T12:22:55.558Z"
   },
   {
    "duration": 217,
    "start_time": "2024-09-17T12:22:55.568Z"
   },
   {
    "duration": 98,
    "start_time": "2024-09-17T12:22:55.787Z"
   },
   {
    "duration": 298,
    "start_time": "2024-09-17T12:22:55.887Z"
   },
   {
    "duration": 9,
    "start_time": "2024-09-17T12:22:56.186Z"
   },
   {
    "duration": 176,
    "start_time": "2024-09-17T12:22:56.196Z"
   },
   {
    "duration": 10,
    "start_time": "2024-09-17T12:22:56.374Z"
   },
   {
    "duration": 195,
    "start_time": "2024-09-17T12:22:56.385Z"
   },
   {
    "duration": 194,
    "start_time": "2024-09-17T12:22:56.582Z"
   },
   {
    "duration": 15,
    "start_time": "2024-09-17T12:22:56.778Z"
   },
   {
    "duration": 14,
    "start_time": "2024-09-17T12:22:56.795Z"
   },
   {
    "duration": 15,
    "start_time": "2024-09-17T12:22:56.810Z"
   },
   {
    "duration": 17,
    "start_time": "2024-09-17T12:22:56.846Z"
   },
   {
    "duration": 19,
    "start_time": "2024-09-17T12:22:56.865Z"
   },
   {
    "duration": 334,
    "start_time": "2024-09-17T12:22:56.888Z"
   },
   {
    "duration": 415,
    "start_time": "2024-09-17T12:22:57.224Z"
   },
   {
    "duration": 7,
    "start_time": "2024-09-17T12:22:57.646Z"
   },
   {
    "duration": 9,
    "start_time": "2024-09-17T12:22:57.655Z"
   },
   {
    "duration": 22,
    "start_time": "2024-09-17T12:22:57.666Z"
   },
   {
    "duration": 23,
    "start_time": "2024-09-17T12:22:57.690Z"
   },
   {
    "duration": 69,
    "start_time": "2024-09-17T12:22:57.715Z"
   },
   {
    "duration": 7,
    "start_time": "2024-09-17T12:22:57.786Z"
   },
   {
    "duration": 11,
    "start_time": "2024-09-17T12:22:57.795Z"
   },
   {
    "duration": 7,
    "start_time": "2024-09-17T12:22:57.808Z"
   },
   {
    "duration": 12,
    "start_time": "2024-09-17T12:22:57.817Z"
   },
   {
    "duration": 1202,
    "start_time": "2024-09-17T12:25:44.220Z"
   },
   {
    "duration": 92,
    "start_time": "2024-09-17T12:25:45.424Z"
   },
   {
    "duration": 11,
    "start_time": "2024-09-17T12:25:45.518Z"
   },
   {
    "duration": 31,
    "start_time": "2024-09-17T12:25:45.531Z"
   },
   {
    "duration": 10,
    "start_time": "2024-09-17T12:25:45.564Z"
   },
   {
    "duration": 28,
    "start_time": "2024-09-17T12:25:45.575Z"
   },
   {
    "duration": 7,
    "start_time": "2024-09-17T12:25:45.605Z"
   },
   {
    "duration": 6,
    "start_time": "2024-09-17T12:25:45.614Z"
   },
   {
    "duration": 24,
    "start_time": "2024-09-17T12:25:45.622Z"
   },
   {
    "duration": 11,
    "start_time": "2024-09-17T12:25:45.649Z"
   },
   {
    "duration": 12,
    "start_time": "2024-09-17T12:25:45.662Z"
   },
   {
    "duration": 24,
    "start_time": "2024-09-17T12:25:45.676Z"
   },
   {
    "duration": 6,
    "start_time": "2024-09-17T12:25:45.701Z"
   },
   {
    "duration": 10,
    "start_time": "2024-09-17T12:25:45.709Z"
   },
   {
    "duration": 193,
    "start_time": "2024-09-17T12:25:45.721Z"
   },
   {
    "duration": 120,
    "start_time": "2024-09-17T12:25:45.915Z"
   },
   {
    "duration": 293,
    "start_time": "2024-09-17T12:25:46.037Z"
   },
   {
    "duration": 20,
    "start_time": "2024-09-17T12:25:46.331Z"
   },
   {
    "duration": 170,
    "start_time": "2024-09-17T12:25:46.352Z"
   },
   {
    "duration": 9,
    "start_time": "2024-09-17T12:25:46.524Z"
   },
   {
    "duration": 226,
    "start_time": "2024-09-17T12:25:46.534Z"
   },
   {
    "duration": 189,
    "start_time": "2024-09-17T12:25:46.762Z"
   },
   {
    "duration": 15,
    "start_time": "2024-09-17T12:25:46.953Z"
   },
   {
    "duration": 19,
    "start_time": "2024-09-17T12:25:46.970Z"
   },
   {
    "duration": 13,
    "start_time": "2024-09-17T12:25:46.990Z"
   },
   {
    "duration": 42,
    "start_time": "2024-09-17T12:25:47.004Z"
   },
   {
    "duration": 15,
    "start_time": "2024-09-17T12:25:47.048Z"
   },
   {
    "duration": 316,
    "start_time": "2024-09-17T12:25:47.067Z"
   },
   {
    "duration": 400,
    "start_time": "2024-09-17T12:25:47.385Z"
   },
   {
    "duration": 8,
    "start_time": "2024-09-17T12:25:47.787Z"
   },
   {
    "duration": 15,
    "start_time": "2024-09-17T12:25:47.797Z"
   },
   {
    "duration": 17,
    "start_time": "2024-09-17T12:25:47.813Z"
   },
   {
    "duration": 20,
    "start_time": "2024-09-17T12:25:47.832Z"
   },
   {
    "duration": 38,
    "start_time": "2024-09-17T12:25:47.853Z"
   },
   {
    "duration": 7,
    "start_time": "2024-09-17T12:25:47.893Z"
   },
   {
    "duration": 4,
    "start_time": "2024-09-17T12:25:47.902Z"
   },
   {
    "duration": 39,
    "start_time": "2024-09-17T12:25:47.908Z"
   },
   {
    "duration": 8,
    "start_time": "2024-09-17T12:25:47.949Z"
   },
   {
    "duration": 1173,
    "start_time": "2024-09-17T12:30:49.861Z"
   },
   {
    "duration": 90,
    "start_time": "2024-09-17T12:30:51.036Z"
   },
   {
    "duration": 12,
    "start_time": "2024-09-17T12:30:51.128Z"
   },
   {
    "duration": 13,
    "start_time": "2024-09-17T12:30:51.142Z"
   },
   {
    "duration": 10,
    "start_time": "2024-09-17T12:30:51.156Z"
   },
   {
    "duration": 20,
    "start_time": "2024-09-17T12:30:51.168Z"
   },
   {
    "duration": 17,
    "start_time": "2024-09-17T12:30:51.190Z"
   },
   {
    "duration": 6,
    "start_time": "2024-09-17T12:30:51.209Z"
   },
   {
    "duration": 7,
    "start_time": "2024-09-17T12:30:51.216Z"
   },
   {
    "duration": 26,
    "start_time": "2024-09-17T12:30:51.225Z"
   },
   {
    "duration": 6,
    "start_time": "2024-09-17T12:30:51.253Z"
   },
   {
    "duration": 10,
    "start_time": "2024-09-17T12:30:51.260Z"
   },
   {
    "duration": 6,
    "start_time": "2024-09-17T12:30:51.271Z"
   },
   {
    "duration": 10,
    "start_time": "2024-09-17T12:30:51.278Z"
   },
   {
    "duration": 210,
    "start_time": "2024-09-17T12:30:51.290Z"
   },
   {
    "duration": 99,
    "start_time": "2024-09-17T12:30:51.501Z"
   },
   {
    "duration": 293,
    "start_time": "2024-09-17T12:30:51.602Z"
   },
   {
    "duration": 8,
    "start_time": "2024-09-17T12:30:51.896Z"
   },
   {
    "duration": 1154,
    "start_time": "2024-09-17T12:33:51.567Z"
   },
   {
    "duration": 90,
    "start_time": "2024-09-17T12:33:52.723Z"
   },
   {
    "duration": 16,
    "start_time": "2024-09-17T12:33:52.815Z"
   },
   {
    "duration": 49,
    "start_time": "2024-09-17T12:33:52.833Z"
   },
   {
    "duration": 103,
    "start_time": "2024-09-17T12:33:52.884Z"
   },
   {
    "duration": 52,
    "start_time": "2024-09-17T12:33:52.988Z"
   },
   {
    "duration": 28,
    "start_time": "2024-09-17T12:33:53.041Z"
   },
   {
    "duration": 6,
    "start_time": "2024-09-17T12:33:53.070Z"
   },
   {
    "duration": 10,
    "start_time": "2024-09-17T12:33:53.077Z"
   },
   {
    "duration": 26,
    "start_time": "2024-09-17T12:33:53.089Z"
   },
   {
    "duration": 16,
    "start_time": "2024-09-17T12:33:53.116Z"
   },
   {
    "duration": 30,
    "start_time": "2024-09-17T12:33:53.134Z"
   },
   {
    "duration": 13,
    "start_time": "2024-09-17T12:33:53.166Z"
   },
   {
    "duration": 42,
    "start_time": "2024-09-17T12:33:53.182Z"
   },
   {
    "duration": 253,
    "start_time": "2024-09-17T12:33:53.226Z"
   },
   {
    "duration": 91,
    "start_time": "2024-09-17T12:33:53.480Z"
   },
   {
    "duration": 298,
    "start_time": "2024-09-17T12:33:53.573Z"
   },
   {
    "duration": 9,
    "start_time": "2024-09-17T12:33:53.874Z"
   },
   {
    "duration": 185,
    "start_time": "2024-09-17T12:33:53.885Z"
   },
   {
    "duration": 10,
    "start_time": "2024-09-17T12:33:54.072Z"
   },
   {
    "duration": 207,
    "start_time": "2024-09-17T12:33:54.084Z"
   },
   {
    "duration": 205,
    "start_time": "2024-09-17T12:33:54.293Z"
   },
   {
    "duration": 20,
    "start_time": "2024-09-17T12:33:54.500Z"
   },
   {
    "duration": 32,
    "start_time": "2024-09-17T12:33:54.522Z"
   },
   {
    "duration": 22,
    "start_time": "2024-09-17T12:33:54.556Z"
   },
   {
    "duration": 73,
    "start_time": "2024-09-17T12:33:54.580Z"
   },
   {
    "duration": 40,
    "start_time": "2024-09-17T12:33:54.655Z"
   },
   {
    "duration": 344,
    "start_time": "2024-09-17T12:33:54.697Z"
   },
   {
    "duration": 412,
    "start_time": "2024-09-17T12:33:55.043Z"
   },
   {
    "duration": 9,
    "start_time": "2024-09-17T12:33:55.457Z"
   },
   {
    "duration": 9,
    "start_time": "2024-09-17T12:33:55.468Z"
   },
   {
    "duration": 44,
    "start_time": "2024-09-17T12:33:55.479Z"
   },
   {
    "duration": 20,
    "start_time": "2024-09-17T12:33:55.525Z"
   },
   {
    "duration": 47,
    "start_time": "2024-09-17T12:33:55.547Z"
   },
   {
    "duration": 39,
    "start_time": "2024-09-17T12:33:55.596Z"
   },
   {
    "duration": 22,
    "start_time": "2024-09-17T12:33:55.637Z"
   },
   {
    "duration": 6,
    "start_time": "2024-09-17T12:33:55.661Z"
   },
   {
    "duration": 20,
    "start_time": "2024-09-17T12:33:55.668Z"
   },
   {
    "duration": 332,
    "start_time": "2024-09-17T12:47:01.629Z"
   },
   {
    "duration": 322,
    "start_time": "2024-09-17T12:47:22.953Z"
   },
   {
    "duration": 342,
    "start_time": "2024-09-17T12:47:57.205Z"
   },
   {
    "duration": 329,
    "start_time": "2024-09-17T12:48:43.024Z"
   },
   {
    "duration": 75,
    "start_time": "2024-09-17T12:53:29.814Z"
   },
   {
    "duration": 36,
    "start_time": "2024-09-17T12:53:34.821Z"
   },
   {
    "duration": 9,
    "start_time": "2024-09-17T12:57:45.781Z"
   },
   {
    "duration": 7,
    "start_time": "2024-09-17T12:59:08.757Z"
   },
   {
    "duration": 36,
    "start_time": "2024-09-17T12:59:13.561Z"
   },
   {
    "duration": 1174,
    "start_time": "2024-09-17T12:59:25.850Z"
   },
   {
    "duration": 101,
    "start_time": "2024-09-17T12:59:27.026Z"
   },
   {
    "duration": 11,
    "start_time": "2024-09-17T12:59:27.129Z"
   },
   {
    "duration": 14,
    "start_time": "2024-09-17T12:59:27.142Z"
   },
   {
    "duration": 21,
    "start_time": "2024-09-17T12:59:27.157Z"
   },
   {
    "duration": 18,
    "start_time": "2024-09-17T12:59:27.179Z"
   },
   {
    "duration": 21,
    "start_time": "2024-09-17T12:59:27.199Z"
   },
   {
    "duration": 6,
    "start_time": "2024-09-17T12:59:27.222Z"
   },
   {
    "duration": 30,
    "start_time": "2024-09-17T12:59:27.230Z"
   },
   {
    "duration": 39,
    "start_time": "2024-09-17T12:59:27.262Z"
   },
   {
    "duration": 8,
    "start_time": "2024-09-17T12:59:27.302Z"
   },
   {
    "duration": 25,
    "start_time": "2024-09-17T12:59:27.312Z"
   },
   {
    "duration": 27,
    "start_time": "2024-09-17T12:59:27.339Z"
   },
   {
    "duration": 20,
    "start_time": "2024-09-17T12:59:27.368Z"
   },
   {
    "duration": 197,
    "start_time": "2024-09-17T12:59:27.390Z"
   },
   {
    "duration": 94,
    "start_time": "2024-09-17T12:59:27.589Z"
   },
   {
    "duration": 298,
    "start_time": "2024-09-17T12:59:27.685Z"
   },
   {
    "duration": 8,
    "start_time": "2024-09-17T12:59:27.985Z"
   },
   {
    "duration": 181,
    "start_time": "2024-09-17T12:59:27.995Z"
   },
   {
    "duration": 9,
    "start_time": "2024-09-17T12:59:28.178Z"
   },
   {
    "duration": 199,
    "start_time": "2024-09-17T12:59:28.188Z"
   },
   {
    "duration": 202,
    "start_time": "2024-09-17T12:59:28.389Z"
   },
   {
    "duration": 22,
    "start_time": "2024-09-17T12:59:28.593Z"
   },
   {
    "duration": 39,
    "start_time": "2024-09-17T12:59:28.618Z"
   },
   {
    "duration": 15,
    "start_time": "2024-09-17T12:59:28.659Z"
   },
   {
    "duration": 28,
    "start_time": "2024-09-17T12:59:28.676Z"
   },
   {
    "duration": 16,
    "start_time": "2024-09-17T12:59:28.705Z"
   },
   {
    "duration": 374,
    "start_time": "2024-09-17T12:59:28.724Z"
   },
   {
    "duration": 415,
    "start_time": "2024-09-17T12:59:29.099Z"
   },
   {
    "duration": 8,
    "start_time": "2024-09-17T12:59:29.516Z"
   },
   {
    "duration": 54,
    "start_time": "2024-09-17T12:59:29.526Z"
   },
   {
    "duration": 133,
    "start_time": "2024-09-17T12:59:29.582Z"
   },
   {
    "duration": 15,
    "start_time": "2024-09-17T12:59:29.716Z"
   },
   {
    "duration": 38,
    "start_time": "2024-09-17T12:59:29.733Z"
   },
   {
    "duration": 7,
    "start_time": "2024-09-17T12:59:29.772Z"
   },
   {
    "duration": 8,
    "start_time": "2024-09-17T12:59:29.780Z"
   },
   {
    "duration": 5,
    "start_time": "2024-09-17T12:59:29.789Z"
   },
   {
    "duration": 15,
    "start_time": "2024-09-17T12:59:29.795Z"
   },
   {
    "duration": 1182,
    "start_time": "2024-09-17T13:11:23.351Z"
   },
   {
    "duration": 92,
    "start_time": "2024-09-17T13:11:24.535Z"
   },
   {
    "duration": 11,
    "start_time": "2024-09-17T13:11:24.629Z"
   },
   {
    "duration": 51,
    "start_time": "2024-09-17T13:11:24.642Z"
   },
   {
    "duration": 35,
    "start_time": "2024-09-17T13:11:24.694Z"
   },
   {
    "duration": 41,
    "start_time": "2024-09-17T13:11:24.731Z"
   },
   {
    "duration": 19,
    "start_time": "2024-09-17T13:11:24.774Z"
   },
   {
    "duration": 17,
    "start_time": "2024-09-17T13:11:24.795Z"
   },
   {
    "duration": 36,
    "start_time": "2024-09-17T13:11:24.814Z"
   },
   {
    "duration": 15,
    "start_time": "2024-09-17T13:11:24.853Z"
   },
   {
    "duration": 20,
    "start_time": "2024-09-17T13:11:24.869Z"
   },
   {
    "duration": 31,
    "start_time": "2024-09-17T13:11:24.890Z"
   },
   {
    "duration": 16,
    "start_time": "2024-09-17T13:11:24.923Z"
   },
   {
    "duration": 21,
    "start_time": "2024-09-17T13:11:24.940Z"
   },
   {
    "duration": 233,
    "start_time": "2024-09-17T13:11:24.962Z"
   },
   {
    "duration": 95,
    "start_time": "2024-09-17T13:11:25.197Z"
   },
   {
    "duration": 303,
    "start_time": "2024-09-17T13:11:25.293Z"
   },
   {
    "duration": 8,
    "start_time": "2024-09-17T13:11:25.598Z"
   },
   {
    "duration": 182,
    "start_time": "2024-09-17T13:11:25.608Z"
   },
   {
    "duration": 10,
    "start_time": "2024-09-17T13:11:25.791Z"
   },
   {
    "duration": 192,
    "start_time": "2024-09-17T13:11:25.803Z"
   },
   {
    "duration": 190,
    "start_time": "2024-09-17T13:11:25.997Z"
   },
   {
    "duration": 16,
    "start_time": "2024-09-17T13:11:26.188Z"
   },
   {
    "duration": 17,
    "start_time": "2024-09-17T13:11:26.205Z"
   },
   {
    "duration": 34,
    "start_time": "2024-09-17T13:11:26.223Z"
   },
   {
    "duration": 40,
    "start_time": "2024-09-17T13:11:26.260Z"
   },
   {
    "duration": 15,
    "start_time": "2024-09-17T13:11:26.302Z"
   },
   {
    "duration": 355,
    "start_time": "2024-09-17T13:11:26.320Z"
   },
   {
    "duration": 394,
    "start_time": "2024-09-17T13:11:26.677Z"
   },
   {
    "duration": 10,
    "start_time": "2024-09-17T13:11:27.073Z"
   },
   {
    "duration": 115,
    "start_time": "2024-09-17T13:11:27.084Z"
   },
   {
    "duration": 30,
    "start_time": "2024-09-17T13:11:27.201Z"
   },
   {
    "duration": 37,
    "start_time": "2024-09-17T13:11:27.233Z"
   },
   {
    "duration": 41,
    "start_time": "2024-09-17T13:11:27.272Z"
   },
   {
    "duration": 8,
    "start_time": "2024-09-17T13:11:27.314Z"
   },
   {
    "duration": 37,
    "start_time": "2024-09-17T13:11:27.324Z"
   },
   {
    "duration": 47,
    "start_time": "2024-09-17T13:11:27.364Z"
   },
   {
    "duration": 39,
    "start_time": "2024-09-17T13:11:27.414Z"
   },
   {
    "duration": 1118,
    "start_time": "2024-09-17T16:26:10.753Z"
   },
   {
    "duration": 86,
    "start_time": "2024-09-17T16:26:11.873Z"
   },
   {
    "duration": 10,
    "start_time": "2024-09-17T16:26:11.961Z"
   },
   {
    "duration": 46,
    "start_time": "2024-09-17T16:26:11.973Z"
   },
   {
    "duration": 17,
    "start_time": "2024-09-17T16:26:12.020Z"
   },
   {
    "duration": 36,
    "start_time": "2024-09-17T16:26:12.038Z"
   },
   {
    "duration": 19,
    "start_time": "2024-09-17T16:26:12.076Z"
   },
   {
    "duration": 48,
    "start_time": "2024-09-17T16:26:12.096Z"
   },
   {
    "duration": 8,
    "start_time": "2024-09-17T16:26:12.145Z"
   },
   {
    "duration": 18,
    "start_time": "2024-09-17T16:26:12.155Z"
   },
   {
    "duration": 27,
    "start_time": "2024-09-17T16:26:12.175Z"
   },
   {
    "duration": 14,
    "start_time": "2024-09-17T16:26:12.204Z"
   },
   {
    "duration": 14,
    "start_time": "2024-09-17T16:26:12.220Z"
   },
   {
    "duration": 16,
    "start_time": "2024-09-17T16:26:12.236Z"
   },
   {
    "duration": 186,
    "start_time": "2024-09-17T16:26:12.253Z"
   },
   {
    "duration": 89,
    "start_time": "2024-09-17T16:26:12.440Z"
   },
   {
    "duration": 303,
    "start_time": "2024-09-17T16:26:12.530Z"
   },
   {
    "duration": 9,
    "start_time": "2024-09-17T16:26:12.835Z"
   },
   {
    "duration": 185,
    "start_time": "2024-09-17T16:26:12.846Z"
   },
   {
    "duration": 9,
    "start_time": "2024-09-17T16:26:13.032Z"
   },
   {
    "duration": 237,
    "start_time": "2024-09-17T16:26:13.043Z"
   },
   {
    "duration": 186,
    "start_time": "2024-09-17T16:26:13.281Z"
   },
   {
    "duration": 15,
    "start_time": "2024-09-17T16:26:13.469Z"
   },
   {
    "duration": 26,
    "start_time": "2024-09-17T16:26:13.485Z"
   },
   {
    "duration": 12,
    "start_time": "2024-09-17T16:26:13.513Z"
   },
   {
    "duration": 26,
    "start_time": "2024-09-17T16:26:13.526Z"
   },
   {
    "duration": 13,
    "start_time": "2024-09-17T16:26:13.554Z"
   },
   {
    "duration": 332,
    "start_time": "2024-09-17T16:26:13.571Z"
   },
   {
    "duration": 408,
    "start_time": "2024-09-17T16:26:13.905Z"
   },
   {
    "duration": 10,
    "start_time": "2024-09-17T16:26:14.316Z"
   },
   {
    "duration": 11,
    "start_time": "2024-09-17T16:26:14.328Z"
   },
   {
    "duration": 8,
    "start_time": "2024-09-17T16:26:14.341Z"
   },
   {
    "duration": 23,
    "start_time": "2024-09-17T16:26:14.350Z"
   },
   {
    "duration": 55,
    "start_time": "2024-09-17T16:26:14.375Z"
   },
   {
    "duration": 8,
    "start_time": "2024-09-17T16:26:14.432Z"
   },
   {
    "duration": 27,
    "start_time": "2024-09-17T16:26:14.442Z"
   },
   {
    "duration": 30,
    "start_time": "2024-09-17T16:26:14.470Z"
   },
   {
    "duration": 15,
    "start_time": "2024-09-17T16:26:14.501Z"
   }
  ],
  "kernelspec": {
   "display_name": "Python 3 (ipykernel)",
   "language": "python",
   "name": "python3"
  },
  "language_info": {
   "codemirror_mode": {
    "name": "ipython",
    "version": 3
   },
   "file_extension": ".py",
   "mimetype": "text/x-python",
   "name": "python",
   "nbconvert_exporter": "python",
   "pygments_lexer": "ipython3",
   "version": "3.9.5"
  },
  "toc": {
   "base_numbering": 1,
   "nav_menu": {},
   "number_sections": true,
   "sideBar": true,
   "skip_h1_title": true,
   "title_cell": "Table of Contents",
   "title_sidebar": "Contents",
   "toc_cell": false,
   "toc_position": {},
   "toc_section_display": true,
   "toc_window_display": false
  }
 },
 "nbformat": 4,
 "nbformat_minor": 5
}
