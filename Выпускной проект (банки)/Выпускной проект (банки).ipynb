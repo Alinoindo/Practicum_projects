  {
   "cell_type": "markdown",
   "metadata": {},
   "source": [
    "# Выпускной проект "
   ]
  },
  {
   "cell_type": "markdown",
   "metadata": {},
   "source": [
    "1. [Загружаем данные, изучаем общую информацию.](#1)\n",
    "2. [Делаем предобработку данных. Ищем пропуски, выявляем дубликаты. Проверяем, соответствуют ли столбцы своему типу данных, если некорректно - исправляем. Названия столбцов приводим к нижнему регистру, переименовываем, если нужно, для удобства. Также нужно проверить аномалии/выбросы.](#2)\n",
    "3. [Проводим ИАД. Делаем корреляцию и строим визуализации. К визуализациям добавляем выводы. Построить график распределения разных признаков в разрезе оттока. Определить значимые признаки отточности. Составляем портрет клиента, склонного уходить из банка, можем сравнить портреты клиентов, склонных и несклонных уходить из банка. Составляем вывод по данному этапу.](#3)\n",
    "4. [Проводим статистический анализ данных. Проверяем статистические гипотезы:](#4)\n",
    "- Гипотеза 1.\n",
    "- Гипотеза 2.\n",
    "- Гипотеза 3.\n",
    "5. [Формируем сегменты - делаем выборки клиентов, которые будут объединены комбинацией признаков отточности. Построим графики по сегментам или один график по всем сегментам.](#5) \n",
    "6. [Презентация.](#6)\n",
    "7. [Выводы, рекомендации.](#7)"
   ]
  },
  {
   "cell_type": "markdown",
   "metadata": {},
   "source": [
    "# Банки — Анализ оттока клиентов"
   ]
  },
  {
   "cell_type": "markdown",
   "metadata": {},
   "source": [
    "**Описание проекта**\n",
    "\n",
    "Банк «Метанпром» в срочном порядке ищет аналитиков уверенным владением «Python». Нашей главной задачей станет анализ оттока клиентов. Анализ покажет, какие клиенты уходят из банка, а так же поможет нам составить сегменты клиентов, которые склонны уходить из банка."
   ]
  },
  {
   "cell_type": "markdown",
   "metadata": {},
   "source": [
    "**Описание данных**\n",
    "\n",
    "`/datasets/bank_scrooge.csv`\n",
    "Датасет содержит данные о клиентах банка «Метанпром». Банк располагается в\n",
    "Ярославле и областных городах: Ростов Великий и Рыбинск.\n",
    "\n",
    "**Колонки:**\n",
    "- `USERID` — идентификатор пользователя,\n",
    "- `score` — баллы кредитного скоринга,\n",
    "- `city` — город,\n",
    "- `gender` — пол,\n",
    "- `age` — возраст,\n",
    "- `equity` — количество баллов собственности\n",
    "- `balance` — баланс на счёте,\n",
    "- `products` — количество продуктов, которыми пользуется клиент,\n",
    "- `credit_card` — есть ли кредитная карта,\n",
    "- `last_activity` — активный клиент,\n",
    "- `EST_SALARY` — оценочный доход клиента,\n",
    "- `сhurn` — признак оттока.\n"
   ]
  },
  {
   "cell_type": "markdown",
   "metadata": {},
   "source": [
    "**Цель проекта**\n",
    "\n",
    "Проанализировать клиентов регионального банка и выделить сегменты клиентов,\n",
    "которые склонны уходить из банка."
   ]
  },
  {
   "cell_type": "markdown",
   "metadata": {},
   "source": [
    "\n",
    "<div class=\"alert alert-success\">\n",
    "<b>Комментарий ревьюера:</b>☀️Молодец, что начинаешь с введения - это важная часть проекта.</div>"
   ]
  },
  {
   "cell_type": "markdown",
   "metadata": {},
   "source": [
    "## Изучение общей информации\n",
    "<a id=\"1\"></a>"
   ]
  },
  {
   "cell_type": "code",
   "execution_count": 1,
   "metadata": {},
   "outputs": [],
   "source": [
    "import pandas as pd # импортируем библиотеки\n",
    "import scipy.stats as stats\n",
    "import datetime as dt\n",
    "import numpy as np\n",
    "from matplotlib import pyplot as plt\n",
    "import math as mth\n",
    "import seaborn as sns\n",
    "from scipy.stats import pointbiserialr\n",
    "from statsmodels.stats.proportion import proportions_ztest"
   ]
  },
  {
   "cell_type": "code",
   "execution_count": 2,
   "metadata": {},
   "outputs": [
    {
     "name": "stdout",
     "output_type": "stream",
     "text": [
      "<class 'pandas.core.frame.DataFrame'>\n",
      "RangeIndex: 10000 entries, 0 to 9999\n",
      "Data columns (total 12 columns):\n",
      " #   Column         Non-Null Count  Dtype  \n",
      "---  ------         --------------  -----  \n",
      " 0   USERID         10000 non-null  int64  \n",
      " 1   score          10000 non-null  float64\n",
      " 2   city           10000 non-null  object \n",
      " 3   gender         10000 non-null  object \n",
      " 4   age            9974 non-null   float64\n",
      " 5   equity         10000 non-null  int64  \n",
      " 6   balance        7705 non-null   float64\n",
      " 7   products       10000 non-null  int64  \n",
      " 8   credit_card    10000 non-null  int64  \n",
      " 9   last_activity  10000 non-null  int64  \n",
      " 10  EST_SALARY     10000 non-null  float64\n",
      " 11  churn          10000 non-null  int64  \n",
      "dtypes: float64(4), int64(6), object(2)\n",
      "memory usage: 937.6+ KB\n"
     ]
    }
   ],
   "source": [
    "df = pd.read_csv('/datasets/bank_scrooge.csv') # загружаем данные\n",
    "df.info()"
   ]
  },
  {
   "cell_type": "markdown",
   "metadata": {},
   "source": [
    "\n",
    "<div class=\"alert alert-warning\">\n",
    "<b>Комментарий ревьюера:</b>☀️В будущем для подгрузки данных рекомендую использовать конструкцию try-except или os.path, так удобнее работать с файлом локально.</div>"
   ]
  },
  {
   "cell_type": "code",
   "execution_count": 3,
   "metadata": {},
   "outputs": [
    {
     "data": {
      "text/html": [
       "<div>\n",
       "<style scoped>\n",
       "    .dataframe tbody tr th:only-of-type {\n",
       "        vertical-align: middle;\n",
       "    }\n",
       "\n",
       "    .dataframe tbody tr th {\n",
       "        vertical-align: top;\n",
       "    }\n",
       "\n",
       "    .dataframe thead th {\n",
       "        text-align: right;\n",
       "    }\n",
       "</style>\n",
       "<table border=\"1\" class=\"dataframe\">\n",
       "  <thead>\n",
       "    <tr style=\"text-align: right;\">\n",
       "      <th></th>\n",
       "      <th>USERID</th>\n",
       "      <th>score</th>\n",
       "      <th>city</th>\n",
       "      <th>gender</th>\n",
       "      <th>age</th>\n",
       "      <th>equity</th>\n",
       "      <th>balance</th>\n",
       "      <th>products</th>\n",
       "      <th>credit_card</th>\n",
       "      <th>last_activity</th>\n",
       "      <th>EST_SALARY</th>\n",
       "      <th>churn</th>\n",
       "    </tr>\n",
       "  </thead>\n",
       "  <tbody>\n",
       "    <tr>\n",
       "      <th>0</th>\n",
       "      <td>183012</td>\n",
       "      <td>850.0</td>\n",
       "      <td>Рыбинск</td>\n",
       "      <td>Ж</td>\n",
       "      <td>25.0</td>\n",
       "      <td>1</td>\n",
       "      <td>59214.82</td>\n",
       "      <td>2</td>\n",
       "      <td>0</td>\n",
       "      <td>1</td>\n",
       "      <td>75719.14</td>\n",
       "      <td>1</td>\n",
       "    </tr>\n",
       "    <tr>\n",
       "      <th>1</th>\n",
       "      <td>146556</td>\n",
       "      <td>861.0</td>\n",
       "      <td>Рыбинск</td>\n",
       "      <td>Ж</td>\n",
       "      <td>37.0</td>\n",
       "      <td>5</td>\n",
       "      <td>850594.33</td>\n",
       "      <td>3</td>\n",
       "      <td>1</td>\n",
       "      <td>0</td>\n",
       "      <td>86621.77</td>\n",
       "      <td>0</td>\n",
       "    </tr>\n",
       "    <tr>\n",
       "      <th>2</th>\n",
       "      <td>120722</td>\n",
       "      <td>892.0</td>\n",
       "      <td>Рыбинск</td>\n",
       "      <td>Ж</td>\n",
       "      <td>30.0</td>\n",
       "      <td>0</td>\n",
       "      <td>NaN</td>\n",
       "      <td>1</td>\n",
       "      <td>1</td>\n",
       "      <td>1</td>\n",
       "      <td>107683.34</td>\n",
       "      <td>0</td>\n",
       "    </tr>\n",
       "    <tr>\n",
       "      <th>3</th>\n",
       "      <td>225363</td>\n",
       "      <td>866.0</td>\n",
       "      <td>Ярославль</td>\n",
       "      <td>Ж</td>\n",
       "      <td>51.0</td>\n",
       "      <td>5</td>\n",
       "      <td>1524746.26</td>\n",
       "      <td>2</td>\n",
       "      <td>0</td>\n",
       "      <td>1</td>\n",
       "      <td>174423.53</td>\n",
       "      <td>1</td>\n",
       "    </tr>\n",
       "    <tr>\n",
       "      <th>4</th>\n",
       "      <td>157978</td>\n",
       "      <td>730.0</td>\n",
       "      <td>Ярославль</td>\n",
       "      <td>М</td>\n",
       "      <td>34.0</td>\n",
       "      <td>5</td>\n",
       "      <td>174.00</td>\n",
       "      <td>1</td>\n",
       "      <td>1</td>\n",
       "      <td>0</td>\n",
       "      <td>67353.16</td>\n",
       "      <td>1</td>\n",
       "    </tr>\n",
       "  </tbody>\n",
       "</table>\n",
       "</div>"
      ],
      "text/plain": [
       "   USERID  score       city gender   age  equity     balance  products  \\\n",
       "0  183012  850.0    Рыбинск      Ж  25.0       1    59214.82         2   \n",
       "1  146556  861.0    Рыбинск      Ж  37.0       5   850594.33         3   \n",
       "2  120722  892.0    Рыбинск      Ж  30.0       0         NaN         1   \n",
       "3  225363  866.0  Ярославль      Ж  51.0       5  1524746.26         2   \n",
       "4  157978  730.0  Ярославль      М  34.0       5      174.00         1   \n",
       "\n",
       "   credit_card  last_activity  EST_SALARY  churn  \n",
       "0            0              1    75719.14      1  \n",
       "1            1              0    86621.77      0  \n",
       "2            1              1   107683.34      0  \n",
       "3            0              1   174423.53      1  \n",
       "4            1              0    67353.16      1  "
      ]
     },
     "execution_count": 3,
     "metadata": {},
     "output_type": "execute_result"
    }
   ],
   "source": [
    "df.head()"
   ]
  },
  {
   "cell_type": "markdown",
   "metadata": {},
   "source": [
    "Вывод:\n",
    "- таблица содержит 10000 записей\n",
    "- в таблице есть столбцы, которые нужно привести к нижнему регистру `EST_SALARY`, `USERID` и добавить нижнее подчеркивание для удобства\n",
    "- столбец `age` нужно привести к типу данных `int`, так как возраст клиента может быть только целым\n",
    "- остальные столбцы приведены к корректному типу данных."
   ]
  },
  {
   "cell_type": "markdown",
   "metadata": {},
   "source": [
    "\n",
    "<div class=\"alert alert-danger\">\n",
    "    <b>Комментарий ревьюера:</b>При первичном взгляде на данные важно изучить общую информацию о датасете и написать хотя бы короткий вывод.</div>"
   ]
  },
  {
   "cell_type": "markdown",
   "metadata": {},
   "source": [
    "<div class=\"alert alert-info\"> <b>Комментарий студента:</b> Случайно стерла вывод, когда финальный вывод готовила.</div>"
   ]
  },
  {
   "cell_type": "markdown",
   "metadata": {},
   "source": [
    "\n",
    "<div class=\"alert alert-success\">\n",
    "<b>Комментарий ревьюера v2.0:</b>☀️Сейчас есть :)</div>"
   ]
  },
  {
   "cell_type": "markdown",
   "metadata": {},
   "source": [
    "## Предобработка данных\n",
    "<a id=\"2\"></a>"
   ]
  },
  {
   "cell_type": "markdown",
   "metadata": {},
   "source": [
    "Исправим названия некоторых столбцов и приведем их к нижнему регистру."
   ]
  },
  {
   "cell_type": "code",
   "execution_count": 4,
   "metadata": {},
   "outputs": [],
   "source": [
    "df.rename(columns={'USERID': 'user_id'}, inplace=True)\n",
    "df.columns = df.columns.str.lower()"
   ]
  },
  {
   "cell_type": "code",
   "execution_count": 5,
   "metadata": {},
   "outputs": [
    {
     "name": "stdout",
     "output_type": "stream",
     "text": [
      "<class 'pandas.core.frame.DataFrame'>\n",
      "RangeIndex: 10000 entries, 0 to 9999\n",
      "Data columns (total 12 columns):\n",
      " #   Column         Non-Null Count  Dtype  \n",
      "---  ------         --------------  -----  \n",
      " 0   user_id        10000 non-null  int64  \n",
      " 1   score          10000 non-null  float64\n",
      " 2   city           10000 non-null  object \n",
      " 3   gender         10000 non-null  object \n",
      " 4   age            9974 non-null   float64\n",
      " 5   equity         10000 non-null  int64  \n",
      " 6   balance        7705 non-null   float64\n",
      " 7   products       10000 non-null  int64  \n",
      " 8   credit_card    10000 non-null  int64  \n",
      " 9   last_activity  10000 non-null  int64  \n",
      " 10  est_salary     10000 non-null  float64\n",
      " 11  churn          10000 non-null  int64  \n",
      "dtypes: float64(4), int64(6), object(2)\n",
      "memory usage: 937.6+ KB\n"
     ]
    }
   ],
   "source": [
    "df.info()"
   ]
  },
  {
   "cell_type": "code",
   "execution_count": 6,
   "metadata": {},
   "outputs": [
    {
     "data": {
      "text/plain": [
       "user_id             0\n",
       "score               0\n",
       "city                0\n",
       "gender              0\n",
       "age                26\n",
       "equity              0\n",
       "balance          2295\n",
       "products            0\n",
       "credit_card         0\n",
       "last_activity       0\n",
       "est_salary          0\n",
       "churn               0\n",
       "dtype: int64"
      ]
     },
     "execution_count": 6,
     "metadata": {},
     "output_type": "execute_result"
    }
   ],
   "source": [
    "# проверяем пропуски\n",
    "df.isna().sum()"
   ]
  },
  {
   "cell_type": "markdown",
   "metadata": {},
   "source": [
    "Удалим пропуски в `age`, так как их мало, на анализ они не повлияют"
   ]
  },
  {
   "cell_type": "code",
   "execution_count": 7,
   "metadata": {},
   "outputs": [
    {
     "data": {
      "text/plain": [
       "0"
      ]
     },
     "execution_count": 7,
     "metadata": {},
     "output_type": "execute_result"
    }
   ],
   "source": [
    "df = df.dropna(subset=['age']).reset_index(drop=True)\n",
    "df['age'].isna().sum()"
   ]
  },
  {
   "cell_type": "markdown",
   "metadata": {},
   "source": [
    "\n",
    "<div class=\"alert alert-success\">\n",
    "<b>Комментарий ревьюера:</b>☀️Да, эти пропуски можно удалить, т.к. их немного.</div>"
   ]
  },
  {
   "cell_type": "code",
   "execution_count": 8,
   "metadata": {},
   "outputs": [
    {
     "data": {
      "text/plain": [
       "0"
      ]
     },
     "execution_count": 8,
     "metadata": {},
     "output_type": "execute_result"
    }
   ],
   "source": [
    "# ищем явные дубликаты\n",
    "df.duplicated().sum()"
   ]
  },
  {
   "cell_type": "code",
   "execution_count": 9,
   "metadata": {},
   "outputs": [
    {
     "data": {
      "text/plain": [
       "array(['Рыбинск', 'Ярославль', 'Ростов'], dtype=object)"
      ]
     },
     "execution_count": 9,
     "metadata": {},
     "output_type": "execute_result"
    }
   ],
   "source": [
    "# ищем неявные дубликаты\n",
    "df['city'].unique()"
   ]
  },
  {
   "cell_type": "code",
   "execution_count": 10,
   "metadata": {},
   "outputs": [
    {
     "data": {
      "text/html": [
       "<div>\n",
       "<style scoped>\n",
       "    .dataframe tbody tr th:only-of-type {\n",
       "        vertical-align: middle;\n",
       "    }\n",
       "\n",
       "    .dataframe tbody tr th {\n",
       "        vertical-align: top;\n",
       "    }\n",
       "\n",
       "    .dataframe thead th {\n",
       "        text-align: right;\n",
       "    }\n",
       "</style>\n",
       "<table border=\"1\" class=\"dataframe\">\n",
       "  <thead>\n",
       "    <tr style=\"text-align: right;\">\n",
       "      <th></th>\n",
       "      <th>user_id</th>\n",
       "      <th>score</th>\n",
       "      <th>age</th>\n",
       "      <th>balance</th>\n",
       "      <th>count</th>\n",
       "    </tr>\n",
       "  </thead>\n",
       "  <tbody>\n",
       "  </tbody>\n",
       "</table>\n",
       "</div>"
      ],
      "text/plain": [
       "Empty DataFrame\n",
       "Columns: [user_id, score, age, balance, count]\n",
       "Index: []"
      ]
     },
     "metadata": {},
     "output_type": "display_data"
    },
    {
     "data": {
      "text/html": [
       "<div>\n",
       "<style scoped>\n",
       "    .dataframe tbody tr th:only-of-type {\n",
       "        vertical-align: middle;\n",
       "    }\n",
       "\n",
       "    .dataframe tbody tr th {\n",
       "        vertical-align: top;\n",
       "    }\n",
       "\n",
       "    .dataframe thead th {\n",
       "        text-align: right;\n",
       "    }\n",
       "</style>\n",
       "<table border=\"1\" class=\"dataframe\">\n",
       "  <thead>\n",
       "    <tr style=\"text-align: right;\">\n",
       "      <th></th>\n",
       "      <th>user_id</th>\n",
       "      <th>score</th>\n",
       "      <th>city</th>\n",
       "      <th>gender</th>\n",
       "      <th>age</th>\n",
       "      <th>equity</th>\n",
       "      <th>balance</th>\n",
       "      <th>products</th>\n",
       "      <th>credit_card</th>\n",
       "      <th>last_activity</th>\n",
       "      <th>est_salary</th>\n",
       "      <th>churn</th>\n",
       "    </tr>\n",
       "  </thead>\n",
       "  <tbody>\n",
       "  </tbody>\n",
       "</table>\n",
       "</div>"
      ],
      "text/plain": [
       "Empty DataFrame\n",
       "Columns: [user_id, score, city, gender, age, equity, balance, products, credit_card, last_activity, est_salary, churn]\n",
       "Index: []"
      ]
     },
     "metadata": {},
     "output_type": "display_data"
    }
   ],
   "source": [
    "# проверим неполные дубликаты\n",
    "duplicates = df[df.duplicated(subset=['user_id', 'score', 'age', 'balance'], keep=False)]\n",
    "duplicate_counts = duplicates.groupby(['user_id', 'score', 'age', 'balance']).size().reset_index(name='count')\n",
    "display(duplicate_counts)\n",
    "display(duplicates)"
   ]
  },
  {
   "cell_type": "markdown",
   "metadata": {},
   "source": [
    "Неполных дубликатов в таблице не найдено, проверим отдельно по столбцу `user_id`"
   ]
  },
  {
   "cell_type": "code",
   "execution_count": 11,
   "metadata": {},
   "outputs": [
    {
     "data": {
      "text/html": [
       "<div>\n",
       "<style scoped>\n",
       "    .dataframe tbody tr th:only-of-type {\n",
       "        vertical-align: middle;\n",
       "    }\n",
       "\n",
       "    .dataframe tbody tr th {\n",
       "        vertical-align: top;\n",
       "    }\n",
       "\n",
       "    .dataframe thead th {\n",
       "        text-align: right;\n",
       "    }\n",
       "</style>\n",
       "<table border=\"1\" class=\"dataframe\">\n",
       "  <thead>\n",
       "    <tr style=\"text-align: right;\">\n",
       "      <th></th>\n",
       "      <th>user_id</th>\n",
       "      <th>score</th>\n",
       "      <th>city</th>\n",
       "      <th>gender</th>\n",
       "      <th>age</th>\n",
       "      <th>equity</th>\n",
       "      <th>balance</th>\n",
       "      <th>products</th>\n",
       "      <th>credit_card</th>\n",
       "      <th>last_activity</th>\n",
       "      <th>est_salary</th>\n",
       "      <th>churn</th>\n",
       "    </tr>\n",
       "  </thead>\n",
       "  <tbody>\n",
       "    <tr>\n",
       "      <th>58</th>\n",
       "      <td>164676</td>\n",
       "      <td>860.0</td>\n",
       "      <td>Ярославль</td>\n",
       "      <td>М</td>\n",
       "      <td>37.0</td>\n",
       "      <td>5</td>\n",
       "      <td>648594.03</td>\n",
       "      <td>2</td>\n",
       "      <td>1</td>\n",
       "      <td>1</td>\n",
       "      <td>213586.86</td>\n",
       "      <td>1</td>\n",
       "    </tr>\n",
       "    <tr>\n",
       "      <th>150</th>\n",
       "      <td>185748</td>\n",
       "      <td>850.0</td>\n",
       "      <td>Рыбинск</td>\n",
       "      <td>М</td>\n",
       "      <td>36.0</td>\n",
       "      <td>5</td>\n",
       "      <td>1203376.67</td>\n",
       "      <td>2</td>\n",
       "      <td>0</td>\n",
       "      <td>1</td>\n",
       "      <td>89401.82</td>\n",
       "      <td>1</td>\n",
       "    </tr>\n",
       "    <tr>\n",
       "      <th>161</th>\n",
       "      <td>197364</td>\n",
       "      <td>928.0</td>\n",
       "      <td>Рыбинск</td>\n",
       "      <td>Ж</td>\n",
       "      <td>53.0</td>\n",
       "      <td>6</td>\n",
       "      <td>1347183.86</td>\n",
       "      <td>2</td>\n",
       "      <td>0</td>\n",
       "      <td>1</td>\n",
       "      <td>168189.49</td>\n",
       "      <td>1</td>\n",
       "    </tr>\n",
       "    <tr>\n",
       "      <th>231</th>\n",
       "      <td>190253</td>\n",
       "      <td>823.0</td>\n",
       "      <td>Рыбинск</td>\n",
       "      <td>М</td>\n",
       "      <td>37.0</td>\n",
       "      <td>4</td>\n",
       "      <td>373348.39</td>\n",
       "      <td>2</td>\n",
       "      <td>0</td>\n",
       "      <td>1</td>\n",
       "      <td>131947.92</td>\n",
       "      <td>1</td>\n",
       "    </tr>\n",
       "    <tr>\n",
       "      <th>690</th>\n",
       "      <td>152479</td>\n",
       "      <td>768.0</td>\n",
       "      <td>Рыбинск</td>\n",
       "      <td>Ж</td>\n",
       "      <td>42.0</td>\n",
       "      <td>0</td>\n",
       "      <td>126787.79</td>\n",
       "      <td>4</td>\n",
       "      <td>1</td>\n",
       "      <td>1</td>\n",
       "      <td>143233.23</td>\n",
       "      <td>1</td>\n",
       "    </tr>\n",
       "    <tr>\n",
       "      <th>...</th>\n",
       "      <td>...</td>\n",
       "      <td>...</td>\n",
       "      <td>...</td>\n",
       "      <td>...</td>\n",
       "      <td>...</td>\n",
       "      <td>...</td>\n",
       "      <td>...</td>\n",
       "      <td>...</td>\n",
       "      <td>...</td>\n",
       "      <td>...</td>\n",
       "      <td>...</td>\n",
       "      <td>...</td>\n",
       "    </tr>\n",
       "    <tr>\n",
       "      <th>9635</th>\n",
       "      <td>195884</td>\n",
       "      <td>767.0</td>\n",
       "      <td>Рыбинск</td>\n",
       "      <td>Ж</td>\n",
       "      <td>45.0</td>\n",
       "      <td>1</td>\n",
       "      <td>335652.56</td>\n",
       "      <td>3</td>\n",
       "      <td>1</td>\n",
       "      <td>1</td>\n",
       "      <td>100197.67</td>\n",
       "      <td>0</td>\n",
       "    </tr>\n",
       "    <tr>\n",
       "      <th>9750</th>\n",
       "      <td>124450</td>\n",
       "      <td>758.0</td>\n",
       "      <td>Рыбинск</td>\n",
       "      <td>Ж</td>\n",
       "      <td>36.0</td>\n",
       "      <td>0</td>\n",
       "      <td>73574.07</td>\n",
       "      <td>2</td>\n",
       "      <td>0</td>\n",
       "      <td>1</td>\n",
       "      <td>79963.59</td>\n",
       "      <td>0</td>\n",
       "    </tr>\n",
       "    <tr>\n",
       "      <th>9760</th>\n",
       "      <td>168998</td>\n",
       "      <td>895.0</td>\n",
       "      <td>Рыбинск</td>\n",
       "      <td>М</td>\n",
       "      <td>44.0</td>\n",
       "      <td>0</td>\n",
       "      <td>282653.53</td>\n",
       "      <td>3</td>\n",
       "      <td>0</td>\n",
       "      <td>0</td>\n",
       "      <td>255296.47</td>\n",
       "      <td>0</td>\n",
       "    </tr>\n",
       "    <tr>\n",
       "      <th>9854</th>\n",
       "      <td>217412</td>\n",
       "      <td>886.0</td>\n",
       "      <td>Ярославль</td>\n",
       "      <td>Ж</td>\n",
       "      <td>35.0</td>\n",
       "      <td>3</td>\n",
       "      <td>1026172.14</td>\n",
       "      <td>2</td>\n",
       "      <td>1</td>\n",
       "      <td>0</td>\n",
       "      <td>53099.16</td>\n",
       "      <td>0</td>\n",
       "    </tr>\n",
       "    <tr>\n",
       "      <th>9944</th>\n",
       "      <td>175730</td>\n",
       "      <td>816.0</td>\n",
       "      <td>Рыбинск</td>\n",
       "      <td>М</td>\n",
       "      <td>36.0</td>\n",
       "      <td>4</td>\n",
       "      <td>477892.07</td>\n",
       "      <td>3</td>\n",
       "      <td>1</td>\n",
       "      <td>0</td>\n",
       "      <td>81100.60</td>\n",
       "      <td>0</td>\n",
       "    </tr>\n",
       "  </tbody>\n",
       "</table>\n",
       "<p>100 rows × 12 columns</p>\n",
       "</div>"
      ],
      "text/plain": [
       "      user_id  score       city gender   age  equity     balance  products  \\\n",
       "58     164676  860.0  Ярославль      М  37.0       5   648594.03         2   \n",
       "150    185748  850.0    Рыбинск      М  36.0       5  1203376.67         2   \n",
       "161    197364  928.0    Рыбинск      Ж  53.0       6  1347183.86         2   \n",
       "231    190253  823.0    Рыбинск      М  37.0       4   373348.39         2   \n",
       "690    152479  768.0    Рыбинск      Ж  42.0       0   126787.79         4   \n",
       "...       ...    ...        ...    ...   ...     ...         ...       ...   \n",
       "9635   195884  767.0    Рыбинск      Ж  45.0       1   335652.56         3   \n",
       "9750   124450  758.0    Рыбинск      Ж  36.0       0    73574.07         2   \n",
       "9760   168998  895.0    Рыбинск      М  44.0       0   282653.53         3   \n",
       "9854   217412  886.0  Ярославль      Ж  35.0       3  1026172.14         2   \n",
       "9944   175730  816.0    Рыбинск      М  36.0       4   477892.07         3   \n",
       "\n",
       "      credit_card  last_activity  est_salary  churn  \n",
       "58              1              1   213586.86      1  \n",
       "150             0              1    89401.82      1  \n",
       "161             0              1   168189.49      1  \n",
       "231             0              1   131947.92      1  \n",
       "690             1              1   143233.23      1  \n",
       "...           ...            ...         ...    ...  \n",
       "9635            1              1   100197.67      0  \n",
       "9750            0              1    79963.59      0  \n",
       "9760            0              0   255296.47      0  \n",
       "9854            1              0    53099.16      0  \n",
       "9944            1              0    81100.60      0  \n",
       "\n",
       "[100 rows x 12 columns]"
      ]
     },
     "metadata": {},
     "output_type": "display_data"
    }
   ],
   "source": [
    "# проверим неполные дубликаты только по 'user_id'\n",
    "duplicates_user_id = df[df.duplicated(subset=['user_id'], keep=False)]\n",
    "display(duplicates_user_id)"
   ]
  },
  {
   "cell_type": "code",
   "execution_count": 12,
   "metadata": {},
   "outputs": [
    {
     "data": {
      "text/html": [
       "<div>\n",
       "<style scoped>\n",
       "    .dataframe tbody tr th:only-of-type {\n",
       "        vertical-align: middle;\n",
       "    }\n",
       "\n",
       "    .dataframe tbody tr th {\n",
       "        vertical-align: top;\n",
       "    }\n",
       "\n",
       "    .dataframe thead th {\n",
       "        text-align: right;\n",
       "    }\n",
       "</style>\n",
       "<table border=\"1\" class=\"dataframe\">\n",
       "  <thead>\n",
       "    <tr style=\"text-align: right;\">\n",
       "      <th></th>\n",
       "      <th>user_id</th>\n",
       "      <th>score</th>\n",
       "      <th>city</th>\n",
       "      <th>gender</th>\n",
       "      <th>age</th>\n",
       "      <th>equity</th>\n",
       "      <th>balance</th>\n",
       "      <th>products</th>\n",
       "      <th>credit_card</th>\n",
       "      <th>last_activity</th>\n",
       "      <th>est_salary</th>\n",
       "      <th>churn</th>\n",
       "    </tr>\n",
       "  </thead>\n",
       "  <tbody>\n",
       "    <tr>\n",
       "      <th>58</th>\n",
       "      <td>164676</td>\n",
       "      <td>860.0</td>\n",
       "      <td>Ярославль</td>\n",
       "      <td>М</td>\n",
       "      <td>37.0</td>\n",
       "      <td>5</td>\n",
       "      <td>648594.03</td>\n",
       "      <td>2</td>\n",
       "      <td>1</td>\n",
       "      <td>1</td>\n",
       "      <td>213586.86</td>\n",
       "      <td>1</td>\n",
       "    </tr>\n",
       "    <tr>\n",
       "      <th>7262</th>\n",
       "      <td>164676</td>\n",
       "      <td>790.0</td>\n",
       "      <td>Рыбинск</td>\n",
       "      <td>Ж</td>\n",
       "      <td>77.0</td>\n",
       "      <td>1</td>\n",
       "      <td>111202.01</td>\n",
       "      <td>1</td>\n",
       "      <td>1</td>\n",
       "      <td>0</td>\n",
       "      <td>32835.45</td>\n",
       "      <td>0</td>\n",
       "    </tr>\n",
       "  </tbody>\n",
       "</table>\n",
       "</div>"
      ],
      "text/plain": [
       "      user_id  score       city gender   age  equity    balance  products  \\\n",
       "58     164676  860.0  Ярославль      М  37.0       5  648594.03         2   \n",
       "7262   164676  790.0    Рыбинск      Ж  77.0       1  111202.01         1   \n",
       "\n",
       "      credit_card  last_activity  est_salary  churn  \n",
       "58              1              1   213586.86      1  \n",
       "7262            1              0    32835.45      0  "
      ]
     },
     "execution_count": 12,
     "metadata": {},
     "output_type": "execute_result"
    }
   ],
   "source": [
    "# для более детального рассмотрения выведем дублирующие строки\n",
    "df.loc[df['user_id'] == 164676]"
   ]
  },
  {
   "cell_type": "markdown",
   "metadata": {},
   "source": [
    "Несмотря на то, что `user_id` совпадает, различия есть во всех признаках, кроме наличия кредитной карты. Проверим еще."
   ]
  },
  {
   "cell_type": "code",
   "execution_count": 13,
   "metadata": {},
   "outputs": [
    {
     "data": {
      "text/html": [
       "<div>\n",
       "<style scoped>\n",
       "    .dataframe tbody tr th:only-of-type {\n",
       "        vertical-align: middle;\n",
       "    }\n",
       "\n",
       "    .dataframe tbody tr th {\n",
       "        vertical-align: top;\n",
       "    }\n",
       "\n",
       "    .dataframe thead th {\n",
       "        text-align: right;\n",
       "    }\n",
       "</style>\n",
       "<table border=\"1\" class=\"dataframe\">\n",
       "  <thead>\n",
       "    <tr style=\"text-align: right;\">\n",
       "      <th></th>\n",
       "      <th>user_id</th>\n",
       "      <th>score</th>\n",
       "      <th>city</th>\n",
       "      <th>gender</th>\n",
       "      <th>age</th>\n",
       "      <th>equity</th>\n",
       "      <th>balance</th>\n",
       "      <th>products</th>\n",
       "      <th>credit_card</th>\n",
       "      <th>last_activity</th>\n",
       "      <th>est_salary</th>\n",
       "      <th>churn</th>\n",
       "    </tr>\n",
       "  </thead>\n",
       "  <tbody>\n",
       "    <tr>\n",
       "      <th>150</th>\n",
       "      <td>185748</td>\n",
       "      <td>850.0</td>\n",
       "      <td>Рыбинск</td>\n",
       "      <td>М</td>\n",
       "      <td>36.0</td>\n",
       "      <td>5</td>\n",
       "      <td>1203376.67</td>\n",
       "      <td>2</td>\n",
       "      <td>0</td>\n",
       "      <td>1</td>\n",
       "      <td>89401.82</td>\n",
       "      <td>1</td>\n",
       "    </tr>\n",
       "    <tr>\n",
       "      <th>3102</th>\n",
       "      <td>185748</td>\n",
       "      <td>912.0</td>\n",
       "      <td>Ярославль</td>\n",
       "      <td>Ж</td>\n",
       "      <td>47.0</td>\n",
       "      <td>5</td>\n",
       "      <td>1598218.98</td>\n",
       "      <td>2</td>\n",
       "      <td>0</td>\n",
       "      <td>0</td>\n",
       "      <td>180256.98</td>\n",
       "      <td>0</td>\n",
       "    </tr>\n",
       "  </tbody>\n",
       "</table>\n",
       "</div>"
      ],
      "text/plain": [
       "      user_id  score       city gender   age  equity     balance  products  \\\n",
       "150    185748  850.0    Рыбинск      М  36.0       5  1203376.67         2   \n",
       "3102   185748  912.0  Ярославль      Ж  47.0       5  1598218.98         2   \n",
       "\n",
       "      credit_card  last_activity  est_salary  churn  \n",
       "150             0              1    89401.82      1  \n",
       "3102            0              0   180256.98      0  "
      ]
     },
     "execution_count": 13,
     "metadata": {},
     "output_type": "execute_result"
    }
   ],
   "source": [
    "df.loc[df['user_id'] == 185748]"
   ]
  },
  {
   "cell_type": "markdown",
   "metadata": {},
   "source": [
    "Здесь есть немного больше совпадений: количество баллов собственности, количество продуктов и наличие кредитной карты. Мы можем предположить причины, по которым совпадает идентификатор, но остальные данные разнятся: \n",
    "- если при добавлении новых пользователей в систему не была реализована проверка на уникальность `user_id`, это может привести к дублированию записей\n",
    "- возможно, после сбора данных из всех филиалов банка в процессе интеграции не были правильно обработаны уникальные идентификаторы."
   ]
  },
  {
   "cell_type": "markdown",
   "metadata": {},
   "source": [
    "\n",
    "<div class=\"alert alert-success\">\n",
    "<b>Комментарий ревьюера v2.0:</b>☀️Тут супер!</div>"
   ]
  },
  {
   "cell_type": "code",
   "execution_count": 14,
   "metadata": {},
   "outputs": [],
   "source": [
    "# приведем столбец age к типу данных int\n",
    "df['age'] = df['age'].astype('int')"
   ]
  },
  {
   "cell_type": "code",
   "execution_count": 15,
   "metadata": {},
   "outputs": [
    {
     "name": "stdout",
     "output_type": "stream",
     "text": [
      "<class 'pandas.core.frame.DataFrame'>\n",
      "RangeIndex: 9974 entries, 0 to 9973\n",
      "Data columns (total 12 columns):\n",
      " #   Column         Non-Null Count  Dtype  \n",
      "---  ------         --------------  -----  \n",
      " 0   user_id        9974 non-null   int64  \n",
      " 1   score          9974 non-null   float64\n",
      " 2   city           9974 non-null   object \n",
      " 3   gender         9974 non-null   object \n",
      " 4   age            9974 non-null   int64  \n",
      " 5   equity         9974 non-null   int64  \n",
      " 6   balance        7695 non-null   float64\n",
      " 7   products       9974 non-null   int64  \n",
      " 8   credit_card    9974 non-null   int64  \n",
      " 9   last_activity  9974 non-null   int64  \n",
      " 10  est_salary     9974 non-null   float64\n",
      " 11  churn          9974 non-null   int64  \n",
      "dtypes: float64(3), int64(7), object(2)\n",
      "memory usage: 935.2+ KB\n"
     ]
    }
   ],
   "source": [
    "df.info()"
   ]
  },
  {
   "cell_type": "markdown",
   "metadata": {},
   "source": [
    "Проверяем наличие аномалий"
   ]
  },
  {
   "cell_type": "code",
   "execution_count": 16,
   "metadata": {},
   "outputs": [
    {
     "name": "stdout",
     "output_type": "stream",
     "text": [
      "Balance - Min: 0.0 Max: 119113552.01\n",
      "Products - Min: 0 Max: 5\n",
      "Estimated Salary - Min: 2546.3 Max: 1395064.45\n"
     ]
    }
   ],
   "source": [
    "# минимальные и максимальные значения для удобства\n",
    "print(\"Balance - Min:\", df['balance'].min(), \"Max:\", df['balance'].max())\n",
    "print(\"Products - Min:\", df['products'].min(), \"Max:\", df['products'].max())\n",
    "print(\"Estimated Salary - Min:\", df['est_salary'].min(), \"Max:\", df['est_salary'].max())"
   ]
  },
  {
   "cell_type": "code",
   "execution_count": 17,
   "metadata": {},
   "outputs": [
    {
     "data": {
      "text/html": [
       "<div>\n",
       "<style scoped>\n",
       "    .dataframe tbody tr th:only-of-type {\n",
       "        vertical-align: middle;\n",
       "    }\n",
       "\n",
       "    .dataframe tbody tr th {\n",
       "        vertical-align: top;\n",
       "    }\n",
       "\n",
       "    .dataframe thead th {\n",
       "        text-align: right;\n",
       "    }\n",
       "</style>\n",
       "<table border=\"1\" class=\"dataframe\">\n",
       "  <thead>\n",
       "    <tr style=\"text-align: right;\">\n",
       "      <th></th>\n",
       "      <th>balance</th>\n",
       "      <th>products</th>\n",
       "      <th>est_salary</th>\n",
       "    </tr>\n",
       "  </thead>\n",
       "  <tbody>\n",
       "    <tr>\n",
       "      <th>count</th>\n",
       "      <td>7.695000e+03</td>\n",
       "      <td>9974.000000</td>\n",
       "      <td>9.974000e+03</td>\n",
       "    </tr>\n",
       "    <tr>\n",
       "      <th>mean</th>\n",
       "      <td>8.272456e+05</td>\n",
       "      <td>1.871466</td>\n",
       "      <td>1.477868e+05</td>\n",
       "    </tr>\n",
       "    <tr>\n",
       "      <th>std</th>\n",
       "      <td>1.980327e+06</td>\n",
       "      <td>0.792729</td>\n",
       "      <td>1.392855e+05</td>\n",
       "    </tr>\n",
       "    <tr>\n",
       "      <th>min</th>\n",
       "      <td>0.000000e+00</td>\n",
       "      <td>0.000000</td>\n",
       "      <td>2.546300e+03</td>\n",
       "    </tr>\n",
       "    <tr>\n",
       "      <th>25%</th>\n",
       "      <td>2.956987e+05</td>\n",
       "      <td>1.000000</td>\n",
       "      <td>7.525166e+04</td>\n",
       "    </tr>\n",
       "    <tr>\n",
       "      <th>50%</th>\n",
       "      <td>5.242953e+05</td>\n",
       "      <td>2.000000</td>\n",
       "      <td>1.196268e+05</td>\n",
       "    </tr>\n",
       "    <tr>\n",
       "      <th>75%</th>\n",
       "      <td>9.800512e+05</td>\n",
       "      <td>2.000000</td>\n",
       "      <td>1.744998e+05</td>\n",
       "    </tr>\n",
       "    <tr>\n",
       "      <th>max</th>\n",
       "      <td>1.191136e+08</td>\n",
       "      <td>5.000000</td>\n",
       "      <td>1.395064e+06</td>\n",
       "    </tr>\n",
       "  </tbody>\n",
       "</table>\n",
       "</div>"
      ],
      "text/plain": [
       "            balance     products    est_salary\n",
       "count  7.695000e+03  9974.000000  9.974000e+03\n",
       "mean   8.272456e+05     1.871466  1.477868e+05\n",
       "std    1.980327e+06     0.792729  1.392855e+05\n",
       "min    0.000000e+00     0.000000  2.546300e+03\n",
       "25%    2.956987e+05     1.000000  7.525166e+04\n",
       "50%    5.242953e+05     2.000000  1.196268e+05\n",
       "75%    9.800512e+05     2.000000  1.744998e+05\n",
       "max    1.191136e+08     5.000000  1.395064e+06"
      ]
     },
     "metadata": {},
     "output_type": "display_data"
    }
   ],
   "source": [
    "# проверим другие значения с помощью описательной статистики\n",
    "display(df[['balance', 'products', 'est_salary']].describe())"
   ]
  },
  {
   "cell_type": "markdown",
   "metadata": {},
   "source": [
    "Мы видим, что есть странные значения в данных столбцах. Например, в `balance` максимальное - 119 млн., минимальное - 0, среднее - около миллиона, а медиана - 524 тыс. Среднее в балансе сильно завышено из-за максимального числа. Проверим аномалии баланса более детально."
   ]
  },
  {
   "cell_type": "code",
   "execution_count": 18,
   "metadata": {},
   "outputs": [
    {
     "data": {
      "text/html": [
       "<div>\n",
       "<style scoped>\n",
       "    .dataframe tbody tr th:only-of-type {\n",
       "        vertical-align: middle;\n",
       "    }\n",
       "\n",
       "    .dataframe tbody tr th {\n",
       "        vertical-align: top;\n",
       "    }\n",
       "\n",
       "    .dataframe thead th {\n",
       "        text-align: right;\n",
       "    }\n",
       "</style>\n",
       "<table border=\"1\" class=\"dataframe\">\n",
       "  <thead>\n",
       "    <tr style=\"text-align: right;\">\n",
       "      <th></th>\n",
       "      <th>user_id</th>\n",
       "      <th>score</th>\n",
       "      <th>city</th>\n",
       "      <th>gender</th>\n",
       "      <th>age</th>\n",
       "      <th>equity</th>\n",
       "      <th>balance</th>\n",
       "      <th>products</th>\n",
       "      <th>credit_card</th>\n",
       "      <th>last_activity</th>\n",
       "      <th>est_salary</th>\n",
       "      <th>churn</th>\n",
       "    </tr>\n",
       "  </thead>\n",
       "  <tbody>\n",
       "    <tr>\n",
       "      <th>125</th>\n",
       "      <td>227092</td>\n",
       "      <td>1000.0</td>\n",
       "      <td>Ярославль</td>\n",
       "      <td>М</td>\n",
       "      <td>32</td>\n",
       "      <td>5</td>\n",
       "      <td>1.975718e+07</td>\n",
       "      <td>2</td>\n",
       "      <td>1</td>\n",
       "      <td>1</td>\n",
       "      <td>1024626.50</td>\n",
       "      <td>0</td>\n",
       "    </tr>\n",
       "    <tr>\n",
       "      <th>1027</th>\n",
       "      <td>119793</td>\n",
       "      <td>1000.0</td>\n",
       "      <td>Ярославль</td>\n",
       "      <td>М</td>\n",
       "      <td>50</td>\n",
       "      <td>5</td>\n",
       "      <td>1.290969e+07</td>\n",
       "      <td>1</td>\n",
       "      <td>1</td>\n",
       "      <td>0</td>\n",
       "      <td>1253653.40</td>\n",
       "      <td>0</td>\n",
       "    </tr>\n",
       "    <tr>\n",
       "      <th>1059</th>\n",
       "      <td>114103</td>\n",
       "      <td>894.0</td>\n",
       "      <td>Ярославль</td>\n",
       "      <td>М</td>\n",
       "      <td>58</td>\n",
       "      <td>4</td>\n",
       "      <td>6.486621e+07</td>\n",
       "      <td>2</td>\n",
       "      <td>1</td>\n",
       "      <td>1</td>\n",
       "      <td>88861.60</td>\n",
       "      <td>1</td>\n",
       "    </tr>\n",
       "    <tr>\n",
       "      <th>1845</th>\n",
       "      <td>114088</td>\n",
       "      <td>927.0</td>\n",
       "      <td>Ярославль</td>\n",
       "      <td>М</td>\n",
       "      <td>57</td>\n",
       "      <td>5</td>\n",
       "      <td>4.327710e+07</td>\n",
       "      <td>3</td>\n",
       "      <td>0</td>\n",
       "      <td>1</td>\n",
       "      <td>82619.00</td>\n",
       "      <td>0</td>\n",
       "    </tr>\n",
       "    <tr>\n",
       "      <th>2067</th>\n",
       "      <td>201574</td>\n",
       "      <td>983.0</td>\n",
       "      <td>Ярославль</td>\n",
       "      <td>М</td>\n",
       "      <td>54</td>\n",
       "      <td>3</td>\n",
       "      <td>1.106015e+07</td>\n",
       "      <td>2</td>\n",
       "      <td>0</td>\n",
       "      <td>1</td>\n",
       "      <td>1046662.18</td>\n",
       "      <td>0</td>\n",
       "    </tr>\n",
       "    <tr>\n",
       "      <th>2316</th>\n",
       "      <td>168713</td>\n",
       "      <td>837.0</td>\n",
       "      <td>Ярославль</td>\n",
       "      <td>М</td>\n",
       "      <td>62</td>\n",
       "      <td>5</td>\n",
       "      <td>1.282321e+07</td>\n",
       "      <td>1</td>\n",
       "      <td>1</td>\n",
       "      <td>1</td>\n",
       "      <td>21765.76</td>\n",
       "      <td>0</td>\n",
       "    </tr>\n",
       "    <tr>\n",
       "      <th>2594</th>\n",
       "      <td>226719</td>\n",
       "      <td>990.0</td>\n",
       "      <td>Ярославль</td>\n",
       "      <td>М</td>\n",
       "      <td>37</td>\n",
       "      <td>4</td>\n",
       "      <td>1.464869e+07</td>\n",
       "      <td>2</td>\n",
       "      <td>0</td>\n",
       "      <td>0</td>\n",
       "      <td>934412.61</td>\n",
       "      <td>1</td>\n",
       "    </tr>\n",
       "    <tr>\n",
       "      <th>3099</th>\n",
       "      <td>203255</td>\n",
       "      <td>999.0</td>\n",
       "      <td>Ярославль</td>\n",
       "      <td>М</td>\n",
       "      <td>36</td>\n",
       "      <td>4</td>\n",
       "      <td>1.064115e+07</td>\n",
       "      <td>2</td>\n",
       "      <td>0</td>\n",
       "      <td>0</td>\n",
       "      <td>1042118.22</td>\n",
       "      <td>0</td>\n",
       "    </tr>\n",
       "    <tr>\n",
       "      <th>3176</th>\n",
       "      <td>193249</td>\n",
       "      <td>960.0</td>\n",
       "      <td>Ростов</td>\n",
       "      <td>М</td>\n",
       "      <td>47</td>\n",
       "      <td>5</td>\n",
       "      <td>1.183488e+07</td>\n",
       "      <td>2</td>\n",
       "      <td>0</td>\n",
       "      <td>1</td>\n",
       "      <td>507039.17</td>\n",
       "      <td>1</td>\n",
       "    </tr>\n",
       "    <tr>\n",
       "      <th>3344</th>\n",
       "      <td>193457</td>\n",
       "      <td>1000.0</td>\n",
       "      <td>Ярославль</td>\n",
       "      <td>Ж</td>\n",
       "      <td>34</td>\n",
       "      <td>4</td>\n",
       "      <td>1.088599e+07</td>\n",
       "      <td>4</td>\n",
       "      <td>1</td>\n",
       "      <td>1</td>\n",
       "      <td>799847.28</td>\n",
       "      <td>0</td>\n",
       "    </tr>\n",
       "    <tr>\n",
       "      <th>4001</th>\n",
       "      <td>163640</td>\n",
       "      <td>912.0</td>\n",
       "      <td>Ярославль</td>\n",
       "      <td>М</td>\n",
       "      <td>35</td>\n",
       "      <td>4</td>\n",
       "      <td>1.562410e+07</td>\n",
       "      <td>2</td>\n",
       "      <td>0</td>\n",
       "      <td>1</td>\n",
       "      <td>1395064.45</td>\n",
       "      <td>0</td>\n",
       "    </tr>\n",
       "    <tr>\n",
       "      <th>4717</th>\n",
       "      <td>228786</td>\n",
       "      <td>1000.0</td>\n",
       "      <td>Ярославль</td>\n",
       "      <td>М</td>\n",
       "      <td>45</td>\n",
       "      <td>5</td>\n",
       "      <td>2.900893e+07</td>\n",
       "      <td>2</td>\n",
       "      <td>0</td>\n",
       "      <td>1</td>\n",
       "      <td>811804.54</td>\n",
       "      <td>0</td>\n",
       "    </tr>\n",
       "    <tr>\n",
       "      <th>4992</th>\n",
       "      <td>203575</td>\n",
       "      <td>984.0</td>\n",
       "      <td>Ярославль</td>\n",
       "      <td>М</td>\n",
       "      <td>34</td>\n",
       "      <td>3</td>\n",
       "      <td>1.106963e+07</td>\n",
       "      <td>1</td>\n",
       "      <td>1</td>\n",
       "      <td>1</td>\n",
       "      <td>798742.82</td>\n",
       "      <td>1</td>\n",
       "    </tr>\n",
       "    <tr>\n",
       "      <th>6311</th>\n",
       "      <td>163663</td>\n",
       "      <td>970.0</td>\n",
       "      <td>Ярославль</td>\n",
       "      <td>М</td>\n",
       "      <td>35</td>\n",
       "      <td>3</td>\n",
       "      <td>1.500450e+07</td>\n",
       "      <td>2</td>\n",
       "      <td>0</td>\n",
       "      <td>1</td>\n",
       "      <td>991012.77</td>\n",
       "      <td>1</td>\n",
       "    </tr>\n",
       "    <tr>\n",
       "      <th>6420</th>\n",
       "      <td>223516</td>\n",
       "      <td>960.0</td>\n",
       "      <td>Ярославль</td>\n",
       "      <td>Ж</td>\n",
       "      <td>45</td>\n",
       "      <td>5</td>\n",
       "      <td>1.133120e+07</td>\n",
       "      <td>2</td>\n",
       "      <td>0</td>\n",
       "      <td>1</td>\n",
       "      <td>960435.49</td>\n",
       "      <td>1</td>\n",
       "    </tr>\n",
       "    <tr>\n",
       "      <th>6752</th>\n",
       "      <td>124977</td>\n",
       "      <td>949.0</td>\n",
       "      <td>Ярославль</td>\n",
       "      <td>Ж</td>\n",
       "      <td>41</td>\n",
       "      <td>4</td>\n",
       "      <td>1.015016e+07</td>\n",
       "      <td>2</td>\n",
       "      <td>0</td>\n",
       "      <td>1</td>\n",
       "      <td>746068.33</td>\n",
       "      <td>0</td>\n",
       "    </tr>\n",
       "    <tr>\n",
       "      <th>6810</th>\n",
       "      <td>179135</td>\n",
       "      <td>971.0</td>\n",
       "      <td>Ярославль</td>\n",
       "      <td>Ж</td>\n",
       "      <td>38</td>\n",
       "      <td>4</td>\n",
       "      <td>1.484983e+07</td>\n",
       "      <td>2</td>\n",
       "      <td>0</td>\n",
       "      <td>0</td>\n",
       "      <td>788691.54</td>\n",
       "      <td>0</td>\n",
       "    </tr>\n",
       "    <tr>\n",
       "      <th>6941</th>\n",
       "      <td>137434</td>\n",
       "      <td>1000.0</td>\n",
       "      <td>Ярославль</td>\n",
       "      <td>М</td>\n",
       "      <td>37</td>\n",
       "      <td>4</td>\n",
       "      <td>2.090616e+07</td>\n",
       "      <td>2</td>\n",
       "      <td>1</td>\n",
       "      <td>1</td>\n",
       "      <td>947606.60</td>\n",
       "      <td>1</td>\n",
       "    </tr>\n",
       "    <tr>\n",
       "      <th>7051</th>\n",
       "      <td>114087</td>\n",
       "      <td>878.0</td>\n",
       "      <td>Ярославль</td>\n",
       "      <td>М</td>\n",
       "      <td>61</td>\n",
       "      <td>5</td>\n",
       "      <td>1.235992e+07</td>\n",
       "      <td>2</td>\n",
       "      <td>0</td>\n",
       "      <td>1</td>\n",
       "      <td>56863.07</td>\n",
       "      <td>1</td>\n",
       "    </tr>\n",
       "    <tr>\n",
       "      <th>7102</th>\n",
       "      <td>203824</td>\n",
       "      <td>986.0</td>\n",
       "      <td>Ярославль</td>\n",
       "      <td>М</td>\n",
       "      <td>34</td>\n",
       "      <td>5</td>\n",
       "      <td>1.790476e+07</td>\n",
       "      <td>2</td>\n",
       "      <td>1</td>\n",
       "      <td>1</td>\n",
       "      <td>856500.86</td>\n",
       "      <td>1</td>\n",
       "    </tr>\n",
       "    <tr>\n",
       "      <th>7334</th>\n",
       "      <td>226500</td>\n",
       "      <td>969.0</td>\n",
       "      <td>Ярославль</td>\n",
       "      <td>М</td>\n",
       "      <td>32</td>\n",
       "      <td>3</td>\n",
       "      <td>1.282976e+07</td>\n",
       "      <td>4</td>\n",
       "      <td>1</td>\n",
       "      <td>1</td>\n",
       "      <td>544420.41</td>\n",
       "      <td>1</td>\n",
       "    </tr>\n",
       "    <tr>\n",
       "      <th>7586</th>\n",
       "      <td>156149</td>\n",
       "      <td>900.0</td>\n",
       "      <td>Ярославль</td>\n",
       "      <td>М</td>\n",
       "      <td>62</td>\n",
       "      <td>5</td>\n",
       "      <td>1.191136e+08</td>\n",
       "      <td>2</td>\n",
       "      <td>1</td>\n",
       "      <td>1</td>\n",
       "      <td>138041.31</td>\n",
       "      <td>0</td>\n",
       "    </tr>\n",
       "    <tr>\n",
       "      <th>8134</th>\n",
       "      <td>135243</td>\n",
       "      <td>951.0</td>\n",
       "      <td>Ярославль</td>\n",
       "      <td>М</td>\n",
       "      <td>38</td>\n",
       "      <td>5</td>\n",
       "      <td>1.413443e+07</td>\n",
       "      <td>2</td>\n",
       "      <td>1</td>\n",
       "      <td>0</td>\n",
       "      <td>1281547.73</td>\n",
       "      <td>0</td>\n",
       "    </tr>\n",
       "    <tr>\n",
       "      <th>8468</th>\n",
       "      <td>221720</td>\n",
       "      <td>1000.0</td>\n",
       "      <td>Ярославль</td>\n",
       "      <td>Ж</td>\n",
       "      <td>35</td>\n",
       "      <td>5</td>\n",
       "      <td>2.154994e+07</td>\n",
       "      <td>2</td>\n",
       "      <td>0</td>\n",
       "      <td>0</td>\n",
       "      <td>1051902.65</td>\n",
       "      <td>0</td>\n",
       "    </tr>\n",
       "    <tr>\n",
       "      <th>8798</th>\n",
       "      <td>157968</td>\n",
       "      <td>940.0</td>\n",
       "      <td>Ярославль</td>\n",
       "      <td>М</td>\n",
       "      <td>52</td>\n",
       "      <td>3</td>\n",
       "      <td>1.088345e+07</td>\n",
       "      <td>2</td>\n",
       "      <td>0</td>\n",
       "      <td>1</td>\n",
       "      <td>857437.70</td>\n",
       "      <td>1</td>\n",
       "    </tr>\n",
       "    <tr>\n",
       "      <th>9123</th>\n",
       "      <td>223934</td>\n",
       "      <td>969.0</td>\n",
       "      <td>Ярославль</td>\n",
       "      <td>М</td>\n",
       "      <td>39</td>\n",
       "      <td>3</td>\n",
       "      <td>1.480213e+07</td>\n",
       "      <td>1</td>\n",
       "      <td>1</td>\n",
       "      <td>0</td>\n",
       "      <td>766076.10</td>\n",
       "      <td>0</td>\n",
       "    </tr>\n",
       "    <tr>\n",
       "      <th>9728</th>\n",
       "      <td>122015</td>\n",
       "      <td>885.0</td>\n",
       "      <td>Ярославль</td>\n",
       "      <td>М</td>\n",
       "      <td>64</td>\n",
       "      <td>4</td>\n",
       "      <td>2.572776e+07</td>\n",
       "      <td>3</td>\n",
       "      <td>1</td>\n",
       "      <td>0</td>\n",
       "      <td>168746.90</td>\n",
       "      <td>0</td>\n",
       "    </tr>\n",
       "  </tbody>\n",
       "</table>\n",
       "</div>"
      ],
      "text/plain": [
       "      user_id   score       city gender  age  equity       balance  products  \\\n",
       "125    227092  1000.0  Ярославль      М   32       5  1.975718e+07         2   \n",
       "1027   119793  1000.0  Ярославль      М   50       5  1.290969e+07         1   \n",
       "1059   114103   894.0  Ярославль      М   58       4  6.486621e+07         2   \n",
       "1845   114088   927.0  Ярославль      М   57       5  4.327710e+07         3   \n",
       "2067   201574   983.0  Ярославль      М   54       3  1.106015e+07         2   \n",
       "2316   168713   837.0  Ярославль      М   62       5  1.282321e+07         1   \n",
       "2594   226719   990.0  Ярославль      М   37       4  1.464869e+07         2   \n",
       "3099   203255   999.0  Ярославль      М   36       4  1.064115e+07         2   \n",
       "3176   193249   960.0     Ростов      М   47       5  1.183488e+07         2   \n",
       "3344   193457  1000.0  Ярославль      Ж   34       4  1.088599e+07         4   \n",
       "4001   163640   912.0  Ярославль      М   35       4  1.562410e+07         2   \n",
       "4717   228786  1000.0  Ярославль      М   45       5  2.900893e+07         2   \n",
       "4992   203575   984.0  Ярославль      М   34       3  1.106963e+07         1   \n",
       "6311   163663   970.0  Ярославль      М   35       3  1.500450e+07         2   \n",
       "6420   223516   960.0  Ярославль      Ж   45       5  1.133120e+07         2   \n",
       "6752   124977   949.0  Ярославль      Ж   41       4  1.015016e+07         2   \n",
       "6810   179135   971.0  Ярославль      Ж   38       4  1.484983e+07         2   \n",
       "6941   137434  1000.0  Ярославль      М   37       4  2.090616e+07         2   \n",
       "7051   114087   878.0  Ярославль      М   61       5  1.235992e+07         2   \n",
       "7102   203824   986.0  Ярославль      М   34       5  1.790476e+07         2   \n",
       "7334   226500   969.0  Ярославль      М   32       3  1.282976e+07         4   \n",
       "7586   156149   900.0  Ярославль      М   62       5  1.191136e+08         2   \n",
       "8134   135243   951.0  Ярославль      М   38       5  1.413443e+07         2   \n",
       "8468   221720  1000.0  Ярославль      Ж   35       5  2.154994e+07         2   \n",
       "8798   157968   940.0  Ярославль      М   52       3  1.088345e+07         2   \n",
       "9123   223934   969.0  Ярославль      М   39       3  1.480213e+07         1   \n",
       "9728   122015   885.0  Ярославль      М   64       4  2.572776e+07         3   \n",
       "\n",
       "      credit_card  last_activity  est_salary  churn  \n",
       "125             1              1  1024626.50      0  \n",
       "1027            1              0  1253653.40      0  \n",
       "1059            1              1    88861.60      1  \n",
       "1845            0              1    82619.00      0  \n",
       "2067            0              1  1046662.18      0  \n",
       "2316            1              1    21765.76      0  \n",
       "2594            0              0   934412.61      1  \n",
       "3099            0              0  1042118.22      0  \n",
       "3176            0              1   507039.17      1  \n",
       "3344            1              1   799847.28      0  \n",
       "4001            0              1  1395064.45      0  \n",
       "4717            0              1   811804.54      0  \n",
       "4992            1              1   798742.82      1  \n",
       "6311            0              1   991012.77      1  \n",
       "6420            0              1   960435.49      1  \n",
       "6752            0              1   746068.33      0  \n",
       "6810            0              0   788691.54      0  \n",
       "6941            1              1   947606.60      1  \n",
       "7051            0              1    56863.07      1  \n",
       "7102            1              1   856500.86      1  \n",
       "7334            1              1   544420.41      1  \n",
       "7586            1              1   138041.31      0  \n",
       "8134            1              0  1281547.73      0  \n",
       "8468            0              0  1051902.65      0  \n",
       "8798            0              1   857437.70      1  \n",
       "9123            1              0   766076.10      0  \n",
       "9728            1              0   168746.90      0  "
      ]
     },
     "execution_count": 18,
     "metadata": {},
     "output_type": "execute_result"
    }
   ],
   "source": [
    "balance = df[df['balance'] > 10000000] # возьмем примерное число максимального дохода\n",
    "balance"
   ]
  },
  {
   "cell_type": "markdown",
   "metadata": {},
   "source": [
    "Мы исключим тех клиентов, у кого зарплата ниже 22440 (МРОТ на 2025 год), у кого 0 продуктов (не имея ни одного продукта человек не может быть клиентом банка), у кого на балансе больше 10 млн."
   ]
  },
  {
   "cell_type": "code",
   "execution_count": 19,
   "metadata": {},
   "outputs": [
    {
     "name": "stdout",
     "output_type": "stream",
     "text": [
      "<class 'pandas.core.frame.DataFrame'>\n",
      "Int64Index: 9697 entries, 0 to 9972\n",
      "Data columns (total 12 columns):\n",
      " #   Column         Non-Null Count  Dtype  \n",
      "---  ------         --------------  -----  \n",
      " 0   user_id        9697 non-null   int64  \n",
      " 1   score          9697 non-null   float64\n",
      " 2   city           9697 non-null   object \n",
      " 3   gender         9697 non-null   object \n",
      " 4   age            9697 non-null   int64  \n",
      " 5   equity         9697 non-null   int64  \n",
      " 6   balance        7463 non-null   float64\n",
      " 7   products       9697 non-null   int64  \n",
      " 8   credit_card    9697 non-null   int64  \n",
      " 9   last_activity  9697 non-null   int64  \n",
      " 10  est_salary     9697 non-null   float64\n",
      " 11  churn          9697 non-null   int64  \n",
      "dtypes: float64(3), int64(7), object(2)\n",
      "memory usage: 984.9+ KB\n"
     ]
    }
   ],
   "source": [
    "df = df[df['products'] > 0]\n",
    "df = df[(df['est_salary'] > 22440) & (df['est_salary'] < 1000000)]\n",
    "df = df[(df['balance'] < 10000000) | (df['balance'].isnull())]\n",
    "df.info()"
   ]
  },
  {
   "cell_type": "markdown",
   "metadata": {},
   "source": [
    "\n",
    "<div class=\"alert alert-success\">\n",
    "<b>Комментарий ревьюера:</b>☀️Да, тут все хорошо. Молодец!</div>"
   ]
  },
  {
   "cell_type": "code",
   "execution_count": 20,
   "metadata": {},
   "outputs": [
    {
     "data": {
      "text/html": [
       "<div>\n",
       "<style scoped>\n",
       "    .dataframe tbody tr th:only-of-type {\n",
       "        vertical-align: middle;\n",
       "    }\n",
       "\n",
       "    .dataframe tbody tr th {\n",
       "        vertical-align: top;\n",
       "    }\n",
       "\n",
       "    .dataframe thead th {\n",
       "        text-align: right;\n",
       "    }\n",
       "</style>\n",
       "<table border=\"1\" class=\"dataframe\">\n",
       "  <thead>\n",
       "    <tr style=\"text-align: right;\">\n",
       "      <th></th>\n",
       "      <th>balance</th>\n",
       "      <th>products</th>\n",
       "      <th>est_salary</th>\n",
       "    </tr>\n",
       "  </thead>\n",
       "  <tbody>\n",
       "    <tr>\n",
       "      <th>count</th>\n",
       "      <td>7.463000e+03</td>\n",
       "      <td>9697.000000</td>\n",
       "      <td>9697.000000</td>\n",
       "    </tr>\n",
       "    <tr>\n",
       "      <th>mean</th>\n",
       "      <td>7.578770e+05</td>\n",
       "      <td>1.868929</td>\n",
       "      <td>143591.065813</td>\n",
       "    </tr>\n",
       "    <tr>\n",
       "      <th>std</th>\n",
       "      <td>7.747323e+05</td>\n",
       "      <td>0.792420</td>\n",
       "      <td>114167.060085</td>\n",
       "    </tr>\n",
       "    <tr>\n",
       "      <th>min</th>\n",
       "      <td>0.000000e+00</td>\n",
       "      <td>1.000000</td>\n",
       "      <td>22524.240000</td>\n",
       "    </tr>\n",
       "    <tr>\n",
       "      <th>25%</th>\n",
       "      <td>3.017742e+05</td>\n",
       "      <td>1.000000</td>\n",
       "      <td>77567.430000</td>\n",
       "    </tr>\n",
       "    <tr>\n",
       "      <th>50%</th>\n",
       "      <td>5.300627e+05</td>\n",
       "      <td>2.000000</td>\n",
       "      <td>120633.070000</td>\n",
       "    </tr>\n",
       "    <tr>\n",
       "      <th>75%</th>\n",
       "      <td>9.825328e+05</td>\n",
       "      <td>2.000000</td>\n",
       "      <td>174454.060000</td>\n",
       "    </tr>\n",
       "    <tr>\n",
       "      <th>max</th>\n",
       "      <td>8.936697e+06</td>\n",
       "      <td>5.000000</td>\n",
       "      <td>999965.310000</td>\n",
       "    </tr>\n",
       "  </tbody>\n",
       "</table>\n",
       "</div>"
      ],
      "text/plain": [
       "            balance     products     est_salary\n",
       "count  7.463000e+03  9697.000000    9697.000000\n",
       "mean   7.578770e+05     1.868929  143591.065813\n",
       "std    7.747323e+05     0.792420  114167.060085\n",
       "min    0.000000e+00     1.000000   22524.240000\n",
       "25%    3.017742e+05     1.000000   77567.430000\n",
       "50%    5.300627e+05     2.000000  120633.070000\n",
       "75%    9.825328e+05     2.000000  174454.060000\n",
       "max    8.936697e+06     5.000000  999965.310000"
      ]
     },
     "metadata": {},
     "output_type": "display_data"
    }
   ],
   "source": [
    "display(df[['balance', 'products', 'est_salary']].describe())"
   ]
  },
  {
   "cell_type": "markdown",
   "metadata": {},
   "source": [
    "Кодируем данные"
   ]
  },
  {
   "cell_type": "code",
   "execution_count": 21,
   "metadata": {},
   "outputs": [
    {
     "data": {
      "text/html": [
       "<div>\n",
       "<style scoped>\n",
       "    .dataframe tbody tr th:only-of-type {\n",
       "        vertical-align: middle;\n",
       "    }\n",
       "\n",
       "    .dataframe tbody tr th {\n",
       "        vertical-align: top;\n",
       "    }\n",
       "\n",
       "    .dataframe thead th {\n",
       "        text-align: right;\n",
       "    }\n",
       "</style>\n",
       "<table border=\"1\" class=\"dataframe\">\n",
       "  <thead>\n",
       "    <tr style=\"text-align: right;\">\n",
       "      <th></th>\n",
       "      <th>user_id</th>\n",
       "      <th>score</th>\n",
       "      <th>age</th>\n",
       "      <th>equity</th>\n",
       "      <th>balance</th>\n",
       "      <th>products</th>\n",
       "      <th>credit_card</th>\n",
       "      <th>last_activity</th>\n",
       "      <th>est_salary</th>\n",
       "      <th>churn</th>\n",
       "      <th>city_Ростов</th>\n",
       "      <th>city_Рыбинск</th>\n",
       "      <th>city_Ярославль</th>\n",
       "      <th>gender_Ж</th>\n",
       "      <th>gender_М</th>\n",
       "    </tr>\n",
       "  </thead>\n",
       "  <tbody>\n",
       "    <tr>\n",
       "      <th>0</th>\n",
       "      <td>183012</td>\n",
       "      <td>850.0</td>\n",
       "      <td>25</td>\n",
       "      <td>1</td>\n",
       "      <td>59214.82</td>\n",
       "      <td>2</td>\n",
       "      <td>0</td>\n",
       "      <td>1</td>\n",
       "      <td>75719.14</td>\n",
       "      <td>1</td>\n",
       "      <td>0</td>\n",
       "      <td>1</td>\n",
       "      <td>0</td>\n",
       "      <td>1</td>\n",
       "      <td>0</td>\n",
       "    </tr>\n",
       "    <tr>\n",
       "      <th>1</th>\n",
       "      <td>146556</td>\n",
       "      <td>861.0</td>\n",
       "      <td>37</td>\n",
       "      <td>5</td>\n",
       "      <td>850594.33</td>\n",
       "      <td>3</td>\n",
       "      <td>1</td>\n",
       "      <td>0</td>\n",
       "      <td>86621.77</td>\n",
       "      <td>0</td>\n",
       "      <td>0</td>\n",
       "      <td>1</td>\n",
       "      <td>0</td>\n",
       "      <td>1</td>\n",
       "      <td>0</td>\n",
       "    </tr>\n",
       "    <tr>\n",
       "      <th>2</th>\n",
       "      <td>120722</td>\n",
       "      <td>892.0</td>\n",
       "      <td>30</td>\n",
       "      <td>0</td>\n",
       "      <td>NaN</td>\n",
       "      <td>1</td>\n",
       "      <td>1</td>\n",
       "      <td>1</td>\n",
       "      <td>107683.34</td>\n",
       "      <td>0</td>\n",
       "      <td>0</td>\n",
       "      <td>1</td>\n",
       "      <td>0</td>\n",
       "      <td>1</td>\n",
       "      <td>0</td>\n",
       "    </tr>\n",
       "    <tr>\n",
       "      <th>3</th>\n",
       "      <td>225363</td>\n",
       "      <td>866.0</td>\n",
       "      <td>51</td>\n",
       "      <td>5</td>\n",
       "      <td>1524746.26</td>\n",
       "      <td>2</td>\n",
       "      <td>0</td>\n",
       "      <td>1</td>\n",
       "      <td>174423.53</td>\n",
       "      <td>1</td>\n",
       "      <td>0</td>\n",
       "      <td>0</td>\n",
       "      <td>1</td>\n",
       "      <td>1</td>\n",
       "      <td>0</td>\n",
       "    </tr>\n",
       "    <tr>\n",
       "      <th>4</th>\n",
       "      <td>157978</td>\n",
       "      <td>730.0</td>\n",
       "      <td>34</td>\n",
       "      <td>5</td>\n",
       "      <td>174.00</td>\n",
       "      <td>1</td>\n",
       "      <td>1</td>\n",
       "      <td>0</td>\n",
       "      <td>67353.16</td>\n",
       "      <td>1</td>\n",
       "      <td>0</td>\n",
       "      <td>0</td>\n",
       "      <td>1</td>\n",
       "      <td>0</td>\n",
       "      <td>1</td>\n",
       "    </tr>\n",
       "  </tbody>\n",
       "</table>\n",
       "</div>"
      ],
      "text/plain": [
       "   user_id  score  age  equity     balance  products  credit_card  \\\n",
       "0   183012  850.0   25       1    59214.82         2            0   \n",
       "1   146556  861.0   37       5   850594.33         3            1   \n",
       "2   120722  892.0   30       0         NaN         1            1   \n",
       "3   225363  866.0   51       5  1524746.26         2            0   \n",
       "4   157978  730.0   34       5      174.00         1            1   \n",
       "\n",
       "   last_activity  est_salary  churn  city_Ростов  city_Рыбинск  \\\n",
       "0              1    75719.14      1            0             1   \n",
       "1              0    86621.77      0            0             1   \n",
       "2              1   107683.34      0            0             1   \n",
       "3              1   174423.53      1            0             0   \n",
       "4              0    67353.16      1            0             0   \n",
       "\n",
       "   city_Ярославль  gender_Ж  gender_М  \n",
       "0               0         1         0  \n",
       "1               0         1         0  \n",
       "2               0         1         0  \n",
       "3               1         1         0  \n",
       "4               1         0         1  "
      ]
     },
     "metadata": {},
     "output_type": "display_data"
    }
   ],
   "source": [
    "# создаем копию оригинального DataFrame\n",
    "df_copy = df.copy()\n",
    "\n",
    "# применяем one-hot кодирование к категориальным переменным\n",
    "df_encoded = pd.get_dummies(df_copy, columns=['city', 'gender'], drop_first=False)\n",
    "\n",
    "# проверяем результат\n",
    "display(df_encoded.head())"
   ]
  },
  {
   "cell_type": "markdown",
   "metadata": {},
   "source": [
    "\n",
    "<div class=\"alert alert-success\">\n",
    "<b>Комментарий ревьюера:</b>☀️Данные закодированы корректно.</div>"
   ]
  },
  {
   "cell_type": "markdown",
   "metadata": {},
   "source": [
    "Исследуем пропуски в `balance` более детально"
   ]
  },
  {
   "cell_type": "code",
   "execution_count": 22,
   "metadata": {},
   "outputs": [
    {
     "data": {
      "text/plain": [
       "2234"
      ]
     },
     "execution_count": 22,
     "metadata": {},
     "output_type": "execute_result"
    }
   ],
   "source": [
    "df['balance'].isnull().sum()"
   ]
  },
  {
   "cell_type": "markdown",
   "metadata": {},
   "source": [
    "В столбце `balance` пропущено 2234 значения (23% данных). Это значительная доля, поэтому важно понять, почему эти данные отсутствуют. Проверим, могут ли пропуски быть связаны с городом, возрастом, активностью или оттоком."
   ]
  },
  {
   "cell_type": "code",
   "execution_count": 23,
   "metadata": {},
   "outputs": [
    {
     "data": {
      "image/png": "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\n",
      "text/plain": [
       "<Figure size 1080x720 with 5 Axes>"
      ]
     },
     "metadata": {
      "needs_background": "light"
     },
     "output_type": "display_data"
    }
   ],
   "source": [
    "# создаем столбец, указывающий на наличие пропуска в balance\n",
    "df['balance_missing'] = df['balance'].isnull().astype(int)\n",
    "\n",
    "# Анализ пропусков по категориальным признакам\n",
    "categorical_features = ['city', 'gender', 'credit_card', 'last_activity', 'churn']\n",
    "\n",
    "plt.figure(figsize=(15, 10))\n",
    "for i, feature in enumerate(categorical_features, 1):\n",
    "    plt.subplot(2, 3, i)\n",
    "    sns.countplot(data=df, x=feature, hue='balance_missing')\n",
    "    plt.title(f'Пропуски balance по {feature}')\n",
    "plt.tight_layout()\n",
    "plt.show()"
   ]
  },
  {
   "cell_type": "code",
   "execution_count": 24,
   "metadata": {},
   "outputs": [
    {
     "name": "stdout",
     "output_type": "stream",
     "text": [
      "balance_missing    1.000000\n",
      "est_salary         0.324651\n",
      "credit_card        0.157450\n",
      "score              0.140418\n",
      "last_activity      0.032380\n",
      "user_id            0.002718\n",
      "age               -0.028015\n",
      "churn             -0.252558\n",
      "products          -0.488092\n",
      "equity            -0.711485\n",
      "balance                 NaN\n",
      "Name: balance_missing, dtype: float64\n"
     ]
    }
   ],
   "source": [
    "# вычисление корреляции Пирсона\n",
    "correlation = df.corr()\n",
    "\n",
    "# вывод корреляции balance_missing с остальными числовыми признаками\n",
    "print(correlation['balance_missing'].sort_values(ascending=False))"
   ]
  },
  {
   "cell_type": "markdown",
   "metadata": {},
   "source": [
    "Клиенты с высоким доходом чаще имеют пропуски в балансе. Возможно, они менее заинтересованы в предоставлении этой информации. Клиенты, пользующиеся большим количество продуктов банка, реже имеют пропуски в балансе, как и клиенты с высокой оценкой собственности и отточные клиенты. Признаки `last_activity`, `user_id`, `age` почти не влияют на пропуски в балансе."
   ]
  },
  {
   "cell_type": "markdown",
   "metadata": {},
   "source": [
    "\n",
    "<div class=\"alert alert-success\">\n",
    "<b>Комментарий ревьюера:</b>☀️Спасибо за подробноый анализ пропусков.</div>"
   ]
  },
  {
   "cell_type": "markdown",
   "metadata": {},
   "source": [
    "Вывод:\n",
    "- исправили названия столбцов\n",
    "- удалили пропуски в столбце `age`, так как их мало, на анализ они не повлияют. Решили оставить пропуски в `balance`, так как это могут быть неактивные/закрытые счета, информация о балансе может быть скрыта в целях конфиденциальности\n",
    "- явных и неявных дубликатов нет. Неполные дубликаты не найдены, но есть совпадения по `user_id`. Мы можем предположить причины, по которым совпадает идентификатор, но остальные данные разнятся: \n",
    "    - если при добавлении новых пользователей в систему не была реализована проверка на уникальность `user_id`, это может привести к дублированию записей\n",
    "    - возможно, после сбора данных из всех филиалов банка в процессе интеграции не были правильно обработаны уникальные идентификаторы\n",
    "- столбец `age` привели к целочисленному типу данных\n",
    "- в `balance`, `products`, `est_salary` были аномалии, которые мы убрали так, чтобы данные были близки к реальным цифрам. Мы исключили клиентов, у кого зарплата ниже 22440 (МРОТ на 2025 год), у кого 0 продуктов (не имея ни одного продукта человек не может быть клиентом банка), у кого на балансе больше 10 млн. В `balance` оставили пропуски, так как их удаление может повлиять на результат некорректно.\n",
    "- закодировали данные в столбцах `city` и `gender`\n",
    "- клиенты с высоким доходом чаще имеют пропуски в балансе. Возможно, они менее заинтересованы в предоставлении этой информации. Клиенты, пользующиеся большим количество продуктов банка, реже имеют пропуски в балансе, как и клиенты с высокой оценкой собственности и отточные клиенты. Признаки `last_activity`, `user_id`, `age` почти не влияют на пропуски в балансе."
   ]
  },
  {
   "cell_type": "markdown",
   "metadata": {},
   "source": [
    "\n",
    "<div class=\"alert alert-danger\">\n",
    "<b>Комментарий ревьюера:</b>Не хватает анализа неполных дубликатов.</div>"
   ]
  },
  {
   "cell_type": "markdown",
   "metadata": {},
   "source": [
    "<div class=\"alert alert-info\"> <b>Комментарий студента:</b> Провела анализ неполных дубликатов.</div>"
   ]
  },
  {
   "cell_type": "markdown",
   "metadata": {},
   "source": [
    "## Исследовательский анализ данных\n",
    "<a id=\"3\"></a>"
   ]
  },
  {
   "cell_type": "code",
   "execution_count": 25,
   "metadata": {},
   "outputs": [
    {
     "data": {
      "text/html": [
       "<div>\n",
       "<style scoped>\n",
       "    .dataframe tbody tr th:only-of-type {\n",
       "        vertical-align: middle;\n",
       "    }\n",
       "\n",
       "    .dataframe tbody tr th {\n",
       "        vertical-align: top;\n",
       "    }\n",
       "\n",
       "    .dataframe thead th {\n",
       "        text-align: right;\n",
       "    }\n",
       "</style>\n",
       "<table border=\"1\" class=\"dataframe\">\n",
       "  <thead>\n",
       "    <tr style=\"text-align: right;\">\n",
       "      <th></th>\n",
       "      <th>churn</th>\n",
       "    </tr>\n",
       "  </thead>\n",
       "  <tbody>\n",
       "    <tr>\n",
       "      <th>city_Ростов</th>\n",
       "      <td>0.006587</td>\n",
       "    </tr>\n",
       "    <tr>\n",
       "      <th>city_Рыбинск</th>\n",
       "      <td>-0.030149</td>\n",
       "    </tr>\n",
       "    <tr>\n",
       "      <th>city_Ярославль</th>\n",
       "      <td>0.022585</td>\n",
       "    </tr>\n",
       "    <tr>\n",
       "      <th>gender_Ж</th>\n",
       "      <td>-0.139709</td>\n",
       "    </tr>\n",
       "    <tr>\n",
       "      <th>gender_М</th>\n",
       "      <td>0.139709</td>\n",
       "    </tr>\n",
       "  </tbody>\n",
       "</table>\n",
       "</div>"
      ],
      "text/plain": [
       "                   churn\n",
       "city_Ростов     0.006587\n",
       "city_Рыбинск   -0.030149\n",
       "city_Ярославль  0.022585\n",
       "gender_Ж       -0.139709\n",
       "gender_М        0.139709"
      ]
     },
     "metadata": {},
     "output_type": "display_data"
    }
   ],
   "source": [
    "correlation_matrix = df_encoded.corr()\n",
    "\n",
    "# Получаем только строки, относящиеся к churn для city и gender\n",
    "churn_correlation = correlation_matrix.loc[['city_Ростов', 'city_Рыбинск', 'city_Ярославль', 'gender_Ж', 'gender_М'], ['churn']]\n",
    "display(churn_correlation)"
   ]
  },
  {
   "cell_type": "code",
   "execution_count": 26,
   "metadata": {},
   "outputs": [
    {
     "data": {
      "image/png": "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\n",
      "text/plain": [
       "<Figure size 864x432 with 1 Axes>"
      ]
     },
     "metadata": {
      "needs_background": "light"
     },
     "output_type": "display_data"
    },
    {
     "data": {
      "image/png": "iVBORw0KGgoAAAANSUhEUgAAAfsAAAFNCAYAAAAHGMa6AAAAOXRFWHRTb2Z0d2FyZQBNYXRwbG90bGliIHZlcnNpb24zLjMuNCwgaHR0cHM6Ly9tYXRwbG90bGliLm9yZy8QVMy6AAAACXBIWXMAAAsTAAALEwEAmpwYAAAmrklEQVR4nO3debhddXn3//fHBBJkHgJFAiZCFAEhYER8QKVQEQEBqQP+EAEpWAs+ONSfYlsZLGIrFiu11BRSoVqQSpGUIsiM+hQxDE+AoBgBIZQhEJlkDvfzx14nbkNOzk6y9zmcnffruvZ11rrX97vWvTdXuNfwXWulqpAkSf3rFSOdgCRJ6i2LvSRJfc5iL0lSn7PYS5LU5yz2kiT1OYu9JEl9zmIvSVKfs9hLQ0hyaJJbkjyV5IEkpydZZ6TzkqROWeylpUjyaeBvgM8AawM7Aa8GLkuy6kjmJkmdsthLg0iyFnAC8PGquqSqnq+qu4H3A5OADyV5S5Inm8/zSZ5rm9+sbfq5ZvnA/FubbRyRZG6SBUlmJnlV2/YryRbN9L5J7knymkFyvTrJnzTTmye5N8m+bct3TfJi2/ZfTPJHzbJvJfnrtrYXN9se28yvneTMJPcnuS/JXycZ0yw7NMmPF8tlXrO9oX6bVyT5yyS/TvJQkrOTrN2sY1KTw0D7W5PsOsh3X7ztwPaOb2sz6O/c7XUluTvJ023/3b/dxG9N8u62dqskeTjJ9kvKReomi700uP8FjAf+oz1YVU8CFwPvqKr/rqo1qmoN4DvA3w7MV9U9bcu+BHy3bdmPkuwGnExr52Fj4NfAuYsnkeTtwD8Be1fVnUtLOMnGwKXA56tqZtuiVwD3teVzzyD9/xDYdrHwt4AXgC2A7YE9gD9ZWh4AQ/02wKHN5w+B1wBrAP+w2GrWAdYEzgNOGWKT67Rt77tt36mj37mL63oFsE/bf/cBZwMfapvfC7i/qm4aIhdphVnspcFtADxcVS8sYdn9zfIVcRAwo6purKpngWOBtySZ1NZme2AmcFBV3TLE+talVei/U1X/utiyVYHnltY5SYC/Bb7QFtuIVlH6RFX9tqoeAk4FDhzqy3XgIODvqurOZgfqWODAgTMK7akBY4BHVmA7Q/3O3VzXYL/1t4G9mjNGAAcDi/93knrCYi8N7mFggyUUH2gd1T28gut/Fa0jQ2DRGYNHgE3a2pwB/BJ4RwfrOwF4EtitKdzt1gN+M0T/99P6Tle2xV4NrALcn+TRJI8C3wQ2bGuz08CyZvkST5Evwe99/2Z6LLBRW+xhWt/pE7TGTiyPTn7nrqyr+d3XYQm/dVX9D/AT4I/TGuD5LlpnPKSes9hLg/tv4FnggPZgkjVo/Y/6ihVc///QKqYD610dWB+4r63NJ4B9gMOT7DDE+s4DdqF1JPzxxZa9FrhjKX1XAb4IfHax+L20foMNqmqd5rNWVW3d1ua6tmXrNN+rE7/3/YHNaF0ueLAttkFVvRLYDzg/yWodrnvQ7QzyO3drXa+mtcMy2OWWs2idyn8f8N9VtTw5SMvMYi8Noqoeo3W0fFqSPZsBVZNoFdV5rPgp2HOAw5JMTTKO1vXdnzaDAAf8qKoeAP4c+JckqyxlfT+uqheBjwBfGBjMl2SrJvb9pfQ9GPg/VTW7PVhV9wM/BL6aZK1mUN3mzTiCFXUO8Mkkk5sdqIFxDUu6bLKQ1t0Qy3MHRCe/8wqvK8mawHHAD6vqqUH6fx/YATiG1jV8aVhY7KWlqKq/BT5Pa3DY48BPaR3t7t5cs12RdV8O/BVwPq0xAJszyLXw5hr8vU0uQ633DuDLwBnNkecPgW9W1XlL6bZuk8uSfJhWkZ1D6/T092hdxlhRM2jtMF0L3AU8w0vPSDya5ElahfGjzQ7YMlmW33kF13Uarcslgw5erKqnm76TWWzgp9RLqaqRzkGSVhpJvgC8tqo+NGRjqUuWNPBIktQDSdYDDqd12UQaNp7Gl6RhkOQIWpdiflBV1450Plq5eBpfkqQ+55G9JEl9zmIvSVKf68sBehtssEFNmjRppNOQJGnY3HDDDQ9X1YQlLevLYj9p0iRmzZo10mlIkjRskvx6sGWexpckqc9Z7CVJ6nMWe0mS+lxfXrOXJL08PP/888ybN49nnnlmpFPpG+PHj2fixImsssrS3ov1+yz2kqSemTdvHmuuuSaTJk0iyUinM+pVFY888gjz5s1j8uTJHffzNL4kqWeeeeYZ1l9/fQt9lyRh/fXXX+YzJRZ7SVJPWei7a3l+T4u9JKnvPPDAAxx44IFsvvnmvPGNb2SvvfZi+vTp7LPPPiOd2oiw2EuS+kpV8Z73vIddd92VX/3qV9xwww2cfPLJPPjggyu03hdeeKFLGQ4/i70kqa9cddVVrLLKKvzpn/7poth2223HW9/6Vp588kne+973suWWW3LQQQcx8ObXSZMm8fDDDwMwa9Ysdt11VwCOP/54Dj74YHbeeWcOPvhgjj/+eD7ykY+w66678prXvIavf/3rw/79lofFXpLUV2699Vbe+MY3LnHZTTfdxNe+9jXmzJnDnXfeyU9+8pMh1zdnzhwuv/xyzjnnHAB+/vOfc+mll3L99ddzwgkn8Pzzz3c1/17w1rtl9MbPnD3SKfS9G77y4ZFOQVKf2nHHHZk4cSIAU6dO5e6772aXXXZZap99992X1VZbbdH83nvvzbhx4xg3bhwbbrghDz744KJ1vlx5ZC9J6itbb701N9xwwxKXjRs3btH0mDFjFl2HHzt2LC+++CLAS25rW3311Ttax8uZxV6S1Fd22203nn32WaZPn74oNnv2bH70ox8N2mfSpEmLdhDOP//8nuc43Cz2kqS+koQLLriAyy+/nM0335ytt96aY489lj/4gz8YtM9xxx3HMcccw7Rp0xgzZswwZjs8MjASsZ9MmzatevU+e6/Z957X7KX+cfvtt/P6179+pNPoO0v6XZPcUFXTltTeI3tJkvqcxV6SpD5nsZckqc9Z7CVJ6nM9L/ZJxiS5KclFzfzkJD9NMjfJd5Os2sTHNfNzm+WT2tZxbBP/RZJ39jpnSZL6yXAc2R8D3N42/zfAqVW1BfAb4PAmfjjwmyZ+atOOJFsBBwJbA3sC/5ik/+6LkCSpR3pa7JNMBPYGzmjmA+wGfK9pchawfzO9XzNPs3z3pv1+wLlV9WxV3QXMBXbsZd6SpP4yb9489ttvP6ZMmcLmm2/OMcccw3PPPTfSaQ2bXj8b/2vA/w+s2cyvDzxaVQPPFpwHbNJMbwLcC1BVLyR5rGm/CXBd2zrb+0iSRpFuP6ukk+dyVBUHHHAAH/vYx7jwwgtZuHAhRx55JH/xF3/BV77yla7m83LVsyP7JPsAD1XVkh9Q3P3tHZlkVpJZ8+fPH45NSpJGgSuvvJLx48dz2GGHAa3n2Z966qnMmDGD3/72t/z5n/8522yzDdtuuy2nnXYa3/3ud5k6dSpbbLEFa6+9NlOnTmWvvfYC4GMf+xjTpk1j66235rjjjvu97UyaNIk3vOENbLXVVmyzzTZA6xW5p5xyCgCXX345SRh46Nsll1zCDjvswHbbbcfuu+/+kvbd1Msj+52BfZPsBYwH1gL+Hlgnydjm6H4icF/T/j5gU2BekrHA2sAjbfEB7X0WqarpwHRoPUGvJ99IkjTq3HbbbS955e1aa63FZpttxhlnnMHdd9/NzTffzNixY1mwYAHrrbceH/jAB7j66qs55ZRTuOiiixb1O+mkk1hvvfVYuHAhu+++O7Nnz2bbbbcFYOHChVxzzTU8/vjj7LPPPi/J48QTT2SLLbYAYP78+RxxxBFce+21TJ48mQULFvTwF+jhkX1VHVtVE6tqEq0BdldW1UHAVcB7m2aHABc20zObeZrlV1brWb4zgQOb0fqTgSnA9b3KW5K08rj66qv56Ec/ytixrWPf9dZbb6ntzzvvPHbYYQe23357brvtNubMmbNo2dNPP8348eOX2O/888/nTW96E5ts0roKfd111/G2t72NyZMnv2S7p556KlOnTmXnnXfmuuuuW+L6ltVI3Gf/WeBTSebSuiZ/ZhM/E1i/iX8K+BxAVd0GnAfMAS4BjqqqhcOetSRpVNpqq61e8srbxx9/nHvuuWeZ1nPXXXdxyimncMUVVzB79mz23nvvRa/DfeaZZ3jxxRd55Stf+ZJ+Cxcu5Ctf+QrHHntsR9v55Cc/yc0338wJJ5zApz71qWXKcTDDUuyr6uqq2qeZvrOqdqyqLarqfVX1bBN/ppnfoll+Z1v/k6pq86p6XVX9YDhyliT1h913352nnnqKs89uDQ5cuHAhn/70pzn00EN55zvfyTe/+c1F76Rf2un0xx9/nNVXX521116bBx98kB/84Hfl6Hvf+x5vectbltjv29/+NnvttRcbbLDBothOO+3Etddey1133TXodtdff/2u3THQ69H4kiSNqIFX3v7Zn/0ZX/ziF3nxxRfZa6+9+NKXvsSYMWO444472HbbbVlllVU44ogjOProo5e4nu22247tt9+eLbfckk033ZSdd94ZgAsuuIDTTz+db33rW0vs9+CDD77kCH3ChAlMnz6dAw44gBdffJENN9yQyy67DIBvfOMbfP/73+epp57i5JNP7s5v4Ctul42vuO09X3Er9Q9fcdsbvuJWkiT9Hou9JEl9zmIvSVKfs9hLktTnLPaSJPU5i70kSX3OYi9J6msHH3wwp5122qL5f//3f2ePPfYYwYyGnw/VkSQNm3tOfENX17fZF24Zss3hhx/OJz/5ST7+8Y8DcOaZZ3L44Yd3NY+XO4/sJUl97e1vfztPPPEEN954I/feey833ngj+++/P2usscaiNttssw133303AB/60Id+7013y/rq2pcjj+wlSX0tCYcddhgzZsxgo4024oMf/CDjxo3ruP+yvLr25cpiL2lU8FHVvdfPj6o+9NBDmTp1KmussQYXXnjh0B3aDLy69vHHH3/JsoFX1y7+Vr2XG0/jS5L63iabbMKOO+7IBhtswLbbbttxv26+unYkWewlSSuF1VZbbZkH5i3rq2tfrjyNL0nqa0899RSve93rmDJlCgcffPCi+NNPP80uu+wCwF133cX73vc+xo0bxx133MGBBx64XK+ufbmy2EuShk0nt8p12ytf+Uruvffel8QXLlw4ZN/3vOc9i6YnTZrErbfeCrRG4x9//PGLll199dUrnGcveRpfkqQ+Z7GXJKnPWewlSepzFntJUk9V1Uin0FeW5/e02EuSemb8+PE88sgjFvwuqSoeeeQRxo8fv0z9ejYaP8l44FpgXLOd71XVcUm+BbwdeKxpemhV3ZwkwN8DewFPNfEbm3UdAvxl0/6vq+qsXuUtSeqeiRMnMm/ePObPnz/SqfSN8ePHM3HixGXq08tb754FdquqJ5OsAvw4yQ+aZZ+pqu8t1v5dwJTm82bgdODNSdYDjgOmAQXckGRmVf2mh7lLkrpglVVWYfLkySOdxkqvZ6fxq+XJZnaV5rO08zj7AWc3/a4D1kmyMfBO4LKqWtAU+MuAPXuVtyRJ/aan1+yTjElyM/AQrYL902bRSUlmJzk1ycCrhzYB2p96MK+JDRZffFtHJpmVZJaniyRJ+p2eFvuqWlhVU4GJwI5JtgGOBbYE3gSsB3y2S9uaXlXTqmrahAkTurFKSZL6wrCMxq+qR4GrgD2r6v7mVP2zwL8AOzbN7gM2bes2sYkNFpckSR3oWbFPMiHJOs30asA7gJ831+FpRt/vD9zadJkJfDgtOwGPVdX9wKXAHknWTbIusEcTkyRJHejlaPyNgbOSjKG1U3FeVV2U5MokE4AANwN/2rS/mNZtd3Np3Xp3GEBVLUjyReBnTbsTq2pBD/OWJKmv9KzYV9VsYPslxHcbpH0BRw2ybAYwo6sJSpK0kvAJepIk9TmLvSRJfc5iL0lSn7PYS5LU5yz2kiT1OYu9JEl9zmIvSVKfs9hLktTnLPaSJPU5i70kSX3OYi9JUp+z2EuS1Ocs9pIk9TmLvSRJfc5iL0lSn7PYS5LU5yz2kiT1OYu9JEl9bpmKfZJVk6zZq2QkSVL3DVnsk3wyyawkHwbuAH6Z5DO9T02SJHXD2A7aHAUcCFwJTAKeAWYBX+ldWpIkqVs6OY3/eFXNAn5VVQuq6ilaBX+pkoxPcn2S/5vktiQnNPHJSX6aZG6S7yZZtYmPa+bnNssnta3r2Cb+iyTvXL6vKknSyqmTYv+aJDOByUlmJvlPYHIH/Z4Fdquq7YCpwJ5JdgL+Bji1qrYAfgMc3rQ/HPhNEz+1aUeSrWidWdga2BP4xyRjOv2CkiSt7Dop9vsBX237ewqw/1CdquXJZnaV5lPAbsD3mvhZbevar5mnWb57kjTxc6vq2aq6C5gL7NhB3pIkiQ6KfVVdA/wcWLP53N7EhpRkTJKbgYeAy4BfAY9W1QtNk3nAJs30JsC9zTZfAB4D1m+PL6GPJEkaQiej8d8PXA+8D3g/8NMk7+1k5VW1sKqmAhNpHY1vufypDpnnkc1dA7Pmz5/fq81IkjTqdDIa/y+AN1XVQwBJJgCX87tT8UOqqkeTXAW8BVgnydjm6H0icF/T7D5gU2BekrHA2sAjbfEB7X3atzEdmA4wbdq06jQ3SZL6XSfX7F8xUOgbj3TSL8mEJOs006sB7wBuB64CBs4MHAJc2EzPbOZpll9ZVdXED2xG608GptA60yBJkjrQyZH9JUkuBc5p5j8AXNxBv42Bs5qR868Azquqi5LMAc5N8tfATcCZTfszgX9NMhdYQGsEPlV1W5LzgDnAC8BRVbWws68nSZKGLPZV9ZkkBwC7NKHpVXVBB/1mA9svIX4nSxhNX1XP0BoXsKR1nQScNNQ2JUnSSw1Z7JMcX1XHA//R+3QkSVK3dXLNft+eZyFJknqmk2v2Gyb51OLBqvq7HuQjSZK6rJNiPwZYA0iPc5EkST3QSbF/oKpO7HkmkiSpJzq5Zn9Zz7OQJEk908mR/T8k2WzxYFXd04N8JElSl3VS7P+r+fsaWi+yCa23123bq6QkSVL3dPJQnTcAJLmpql7ykBxJkvTy1sk1+wG+XEaSpFGokyfoHdBMrtM2TVX5RD1JkkaBTq7Zv7v5e03bdOHjcyVJGhU6uWZ/2HAkIkmSeqOT99K/NskVSW5t5rdN8pe9T02SJHVDJwP0/hk4FngeFr269sBeJiVJkrqnk2L/yqq6frHYC71IRpIkdV8nxf7hJJvT3HqX5L3A/T3NSpIkdU0no/GPAqYDWya5D7gL+FBPs5IkSV3TyWj8O4E/SrI68IqqeqL3aUmSpG7p5KE6n1psHoCq+rse5SRJkrqok9P4fwX8Grigx7lIkqQe6KTYb07r1rvdgROr6vLepiRJkrppyNH4VbWgqj5D69769yW5JMmbhuqXZNMkVyWZk+S2JMc08eOT3Jfk5uazV1ufY5PMTfKLJO9si+/ZxOYm+dzyfVVJklZOnVyz/09+98a7AJsB1wFjhuj6AvDpqroxyZrADUkua5adWlWnLLadrWjtUGwNvAq4PMlrm8XfAN4BzAN+lmRmVc0Z8ttJkqSOTuOfMnSTl6qq+2nux6+qJ5LcDmyylC77AedW1bPAXUnmAjs2y+Y2dwWQ5NymrcVekqQOdFLsb1nRjSSZBGwP/BTYGTg6yYeBWbSO/n9Da0fgurZu8/jdzsG9i8XfvKI5SZK0sujkCXr30yrKN7R9ZnW6gSRrAOcDn6iqx4HTaQ36m9qs+6vLlvKg2zkyyawks+bPn9+NVUqS1Bc6ObKfU1XbL8/Kk6xCq9B/p6r+A6CqHmxb/s/ARc3sfcCmbd0nNjGWEl+kqqbTetIf06ZNq8WXS5K0surkyH7tJPs1I+K3TdLJDgJpPX3nTOD29gfwJNm4rdl7gFub6ZnAgUnGJZkMTAGuB34GTEkyOcmqtAbxzewkB0mS1NmR/TXAHwOr0Rol/+okR1TVD4botzNwMHBLkpub2OeBDyaZSmuE/93ARwGq6rYk59EaePcCcFRVLQRIcjRwKa07AGZU1W2dfkFJklZ2nTwb/7D2+SRbAN8Hllrsq+rHtG7VW9zFS+lzEnDSEuIXL62fJEkaXCen8X9PVc2ldc+7JEkaBYYs9km+sNj8O4Af9iwjSZLUVZ0c2f9BktOTbJDkLOAztB5qI0mSRoFOno3/Z8D/0HqwzX9X1R4DT7OTJEkvf508G/8A4DbgcuBDSR4CGLhvXpIkvbx1cuvdu5u/Dzefd9O6bc5iL0nSKLDMt95JkqTRZZlvvZMkSaOLxV6SpD5nsZckqc918lCdtZOcOvD62CRfTbL2cCQnSZJWXCdH9jOAx4H3N5/HgX/pZVKSJKl7Orn1bvOq+uO2+RPa3mInSZJe5jo5sn86yS4DM0l2Bp7uXUqSJKmbOjmy/xhwVnOdPsAC4NBeJiVJkrqnk4fq3Axsl2StZv7xXiclSZK6p5PR+FslORpYDfhKku8l2b73qUmSpG7o5Jr9vwGvA34KXA+cB5zRy6QkSVL3dFLsX1FVHweeq6ozq+q8DvtJkqSXgU4G6K3RvOZ2bJL30Cr0a/U2LUmS1C2dFPtraL3W9hpg3yZ2bc8ykiRJXdVJsT+tqm7seSaSJKknOrn2vlyD8ZJsmuSqJHOS3JbkmCa+XpLLkvyy+btuE0+SryeZm2R2kh3a1nVI0/6XSQ5ZnnwkSVpZdVLsxyZZtynSiz4d9HsB+HRVbQXsBByVZCvgc8AVVTUFuKKZB3gXMKX5HAmcDq2dA+A44M3AjsBxAzsIkiRpaJ2cxn8dcAOtp+cNKOA1S+tUVfcD9zfTTyS5HdgE2A/YtWl2FnA18NkmfnZVFXBdknWSbNy0vayqFgAkuQzYEzing9wlSVrpdVLs51TVCj1EJ8kkYHta9+pv1OwIADwAbNRMbwLc29ZtXhMbLC5JkjrQ8/vlk6wBnA98YvFH7TZH8dWl7RyZZFaSWfPnz+/GKiVJ6gudFPu3LO/Kk6xCq9B/p6r+owk/2Jyep/n7UBO/D9i0rfvEJjZY/PdU1fSqmlZV0yZMmLC8KUuS1Hc6Kfb/mWSdgZlmsN6lQ3VKEuBM4Paq+ru2RTOBgRH1hwAXtsU/3IzK3wl4rDndfymwR7PddYE9mpgkSepAJ9fsJ1TVowMzVfWbJBt20G9n4GDgliQ3N7HPA18GzktyOPBr4P3NsouBvYC5wFPAYc32FiT5IvCzpt2JA4P1JEnS0Dop9guTbFZV9wAkeTUdXGevqh/z+yP42+2+hPYFHDXIumYAMzrIVZIkLaaTYv8XwI+TXEOreL+V1n3wkiRpFBiy2FfVJc3T7HZqQp+oqod7m5YkSeqWIQfoNQPt9gR2qKqLgFcm2bHnmUmSpK7oZDT+P9K6/e6DzfwTwDd6lpEkSeqqTq7Zv7mqdkhyEywajb9qj/OSJEld0smR/fNJxtCMwE8yAXixp1lJkqSu6aTYfx24ANgwyUnAj4Ev9TQrSZLUNZ2Mxv9Okhto3RsfYP+qur3nmUmSpK4Ystg375N/iLZXyiZZz6fYSZI0OnQyQO8GWtfrA2xM6x31Q77PXpIkvTx0chp/8sB0kptW9N32kiRpeHX8PvvmdjtvuZMkaZTp5Jr9fzaTrwf+rbfpSJKkbuvkmv0ptO6rn1dVd/U4H0mS1GWdFPtbBiaakflA6z3zPclIkiR1VSfF/mHgQeBpfvd+ekfjS5I0SnQyQO9IYB7wVWBKVU2uKgu9JEmjxJDFvqrOAHYBxgE/SXJQz7OSJEld08n77A8A9gbuBv4J+GyS/9vjvCRJUpd0cs3+3YvN39CLRCRJUm908gS9w4YjEUmS1BudPFRn5pLiVbVv99ORJEnd1slp/NcDf7KsK04yA9gHeKiqtmlixwNHAPObZp+vqoubZccChwMLgf9dVZc28T2BvwfGAGdU1ZeXNRdJklZmnRT7J6rqmuVY97eAfwDOXix+alWd0h5IshVwILA18Crg8iSvbRZ/A3gHrdv/fpZkZlXNWY58JElaKXVyn/12SR5N8kCSG5OclmSDoTpV1bVAp0/Z2w84t6qebR7JOxfYsfnMrao7q+o54NymrSRJ6lAn99mPAdYDNgc+ADwAnLUC2zw6yewkM5Ks28Q2Ae5tazOviQ0Wf4kkRyaZlWTW/Pnzl9REkqSVUkevuK2qF6vqt1X1y6o6CbhkObd3Oq2dhqnA/bSeytcVVTW9qqZV1bQJEyZ0a7WSJI16nVyzJ8m+wNua2Wuq6rTl2VhVPdi2zn8GLmpm7wM2bWs6sYmxlLgkSepAJ0/QOxk4BpjTfP53ki8tz8aSbNw2+x7g1mZ6JnBgknFJJgNTgOuBnwFTkkxOsiqtQXxLvBVQkiQtWSdH9nsDU6vqRYAkZwE3AZ9fWqck5wC7AhskmQccB+yaZCqtt+bdDXwUoKpuS3IerZ2JF4Cjqmphs56jgUtp3Xo3o6puW7avKEnSyq2j0/jAOvxuZP3anXSoqg8uIXzmUtqfBJy0hPjFwMWdbFOSJL1UJ8X+ZOCmJFfRep/924Bje5qVJEnqmk6ejX9OkquBNzWhz1bVAz3NSpIkdc2gA/SS7D0wXVX3V9XMqpoJ/DbJco3GlyRJw29po/G/luQj7YEk/x8wG3iop1lJkqSuWdpp/LcB/5VkIq3H1P4j8DzwR1X1q+FITpIkrbhBj+yr6n7g7cBbaR3Nn1FV77LQS5I0uiz1oTpV9QTwLuA84KAk44clK0mS1DWDnsZP8gSth99A65a71YEFSRYCVVVrDUN+kiRpBQ1a7KtqzeFMRJIk9UZHb72TJEmjl8VekqQ+Z7GXJKnPWewlSepzFntJkvqcxV6SpD5nsZckqc918j57SdJK4J4T3zDSKawUNvvCLcO+TY/sJUnqcxZ7SZL6nMVekqQ+Z7GXJKnP9azYJ5mR5KEkt7bF1ktyWZJfNn/XbeJJ8vUkc5PMTrJDW59Dmva/THJIr/KVJKlf9fLI/lvAnovFPgdcUVVTgCuaeYB3AVOaz5HA6dDaOQCOA94M7AgcN7CDIEmSOtOzYl9V1wILFgvvB5zVTJ8F7N8WP7targPWSbIx8E7gsqpaUFW/AS7jpTsQkiRpKYb7mv1GVXV/M/0AsFEzvQlwb1u7eU1ssLgkSerQiA3Qq6oCqlvrS3JkkllJZs2fP79bq5UkadQb7mL/YHN6nubvQ038PmDTtnYTm9hg8ZeoqulVNa2qpk2YMKHriUuSNFoNd7GfCQyMqD8EuLAt/uFmVP5OwGPN6f5LgT2SrNsMzNujiUmSpA717Nn4Sc4BdgU2SDKP1qj6LwPnJTkc+DXw/qb5xcBewFzgKeAwgKpakOSLwM+adidW1eKD/iRJ0lL0rNhX1QcHWbT7EtoWcNQg65kBzOhiapIkrVR8gp4kSX3OYi9JUp+z2EuS1Ocs9pIk9TmLvSRJfc5iL0lSn7PYS5LU5yz2kiT1OYu9JEl9zmIvSVKfs9hLktTnLPaSJPU5i70kSX3OYi9JUp+z2EuS1Ocs9pIk9TmLvSRJfc5iL0lSnxs70glIi7vnxDeMdAp9b7Mv3DLSKUgaRh7ZS5LU5yz2kiT1OYu9JEl9bkSKfZK7k9yS5OYks5rYekkuS/LL5u+6TTxJvp5kbpLZSXYYiZwlSRqtRvLI/g+rampVTWvmPwdcUVVTgCuaeYB3AVOaz5HA6cOeqSRJo9jL6TT+fsBZzfRZwP5t8bOr5TpgnSQbj0B+kiSNSiNV7Av4YZIbkhzZxDaqqvub6QeAjZrpTYB72/rOa2KSJKkDI3Wf/S5VdV+SDYHLkvy8fWFVVZJalhU2Ow1HAmy22Wbdy1SSpFFuRI7sq+q+5u9DwAXAjsCDA6fnm78PNc3vAzZt6z6xiS2+zulVNa2qpk2YMKGX6UuSNKoMe7FPsnqSNQemgT2AW4GZwCFNs0OAC5vpmcCHm1H5OwGPtZ3ulyRJQxiJ0/gbARckGdj+v1XVJUl+BpyX5HDg18D7m/YXA3sBc4GngMOGP2VJkkavYS/2VXUnsN0S4o8Auy8hXsBRw5CaJEl96eV0650kSeoBi70kSX3OYi9JUp+z2EuS1Ocs9pIk9TmLvSRJfc5iL0lSn7PYS5LU5yz2kiT1OYu9JEl9zmIvSVKfs9hLktTnLPaSJPU5i70kSX3OYi9JUp+z2EuS1Ocs9pIk9TmLvSRJfc5iL0lSn7PYS5LU5yz2kiT1OYu9JEl9btQU+yR7JvlFkrlJPjfS+UiSNFqMimKfZAzwDeBdwFbAB5NsNbJZSZI0OoyKYg/sCMytqjur6jngXGC/Ec5JkqRRYbQU+02Ae9vm5zUxSZI0hLEjnUC3JDkSOLKZfTLJL0YyHy2/V8MGwMMjnUdfOy4jnYFehvy3N0x69+/v1YMtGC3F/j5g07b5iU1skaqaDkwfzqTUG0lmVdW0kc5DWtn4b69/jZbT+D8DpiSZnGRV4EBg5gjnJEnSqDAqjuyr6oUkRwOXAmOAGVV12winJUnSqDAqij1AVV0MXDzSeWhYeDlGGhn+2+tTqaqRzkGSJPXQaLlmL0mSlpPFXiMqyR8m+WWSDZv5SUlubVv+ziRzkqw3cllK/StJJfl22/zYJPOTXDSSeam7LPYaUVV1FfBl4PtJxrUvax6J/E/A/lW1YCTyk1YCvwW2SbJaM/8OFru1WaOfxV4jrqrOBH4MzBiIJdkAuAA4vKruGKncpJXExcDezfQHgXNGMBf1gMVeLxfn0Xp+wl8Bq9Iq9GOBn4xkUtJK4lzgwCTjgW2Bn45wPuoyi71GXJIAXwP2Bd4ITKH1IKWZwCdHLjNp5VBVs4FJtI7qvcW5D42a++zV1z4E3FdV/5VkHnAh8BlgDeDGJGdX1f+MaIZS/5sJnALsCqw/sqmo2yz2GlFJ1gC+AOzWhB4DnqyqhcBjSU4G/gY4eIRSlFYWM4BHq+qWJLuOcC7qMk/ja6T9FfCvVXXvIMtnAFsm+V/DmJO00qmqeVX19ZHOQ73hE/QkSepzHtlLktTnLPaSJPU5i70kSX3OYi9JUp+z2EuS1Oe8z15Sx5IsBG5pC60HzKyqo0coJUkdsNhLWhZPV9XUgZkkhwLTRiwbSR3xNL6krkgyKcmVSWYnuSLJZm3LvpXkriQ3J3mueauhpGFisZfULacBZ1XVtsB3gPansY0BPt2cFfA9B9Iws9hL6pa3AP/WTP8rsEvbstWAZ4Y9I0mAxV7S8HgVHtFLI8ZiL6lb/g9wYDN9EPAjgCRb0HpX+pyRSUuSo/EldcvHgX9J8hlgPnBYklcBFwJHVtVzI5qdtBLzrXeSJPU5T+NLktTnLPaSJPU5i70kSX3OYi9JUp+z2EuS1Ocs9pIk9TmLvSRJfc5iL0lSn/t/k0/S/YpghFwAAAAASUVORK5CYII=\n",
      "text/plain": [
       "<Figure size 576x360 with 1 Axes>"
      ]
     },
     "metadata": {
      "needs_background": "light"
     },
     "output_type": "display_data"
    }
   ],
   "source": [
    "# Визуализация оттока по городам\n",
    "plt.figure(figsize=(12, 6))\n",
    "sns.countplot(data=df, x='city', hue='churn')\n",
    "plt.title('Отток клиентов по городам')\n",
    "plt.xlabel('Город')\n",
    "plt.ylabel('Количество клиентов')\n",
    "plt.legend(title='Churn', labels=['Остались', 'Ушли'])\n",
    "plt.show()\n",
    "\n",
    "# Визуализация оттока по полу\n",
    "plt.figure(figsize=(8, 5))\n",
    "sns.countplot(data=df, x='gender', hue='churn')\n",
    "plt.title('Отток клиентов по полу')\n",
    "plt.xlabel('Пол')\n",
    "plt.ylabel('Количество клиентов')\n",
    "plt.legend(title='Churn', labels=['Остались', 'Ушли'])\n",
    "plt.show()\n"
   ]
  },
  {
   "cell_type": "markdown",
   "metadata": {},
   "source": [
    "\n",
    "<div class=\"alert alert-danger\">\n",
    "<b>Комментарий ревьюера:</b>Такие графики не совсем информативны. В данном случае лучше сравнить доли отточных клиентов по городам/гендеру.</div>"
   ]
  },
  {
   "cell_type": "markdown",
   "metadata": {},
   "source": [
    "<div class=\"alert alert-info\"> <b>Комментарий студента:</b> Ниже исправленный вариант.</div>"
   ]
  },
  {
   "cell_type": "code",
   "execution_count": 27,
   "metadata": {},
   "outputs": [
    {
     "data": {
      "image/png": "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\n",
      "text/plain": [
       "<Figure size 864x432 with 1 Axes>"
      ]
     },
     "metadata": {
      "needs_background": "light"
     },
     "output_type": "display_data"
    }
   ],
   "source": [
    "# расчет доли оттока по городам\n",
    "city_churn = df.groupby('city')['churn'].value_counts(normalize=True).unstack()\n",
    "city_churn['churn_rate'] = city_churn[1]  # ушедшие\n",
    "\n",
    "# визуализация доли оттока по городам\n",
    "plt.figure(figsize=(12, 6))\n",
    "city_churn['churn_rate'].plot(kind='bar')\n",
    "plt.title('Доля отточных клиентов по городам')\n",
    "plt.xlabel('Город')\n",
    "plt.ylabel('Доля отточных клиентов')\n",
    "plt.xticks(rotation=45)\n",
    "plt.show()"
   ]
  },
  {
   "cell_type": "code",
   "execution_count": 28,
   "metadata": {},
   "outputs": [
    {
     "data": {
      "image/png": "iVBORw0KGgoAAAANSUhEUgAAAfgAAAFNCAYAAADsL325AAAAOXRFWHRTb2Z0d2FyZQBNYXRwbG90bGliIHZlcnNpb24zLjMuNCwgaHR0cHM6Ly9tYXRwbG90bGliLm9yZy8QVMy6AAAACXBIWXMAAAsTAAALEwEAmpwYAAAcAElEQVR4nO3de7QlZX3m8e9DI3gBBaQ109waBJfxgpA0mIwOQQXFRMAoIgYQjMpyjaiRkRGjomDEGPEy8TIKYyuiggbEtLEVAZXRqEAjBgJroc1NusGhob1ABLHhN3/sOnF7PJfqc3b1OV39/ay116mqty6/fXqffna99e7aqSokSVK/bDbXBUiSpNEz4CVJ6iEDXpKkHjLgJUnqIQNekqQeMuAlSeohA16SpB4y4DXvJTk2yQNJ7mke9yX5zlzXJUnzmQGvjcX3qmqrqtoKePVcFyNJ850Br43BQ4AHJmtMslmStya5JckdST6d5FHj1qkk/9H0APwmyd8NbfvRJGuGege+NcWxXpVkZZK1SZYlWdQs/3Kz/X80xxrrbfhYkg8PzQ/X8dVm20XNvtY2+37V0PG+leSVE803PRvfGVffqiT7N9PvSPKZCZ7DAUlubqYf1xz3j4ZqWTO2jwm2vTnJAc30vkluT7LvUPv43pZKsvsEtW+W5Jokq4a2XZTk/Ob4NyV53VDb7zyXJJs3+16c5CVDx3ug+Te8J8k9zbpbJvlgktuaxweTbNm07Z/kwWb9u5NcnuTJkzz34XWHj3fs0HOa8nU4yn1N9JpOskXz7/mUofUek+RXSRZOVIv6y4DXxuChwK+naD+2eTwT2A3YCvjwWGOSsdf5nk0PwGeHtn0O8JdDbcdPdpAkzwLeDRwO/BfgFuBcgKo6uNn+Sc3q2zQ9Dq+uquOHeh8AntrMP6+ZPxdYBSwCDgNOa44F8CAd/p1W1Q3Am4DPJHk48EngrKr61lTbJflD4ALgqKq6fKhpM+C7457vRI4Bth3a32bAl4F/A3YAng38TZLntngOnx863reB8b/vtwB/AuwFPBXYF3jr0C5ua9bdpjn+O6Y43G1j+262+d5Q27FM8Toc5b4me01X1f0MXk9HDe3rpcAlVbVmilrUQwa8NgbbA3dN0X4k8P6qurGq7gHeDByRZPOmfYvm5/2TbB9gQYs6jgSWVtUPqurXzXH+NMniFttOfOBkJ+DpwJuq6r6q+iHwf4CXNav8BHjW0HMZuao6E1gJXMbgjctbptlkF+DrwFur6pJxbVsw+e8ZgCQPBU4G3jm0eB9gYVWdWlX3V9WNwJnAEa2fyOSOBE6tqjuakDsFOHqC9TZj8DqY6rU23XGmeh2Ocl9TvabPAl6aJM380cDZM6hBGzkDXhuDXRmcLU9m0bj2W4DNgcc289s1P382wbZfZ/Cf34+T/BL4x7bHaf7jvYvBGedMLQLWVtXdQ8tuGdrnuxg8/7VJfg48Y9z2f5Lk52OPZn/DDm/a7kxyUZLdJqnjTODJwIeaNy9T+RCDHocDJ2jbjol/z8NeD3wNuH5o2S7AonHP5W/57b/h8HP5OXDnNMcYNtHrY/j3tKjZ593A8xg8v5mY7nU4yn1N+pquqsuAXwH7J3kCsDuwbAY1aCNnwGtjsAS4aor22xgExJidgXXA/2vmHw/c3gTy76iqB4EvAGuAnYDXjV9nsuMkeQTwaGD19E9hyn1ul2TrcfWvbur7cVU9raoeWVXbAOM/PfD9qtpm7NHsb9gXmuWLGPQGnDa+gCRbAR8EPgG8I8l249cZ570MutD3TXLIuLbHAz+aYtvtGFwGOWXc8luBm4afS1VtXVV/Pv65NM9n+2lqHDbR62P493Rbs8+HAScB56/Hvqc7zvDrcJT7mvQ13TiLQTf90cB5VXXfDGrQRs6A17yW5CUM/qO7eIrVzgHekGTXJqxOAz5fVeuSbM/gP+0vTbL/zRl0ib+hqn4xTTnnAC9PslczSOs04LKqunl9ntOwqroV+C7w7iQPTbIn8Arg9wbHzUZzbfYeJv6b/1/Aiqp6JfAV4GPT7O7bVfWrps6PJtkGIMnTgRcwye+68TfAJ6rqp+OWXw7cneRNSR6WZEGSJyfZZ5pa2jgHeGuShc3r4WQm+P3W4LuzH2D93jyMP86Er8NR7mu613TjMwzGlhwFfHoGx1cPdHZdT5qtJEcy+I/qQeCW315SZHPgIUmuraonAUsZnKH+XwYD8i4EXtusey6Ds+GTJjnM/wRurqppz9qq6uIkb2Nwhrctg2AexTXilzII1dsYdLm+vaqmekOzPv4yg5HqAW5kEMo7jzUmORQ4CBgbdX0C8MMkR1bVZ8fvbFhVXZrkS8AHkryXwVnjG8cNuhtvAXD6BPt6IMnzgfcBNwFbMujCf+v4dWfg74BHAlc38//ULBuzKIMR98Xg0sNfz/A4U70OR7mv6V7TVNWtSX7AoHv+2zOsQRu5DN60SvNP85Gh/avq2AnaFgPfqqrFG7YqaeOQZCmDyw+jeJOkjZBn8JLUM80b4BcCe89xKZpDnsFr3kqyANisqn4zQVuALVqM+JY2KUneCbwBeHdVvWuu69HcMeAlSeohR9FLktRDBrwkST3Um0F222+/fS1evHiuy5AkaYO58sor76yqCb9IqDcBv3jxYlasWDHXZUiStMEkmfQ23nbRS5LUQwa8JEk9ZMBLktRDBrwkST1kwEuS1EMGvCRJPWTAS5LUQwa8JEk9ZMBLktRDBrwkST1kwEuS1EO9uRe9JHXic5nrCjQbf1VzXcGc8QxekqQeMuAlSeohA16SpB4y4CVJ6iEDXpKkHjLgJUnqIQNekqQeMuAlSeohA16SpB4y4CVJ6iEDXpKkHjLgJUnqIQNekqQeMuAlSeohA16SpB4y4CVJ6iEDXpKkHjLgJUnqIQNekqQeMuAlSeohA16SpB4y4CVJ6iEDXpKkHjLgJUnqIQNekqQeMuAlSeohA16SpB4y4CVJ6iEDXpKkHjLgJUnqIQNekqQeMuAlSeohA16SpB4y4CVJ6iEDXpKkHjLgJUnqoU4DPslBSa5PsjLJSRO0n5DkuiRXJ7kkyS5Dbcck+XHzOKbLOiVJ6pvOAj7JAuAjwPOAJwIvTfLEcatdBSypqj2B84B/aLbdDng78DRgX+DtSbbtqlZJkvqmyzP4fYGVVXVjVd0PnAscOrxCVX2zqn7VzH4f2LGZfi5wUVWtraqfARcBB3VYqyRJvdJlwO8A3Do0v6pZNplXAF+d4baSJGnI5nNdAECSo4AlwJ+t53bHAccB7Lzzzh1UJknSxqnLM/jVwE5D8zs2y35HkgOAtwCHVNWv12fbqjqjqpZU1ZKFCxeOrHBJkjZ2XQb8FcAeSXZNsgVwBLBseIUkewMfZxDudww1XQg8J8m2zeC65zTLJElSC5110VfVuiTHMwjmBcDSqro2yanAiqpaBrwX2Ar4pyQAP6mqQ6pqbZJ3MniTAHBqVa3tqlZJkvqm02vwVbUcWD5u2clD0wdMse1SYGl31UmS1F/eyU6SpB4y4CVJ6iEDXpKkHjLgJUnqIQNekqQeMuAlSeohA16SpB4y4CVJ6iEDXpKkHjLgJUnqIQNekqQeMuAlSeqh9Qr4JFsk2bqrYiRJ0mhMG/BJ3pBkRZKXAT8CfpzkxO5LkyRJM9Xm62JfAxwBfANYDNwHrGDwXe6SJGkeahPwv6yqFUluqKq1AEnu67guSZI0C20Cfrcky4Bdm58Bdu22LEmSNBttAv7Q5uf7hpad3kEtkiRpRKYN+Kq6NMljgX2aRZdX1R3dliVJkmajzSj6w4HLgRcDhwOXJTms68IkSdLMtemifwuwz9hZe5KFwMXAeV0WJkmSZq7NjW42G9clf1fL7SRJ0hxpcwb/tSQXAuc08y8BlndXkiRJmq02g+xOTPJC4BnNojOq6oJuy5IkSbMxbcAneUdVvQP4YvflSJKkUWhzLf2QzquQJEkj1eYa/GOSnDB+YVW9v4N6JEnSCLQJ+AXAVgxuUStJkjYCbQL+p1V1aueVSJKkkWlzDf6izquQJEkj1eYM/sNJdh6/sKp+0kE9kiRpBNoE/Fean7sBNzC4Fl/Anl0VJUmSZqfNjW6eApDkqqrau/uSJEnSbK3PPeWrsyokSdJItbmT3QubyW2Gpqkq72wnSdI81eYa/MHNz0uHpgtvXStJ0rzV5hr8yzdEIZIkaXSmvQaf5PFJLkny7838nkne2n1pkiRpptoMsjsTeDPwG4Cquho4osuiJEnS7LQJ+IdX1eXjlq3rohhJkjQabQL+ziSPo/mYXJLDgNs7rUqSJM1Km1H0rwHOAJ6QZDVwE3BUp1VJkqRZaTOK/kbggCSPADarqru7L0uSJM1GmxvdnDBuHoCqen9HNUmSpFlq00X/NuAW4IKOa5EkSSPSJuAfx+Bjcs8GTq2qi7stSZIkzda0o+iram1Vncjgs+8vTvK1JPu02XmSg5Jcn2RlkpMmaN8vyQ+SrGtG5w+3PZDkh81jWdsnJEmS2l2D/zK//Sa5ADsD3wcWTLPdAuAjwIHAKuCKJMuq6rqh1X4CHAu8cYJd3FtVe01XnyRJ+n1tuuhPn+G+9wVWNqPwSXIucCjwnwFfVTc3bQ/O8BiSJGkCbQL+mhnuewfg1qH5VcDT1mP7hyZZweCueX9fVV8av0KS44DjAHbeeecZlilJUv+0CfjbgdUMuufHFLBbJxX91i5VtTrJbsA3klxTVTcMr1BVZzC4CQ9LliypiXYiSdKmqE3AX1dVe89g36uBnYbmd2yWtVJVq5ufNyb5FrA3cMOUG0mSJKDdvegfleTQZkT8nknavCkAuALYI8muSbZgMAq/1Wj4JNsm2bKZ3h54OkPX7iVJ0tTahPWlwIuAhwGLgF2SvKqqvjrVRlW1LsnxwIUMRtwvraprk5wKrKiqZc3H7S4AtgUOTnJKVT0J+EPg483gu80YXIM34CVJaqnNvehfPjyfZHfgS8CUAd9suxxYPm7ZyUPTVzDouh+/3XeBp0y3f0mSNLE2XfS/o6pWMvhsuyRJmqemDfgkJ4+bPxD4emcVSZKkWWtzBv8HSf53ku2TnAWcyOCGNZIkaZ5qcy/6/w7cxuCmNd+rqueM3Z1OkiTNT23uRf9C4FrgYuCoJHcAVNUXO65NkiTNUJuPyR3c/LyzeRzM4E52BrwkSfPUen9MTpIkzX/r/TE5SZI0/xnwkiT1kAEvSVIPtbnRzdlJHjU0v0uSS7otS5IkzUabM/jvAJcl+fMkrwIuAj7YaVWSJGlW2oyi/3iSa4FvMviY3N5V9dPOK5MkSTPWpov+aGAp8DLgU8DyJE/tuC5JkjQLbW508yLgGVV1B3BOkguAs4C9uixMkiTNXJsu+heMm788yb6dVSRJkmatzb3ol07S9NcjrkWSJI1Imy76rwxNV/MzHdSiKcTf+Eatavp1JGmU2nTRnw+Q5GnA+4GHAG/puC5JkjQLbc7gx5wOnAysBc5k8Hl4SZI0D61PwD+iqi4BSPKrjuqRJEkj0GaQ3QnN5GOa6QA7dFqVJEmalTZn8Fs3P88cmv50N+VIkqRRaDPI7pQNUYgkSRqdNl303+S3H4/7T1X1rE4qkiRJs9ami/6NDK67fwY4sttyJEnSKLTpor8SIMm9Y9OSJGl+a/N98GO8F5ckSRuJNtfg72YQ7g9P8ksG3fVVVY/sujhJkjQzbbrot55uHUmSNL+0OYP/o4mWV9UPRl+OJEkahTaj6N83NP3HwJUMuuz9mJwkSfNUmy76Z45NJ7lqeF6SJM1PrUfRJ9mGwVfFSpKkea7NNfhrmsk/AN7ebTmSJGkU2lyDfz7wILCmqu7ruB5JkjQCba7B35LkEGC/JACXVtWXO69MkiTN2LTX4JO8G3g9cF3zeF2S07ouTJIkzVybLvq/APaqqgcBkpwFXAX8bZeFSZKkmWs7in6boelHdVCHJEkaoTZn8O8Grmq+Fz7AfsBJnVYlSZJmpc0gu3OSfAvYp1n0pqr6aadVSZKkWWnzOfh/qarnA8s2QD2SJGkE2lyDX9R5FZIkaaTaXIPfLcnvnb1X1SEd1CNJkkagzRn8GgbfKDf+Ma0kByW5PsnKJL83MC/Jfkl+kGRdksPGtR2T5MfN45g2x5MkSQNtzuDvqapL13fHSRYAHwEOBFYBVyRZVlXXDa32E+BY4I3jtt2OwX3vlzD4atorm21/tr51SJK0KWpzBj/Tu9btC6ysqhur6n7gXODQ4RWq6uaquprBve6HPRe4qKrWNqF+EXDQDOuQJGmT0ybg3zzDfe8A3Do0v6pZ1vW2kiRt8lp/H/x8lOS4JCuSrFizZs1clyNJ0rzRJuCfkOTqocc1Sa5usd1qYKeh+R2bZW202raqzqiqJVW1ZOHChS13LUlS/7UZZHcTcPAM9n0FsEeSXRmE8xHAX7Xc9kLgtCTbNvPPYeaXCiRJ2uS0Cfj7q+qW9d1xVa1LcjyDsF4ALK2qa5OcCqyoqmVJ9gEuALYFDk5ySlU9qarWJnkngzcJAKdW1dr1rUGSpE1Vm4B/7Ux3XlXLgeXjlp08NH0Fg+73ibZdCiyd6bElSdqUtbkGf02SD4wNZkvyviR+ZawkSfNYm4BfCvwSOLx5/BL4ZJdFSZKk2WnTRf+4qnrR0PwpSX7YUT2SJGkE2pzB35vkGWMzSZ4O3NtdSZIkabbanMG/Gvj00HX3nwF++YskSfPYtAFfVf8GPDXJI5v5X3ZelSRJmpU2Z/CAwS5J0sZko74XvSRJmpgBL0lSD03bRZ/kZRMtr6pPj74cSZI0Cm3O4E8HlgD7AO9tfi7psihJkjQ7bQbZra6q1wEkOQB4U1X9qtuyJEnSbLQ5g39Ikr2T/BnwUOCiJE/ouC5JkjQLbc7g3wScCawDjgZuAz4F7NddWZIkaTba3OjmK8BXhpc1XfWSJGmeajOK/oRJmt4/4lokSdKItLkGfyKw9QQPSZI0T7W5Bn97VZ3SeSWSJGlk2gT8bkm+BNzHYIDdv1bV+Z1WJUmSZqVNwB8KLAAeBiwCXplkv6p6faeVSZKkGWsziv7S4fkkSwFvUytJ0jzW6utikzyWwS1qAS6vqiO7K0mSJM3WtKPokxwOXA68GDgcuCzJYV0XJkmSZq7NGfxbgH2q6g6AJAuBi4HzuixMkiTNXJvPwW82Fu6Nu1puJ0mS5kibM/ivJbkQOKeZfwnw1e5KkiRJs9VmFP2JSV4IPKNZdEZVXdBtWZIkaTZajaKvqi8CXxybT/J8YLtm9uyqqg5qkyRJMzRpwCc5eYrtXg18fGxVwICXJGkemeoM/jjgA5O0PeD96SVJmr+mCvg1VfW+iRqSHNVRPZIkaQSmCviHJNkRuB+4u6ruHWqzS16SpHlsukF2y4EtgK2TbAX8CPgesE3HdUmSpFmYNOCr6snD80k2A3Zj8Dn4xUle1jQ5il6SpHmm1cfkAKrqQWAl8K4kdwG7MuiqdxS9JEnzTOuAH1ZVHxt1IZIkaXS8p7wkST1kwEuS1EMGvCRJPWTAS5LUQwa8JEk9ZMBLktRDBrwkST1kwEuS1EMGvCRJPWTAS5LUQ50GfJKDklyfZGWSkyZo3zLJ55v2y5IsbpYvTnJvkh82D2+NK0nSepjRvejbSLIA+AhwILAKuCLJsqq6bmi1VwA/q6rdkxwBvIfBt9UB3FBVe3VVnyRJfdblGfy+wMqqurGq7gfOBQ4dt86hwFnN9HnAs5Okw5okSdokdBnwOwC3Ds2vapZNuE5VrQN+ATy6ads1yVVJLk3y3yY6QJLjkqxIsmLNmjWjrV6SpI3YfB1kdzuwc1XtDZwAfC7JI8evVFVnVNWSqlqycOHCDV6kJEnzVZcBvxrYaWh+x2bZhOsk2Rx4FHBXVf26qu4CqKorgRuAx3dYqyRJvdJlwF8B7JFk1yRbAEcAy8atsww4ppk+DPhGVVWShc0gPZLsBuwB3NhhrZIk9Upno+iral2S44ELgQXA0qq6NsmpwIqqWgZ8Ajg7yUpgLYM3AQD7Aacm+Q3wIPDqqlrbVa2SJPVNZwEPUFXLgeXjlp08NH0f8OIJtjsfOL/L2iRJ6rP5OshOkiTNggEvSVIPGfCSJPWQAS9JUg8Z8JIk9ZABL0lSDxnwkiT1kAEvSVIPGfCSJPWQAS9JUg8Z8JIk9ZABL0lSDxnwkiT1kAEvSVIPGfCSJPWQAS9JUg8Z8JIk9ZABL0lSDxnwkiT1kAEvSVIPGfCSJPWQAS9JUg8Z8JIk9ZABL0lSDxnwkiT1kAEvSVIPGfCSJPWQAS9JUg8Z8JIk9ZABL0lSDxnwkiT1kAEvSVIPGfCSJPWQAS9JUg8Z8JIk9ZABL0lSDxnwkiT1kAEvSVIPGfCSJPWQAS9JUg8Z8JIk9ZABL0lSDxnwkiT1kAEvSVIPGfCSJPVQpwGf5KAk1ydZmeSkCdq3TPL5pv2yJIuH2t7cLL8+yXO7rFOSpL7pLOCTLAA+AjwPeCLw0iRPHLfaK4CfVdXuwAeA9zTbPhE4AngScBDw0WZ/kiSphS7P4PcFVlbVjVV1P3AucOi4dQ4FzmqmzwOenSTN8nOr6tdVdROwstmfJElqocuA3wG4dWh+VbNswnWqah3wC+DRLbeVJEmT2HyuC5iNJMcBxzWz9yS5fi7r0axsD9w510V0JZnrCqRJ9fpvjyN7/8e3y2QNXQb8amCnofkdm2UTrbMqyebAo4C7Wm5LVZ0BnDHCmjVHkqyoqiVzXYe0qfFvr7+67KK/Atgjya5JtmAwaG7ZuHWWAcc004cB36iqapYf0Yyy3xXYA7i8w1olSeqVzs7gq2pdkuOBC4EFwNKqujbJqcCKqloGfAI4O8lKYC2DNwE0630BuA5YB7ymqh7oqlZJkvomgxNmaW4lOa655CJpA/Jvr78MeEmSeshb1UqS1EMGvDa4JM9M8uMkj2nmFyf596H25ya5Lsl2c1el1F9JKslnhuY3T7Imyb/MZV0aLQNeG1xVfRP4e+BLSbYcbmtuU/wx4AVVtXYu6pM2Af8BPDnJw5r5A5ngo8jauBnwmhNV9QngO8DSsWVJtgcuAF5RVT+aq9qkTcRy4C+a6ZcC58xhLeqAAa+59AUGH418G7AFg3DfHPjXuSxK2kScy+B+Iw8F9gQum+N6NGIGvOZE86VCHwQOAf6Ywc2MrmBwk6M3zF1l0qahqq4GFjM4e18+t9WoCxv1vei1UTsKWF1VX0myCvhn4ERgK+AHST5dVbfNaYVS/y0DTgf2Z/BFX+oRA14bXJKtgJOBZzWLfgHc09yt8BdJ3g28Bzh6jkqUNhVLgZ9X1TVJ9p/jWjRidtFrLrwNOLuqbp2kfSnwhCT/dQPWJG1yqmpVVf3jXNehbngnO0mSesgzeEmSesiAlySphwx4SZJ6yICXJKmHDHhJknrIz8FLmlKSB4BrhhZtByyrquPnqCRJLRjwkqZzb1XtNTaT5FhgyZxVI6kVu+glzViSxUm+keTqJJck2Xmo7VNJbkrywyT3N98WKGkDMeAlzcaHgLOqak/gs8DwXdEWAP+jOfv3ewWkDcyAlzQbfwp8rpk+G3jGUNvDgPs2eEWSAANeUncW4Zm7NGcMeEmz8V3giGb6SODbAEl2Z/Bd49fNTVmSHEUvaTZeC3wyyYnAGuDlSRYB/wwcV1X3z2l10ibMb5OTJKmH7KKXJKmHDHhJknrIgJckqYcMeEmSesiAlySphwx4SZJ6yICXJKmHDHhJknro/wPe6sBErXOsUgAAAABJRU5ErkJggg==\n",
      "text/plain": [
       "<Figure size 576x360 with 1 Axes>"
      ]
     },
     "metadata": {
      "needs_background": "light"
     },
     "output_type": "display_data"
    }
   ],
   "source": [
    "# расчет доли оттока по полу\n",
    "gender_churn = df.groupby('gender')['churn'].value_counts(normalize=True).unstack()\n",
    "gender_churn['churn_rate'] = gender_churn[1]  # ушедшие\n",
    "\n",
    "# визуализация доли оттока по полу\n",
    "plt.figure(figsize=(8, 5))\n",
    "gender_churn['churn_rate'].plot(kind='bar', color=['blue', 'orange'])\n",
    "plt.title('Доля отточных клиентов по полу')\n",
    "plt.xlabel('Пол')\n",
    "plt.ylabel('Доля отточных клиентов')\n",
    "plt.xticks(rotation=0)\n",
    "plt.show()"
   ]
  },
  {
   "cell_type": "markdown",
   "metadata": {},
   "source": [
    "\n",
    "<div class=\"alert alert-warning\">\n",
    "<b>Комментарий ревьюера v2.0:</b>☀️Хорошо, только непонятно, для чего здесь легенда.</div>"
   ]
  },
  {
   "cell_type": "markdown",
   "metadata": {},
   "source": [
    "Вывод: судя по графикам, города Ростов, Ярославль и мужчины являются самыми отточными."
   ]
  },
  {
   "cell_type": "markdown",
   "metadata": {},
   "source": [
    "Посмотрим, по каким признакам распределяются клиенты, склонные уходить из банка"
   ]
  },
  {
   "cell_type": "code",
   "execution_count": 29,
   "metadata": {},
   "outputs": [
    {
     "data": {
      "image/png": "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\n",
      "text/plain": [
       "<Figure size 1296x864 with 6 Axes>"
      ]
     },
     "metadata": {},
     "output_type": "display_data"
    },
    {
     "data": {
      "image/png": "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\n",
      "text/plain": [
       "<Figure size 1296x864 with 2 Axes>"
      ]
     },
     "metadata": {},
     "output_type": "display_data"
    }
   ],
   "source": [
    "# Числовые признаки\n",
    "numerical_features = ['score', 'age', 'equity', 'balance', 'products', 'est_salary']\n",
    "\n",
    "# Категориальные признаки\n",
    "categorical_features = ['credit_card', 'last_activity']\n",
    "\n",
    "# Настройка стиля графиков\n",
    "sns.set(style=\"whitegrid\")\n",
    "\n",
    "# Графики для числовых признаков\n",
    "plt.figure(figsize=(18, 12))\n",
    "for i, feature in enumerate(numerical_features, 1):\n",
    "    plt.subplot(2, 3, i)\n",
    "    sns.histplot(data=df, x=feature, hue='churn', kde=True, common_norm=False, stat='density', palette='Set1')\n",
    "    plt.title(f'Распределение {feature} по оттоку')\n",
    "    plt.xlabel(feature)\n",
    "    plt.ylabel('Плотность')\n",
    "plt.tight_layout()\n",
    "plt.show()\n",
    "\n",
    "# Графики для категориальных признаков\n",
    "plt.figure(figsize=(18, 12))\n",
    "for i, feature in enumerate(categorical_features, 1):\n",
    "    plt.subplot(2, 2, i)\n",
    "    sns.countplot(data=df, x=feature, hue='churn', palette='Set2')\n",
    "    plt.title(f'Распределение {feature} по оттоку')\n",
    "    plt.xlabel(feature)\n",
    "    plt.ylabel('Количество клиентов')\n",
    "plt.tight_layout()\n",
    "plt.show()"
   ]
  },
  {
   "cell_type": "markdown",
   "metadata": {},
   "source": [
    "Портрет клиента, склонного к оттоку:\n",
    "1. Кредитный скоринг: Высокий (830–900).\n",
    "2. Возраст: 25–35 и 50–60 лет.\n",
    "3. Баланс: До 800 тыс. рублей.\n",
    "4. Продукты: 2 продукта.\n",
    "5. Город: Ярославль и Ростов.\n",
    "6. Кредитная карта: Есть.\n",
    "7. Активность: Активные."
   ]
  },
  {
   "cell_type": "markdown",
   "metadata": {},
   "source": [
    "Портрет клиента, несклонного к оттоку:\n",
    "1. Кредитный скоринг: Ниже (700–820).\n",
    "2. Возраст: 35–50 лет.\n",
    "3. Баланс: Выше 800 тыс. рублей.\n",
    "4. Продукты: 3 и более.\n",
    "5. Город: Рыбинск.\n",
    "6. Кредитная карта: Нет.\n",
    "7. Активность: Менее активные."
   ]
  },
  {
   "cell_type": "markdown",
   "metadata": {},
   "source": [
    "\n",
    "<div class=\"alert alert-success\">\n",
    "<b>Комментарий ревьюера:</b>☀️Согласна с тобой.</div>"
   ]
  },
  {
   "cell_type": "markdown",
   "metadata": {},
   "source": [
    "Сравним портреты отточных и неотточных клиентов"
   ]
  },
  {
   "cell_type": "code",
   "execution_count": 30,
   "metadata": {},
   "outputs": [
    {
     "data": {
      "image/png": "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\n",
      "text/plain": [
       "<Figure size 1080x576 with 6 Axes>"
      ]
     },
     "metadata": {},
     "output_type": "display_data"
    },
    {
     "data": {
      "image/png": "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\n",
      "text/plain": [
       "<Figure size 1080x288 with 2 Axes>"
      ]
     },
     "metadata": {},
     "output_type": "display_data"
    }
   ],
   "source": [
    "# сводный график для числовых признаков\n",
    "num_cols = 3  # количество столбцов\n",
    "num_rows = (len(numerical_features) + num_cols - 1) // num_cols  # количество строк\n",
    "\n",
    "plt.figure(figsize=(15, num_rows * 4)) \n",
    "for i, feature in enumerate(numerical_features): \n",
    "    plt.subplot(num_rows, num_cols, i + 1)  # Индексация с 1\n",
    "    sns.boxplot(data=df, x='churn', y=feature, palette='Set3') \n",
    "    plt.title(f'{feature} по оттоку') \n",
    "    plt.xlabel('Отток (1 - да, 0 - нет)') \n",
    "    plt.ylabel(feature) \n",
    "\n",
    "plt.tight_layout() \n",
    "plt.show() \n",
    "\n",
    "# сводный график для категориальных признаков\n",
    "cat_cols = 3  # количество столбцов для категориальных признаков\n",
    "cat_rows = (len(categorical_features) + cat_cols - 1) // cat_cols  # количество строк\n",
    "\n",
    "plt.figure(figsize=(15, cat_rows * 4)) \n",
    "for i, feature in enumerate(categorical_features): \n",
    "    plt.subplot(cat_rows, cat_cols, i + 1)  # Индексация с 1\n",
    "    sns.countplot(data=df, x=feature, hue='churn', palette='Set2') \n",
    "    plt.title(f'{feature} по оттоку') \n",
    "    plt.xlabel(feature) \n",
    "    plt.ylabel('Количество клиентов') \n",
    "\n",
    "plt.tight_layout() \n",
    "plt.show()"
   ]
  },
  {
   "cell_type": "markdown",
   "metadata": {},
   "source": [
    "Самые значимые признаки отточности:\n",
    "1. Баллы кредитного скоринга (`score`): 830-900\n",
    "2. Количество баллов собственности (`equity`): 3-5\n",
    "3. Количество продуктов банка (`products`): 2-3\n",
    "4. Активность клиента (`last_activity`): более активные"
   ]
  },
  {
   "cell_type": "code",
   "execution_count": 31,
   "metadata": {},
   "outputs": [
    {
     "data": {
      "image/png": "iVBORw0KGgoAAAANSUhEUgAAAiIAAAHlCAYAAADIsZe7AAAAOXRFWHRTb2Z0d2FyZQBNYXRwbG90bGliIHZlcnNpb24zLjMuNCwgaHR0cHM6Ly9tYXRwbG90bGliLm9yZy8QVMy6AAAACXBIWXMAAAsTAAALEwEAmpwYAACxEElEQVR4nOzdd3xT1fvA8U+SZnUXKKULWgqUWUGQoew9BQUVFURQRJTxdf3cILi+uBFEEBeIX0VQWQrKEBxAsbIpGyotXUDpTtKs3x+FQEiRFJs2lOf9evVFcu/J5Tm5N/c+OefcE4XdbrcjhBBCCFEFlFUdgBBCCCGuX5KICCGEEKLKSCIihBBCiCojiYgQQgghqowkIkIIIYSoMpKICCGEEKLKSCIihBDCLW+//Taff/75FcuNHDmSJUuWeD4g4PTp0/Tr14+SkpJK+f9Exau2iUj37t1p3rw5OTk5TsuHDBlCfHw8aWlpVRSZ8Ebx8fG0bNmSVq1aOf6aN2/Ok08+WdWhCeEVcnJyWLZsGcOHD6/qUJzUqlWLdu3asXjx4qoORVylapuIAERGRvLDDz84nh88eBCDwVCFEQlvtnz5cnbs2OH4GzduXFWHJITX+O677+jSpQs6na5S/1+LxXLFMoMGDZJE5BpWrRORwYMHs2zZMsfzZcuWMWTIEKcyGzduZMiQIdx444106dKFWbNmOdbdeuuttGrVioSEBBo3buz4pjx37lyg9Fv0woUL6dGjB+3atWPGjBnYbDag9EN79913O7Y1f/584uPj2bx5MwCzZs1y+rZtsVicWmpOnDjBfffdR7t27WjXrh1PPPEE+fn5l61rfHw8f//9NwDr16+na9eupKamAlBQUMD//d//0b59e7p168acOXOc4hw+fDjTp0+ndevW9O3bly1btji2O3LkSN5++22GDRvGjTfeyPjx48nNzXWs37lzJ8OHD6dNmzbceuutJCYmOsX1zDPP0Lx5c8f72LlzZ8e6devW0adPH8f7enH9L23a3bx5M927d3fa7rvvvut4PnbsWOLj4x0nrYtfb7PZGDRokNP/fTUufo/T09NJSEhw7MO0tDTi4+NZvHgxHTt2pGPHjnzyySeO11qtVubOnUvPnj1p1aoVt99+OxkZGQBs376doUOH0rp1a4YOHcr27dsdr7vS+/DRRx85ttm/f3/Wrl172fj/KYaLna/LxReAJ5980umzcfToUUaPHk3btm3p06cPP/74o9M2Zs2aRbNmzWjVqhUtW7Z02l5WVhYTJ06kffv2dO/enYULF5b5ujZt2vDoo49SWFgIuH6mzvv777+Jj493es+aN2/OmTNnHMsmT57stP8uNXLkSFq0aOE4FhMSEpze5+7duzNv3jz69+/PTTfdxLPPPovJZAIgMTHR6dj68ccfiY+Pd+y31atX07lzZ1q1akXv3r1ZvXq103bPnxMAlixZwsiRIx3PX3nlFbp06cKNN97I7bffTlJSktN7df74M5lMjBgxgjfffNOxfv369QwYMIA2bdowcuRIjh496vT/tm/f3qk7Y9iwYS77/WK//vorN910k9OydevWMXjwYG688UZ69uzJr7/+6lh38uRJhg8fTqtWrRgzZoyjdfrS9+vS92HWrFlMmjSJJ598khtvvJHvv/+ekSNH8t5775W5PYAbbriB1NRUTp48WWbswrtV60SkZcuWFBYWcvToUaxWKz/88AO33nqrUxm9Xs+MGTNISkpi3rx5fPXVV6xbtw6AFStWsGPHDubPn0/t2rUd35Qffvhhx+vXrl3Lt99+y/fff8+GDRv49ttvXeLIzc3liy++IDAw0O3Y7XY748aN47fffmP16tVkZmY6XQguZ9u2bUydOpV58+YRHR0NwMsvv0xBQQHr1q3jiy++YPny5U5x7t69m7p167J161YmTZrEhAkTnJKNZcuW8dprr/H777/j4+PDK6+8ApReUMaNG8f48ePZtm0bTz/9NJMmTXI6QdhsNh588EHH+3ixqVOnMm7cOHbs2MGff/7p9ntzqa1bt3Lw4MHLrv/+++/Jy8u76u2XZebMmQQHB7ssT0xM5Oeff+aTTz5h/vz5jpPrZ599xg8//MBHH33E9u3bee2119DpdOTm5jJu3DhGjhxJYmIio0ePZty4cZw9e9atOKKjo/nyyy/566+/mDBhAk899RTZ2dlllr1cDOVVXFzMmDFjGDhwIJs3b+bdd99l2rRpHDlyxFHGZrPRv39/duzYwapVq5yWjx8/nvj4eH799VcWLFjAggUL+O233xxl+vXrx44dO9i4cSNpaWlOXybcFR0dzffffw+UdimkpKRc8TVTpkxxfMbPf9m42MqVK/nkk09Yu3Ytx48fZ86cOS5lzGYzM2fOJDQ01LGsVatWLFu2jB07dvD888/z0ksvuV2PFi1asGzZMrZt28bAgQOZPHmyIwE6z2KxMHnyZGJiYnjqqacAOH78OE888QTPPfccW7ZsoXPnzjz88MNOiUdISAjr168HSluLi4uL/zGWQ4cOERsb63i+e/dunn76af7v//6PpKQkvvzySyIjIx3rV61axeuvv86WLVswm818+umnbtd7/fr19O3bl6SkJAYNGnTF7fn4+FC3bl0OHDjg9v8hvEe1TkTgQqvIH3/8QVxcHGFhYU7r27VrR3x8PEqlksaNGzNgwAC2bdvm9vbHjh1LcHAwERER3HfffU4n3fPmzZvH0KFDCQgIcHu79erV45ZbbkGj0VCjRg1Gjx59xYt1cnIy48eP56233nJ8Q7Rarfz444888cQT+Pv7ExUVxejRo1mxYoXjdTVq1GDUqFGo1Wr69+9PbGwsGzdudKwfPHgwjRo1wtfXl8mTJ7NmzRqsVivLly+nc+fOdOnSBaVSyS233ELz5s3ZtGmT47Vmsxm1Wn3ZmK1WK//m547sdjtvvvkmkyZNKnO9yWTigw8+4JFHHrnq/+NSBw4cYOfOndx2220u6x599FF8fX2Jj4/n9ttvdxwPS5YsYfLkydSvXx+FQkHjxo0JCQlh48aN1KtXjyFDhuDj48PAgQOpX78+v/zyi1ux9OvXj7CwMJRKJf3796devXrs3r27zLKXi6G8Nm7cSGRkJEOHDsXHx4emTZvSp08f1qxZ4yhzuf2+Z88ecnJymDBhAhqNhujoaO68806XFhUoPTZsNluZCd+VDBkyhOXLlwOlXW6DBw8u9zYude+99xIeHk5wcDDjx4936vY9b/Hixdxwww1OF+w6depQo0YNx/OmTZu6/X8OHjyYkJAQfHx8GDNmDCUlJRw/ftyx3m6389xzz1FcXMy0adMcy3/88Ue6dOnCLbfcglqt5oEHHsBoNLJjxw5HmWHDhrF06VKg9NgYNmzYP8ZSUFCAn5+f4/nSpUsZOnQot9xyC0qlkrCwMOLi4hzrb7/9dmJjY9HpdPTt25f9+/e7Xe+WLVvSs2dPlEqlI1m+0vb8/PwoKChw+/8Q3sOnqgPwtMGDBzNixAjS0tLKPBnt2rWLt956i8OHD2M2mykpKaFv375ubz88PNzxODIy0uXb6MmTJ1m9ejWrVq1ynBjdcfr0aV599VWSkpIoKirCbrdfsUXlhRdeoF69emzevJn27dsDcPbsWcxmMxEREY5yERERZGVlOZ6HhYWhUCic1l9cj4vrGBERgdls5uzZs6Snp7NmzRqni6bFYqFdu3aO53l5eQQFBZUZ7+uvv87LL7/M9OnT0Wq1V3pLyrR69WpCQkIc9b3UggUL6NSpk9OF4d966623mDx5slNT93mXHg+HDh0CIDMzk7p167qUz87Odto34Lp/XnnlFWbMmAGUXpwvTh6WLVvGZ5995miSLi4uvmxryuViKK+TJ0+ye/du2rRp41hmtVqdWhsvt99PnjxJdna2y2svfr5mzRo2btxIcXExLVq0oFu3bo51u3btok2bNiiVSurXr8/zzz9f5ueiRo0axMbGkpSUxPLly/n0008d7+HVuvRzcOlnvbCwkI8//pgvv/ySZ555xmndypUrefHFFwF49tlnndY9+uijqFQqoDSBS0hIcKz75JNPWLp0KdnZ2SgUCgoLC53277p162jQoAEZGRnk5OQ4WmIuPa6USiXh4eFOx1WTJk1Ys2YNx44d448//uDDDz/8x/coMDCQoqIix/OMjAy6dOly2fIXtwrp9fortrhcrE6dOuXeXlFRUbm+7AnvUe1bRCIjI4mKimLTpk307t3bZf0TTzxBjx492LRpE3/99RfDhw8v1zf0i/vY09PTqV27ttP6mTNn8uCDD+Lv71+uuN955x0UCgUrV65k+/btvPnmm1eM67nnnmPevHksXbqUffv2AaXNr2q1mvT0dKeYL24ZysrKctp2RkaGUz0urmNGRgZqtZqQkBDCw8MZPHgwSUlJjr+dO3fy0EMPOcqnpKQQExNTZry33HIL/v7+vPHGG2zdutW9N+YiFouFmTNnXvbOltzcXL788ksmTJhQ7m1fztatW8nNzaVfv35lrr/c8VCnTh1OnDjhUr527dpO++b8Ni7ePy+88ILj/f3ggw8cy0+ePMkLL7zAiy++SGJiIklJSTRs2PCysV8uhvIKDw/npptuctrvO3bscPpGfrn9Hh4eTlRUlMtrL+62O98kv3PnTho1auR0cbzhhhtISkpiy5Yt3Hzzzbz88suXjXPYsGG8/PLL1K1b16lF4mpd6bP+ySef0K9fP6fuifMGDRrEzp07+eKLL3j11VedurE++OADx3vxwgsvOJYnJSXx8ccf89577/Hnn3+SlJREQECA02c1OjqahQsXMmzYMKf3/9Ljym63uxxXUNrK8Nhjj9G1a1d8fP75e2l8fLxTF1d4ePhVHU96vR6j0eh4brVaXe5uvPiLkTssFgsnTpygcePG5Y5HVL1qn4gAvPrqqyxYsABfX1+XdUVFRQQFBaHVatm9e3eZXSv/5JNPPiEvL4+MjAwWLlxI//79HetOnDjBrl27uOuuu8odc1FREb6+vgQEBJCVlcXHH398xde0adOG0NBQ/u///o9nn30Ws9mMSqWib9++vPvuuxQWFnLy5Ek+++wzp2+vOTk5LFy4ELPZzOrVqzl69KjTN50VK1Zw5MgRDAYDM2fOpE+fPqhUKm699VZ++eUXfvvtN6xWKyaTicTERDIzM7FYLHz11VcUFRU5fdu92KeffkpYWNhlL+pXsnz5clq1anXZk8+CBQsYNmyY0zepf2vWrFk89dRTlz1RzpkzB4PBwOHDh/nuu+8cx8Mdd9zBzJkzSUlJwW63c+DAAc6ePUuXLl1ISUlh5cqVWCwWfvzxR44cOULXrl2vGIvBYEChUDgust9++y2HDx++bPnLxVBeXbt2JSUlhWXLlmE2mzGbzezevZujR49it9tZt24de/fuLXNwcEJCAn5+fnz00UcYjUasViuHDh0qsztJqVSiUChcLlIAKpWKgIAAx6DrsnTs2JGmTZty//33l7uOZfnf//5HZmYmubm5zJ071+mzXlRUxHfffec0fuy8Y8eOOcZ1mEwm7Ha7Wy2ARUVFqFQqatSogcViYfbs2Y6Bu+c1btwYPz8/JkyYwLFjxxxdXP369WPTpk1O4yk0Gg2tWrVyev2gQYOIi4tz6xzVpUsXp+7hYcOG8d1337FlyxZsNhtZWVllthJeKjY2FpPJxMaNGzGbzXz44Yf/eg6Q3bt3ExkZWWYSKLxfte+aAf6xOXrq1KnMmDGD6dOn07ZtW/r16/ePd6dcqkePHtx+++0UFhZy2223OfWznj59mhdeeOGyYyTWrVvncrIePnw4v//+OxMmTODpp5+mTZs21K1bl8GDB7s1kRCU9o+vXr2aefPmMWHCBF588UVefvllevbsiVar5Y477mDo0KGO8gkJCfz999+0b9+eWrVq8f777zs1/w8ePJhnnnmGY8eO0bZtW8dgu/DwcObMmcObb77JE088gVKpJCEhgZdeeomlS5fy3XffMWfOnDIHRJ44cYLPPvuszMG957355puOAbolJSXk5+czadIk3n//fQDy8/OZPHnyZV9vs9kYM2aMW++Zu5o2berU9XSptm3b0qtXL+x2O2PGjKFjx44AjB49mpKSEsaMGcPZs2epX78+H3zwAXXq1GHu3Lm89tprvPTSS9SrV4+5c+e69Q2+QYMGjBkzhuHDh6NQKBx3f13O5WK4nIvvGsnPz0epVNKgQQP69evHJ598wn//+1/++9//YrfbiY+P59lnn+XXX39l5syZvPnmm05dGeepVCrmzp3LjBkz6NGjByUlJcTGxvKf//zHUWb16tWsX78epVJJfHy8U6vHnj17HJ+ZWrVqObo7yqJUKnn99dcvu768Bg4cyJgxY8jOzqZHjx6MHz/esa6wsJDx48eX2R21Zs0aFi5ciMlkIiwsjKlTpzoGkv+Tjh070qlTJ/r06YOvry+jRo0q8z0F0Gg0vP766zz66KO0b9+e+vXr8+abb/Lyyy+TlZVFkyZNmDt3LhqNxul1/v7+vPPOOwBXnFtp8ODBDBkyBKPRiE6nIyEhgddff53XXnuNtLQ0atWqxZQpU5zGiZQlICCAqVOn8sILL2C1WnnwwQfL7Iopj5UrV3rd/CaiHOziqjVq1MiekpJSodvs1q1bhW7vSr799lv78OHDL7t+xIgR9m+++aYSI7q81NRU+4gRI6o6jDKlpqbaGzVqZDebzVUdise8//779m+//baqw6gS3bp1s//xxx9VHUaVe/vtt+2fffZZVYfh5PTp0/a+ffvajUZjVYcirtJ10SJyLfmnb7TXO51OR7Nmzao6jOtWdHQ0tWrVquowRBV6/PHHqzoEFzVr1nSam0Vce66LMSLXkrfeequqQ/BatWrVcrkbQVSeIUOGOLqahBDXlxkzZtC9e3fi4+MddwNeymq1Mm3aNHr27EmvXr3c/r0hhd3+LyZxEEIIIUS1l5SURGRkJPfeey9z586lUaNGLmWWLVvGypUrmT9/Prm5uQwZMoT//e9/REVF/eO2pUVECCGEEP+oTZs2lx0sfd6PP/7IHXfcgVKppEaNGvTs2dNposPLkTEiQgghxHUoPz+/zLtEAwMDy/WTJOdlZGQ4TaQXHh5OZmbmFV9X6YnID+r4KxeqZla9lnjlQtVQnXC/Kxeqhsa0u/xcHtXdGz/8cxNsdZXQvPwn7eogv/D67Nl/Ykj5Jlz7tzx13Tz2zgRmz57tsnzChAlMnDjRI/9nWaRFRAghhLgOjRo1qszfzLqa1hAobQE5/8vk4NpCcjmSiAghhBBeTKH2TAvM1XbBXE7fvn1ZsmQJvXv3Jjc3l3Xr1vHll19e8XUyWFUIIYTwYkofhUf+yuOVV16hc+fOZGZmMnr0aAYMGACU/gL9nj17gNLZd6Oioujduzd33nknjz76qFuzCFf67bsyRuT6IWNErj8yRuT6ImNEKseawCYe2W7f/P0e2W55SdeMEEII4cUU6urdeVG9ayeEEEIIryYtIkIIIYQXK+94jmuNtIgIIYQQospIi4gQQgjhxTx1+663kERECCGE8GLSNSOEEEII4SHSIiKEEEJ4sereNSMtIkIIIYSoMtIiIoQQQnix6j5GRBIRIYQQwospVNU7EZGuGSGEEEJUGWkREUIIIbyYUlpEhBBCCCE8Q1pEhBBCCC+mUFbvFhFJRIQQQggvplBV786L6l07IYQQQng1aRERQgghvJgMVhVCCCGE8BBpERFCCCG8mAxWFUIIIUSVqe5dM9d0IlLvkXuJuu92Apo3In3xKnY/8Oxly8ZOHkX9J8ei8tWT+d1P7H10KrYSMwD6epHc8PHrBLdNwHAig72Tp3Nmw5bKqsZV695aS+92WjQ+CnYcKuGrtQYs1rLLxtf1YXhPPTUClRzPsLBwdTE5+XYAboxX0721lujaKlIyrLy7uLASa+E+nQZuba8iLkJBsRHW77SyN8VeZtmerZS0alDa87jjiI11O2yOdQoFdE1Q0ipOiUYNOQWwYK0Fk7lSqnFV8gsKeHvmB/y1YyeBgYE8MGoEPbp2vmx5s9nMuImPUWww8vWCjwHIy8tnyiuvcyItDZvNRt2oKMY9cD/NmzaprGpclW6tNPRso0Hto2DnETPfbDBe9jhvFK3izm46QgKUpGRaWfSzgbMFpceIjwru7K6jZQM1ZouddUkl/LKjpBJr4j5DUS4/ffk8Kfv/QO8XQufBj9PkpkEu5U4c2sqWHz8gKzUZnW8QD728wWn9Ry92p7jgNAqFCoCI+q24Y+KnlVKHq2EszuXXpS+QdugPdH4htO37GA1audY7/ehW/lo3h9Mnk9H6BnLPM871LshJY+OS58hO3Y1/cDi3DH6RqIY3V1Y1RDld04mIKT2bI6/NIbR3J5R67WXL1erVkbinHmJr71EY07Nps3Q2DadO4uDzbwPQatHbnN26k22DxlK7XxdaL36fjU16U3L6bGVVpdyaxPjQp52W9xYXkldoZ9wQPwbeomPZr0aXsn56BeOG+LFoTTG7j5q5taOOBwf58caXpQlHsdHOhr9M1KmhJL6uurKr4rb+bVVYbfDWUgt1QhTc001F1lkLp/Kcy7VuqCQ+WsncHyxgh5E9fDhbCH8dLk1GuiYoiQ5V8MlPFvKKIDSIy17YvMWsDz/CR+3DkkWfceTYcZ6f9ipxsTHE1KtbZvlvvltGUFAQxYYLx4Ner+PJyROIjAhHoVCwees2Xpz+Gku//ByVSlVZVSmXxvVU9GyjYda3xeQV2Rg7yJf+7bWs+MPkUtZPp+DBgb78b52BvccsDOigZXR/Pe8sLgagX3sttYOVTP20gEBfJZOG+ZKZY2X/396389cvno5KpeaR1/8gO20/3304jtDIxtSKaOhUTq3xpXmHoTRuM5DEn+aVua3bHp5LvcbXxkX4j2XTUarUjHzxd86kH2D1Z+OoEd6YGnWc6+2j8SX+pqE0aDmAHb+41nv9V08QVrcl/cZ8xIkDm1i3aDJ3PfUTev8alVWVCiW/NePFMpetJWvFekrO5P5juaiRQ0j9bCmFyUew5OZz+NU5RN13GwB+DWMIbNWMQ9NmYTOayPz+Zwr2HqLO7X0qoQZXr0MzDZv3lJBxxkaxyc6PW4y0b64ps2yrhmrST1vZfsiMxQqrNhuJDFURVqN09x/428L2g2byCstuXfAGahU0jVbwyy4rZguknrJzMM1OQqzrIXxDfQVbkq0UFEOBAbbst9KyfukHWaeB9o2VrNxqJa+otPypPLDaXDbjNQxGI79t3sroEXej1+tp0awpN7e7ibW/bCyzfEZmFut/2cTdd9zutFyj0RAdFYlSqcRut6NUKikoLCS/oKASanF12jXRsHWfmcwcGwYTrEk00a5p2cnyDQ18yDhjZedhCxYrrN5qKj3OQ5TntqVmTaIJgwmyztrYvNdMu6Zlf2aqUompmEM7f+aWgZPR6PyIatCGBi26k7xtuUvZ8JgEmrUbQnCt6CqItGKZS4o5vnctbXpPQq31o05sa+o17c7hHStcytaOTqDRjYMJqOFa79xTxzl9MpnWvSfio9ZRv0UfatRpxPG9P1dGNcRVKFeLSGFhIX///TfNmjXzVDweEdCsIVkr1zue5+8+iK5OKOoawfg3bYDhWCrWwqKL1h8goGmDqgjVbeG1VOw6cqEvIe2UlSA/JX46BUVGu0vZk6cufOsrMcPpXBsRtVRk5XjxFfgiNQPBZi/tRjkv66ydemGu3xRCgxRkXdSYlXkWQoNLy9UOVmCzQ9O6Sto3UWIyQ+IBG38e8t73Ie1kOiqVkqjISMey+rEx7N6zr8zys+fNZ8x9I9Boym4lHDvhP6SmncRisdCvd09CgoM9EXaFCK+pZM+xC8f5yVM2Av2U+OoUFF96nNdUcvL0hf1YYik9zuvUVJJfbCPI33n9yVNWEuK8r1H4bHYKSqWKGmGxjmWhUY1JPfznVW3vh8+fxG63UTuqKV1u+z9qRzWuqFArVN6pFBRKFcGhF+pdMzyejOPlq/fZrCME1ohGo/V3LKsRHs/ZrMMVFmtlUyiv6TaDK3L7U7hp0yamTJmCSqViw4YN7Nmzhw8++IC5c+d6Mr4KofLzxZJ3YdyDJa/0auYT4IePvx/mfOdvhJa8ArSRYZUaY3lpNWAwXTgRn3+s1bgmIlo1FBqclxlK7GjV105zn8ZH4TKGw2Quuw4aHzCa7WWWC/QFnUZBzUAFM5dZqBEA9/X04Uy+nWOZ3tkiZDQY8dX7Oi3z8/Wl2GBwKfv75q3YbDY63tyenbv3lrm9+bPfo6SkhN+3JGKxePHAGECjVjgf5yWlj3UaKL6kF1KrVrgc58YSOzqNwrH/L92WVuN9nwGzqRiNzt9pmVYfQImp6DKvuLwB979J7ehmgJ3tvyxk6ewHGDNlNTrfwAqKtuKYS4qdkgcAjS4AcznrbS4pRqMLcNlOcX7Wv45ReIbbicj777/P0qVLGTt2LAAtWrTgxIkTHgusIlmLivEJvHCAn39sKSjCUliET4Dzwe8T6I+1oPwfek+6qYmae3qXXoyOplkwlYBOe+Ekqj93QjWVuF5MTebSi+/FdBoFJrN3XnjLUmKxo72kRV6rdk1OSsty7sJzLjlT46jr+bEgm/ZYsVghOxf2pdhoGKnw2kREp9dRbCh2WlZcbMBXr3daZjAamf/ZQl596YUrblOj0dC9SyfGPDyBuNhY4urHXvE1laFNvA/De5TW62i6lRKz3enYPf/YWMYYU9MlZc+XN5bYHftfp7mQrOg0ijI/L1VNrfWlxOg8YNxkKESj9Sv3tiLjWjset+szjn2J33PyaBJxLbr/6zgrmlrjS4nJud5mUyHqcta7orbjTeT23YuEhoY6PddovK9/tSwF+w4TmBBPxtLVAAQmNMaYeQpzTi6FyUfwrR+Nyt/P0T0TkNCY9K9XVWXILv7cb+bP/RdGZY4Z4EtUqIrtB0uvxFG1VeQV2VxaQwAyTludxo9o1BAarCT9tPcN0rucM/mgVECNgAvdM2EhCk7lutb3VJ6dOiGQfsa1XNbZ0n/tF73M+y5FzqIiI7BabaSdTCcqMgKAo8dTqFfPuX/8ZHoGmdnZPPb08wBYLBaKiou5Y8RoZr09gzphtV22bbFaycjM8ppEJOmghaSDF1ooR/XVExmqYsdhCwBRtZTkF9lcumUAMs7YnMaPaHygVpCSzDOl40vyCm1Ehio5eKL0uI+spSLjjPd1yYXUjsFms3I2O4WQ2jEAnDp5gFrhFdFdrMBu984jPig0BrvNSt7pFIJqxQBwJuMgIWEN//mFlwgJa0BBTiolpkJHC8uZjIM0aDmwokOuNNX99l23O578/Pw4ffo0CkXpG5KYmEhAQMAVXuVZCpUKpVaDQqW86LHr6P+Ti5YTNXoY/k3i8AkKoMFz40lb+D0ARYdTyN+1n0YvPopSqyFscE8CW8ST+d1PlV2dctm6r4SbEzTUqalEr1XQr72WrXvLvhVx52EzEbVUtGqkxkcF/TvoOHnK6hgfolCU3tqoVDo/9iZmK+xPtdP1BhVqFUSHKoiPUrD7uOuFZNcxO+2bqAjQg78eOjRRsfNY6cn3bCH8nWWjcwslKiXUCoTmMUoOnfTOkzOAXqejY4f2LPjyKwxGI3uT97M5cRu9unV1Khdbry5ffT6febPeYd6sd3h80iOEBAcxb9Y7hNaqSfKBg+zZl4zZbMZkMvH10u84m5tL4/hGVVIvd2zbX0KHZmrq1FCi10KfdloSk8vuTtp91EJ4TRU3NPDBRwV922s5edpK1lnbuW2Z6dNWi14LYSFKbm6hJjHZ+27f1Wh9adiyF3+sep8SUzEnj/7Fkd3radp2sEtZu82GxWzCajVjt9tLH1tK65Sfk87Jo39htZRgMZvYtvZjDEVniax/Y2VXyS1qjS8xzXqR9PP7mEuKyUzZTsq+9TRsdatL2fP1tllL74y7uN7BobHUDG/C9rUfYDGbOL53LTkZB4lt3ruyqyTcpLC7mR7v3r2bqVOnkpaWRuPGjUlJSeHDDz+kefPm5foPf1DHX1WgZWn44gQaTZnotOzQ9Fmkfv4tXXb/wKaEARhTMwCI/c/9xD05FqVeR+b3P7H3kUvmEfnkdYLb3lA6j8ikaRU6j8iq1xIrbFsX69FGS++2WtRlzCPy4ugA1mw18uf+0jo2rufDXT1K5xFJybCyYHUxOfmlJ+j2zTSM6u88BmHL3hIWrnbuDiivOuEV2xSq08DgDirqhyswmGDdjtJ5ROqGKri3u4rXF1scZXu2UnLjuXlEtl8yj0iAHm7toKJuqIIiI/yRbHPc2lsRxrSr+EFx+QUFvDVzNtt37CIgMIAHR42kR9fO7NmbzLMvvcyqpV+5vGbn7r389+33HPOI7Nqzlw/mfUJGViY+Kh9iY+py/4h7SGhecYPP3/ghqsK2dd7F84jsOmJm8UXziDw30o+ft5lIOli67+OjVdzRTUdIoJK/z80jcn6+HE/OI5LQvGLHXBiKcvlp0XOkHNiM3i+YzoOfoMlNg0g7ksS3H4xl8rs7ADhxKJFvZt7n9Nqohm0Z/p8vOJ1+mFWfPU7u6VR81FpqRzam85AnqVOvRYXFmV/Bd9oZi3PZtOR5Th7ejNY3mHb9HqdBq0FkHE9i9acPMebl7QCkH01k1UejnF4bXv8mBo37Ajg/j8izZJ84N4/IkCkVOo/IE0Mqt4ViV9/Lzxn0b9yw5lePbLe83EpEbDYbhw4dIjIyku3bSw+EVq1aERhY/g9fRSYi1wpPJSLerqITkWuFJxKRa4UnEpFrQUUnIteKik5ErhWSiFQst8aIKJVKnnrqKVauXEmXLl08HZMQQgghzqnut++6Xbt69eqRlpbmyViEEEIIcQmFUuGRP2/h9l0zRUVF3HrrrbRu3Rpf3wvjCWbOnOmRwIQQQghR/bmdiNx6663ceqvr6GUhhBBCeE51v33X7UTktttu82QcQgghhLgOuZ2I5OTk8PLLL7NlS+ltrbfccgvPP/88NWpcm79mKIQQQlwLvGk8hye4PVh16tSpxMTEsHz5cpYtW0a9evWYMmWKJ2MTQgghrnsKpdIjf97C7UhOnDjB5MmTCQsLo06dOkyaNInU1FRPxiaEEEKIas7trhmbzcaZM2eoWbMmAGfOnMFm877faRBCCCGqk+reNeN2IvLAAw8wZMgQunbtCsCmTZt44oknPBWXEEIIIa4DbiciQ4YMoVmzZiQmlk5Xft9999GwYfl+FVEIIYQQ5SMtIufk5ORQr149R/JRUlJCTk6O3DUjhBBCiKvm9mDVcePGYbVaHc8tFgsPP/ywR4ISQgghRCmZ4v2ckpIS9Hq947mvry8mk8kjQQkhhBCilDfdausJ5apdTk6O47HcNSOEEEKIf8vtFpGRI0dy9913M3jwYOx2OytWrOChhx7yZGxCCCHEdU9+a+acYcOGUbduXTZu3IhCoWDSpEkMGDDAk7EJIYQQoppzOxF57LHHmD59OgkJCQwePJglS5aQmZnJAw884Mn4hBBCiOuaNw0s9QS3x4gcP36cgIAANm7cSPv27fn1119ZtmyZB0MTQgghhPzWzDkWiwWAP//8k86dO6PT6VB6UUWEEEIIce1xu2smLi6OBx98kGPHjvHEE09gNBo9GZcQQgghqP5dM24nIjNmzOD3338nPj4eX19fsrKy5LdmhBBCCPGvuJ2I6HQ6evbs6XgeFhZGWFiYR4ISQgghRClpERFCCCFElfGmgaWeUL1rJ4QQQgivVuktIqteS6zs/7LKDXyuXVWHUCV+eX9HVYdQJZYfblLVIVQZjaa4qkOoEomJp6s6hCphMVuvXKg6GlK5wxKqe9eMtIgIIYQQosrIGBEhhBDCi8kYESGEEEIID5EWESGEEMKbKar3GBFJRIQQQggvJoNVhRBCCCE8RFpEhBBCCC9W3QerSiIihBBCiH90/PhxnnnmGXJzcwkODmbGjBnExMQ4lTlz5gzPPvssGRkZWCwW2rVrxwsvvICPzz+nGtU7zRJCCCGucQqlwiN/5TF16lTuuecefvrpJ+655x6mTJniUmbu3LnExcWxcuVKVqxYwb59+/j555+vuG1JRIQQQggvplAqPfLnrjNnzpCcnMzAgQMBGDhwIMnJyeTk5DjHqVBQVFSEzWajpKQEs9ns1o/jSteMEEIIcR3Kz88nPz/fZXlgYCCBgYGO5xkZGYSFhaFSqQBQqVTUrl2bjIwMatSo4Sj3yCOPMHHiRDp27IjBYODee++ldevWV4xDEhEhhBDCi3nq9t0FCxYwe/Zsl+UTJkxg4sSJ5d7emjVriI+PZ8GCBRQVFTF27FjWrFlD3759//F1kogIIYQQ16FRo0Zx2223uSy/uDUEIDw8nKysLKxWKyqVCqvVSnZ2NuHh4U7lFi1axGuvvYZSqSQgIIDu3buTmJgoiYgQQghxLfNUi8ilXTCXU7NmTZo0acKqVasYPHgwq1atokmTJk7dMgBRUVH8+uuvJCQkUFJSwpYtW+jVq9cVty+DVYUQQghvplR65q8cXnrpJRYtWkSfPn1YtGgR06ZNA2Ds2LHs2bMHgOeee46//vqLQYMGMWTIEGJiYrjzzjuvuG1pERFCCCHEP4qLi2PJkiUuy+fPn+94XLduXT777LNyb1sSESGEEMKLKar5j95J14wQQgghqoy0iAghhBBerLr/1kz1rp0QQgghvJq0iAghhBBezFO373oLSUSEEEIIbyZdM0IIIYQQniEtIkIIIYQXq+5dM9IiIoQQQogqIy0iQgghhBdTKKp3m0G1SES6t9bSu50WjY+CHYdK+GqtAYu17LLxdX0Y3lNPjUAlxzMsLFxdTE6+HYAb49V0b60luraKlAwr7y4urMRauK/eI/cSdd/tBDRvRPriVex+4NnLlo2dPIr6T45F5asn87uf2PvoVGwlZgD09SK54ePXCW6bgOFEBnsnT+fMhi2VVY1y02vhzq4a4qNVFBnt/JhoZsfhsnf0gPZq2jYpPby37bfww9bSOtcKUjCwg5qYOiqUCkjNtrHsjxJO5dorrR5Xw1iUy/rFL3Di4B/o/ULoMOAx4lsPcimXdngr236ew6m0ZLT6QO6fssFp/Xcf3MeZjMNYLSUE1oyifd9J1G/Ro7KqUW56LdzVTUuj8/t8a8k/7vN2TdUAJCabnfb5oJs1F+1zK9//7v37HKBXWx19O/iiUcNfB0pYtLrwsue2xjFq7u3jR40gFcdPmvl0ZSE5+TYAhnX3pW0zLXqtgmKjnU3bjfy42VCJNSmf3u19GdDRF41awZ/JJhauyr9svZvEarhvQAA1glQcSzPz8bI8zuSV1vvBIYG0b6HDYr2wr8e/fgq79+96Z9W8a+aaT0SaxPjQp52W9xYXkldoZ9wQPwbeomPZr0aXsn56BeOG+LFoTTG7j5q5taOOBwf58caXpQlHsdHOhr9M1KmhJL6uurKr4jZTejZHXptDaO9OKPXay5ar1asjcU89xNbeozCmZ9Nm6WwaTp3EweffBqDVorc5u3Un2waNpXa/LrRe/D4bm/Sm5PTZyqpKudzeSYPVBi99biCilpIH+mtJP20k66zzWaV9Ux+axap45xsjdmDcQC05+Xa2JFvQaxUkp1hZ/EsJJjP0aq1mdF8tb3zterx4k43fTkepUvPA9N85ffIAK+ePo1ZEY2qGN3Qq56PxpWnboVhaDSBp3TyX7XS+7XlqhMWhVPmQ+fculn04mpHPrsEvqHZlVaVchnbWlu7zz4qJrKXkgQE60k8bytznzWN9eHuxoXSfD9KRU2Bny77Sfb4vxcrXG0yYzNC7jZox/XTM+Mp7L8QAzeqr6dfBl7e+zCO30MajwwIZ3NmXb38pdinrr1fwyNAAFvxQyK7DJQzp4su42wN4/fM8AH7baWLFb8WUmCE4QMljdweSecbK9oMllV2tK2oep2FAR19mLDhLboGNScODua2bP0vWuX4x9PdVMPGuID5bkc/OQyZu7+bPI3cE8fLHF85hP/5RxHcbiiqzCqKcrvn2ng7NNGzeU0LGGRvFJjs/bjHSvrmmzLKtGqpJP21l+yEzFius2mwkMlRFWI3St+HA3xa2HzSTV+jd6XLmsrVkrVhPyZncfywXNXIIqZ8tpTD5CJbcfA6/Ooeo+24DwK9hDIGtmnFo2ixsRhOZ3/9Mwd5D1Lm9TyXUoPw0PtCivoo128yUWCAl00ZyipXWjVxz6TbxKjbtNJNXZCe/yM6mXWbaNFYBpS0g2w5YMZjAZoNfd5upHaLE9/L5XJUzm4o5unst7ftNQqP1I6J+a2KbdedA0gqXsnXqJdD4psEE1owuc1u1IuJRqs6/ZwpsVgsFuZkejP7qnd/nqxNLKLHA8Uwb+1KstIl33ec3NfZh0y7nfX7TuXKp2Ta27bc49vmmXd6/zwFubqHlt11G0k9bKTbaWfl7MTcn6Mose2NjDemnrfx1oASLFVb8Vkx0bR/q1Cw97rNyrJxrCAXAbofaIarKqEa53dJSx687jKSfKq338k1FdGxZdr1bN9Fx8pSFP5NNmC3w/cZCosPUhNfyzrpdLYVS6ZE/b3HNt4iE11Kx68iFT1jaKStBfkr8dAqKjHaXsidPXWjfKzHD6VwbEbVUZOXYKi3myhLQrCFZK9c7nufvPoiuTijqGsH4N22A4Vgq1sKii9YfIKBpg6oI9YpqBSuw2eB03oV9mn7GRlyE6wknLERJxpmLy9kJCyn7Q1c/XEV+kZ1iU8XHXFFyT6WgVKoIqR3rWFYrMp6TR/68qu2tnD+O1ENbsFpKqNu4I2HRzSsq1AoVGqx02ecZZ6zUv8w+Tz994TOcftrm+IJxqbgIFflFNq/e5wARoT7sPHSh9SMty0KQvxI/vYIig/O5LaKWD2lZFsfzEjOcOmslopaKzDOl57x+HfQM6OiLTqPg1Fkrifu88w2IDPVhx4EL56XULDNB/qoy6x0Z6kNqpnO9s89aiQz1IeN0ab273+RL95t8OX3Wyqrfikja7531vp65nYikpKTw7LPPkpWVxYYNG9i3bx8bNmxg4sSJnozvirQaMJguHJznH2s1romIVg2FlxzIhhI7WnX17H9T+fliybvQnGnJKwDAJ8APH38/zPkFTuUteQVoI8MqNUZ3adUKjGbnZcYSO9oyetC06tL9enE5ncZ1Hwf5Kbi9k5oVm72vefpiJaZiNDp/p2UaXQBm09U1Nw8aOw+r1UzqoS2czTrqVd+MLqZRg9F8yefVRJmfV626dD+f98/7XMOKP7x7n0PpOay4jHObTuN6QdZqFBQWO3+ZMpjs6LQX3oPVWwys3mIgOkxFq3it07a9iU6jcD6nnzuP67Wu9dZpFBRcWm+jzVHvtYnFfPVTAQaTneZxGsYPCyK3MJcjqZecTLxcdb991+1E5KWXXmL8+PG8/Xbp+IImTZrwf//3f5WeiNzURM09vX0BOJpmwVSC04dNf+7kYypx/ZCZzLicnHQaBSazd34g/y1rUTE+gRcuYOcfWwqKsBQW4RPgfHHzCfTHWuCdfakmsx3dJUlH6b4rq+z5/XwuKb3kIgXgp4OHBmrZvM/CziOXGQXnJTRaX0qMzv3jJcZC1Fq/q96mSqUmpklndv26kKBa9ajfvPu/DbPClZhBp77080qZn1eTufRifH6f6zSKsvf5IB1/7LOwwwv3ebtmWkb2L/1MHk41Yyqxo7/o3Hb+PHdpvaD0fHfxefB8eWMZyUZqlpXm9e0M7uzLN+uq/vPeoYWOUYMCADj0t7k0iSyj3oYy6nJp2fPlz9f774wLrSW7D5ewdY+RNk2011wiQjW/a8bt2hUUFNC5c2cUitKdrlQqUasrf0Dnn/vNPDYzj8dm5jH72yIyTluJCr3QVBtVW0Vekc2lNQQoLVv7QlmNurT5N/20952UKkLBvsMEJsQ7ngcmNMaYeQpzTi6FyUfwrR+Nyv/CxSwgoTEFyUeqItQrOp1rR6ksvQPivPCaSjLL6FLLOmsjouaFchG1lGSdvVBOr4GHBurYl2Jl/XaLy+u9TXBoDDabldxTKY5lp9MPUqNOw8u/yE02q5W80yf+9XY84VSuzWWfR9RSltmNWrrPL5zOImo6l9NrSwewJqdYWP+Xd16EEveZmPDmGSa8eYaZX+eTfspCdNiF74rRtX3IK7S5tAoApJ+2EF37QlmNGkJDVJc9tymVEHqZ7srKtmWPkYdfO8XDr53inS9zOXnKQt2L6l23jg95hdYy631pWY0aatfw4eSpsj/XdjtQvRsXrkluH4kqlQqz2exIRLKyslB6QZPu1n0l3JygoU5NJXqtgn7ttWzdW3az687DZiJqqWjVSI2PCvp30HHylNVxwlIowEdV+iG9+LG3UahUKLUaFCrlRY9d+81PLlpO1Ohh+DeJwycogAbPjSdt4fcAFB1OIX/Xfhq9+ChKrYawwT0JbBFP5nc/VXZ13FJigT3HrPS5SY3GB2LqKGkWo+KvQ64nnL8OWul8g5pAPwWBvgq63KAm6UDpCVmrhrEDtaRkWvkx0TsvSJdSa32JS+jF1tXvYzYVk35sO8f3rqdxm1tdytptNixmEzZb6ftiMZuwWko/DzlZx0jZ/yuWEiNWq5kDSStIP5ZEZNxNlVofd53f533bai7a5z4kHXTd50kHLXRpedE+b6nmz3PltOrSxPN4ps1xS++1YPMeEx1v0BFeS4Veq2BARz2bd5d9d9f2gyVEhKq4MV6DjwoGdfQlLdtC5hkrCqBzKx2+utJzd2yED93a6Dlw3Dvfi827jHS+UU9EqApfnYJBnf35fedl6r3fSGRtH9o00aL2gcFd/EnLMjvGh7RpqkWrUaBQQLM4DR0SdOw8eO2NEVEoFR758xYKu929O6qXLVvG6tWrOXjwIEOHDmXZsmU89thjDBw4sFz/4fg3c68mzn/Uo42W3m21qMuYR+TF0QGs2Wrkz/2lH7rG9Xy4q0fpPCIpGVYWrC523GvfvpmGUf19nba9ZW8JC1e73i5XHgOfa/evXn+phi9OoNEU5y6xQ9Nnkfr5t3TZ/QObEgZgTM0AIPY/9xP35FiUeh2Z3//E3kcumUfkk9cJbntD6Twik6ZV6Dwiv7y/o8K2BefnlNDQKMp5HpHYcCUPDtDy/McXbscc0F5Nu3PziCReNI9Im3gVw7trKTHbufjAf/NrI7kVdLdUTD19hWznYsaiXNZ9/Typhzaj8w3m5oGPE996ECePJrHyo4d4eMZ2ANKOJPL9B6OcXhsZdxO3T/iCnKyjrPvfs+RkHUGhUBEcWo82PccRl9CrwuI8nvLvPiuX0mtheDctDaNVFBvt/HBuHpHYcCVjB+p4bv6F/29gBzXtmpybR2S/mVVbzu9zH+7uoXXp0nnjK0OF7fO8s565FbhXWx39OviiVsP2AyV8cdE8ItMeCubHPwyOQadNYtTc08ePmkEqjqdb+HRlAWfybCiAycMDiY3wQaVSkFtgY/PuiplHxGL2TGtynw6+9L+ldB6RpGQTCy6aR+TVR2qy6rcituwpTU6a1tcwsn8ANYNUHDtZOo/I6dzSc/qzo0OIDvNBoSgdvPvD70Uk7v33icjnL1XuWLr8d/7jke0GPv6eR7ZbXm4nIgBJSUn88ssv2O12unfvTps2bcr9H3oiEfF2FZ2IXCsqOhG5VngiEblWVHQicq3wVCLi7TyViHi7Sk9E3nvcI9sN/M87HtlueZXr9t02bdpcVfIhhBBCCFEWtxORoUOHOsaHnBcQEEDLli158MEH8fO7+hH8QgghhCjbpdfe6sbtoZgdOnQgPDyc8ePHM378eCIiIoiLiyMrK4uXXnrJgyEKIYQQ1zGl0jN/XsLtFpE///yTxYsXO55369aN4cOHs3jxYvr37++R4IQQQghRvbmdiJw9exaTyYRWW/oDDSUlJeTl5aFQKNDpyv4dACGEEEL8O950q60nuJ2I9OvXj7vuuot+/foBsGbNGvr06UNRURGRkZEeC1AIIYQQ1Zfbichjjz1Gy5YtSUxMRKFQMGnSJLp16wbA7NmzPRagEEIIcV2r5lO8u52IFBQUsH37do4ePYrRaGTfvn189tlnLFy40JPxCSGEENe3at4143aa9dxzz6FSqUhJSeGuu+5CpVKRkJDgydiEEEIIUc25nYj8/fff/Oc//0Gn0zFw4EDmzZtHUlKSJ2MTQgghrnsKhdIjf97C7Ug0Gg0AarWa3Nxc1Go1OTk5HgtMCCGEENWf22NEYmJiyM3NZdCgQdx1110EBATQrFkzT8YmhBBCiGo+RsTtROStt94CYPTo0bRo0YKCggI6derkscCEEEIIAQovmgXVE8r1o3fnyQ/fCSGEEKIiXFUiIoQQQohKIj96J4QQQgjhGdIiIoQQQnizaj5GpHrXTgghhBBeTVpEhBBCCG9WzceISCIihBBCeLHqfvtu9a6dEEIIIbyatIgIIYQQ3syLfhfGE6p37YQQQgjh1aRFRAghhPBm8lszQgghhKgqimreNVPpiUidcL/K/i+r3C/v76jqEKpEt0mtqjqEKhOd/FtVh1AlBjc8XdUhVIm7Hz9V1SFUiWmvtavqEEQ1IC0iQlSw6zUJEUJ4SDXvmqne7T1CCCGE8GrSIiKEEEJ4MxkjIoQQQogqU82neK/eaZYQQgghvJq0iAghhBDeTH5rRgghhBDCM6RFRAghhPBm1XywavWunRBCCCG8mrSICCGEEN6smk9oJomIEEII4c2ka0YIIYQQwjOkRUQIIYTwZjKhmRBCCCGEZ0iLiBBCCOHNqvmEZpKICCGEEN5MumaEEEIIITxDWkSEEEIIbya37wohhBDienb8+HHuuusu+vTpw1133UVKSkqZ5X788UcGDRrEwIEDGTRoEKdPn77itqVFRAghhPBmXjBYderUqdxzzz0MHjyY5cuXM2XKFBYuXOhUZs+ePcyePZsFCxYQGhpKQUEBGo3mituu+toJIYQQ4vIUCs/8uenMmTMkJyczcOBAAAYOHEhycjI5OTlO5T7//HPGjBlDaGgoAAEBAWi12ituX1pEhBBCiOtQfn4++fn5LssDAwMJDAx0PM/IyCAsLAyVSgWASqWidu3aZGRkUKNGDUe5o0ePEhUVxb333ktxcTG9evVi/PjxKK6Q9EgiIoQQQngzDw1WXbBgAbNnz3ZZPmHCBCZOnFju7VmtVg4ePMhnn31GSUkJDz74IBEREQwZMuQfXyeJiBBCCHEdGjVqFLfddpvL8otbQwDCw8PJysrCarWiUqmwWq1kZ2cTHh7uVC4iIoK+ffui0WjQaDT06NGD3bt3XzERkTEiQgghhDfz0BiRwMBAoqKiXP4uTURq1qxJkyZNWLVqFQCrVq2iSZMmTt0yUDp25Pfff8dut2M2m9m6dSuNGze+YvUkERFCCCHEP3rppZdYtGgRffr0YdGiRUybNg2AsWPHsmfPHgAGDBhAzZo16d+/P0OGDKFBgwYMGzbsitu+prtmdBq4tb2KuAgFxUZYv9PK3hR7mWV7tlLSqkFp3rXjiI11O2yOdQoFdE1Q0ipOiUYNOQWwYK0Fk7lSqlFuei3c2VVDfLSKIqOdHxPN7DhsLbPsgPZq2jYp3c3b9lv4YWtppWoFKRjYQU1MHRVKBaRm21j2Rwmncst+/7xBvUfuJeq+2wlo3oj0xavY/cCzly0bO3kU9Z8ci8pXT+Z3P7H30anYSkrrrq8XyQ0fv05w2wQMJzLYO3k6ZzZsqaxqXJWCgnw+nPlfdu/4k4DAIO4ZNY5OXXu5lFu1bDGrV35LQX4eOr2emzt1Z+SYR1CpSo+BR8bcQW5uDkpl6aCz+CbNefHldyq1LuWRX1DA2zM/4K8dOwkMDOSBUSPo0bXzZcubzWbGTXyMYoORrxd8DEBeXj5TXnmdE2lp2Gw26kZFMe6B+2netEllVeOq3Dk4knuH1kWnVbLxj1O8NecwZovr59PHR8HUJ5vQuEEA4WE6Jj67kx178xzr/f1UTB7bgPatS7+9fv9jOp9+9Xel1aM8igryWPThVPbv2oJ/QAiD753ETZ36u5Rbu/xztm5cQc6pDPwDg+nc5y56Db4fgJxTGbz8mHN3g8lo4Pb7HqfnraMqoxoVzwtu342Li2PJkiUuy+fPn+94rFQqefbZZ3n22cufm8tyTSci/duqsNrgraUW6oQouKebiqyzFk7lOZdr3VBJfLSSuT9YwA4je/hwthD+OlyajHRNUBIdquCTnyzkFUFoEFjKvq57hds7abDa4KXPDUTUUvJAfy3pp41knXU+SbVv6kOzWBXvfGPEDowbqCUn386WZAt6rYLkFCuLfynBZIZerdWM7qvlja+NVVMpN5jSszny2hxCe3dCqb/8LWG1enUk7qmH2Np7FMb0bNosnU3DqZM4+PzbALRa9DZnt+5k26Cx1O7XhdaL32djk96UnD5bWVUpt08+fAcftZr5i5aTcuwIr0/7P2JiGxBdL9apXJt2HenWsz9+/gEUFOTz9usv8uOKpQy6bbijzDNTZpDQsk1lV+GqzPrwI3zUPixZ9BlHjh3n+WmvEhcbQ0y9umWW/+a7ZQQFBVFsuHAc6/U6npw8gciIcBQKBZu3buPF6a+x9MvPHXcBeJu2rUIYMbQuk1/YxekzJbz2fDMeuDeGuQuOl1l+d3IeS1akMf3ppi7rJj7YAJ1WxbAHEwkJUjPzlRvIzDby4/osT1ej3BZ//BoqHzX//fgX0lIOMOf1iUTGNCIiuoFTObvdzqiJrxJZryGnM9OY9fLDhNQMo03HftQIDefdRVsdZU9npTF14iBate9Z2dWpMHb5rRnvpFZB02gFv+yyYrZA6ik7B9PsJMS6VumG+gq2JFspKIYCA2zZb6Vl/dIdq9NA+8ZKVm61kldUWv5UHlhtLpvxChofaFFfxZptZkoskJJpIznFSutGrjllm3gVm3aaySuyk19kZ9MuM20al554U7NtbDtgxWACmw1+3W2mdogS3yvf8l1lMpetJWvFekrO5P5juaiRQ0j9bCmFyUew5OZz+NU5RN1X+g3Jr2EMga2acWjaLGxGE5nf/0zB3kPUub1PJdTg6hiNBrZu3sTwEQ+g1/vSpFkCbdrdwqZffnIpWyc8Ej//gNIndjtKhYLMjJOVHHHFMBiN/LZ5K6NH3I1er6dFs6bc3O4m1v6ysczyGZlZrP9lE3ffcbvTco1GQ3RUJEqlErvdjlKppKCwkPyCgkqoxdXp1yOMVWszOX6imIIiC59//Tf9etQps6zFYmfJipPsTs7HVsZ565a2Nfnyu1RMJhuZ2SZWrc1kQK9w14JVzGQsZkfiOgYNfxSd3pcGTW4koU0Xtm1a5VK295DR1K3fBJXKh7DIGBJu6srRgzvL3G7iplU0aHIjNWtHergG4mq53SKyc+dOWrZs6cFQyqdmINjspd0o52WdtVMvzDVzDA1SkHXRl93MsxAaXFqudrACmx2a1lXSvokSkxkSD9j485B3ZiK1ghXYbHA670LrR/oZG3ERrt/swkKUZJy5uJydsJCyc8/64Sryi+wUmyo+5soW0KwhWSvXO57n7z6Irk4o6hrB+DdtgOFYKtbCoovWHyCgaYOyNuUVMk6molKpiIi80AoQE9uA5D07yyz/28a1zP/gLQyGYgICg7jvgQlO699/azo2m43YuEaMHP0IMfW9s+5pJ9NRqZRERV64gNSPjWH3nn1llp89bz5j7huBRlN2Nj12wn9ITTuJxWKhX++ehAQHeyLsChFb14/ftp5xPD+SUkjNEA2BAT7kF1jKvb2Lz4oKBdSv51sBUVas7PS/USp9CIuIcSyLrBfP4eSkf3yd3W7nyP7tdOzlOhbBbreTuGkl/YY9VNHhVq5q/lszbiciU6dORaVScc899zBo0CC3ZkvzJI2PwmUMh8lsR6t2TUQ0PmA028ssF+gLOo2CmoEKZi6zUCMA7uvpw5l8O8cyvW+8hFatwHhJvY0ldrTqssqCocTuVE6ncX1/gvwU3N5JzYrNJRUdbpVQ+fliySt0PLfklWarPgF++Pj7Yc53/iZsyStAGxlWqTGWh9FgQK/3c1rm6+uHwVBcZvlOXXvRqWsvMk6msmnDTwSFhDjWTXryRWLj4sFu58cVS3hlyhPMnLvoQiuKFzEajPjqnS+Yfr6+FBsMLmV/37wVm81Gx5vbs3P33jK3N3/2e5SUlPD7lkQsFi8dAHaOXqeiqPhCwlFYVNpX7KtXlTsRSfwrhxHDonnlvYPUCFYzoGcdtFrv65IyGQ3ofZ2Pc72vP6bLHOfn/fDNh9jtdjp0H+Ky7uj+HRTknaFVe9fxVMJ7uJ1mLV++nOeee47NmzfTo0cPZsyYQWpqqidj+0clFteLr1btmpyUlsUpQdGqS5MRuDAWZNMeKxYrZOfCvhQbDSO9s0/OZLaju6TeOk3Z9TaZcUo8tOrSZORifjp4aKCWzfss7DzixQNjysFaVIxPoL/j+fnHloIiLIVF+AT4O5X3CfTHWlCEt9Lp9RgMzvEZiovR6//5W214ZDTRdWP4eM6FwaiNmyag1WrR6nTcdudI/Pz92b9vt0fi/rd0eh3Fl1yEiosN+Or1TssMRiPzP1vIow89eMVtajQaunfpxNdLvuPosbLHW1SFXl1q8/M3Hfn5m4689VILDEYrfr4Xvif6+ZYmDsWG8n9G3/voCKYSG1/Pa8t/X2jOul+zOXXa+5o+tTo9hmLn49xoKET7D8f5xtVfkbhpJY88Nxu12vU3TbZuWkHLdj3RXeGz4vUUSs/8eYlyRdKmTRveeecd5s+fz+rVq+nTpw8PP/wwR48e9VR8l3UmH5QKqHHRF7mwEEWZd32cyrNTJ6TscucHeNovepn3tYNccDrXjlJZetfLeeE1lWTmuHYlZZ21EVHzQrmIWkqyzl4op9fAQwN17Euxsn57+Zt7vVXBvsMEJsQ7ngcmNMaYeQpzTi6FyUfwrR+Nyv/CN6+AhMYUJB+pilDdEh4ZjdVqJePkhcQ/5fgRoi4ZqFoWq81K1j+MEVGgwO6lR3xUZARWq420k+mOZUePp1CvXrRTuZPpGWRmZ/PY089zx4jRTHttBjlnz3LHiNFkZmWXuW2L1UpGpvcM1ly7KZved/5O7zt/58mX9nD8RBENYi8cow1i/TlztuSqumUKCi1Mf/sAg+/bwshHk1AoFOw/5H3jY2pH1MNms5CdceGOnrSUQ0REx5VZfvP67/n5+0+ZPHU+ITVdWzRLTEa2b1lL+66DPBZzZbErFB758xblSkSSkpJ47LHHePTRRxk2bBi//PIL/fr145FHHvFUfJdltsL+VDtdb1ChVkF0qIL4KAW7j7tekHcds9O+iYoAPfjroUMTFTuPlZ58zxbC31k2OrdQolJCrUBoHqPk0EnvPDmXWGDPMSt9blKj8YGYOkqaxaj465DrCeqvg1Y636Am0E9BoK+CLjeoSTpQ+o1Kq4axA7WkZFr5MdG7m6nPU6hUKLUaFCrlRY9dm5hPLlpO1Ohh+DeJwycogAbPjSdt4fcAFB1OIX/Xfhq9+ChKrYawwT0JbBFP5neuAz+9hU6np12Hziz+8hOMRgMHknfzZ+LvdOnmOsB2/U8rycstHRCVeuI43y9ZRPMbWgNwKjuLA8m7MZvNlJSYWP7t/8jPz6VxkxaVWh936XU6OnZoz4Ivv8JgNLI3eT+bE7fRq1tXp3Kx9ery1efzmTfrHebNeofHJz1CSHAQ82a9Q2itmiQfOMiefcmYzWZMJhNfL/2Os7m5NI5vVCX1cseaDVkM6BVOTLQv/n4qRt1Zl9XrMy9bXu2jQHOu1ddHrXQ8BoiooyMwwAelEtq3rsGtfcNZ8I333b6r1fnSsm0PVn09B5OxmKMHdrA7aSNtuwx0Kbvt1x9Y8dUsJk6ZR62wqDK3t2vbBnz9AmnUvK2nQxf/ksJut7t1xR00aBB+fn6MGDGCvn374uNzodnwgQce4JNPPnHrP5y2qOIuejoNDO6gon64AoMJ1u0onUekbqiCe7ureH3xhYtzz1ZKbjw3j8j2S+YRCdDDrR1U1A1VUGSEP5Jtjlt7K0JBQcVe6PVauKubhkZRzvOIxIYreXCAluc/vtCHPqC9mnbn5hFJvGgekTbxKoZ311Jidv4+/ObXRnILKyYJ6zapVYVs57yGL06g0RTn3z84NH0WqZ9/S5fdP7ApYQDG1AwAYv9zP3FPjkWp15H5/U/sfeSSeUQ+eZ3gtjeUziMyaVqFziMSnfxbhW3rvNJ5RF5n944k/AMDuXfUw3Tq2ov9e3fx6ktPsWjpzwB88N5r7EjaitFgIDAomPYduzJ8xINoNFpS/z7Oe2++RFZGOmqNhpjYBowYPZ64hlee+dBdIZyusG1B6Twib82czfYduwgIDODBUSPp0bUze/Ym8+xLL7Nq6Vcur9m5ey//ffs9xzwiu/bs5YN5n5CRlYmPyofYmLrcP+IeEpo3q7A47378VIVt67y7Bkdx79BotFolGzef5q0PDjnmEfnigzYs/OYEazeVtvgs+bgd4WE6p9cPe2ArmdkmuncMZdKDcfj7+5B60sCHnx9j246KuVV92mvtKmQ75xUV5PHFnKkc2L0Fv4Bghtw7mZs69edI8nY+eO0Rx225Lz7Sj7NnslGrL/RT39RpAPeMe9HxfNbLDxPToDmD7p7g8v/8Wz1a6K5cqAIV//qNR7br2/lOj2y3vNxORPbs2UOLFv/+m1NFJiLXiopORK4VFZ2IXCs8kYhcKyo6EblWeCIRuRZUdCJyrZBEpGK53TXz2muvuSy7++67KzQYIYQQQlzCQ7814y3cvn3XaHSecdNms5GXl3eZ0kIIIYSoEF4wxbsnXTER+fjjj/n4448pLCykQ4cOjuVGo5FBg6790chCCCGEqDpXTETuuusu+vbty8svv8yUKVMcy/39/QkKCvJocEIIIcT1zptutfWEKyYiAQEBBAQEMG/evMqIRwghhBDXkSsmIk899RRvvvkmQ4cORVFGVrZ06VKPBCaEEEIIvGoWVE+4YiIyatQoAJ5++mmPByOEEEIIZ/brPRFp3rw5AG3byux0QgghhKhYbt++K10zQgghRBW43gernndx14zJZOKHH36gdu3aHglKCCGEENcHtxORS7tmOnbsKDOrCiGEEB5W3ceIXHXtCgsLOX36+vxdCSGEEEJUjKsaI2Kz2UhLS2P06NEeC0wIIYQQyBiR8y4eI6JSqYiOjpYxIkIIIYSnVfOumaseIyKEEEII8W+5nYi0b9++zNt37XY7CoWCLVu2VGhgQgghhJDfmnG4++67yc3N5a677sJut7N06VKCgoIYOnSoJ+MTQgghRDXmdiKyadMmvvvuO8fzF198kaFDhzJp0iSPBCaEEEIIqv0YEbdrV1hYSE5OjuN5Tk4OhYWFHglKCCGEEKXsKDzy5y3cbhEZNWoUgwcPplu3bkBpC8lDDz3kscCEEEIIUf25nYjce++9xMfHk5iYSGBgIPfccw+NGzf2ZGxCCCHEdU9mVj1n06ZNPPHEEyxdupSRI0diNpt5+OGHPRmbEEIIIao5txOR999/33GnDECLFi04ceKExwITQgghBKWDVT3x5yXc7poBCA0NdXqu0WgqNBghhBBCOKvu84i4nRL5+flx+vRpx6RmiYmJBAQEeCwwIYQQQlR/breIPPnkk4wdO5a0tDRGjhxJSkoKH374Ybn/wzHtDpf7Nde65YebVHUIVSI6+beqDqHKpDbtVNUhVIm9vxyo6hCqxKrpmVUdQpX4MU9b1SFcF6r7YFW3E5GEhAQWLlzI9u3bAWjVqhWBgYEeC0yIa9X1moQIIcTVKNcYkYCAALp06eKpWIQQQghxKRkjIoQQQgjhGeVqERFCCCFE5ZIxIkIIIYSoMt70uzCeUL3TLCGEEEJ4NWkREUIIIbxYde+aqd61E0IIIYRXkxYRIYQQwptV89t3JRERQgghvJi9mndeVO/aCSGEEMKrSYuIEEII4cXk13eFEEIIITxEWkSEEEIIL1bdb9+VREQIIYTwYjKzqhBCCCGEh0iLiBBCCOHFqnvXTPWunRBCCCG8mrSICCGEEF5Mbt8VQgghhPAQaRERQgghvFh1v2tGEhEhhBDCi8lgVSGEEEIID5EWESGEEMKLVfeuGWkREUIIIUSVkRYRIYQQwotV9zEi13Qikl9QwNszP+CvHTsJDAzkgVEj6NG182XLm81mxk18jGKDka8XfAxAXl4+U155nRNpadhsNupGRTHugftp3rRJZVWj3IxFuaxf/AInDv6B3i+EDgMeI771IJdyaYe3su3nOZxKS0arD+T+KRuc1n/3wX2cyTiM1VJCYM0o2vedRP0WPSqrGuVWUJDPhzP/y+4dfxIQGMQ9o8bRqWsvl3Krli1m9cpvKcjPQ6fXc3On7owc8wgqVenh/siYO8jNzUGpVAEQ36Q5L778TqXWpTzqPXIvUffdTkDzRqQvXsXuB569bNnYyaOo/+RYVL56Mr/7ib2PTsVWYgZAXy+SGz5+neC2CRhOZLB38nTObNhSWdW4KobCXFZ8/gJH9/2Br38IPYY+Rov2rsf68QNb+XXFHDJOJKPzDeQ/bzgf66lHtrPm69c5nX6U4NAoBoyYSt2GrSurGuWWV1jEq/O+IHH3foID/Hlk+GD6dGzrUm7+klV8tmw1Gh+1Y9mXbzxPZFgoAIdSUnll3heknMwkJrIOL4wbSaOY6EqrR3ldr/v7Sqp718w1nYjM+vAjfNQ+LFn0GUeOHef5aa8SFxtDTL26ZZb/5rtlBAUFUWwwOpbp9TqenDyByIhwFAoFm7du48Xpr7H0y89RqVSVVZVy2fjtdJQqNQ9M/53TJw+wcv44akU0pmZ4Q6dyPhpfmrYdiqXVAJLWzXPZTufbnqdGWBxKlQ+Zf+9i2YejGfnsGvyCaldWVcrlkw/fwUetZv6i5aQcO8Lr0/6PmNgGRNeLdSrXpl1HuvXsj59/AAUF+bz9+ov8uGIpg24b7ijzzJQZJLRsU9lVuCqm9GyOvDaH0N6dUOq1ly1Xq1dH4p56iK29R2FMz6bN0tk0nDqJg8+/DUCrRW9zdutOtg0aS+1+XWi9+H02NulNyemzlVWVcvvxy+mofNQ8+e7vZKYe4H8zxxEW3Zjakc7HukbjS8uOQ2luHsBvPzgf64bCXL56fzwDRk6jSete7E38ga/eH8+k/65F7xdUmdVx25uffo1a5cPqeTM4lJLG4zM+oGG9KOpHR7iU7dWhDdMmjHZZbrZYeOqtuQzv152hvTvz/brfeOqtuSx9bxpqH+889V+v+/t6d8229xiMRn7bvJXRI+5Gr9fTollTbm53E2t/2Vhm+YzMLNb/som777jdablGoyE6KhKlUondbkepVFJQWEh+QUEl1KL8zKZiju5eS/t+k9Bo/Yio35rYZt05kLTCpWydegk0vmkwgTXL/gZUKyIeper8CUmBzWqhIDfTg9FfPaPRwNbNmxg+4gH0el+aNEugTbtb2PTLTy5l64RH4ucfUPrEbkepUJCZcbKSI644mcvWkrViPSVncv+xXNTIIaR+tpTC5CNYcvM5/Oocou67DQC/hjEEtmrGoWmzsBlNZH7/MwV7D1Hn9j6VUIOrU2IqJvmvtXQbMgmNzo+6DVsTf0N3dm9xPdYj6ydww82DCQl1PdZTj+7APyiUZjf1RalUkdDhVnwDQti/fW1lVKPcDEYTvyTuYNydg/DV6WjZuAGdWiew+rfEcm3nr32HsFqtDO/fHY1azV39umO320nae9BDkf871+v+doddofTIn7fwzrTYDWkn01GplERFRjqW1Y+NYfeefWWWnz1vPmPuG4FGU/Y3yrET/kNq2kksFgv9evckJDjYE2H/a7mnUlAqVYTUvtAKUCsynpNH/ryq7a2cP47UQ1uwWkqo27gjYdHNKyrUCpVxMhWVSkVE5IXWrpjYBiTv2Vlm+d82rmX+B29hMBQTEBjEfQ9McFr//lvTsdlsxMY1YuToR4ip38CT4VeKgGYNyVq53vE8f/dBdHVCUdcIxr9pAwzHUrEWFl20/gABTb233mcyU1CqVNSsc+FYD4uO5+9D5T/W7Xb7JQsg++ThfxuiR5zIyEalUlI3IsyxrGG9KHbsLzve3/7aTa8HnqBmSBB39O7C0N5dADielkGDupEoLpoevEHdSI6lZdChZTPPVuIqXK/7+1px/PhxnnnmGXJzcwkODmbGjBnExMSUWfbYsWPcdttt3HPPPTz99NNX3LbbiUhKSgrPPvssWVlZbNiwgX379rFhwwYmTpzodkUqktFgxFfv67TMz9eXYoPBpezvm7dis9noeHN7du7eW+b25s9+j5KSEn7fkojFYvZIzBWhxFSMRufvtEyjC8BsKrrMK/7ZoLHzsFrNpB7awtmsoyiU3pMlX8xoMKDX+zkt8/X1w2AoLrN8p6696NS1FxknU9m04SeCQkIc6yY9+SKxcfFgt/PjiiW8MuUJZs5ddKEV5Rql8vPFklfoeG7JK23V8wnww8ffD3O+cyufJa8AbWQY3qrEVIz2kmNdqw/AZCzfsR4V15KC3Gz2JK6iaes+7ElcRc6pE5hLXM8V3qDYaMRPr3da5u+rd+pSPq9Hh9YM6dGRGsGB7Dt8nGfe/Qh/P1/63HITxUYTfr7ubccbXK/72x3eMEZk6tSp3HPPPQwePJjly5czZcoUFi5c6FLOarUydepUevbs6fa23b7qvPTSS4wfP56AgNKTdZMmTVizZo3b/1FF0+l1FF9yESouNuB7yQfYYDQy/7OFPPrQg1fcpkajoXuXTny95DuOHjteofFWFI3WlxJjodOyEmMhaq3fZV5xZSqVmpgmnTlx8A+O7d1w5RdUAZ1ej8HgfEIyFBejvyQZvVR4ZDTRdWP4eM6FwaiNmyag1WrR6nTcdudI/Pz92b9vt0firkzWomJ8Ai+cyM8/thQUYSkswifA+STvE+iPteDqEtjKoNH6YrrkWDcZC9Hqynes+/qHMHziB2z9+XPeeqwjR/f+Rv0mHQgMqVOR4VYYX52Ooku+UBUZjPjqdS5l60eFE1ojGJVSSUJ8HHf1686GxO3ntqOl6JKk43Lb8QbX6/52h12h8Mifu86cOUNycjIDBw4EYODAgSQnJ5OTk+NS9qOPPqJr166XbS0pi9uJSEFBAZ07d3Y08ymVStRq9RVe5TlRkRFYrTbSTqY7lh09nkK9es59hifTM8jMzuaxp5/njhGjmfbaDHLOnuWOEaPJzMouc9sWq5WMzCyPxn+1gkNjsNms5J5KcSw7nX6QGnUaXv5FbrJZreSdPvGvt+MJ4ZHRWK1WMk6mOpalHD9C1CUDVctitVnJ+ocxIgoU2LFfdv21omDfYQIT4h3PAxMaY8w8hTknl8LkI/jWj0blf+GkHpDQmILkI1URqltq1onBZrVyJivFsSwr9SChEeU/1mPi2zL2xaU8PSuR2x58g9OZx4mMbVGB0VacuuG1sVptnMi4cH46/Hca9aPCr/haBXD+UI6NCufIiZNO3RRHTpx0aztV4Xrd31UpPz+ftLQ0l7/8/HynchkZGYSFhTlu4FCpVNSuXZuMjAyncgcOHOD333/n/vvvL1ccbiciKpUKs9nsSESysrJQVmEzvl6no2OH9iz48isMRiN7k/ezOXEbvbp1dSoXW68uX30+n3mz3mHerHd4fNIjhAQHMW/WO4TWqknygYPs2ZeM2WzGZDLx9dLvOJubS+P4RlVSrytRa32JS+jF1tXvYzYVk35sO8f3rqdxm1tdytptNixmEzabBQCL2YTVUgJATtYxUvb/iqXEiNVq5kDSCtKPJREZd1Ol1sddOp2edh06s/jLTzAaDRxI3s2fib/TpZvrYMv1P60kL7f0TpDUE8f5fskimt9QeuveqewsDiTvxmw2U1JiYvm3/yM/P5fGTbz3JKVQqVBqNShUyoseu97RdXLRcqJGD8O/SRw+QQE0eG48aQu/B6DocAr5u/bT6MVHUWo1hA3uSWCLeDK/cx3s6y00Wl+a3NiLjcvep8RUzInD2zm4cz0JHS5/rFutFrA7H+sAGX8nY7WYMRkK+fmbNwiqUYcGzTtVZnXcptdp6dq2JR8tWYnBaGLXwaP8mrSLfp3auZTdlLSL/MIi7HY7+46k8M2aX+jcJgGA1s0aoVIqWbz6F0rMZpas2QhAm+bxLtvxBtfr/naH3a7wyN+CBQvo0aOHy9+CBQvKHaPZbObFF19k2rRp5b7jVGF3GdVTtmXLlrF69WoOHjzI0KFDWbZsGY899pijqcZdqYeTy1X+n+QXFPDWzNls37GLgMAAHhw1kh5dO7NnbzLPvvQyq5Z+5fKanbv38t+333PMI7Jrz14+mPcJGVmZ+Kh8iI2py/0j7iGhecUN5lp+uGLnJDEW5bLu6+dJPbQZnW8wNw98nPjWgzh5NImVHz3EwzNKm2bTjiTy/QejnF4bGXcTt0/4gpyso6z737PkZB1BoVARHFqPNj3HEZfgOi/H1erc8FSFbQvOzyPyOrt3JOEfGMi9ox6mU9de7N+7i1dfeopFS38G4IP3XmNH0laMBgOBQcG079iV4SMeRKPRkvr3cd578yWyMtJRazTExDZgxOjxxDVsXGFxpjat2BNewxcn0GiK81isQ9Nnkfr5t3TZ/QObEgZgTC39ZhL7n/uJe3IsSr2OzO9/Yu8jl8wj8snrBLe9oXQekUnTKnwekbxfDlTo9gyFuSz/7HmOJW9G7x9Mz6GP06L9IP4+lMSX7z3Ec3NKj/WUA4kseNP5WK8XfxP3/98XAHw773EO7/kVgAbNO9HvnhfwC6xZYXH29/ulwrYFpfOIvDL3C7bt2U+Qvx+P3j2EPh3bsmP/YR777wdsXPAeAC+8/wmJu/djNluoXTOYob06c1e/7o7tHDyeyqsffUFKWuk8Is+PG0l8bMXNI/JjUbcK2xZcO/v7no6VO2bjyFHPDBWoHVrTpfUDIDAwkMDAQMfzM2fO0KdPHxITE1GpVFitVtq1a8fPP/9MjRo1AEhPT+e2227Dz6+01TU/Px+73U7//v15+eWX/zEOtxMRgKSkJH755Rfsdjvdu3enTZvyz8NQkYnItaKiE5FrRUUnIteKik5EriUVnYhcKyo6EblWVHQicq2o7ETk8NG/PbLdhnH13C47cuRIhg0b5hisunTpUr744ovLlp81axbFxcUVe9cMQJs2ba4q+RBCCCHEteull17imWeeYc6cOQQGBjJjxgwAxo4dy6RJk2jR4uq7t91ORO6++27mzp1LUFDpzHS5ubk8+uijfPnll1f9nwshhBDin3nD7btxcXEsWbLEZfn8+fPLLF+eqT3cTkSKi4sdSQhAcHAwRUXee+ufEEIIUR14QyLiSW7f9mKz2TBcdG97UVERFovFI0EJIYQQ4vrgdovIwIEDGT16NHfffTcAX331Fbfe6npblRBCCCEqTnVvEXE7ERk3bhy1a9dmw4bSmTeHDx/OkCFDPBWXEEIIIa4D5bpr5rbbbuO2227zVCxCCCGEuIS0iJxz5swZvvjiC1JTU53GhsycOdMjgQkhhBCidGbV6sztRGTixInExcXRoUOHck/fKoQQQghRFrcTkfz8/CtO0yqEEEKIilXdu2bcvn23YcOGZGV55y/SCiGEEOLaVK4WkVtvvZVWrVqh1Wody2WMiBBCCOE51b1FpFzziJT3l3aFEEII8e9IInKO3LYrhBBCiIrmdiJisVj49ttv2b9/PyaTybH89ddf90hgQgghhKj+t++6PVh1ypQpbN++nY0bNxITE8PevXvR6XSejE0IIYQQ1ZzbiciePXuYMWMGAQEBjBs3jv/9738cOXLEk7EJIYQQ1z0bCo/8eQu3E5Hzd8qoVCoMBgMBAQGcOXPGY4EJIYQQovpze4xIUFAQeXl5dOrUibFjxxISEkJYWJgnYxNCCCGue3LXzDkfffQRKpWKxx57jBUrVlBYWCi/viuEEEJ4WHUfrOp2InL+92WUSqUkIEIIIYSoEFdMRIYOHYpCcflsbOnSpRUakBBCCCEuuO67Zp5++unKiEMIIYQQ16ErJiJt27atjDiEEEIIUQYZI3JOQUEB8+fPd5lZdeHChR4JTAghhBDVv2vG7XlEnnvuOZRKJSkpKdx5552oVCoSEhI8GZsQQgghqjm3W0T+/vtvZs2axfr16xk4cCC9e/fmvvvuK/d/+MYPUeV+zbVOoymu6hCqxOCGp6s6hCqx95cDVR1ClQnq1riqQ6gS9476tqpDqBIvPFFQ1SFUkcBK/d+qe9eM2y0iGo0GALVaTW5uLmq1mpycHI8FJoQQQojqz+0WkZiYGHJzcxk0aBB33XUXAQEBNGvWzJOxCSGEENc9W1UH4GFuJyJvvfUWAKNHj6ZFixYUFBTQqVMnjwUmhBBCiOrfNeN2IgKQk5PDrl27ALjhhhvw8SnXy4UQQgghnLg9RuTnn3+mX79+LFq0iC+++IIBAwawbt06T8YmhBBCXPfsKDzy5y3cbtJ49913+frrr4mNjQUgJSWF8ePH07NnT48FJ4QQQojqze1ERKvVOpIQKB28qtPpPBKUEEIIIUpV9zEiV+yaMRgMGAwGevTowYcffsipU6fIzs5m7ty59OjRozJiFEIIIUQ1dcUWkVatWqFQKLDb7QDMnDnTsU6hUDBhwgTPRSeEEEJc57xpPIcnXDEROXDg+p0lUgghhKhqNntVR+BZbt81I4QQQghR0WQiECGEEMKLVfeuGWkREUIIIUSVkRYRIYQQwotV99t3JRERQgghvJhdBqsKIYQQQniGtIgIIYQQXswmg1WFEEIIITxDWkSEEEIILyaDVYUQQghRZWSwqhBCCCGEh0iLiBBCCOHFZGZVIYQQQggPkRYRIYQQwovJr+8KIYQQQnhItWgR6dZKQ882GtQ+CnYeMfPNBiMWa9llG0WruLObjpAAJSmZVhb9bOBsQWm66aOCO7vraNlAjdliZ11SCb/sKKnEmrhHr4W7umlpFK2iyGjnx60l7DhcdoUHtFfTrqkagMRkMz9sNQNQK0jBoJs1xNRRoVRAaraV738v4VSu96be+QUFvD3zA/7asZPAwEAeGDWCHl07X7a82Wxm3MTHKDYY+XrBxwDk5eUz5ZXXOZGWhs1mo25UFOMeuJ/mTZtUVjWuiqEwlxWfv8DRfX/g6x9Cj6GP0aL9IJdyxw9s5dcVc8g4kYzON5D/vLHBaX3qke2s+fp1TqcfJTg0igEjplK3YevKqka51HvkXqLuu52A5o1IX7yK3Q88e9mysZNHUf/Jsah89WR+9xN7H52KraT0WNfXi+SGj18nuG0ChhMZ7J08nTMbtlRWNa7akF41Gda3FlqNkt//yueDRelYLK6fTx+VgqfGRtEwRk9YLQ3PvHmcPQeLnLYzqHtNAv1VGEw2fvszj0+WZGKzVWZt3FNYkMens19h786tBAQGM2zEo3To0tel3E8r/se6HxZTkJ+HTqenbcde3HX/JFSq0kvat19+yI7ETaSnpTDojjHcdvdDlV2VClXdb9+95ltEGtdT0bONhlnfFjP10wJqBSnp315bZlk/nYIHB/qyaouJp+cWcCLLyuj+esf6fu211A5WMvXTAt5fWkzPNhqa1FNVVlXcNrSzFqsNXvqsmP+tNTG0s5awENcDtX1TH5rH+vD2YgNvLTbQNMaHDs1KP6h6rYJ9KVb++79ipn5ezIlsG2P66Sq7KuUy68OP8FH7sGTRZzz75H+YOWceKX+fuGz5b75bRlBQkNMyvV7Hk5Mn8O2XC1j29SKGD7udF6e/htV6mczVS/z45XRUPmqefPd3bn/oTX5YNI3sk4ddymk0vrTsOJRedzzlss5QmMtX74/n5j4P8PTsP7ml74N89f54DEV5lVGFcjOlZ3PktTmkff7tP5ar1asjcU89RGKf+9kQ1w3f2CgaTp3kWN9q0dvk7Uzm57B2HJzyLq0Xv4+mVoinw/9Xbmzmz7B+oTz3dgqjnz5InVANIwbXvmz55CPFvPVxGjm5Zpd1W3cWMGn6Ee6YuJ9Hph4hNkrHrT1qejL8q/bFR2/g4+PD+5//xLjHXmbhvP9y8sRRl3KtburMS28vYu5XG3nl/a9JTTnM2lWLHevDwqO5c9REbmhzS2WG7zF2u2f+vMU1n4i0a6Jh6z4zmTk2DCZYk2hytABc6oYGPmScsbLzsAWLFVZvNREZqiIsRHluW2rWJJowmCDrrI3Ne820a6qpzOpckcYHWtRXsTqxhBILHM+0sS/FSpt418atmxr7sGmXmbwiO/lFdjbtMnPTuXKp2Ta27bdgMIHNBpt2makdosS37ByuyhmMRn7bvJXRI+5Gr9fTollTbm53E2t/2Vhm+YzMLNb/som777jdablGoyE6KhKlUondbkepVFJQWEh+QUEl1OLqlJiKSf5rLd2GTEKj86Nuw9bE39Cd3VtWuJSNrJ/ADTcPJiQ02mVd6tEd+AeF0uymviiVKhI63IpvQAj7t6+tjGqUW+aytWStWE/Jmdx/LBc1cgipny2lMPkIltx8Dr86h6j7bgPAr2EMga2acWjaLGxGE5nf/0zB3kPUub1PJdTg6vW4OZiffzvLiXQThcU2vl6ZTc+bg8ssa7HaWb7uDMlHists5cg8VUKRoXSFgtILUERt7zqvAZiMBpK2bOD2ex5Gp/elUdOWtLypM39s/NGlbO3wKPz8A0qf2O0oFAqyM1Id6zt2H0hC61vQ6X0rK3zxL1zzXTPhNZXsOXbhW8DJUzYC/ZT46hQUG+0uZU+evvBJLbHA6VwbdWoqyS+2EeTvvP7kKSsJcd71FoUGK7HZ4HTehbplnLFSP8K15SYsREn6RfVJP20jrEbZuWdchIr8IhvFpoqPuSKknUxHpVISFRnpWFY/Nobde/aVWX72vPmMuW8EGk3ZmdXYCf8hNe0kFouFfr17EhIc7ImwK8SZzBSUKhU168Q6loVFx/P3oT/LvS37pV+D7JTZsnItCWjWkKyV6x3P83cfRFcnFHWNYPybNsBwLBVrYdFF6w8Q0LRBVYTqtroRWrbuzHc8P55mJCRITYCfioKi8rfedWkbxISREfjqVeQVWPj4m8yKDLdCZKafQKVUUSeynmNZ3diGHNi7vczyWzatYcHc/2I0FBEQGMzw0f+ppEgrX3X/rRm3r7J//vknTZs2xc/PjyVLlrBnzx7Gjh1LdLTrN6/KpFErMJgunFwNJaWPdRooNjqX1aoVFBqcT8TGEjs6jQKtunRHX7otrca7DgCNGoxm5zoYTDjiv5hWXVq/887X9VJBfgpu76RhxR/eNx7mPKPBiO8l3278fH0pNhhcyv6+eSs2m42ON7dn5+69ZW5v/uz3KCkp4fctiVgsrs3Z3qTEVIxW5++0TKsPwGQsuswryhYV15KC3Gz2JK6iaes+7ElcRc6pE5hLXN/Da4nKzxdLXqHjuSWvtHXLJ8APH38/zPnOrV2WvAK0kWGVGmN56bUqiosvfIkoMpQmH3qd8qoSkU3b8ti0LY+I2hq6dwgmN99SYbFWFKOhGJ2vn9Myva8/RkNxmeU7dOlLhy59yUw/wR+//EBgcI3KCFN4gNtdM9OnT8fX15fDhw/z2WefERERwfPPP+/J2MrUJt6Htx4J4K1HAhg/xJcSs/PF9fxjYxnXVJPZ9UKs0ygwltgxme2O5xevM5V4UUcaUGIGnfrSOuCI/2ImM06J1Pm6XsxPBw8N0vHHPgs7jnjvOAmdXkfxJSek4mIDvnq90zKD0cj8zxby6EMPXnGbGo2G7l068fWS7zh67HiFxluRNFpfTMZCp2UmYyFand9lXlE2X/8Qhk/8gK0/f85bj3Xk6N7fqN+kA4EhdSoy3EpnLSrGJ/BConb+saWgCEthET4BzkmcT6A/1oLyJXGe1rVdEEtnN2Hp7CZMm1wPg8mKXn/h9OyrK23xNBj/3QjT9OwSTqSbeGRE+L/ajifo9L4Yi533i6G46IrdK3Ui6hJZN44v5s3wZHhVqrqPEXG7RcTHxweFQsGvv/7K3XffzciRI1mzZo0nYytT0kELSQcvfMMZ1VdPZKiKHYdLM/yoWsrSLgaj67ucccbmNH5E4wO1gpRknikdX5JXaCMyVMnBE6UX5MhaKjLOeNfQ8lO5NpTK0rteznfPRNRSkpXjGmfWWRsRNZWkZpeui6jpXE6vhXGDdCSnWFj/l3e3CkRFRmC12kg7mU5UZAQAR4+nUK+ec4vcyfQMMrOzeezp0iTZYrFQVFzMHSNGM+vtGdQJcx3wZ7FaycjMIq5+rMs6b1CzTgw2q5UzWSnUDIsBICv1IKERDcu9rZj4tox9cSkANquFmc/0okOf0RUZbqUr2HeYwIR4MpauBiAwoTHGzFOYc3IpTD6Cb/1oVP5+ju6ZgITGpH+9qipDdrExMY+NiRcGDT81Nor60Tp+TyrtnomN1nE2z3xVrSGXUqmgTqj3jRGpE1EXq81KZvoJ6kTUBSA15TCRdetf8bU2q4XszJOeDrHKyF0z51gsFnbt2sXatWtp3749gFfcabBtfwkdmqmpU0OJXgt92mlJTC77orr7qIXwmipuaOCDjwr6ttdy8rSVrLO2c9sy06etFr22dHzFzS3UJCZ7V3dFiQX2HLPSt60GjQ/E1FHSLMaHpIOuTa1JBy10aakm0E9BoK+CLi3V/HmunFYNDw3UcTzT5ril15vpdTo6dmjPgi+/wmA0sjd5P5sTt9GrW1encrH16vLV5/OZN+sd5s16h8cnPUJIcBDzZr1DaK2aJB84yJ59yZjNZkwmE18v/Y6zubk0jm9UJfVyh0brS5Mbe7Fx2fuUmIo5cXg7B3euJ6HDrS5l7TYbFrMJq9UCdkofWy4cwxl/J2O1mDEZCvn5mzcIqlGHBs07VWZ13KZQqVBqNShUyoseu46FOrloOVGjh+HfJA6foAAaPDeetIXfA1B0OIX8Xftp9OKjKLUawgb3JLBFPJnf/VTZ1SmXDZtz6d0xhOhwLX56JcMHhLJuc+5ly/v4KFD7lF6sfFQXHgP07hRCUEDp+xYdruWOfqHs2u9dLUIAWp2e1u278f1X8zAZDRzev4sd2zZxS9f+LmU3rV1Gfm4OACdTj7Hq289pmnCTY73FYqGkxITdZsdms1JSYsLmBdcrUTaF3WX0WtnWrVvHrFmz6NChA8888wzHjx/n7bffZvbs2eX6Dye+l3/lQuV08Twiu46YWXzRPCLPjfTj520mx4U6PlrFHd10hAQq+fvcPCI5+Z6dR0SjqdhbgPVaGN5NS8NoFcVGOz+cm0ckNlzJ2IE6npt/oQtjYAc17Zqcm0dkv5lVW0qTjjbxPtzdQ+vSpfPGVwZyCyumze4/vf6ukO2cl19QwFszZ7N9xy4CAgN4cNRIenTtzJ69yTz70susWvqVy2t27t7Lf99+zzGPyK49e/lg3idkZGXio/IhNqYu94+4h4TmzSoszt+yKn5OEkNhLss/e55jyZvR+wfTc+jjtGg/iL8PJfHlew/x3JzSAX0pBxJZ8OYop9fWi7+J+//vCwC+nfc4h/f8CkCD5p3od88L+AVW3K2cQd0aV9i2Gr44gUZTJjotOzR9Fqmff0uX3T+wKWEAxtQMAGL/cz9xT45FqdeR+f1P7H3kknlEPnmd4LY3lM4jMmlahc8jMmfUP99ifDWG9KrJsH6haNUK/tiez+wvLswjMmdaA7758ZSjFeXT/zYirJZzK8fopw+SfcbMf0ZH0qZFAHqtkrwCC78n5fHFsmzMZcxJUl4vPFH3X2/jYoUFeXwy62X27UrEPyCIO0ZOoEOXvhzct4N3Xp7MvK9Lj92P35/G7r82YzQWExAYwk239OD2ex52DE6fP/Ml/vjlB6dtPzBxCp16uM69czU6NAmskO24a9mfnkmihtzkHdNTuJ2IHD16lLi4uCsuuxJPJCLerqITkWtFRSci1wpPJCLXiopMRK4lnkhErgUVnYhcKyQRqVhud808+eSTbi0TQgghRMW57ger5uTkkJOTg8lk4ujRo455CAoKCiguLvu2KiGEEEJUDPv1Po/IypUrWbBgAdnZ2YwdO9axPCAggAcfvPItkkIIIYQQl3PFRGTUqFGMGjWKuXPn8vDDD1dGTEIIIYQ4x+ZF3Sie4PYYkYSEBAou+j2O/Px8tmzx/l+wFEIIIYT3cjsReeONN/D3vzBDob+/P2+88YZHghJCCCFEKW8YrHr8+HHuuusu+vTpw1133UVKSopLmQ8++IABAwYwaNAgbr/9dn777Te3tu32zKr2c79weJ5SqfSKCc2EEEKI6swb7nCZOnUq99xzD4MHD2b58uVMmTKFhQsXOpVJSEhgzJgx6PV6Dhw4wIgRI/j999/R6XT/uG23W0T8/PzYtWuX4/muXbvw9ZWfWBZCCCGuRfn5+aSlpbn85ec7z/d15swZkpOTGThwIAADBw4kOTmZnJwcp3KdOnVCf+73v+Lj47Hb7eTm5l4xDrdbRJ566ikeffRRGjRogN1u5+jRo+WeVVUIIYQQ5WPz0G/NLFiwoMzr+IQJE5g48cKsxhkZGYSFhaE69xMLKpWK2rVrk5GRQY0aZf/q8bJly6hbty516lz5RzXdTkRatWrFDz/8wM6dOwFo2bIlQUFB7r5cCCGEEF5k1KhR3HbbbS7LAwP/3cyx27ZtY+bMmXz66adulXc7ETEYDGg0Gtq2beu0TH/Jz7ALIYQQouJ4aoxIYGCgW0lHeHg4WVlZWK1WVCoVVquV7OxswsPDXcru2LGDp556ijlz5lC//pV/ORnK2SJy8WDV8/bv3+/uJoQQQghxjalZsyZNmjRh1apVDB48mFWrVtGkSROXbpndu3fz2GOP8f7779Osmfs/JOp2InLgwAHHY5PJxMqVKzl79qzb/5EQQgghys8b7pp56aWXeOaZZ5gzZw6BgYHMmDEDgLFjxzJp0iRatGjBtGnTMBqNTJkyxfG6N954g/j4+H/cttuJyMW0Wi3Dhg1j6NChTtO+CyGEEKJiecPMqnFxcSxZssRl+fz58x2Pv/326n6FulxjRM6z2Wzs2bPHaaZVIYQQQojyKvcYEbvdjkqlol69ejz//POejE0IIYS47tk9dPuut7iqMSJCCCGEEBXhionIkSNH/nF9gwYNKiwYIYQQQjjzhsGqnnTFROShhx5ydMlkZGTg7++PQqEgPz+fiIgINmzYUBlxCiGEENclbxis6klXTETOJxovv/wybdq0oV+/fgCsWbOGpKQkz0YnhBBCiGrN7R+9+/PPPx1JCEDfvn35888/PRKUEEIIIUrZ7Z758xZuJyJ2u92pBeSvv/7CZrN5JCghhBBCXB/cvmtm6tSpPP74447fljGZTLz99tseC0wIIYQQ3tV64QluJyJt2rRh3bp1HD9+HIDY2Fg0Go3HAhNCCCGEDFZ1cuLECUf3jI+PD3FxcR4JSgghhBDXB7fHiCxbtozRo0ezf/9+9u/fz+jRo1mxYoUnYxNCCCGue9V9sKrbLSKffvop3333HaGhoQCcOnWKBx54gFtvvbVc/2FC88DyRVgNJCaeruoQqsTdj5+q6hCqxKrpmVUdQpW5d9TV/ejVte6RBUOrOoQq8b/m1+edkx2aVHUE1Uu5umbOJyGXPhZCCCGEZ1T3G1Td7pqpW7cu77//PllZWWRlZTF79myio6M9GZsQQgghqjm3E5Fp06Zx/Phxbr31VgYPHsyxY8eYPn26J2MTQgghrnsyRgSwWq18+eWXvPvuu56ORwghhBAX8aakwRPcahFRqVT8+uuvno5FCCGEENcZt7tmunbtyieffMKZM2cwGAyOPyGEEEJ4js3umT9v4fZdM7NnzwbgzTffdCxTKBTs37+/4qMSQgghxHXB7UTkwIEDnoxDCCGEEGWwe2yQiMJD2y2fcs0jkpOTw65duwBo2bIlISEhHglKCCGEEKVksOo5P//8M/369eOLL77giy++oH///qxbt86TsQkhhBCimnO7ReTdd9/l66+/JjY2FoCUlBTGjx9Pz549PRacEEIIcb2TmVXP0Wq1jiQEICYmBp1O55GghBBCCHF9cDsR6dGjBx9++CGnTp0iOzubuXPn0qNHD4xGo9zGK4QQQniIzKx6zgcffADAzJkznZbPnj1bbuMVQgghPMSb5vzwBLl9VwghhBBVply37wohhBCicnlTN4onuD1GRAghhBCiokmLiBBCCOHF7B4bJOIdM6tKi4gQQgghqoy0iAghhBBeTO6aEUIIIUSVkcGqQgghhBAeIi0iQgghhBezVfO+GWkREUIIIUSVkRYRIYQQwotV9zEi13QiYijK5acvnydl/x/o/ULoPPhxmtw0yKXciUNb2fLjB2SlJqPzDeKhlzc4rf/oxe4UF5xGoVABEFG/FXdM/LRS6vBv9Gqro28HXzRq+OtACYtWF2Kxll22cYyae/v4USNIxfGTZj5dWUhOfulvSw/r7kvbZlr0WgXFRjubthv5cbP3/pDhnYMjuXdoXXRaJRv/OMVbcw5jtrh+Un18FEx9sgmNGwQQHqZj4rM72bE3z7He30/F5LENaN+6BgDf/5jOp1/9XWn1KI+8wiJenfcFibv3ExzgzyPDB9OnY1uXcvOXrOKzZavR+Kgdy75843kiw0IBOJSSyivzviDlZCYxkXV4YdxIGsVEV1o9rsaQXjUZ1rcWWo2S3//K54NF6VjK2t8qBU+NjaJhjJ6wWhqeefM4ew4WOW1nUPeaBPqrMJhs/PZnHp8syfS6n1iv98i9RN13OwHNG5G+eBW7H3j2smVjJ4+i/pNjUfnqyfzuJ/Y+OhVbiRkAfb1Ibvj4dYLbJmA4kcHeydM5s2FLZVXjX+nWSkPPNhrUPgp2HjHzzQbjZc9tjaJV3NlNR0iAkpRMK4t+NnC2oPT48FHBnd11tGygxmyxsy6phF92lFRiTSpGdU9ErumumfWLp6NSqXnk9T8YcP+brP36JU6nH3Ypp9b40rzDULrc9n+X3dZtD89l8rs7mPzujmsiCWlWX02/Dr68/WUeT88+S2iwisGdfcss669X8MjQAJZtKmby22dIybAw7vYAx/rfdpp4Ye5ZJr6Vw+sL8mjXXMuN8ZrKqkq5tG0VwoihdfnPC7sYNiaRiDp6Hrg35rLldyfn8fI7+zmdY3JZN/HBBui0KoY9mMjYJ7bTp1sY/XuEeTD6q/fmp1+jVvmwet4Mpk0YzYxPvuJYanqZZXt1aMPGBe85/s4nIWaLhafemku/ju1Y98nbDOjcnqfemovZYqnMqpTLjc38GdYvlOfeTmH00wepE6phxODaly2ffKSYtz5OIyfX7LJu684CJk0/wh0T9/PI1CPERum4tUdNT4Z/VUzp2Rx5bQ5pn3/7j+Vq9epI3FMPkdjnfjbEdcM3NoqGUyc51rda9DZ5O5P5OawdB6e8S+vF76OpFeLp8P+1xvVU9GyjYda3xUz9tIBaQUr6t9eWWdZPp+DBgb6s2mLi6bkFnMiyMrq/3rG+X3sttYOVTP20gPeXFtOzjYYm9VSVVRXhpms2ESkxFXNo58/cMnAyGp0fUQ3a0KBFd5K3LXcpGx6TQLN2Qwiu5d3f/Mrj5hZafttlJP20lWKjnZW/F3Nzgq7Msjc21pB+2spfB0qwWGHFb8VE1/ahTs3SD2RWjpWSi87bdjvUDvHOD2u/HmGsWpvJ8RPFFBRZ+Pzrv+nXo06ZZS0WO0tWnGR3cn6Z33pvaVuTL79LxWSykZltYtXaTAb0CvdwDcrPYDTxS+IOxt05CF+djpaNG9CpdQKrf0ss13b+2ncIq9XK8P7d0ajV3NWvO3a7naS9Bz0U+b/X4+Zgfv7tLCfSTRQW2/h6ZTY9bw4us6zFamf5ujMkHykuc39nniqhyFC6QkHpcR5R2/sS7sxla8lasZ6SM7n/WC5q5BBSP1tKYfIRLLn5HH51DlH33QaAX8MYAls149C0WdiMJjK//5mCvYeoc3ufSqjBv9OuiYat+8xk5tgwmGBNool2TdVllr2hgQ8ZZ6zsPGzBYoXVW01EhqoIC1Ge25aaNYkmDCbIOmtj814z7Zp63z6/Epvd7pE/b3HNds2czU5BqVRRIyzWsSw0qjGph/+8qu398PmT2O02akc1pctt/0ftqMYVFapHRIT6sPNQseN5WpaFIH8lfnoFRQbnAyyilg9pWRe+9ZaY4dRZKxG1VGSeKW3v7NdBz4COvug0Ck6dtZK4z7UFwRvE1vXjt61nHM+PpBRSM0RDYIAP+QXl/2Z/8QTHCgXUr1d2q1JVOpGRjUqlpG7EhdaahvWi2LHftfUP4Le/dtPrgSeoGRLEHb27MLR3FwCOp2XQoG4kCsWFWjeoG8mxtAw6tGzm2UpcpboRWrbuzHc8P55mJCRITYCfioKiy7TV/4MubYOYMDICX72KvAILH3+TWZHhVqqAZg3JWrne8Tx/90F0dUJR1wjGv2kDDMdSsRYWXbT+AAFNG1RFqOUSXlPJnmMXvhmdPGUj0E+Jr6606/jSsidPX8g6SyxwOtdGnZpK8ottBPk7rz95ykpC3DV72au23N4jH330EXfccQchId7RtGc2FaPR+Tst0+oDKDEVXeYVlzfg/jepHd0MsLP9l4Usnf0AY6asRucbWEHRVjytRkGx6cKH0nDusU7jmohoNQoKi52/IhpMdnTaCxek1VsMrN5iIDpMRat4rdO2vYlep6Ko+ELCUXjuYuSrV5U7EUn8K4cRw6J55b2D1AhWM6BnHbRa72sJKjYa8dPrnZb5++opNhhdyvbo0JohPTpSIziQfYeP88y7H+Hv50ufW26i2GjCz9e97XgLvVZF8UXHbpGhdH/rdcqrSkQ2bctj07Y8Impr6N4hmNx87+2WuhKVny+WvELHc0teAQA+AX74+Pthzi9wKm/JK0Ab6Z1djxfTqBWO8xmAoeT8uQ2KLzlUtWoFhZec74wldnQaBVp16fnt0m1pNd7x+yrlYfeycUwVze1EJDs7mwEDBtCxY0fuvfdebrjhBk/GdUVqrS8lxkKnZSZDIRqtX7m3FRnX2vG4XZ9x7Ev8npNHk4hr0f1fx1lR2jXTMrJ/aeJ1ONWMqcSO/qJE4nxSYSxxTSBMJc5Jx/nyxjKSjdQsK83r2xnc2Zdv1pU/qatovbrU5qlHGwGl4z0MRit+vhcOWz/f0sSh2FD+i9J7Hx3hsXEN+HpeW/ILzKz7NZuenS8//qCq+Op0FBmcBw8XGYz46l274upHXehaSoiP465+3dmQuJ0+t9yEr05L0SVJx+W2U1W6tittsQDYd7gYg8mKXn+hB9lXV7q/DcZ/d2ZOzy7hRLqJR0aE8+qc1H+1rapiLSrGJ/DCl7Hzjy0FRVgKi/AJcP6i5hPoj7Wg6j/Tl2oT78PwHqUJ8tF0KyXm0kTivPOPjWWMMTVdUvZ8eWOJHZP5wpez88mKTqPAVMY50tvZvagbxRPcTkReeOEFHn/8cZYvX84LL7yAWq3m3nvvZeDAgWi1ZQ8k8qSQ2jHYbFbOZqcQUjsGgFMnD1ArvCKaHhVet+MT95mcukvGDvYnOsyHpP2ln87o2j7kFdpcWkMA0k9buLnFhYuNRg2hISrST5d98VYqITTEO4YPrd2UzdpN2Y7nU59sTINYPzb8fgqABrH+nDlbclXdMgWFFqa/fcDx/KGRsew/VPAPr6gadcNrY7XaOJGRTd3w0kTp8N9pTknH5SgAzh0SsVHhfPnDOux2u6N75siJkww713XjDTYm5rEx8cKdTU+NjaJ+tI7fk0q7Z2KjdZzNM19Va8ilVCqoE3rtjRc4r2DfYQIT4slYuhqAwITGGDNPYc7JpTD5CL71o1H5+zm6ZwISGpP+9aqqDLlMSQctJB288Lkb1VdPZKiKHYdLP9NRtZTkF9lcumWA/2/vzuOiqv7Hj79mBhiWYRMREXEX0tRwAcVdc0ENMc09K+ujZa6VfS3NtbLUzF9ali1q5lLmkopbZqmlgpkbpuCSKC64IPsywMz9/YGOIqCDzgDq+/l4zOMxc+fcM+/DPcy859xzz3ApwZhv/oidDZR3VROfkDe/JDnNiI+nmphzef3Fp7yGSwmP+PDCQ6hYnzaOjo707duXkSNHcv36db7++ms6duzIpk2brBVfkey0jtQO6Mju8Llk6zO4cPofTh3ZTt2gsAJlFaOR3Bw9BkMOiqLk3c/N+wBPuX6RC6f/wZCbTW6Onn3bviUzPRGfGo1KuknFsidKT8un7PEur8FBq6JbSwf2HCl8iP1ATDaVPDU08rfDRgOhLR05fyWX+AQDKqB1Q3sc7fM+mKpXsqFdEweizxS86qAs2PL7Zbp19KaaryM6Jw0v9qnC5u1Fn+e3tVFhd2OI1sZWbboPUKmiPS7ONqjV0KxxObqHePP9yrJ3+a6DvZa2QQF8/fMGMrP0HI45za79h+nSqmmBsjv3HyYlLR1FUfj3VCwrt/xB6yYNAGj8pB8atZqfNv9Bdk4OP2/ZAUCTev4l2Zxi+X1PEp1auuPrrcXJQU2/bp78tiepyPI2NipsbW4cb82t+wCdWrnj6pw3ouLrraV3F08OHy97IwQqjQa11g6VRn3b/YKnDC8sXUflwc+hq1MTG1dnao0fxvklawFIPxlLyuHj+E0cjlprh1dYB1zq+xO/ZmtJN6fY9h3PJvhJWyqWU+Oghc5NtUQeK/z96MjpXLw9NDxVywYbDYQ003LhmoHLicYbdeXQOUiLgxa83NU0r29L5LGH7/Jdo9E6t7JCpZj51f/atWv8+OOPrF27lnr16vH8888TGBhIXFwcgwYNYseOHWa94De/PUi4+WWmJ7F16Xhio/fg4ORG67C3qBMYyvlT+1n9xRBGzzkIwLkTkaz87IV8+1auHUS/MT9w7eJJwhe9SdK1OGxstVTweYLWPcZSsWp9i8UZGXnNYnXdrmOQPV2CHbG1hQPR2fxw2zoiU4e6sWl3pmkUpU41WwZ0dsLDVcOZi7ks3JBKQrIRFTC6nwvVK9mg0ahISjWy54hl1hGJjvj3gesoTN+wygzs5YtWq2bHnmt88sUJ0zoiP3zRhCUrz5lGUX7+tineXvlPPTz3SgTxV/S0b+nJqP/VRKezIe5CJl8u/o99BxMfOL7waQ/+bf1OyWnpfPDVD+yLOo6rzonh/XvQuWUQB4+f5I2Pv2DH9/8PgPfmfkfkkePk5ORSwcONXh1b07fLrVOMMWfi+PDrH4g9n7eOyIRXB+Ff3XJXkw38wvKntnp09OC5Lp5obVXsPpDC5z/cWkdk/tRarNx01TSKsvBjP7zK5x/lGDwuhisJOYwZ7EOT+s44aNUkp+by1/5kfvjlSqFr0BTX69/3euA6bqo9cQR+k0bm23Zi2jziFq+mzZGN7GzQjay4SwBUH/MSNccOQe1gT/zarRx9/Y51RL77CLegp/LWERk11eLriGyZdX8XB9zL7euIHD6Vw0+3rSMyfpATv+7Tsz8mb8TE31dD73b2uLuoOXtjHZHrKdZdR2TemJKdPzh5iXW+GE59ofCrkUqa2YlIy5Yt6dmzJwMGDKBixfyXS86dO5dRo0YVsWd+lkxEHhbWSkTKOmslImWdNRKRh4U1EpGHgSUTkYeJtRKRsq6kE5FJ31tnFGfai2Xj1KRZc0QMBgMjRoygX79+hT5vbhIihBBCCHE7s+aIaDQaVq5cae1YhBBCCHEHo2KdW1lh9mTVpk2bsmXLFmvGIoQQQog7KEbFKreywuzLd9euXcuiRYuwt7fHwcHBdAng3r0Px48oCSGEEKLsMTsRWb367j/AJIQQQgjLK2PLWlmc2YmIj4+PNeMQQgghxGPI7ETk0qVLzJo1i+joaPT6Wyt8bt++/S57CSGEEOJBGMvQfA5rMHuy6vjx4wkODkZRFD755BMaN27Ms88+a83YhBBCiMeeoihWuZUVZiciiYmJ9O7dGxsbGxo2bMjHH3/Mzp07rRmbEEIIIR5xZp+asbXNWwrW0dGRixcvUr58ea5fv261wIQQQggBShn6XRhrMDsRadKkCUlJSfTv35+ePXtiZ2dHSEiINWMTQgghxCPO7ERk3LhxAPTo0YOgoCDS0tLw8/OzWmBCCCGEAGMZms9hDfdMRDIzC/4Kq7u7O+7u7mRmZuLg4GCVwIQQQghBmZpYag33TEQaNmyISqXK94e4+VilUnH8+HGrBiiEEEKIR9c9E5Ho6OiSiEMIIYQQhZB1RIQQQgghrMTsyarR0dFMnjyZ6OhosrOzTdvl1IwQQghhPWVhisiZM2d45513SEpKws3NjRkzZlCtWrV8ZQwGAx988AF//vknKpWKoUOH0rt373vWbfaIyJQpUxgzZgxVq1Zl586dDB06lDfeeKPYjRFCCCHEw2Xy5MkMGDCArVu3MmDAACZNmlSgzIYNGzh37hy//vorP/30E/PmzeP8+fP3rNvsRCQ7O9u0xHuFChV444032Lp1a/FaIoQQQohiUYyKVW4pKSmcP3++wC0lJSXf6yckJHDs2DGeeeYZAJ555hmOHTtWYFHTTZs20bt3b9RqNeXKlaNDhw5s2bLlnu0z+9SMRqMBwNXVlejoaLy8vEhMTDR3dyGEEELcB2utI/L999/z+eefF9g+YsQIRo4caXp86dIlvLy8THmARqOhQoUKXLp0iXLlyuUrV6lSJdNjb29v4uPj7xmH2YlI165dSUxMZOjQofTv3x+j0cioUaPM3V0IIYQQZciLL75Y6I/Xuri4lGgcZicigwcPBqB169bs27cPvV6PTqezWmBCCCGEyDs1Yw0uLq5mJR3e3t5cvnwZg8GARqPBYDBw5coVvL29C5S7ePEiDRo0AAqOkBTF7Dkif//9N+np6QD88ssvzJw5k7i4OHN3F0IIIcRDyMPDgzp16hAeHg5AeHg4derUyXdaBiAkJISff/4Zo9HI9evX+e233+jcufM96zc7EZk2bRqOjo6cPHmSRYsWUalSJSZMmFDM5gghhBCiOKw1WbU4pkyZwtKlS+ncuTNLly5l6tSpAAwZMoSoqCgAwsLCqFy5Mp06daJPnz4MHz4cX1/fe9Zt9qkZGxsbVCoVu3bton///gwaNMis2bBCCCGEuH9lYWHVmjVr8vPPPxfY/s0335juazQaU4JSHGaPiOTm5nL48GG2bdtGs2bNgLzFS4QQQggh7pfZIyKjR49m0qRJBAcHU7t2bc6cOUPVqlWL/YIpaWUgtSthuTmPZ8I2dXrT0g6hVGxK1pZ2CKXmvbdSSzuEUrG83t+lHUKpCHk7sLRDKB1jYkr05aw1WbWsMDsR6dChAx06dDA9rl69er7rj+fPn8/rr79u2eiEEEII8Uiz2I/ebdu2zVJVCSGEEOIGRVGscisrzB4RuZey1CghhBDiUWF8xE/NWGxERKVSWaoqIYQQQjwmLDYiIoQQQgjLe9TPOFhsRORR/0MJIYQQwvLMTkQ+/PDDu25buHChZSISQgghhElZWFnVmsxORPbv319g299/37p2/s4154UQQggh7uWec0Q2b97M5s2buXDhAqNHjzZtT0tLw97e3qrBCSGEEI+7sjR6YQ33TESqV69O27ZtiYqKom3btqbtOp2O4OBga8YmhBBCPPaMj/gczHsmIk888QRPPPEE7du3x83NrQRCEkIIIcTjwuw5Il999RWpqank5uYyYMAAAgICWLdunTVjE0IIIR57Mln1hj179uDs7Mxff/2Fl5cXW7dulStlhBBCCPFAir2g2d9//03Hjh3x8vKS1VSFEEIIK3vU1+kyOxHx8PBg8uTJ/PnnnwwdOpTc3FwMhsfz5+2FEEKIkiK/NXPD7NmzqVGjBrNmzcLV1ZX4+HheeuklK4YmhBBCiEed2YlIVFQUCxcu5O233wYgMTGRbdu2WS0wIYQQQshkVZO5c+eyatUqXFxcAKhfvz5xcXFWC0wIIYQQj75iTVb19PTM99jW1taiwQghhBAiP5mseoOTkxPXrl0zXSkTGRmJs7Oz1QITQgghBChGY2mHYFVmJyJjx45lyJAhnD9/nkGDBhEbG8uXX35pzdiEEEII8YgzOxFp0KABS5Ys4cCBAwA0bNjQNF9ECCGEENbxqF++W6w5Is7OzrRp08ZasQghhBDiMVPslVWFEEIIUXIe9cmqZl++K4QQQghhaTIiIoQQQpRhZWnxMWt4qBORrIwkdq16j/MndmPv5E5QyBvUahhaoNzF0xH889t8rl04htbRhQHv/J7v+dTr59nx83iuxB1B5+ZNi7CJVK7dvKSacd86NXOkW0tH7GxV/H1Mz5LwFHKL+PmfOtXteKGbM+VcNfx3Podvf0kmITnvkrD/9XChWX17cg23Ovuwj65S1kYD01OTWfrlZI4f3ovO2Z2wgaMIbNW1QLlt6xYTsWM9169eQufiRuvOfekY9hIA169e4v03ns1XXp+VSc8X3qRD9xdLohn3JTMtifWL3+P0v7tx1LnzdK83qN+sYF8/Ex3BrvXzuXTuGPaOLoyZmb+vx506wJYfP+LaxdO4eVam2/OTqVK7cUk1o9jSUpNZ+PkHHD0UgbOLG889P5zgNiEFym1dv5zfNv5Eakoy9vYOBLXsSN+XRqHR5L3FrV72JQcjd3LxfCyhvV/m2f5DS7op96VdQzs6NLHD1kbFoVM5rPw9q8j/cT9fDX3a2ePurCY23sDSXzNJTM37J7bRQJ/29gTUsiUnV+G3/dn8cTC7BFtinqqvD6TyCz1xrufHxZ/COfLKu0WWrT76RWqMHYLG0YH4NVs5OnwyxuwcAByq+vDUtx/hFtSAzHOXODp6Ggm/7y2pZlicJCJl2O5fpqHW2DJo4l8kXIxm86JXKef9BOUq1s5XzsbOEf/AXtQK6MbBPxYUqGf7irfwqhJAl5e/5lz0Tn5bOpq+b2/FQVeupJpSbPVq2tGtpSMzvk8kKdXIqH5uPNtOx8+/pRUoq3NUMbKvK4vWp3DohJ6e7XS83tuV979NNJXZtDudNb+nl2QTiu2nb6ejsbHl42//4HxsNPM/GolPNT8q+dbKV05RFF4c+SE+VWtzLf48895/DXcPL5q07EI5T2/mLI0wlb12+TyTR4bSsFmHkm5OsWxaNg2NjS1j5/xFfFw0yz97FS/fJ6jgk7+v29k5EtCyF/VyuvHnxvx9PTMtiRVzh9Ft0FTqNO7I0ciNrJg7jFEfb8PBybUkm2O2H76eiY2NDXMXb+XcmRPM+WAMVarXxqdKzXzlGga2pmX7UJx0zqSlJvPFzHfYFv4TIWEDAfDy9qXPiyP5Y+ua0mjGfXmiqoYOTeyYtzqD5HQjQ0Id6dpMy/rd+gJlnexV/O8ZR5b/lsnR/3LpFqxlcFcHPv0pA4AuzbRUcFMzeWEqLo5qRj3nSPx1A8fPlq0fLtVfvMKp6fPx7NQKtYO2yHLlO7ak5ttDiej0IlkXr9Bk1efUnjyKmAmzAWi4dDaJEYfYFzqECl3a0Pinueyo04nsa4lF1ilKz0M7RyQnO4MzR7fRpNMobLVOVKzemKp123Py4PoCZSv4NsCvURjO5XwLPJd09QzXLhyjcaeR2NjaU6N+Z8pV9OPM0V9Lohn3rUWAPbsOZnHxqoGMLIV1O9NpGWBfaNnGdey5cDWXv4/pycmFtTvS8PWyxbu8poSjvn/6rAwORv5GaL/h2Ds4UqtOIxo0acO+neEFynbqMZgqNeqg0djg5VONBoFtOR1zqNB6I3eGU6tOIzwq+Fi5BfcvW5/BsX+20a7HKOzsnahSuzH+T7XnyN6Cfd2nRgOeah6Gu2fBvh53+iA6V0+eDAxBrdbQILg7js7uHD9QNn8zSp+Vyf69v9NzwGvYOzjiVzeAgMDW7N6xqUDZCt6VcdLdWGBRUVCpVFy5dOsnKFq2f4YGjVtg7+BYUuE/sKZ17Ij4N4f460Yy9bAlUk/TuoWvZv1ULRsuJRg4dDKXXANsjtDj46nBy119oy5btkTqydTD5UQje47m0LSuXUk2xyzxv2zj8vrtZCck3bVc5UE9iFu0irRjp8hNSuHkh/Op/ELeSKdT7Wq4NHySE1PnYczSE7/2V1KPnqBiz84l0ALrMCpGq9zKimKNiOzdu5dz586Rm5tr2jZw4ECLB2WO5KuxqNQa3Dyrm7Z5ePtz6czfxaon8fIpXMr5YqfVmbaV8/Yn8fJJi8VqDT6eNhyMvjWCEXc5B1edBicHFemZSoGycfG3jll2DlxJNODjacOla3nfiNoHOtI+0JFriQbC/0xn//GC37pK05WLZ1GrbfCqVM20zaeqPyeP7b/rfoqicOr4AVp2fK7Q5yJ3bqDLc2V7mD4hPha1RoNHxVt93cvXn7MnitfXoZDZ9wpcuVA2+3r8xXNo1Boq+lQ1batSvTbRRw8UWn7vzi18/9XHZGWm4+ziRr/BY0ooUuvw9lAT9V+O6fGFq0ZcnNQ42qvIyFIKlL1w7dYHS3YuXEsyUtFDTUqGEVdd/ucvXDXQoObDOyDu/GRtLm/YbnqcciQG+4qe2JZzQ1e3Fpn/xWFIS7/t+Wic69YqrCpRBpjdE9955x2OHj1K3bp10WhK/5t0TnZGvuQBwM7emRx98U4v5GRnYGeff6l6O3tnMlIuP3CM1mRvpyJTf+vNKPPGG5ODtmAiYm+nIjUjf/abmWXEXpu3XP+2yAxWbE0lU69Qr6Ydw55zJSktiVNxOZQV+qxMHByd8m1zcNShz8y4634bV36JoigEt+9R4LnTxw+SmpxAw2YdLRmqxWXrM9Da5+/rWgdn9FnF6+uVawaQmnSFqMhw6jbuTFRkONevniMnO9OS4VpMVmYG9oUc86wijnlwmxCC24QQf/Ecu//YiItb2T21ag472zv+x7Pz7tvbQUZW/rJaWxVpd/zfZ2Ur2Nup0Nrm/Z/fWZfWTmWlyK1P4+RIbvKt09C5yakA2Dg7YaNzIiclNV/53ORUtD5eJRqjJckckRsOHjxIeHh4mfmhO1s7R7L1+edD5OjTsNU6FbGHdeuxtuD69rwYmpcwnTibk/cmo731RnLz/u1vNjfdWfZm+awbZc9eujVacuRkNhFRWTSpoy1TiYjW3oHMjPwfvFmZaWjvMtS+Y/MKIndu4M33F2NrW3AYOmLnegKadijzw/V2Wkf0Wfn7qD4rDa198fqoo86dfiO/YNvKmWxa+j616rWgRp1gXNwrWjJci7F3cCTrjmOemZF+z+NVsVIVfKrU5IcFMxj5zixrhmhRTfxt6Pe0AwCnLxrIzslLJG66eT+rkDmm+jvK3iyfla2gz1FMj28mK/Z2KvTZD++HmyE9AxuXW8n5zfu5qenkpqVj45w/cbdx0WFILdtz4O7mUU9EzJ4jUrFi2XqzcvWshmI0kHwt1rQt4VIM7l61i96pEO5etUi9HpcvGbmfeqxtb1QWr02/ymvTr/LpsiQuXM2litetPLJKRRuS0wwFRkOAAmXtbKFCORsuXM0tUBbIu1qmjH1ZqlCpKkZjLlcunTVtOx97gkq+NQstv2f7Wn5du5DRk7/B3aPgN6FsfRYH9m6jWduCV56UNR4Vq2E0GEi4HGvadjkuBs9Kxe+j1fyDGDJxFePmRfLs/2ZyLf4MPtXrWzBay6lYqQoGo4H4i+dM2+JiT+JTpcY99zUacrkSf8Ga4Vnc/phcxs5PZez8VL78JYNLCUZ8PG+NPlcuryYl3VjgtAxwo+ytt3M7GyjvqiY+IW9+SXJa/ud9ymu4lFB25ggUV+q/J3Fp4G967NLgCbLir5JzPYm0Y6dwrOGLRncrUXdu8ASpx06VRqjCDGYnItWqVeOll15i0aJFLFu2zHQrLbZ2jlR7siP7f51LTnYG8bEHiP13O7Ubdi9QVjEayc3RYzTkggK5OXoMuXlfK9w8q+PhXYcD274gN0fPmaPbuH4phur1OpV0k4plz+EsWjdyoJKnBkd7FaGtdfx1KKvQsgeOZ+FTwYYmdbTY2kBYGx3nL+eY5oc0qatFa6dCpYIna9oR3MCeQzFla46I1t6RgKCnCf9xPvqsDE5HH+TI/h0EtXmmQNl9uzayfsU8Rk5aQHmvyoXWd3jf7zg6ueBXL8jaoT8wO60jdRp1ZMcvc8nWZ3Du5AFiDm2nQXDRfd1QSF8HuHT2GIbcHPSZafy6ciau5SpSq16rkmyO2bT2DjRu1o61Kxagz8rk5PHDHNy3kxZtC16yvXPbL6QkXQfgQtx/hK9eTN0Ggabnc3Nzyc7WoxgVjEYD2dl6jIaydcXInfYdzyb4SVsqllPjoIXOTbVEHit8lPLI6Vy8PTQ8VcsGGw2ENNNy4ZqBy4nGG3Xl0DlIi4MWvNzVNK9vS+Sxsnf5rkqjQa21Q6VR33a/4FSAC0vXUXnwc+jq1MTG1Zla44dxfslaANJPxpJy+Dh+E4ej1trhFdYBl/r+xK/ZWtLNsRhFUaxyKytUipnRvPtu4ddzf/TRR8V6wdm/WK7xWRlJ7Px5AhdO7kHr6EbTLm9Sq2Eol87sZ/PCobz8ft6ktounIwn/Ov8aEd41Agl99Qfg5joi73Ll3I11RHpMsug6IlGHrlisrtt1Dnaka4u8dUT2H9Pz/W3riHz4ugfhf6azNyovOalbw45BXZ3xcNXw34W8dUSuJeW9Sb072B1fLxtUKriaaGDjX+lEHn3wRGRQL8teEpqemswP8ycTfWQvTs5u9Bg4msBWXTl17ABfTH/ddFnuxNe7kJhwJd9pxMBW3Rjw6kTT43nvv0a1WvUI7T/CojECXE4u+rLD+5WZlsS6RRP479geHHRudOj1JvWbhXL2xH6W/b+hjJ+f19djoyP5flb+vl7VP5CX/i+vr69e8CYno3YBUKteK7oMeA8nFw+LxVndI/XehYohLTWZ7+a9z7+HI9E5u9J70AiC24QQ8+9BPn1/NAt+zGvLt3OncuSfPWRlZeDs4k5gi6fpOeA17OzyjsU3n01h9x8b89X9yshJtHraMiNiy630GXf7OiKHT+Xw023riIwf5MSv+/Tsj8kb2fT31dC7nT3uLmrO3lhH5HqKddcRCXk78N6FiqH2xBH4TRqZb9uJafOIW7yaNkc2srNBN7LiLgFQfcxL1Bw7BLWDPfFrt3L09TvWEfnuI9yCnspbR2TUVIuuI9ItJ8ZidZkjbJh1Xm/dl/73LlQCzEpEDAYDX3zxBaNGjXrgF7RkIvKwsFYiUtZZOhF5WFgjEXlYWDoReVhYKxEp6yydiDwsSjoRCX31uFXq3bCgjlXqLS6zTs1oNBp27dpl7ViEEEIIcQfFqFjlVlaYPUekbdu2fPfddyQkJJCZmWm6CSGEEELcL7Mv3/38888BmDVrFiqVCuXG6oXHj1tnyEgIIYQQoJShVVCtwexEJDo62ppxCCGEEOIxZHYiUtRpGAcHB4sFI4QQQoj8ytJ8DmswOxFp2LBhvlMyN8mpGSGEEELcr/s6NaPX69mwYQOJifKTykIIIYQ1PeojImZfNXM7rVbLc889x5YtWywdjxBCCCFuY1SMVrmVFfc1R8RoNBIVFUVq6uO5eJEQQgghLOO+5ohoNBqqVq3KhAkTrBmbEEII8dh71E/NyOW7QgghhCg1ZicikHd6Jj4+HsNtv1pZq1YtiwclhBBCiDyKsezM57AGsxORZcuW8cknn+Dq6opanTfHVaVSsX37dqsFJ4QQQjzu5NTMDQsXLiQ8PBwfHx9rxiOEEEKIx4jZiYinp6ckIUIIIUQJe+x/a+bUqVMANG/enJkzZ9KtWze0Wq3peZkjIoQQQoj7dc9EZOjQofke376ImcwREUIIIazL+LjPEfn9998B2L17N/Xr18fFxQWAlJQU/v33X+tGJ4QQQjzmHvWrZsxe4n3WrFk4OzubHut0OmbOnGmVoIQQQgjxeDB7suqdv7qrVqvzrScihBBCCMt71C/fNXtExMnJicOHD5seHz58GEdHR6sEJYQQQojHg9kjIm+//TbDhw83XSVz6tQpPv/8c6sFJoQQQgi5fNekYcOGbNy4kUOHDgEQEBCAq6urteISQgghBI/+qZli/daMq6srbdq0sVYsQgghhHjMFCsREUIIIUTJetQv31UpivJoj/kIIYQQoswy+6oZIYQQQghLk0RECCGEEKVGEhEhhBBClBpJRIQQQghRaiQREUIIIUSpkURECCGEEKVGEhEhhBBClBpJRIQQQghRaiQREUIIIUSpkURECCGEEKVGEhHxWIiKiuKtt94CICUlhW+++aaUI8rj7+9Penp6sfaJjIykZ8+eVoro4dS+fXtOnDhx3/svXryYhIQEC0ZUPMePH2fTpk1Wqft++lhpe9DjKR4ukojcYDAYSjsEYUX169dn9uzZQF4i8u2335ZyROJucnNzS/T1lixZUuqJyJYtW0rt9e9U0n9/a3gU2vC4eOh+fTczM5Nx48Zx6tQpbGxsqF69Op999hmrVq1iyZIlANja2rJgwQLKly/PL7/8wnfffQdAlSpVmDZtGh4eHqxZs4b169fj5OTE2bNnmTVrFtnZ2XzyySembw+jRo2ibdu2pdVUs7z11lucOXOGnJwcqlSpwvTp03F1dWXOnDls2rQJNzc3goKC2Lt3L2vWrAFg7dq1LF++HIPBgE6nY8qUKdSoUaOUW1LQ4cOHCz0ey5YtY/Hixeh0Otq0acOKFSuIjIwkMjKSGTNmmNp5++Pb70+bNo3U1FTCwsJwcHBg/PjxjB8/nvDwcNNrd+/enSlTptCoUSOrt/O7775j+/btZGVl8eabb9K5c2eg6GN7u9zcXF599VUSExPR6/U0aNCAqVOnYmdnx5o1awgPD8fFxYWTJ0/i7OzMvHnz8PT0BGDBggWEh4ejUqlwdHRk+fLlqNVqq/YPf39/hg8fXmh7/f39GTFiBDt27KBVq1Y8//zzTJ48mXPnzgHwyiuv0KNHDwD279/P1KlTAQgMDOT23+709/fnwIEDODk5FXh88OBBZs6caepT//d//0dUVBRXrlxh1KhRaLVaZs+eTWxsLJ999hlqtRqDwcDEiRNp2rRpsdpaWP+tX78+b731linpCQ4OZtiwYcydO5e0tDTCwsIIDAzkvffeK7TO3377rdC4Fi5cyMaNGzEYDGi1WqZMmUKdOnUK7D9jxgz27dtHTk4O7u7uTJ8+HR8fH86fP0+vXr3o2bMnERER9OnThy+++II1a9ZQoUIFAD744APKly/Pa6+9Vqy/w70UdkwANm/ezMSJE7l69Sovv/wyzz//PHD343tnH4qPj8fOzo7Y2Fji4+MJCAhgxowZqFQqi7ZBPCDlIfPrr78qL7/8sulxUlKSEhERoXTo0EG5cuWKoiiKkpaWpmRlZSkxMTFKixYtlMuXLyuKoihz5sxRRo8erSiKoqxevVoJCAhQzp49qyiKoiQnJythYWGmspcvX1ZatWqlJCcnl2Drii8hIcF0/9NPP1VmzZqlbN++XQkNDVXS09MVg8GgDB8+XHn22WcVRVGUv//+WxkyZIii1+sVRVGUHTt2KH379i2V2O+mqOOxb98+pUWLFsrVq1cVRVGUyZMnK0FBQYqiKEpERISpnXc+vv1+XFycaZ+bevfurURGRiqKkvc3CgsLs2r7bvLz81PmzZunKIqinD59WgkKClKuXbumKErhx1ZR8rfFaDQq169fN91/++23leXLlyuKktfHmzRpoly8eFFRFEWZMGGC8umnnyqKoihr1qxR+vTpo6SmpiqKopjqsHb/uFt7/fz8lAULFpjKjh49WpkzZ46iKHnHv0WLFkpMTIyi1+uVli1bKhEREYqiKMrGjRsVPz8/JSYmxlRPWlpavtdMS0tTEhMTlebNmyv//POPoiiKkpubqyQlJSmKoijt2rUz7a8oihIaGqocOHDAVO7m38lcRfXfRYsWKRMnTjSVu/n6q1evVkaOHHnPeouK6/a+snv3bqV3794F2n9nuZUrVypjxoxRFCXvf8LPz0/ZuHGj6flZs2aZjlVaWprSrFkz07GylKKOSbt27ZSPP/7YFFtAQICpDUUd35v3b+9D48aNU/r166dkZWUper1e6dq1q/LXX39ZtA3iwT10IyJPPPEEp0+fZurUqQQFBdG2bVt27NhBWFiY6ZvezUw5MjKSNm3amDL6fv36ERYWZqqrUaNGVKlSBcjLys+fP8+QIUNMz6tUKs6ePUv9+vVLqnnFtm7dOjZs2EBOTg4ZGRlUq1aNnJwcunTpgqOjIwA9evRg/vz5APz+++9ER0fTu3dvABRFISUlpdTiL0pRxyMyMpK2bdtSvnx5APr27cvmzZsf+PUGDRrE8uXLCQoKYtmyZQwcOPCB6zTXzWNRo0YN6taty6FDh3j66acLPbZ3MhqNLFy4kF27dmE0GklOTsbe3t70fKNGjfD29gbgqaeeYs+ePQD88ccf9O/fH51OB4C7uztQMv2jqPYCPPvss6Zye/fu5Z133gGgQoUKtGnThsjISIxGIw4ODqYRiq5duzJp0qR7vu6hQ4eoWbOmaZRLo9EUGGG6qVmzZnz00Ud06tSJ1q1b4+fnV6w2FtV/69Wrx+LFi5kxYwZBQUG0bNmyWPUWFdfRo0dZsGABycnJqFQqYmNjC91/165dLF++nIyMjAKnLrRaLV26dDE9HjhwIAMHDuS1115j/fr1tGjRAg8Pj2LFey93OyZdu3YFoHLlyri4uBAfH0/NmjXvWeftfQigQ4cOaLVaAOrWrcu5c+do0aKFJZshHtBDl4j4+voSHh5OREQEu3btYs6cOaY3seK6mbBA3huuv78/y5Yts1SoVrd//35WrFjBjz/+SLly5diwYQMrV6686z6KotCrVy9Gjx5dQlHen6KOx5IlS4iPjy90H41Gk2+IXq/Xm/16ISEhfPrppxw7dozIyEimT59+f4FbiLnHdsOGDfzzzz8sW7YMnU7HV199le9D6OYbMOT9fe41F6q0+8fN5Lm4bh9qv70fFKcP3G78+PHExMQQERHB6NGjGTx4MH369DF7/7u9n6xdu5Y9e/awbt06vv76a1asWPFAcfXo0YPRo0ezdOlSnnzySS5fvkzr1q0L7HvhwgU++ugjVq1aha+vLwcOHGDs2LGm5x0cHPL9Hb29valXrx7bt29n+fLlTJs2zew4LaGovnuv43tnHyru/4AoeQ/dZNX4+Hg0Gg0dOnTg3Xff5fr169StW5d169Zx7do1ANLT09Hr9TRt2pSdO3dy9epVAFauXEnz5s0Lrbdhw4acPXuWiIgI07YjR47k+2Ara1JSUtDpdLi5uZGdnc3q1asBCAoKYuvWrWRmZmI0Glm/fr1pn/bt27Nu3TrTh7nBYODo0aOlEv/dFHU8goKC2Llzp+kc+6pVq0zP+/r6EhcXR3JyMoqisHHjxkLr1ul0ZGVl5ftGaGtrS69evRg2bBihoaE4ODhYqWUF3TxusbGxHDt2jICAgCKP7Z1SU1Nxd3dHp9ORmpqab57L3bRr144VK1aQlpYGQGJiIlAy/aOw9hYmODjYlHxdvXqVnTt30qxZM2rUqEFWVhb79+8HYMuWLflGbapUqUJUVBSQl6jdFBAQwOnTpzl48KCpbcnJyUDel5LU1FRT2f/++w9/f39efPFFunfvbqrPXEX137i4OHQ6Hd26dePdd9/l33//xWg0mo7fvRQWV3Z2Nrm5uaaRr+XLlxe6b1paGra2tnh6emI0Gvnxxx/v+XrPP/8806dPx8bGhoYNG5rZevPd7ZgUpajjKx5eD92ISExMjOnqB6PRyNChQwkNDSUrK4vBgwejUqmws7Pjq6++ws/Pj7Fjx/Lyyy8DeR9URWX1rq6uzJ8/n1mzZjF9+nRycnLw9fXlq6++KrMTm1q1asX69evp3Lkz7u7uNGnShKioKJ5++mkOHjxI9+7dcXV1JSAgwPTPHRgYyJgxYxg2bBgGg4GcnBxCQkKoV69eKbcmv7sdj9dee810WuH2b35eXl4MHjyYnj17Ur58eQIDAzl58mSBut3c3AgNDSU0NBRXV1fTG3Lv3r35/PPP6d+/f4m1E/LefHv06EFmZqZpMnVRx/ZOPXr0YPv27YSEhODh4UHjxo3NGgXo0aMHly9fpm/fvtjY2ODo6MiyZctKpH8U1t7CvPfee0yaNInQ0FAAxo4dS+3atQH49NNP801WrVSpkmm/d999l0mTJuHs7ExISIhpu5ubG/PmzePjjz8mIyMDtVrNuHHjaN68OS+88ALjx4/H3t6e2bNnM2fOHM6ePYtGo8HFxYUPP/ywWG0sqv927NiRJUuWoFarMRqNTJ06FbVaTXBwMAsXLqR79+4EBQUVOVl19uzZBeLS6XSMGjWK5557Djc3N9Pk3zv5+/sTEhJC165dcXd3p02bNqZkrihBQUFotVoGDBhQrPabq6hjcjdFHV/x8FIpZfkrv7hvaWlp6HQ6jEYjEyZMoEKFCrzxxhulHZbF3ZztHxkZ+cB1rVu3jo0bN/L1119bIDJRmDuveBBlW1xcHP3792fbtm0lOkooHi8P3YiIMM+4ceO4cOECWVlZPPnkk/kmzYmCXnnlFc6dO8eXX35Z2qEIUSZ89tlnrF69mnfeeUeSEGFVMiIihBBlSEJCgul08u06duzIiBEjSiEiIaxLEhEhhBBClJqH7qoZIYQQQjw6JBERQgghRKmRREQIIYQQpUYSESGEEEKUGklEhBBCCFFq/j/3F47iGYsJUgAAAABJRU5ErkJggg==\n",
      "text/plain": [
       "<Figure size 720x576 with 2 Axes>"
      ]
     },
     "metadata": {},
     "output_type": "display_data"
    },
    {
     "name": "stdout",
     "output_type": "stream",
     "text": [
      "churn         1.000000\n",
      "products      0.308024\n",
      "equity        0.274131\n",
      "balance       0.190690\n",
      "score         0.103650\n",
      "est_salary   -0.001220\n",
      "age          -0.047957\n",
      "Name: churn, dtype: float64\n"
     ]
    }
   ],
   "source": [
    "# вычисляем корреляцию Пирсона с целевым признаком churn\n",
    "correlation_matrix = df[numerical_features + ['churn']].corr(method='pearson')\n",
    "\n",
    "# визуализация матрицы корреляции\n",
    "plt.figure(figsize=(10, 8))\n",
    "sns.heatmap(correlation_matrix, annot=True, fmt=\".2f\", cmap='coolwarm', square=True)\n",
    "plt.title('Матрица корреляции Пирсона с целевым признаком (churn)')\n",
    "plt.show()\n",
    "\n",
    "# выводим сильные корреляции с целевым признаком churn\n",
    "strong_correlations = correlation_matrix['churn'].sort_values(ascending=False)\n",
    "print(strong_correlations)"
   ]
  },
  {
   "cell_type": "markdown",
   "metadata": {},
   "source": [
    "Судя по корреляции Пирсона, сильная связь `churn` прослеживается с `products` и `equity`."
   ]
  },
  {
   "cell_type": "markdown",
   "metadata": {},
   "source": [
    "\n",
    "<div class=\"alert alert-danger\">\n",
    "<b>Комментарий ревьюера:</b>Для чего нам изучение корреляции без целевого признака ? (churn)</div>"
   ]
  },
  {
   "cell_type": "markdown",
   "metadata": {},
   "source": [
    "<div class=\"alert alert-info\"> <b>Комментарий студента:</b> Исправила.</div>"
   ]
  },
  {
   "cell_type": "markdown",
   "metadata": {},
   "source": [
    "\n",
    "<div class=\"alert alert-success\">\n",
    "<b>Комментарий ревьюера v2.0:</b>☀️Отлично!</div>"
   ]
  },
  {
   "cell_type": "markdown",
   "metadata": {},
   "source": [
    "Вывод:\n",
    "Мы вычислили корреляцию и построили графики, благодаря чему мы определении портрет клиента, склонного к оттоку:\n",
    "1. Кредитный скоринг: Высокий (830–900).\n",
    "2. Возраст: 25–35 и 50–60 лет.\n",
    "3. Баланс: До 800 тыс. рублей.\n",
    "4. Продукты: 2 продукта.\n",
    "5. Город: Ярославль и Ростов.\n",
    "6. Кредитная карта: Есть.\n",
    "7. Активность: Активные.\n",
    "\n",
    "Также мы определили портрет клиента, несклонного к оттоку, и сравнили оба портрета, чтобы определить самые значимые признаки отточности:\n",
    "1. Баллы кредитного скоринга (`score`): 830-900\n",
    "2. Количество баллов собственности (`equity`): 3-5\n",
    "3. Количество продуктов банка (`products`): 2-3\n",
    "4. Активность клиента (`last_activity`): более активные\n",
    "\n",
    "Кроме того, мы вычислили корреляцию Пирсона с целевым признаком `churn` для прослеживания связи. Сильная связь прослеживается с `products` и `equity`."
   ]
  },
  {
   "cell_type": "markdown",
   "metadata": {},
   "source": [
    "## Статистический анализ данных\n",
    "<a id=\"4\"></a>"
   ]
  },
  {
   "cell_type": "markdown",
   "metadata": {},
   "source": [
    "Для проверки статистической гипотезы о том, что доход между ушедшими и оставшимися клиентами одинаковый, мы проведем двухвыборочный t-тест (independent t-test)."
   ]
  },
  {
   "cell_type": "markdown",
   "metadata": {},
   "source": [
    "Сформулируем гипотезы:\n",
    "\n",
    "- **Нулевая гипотеза (H₀)**: Средний доход ушедших и оставшихся клиентов одинаковый.\n",
    "\n",
    "- **Альтернативная гипотеза (H₁)**: Средний доход ушедших и оставшихся клиентов различается."
   ]
  },
  {
   "cell_type": "code",
   "execution_count": 32,
   "metadata": {},
   "outputs": [
    {
     "name": "stdout",
     "output_type": "stream",
     "text": [
      "p-значение: 0.8931914526713192\n",
      "Не получилось отвергнуть нулевую гипотезу\n"
     ]
    }
   ],
   "source": [
    "# разделим клиентов на две группы\n",
    "group_1 = df[df['churn'] == 1]['est_salary'] # ушедшие клиенты\n",
    "group_2 = df[df['churn'] == 0]['est_salary'] # оставшиеся клиенты\n",
    "\n",
    "alpha = 0.05\n",
    "\n",
    "# проведение двухвыборочного t-теста\n",
    "t_test = stats.ttest_ind(group_1, group_2, equal_var=False)\n",
    "print('p-значение:', t_test.pvalue)\n",
    "\n",
    "if t_test.pvalue < alpha:\n",
    "    print('Отвергаем нулевую гипотезу')\n",
    "else:\n",
    "    print('Не получилось отвергнуть нулевую гипотезу')"
   ]
  },
  {
   "cell_type": "code",
   "execution_count": 33,
   "metadata": {},
   "outputs": [
    {
     "data": {
      "text/plain": [
       "count      1781.000000\n",
       "mean     143297.323790\n",
       "std       98423.096954\n",
       "min       23441.960000\n",
       "25%       84289.220000\n",
       "50%      126022.420000\n",
       "75%      175463.340000\n",
       "max      975960.360000\n",
       "Name: est_salary, dtype: float64"
      ]
     },
     "execution_count": 33,
     "metadata": {},
     "output_type": "execute_result"
    }
   ],
   "source": [
    "group_1.describe()"
   ]
  },
  {
   "cell_type": "code",
   "execution_count": 34,
   "metadata": {},
   "outputs": [
    {
     "data": {
      "text/plain": [
       "count      7916.000000\n",
       "mean     143657.154058\n",
       "std      117424.223159\n",
       "min       22524.240000\n",
       "25%       75939.035000\n",
       "50%      119534.910000\n",
       "75%      174029.265000\n",
       "max      999965.310000\n",
       "Name: est_salary, dtype: float64"
      ]
     },
     "execution_count": 34,
     "metadata": {},
     "output_type": "execute_result"
    }
   ],
   "source": [
    "group_2.describe()"
   ]
  },
  {
   "cell_type": "markdown",
   "metadata": {},
   "source": [
    "Вывод: не отвергаем нулевую гипотезу, значит имеем право полагать, что средний доход ушедших и оставшихся клиентов не различается при пороговом значении 0,05."
   ]
  },
  {
   "cell_type": "markdown",
   "metadata": {},
   "source": [
    "Проверим еще одну гипотезу:\n",
    "- **Нулевая гипотеза (H₀)**: Доля оттока среди людей в возрасте 50–60 лет равна доле оттока среди людей в возрасте до 35 лет.\n",
    "\n",
    "- **Альтернативная гипотеза (H₁)**: Доля оттока среди людей в возрасте 50–60 лет больше, чем среди людей в возрасте до 35 лет."
   ]
  },
  {
   "cell_type": "markdown",
   "metadata": {},
   "source": [
    "Мы проведем двухвыборочный z-тест для пропорций. Этот тест используется для сравнения долей (пропорций) в двух независимых группах."
   ]
  },
  {
   "cell_type": "code",
   "execution_count": 35,
   "metadata": {},
   "outputs": [
    {
     "name": "stdout",
     "output_type": "stream",
     "text": [
      "p-значение:  0.0001021987800984984\n",
      "Отвергаем нулевую гипотезу\n"
     ]
    }
   ],
   "source": [
    "old_people = df[(df['age'] >= 50) & (df['age'] <= 60)] # возраст 50–60 лет\n",
    "young_people = df[df['age'] < 35] # возраст до 35 лет\n",
    "\n",
    "alpha = 0.05\n",
    "\n",
    "# количество клиентов в каждой группе\n",
    "n1 = len(old_people)  # возраст 50–60 лет\n",
    "n2 = len(young_people)  # возраст до 35 лет\n",
    "\n",
    "# количество оттоков в каждой группе\n",
    "churn_1 = old_people['churn'].sum()  # отток в группе 1\n",
    "churn_2 = young_people['churn'].sum()  # отток в группе 2\n",
    "\n",
    "p1 = churn_1/n1 # доля оттока в группе 1\n",
    "p2 = churn_2/n2 # доля оттока в группе 2\n",
    "\n",
    "# общая доля оттока\n",
    "p_total = (churn_1 + churn_2) / (n1 + n2)\n",
    "\n",
    "# проведение z-теста для пропорций\n",
    "z_score, p_value = proportions_ztest([churn_1, churn_2], [n1, n2], alternative='larger')\n",
    "print('p-значение: ', p_value)\n",
    "\n",
    "if p_value < alpha:\n",
    "    print('Отвергаем нулевую гипотезу')\n",
    "else:\n",
    "    print('Не получилось отвергнуть нулевую гипотезу')"
   ]
  },
  {
   "cell_type": "markdown",
   "metadata": {},
   "source": [
    "Мы отвергаем нулевую гипотезу. Это означает, что есть статистически значимое доказательство того, что доля оттока среди людей в возрасте 50–60 лет больше, чем среди людей младше 35 лет."
   ]
  },
  {
   "cell_type": "markdown",
   "metadata": {},
   "source": [
    "Проверим еще одну гипотезу:\n",
    "\n",
    "- **Нулевая гипотеза (H₀)**: Доля оттока в группе 1 (2+ продуктов, скоринг > 830) равна доле оттока в группе 2 (2- продуктов, скоринг < 830).\n",
    "\n",
    "- **Альтернативная гипотеза (H₁)**: Доля оттока в группе 1 не равна доле оттока в группе 2."
   ]
  },
  {
   "cell_type": "markdown",
   "metadata": {},
   "source": [
    "Мы проведем двухвыборочный z-тест для пропорций."
   ]
  },
  {
   "cell_type": "code",
   "execution_count": 36,
   "metadata": {},
   "outputs": [
    {
     "name": "stdout",
     "output_type": "stream",
     "text": [
      "p-значение:  0.00020736378126731038\n",
      "Отвергаем нулевую гипотезу\n",
      "Группа 1 (2+ продуктов, скоринг > 830): Отток = 371, Всего = 2611, Доля оттока = 0.1421\n",
      "Группа 2 (2- продуктов, скоринг < 830): Отток = 881, Всего = 5028, Доля оттока = 0.1752\n"
     ]
    }
   ],
   "source": [
    "groups_1 = df[(df['products'] >= 2) & (df['score'] < 830)] # группа 1: 2+ продуктов, скоринг > 830\n",
    "groups_2 = df[(df['products'] <= 2) & (df['score'] > 830)] # группа 2: 2- продуктов, скоринг < 830\n",
    "\n",
    "alpha = 0.05\n",
    "\n",
    "# количество клиентов в каждой группе\n",
    "k1 = len(groups_1)  # группа 1\n",
    "k2 = len(groups_2)  # группа 2\n",
    "\n",
    "# количество оттоков в каждой группе\n",
    "chun_1 = groups_1['churn'].sum() # отток в группе 1\n",
    "chun_2 = groups_2['churn'].sum() # отток в группе 2\n",
    "\n",
    "x1 = chun_1/k1 # доля оттока в группе 1\n",
    "x2 = chun_2/k2 # доля оттока в группе 2\n",
    "\n",
    "# проведение z-теста для пропорций\n",
    "z_score, p_value = proportions_ztest([chun_1, chun_2], [k1, k2], alternative='two-sided')\n",
    "print('p-значение: ', p_value)\n",
    "\n",
    "if p_value < alpha:\n",
    "    print('Отвергаем нулевую гипотезу')\n",
    "else:\n",
    "    print('Не получилось отвергнуть нулевую гипотезу')\n",
    "    \n",
    "print(f\"Группа 1 (2+ продуктов, скоринг > 830): Отток = {chun_1}, Всего = {k1}, Доля оттока = {x1:.4f}\")\n",
    "print(f\"Группа 2 (2- продуктов, скоринг < 830): Отток = {chun_2}, Всего = {k2}, Доля оттока = {x2:.4f}\")"
   ]
  },
  {
   "cell_type": "markdown",
   "metadata": {},
   "source": [
    "Мы отвергаем нулевую гипотезу. Клиенты с 2 или менее продуктами и низким кредитным скорингом более склонны к оттоку."
   ]
  },
  {
   "cell_type": "markdown",
   "metadata": {},
   "source": [
    "Вывод:\n",
    "- после проверки гипотезы о том, что средний доход между ушедшими и оставшимися клиентами одинаковый, мы выяснили, что эта гипотеза подтвердилась.\n",
    "- мы сравнили доли оттока между двумя группами людей: в возрасте 50-60 и до 35. Мы выяснили, что есть статистически значимое доказательство того, что доля оттока среди людей в возрасте 50–60 лет больше, чем среди людей младше 35 лет.\n",
    "- также сравнили доли оттока в двух группах: 1 - клиенты, у кого есть больше 2 продуктов и кредитный скоринг выше 830, и 2 - клиенты, у кого 2 или меньше продуктов и низкий кредитный скоринг. Мы обнаружили, что клиенты с 2 или менее продуктами и низким кредитным скорингом более склонны к оттоку."
   ]
  },
  {
   "cell_type": "markdown",
   "metadata": {},
   "source": [
    "\n",
    "<div class=\"alert alert-success\">\n",
    "<b>Комментарий ревьюера:</b>☀️По блоку стат анализа все безукоризненно. Здесь нет замечаний!</div>"
   ]
  },
  {
   "cell_type": "markdown",
   "metadata": {},
   "source": [
    "## Блок сегментации\n",
    "<a id=\"5\"></a>"
   ]
  },
  {
   "cell_type": "code",
   "execution_count": 37,
   "metadata": {},
   "outputs": [
    {
     "name": "stdout",
     "output_type": "stream",
     "text": [
      "Количество клиентов в каждом сегменте:\n",
      "Сегмент 3    5380\n",
      "Сегмент 1    2538\n",
      "Сегмент 2    1779\n",
      "Name: segment, dtype: int64\n"
     ]
    },
    {
     "data": {
      "image/png": "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\n",
      "text/plain": [
       "<Figure size 720x432 with 1 Axes>"
      ]
     },
     "metadata": {},
     "output_type": "display_data"
    }
   ],
   "source": [
    "# создаем сегменты на основе ключевых признаков\n",
    "df['segment'] = None\n",
    "\n",
    "# сегмент 1: Клиенты с высоким кредитным скорингом (830–900) и возрастом 25–35 или 50–60 лет\n",
    "df.loc[\n",
    "    (df['score'] >= 830) &\n",
    "    ((df['age'] >= 25) & (df['age'] <= 35) | (df['age'] >= 50) & (df['age'] <= 60)),\n",
    "    'segment'\n",
    "] = 'Сегмент 1'\n",
    "\n",
    "# сегмент 2: Клиенты с балансом меньше 800000, активные и из Ростова или Ярославля\n",
    "df.loc[\n",
    "    (df['balance'] <= 800000) &\n",
    "    (df['last_activity'] == 1) &\n",
    "    (df['city'].isin(['Ярославль', 'Ростов'])),\n",
    "    'segment'\n",
    "] = 'Сегмент 2'\n",
    "\n",
    "# сегмент 3: Остальные клиенты\n",
    "df['segment'].fillna('Сегмент 3', inplace=True)\n",
    "\n",
    "segment_counts = df['segment'].value_counts()\n",
    "print(\"Количество клиентов в каждом сегменте:\")\n",
    "print(segment_counts)\n",
    "\n",
    "# анализ оттока по сегментам\n",
    "segment_churn = df.groupby('segment')['churn'].mean().reset_index()\n",
    "\n",
    "# построение графика\n",
    "plt.figure(figsize=(10, 6))\n",
    "sns.barplot(data=segment_churn, x='segment', y='churn', palette='viridis')\n",
    "plt.title('Доля оттока по сегментам')\n",
    "plt.xlabel('Сегмент')\n",
    "plt.ylabel('Доля оттока')\n",
    "plt.xticks(rotation=45)\n",
    "plt.show()"
   ]
  },
  {
   "cell_type": "code",
   "execution_count": 38,
   "metadata": {},
   "outputs": [
    {
     "data": {
      "text/html": [
       "<div>\n",
       "<style scoped>\n",
       "    .dataframe tbody tr th:only-of-type {\n",
       "        vertical-align: middle;\n",
       "    }\n",
       "\n",
       "    .dataframe tbody tr th {\n",
       "        vertical-align: top;\n",
       "    }\n",
       "\n",
       "    .dataframe thead th {\n",
       "        text-align: right;\n",
       "    }\n",
       "</style>\n",
       "<table border=\"1\" class=\"dataframe\">\n",
       "  <thead>\n",
       "    <tr style=\"text-align: right;\">\n",
       "      <th></th>\n",
       "      <th>segment</th>\n",
       "      <th>churn</th>\n",
       "    </tr>\n",
       "  </thead>\n",
       "  <tbody>\n",
       "    <tr>\n",
       "      <th>0</th>\n",
       "      <td>Сегмент 1</td>\n",
       "      <td>0.246651</td>\n",
       "    </tr>\n",
       "    <tr>\n",
       "      <th>1</th>\n",
       "      <td>Сегмент 2</td>\n",
       "      <td>0.253513</td>\n",
       "    </tr>\n",
       "    <tr>\n",
       "      <th>2</th>\n",
       "      <td>Сегмент 3</td>\n",
       "      <td>0.130855</td>\n",
       "    </tr>\n",
       "  </tbody>\n",
       "</table>\n",
       "</div>"
      ],
      "text/plain": [
       "     segment     churn\n",
       "0  Сегмент 1  0.246651\n",
       "1  Сегмент 2  0.253513\n",
       "2  Сегмент 3  0.130855"
      ]
     },
     "execution_count": 38,
     "metadata": {},
     "output_type": "execute_result"
    }
   ],
   "source": [
    "segment_churn"
   ]
  },
  {
   "cell_type": "markdown",
   "metadata": {},
   "source": [
    "\n",
    "<div class=\"alert alert-danger\">\n",
    "<b>Комментарий ревьюера:</b>Первый сегмент выделен абсолютно верно. Помимо него нужно выделить минимум еще один сегмент отточных клиентов (подобрать другие признаки). В остальном все ок.</div>"
   ]
  },
  {
   "cell_type": "markdown",
   "metadata": {},
   "source": [
    "<div class=\"alert alert-info\"> <b>Комментарий студента:</b> Исправила.</div>"
   ]
  },
  {
   "cell_type": "markdown",
   "metadata": {},
   "source": [
    "\n",
    "<div class=\"alert alert-danger\">\n",
    "<b>Комментарий ревьюера v2.0:</b>Сегменты действительно объемные, но обрати внимание на уровень оттока. По ТЗ он должен быть выше среднего по банку (18%), и это минимальная граница. Сейчас это требование не выполняется. </div>"
   ]
  },
  {
   "cell_type": "markdown",
   "metadata": {},
   "source": [
    "<div class=\"alert alert-info\"> <b>Комментарий студента:</b> Исправила.</div>"
   ]
  },
  {
   "cell_type": "markdown",
   "metadata": {},
   "source": [
    "\n",
    "<div class=\"alert alert-success\">\n",
    "<b>Комментарий ревьюера v3.0:</b>☀️Супер! </div>"
   ]
  },
  {
   "cell_type": "markdown",
   "metadata": {},
   "source": [
    "Вывод:\n",
    "Мы создали три сегмента:\n",
    "- сегмент 1: Клиенты с высоким кредитным скорингом (830–900) и возрастом 25–35 или 50–60 лет\n",
    "- сегмент 2: Клиенты с балансом меньше 800000, активные и из Ростова или Ярославля\n",
    "- сегмент 3: Остальные клиенты, не попавшие в 1 и 2 сегмент.\n",
    "\n",
    "Построили график по всем сегментам и выяснили, что 1 сегмент составил 24% оттока, 2 сегмент - 25%, 3 сегмент - 13%. \n",
    "\n",
    "\n",
    "Рекомендации: \n",
    "1. Для первого сегмента можно разработать стратегии удержания (например, персонализированные предложения).\n",
    "2. Для второго сегмента можно предложить бенефиты, например, бонусы за активное использование услуг, кэшбэк, бонусы за транзакции.\n",
    "3. Для третьего сегмента необходимо поддерживать текущие условия, так как эти клиенты менее склонны к оттоку."
   ]
  },
  {
   "cell_type": "markdown",
   "metadata": {},
   "source": [
    "## Презентация\n",
    "<a id=\"6\"></a>"
   ]
  },
  {
   "cell_type": "markdown",
   "metadata": {},
   "source": [
    "Ссылка: https://disk.yandex.ru/i/FPx-ZYHdTJszug"
   ]
  },
  {
   "cell_type": "markdown",
   "metadata": {},
   "source": [
    "## Выводы, рекомендации\n",
    "<a id=\"7\"></a>"
   ]
  },
  {
   "cell_type": "markdown",
   "metadata": {},
   "source": [
    "В ходе анализа данных о клиентах банка «Метанпром», мы выполнили следующие шаги:\n",
    "1. Загрузили данные, изучили общую информацию:\n",
    "    - таблица содержит 10000 записей\n",
    "    - в таблице есть столбцы, которые нужно привести к нижнему регистру `EST_SALARY`, `USERID` и добавить нижнее подчеркивание для удобства\n",
    "    - столбец `age` нужно привести к типу данных `int`, так как возраст клиента может быть только целым\n",
    "    - остальные столбцы приведены к корректному типу данных.\n",
    "2. Провели предобработку данных:\n",
    "    - исправили названия столбцов\n",
    "    - удалили пропуски в столбце `age`, так как их мало, на анализ они не повлияют. Решили оставить пропуски в `balance`, так как это могут быть неактивные/закрытые счета, информация о балансе может быть скрыта в целях конфиденциальности\n",
    "    - явных и неявных дубликатов нет.  Неполные дубликаты не найдены\n",
    "    - столбец `age` привели к целочисленному типу данных\n",
    "    - в `balance`, `products`, `est_salary` были аномалии, которые мы убрали так, чтобы данные были близки к реальным цифрам. Мы исключили клиентов, у кого зарплата ниже 22440 (МРОТ на 2025 год), у кого 0 продуктов (не имея ни одного продукта человек не может быть клиентом банка), у кого на балансе больше 10 млн. В `balance` оставили пропуски, так как их удаление может повлиять на результат некорректно.\n",
    "    - закодировали данные в столбцах `city` и `gender`\n",
    "    - клиенты с высоким доходом чаще имеют пропуски в балансе. Возможно, они менее заинтересованы в предоставлении этой информации. Клиенты, пользующиеся большим количество продуктов банка, реже имеют пропуски в балансе, как и клиенты с высокой оценкой собственности и отточные клиенты. Признаки `last_activity`, `user_id`, `age` почти не влияют на пропуски в балансе.\n",
    "3. Провели исследовательский анализ данных:\n",
    "Мы вычислили корреляцию и построили графики, благодаря чему мы определении портрет клиента, склонного к оттоку:\n",
    "    1. Кредитный скоринг: Высокий (830–900).\n",
    "    2. Возраст: 25–35 и 50–60 лет.\n",
    "    3. Баланс: До 800 тыс. рублей.\n",
    "    4. Продукты: 2 продукта.\n",
    "    5. Город: Ярославль и Ростов.\n",
    "    6. Кредитная карта: Есть.\n",
    "    7. Активность: Активные.\n",
    "\n",
    "Также мы определили портрет клиента, несклонного к оттоку, и сравнили оба портрета, чтобы определить самые значимые признаки отточности:\n",
    "   1. Баллы кредитного скоринга (`score`): 830-900\n",
    "   2. Количество баллов собственности (`equity`): 3-5\n",
    "   3. Количество продуктов банка (`products`): 2-3\n",
    "   4. Активность клиента (`last_activity`): более активные\n",
    "\n",
    "Кроме того, мы вычислили корреляцию Пирсона между всеми признаками для прослеживания связи между ними. Сильная связь прослеживается с `products` и `equity`.\n",
    "\n",
    "4. Провели статистический анализ данных:\n",
    "    - после проверки гипотезы о том, что средний доход между ушедшими и оставшимися клиентами одинаковый, мы выяснили, что эта гипотеза подтвердилась.\n",
    "    - мы сравнили доли оттока между двумя группами людей: в возрасте 50-60 и до 35. Мы выяснили, что есть статистически значимое доказательство того, что доля оттока среди людей в возрасте 50–60 лет больше, чем среди людей младше 35 лет.\n",
    "    - также сравнили доли оттока в двух группах: 1 - клиенты, у кого есть больше 2 продуктов и кредитный скоринг выше 830, и 2 - клиенты, у кого 2 или меньше продуктов и низкий кредитный скоринг. Мы обнаружили, что клиенты с 2 или менее продуктами и низким кредитным скорингом более склонны к оттоку.\n",
    "\n",
    "\n",
    "5. Сделали блок сегментации. Мы создали три сегмента:\n",
    "    - сегмент 1: Клиенты с высоким кредитным скорингом (830–900) и возрастом 25–35 или 50–60 лет\n",
    "    - сегмент 2: Клиенты с балансом меньше 800000, активные и из Ростова или Ярославля\n",
    "    - сегмент 3: Остальные клиенты, не попавшие в 1 и 2 сегмент.\n",
    "\n",
    "Построили график по всем сегментам и выяснили, что 1 сегмент составил 24% оттока, 2 сегмент - 25%, 3 сегмент - 13%. \n",
    "\n",
    "\n",
    "Рекомендации: \n",
    "1. Для первого сегмента можно разработать стратегии удержания (например, персонализированные предложения).\n",
    "2. Для второго сегмента можно предложить бенефиты, например, бонусы за активное использование услуг, кэшбэк, бонусы за транзакции.\n",
    "3. Для третьего сегмента необходимо поддерживать текущие условия, так как эти клиенты менее склонны к оттоку.\n",
    "\n",
    "\n",
    "\n",
    "6. Презентация: https://disk.yandex.ru/i/FPx-ZYHdTJszug"
   ]
  },
  {
   "cell_type": "markdown",
   "metadata": {},
   "source": [
    "# Рекомендации"
   ]
  },
  {
   "cell_type": "markdown",
   "metadata": {},
   "source": [
    "Банку следует разработать стратегии для удержания клиентов, например, предложить выгодные условия для увеличения количества продуктов или улучшения кредитного скоринга. Также ему необходимо обратить внимание на клиентов в возрасте 50–60 лет и, возможно, предложить им специальные условия, чтобы снизить отток, например, повышенные процентные ставки по вкладам или льготные условия для пенсионеров. \n",
    "\n",
    "Вдобавок, мы обнаружили, что активные клиенты более склонны к оттоку, это можно предотвратить, предложив клиентам больше бонусов за активное использование услуг, например, акции, кэшбэк, бонусы за транзакции. \n",
    "\n",
    "На отток также влияют клиенты с низким уровнем дохода, можно предложить им более выгодные условия хранения средств, например, повышенный кэшбэк, снижение комиссий, увеличение процента по вкладу, чтобы увеличить их лояльность.\n",
    "\n",
    "Также есть особенность оттока - клиенты с высоким кредитным скорингом. Возможно, причиной оттока служат невыгодные условия кредита/ипотеки, высокая ставка, соответственно, чтобы их снова привлечь, можно пересмотреть условия выдачи кредита/ипотеки на более выгодных условиях. Кроме того, уходят клиенты из банка, у которых низкий кредитный скоринг и мало продуктов. Для них можно предложить кредитную карту или иные выгодные условия по другим продуктам."
   ]
  },
  {
   "cell_type": "markdown",
   "metadata": {},
   "source": [
    "\n",
    "<div class=\"alert alert-danger\">\n",
    "<b>Комментарий ревьюера:</b>После корректировки блока сегментации блок рекомендаций нужно тоже подправить: рекомендации должны быть конкретными для каждого выделенного сегмента.</div>\n",
    "\n",
    "<div class=\"alert alert-warning\">\n",
    "<b>Комментарий ревьюера:</b>☀️Спасибо тебе за твой проект. Все получилось хорошо, однако есть моменты, которые нужно доработать. Подробнее о них ты узнаешь в моих комментариях выше. Пожалуйста, ознакомься с ними и оставь свои. Отправляю тебе проект на доработку и жду на повторное ревью. Успехов!</div>"
   ]
  },
  {
   "cell_type": "markdown",
   "metadata": {},
   "source": [
    "<div class=\"alert alert-info\"> <b>Комментарий студента:</b> Подкорректировала вывод.</div>"
   ]
  },
  {
   "cell_type": "markdown",
   "metadata": {},
   "source": [
    "\n",
    "<div class=\"alert alert-warning\">\n",
    "<b>Комментарий ревьюера v2.0:</b>☀️Осталось еще совсем немного подправить блок сегментации, и все будет принято :) Успехов!</div>"
   ]
  },
  {
   "cell_type": "markdown",
   "metadata": {},
   "source": [
    "\n",
    "<div class=\"alert alert-success\">\n",
    "<b>Комментарий ревьюера v3.0:</b>☀️Да, сейчас все принято, у меня нет замечаний по проекту. Молодец! Поздравляю тебя :) Желаю успехов на поприще аналитики ;) \n",
    "    \n",
    "    \n",
    "    \n",
    "        P.S. и жду проект по sql\n",
    "    \n",
    "    \n",
    "    \n",
    "</div>"
   ]
  }
 ],
 "metadata": {
  "ExecuteTimeLog": [
   {
    "duration": 1204,
    "start_time": "2025-01-30T10:01:13.216Z"
   },
   {
    "duration": 98,
    "start_time": "2025-01-30T10:01:19.772Z"
   },
   {
    "duration": 17,
    "start_time": "2025-01-30T10:01:26.579Z"
   },
   {
    "duration": 4,
    "start_time": "2025-01-30T10:03:01.045Z"
   },
   {
    "duration": 11,
    "start_time": "2025-01-30T10:03:06.809Z"
   },
   {
    "duration": 8,
    "start_time": "2025-01-30T10:03:16.896Z"
   },
   {
    "duration": 55,
    "start_time": "2025-01-30T10:03:26.264Z"
   },
   {
    "duration": 9,
    "start_time": "2025-01-30T10:03:44.734Z"
   },
   {
    "duration": 10,
    "start_time": "2025-01-30T10:03:52.006Z"
   },
   {
    "duration": 5,
    "start_time": "2025-01-30T10:03:57.915Z"
   },
   {
    "duration": 4,
    "start_time": "2025-01-30T10:04:04.309Z"
   },
   {
    "duration": 1010,
    "start_time": "2025-01-30T10:08:39.833Z"
   },
   {
    "duration": 103,
    "start_time": "2025-01-30T10:08:40.845Z"
   },
   {
    "duration": 15,
    "start_time": "2025-01-30T10:08:40.950Z"
   },
   {
    "duration": 7,
    "start_time": "2025-01-30T10:08:40.967Z"
   },
   {
    "duration": 114,
    "start_time": "2025-01-30T10:08:40.975Z"
   },
   {
    "duration": 23,
    "start_time": "2025-01-30T10:08:41.090Z"
   },
   {
    "duration": 35,
    "start_time": "2025-01-30T10:08:41.115Z"
   },
   {
    "duration": 20,
    "start_time": "2025-01-30T10:08:41.154Z"
   },
   {
    "duration": 13,
    "start_time": "2025-01-30T10:08:41.176Z"
   },
   {
    "duration": 7,
    "start_time": "2025-01-30T10:08:41.191Z"
   },
   {
    "duration": 11,
    "start_time": "2025-01-30T10:32:08.272Z"
   },
   {
    "duration": 1037,
    "start_time": "2025-01-30T10:35:12.813Z"
   },
   {
    "duration": 103,
    "start_time": "2025-01-30T10:35:13.852Z"
   },
   {
    "duration": 18,
    "start_time": "2025-01-30T10:35:13.956Z"
   },
   {
    "duration": 72,
    "start_time": "2025-01-30T10:35:13.977Z"
   },
   {
    "duration": 15,
    "start_time": "2025-01-30T10:35:14.050Z"
   },
   {
    "duration": 6,
    "start_time": "2025-01-30T10:35:14.066Z"
   },
   {
    "duration": 9,
    "start_time": "2025-01-30T10:35:14.073Z"
   },
   {
    "duration": 14,
    "start_time": "2025-01-30T10:35:14.083Z"
   },
   {
    "duration": 4,
    "start_time": "2025-01-30T10:35:14.098Z"
   },
   {
    "duration": 4,
    "start_time": "2025-01-30T10:35:14.104Z"
   },
   {
    "duration": 16,
    "start_time": "2025-01-30T10:35:14.109Z"
   },
   {
    "duration": 17,
    "start_time": "2025-01-30T10:39:32.006Z"
   },
   {
    "duration": 17,
    "start_time": "2025-01-30T10:40:17.825Z"
   },
   {
    "duration": 100,
    "start_time": "2025-01-30T10:40:34.905Z"
   },
   {
    "duration": 1146,
    "start_time": "2025-01-30T10:41:11.400Z"
   },
   {
    "duration": 42,
    "start_time": "2025-01-30T10:41:12.548Z"
   },
   {
    "duration": 65,
    "start_time": "2025-01-30T10:41:12.592Z"
   },
   {
    "duration": 3,
    "start_time": "2025-01-30T10:41:12.660Z"
   },
   {
    "duration": 26,
    "start_time": "2025-01-30T10:41:12.664Z"
   },
   {
    "duration": 6,
    "start_time": "2025-01-30T10:41:12.692Z"
   },
   {
    "duration": 98,
    "start_time": "2025-01-30T10:41:12.700Z"
   },
   {
    "duration": 10,
    "start_time": "2025-01-30T10:41:12.799Z"
   },
   {
    "duration": 10,
    "start_time": "2025-01-30T10:41:12.811Z"
   },
   {
    "duration": 13,
    "start_time": "2025-01-30T10:41:12.823Z"
   },
   {
    "duration": 17,
    "start_time": "2025-01-30T10:41:12.838Z"
   },
   {
    "duration": 16,
    "start_time": "2025-01-30T10:41:12.856Z"
   },
   {
    "duration": 352,
    "start_time": "2025-01-30T10:41:12.874Z"
   },
   {
    "duration": 337,
    "start_time": "2025-01-30T10:41:34.211Z"
   },
   {
    "duration": 17,
    "start_time": "2025-01-30T10:42:09.052Z"
   },
   {
    "duration": 306,
    "start_time": "2025-01-30T10:43:09.070Z"
   },
   {
    "duration": 10,
    "start_time": "2025-01-30T10:43:27.566Z"
   },
   {
    "duration": 1179,
    "start_time": "2025-01-30T10:50:11.317Z"
   },
   {
    "duration": 42,
    "start_time": "2025-01-30T10:50:12.498Z"
   },
   {
    "duration": 16,
    "start_time": "2025-01-30T10:50:12.542Z"
   },
   {
    "duration": 131,
    "start_time": "2025-01-30T10:50:12.560Z"
   },
   {
    "duration": 26,
    "start_time": "2025-01-30T10:50:12.692Z"
   },
   {
    "duration": 6,
    "start_time": "2025-01-30T10:50:12.719Z"
   },
   {
    "duration": 22,
    "start_time": "2025-01-30T10:50:12.726Z"
   },
   {
    "duration": 78,
    "start_time": "2025-01-30T10:50:12.749Z"
   },
   {
    "duration": 9,
    "start_time": "2025-01-30T10:50:12.829Z"
   },
   {
    "duration": 10,
    "start_time": "2025-01-30T10:50:12.840Z"
   },
   {
    "duration": 14,
    "start_time": "2025-01-30T10:50:12.852Z"
   },
   {
    "duration": 8,
    "start_time": "2025-01-30T10:50:12.868Z"
   },
   {
    "duration": 5,
    "start_time": "2025-01-30T10:50:33.341Z"
   },
   {
    "duration": 5,
    "start_time": "2025-01-30T10:50:58.346Z"
   },
   {
    "duration": 5,
    "start_time": "2025-01-30T10:51:46.326Z"
   },
   {
    "duration": 4,
    "start_time": "2025-01-30T10:52:16.246Z"
   },
   {
    "duration": 5,
    "start_time": "2025-01-30T10:52:42.422Z"
   },
   {
    "duration": 7,
    "start_time": "2025-01-30T10:53:41.843Z"
   },
   {
    "duration": 18,
    "start_time": "2025-01-30T10:54:49.892Z"
   },
   {
    "duration": 8,
    "start_time": "2025-01-30T10:54:55.841Z"
   },
   {
    "duration": 7,
    "start_time": "2025-01-30T10:55:40.200Z"
   },
   {
    "duration": 4,
    "start_time": "2025-01-30T10:56:22.188Z"
   },
   {
    "duration": 16,
    "start_time": "2025-01-30T10:56:35.513Z"
   },
   {
    "duration": 8,
    "start_time": "2025-01-30T10:58:18.119Z"
   },
   {
    "duration": 12,
    "start_time": "2025-01-30T10:58:23.307Z"
   },
   {
    "duration": 15,
    "start_time": "2025-01-30T10:58:34.332Z"
   },
   {
    "duration": 11,
    "start_time": "2025-01-30T10:59:30.890Z"
   },
   {
    "duration": 9,
    "start_time": "2025-01-30T10:59:36.069Z"
   },
   {
    "duration": 17,
    "start_time": "2025-01-30T10:59:42.034Z"
   },
   {
    "duration": 12,
    "start_time": "2025-01-30T10:59:48.117Z"
   },
   {
    "duration": 17,
    "start_time": "2025-01-30T11:00:45.212Z"
   },
   {
    "duration": 5,
    "start_time": "2025-01-30T11:09:23.902Z"
   },
   {
    "duration": 15,
    "start_time": "2025-01-30T11:12:56.341Z"
   },
   {
    "duration": 8,
    "start_time": "2025-01-30T11:13:50.577Z"
   },
   {
    "duration": 21,
    "start_time": "2025-01-30T11:13:56.834Z"
   },
   {
    "duration": 8,
    "start_time": "2025-01-30T11:14:16.282Z"
   },
   {
    "duration": 8,
    "start_time": "2025-01-30T11:14:19.401Z"
   },
   {
    "duration": 19,
    "start_time": "2025-01-30T11:14:23.760Z"
   },
   {
    "duration": 19,
    "start_time": "2025-01-30T11:15:20.010Z"
   },
   {
    "duration": 18,
    "start_time": "2025-01-30T11:15:23.834Z"
   },
   {
    "duration": 19,
    "start_time": "2025-01-30T11:15:33.275Z"
   },
   {
    "duration": 5,
    "start_time": "2025-01-30T11:21:01.459Z"
   },
   {
    "duration": 20,
    "start_time": "2025-01-30T11:21:07.069Z"
   },
   {
    "duration": 20,
    "start_time": "2025-01-30T11:21:14.759Z"
   },
   {
    "duration": 22,
    "start_time": "2025-01-30T11:21:28.874Z"
   },
   {
    "duration": 19,
    "start_time": "2025-01-30T11:21:43.324Z"
   },
   {
    "duration": 19,
    "start_time": "2025-01-30T11:28:56.302Z"
   },
   {
    "duration": 14,
    "start_time": "2025-01-30T11:30:15.924Z"
   },
   {
    "duration": 13,
    "start_time": "2025-01-30T11:30:22.624Z"
   },
   {
    "duration": 1115,
    "start_time": "2025-01-30T11:30:30.244Z"
   },
   {
    "duration": 50,
    "start_time": "2025-01-30T11:30:31.361Z"
   },
   {
    "duration": 16,
    "start_time": "2025-01-30T11:30:31.412Z"
   },
   {
    "duration": 82,
    "start_time": "2025-01-30T11:30:31.430Z"
   },
   {
    "duration": 42,
    "start_time": "2025-01-30T11:30:31.515Z"
   },
   {
    "duration": 19,
    "start_time": "2025-01-30T11:30:31.559Z"
   },
   {
    "duration": 41,
    "start_time": "2025-01-30T11:30:31.580Z"
   },
   {
    "duration": 15,
    "start_time": "2025-01-30T11:30:31.623Z"
   },
   {
    "duration": 5,
    "start_time": "2025-01-30T11:30:31.639Z"
   },
   {
    "duration": 10,
    "start_time": "2025-01-30T11:30:31.646Z"
   },
   {
    "duration": 15,
    "start_time": "2025-01-30T11:30:31.658Z"
   },
   {
    "duration": 5,
    "start_time": "2025-01-30T11:30:31.675Z"
   },
   {
    "duration": 46,
    "start_time": "2025-01-30T11:30:31.682Z"
   },
   {
    "duration": 27,
    "start_time": "2025-01-30T11:30:31.730Z"
   },
   {
    "duration": 28,
    "start_time": "2025-01-30T11:30:31.759Z"
   },
   {
    "duration": 13,
    "start_time": "2025-01-30T11:34:14.512Z"
   },
   {
    "duration": 1167,
    "start_time": "2025-01-30T11:34:20.767Z"
   },
   {
    "duration": 40,
    "start_time": "2025-01-30T11:34:21.935Z"
   },
   {
    "duration": 25,
    "start_time": "2025-01-30T11:34:21.976Z"
   },
   {
    "duration": 10,
    "start_time": "2025-01-30T11:34:22.003Z"
   },
   {
    "duration": 28,
    "start_time": "2025-01-30T11:34:22.014Z"
   },
   {
    "duration": 10,
    "start_time": "2025-01-30T11:34:22.044Z"
   },
   {
    "duration": 12,
    "start_time": "2025-01-30T11:34:22.056Z"
   },
   {
    "duration": 33,
    "start_time": "2025-01-30T11:34:22.069Z"
   },
   {
    "duration": 5,
    "start_time": "2025-01-30T11:34:22.104Z"
   },
   {
    "duration": 23,
    "start_time": "2025-01-30T11:34:22.112Z"
   },
   {
    "duration": 28,
    "start_time": "2025-01-30T11:34:22.136Z"
   },
   {
    "duration": 6,
    "start_time": "2025-01-30T11:34:22.166Z"
   },
   {
    "duration": 33,
    "start_time": "2025-01-30T11:34:22.174Z"
   },
   {
    "duration": 37,
    "start_time": "2025-01-30T11:34:22.208Z"
   },
   {
    "duration": 93,
    "start_time": "2025-01-30T11:34:22.246Z"
   },
   {
    "duration": 20,
    "start_time": "2025-01-30T11:35:43.390Z"
   },
   {
    "duration": 4,
    "start_time": "2025-01-30T11:38:04.958Z"
   },
   {
    "duration": 8,
    "start_time": "2025-01-30T11:38:10.391Z"
   },
   {
    "duration": 28,
    "start_time": "2025-01-30T11:38:13.588Z"
   },
   {
    "duration": 21,
    "start_time": "2025-01-30T11:38:34.882Z"
   },
   {
    "duration": 26,
    "start_time": "2025-01-30T11:38:41.637Z"
   },
   {
    "duration": 104,
    "start_time": "2025-01-30T11:39:39.871Z"
   },
   {
    "duration": 9,
    "start_time": "2025-01-30T11:39:58.554Z"
   },
   {
    "duration": 1142,
    "start_time": "2025-01-30T11:40:12.519Z"
   },
   {
    "duration": 39,
    "start_time": "2025-01-30T11:40:13.663Z"
   },
   {
    "duration": 15,
    "start_time": "2025-01-30T11:40:13.704Z"
   },
   {
    "duration": 14,
    "start_time": "2025-01-30T11:40:13.720Z"
   },
   {
    "duration": 10,
    "start_time": "2025-01-30T11:40:13.736Z"
   },
   {
    "duration": 14,
    "start_time": "2025-01-30T11:40:13.748Z"
   },
   {
    "duration": 17,
    "start_time": "2025-01-30T11:40:13.763Z"
   },
   {
    "duration": 11,
    "start_time": "2025-01-30T11:40:13.782Z"
   },
   {
    "duration": 13,
    "start_time": "2025-01-30T11:40:13.794Z"
   },
   {
    "duration": 3,
    "start_time": "2025-01-30T11:40:13.809Z"
   },
   {
    "duration": 22,
    "start_time": "2025-01-30T11:40:13.814Z"
   },
   {
    "duration": 6,
    "start_time": "2025-01-30T11:40:13.837Z"
   },
   {
    "duration": 23,
    "start_time": "2025-01-30T11:40:13.845Z"
   },
   {
    "duration": 32,
    "start_time": "2025-01-30T11:40:13.869Z"
   },
   {
    "duration": 14,
    "start_time": "2025-01-30T11:40:13.902Z"
   },
   {
    "duration": 17,
    "start_time": "2025-01-30T11:40:13.918Z"
   },
   {
    "duration": 79,
    "start_time": "2025-01-30T11:40:13.937Z"
   },
   {
    "duration": 15,
    "start_time": "2025-01-30T11:41:55.769Z"
   },
   {
    "duration": 1119,
    "start_time": "2025-01-30T11:46:15.843Z"
   },
   {
    "duration": 42,
    "start_time": "2025-01-30T11:46:16.964Z"
   },
   {
    "duration": 17,
    "start_time": "2025-01-30T11:46:17.007Z"
   },
   {
    "duration": 4,
    "start_time": "2025-01-30T11:46:17.027Z"
   },
   {
    "duration": 12,
    "start_time": "2025-01-30T11:46:17.033Z"
   },
   {
    "duration": 7,
    "start_time": "2025-01-30T11:46:17.047Z"
   },
   {
    "duration": 82,
    "start_time": "2025-01-30T11:46:17.056Z"
   },
   {
    "duration": 11,
    "start_time": "2025-01-30T11:46:17.140Z"
   },
   {
    "duration": 6,
    "start_time": "2025-01-30T11:46:17.153Z"
   },
   {
    "duration": 22,
    "start_time": "2025-01-30T11:46:17.162Z"
   },
   {
    "duration": 33,
    "start_time": "2025-01-30T11:46:17.186Z"
   },
   {
    "duration": 7,
    "start_time": "2025-01-30T11:46:17.221Z"
   },
   {
    "duration": 35,
    "start_time": "2025-01-30T11:46:17.229Z"
   },
   {
    "duration": 19,
    "start_time": "2025-01-30T11:46:17.265Z"
   },
   {
    "duration": 20,
    "start_time": "2025-01-30T11:46:17.286Z"
   },
   {
    "duration": 20,
    "start_time": "2025-01-30T11:46:17.308Z"
   },
   {
    "duration": 104,
    "start_time": "2025-01-30T14:06:40.039Z"
   },
   {
    "duration": 8,
    "start_time": "2025-01-30T14:07:01.181Z"
   },
   {
    "duration": 3,
    "start_time": "2025-01-30T14:07:10.761Z"
   },
   {
    "duration": 5,
    "start_time": "2025-01-30T14:08:29.654Z"
   },
   {
    "duration": 4,
    "start_time": "2025-01-30T14:08:39.648Z"
   },
   {
    "duration": 5,
    "start_time": "2025-01-30T14:09:05.403Z"
   },
   {
    "duration": 5,
    "start_time": "2025-01-30T14:09:41.238Z"
   },
   {
    "duration": 4,
    "start_time": "2025-01-30T14:09:48.185Z"
   },
   {
    "duration": 4,
    "start_time": "2025-01-30T14:10:15.145Z"
   },
   {
    "duration": 5,
    "start_time": "2025-01-30T14:10:31.506Z"
   },
   {
    "duration": 5,
    "start_time": "2025-01-30T14:10:42.257Z"
   },
   {
    "duration": 8,
    "start_time": "2025-01-30T14:17:22.184Z"
   },
   {
    "duration": 1195,
    "start_time": "2025-01-30T14:17:28.263Z"
   },
   {
    "duration": 41,
    "start_time": "2025-01-30T14:17:29.460Z"
   },
   {
    "duration": 16,
    "start_time": "2025-01-30T14:17:29.502Z"
   },
   {
    "duration": 20,
    "start_time": "2025-01-30T14:17:29.520Z"
   },
   {
    "duration": 93,
    "start_time": "2025-01-30T14:17:29.542Z"
   },
   {
    "duration": 11,
    "start_time": "2025-01-30T14:17:29.637Z"
   },
   {
    "duration": 23,
    "start_time": "2025-01-30T14:17:29.650Z"
   },
   {
    "duration": 25,
    "start_time": "2025-01-30T14:17:29.674Z"
   },
   {
    "duration": 5,
    "start_time": "2025-01-30T14:17:29.700Z"
   },
   {
    "duration": 16,
    "start_time": "2025-01-30T14:17:29.707Z"
   },
   {
    "duration": 24,
    "start_time": "2025-01-30T14:17:29.725Z"
   },
   {
    "duration": 30,
    "start_time": "2025-01-30T14:17:29.750Z"
   },
   {
    "duration": 94,
    "start_time": "2025-01-30T14:17:29.782Z"
   },
   {
    "duration": 19,
    "start_time": "2025-01-30T14:17:29.878Z"
   },
   {
    "duration": 16,
    "start_time": "2025-01-30T14:17:29.899Z"
   },
   {
    "duration": 18,
    "start_time": "2025-01-30T14:17:29.917Z"
   },
   {
    "duration": 1144,
    "start_time": "2025-01-30T14:19:34.756Z"
   },
   {
    "duration": 50,
    "start_time": "2025-01-30T14:19:35.902Z"
   },
   {
    "duration": 112,
    "start_time": "2025-01-30T14:19:35.954Z"
   },
   {
    "duration": 43,
    "start_time": "2025-01-30T14:19:36.069Z"
   },
   {
    "duration": 51,
    "start_time": "2025-01-30T14:19:36.114Z"
   },
   {
    "duration": 15,
    "start_time": "2025-01-30T14:19:36.167Z"
   },
   {
    "duration": 52,
    "start_time": "2025-01-30T14:19:36.184Z"
   },
   {
    "duration": 40,
    "start_time": "2025-01-30T14:19:36.238Z"
   },
   {
    "duration": 39,
    "start_time": "2025-01-30T14:19:36.280Z"
   },
   {
    "duration": 38,
    "start_time": "2025-01-30T14:19:36.322Z"
   },
   {
    "duration": 48,
    "start_time": "2025-01-30T14:19:36.362Z"
   },
   {
    "duration": 14,
    "start_time": "2025-01-30T14:19:36.412Z"
   },
   {
    "duration": 45,
    "start_time": "2025-01-30T14:19:36.427Z"
   },
   {
    "duration": 33,
    "start_time": "2025-01-30T14:19:36.474Z"
   },
   {
    "duration": 46,
    "start_time": "2025-01-30T14:19:36.509Z"
   },
   {
    "duration": 19,
    "start_time": "2025-01-30T14:19:36.557Z"
   },
   {
    "duration": 15,
    "start_time": "2025-01-30T14:49:09.893Z"
   },
   {
    "duration": 20,
    "start_time": "2025-01-30T14:50:07.765Z"
   },
   {
    "duration": 1286,
    "start_time": "2025-01-30T14:56:30.627Z"
   },
   {
    "duration": 41,
    "start_time": "2025-01-30T14:56:31.916Z"
   },
   {
    "duration": 16,
    "start_time": "2025-01-30T14:56:31.959Z"
   },
   {
    "duration": 86,
    "start_time": "2025-01-30T14:56:31.977Z"
   },
   {
    "duration": 82,
    "start_time": "2025-01-30T14:56:32.065Z"
   },
   {
    "duration": 10,
    "start_time": "2025-01-30T14:56:32.149Z"
   },
   {
    "duration": 11,
    "start_time": "2025-01-30T14:56:32.161Z"
   },
   {
    "duration": 12,
    "start_time": "2025-01-30T14:56:32.174Z"
   },
   {
    "duration": 34,
    "start_time": "2025-01-30T14:56:32.188Z"
   },
   {
    "duration": 8,
    "start_time": "2025-01-30T14:56:32.224Z"
   },
   {
    "duration": 33,
    "start_time": "2025-01-30T14:56:32.233Z"
   },
   {
    "duration": 26,
    "start_time": "2025-01-30T14:56:32.267Z"
   },
   {
    "duration": 37,
    "start_time": "2025-01-30T14:56:32.295Z"
   },
   {
    "duration": 20,
    "start_time": "2025-01-30T14:56:32.336Z"
   },
   {
    "duration": 17,
    "start_time": "2025-01-30T14:56:32.358Z"
   },
   {
    "duration": 35,
    "start_time": "2025-01-30T14:56:32.376Z"
   },
   {
    "duration": 33,
    "start_time": "2025-01-30T14:56:32.414Z"
   },
   {
    "duration": 49,
    "start_time": "2025-01-31T05:58:55.183Z"
   },
   {
    "duration": 1299,
    "start_time": "2025-01-31T05:59:09.729Z"
   },
   {
    "duration": 40,
    "start_time": "2025-01-31T05:59:11.029Z"
   },
   {
    "duration": 16,
    "start_time": "2025-01-31T05:59:11.070Z"
   },
   {
    "duration": 4,
    "start_time": "2025-01-31T05:59:11.087Z"
   },
   {
    "duration": 24,
    "start_time": "2025-01-31T05:59:11.092Z"
   },
   {
    "duration": 7,
    "start_time": "2025-01-31T05:59:11.118Z"
   },
   {
    "duration": 9,
    "start_time": "2025-01-31T05:59:11.127Z"
   },
   {
    "duration": 11,
    "start_time": "2025-01-31T05:59:11.138Z"
   },
   {
    "duration": 5,
    "start_time": "2025-01-31T05:59:11.150Z"
   },
   {
    "duration": 3,
    "start_time": "2025-01-31T05:59:11.158Z"
   },
   {
    "duration": 57,
    "start_time": "2025-01-31T05:59:11.163Z"
   },
   {
    "duration": 8,
    "start_time": "2025-01-31T05:59:11.222Z"
   },
   {
    "duration": 24,
    "start_time": "2025-01-31T05:59:11.232Z"
   },
   {
    "duration": 19,
    "start_time": "2025-01-31T05:59:11.258Z"
   },
   {
    "duration": 44,
    "start_time": "2025-01-31T05:59:11.278Z"
   },
   {
    "duration": 17,
    "start_time": "2025-01-31T05:59:11.324Z"
   },
   {
    "duration": 17,
    "start_time": "2025-01-31T05:59:11.343Z"
   },
   {
    "duration": 12,
    "start_time": "2025-01-31T05:59:11.361Z"
   },
   {
    "duration": 1009,
    "start_time": "2025-01-31T06:05:29.851Z"
   },
   {
    "duration": 874,
    "start_time": "2025-01-31T06:06:00.542Z"
   },
   {
    "duration": 942,
    "start_time": "2025-01-31T06:06:13.574Z"
   },
   {
    "duration": 11,
    "start_time": "2025-01-31T06:13:19.752Z"
   },
   {
    "duration": 11,
    "start_time": "2025-01-31T06:13:29.272Z"
   },
   {
    "duration": 323,
    "start_time": "2025-01-31T06:14:10.932Z"
   },
   {
    "duration": 7,
    "start_time": "2025-01-31T06:17:25.563Z"
   },
   {
    "duration": 6,
    "start_time": "2025-01-31T06:18:40.925Z"
   },
   {
    "duration": 9,
    "start_time": "2025-01-31T06:39:23.091Z"
   },
   {
    "duration": 1176,
    "start_time": "2025-01-31T06:39:34.442Z"
   },
   {
    "duration": 45,
    "start_time": "2025-01-31T06:39:35.620Z"
   },
   {
    "duration": 20,
    "start_time": "2025-01-31T06:39:35.667Z"
   },
   {
    "duration": 7,
    "start_time": "2025-01-31T06:39:35.689Z"
   },
   {
    "duration": 26,
    "start_time": "2025-01-31T06:39:35.699Z"
   },
   {
    "duration": 9,
    "start_time": "2025-01-31T06:39:35.728Z"
   },
   {
    "duration": 11,
    "start_time": "2025-01-31T06:39:35.739Z"
   },
   {
    "duration": 12,
    "start_time": "2025-01-31T06:39:35.753Z"
   },
   {
    "duration": 6,
    "start_time": "2025-01-31T06:39:35.767Z"
   },
   {
    "duration": 5,
    "start_time": "2025-01-31T06:39:35.815Z"
   },
   {
    "duration": 31,
    "start_time": "2025-01-31T06:39:35.822Z"
   },
   {
    "duration": 9,
    "start_time": "2025-01-31T06:39:35.856Z"
   },
   {
    "duration": 22,
    "start_time": "2025-01-31T06:39:35.866Z"
   },
   {
    "duration": 24,
    "start_time": "2025-01-31T06:39:35.913Z"
   },
   {
    "duration": 19,
    "start_time": "2025-01-31T06:39:35.939Z"
   },
   {
    "duration": 55,
    "start_time": "2025-01-31T06:39:35.961Z"
   },
   {
    "duration": 26,
    "start_time": "2025-01-31T06:39:36.019Z"
   },
   {
    "duration": 128,
    "start_time": "2025-01-31T06:39:36.047Z"
   },
   {
    "duration": 0,
    "start_time": "2025-01-31T06:39:36.177Z"
   },
   {
    "duration": 17,
    "start_time": "2025-01-31T06:40:56.173Z"
   },
   {
    "duration": 1163,
    "start_time": "2025-01-31T06:41:02.064Z"
   },
   {
    "duration": 42,
    "start_time": "2025-01-31T06:41:03.228Z"
   },
   {
    "duration": 16,
    "start_time": "2025-01-31T06:41:03.272Z"
   },
   {
    "duration": 3,
    "start_time": "2025-01-31T06:41:03.290Z"
   },
   {
    "duration": 20,
    "start_time": "2025-01-31T06:41:03.295Z"
   },
   {
    "duration": 8,
    "start_time": "2025-01-31T06:41:03.316Z"
   },
   {
    "duration": 9,
    "start_time": "2025-01-31T06:41:03.325Z"
   },
   {
    "duration": 9,
    "start_time": "2025-01-31T06:41:03.336Z"
   },
   {
    "duration": 3,
    "start_time": "2025-01-31T06:41:03.347Z"
   },
   {
    "duration": 3,
    "start_time": "2025-01-31T06:41:03.352Z"
   },
   {
    "duration": 11,
    "start_time": "2025-01-31T06:41:03.357Z"
   },
   {
    "duration": 46,
    "start_time": "2025-01-31T06:41:03.369Z"
   },
   {
    "duration": 19,
    "start_time": "2025-01-31T06:41:03.417Z"
   },
   {
    "duration": 20,
    "start_time": "2025-01-31T06:41:03.438Z"
   },
   {
    "duration": 17,
    "start_time": "2025-01-31T06:41:03.460Z"
   },
   {
    "duration": 56,
    "start_time": "2025-01-31T06:41:03.479Z"
   },
   {
    "duration": 20,
    "start_time": "2025-01-31T06:41:03.537Z"
   },
   {
    "duration": 125,
    "start_time": "2025-01-31T06:41:03.559Z"
   },
   {
    "duration": 0,
    "start_time": "2025-01-31T06:41:03.686Z"
   },
   {
    "duration": 1202,
    "start_time": "2025-01-31T06:41:26.002Z"
   },
   {
    "duration": 52,
    "start_time": "2025-01-31T06:41:27.206Z"
   },
   {
    "duration": 16,
    "start_time": "2025-01-31T06:41:27.260Z"
   },
   {
    "duration": 4,
    "start_time": "2025-01-31T06:41:27.278Z"
   },
   {
    "duration": 11,
    "start_time": "2025-01-31T06:41:27.284Z"
   },
   {
    "duration": 7,
    "start_time": "2025-01-31T06:41:27.296Z"
   },
   {
    "duration": 15,
    "start_time": "2025-01-31T06:41:27.305Z"
   },
   {
    "duration": 11,
    "start_time": "2025-01-31T06:41:27.321Z"
   },
   {
    "duration": 5,
    "start_time": "2025-01-31T06:41:27.333Z"
   },
   {
    "duration": 3,
    "start_time": "2025-01-31T06:41:27.340Z"
   },
   {
    "duration": 11,
    "start_time": "2025-01-31T06:41:27.345Z"
   },
   {
    "duration": 7,
    "start_time": "2025-01-31T06:41:27.358Z"
   },
   {
    "duration": 61,
    "start_time": "2025-01-31T06:41:27.367Z"
   },
   {
    "duration": 20,
    "start_time": "2025-01-31T06:41:27.431Z"
   },
   {
    "duration": 15,
    "start_time": "2025-01-31T06:41:27.453Z"
   },
   {
    "duration": 19,
    "start_time": "2025-01-31T06:41:27.469Z"
   },
   {
    "duration": 36,
    "start_time": "2025-01-31T06:41:27.514Z"
   },
   {
    "duration": 108,
    "start_time": "2025-01-31T06:41:27.552Z"
   },
   {
    "duration": 0,
    "start_time": "2025-01-31T06:41:27.662Z"
   },
   {
    "duration": 1216,
    "start_time": "2025-01-31T06:42:27.181Z"
   },
   {
    "duration": 53,
    "start_time": "2025-01-31T06:42:28.398Z"
   },
   {
    "duration": 17,
    "start_time": "2025-01-31T06:42:28.452Z"
   },
   {
    "duration": 4,
    "start_time": "2025-01-31T06:42:28.470Z"
   },
   {
    "duration": 11,
    "start_time": "2025-01-31T06:42:28.476Z"
   },
   {
    "duration": 6,
    "start_time": "2025-01-31T06:42:28.489Z"
   },
   {
    "duration": 23,
    "start_time": "2025-01-31T06:42:28.496Z"
   },
   {
    "duration": 10,
    "start_time": "2025-01-31T06:42:28.520Z"
   },
   {
    "duration": 5,
    "start_time": "2025-01-31T06:42:28.532Z"
   },
   {
    "duration": 4,
    "start_time": "2025-01-31T06:42:28.538Z"
   },
   {
    "duration": 12,
    "start_time": "2025-01-31T06:42:28.543Z"
   },
   {
    "duration": 6,
    "start_time": "2025-01-31T06:42:28.557Z"
   },
   {
    "duration": 55,
    "start_time": "2025-01-31T06:42:28.564Z"
   },
   {
    "duration": 19,
    "start_time": "2025-01-31T06:42:28.622Z"
   },
   {
    "duration": 14,
    "start_time": "2025-01-31T06:42:28.643Z"
   },
   {
    "duration": 17,
    "start_time": "2025-01-31T06:42:28.659Z"
   },
   {
    "duration": 40,
    "start_time": "2025-01-31T06:42:28.678Z"
   },
   {
    "duration": 14,
    "start_time": "2025-01-31T06:42:28.720Z"
   },
   {
    "duration": 324,
    "start_time": "2025-01-31T06:42:28.735Z"
   },
   {
    "duration": 1321,
    "start_time": "2025-01-31T06:44:49.336Z"
   },
   {
    "duration": 42,
    "start_time": "2025-01-31T06:44:50.659Z"
   },
   {
    "duration": 21,
    "start_time": "2025-01-31T06:44:50.703Z"
   },
   {
    "duration": 4,
    "start_time": "2025-01-31T06:44:50.725Z"
   },
   {
    "duration": 14,
    "start_time": "2025-01-31T06:44:50.732Z"
   },
   {
    "duration": 7,
    "start_time": "2025-01-31T06:44:50.748Z"
   },
   {
    "duration": 10,
    "start_time": "2025-01-31T06:44:50.756Z"
   },
   {
    "duration": 11,
    "start_time": "2025-01-31T06:44:50.768Z"
   },
   {
    "duration": 35,
    "start_time": "2025-01-31T06:44:50.781Z"
   },
   {
    "duration": 7,
    "start_time": "2025-01-31T06:44:50.818Z"
   },
   {
    "duration": 13,
    "start_time": "2025-01-31T06:44:50.826Z"
   },
   {
    "duration": 7,
    "start_time": "2025-01-31T06:44:50.841Z"
   },
   {
    "duration": 20,
    "start_time": "2025-01-31T06:44:50.849Z"
   },
   {
    "duration": 55,
    "start_time": "2025-01-31T06:44:50.871Z"
   },
   {
    "duration": 17,
    "start_time": "2025-01-31T06:44:50.928Z"
   },
   {
    "duration": 19,
    "start_time": "2025-01-31T06:44:50.947Z"
   },
   {
    "duration": 19,
    "start_time": "2025-01-31T06:44:50.968Z"
   },
   {
    "duration": 17,
    "start_time": "2025-01-31T06:44:51.013Z"
   },
   {
    "duration": 366,
    "start_time": "2025-01-31T06:44:51.032Z"
   },
   {
    "duration": 12,
    "start_time": "2025-01-31T07:01:38.271Z"
   },
   {
    "duration": 1147,
    "start_time": "2025-01-31T07:02:57.667Z"
   },
   {
    "duration": 108,
    "start_time": "2025-01-31T07:05:48.919Z"
   },
   {
    "duration": 2886,
    "start_time": "2025-01-31T07:07:25.063Z"
   },
   {
    "duration": 46,
    "start_time": "2025-02-01T06:13:32.533Z"
   },
   {
    "duration": 3,
    "start_time": "2025-02-01T06:13:53.144Z"
   },
   {
    "duration": 29,
    "start_time": "2025-02-01T06:13:53.149Z"
   },
   {
    "duration": 13,
    "start_time": "2025-02-01T06:13:53.180Z"
   },
   {
    "duration": 37,
    "start_time": "2025-02-01T06:13:53.195Z"
   },
   {
    "duration": 25,
    "start_time": "2025-02-01T06:13:53.234Z"
   },
   {
    "duration": 8,
    "start_time": "2025-02-01T06:13:53.261Z"
   },
   {
    "duration": 9,
    "start_time": "2025-02-01T06:13:53.271Z"
   },
   {
    "duration": 11,
    "start_time": "2025-02-01T06:13:53.285Z"
   },
   {
    "duration": 5,
    "start_time": "2025-02-01T06:13:53.298Z"
   },
   {
    "duration": 5,
    "start_time": "2025-02-01T06:13:53.332Z"
   },
   {
    "duration": 13,
    "start_time": "2025-02-01T06:13:53.339Z"
   },
   {
    "duration": 8,
    "start_time": "2025-02-01T06:13:53.354Z"
   },
   {
    "duration": 21,
    "start_time": "2025-02-01T06:13:53.363Z"
   },
   {
    "duration": 57,
    "start_time": "2025-02-01T06:13:53.385Z"
   },
   {
    "duration": 16,
    "start_time": "2025-02-01T06:13:53.443Z"
   },
   {
    "duration": 19,
    "start_time": "2025-02-01T06:13:53.460Z"
   },
   {
    "duration": 20,
    "start_time": "2025-02-01T06:13:53.481Z"
   },
   {
    "duration": 19,
    "start_time": "2025-02-01T06:13:53.532Z"
   },
   {
    "duration": 338,
    "start_time": "2025-02-01T06:13:53.554Z"
   },
   {
    "duration": 12,
    "start_time": "2025-02-01T06:13:53.893Z"
   },
   {
    "duration": 7,
    "start_time": "2025-02-01T06:21:38.882Z"
   },
   {
    "duration": 6,
    "start_time": "2025-02-01T06:21:50.879Z"
   },
   {
    "duration": 879,
    "start_time": "2025-02-01T06:29:17.110Z"
   },
   {
    "duration": 432,
    "start_time": "2025-02-01T06:32:21.232Z"
   },
   {
    "duration": 5231,
    "start_time": "2025-02-01T06:33:44.122Z"
   },
   {
    "duration": 40,
    "start_time": "2025-02-01T06:33:49.355Z"
   },
   {
    "duration": 17,
    "start_time": "2025-02-01T06:33:49.397Z"
   },
   {
    "duration": 16,
    "start_time": "2025-02-01T06:33:49.417Z"
   },
   {
    "duration": 13,
    "start_time": "2025-02-01T06:33:49.434Z"
   },
   {
    "duration": 7,
    "start_time": "2025-02-01T06:33:49.449Z"
   },
   {
    "duration": 20,
    "start_time": "2025-02-01T06:33:49.458Z"
   },
   {
    "duration": 11,
    "start_time": "2025-02-01T06:33:49.480Z"
   },
   {
    "duration": 4,
    "start_time": "2025-02-01T06:33:49.493Z"
   },
   {
    "duration": 33,
    "start_time": "2025-02-01T06:33:49.500Z"
   },
   {
    "duration": 13,
    "start_time": "2025-02-01T06:33:49.535Z"
   },
   {
    "duration": 8,
    "start_time": "2025-02-01T06:33:49.550Z"
   },
   {
    "duration": 22,
    "start_time": "2025-02-01T06:33:49.559Z"
   },
   {
    "duration": 53,
    "start_time": "2025-02-01T06:33:49.583Z"
   },
   {
    "duration": 18,
    "start_time": "2025-02-01T06:33:49.637Z"
   },
   {
    "duration": 20,
    "start_time": "2025-02-01T06:33:49.656Z"
   },
   {
    "duration": 55,
    "start_time": "2025-02-01T06:33:49.678Z"
   },
   {
    "duration": 19,
    "start_time": "2025-02-01T06:33:49.734Z"
   },
   {
    "duration": 352,
    "start_time": "2025-02-01T06:33:49.754Z"
   },
   {
    "duration": 6,
    "start_time": "2025-02-01T06:33:50.107Z"
   },
   {
    "duration": 839,
    "start_time": "2025-02-01T06:33:50.114Z"
   },
   {
    "duration": 461,
    "start_time": "2025-02-01T06:33:50.955Z"
   },
   {
    "duration": 935,
    "start_time": "2025-02-01T06:34:37.230Z"
   },
   {
    "duration": 780,
    "start_time": "2025-02-01T06:36:10.638Z"
   },
   {
    "duration": 796,
    "start_time": "2025-02-01T06:36:23.302Z"
   },
   {
    "duration": 782,
    "start_time": "2025-02-01T06:36:45.739Z"
   },
   {
    "duration": 908,
    "start_time": "2025-02-01T06:36:54.108Z"
   },
   {
    "duration": 819,
    "start_time": "2025-02-01T06:37:12.247Z"
   },
   {
    "duration": 823,
    "start_time": "2025-02-01T06:37:41.763Z"
   },
   {
    "duration": 798,
    "start_time": "2025-02-01T06:37:48.300Z"
   },
   {
    "duration": 1200,
    "start_time": "2025-02-01T06:38:00.668Z"
   },
   {
    "duration": 787,
    "start_time": "2025-02-01T06:38:10.193Z"
   },
   {
    "duration": 1221,
    "start_time": "2025-02-01T06:38:23.846Z"
   },
   {
    "duration": 40,
    "start_time": "2025-02-01T06:38:25.069Z"
   },
   {
    "duration": 28,
    "start_time": "2025-02-01T06:38:25.110Z"
   },
   {
    "duration": 5,
    "start_time": "2025-02-01T06:38:25.141Z"
   },
   {
    "duration": 12,
    "start_time": "2025-02-01T06:38:25.148Z"
   },
   {
    "duration": 7,
    "start_time": "2025-02-01T06:38:25.162Z"
   },
   {
    "duration": 8,
    "start_time": "2025-02-01T06:38:25.171Z"
   },
   {
    "duration": 56,
    "start_time": "2025-02-01T06:38:25.181Z"
   },
   {
    "duration": 6,
    "start_time": "2025-02-01T06:38:25.239Z"
   },
   {
    "duration": 4,
    "start_time": "2025-02-01T06:38:25.249Z"
   },
   {
    "duration": 19,
    "start_time": "2025-02-01T06:38:25.255Z"
   },
   {
    "duration": 7,
    "start_time": "2025-02-01T06:38:25.276Z"
   },
   {
    "duration": 58,
    "start_time": "2025-02-01T06:38:25.285Z"
   },
   {
    "duration": 29,
    "start_time": "2025-02-01T06:38:25.345Z"
   },
   {
    "duration": 23,
    "start_time": "2025-02-01T06:38:25.376Z"
   },
   {
    "duration": 46,
    "start_time": "2025-02-01T06:38:25.402Z"
   },
   {
    "duration": 22,
    "start_time": "2025-02-01T06:38:25.450Z"
   },
   {
    "duration": 25,
    "start_time": "2025-02-01T06:38:25.474Z"
   },
   {
    "duration": 369,
    "start_time": "2025-02-01T06:38:25.501Z"
   },
   {
    "duration": 5,
    "start_time": "2025-02-01T06:38:25.872Z"
   },
   {
    "duration": 801,
    "start_time": "2025-02-01T06:38:25.878Z"
   },
   {
    "duration": 799,
    "start_time": "2025-02-01T06:38:26.681Z"
   },
   {
    "duration": 126,
    "start_time": "2025-02-01T06:41:39.614Z"
   },
   {
    "duration": 1212,
    "start_time": "2025-02-01T06:41:44.725Z"
   },
   {
    "duration": 110,
    "start_time": "2025-02-01T06:43:10.568Z"
   },
   {
    "duration": 4108,
    "start_time": "2025-02-01T06:43:52.509Z"
   },
   {
    "duration": 107,
    "start_time": "2025-02-01T06:54:52.057Z"
   },
   {
    "duration": 3232,
    "start_time": "2025-02-01T06:54:57.502Z"
   },
   {
    "duration": 11,
    "start_time": "2025-02-01T07:13:09.777Z"
   },
   {
    "duration": 10,
    "start_time": "2025-02-01T07:13:19.435Z"
   },
   {
    "duration": 11,
    "start_time": "2025-02-01T07:13:25.792Z"
   },
   {
    "duration": 914,
    "start_time": "2025-02-01T07:13:36.495Z"
   },
   {
    "duration": 1366,
    "start_time": "2025-02-01T07:14:08.019Z"
   },
   {
    "duration": 50,
    "start_time": "2025-02-01T07:14:09.387Z"
   },
   {
    "duration": 17,
    "start_time": "2025-02-01T07:14:09.439Z"
   },
   {
    "duration": 8,
    "start_time": "2025-02-01T07:14:09.458Z"
   },
   {
    "duration": 27,
    "start_time": "2025-02-01T07:14:09.467Z"
   },
   {
    "duration": 15,
    "start_time": "2025-02-01T07:14:09.495Z"
   },
   {
    "duration": 11,
    "start_time": "2025-02-01T07:14:09.512Z"
   },
   {
    "duration": 17,
    "start_time": "2025-02-01T07:14:09.525Z"
   },
   {
    "duration": 4,
    "start_time": "2025-02-01T07:14:09.544Z"
   },
   {
    "duration": 26,
    "start_time": "2025-02-01T07:14:09.550Z"
   },
   {
    "duration": 16,
    "start_time": "2025-02-01T07:14:09.578Z"
   },
   {
    "duration": 7,
    "start_time": "2025-02-01T07:14:09.596Z"
   },
   {
    "duration": 30,
    "start_time": "2025-02-01T07:14:09.605Z"
   },
   {
    "duration": 23,
    "start_time": "2025-02-01T07:14:09.637Z"
   },
   {
    "duration": 24,
    "start_time": "2025-02-01T07:14:09.662Z"
   },
   {
    "duration": 46,
    "start_time": "2025-02-01T07:14:09.689Z"
   },
   {
    "duration": 28,
    "start_time": "2025-02-01T07:14:09.737Z"
   },
   {
    "duration": 29,
    "start_time": "2025-02-01T07:14:09.767Z"
   },
   {
    "duration": 358,
    "start_time": "2025-02-01T07:14:09.799Z"
   },
   {
    "duration": 5,
    "start_time": "2025-02-01T07:14:10.159Z"
   },
   {
    "duration": 845,
    "start_time": "2025-02-01T07:14:10.166Z"
   },
   {
    "duration": 3175,
    "start_time": "2025-02-01T07:14:11.013Z"
   },
   {
    "duration": 6,
    "start_time": "2025-02-01T07:16:25.449Z"
   },
   {
    "duration": 13,
    "start_time": "2025-02-01T07:16:36.251Z"
   },
   {
    "duration": 5,
    "start_time": "2025-02-01T07:24:01.530Z"
   },
   {
    "duration": 805,
    "start_time": "2025-02-01T07:24:55.166Z"
   },
   {
    "duration": 4819,
    "start_time": "2025-02-01T07:26:15.538Z"
   },
   {
    "duration": 2227,
    "start_time": "2025-02-01T07:27:23.729Z"
   },
   {
    "duration": 40,
    "start_time": "2025-02-01T07:27:25.959Z"
   },
   {
    "duration": 21,
    "start_time": "2025-02-01T07:27:26.001Z"
   },
   {
    "duration": 5,
    "start_time": "2025-02-01T07:27:26.026Z"
   },
   {
    "duration": 27,
    "start_time": "2025-02-01T07:27:26.033Z"
   },
   {
    "duration": 8,
    "start_time": "2025-02-01T07:27:26.063Z"
   },
   {
    "duration": 13,
    "start_time": "2025-02-01T07:27:26.072Z"
   },
   {
    "duration": 11,
    "start_time": "2025-02-01T07:27:26.087Z"
   },
   {
    "duration": 4,
    "start_time": "2025-02-01T07:27:26.100Z"
   },
   {
    "duration": 4,
    "start_time": "2025-02-01T07:27:26.106Z"
   },
   {
    "duration": 11,
    "start_time": "2025-02-01T07:27:26.112Z"
   },
   {
    "duration": 16,
    "start_time": "2025-02-01T07:27:26.125Z"
   },
   {
    "duration": 33,
    "start_time": "2025-02-01T07:27:26.142Z"
   },
   {
    "duration": 19,
    "start_time": "2025-02-01T07:27:26.177Z"
   },
   {
    "duration": 20,
    "start_time": "2025-02-01T07:27:26.198Z"
   },
   {
    "duration": 19,
    "start_time": "2025-02-01T07:27:26.219Z"
   },
   {
    "duration": 18,
    "start_time": "2025-02-01T07:27:26.239Z"
   },
   {
    "duration": 13,
    "start_time": "2025-02-01T07:27:26.259Z"
   },
   {
    "duration": 843,
    "start_time": "2025-02-01T07:27:26.273Z"
   },
   {
    "duration": 21,
    "start_time": "2025-02-01T07:27:27.118Z"
   },
   {
    "duration": 341,
    "start_time": "2025-02-01T07:27:27.141Z"
   },
   {
    "duration": 3287,
    "start_time": "2025-02-01T07:27:27.484Z"
   },
   {
    "duration": 159,
    "start_time": "2025-02-01T07:37:28.132Z"
   },
   {
    "duration": 111,
    "start_time": "2025-02-01T07:40:30.348Z"
   },
   {
    "duration": 286,
    "start_time": "2025-02-01T07:40:38.761Z"
   },
   {
    "duration": 3,
    "start_time": "2025-02-01T07:41:15.494Z"
   },
   {
    "duration": 11,
    "start_time": "2025-02-01T07:41:16.010Z"
   },
   {
    "duration": 13,
    "start_time": "2025-02-01T07:41:29.229Z"
   },
   {
    "duration": 21,
    "start_time": "2025-02-01T07:41:48.188Z"
   },
   {
    "duration": 11,
    "start_time": "2025-02-01T07:43:24.873Z"
   },
   {
    "duration": 121,
    "start_time": "2025-02-01T07:43:35.119Z"
   },
   {
    "duration": 158,
    "start_time": "2025-02-01T07:43:57.630Z"
   },
   {
    "duration": 154,
    "start_time": "2025-02-01T07:44:08.346Z"
   },
   {
    "duration": 127,
    "start_time": "2025-02-01T07:44:14.066Z"
   },
   {
    "duration": 14,
    "start_time": "2025-02-01T07:45:25.226Z"
   },
   {
    "duration": 9,
    "start_time": "2025-02-01T07:49:36.219Z"
   },
   {
    "duration": 2247,
    "start_time": "2025-02-01T08:00:58.677Z"
   },
   {
    "duration": 41,
    "start_time": "2025-02-01T08:01:00.926Z"
   },
   {
    "duration": 18,
    "start_time": "2025-02-01T08:01:00.969Z"
   },
   {
    "duration": 10,
    "start_time": "2025-02-01T08:01:00.989Z"
   },
   {
    "duration": 28,
    "start_time": "2025-02-01T08:01:01.000Z"
   },
   {
    "duration": 35,
    "start_time": "2025-02-01T08:01:01.030Z"
   },
   {
    "duration": 10,
    "start_time": "2025-02-01T08:01:01.066Z"
   },
   {
    "duration": 17,
    "start_time": "2025-02-01T08:01:01.078Z"
   },
   {
    "duration": 4,
    "start_time": "2025-02-01T08:01:01.097Z"
   },
   {
    "duration": 12,
    "start_time": "2025-02-01T08:01:01.104Z"
   },
   {
    "duration": 30,
    "start_time": "2025-02-01T08:01:01.118Z"
   },
   {
    "duration": 8,
    "start_time": "2025-02-01T08:01:01.149Z"
   },
   {
    "duration": 23,
    "start_time": "2025-02-01T08:01:01.159Z"
   },
   {
    "duration": 21,
    "start_time": "2025-02-01T08:01:01.183Z"
   },
   {
    "duration": 45,
    "start_time": "2025-02-01T08:01:01.205Z"
   },
   {
    "duration": 30,
    "start_time": "2025-02-01T08:01:01.252Z"
   },
   {
    "duration": 20,
    "start_time": "2025-02-01T08:01:01.283Z"
   },
   {
    "duration": 6,
    "start_time": "2025-02-01T08:01:01.304Z"
   },
   {
    "duration": 798,
    "start_time": "2025-02-01T08:01:01.312Z"
   },
   {
    "duration": 21,
    "start_time": "2025-02-01T08:01:02.112Z"
   },
   {
    "duration": 68,
    "start_time": "2025-02-01T08:01:02.134Z"
   },
   {
    "duration": 340,
    "start_time": "2025-02-01T08:01:02.204Z"
   },
   {
    "duration": 3123,
    "start_time": "2025-02-01T08:01:02.546Z"
   },
   {
    "duration": 263,
    "start_time": "2025-02-01T08:19:34.192Z"
   },
   {
    "duration": 4518,
    "start_time": "2025-02-01T08:19:54.034Z"
   },
   {
    "duration": 3390,
    "start_time": "2025-02-01T08:55:13.224Z"
   },
   {
    "duration": 41,
    "start_time": "2025-02-01T08:55:16.616Z"
   },
   {
    "duration": 16,
    "start_time": "2025-02-01T08:55:16.659Z"
   },
   {
    "duration": 8,
    "start_time": "2025-02-01T08:55:16.677Z"
   },
   {
    "duration": 20,
    "start_time": "2025-02-01T08:55:16.686Z"
   },
   {
    "duration": 10,
    "start_time": "2025-02-01T08:55:16.707Z"
   },
   {
    "duration": 10,
    "start_time": "2025-02-01T08:55:16.718Z"
   },
   {
    "duration": 10,
    "start_time": "2025-02-01T08:55:16.729Z"
   },
   {
    "duration": 4,
    "start_time": "2025-02-01T08:55:16.741Z"
   },
   {
    "duration": 12,
    "start_time": "2025-02-01T08:55:16.747Z"
   },
   {
    "duration": 16,
    "start_time": "2025-02-01T08:55:16.761Z"
   },
   {
    "duration": 7,
    "start_time": "2025-02-01T08:55:16.778Z"
   },
   {
    "duration": 20,
    "start_time": "2025-02-01T08:55:16.786Z"
   },
   {
    "duration": 20,
    "start_time": "2025-02-01T08:55:16.807Z"
   },
   {
    "duration": 14,
    "start_time": "2025-02-01T08:55:16.832Z"
   },
   {
    "duration": 19,
    "start_time": "2025-02-01T08:55:16.848Z"
   },
   {
    "duration": 20,
    "start_time": "2025-02-01T08:55:16.868Z"
   },
   {
    "duration": 5,
    "start_time": "2025-02-01T08:55:16.889Z"
   },
   {
    "duration": 845,
    "start_time": "2025-02-01T08:55:16.895Z"
   },
   {
    "duration": 12,
    "start_time": "2025-02-01T08:55:17.743Z"
   },
   {
    "duration": 22,
    "start_time": "2025-02-01T08:55:17.756Z"
   },
   {
    "duration": 319,
    "start_time": "2025-02-01T08:55:17.780Z"
   },
   {
    "duration": 4302,
    "start_time": "2025-02-01T08:55:18.100Z"
   },
   {
    "duration": 12735,
    "start_time": "2025-02-01T08:57:11.665Z"
   },
   {
    "duration": 43,
    "start_time": "2025-02-01T08:57:24.402Z"
   },
   {
    "duration": 17,
    "start_time": "2025-02-01T08:57:24.447Z"
   },
   {
    "duration": 4,
    "start_time": "2025-02-01T08:57:24.466Z"
   },
   {
    "duration": 14,
    "start_time": "2025-02-01T08:57:24.472Z"
   },
   {
    "duration": 9,
    "start_time": "2025-02-01T08:57:24.488Z"
   },
   {
    "duration": 11,
    "start_time": "2025-02-01T08:57:24.532Z"
   },
   {
    "duration": 21,
    "start_time": "2025-02-01T08:57:24.545Z"
   },
   {
    "duration": 6,
    "start_time": "2025-02-01T08:57:24.568Z"
   },
   {
    "duration": 4,
    "start_time": "2025-02-01T08:57:24.578Z"
   },
   {
    "duration": 13,
    "start_time": "2025-02-01T08:57:24.584Z"
   },
   {
    "duration": 38,
    "start_time": "2025-02-01T08:57:24.599Z"
   },
   {
    "duration": 22,
    "start_time": "2025-02-01T08:57:24.639Z"
   },
   {
    "duration": 22,
    "start_time": "2025-02-01T08:57:24.663Z"
   },
   {
    "duration": 50,
    "start_time": "2025-02-01T08:57:24.687Z"
   },
   {
    "duration": 20,
    "start_time": "2025-02-01T08:57:24.739Z"
   },
   {
    "duration": 21,
    "start_time": "2025-02-01T08:57:24.762Z"
   },
   {
    "duration": 5,
    "start_time": "2025-02-01T08:57:24.785Z"
   },
   {
    "duration": 833,
    "start_time": "2025-02-01T08:57:24.791Z"
   },
   {
    "duration": 15,
    "start_time": "2025-02-01T08:57:25.626Z"
   },
   {
    "duration": 74,
    "start_time": "2025-02-01T08:57:25.642Z"
   },
   {
    "duration": 320,
    "start_time": "2025-02-01T08:57:25.717Z"
   },
   {
    "duration": 10160,
    "start_time": "2025-02-01T08:57:26.039Z"
   },
   {
    "duration": 2312,
    "start_time": "2025-02-01T09:00:01.740Z"
   },
   {
    "duration": 53,
    "start_time": "2025-02-01T09:00:04.054Z"
   },
   {
    "duration": 22,
    "start_time": "2025-02-01T09:00:04.108Z"
   },
   {
    "duration": 22,
    "start_time": "2025-02-01T09:00:04.132Z"
   },
   {
    "duration": 22,
    "start_time": "2025-02-01T09:00:04.156Z"
   },
   {
    "duration": 7,
    "start_time": "2025-02-01T09:00:04.180Z"
   },
   {
    "duration": 30,
    "start_time": "2025-02-01T09:00:04.188Z"
   },
   {
    "duration": 25,
    "start_time": "2025-02-01T09:00:04.219Z"
   },
   {
    "duration": 19,
    "start_time": "2025-02-01T09:00:04.246Z"
   },
   {
    "duration": 5,
    "start_time": "2025-02-01T09:00:04.268Z"
   },
   {
    "duration": 24,
    "start_time": "2025-02-01T09:00:04.274Z"
   },
   {
    "duration": 82,
    "start_time": "2025-02-01T09:00:04.300Z"
   },
   {
    "duration": 42,
    "start_time": "2025-02-01T09:00:04.383Z"
   },
   {
    "duration": 20,
    "start_time": "2025-02-01T09:00:04.427Z"
   },
   {
    "duration": 26,
    "start_time": "2025-02-01T09:00:04.449Z"
   },
   {
    "duration": 20,
    "start_time": "2025-02-01T09:00:04.476Z"
   },
   {
    "duration": 27,
    "start_time": "2025-02-01T09:00:04.498Z"
   },
   {
    "duration": 5,
    "start_time": "2025-02-01T09:00:04.532Z"
   },
   {
    "duration": 954,
    "start_time": "2025-02-01T09:00:04.538Z"
   },
   {
    "duration": 12,
    "start_time": "2025-02-01T09:00:05.495Z"
   },
   {
    "duration": 37,
    "start_time": "2025-02-01T09:00:05.509Z"
   },
   {
    "duration": 350,
    "start_time": "2025-02-01T09:00:05.548Z"
   },
   {
    "duration": 10701,
    "start_time": "2025-02-01T09:00:05.900Z"
   },
   {
    "duration": 3309,
    "start_time": "2025-02-01T09:02:57.554Z"
   },
   {
    "duration": 51,
    "start_time": "2025-02-01T09:03:00.865Z"
   },
   {
    "duration": 16,
    "start_time": "2025-02-01T09:03:00.918Z"
   },
   {
    "duration": 37,
    "start_time": "2025-02-01T09:03:00.936Z"
   },
   {
    "duration": 35,
    "start_time": "2025-02-01T09:03:00.974Z"
   },
   {
    "duration": 43,
    "start_time": "2025-02-01T09:03:01.011Z"
   },
   {
    "duration": 64,
    "start_time": "2025-02-01T09:03:01.055Z"
   },
   {
    "duration": 33,
    "start_time": "2025-02-01T09:03:01.120Z"
   },
   {
    "duration": 25,
    "start_time": "2025-02-01T09:03:01.155Z"
   },
   {
    "duration": 40,
    "start_time": "2025-02-01T09:03:01.183Z"
   },
   {
    "duration": 18,
    "start_time": "2025-02-01T09:03:01.225Z"
   },
   {
    "duration": 21,
    "start_time": "2025-02-01T09:03:01.245Z"
   },
   {
    "duration": 20,
    "start_time": "2025-02-01T09:03:01.268Z"
   },
   {
    "duration": 22,
    "start_time": "2025-02-01T09:03:01.290Z"
   },
   {
    "duration": 37,
    "start_time": "2025-02-01T09:03:01.313Z"
   },
   {
    "duration": 20,
    "start_time": "2025-02-01T09:03:01.352Z"
   },
   {
    "duration": 20,
    "start_time": "2025-02-01T09:03:01.374Z"
   },
   {
    "duration": 4,
    "start_time": "2025-02-01T09:03:01.396Z"
   },
   {
    "duration": 848,
    "start_time": "2025-02-01T09:03:01.402Z"
   },
   {
    "duration": 12,
    "start_time": "2025-02-01T09:03:02.251Z"
   },
   {
    "duration": 32,
    "start_time": "2025-02-01T09:03:02.264Z"
   },
   {
    "duration": 361,
    "start_time": "2025-02-01T09:03:02.298Z"
   },
   {
    "duration": 4208,
    "start_time": "2025-02-01T09:03:02.661Z"
   },
   {
    "duration": 2817,
    "start_time": "2025-02-01T09:18:23.739Z"
   },
   {
    "duration": 40,
    "start_time": "2025-02-01T09:18:26.558Z"
   },
   {
    "duration": 16,
    "start_time": "2025-02-01T09:18:26.600Z"
   },
   {
    "duration": 17,
    "start_time": "2025-02-01T09:18:26.617Z"
   },
   {
    "duration": 21,
    "start_time": "2025-02-01T09:18:26.636Z"
   },
   {
    "duration": 7,
    "start_time": "2025-02-01T09:18:26.658Z"
   },
   {
    "duration": 19,
    "start_time": "2025-02-01T09:18:26.667Z"
   },
   {
    "duration": 10,
    "start_time": "2025-02-01T09:18:26.688Z"
   },
   {
    "duration": 5,
    "start_time": "2025-02-01T09:18:26.700Z"
   },
   {
    "duration": 34,
    "start_time": "2025-02-01T09:18:26.706Z"
   },
   {
    "duration": 17,
    "start_time": "2025-02-01T09:18:26.742Z"
   },
   {
    "duration": 7,
    "start_time": "2025-02-01T09:18:26.761Z"
   },
   {
    "duration": 29,
    "start_time": "2025-02-01T09:18:26.770Z"
   },
   {
    "duration": 19,
    "start_time": "2025-02-01T09:18:26.801Z"
   },
   {
    "duration": 24,
    "start_time": "2025-02-01T09:18:26.822Z"
   },
   {
    "duration": 19,
    "start_time": "2025-02-01T09:18:26.847Z"
   },
   {
    "duration": 19,
    "start_time": "2025-02-01T09:18:26.867Z"
   },
   {
    "duration": 5,
    "start_time": "2025-02-01T09:18:26.888Z"
   },
   {
    "duration": 840,
    "start_time": "2025-02-01T09:18:26.894Z"
   },
   {
    "duration": 12,
    "start_time": "2025-02-01T09:18:27.737Z"
   },
   {
    "duration": 34,
    "start_time": "2025-02-01T09:18:27.751Z"
   },
   {
    "duration": 340,
    "start_time": "2025-02-01T09:18:27.787Z"
   },
   {
    "duration": 4267,
    "start_time": "2025-02-01T09:18:28.133Z"
   },
   {
    "duration": 268,
    "start_time": "2025-02-01T09:18:32.402Z"
   },
   {
    "duration": 13,
    "start_time": "2025-02-01T09:19:01.329Z"
   },
   {
    "duration": 19,
    "start_time": "2025-02-01T09:19:14.845Z"
   },
   {
    "duration": 4447,
    "start_time": "2025-02-01T09:23:02.893Z"
   },
   {
    "duration": 41,
    "start_time": "2025-02-01T09:23:07.342Z"
   },
   {
    "duration": 16,
    "start_time": "2025-02-01T09:23:07.385Z"
   },
   {
    "duration": 20,
    "start_time": "2025-02-01T09:23:07.404Z"
   },
   {
    "duration": 22,
    "start_time": "2025-02-01T09:23:07.426Z"
   },
   {
    "duration": 7,
    "start_time": "2025-02-01T09:23:07.450Z"
   },
   {
    "duration": 22,
    "start_time": "2025-02-01T09:23:07.459Z"
   },
   {
    "duration": 24,
    "start_time": "2025-02-01T09:23:07.483Z"
   },
   {
    "duration": 5,
    "start_time": "2025-02-01T09:23:07.509Z"
   },
   {
    "duration": 40,
    "start_time": "2025-02-01T09:23:07.516Z"
   },
   {
    "duration": 33,
    "start_time": "2025-02-01T09:23:07.558Z"
   },
   {
    "duration": 8,
    "start_time": "2025-02-01T09:23:07.593Z"
   },
   {
    "duration": 45,
    "start_time": "2025-02-01T09:23:07.603Z"
   },
   {
    "duration": 21,
    "start_time": "2025-02-01T09:23:07.650Z"
   },
   {
    "duration": 31,
    "start_time": "2025-02-01T09:23:07.673Z"
   },
   {
    "duration": 43,
    "start_time": "2025-02-01T09:23:07.706Z"
   },
   {
    "duration": 30,
    "start_time": "2025-02-01T09:23:07.751Z"
   },
   {
    "duration": 15,
    "start_time": "2025-02-01T09:23:07.783Z"
   },
   {
    "duration": 825,
    "start_time": "2025-02-01T09:23:07.800Z"
   },
   {
    "duration": 15,
    "start_time": "2025-02-01T09:23:08.626Z"
   },
   {
    "duration": 21,
    "start_time": "2025-02-01T09:23:08.643Z"
   },
   {
    "duration": 346,
    "start_time": "2025-02-01T09:23:08.666Z"
   },
   {
    "duration": 4030,
    "start_time": "2025-02-01T09:23:09.014Z"
   },
   {
    "duration": 123,
    "start_time": "2025-02-01T09:23:13.046Z"
   },
   {
    "duration": 2982,
    "start_time": "2025-02-01T09:23:29.705Z"
   },
   {
    "duration": 9,
    "start_time": "2025-02-01T09:23:38.841Z"
   },
   {
    "duration": 3373,
    "start_time": "2025-02-01T09:24:48.253Z"
   },
   {
    "duration": 66,
    "start_time": "2025-02-01T09:25:59.871Z"
   },
   {
    "duration": 147,
    "start_time": "2025-02-01T09:27:58.509Z"
   },
   {
    "duration": 4250,
    "start_time": "2025-02-01T09:28:07.532Z"
   },
   {
    "duration": 2270,
    "start_time": "2025-02-01T09:32:20.758Z"
   },
   {
    "duration": 40,
    "start_time": "2025-02-01T09:32:23.032Z"
   },
   {
    "duration": 17,
    "start_time": "2025-02-01T09:32:23.074Z"
   },
   {
    "duration": 4,
    "start_time": "2025-02-01T09:32:23.093Z"
   },
   {
    "duration": 20,
    "start_time": "2025-02-01T09:32:23.099Z"
   },
   {
    "duration": 16,
    "start_time": "2025-02-01T09:32:23.121Z"
   },
   {
    "duration": 12,
    "start_time": "2025-02-01T09:32:23.138Z"
   },
   {
    "duration": 11,
    "start_time": "2025-02-01T09:32:23.152Z"
   },
   {
    "duration": 9,
    "start_time": "2025-02-01T09:32:23.164Z"
   },
   {
    "duration": 5,
    "start_time": "2025-02-01T09:32:23.176Z"
   },
   {
    "duration": 12,
    "start_time": "2025-02-01T09:32:23.182Z"
   },
   {
    "duration": 37,
    "start_time": "2025-02-01T09:32:23.196Z"
   },
   {
    "duration": 21,
    "start_time": "2025-02-01T09:32:23.234Z"
   },
   {
    "duration": 20,
    "start_time": "2025-02-01T09:32:23.256Z"
   },
   {
    "duration": 22,
    "start_time": "2025-02-01T09:32:23.278Z"
   },
   {
    "duration": 45,
    "start_time": "2025-02-01T09:32:23.301Z"
   },
   {
    "duration": 19,
    "start_time": "2025-02-01T09:32:23.348Z"
   },
   {
    "duration": 5,
    "start_time": "2025-02-01T09:32:23.369Z"
   },
   {
    "duration": 830,
    "start_time": "2025-02-01T09:32:23.375Z"
   },
   {
    "duration": 11,
    "start_time": "2025-02-01T09:32:24.207Z"
   },
   {
    "duration": 30,
    "start_time": "2025-02-01T09:32:24.219Z"
   },
   {
    "duration": 336,
    "start_time": "2025-02-01T09:32:24.250Z"
   },
   {
    "duration": 3947,
    "start_time": "2025-02-01T09:32:24.588Z"
   },
   {
    "duration": 4041,
    "start_time": "2025-02-01T09:32:28.537Z"
   },
   {
    "duration": 234,
    "start_time": "2025-02-01T09:53:08.278Z"
   },
   {
    "duration": 513,
    "start_time": "2025-02-01T09:53:17.924Z"
   },
   {
    "duration": 1227,
    "start_time": "2025-02-01T09:53:43.979Z"
   },
   {
    "duration": 52,
    "start_time": "2025-02-01T09:53:45.208Z"
   },
   {
    "duration": 18,
    "start_time": "2025-02-01T09:53:45.261Z"
   },
   {
    "duration": 18,
    "start_time": "2025-02-01T09:53:45.281Z"
   },
   {
    "duration": 14,
    "start_time": "2025-02-01T09:53:45.301Z"
   },
   {
    "duration": 17,
    "start_time": "2025-02-01T09:53:45.317Z"
   },
   {
    "duration": 10,
    "start_time": "2025-02-01T09:53:45.335Z"
   },
   {
    "duration": 11,
    "start_time": "2025-02-01T09:53:45.347Z"
   },
   {
    "duration": 18,
    "start_time": "2025-02-01T09:53:45.360Z"
   },
   {
    "duration": 14,
    "start_time": "2025-02-01T09:53:45.380Z"
   },
   {
    "duration": 22,
    "start_time": "2025-02-01T09:53:45.396Z"
   },
   {
    "duration": 13,
    "start_time": "2025-02-01T09:53:45.420Z"
   },
   {
    "duration": 20,
    "start_time": "2025-02-01T09:53:45.435Z"
   },
   {
    "duration": 19,
    "start_time": "2025-02-01T09:53:45.457Z"
   },
   {
    "duration": 26,
    "start_time": "2025-02-01T09:53:45.478Z"
   },
   {
    "duration": 39,
    "start_time": "2025-02-01T09:53:45.506Z"
   },
   {
    "duration": 20,
    "start_time": "2025-02-01T09:53:45.547Z"
   },
   {
    "duration": 8,
    "start_time": "2025-02-01T09:53:45.568Z"
   },
   {
    "duration": 819,
    "start_time": "2025-02-01T09:53:45.578Z"
   },
   {
    "duration": 10,
    "start_time": "2025-02-01T09:53:46.399Z"
   },
   {
    "duration": 27,
    "start_time": "2025-02-01T09:53:46.411Z"
   },
   {
    "duration": 333,
    "start_time": "2025-02-01T09:53:46.440Z"
   },
   {
    "duration": 3972,
    "start_time": "2025-02-01T09:53:46.775Z"
   },
   {
    "duration": 736,
    "start_time": "2025-02-01T09:53:50.749Z"
   },
   {
    "duration": 468,
    "start_time": "2025-02-01T09:55:44.039Z"
   },
   {
    "duration": 882,
    "start_time": "2025-02-01T09:56:12.832Z"
   },
   {
    "duration": 676,
    "start_time": "2025-02-01T09:56:29.585Z"
   },
   {
    "duration": 1183,
    "start_time": "2025-02-01T09:57:54.313Z"
   },
   {
    "duration": 1437,
    "start_time": "2025-02-01T10:03:55.174Z"
   },
   {
    "duration": 503,
    "start_time": "2025-02-01T10:18:59.436Z"
   },
   {
    "duration": 5990,
    "start_time": "2025-02-01T10:35:57.385Z"
   },
   {
    "duration": 41,
    "start_time": "2025-02-01T10:36:03.377Z"
   },
   {
    "duration": 21,
    "start_time": "2025-02-01T10:36:03.419Z"
   },
   {
    "duration": 7,
    "start_time": "2025-02-01T10:36:03.442Z"
   },
   {
    "duration": 23,
    "start_time": "2025-02-01T10:36:03.450Z"
   },
   {
    "duration": 7,
    "start_time": "2025-02-01T10:36:03.475Z"
   },
   {
    "duration": 28,
    "start_time": "2025-02-01T10:36:03.483Z"
   },
   {
    "duration": 19,
    "start_time": "2025-02-01T10:36:03.512Z"
   },
   {
    "duration": 12,
    "start_time": "2025-02-01T10:36:03.532Z"
   },
   {
    "duration": 18,
    "start_time": "2025-02-01T10:36:03.546Z"
   },
   {
    "duration": 12,
    "start_time": "2025-02-01T10:36:03.565Z"
   },
   {
    "duration": 29,
    "start_time": "2025-02-01T10:36:03.579Z"
   },
   {
    "duration": 38,
    "start_time": "2025-02-01T10:36:03.610Z"
   },
   {
    "duration": 20,
    "start_time": "2025-02-01T10:36:03.650Z"
   },
   {
    "duration": 15,
    "start_time": "2025-02-01T10:36:03.672Z"
   },
   {
    "duration": 53,
    "start_time": "2025-02-01T10:36:03.688Z"
   },
   {
    "duration": 30,
    "start_time": "2025-02-01T10:36:03.743Z"
   },
   {
    "duration": 4,
    "start_time": "2025-02-01T10:36:03.775Z"
   },
   {
    "duration": 817,
    "start_time": "2025-02-01T10:36:03.781Z"
   },
   {
    "duration": 11,
    "start_time": "2025-02-01T10:36:04.599Z"
   },
   {
    "duration": 32,
    "start_time": "2025-02-01T10:36:04.612Z"
   },
   {
    "duration": 335,
    "start_time": "2025-02-01T10:36:04.646Z"
   },
   {
    "duration": 3981,
    "start_time": "2025-02-01T10:36:04.983Z"
   },
   {
    "duration": 1653,
    "start_time": "2025-02-01T10:36:08.966Z"
   },
   {
    "duration": 519,
    "start_time": "2025-02-01T10:36:10.621Z"
   },
   {
    "duration": 8819,
    "start_time": "2025-02-01T10:45:24.502Z"
   },
   {
    "duration": 42,
    "start_time": "2025-02-01T10:45:33.323Z"
   },
   {
    "duration": 18,
    "start_time": "2025-02-01T10:45:33.367Z"
   },
   {
    "duration": 4,
    "start_time": "2025-02-01T10:45:33.387Z"
   },
   {
    "duration": 39,
    "start_time": "2025-02-01T10:45:33.393Z"
   },
   {
    "duration": 7,
    "start_time": "2025-02-01T10:45:33.434Z"
   },
   {
    "duration": 38,
    "start_time": "2025-02-01T10:45:33.443Z"
   },
   {
    "duration": 10,
    "start_time": "2025-02-01T10:45:33.483Z"
   },
   {
    "duration": 5,
    "start_time": "2025-02-01T10:45:33.495Z"
   },
   {
    "duration": 7,
    "start_time": "2025-02-01T10:45:33.501Z"
   },
   {
    "duration": 21,
    "start_time": "2025-02-01T10:45:33.510Z"
   },
   {
    "duration": 10,
    "start_time": "2025-02-01T10:45:33.532Z"
   },
   {
    "duration": 50,
    "start_time": "2025-02-01T10:45:33.543Z"
   },
   {
    "duration": 20,
    "start_time": "2025-02-01T10:45:33.596Z"
   },
   {
    "duration": 24,
    "start_time": "2025-02-01T10:45:33.618Z"
   },
   {
    "duration": 24,
    "start_time": "2025-02-01T10:45:33.644Z"
   },
   {
    "duration": 21,
    "start_time": "2025-02-01T10:45:33.670Z"
   },
   {
    "duration": 4,
    "start_time": "2025-02-01T10:45:33.693Z"
   },
   {
    "duration": 835,
    "start_time": "2025-02-01T10:45:33.699Z"
   },
   {
    "duration": 10,
    "start_time": "2025-02-01T10:45:34.536Z"
   },
   {
    "duration": 31,
    "start_time": "2025-02-01T10:45:34.547Z"
   },
   {
    "duration": 336,
    "start_time": "2025-02-01T10:45:34.579Z"
   },
   {
    "duration": 3937,
    "start_time": "2025-02-01T10:45:34.916Z"
   },
   {
    "duration": 1642,
    "start_time": "2025-02-01T10:45:38.855Z"
   },
   {
    "duration": 535,
    "start_time": "2025-02-01T10:45:40.499Z"
   },
   {
    "duration": 59,
    "start_time": "2025-02-02T05:29:19.763Z"
   },
   {
    "duration": 1385,
    "start_time": "2025-02-02T05:29:25.168Z"
   },
   {
    "duration": 50,
    "start_time": "2025-02-02T05:29:26.555Z"
   },
   {
    "duration": 28,
    "start_time": "2025-02-02T05:29:26.608Z"
   },
   {
    "duration": 4,
    "start_time": "2025-02-02T05:29:26.638Z"
   },
   {
    "duration": 16,
    "start_time": "2025-02-02T05:29:26.644Z"
   },
   {
    "duration": 23,
    "start_time": "2025-02-02T05:29:26.661Z"
   },
   {
    "duration": 14,
    "start_time": "2025-02-02T05:29:26.686Z"
   },
   {
    "duration": 15,
    "start_time": "2025-02-02T05:29:26.703Z"
   },
   {
    "duration": 6,
    "start_time": "2025-02-02T05:29:26.720Z"
   },
   {
    "duration": 45,
    "start_time": "2025-02-02T05:29:26.730Z"
   },
   {
    "duration": 72,
    "start_time": "2025-02-02T05:29:26.777Z"
   },
   {
    "duration": 7,
    "start_time": "2025-02-02T05:29:26.851Z"
   },
   {
    "duration": 88,
    "start_time": "2025-02-02T05:29:26.859Z"
   },
   {
    "duration": 35,
    "start_time": "2025-02-02T05:29:26.948Z"
   },
   {
    "duration": 29,
    "start_time": "2025-02-02T05:29:26.985Z"
   },
   {
    "duration": 19,
    "start_time": "2025-02-02T05:29:27.015Z"
   },
   {
    "duration": 20,
    "start_time": "2025-02-02T05:29:27.035Z"
   },
   {
    "duration": 22,
    "start_time": "2025-02-02T05:29:27.056Z"
   },
   {
    "duration": 895,
    "start_time": "2025-02-02T05:29:27.080Z"
   },
   {
    "duration": 17,
    "start_time": "2025-02-02T05:29:27.977Z"
   },
   {
    "duration": 23,
    "start_time": "2025-02-02T05:29:27.998Z"
   },
   {
    "duration": 345,
    "start_time": "2025-02-02T05:29:28.024Z"
   },
   {
    "duration": 4028,
    "start_time": "2025-02-02T05:29:28.375Z"
   },
   {
    "duration": 1734,
    "start_time": "2025-02-02T05:29:32.405Z"
   },
   {
    "duration": 527,
    "start_time": "2025-02-02T05:29:34.141Z"
   },
   {
    "duration": 11,
    "start_time": "2025-02-02T05:29:34.674Z"
   },
   {
    "duration": 13,
    "start_time": "2025-02-02T05:29:49.758Z"
   },
   {
    "duration": 8,
    "start_time": "2025-02-02T05:32:51.747Z"
   },
   {
    "duration": 8,
    "start_time": "2025-02-02T05:33:05.846Z"
   },
   {
    "duration": 9,
    "start_time": "2025-02-02T05:33:10.190Z"
   },
   {
    "duration": 8,
    "start_time": "2025-02-02T05:33:16.518Z"
   },
   {
    "duration": 7,
    "start_time": "2025-02-02T05:33:21.064Z"
   },
   {
    "duration": 9,
    "start_time": "2025-02-02T05:37:02.866Z"
   },
   {
    "duration": 9,
    "start_time": "2025-02-02T05:37:10.921Z"
   },
   {
    "duration": 9,
    "start_time": "2025-02-02T05:37:31.832Z"
   },
   {
    "duration": 11,
    "start_time": "2025-02-02T05:41:30.527Z"
   },
   {
    "duration": 9,
    "start_time": "2025-02-02T05:42:02.156Z"
   },
   {
    "duration": 10,
    "start_time": "2025-02-02T05:42:07.575Z"
   },
   {
    "duration": 13,
    "start_time": "2025-02-02T05:47:00.821Z"
   },
   {
    "duration": 120,
    "start_time": "2025-02-02T06:09:23.183Z"
   },
   {
    "duration": 1219,
    "start_time": "2025-02-02T06:09:45.696Z"
   },
   {
    "duration": 40,
    "start_time": "2025-02-02T06:09:46.917Z"
   },
   {
    "duration": 18,
    "start_time": "2025-02-02T06:09:46.959Z"
   },
   {
    "duration": 85,
    "start_time": "2025-02-02T06:09:46.980Z"
   },
   {
    "duration": 24,
    "start_time": "2025-02-02T06:09:47.067Z"
   },
   {
    "duration": 7,
    "start_time": "2025-02-02T06:09:47.093Z"
   },
   {
    "duration": 9,
    "start_time": "2025-02-02T06:09:47.102Z"
   },
   {
    "duration": 10,
    "start_time": "2025-02-02T06:09:47.112Z"
   },
   {
    "duration": 5,
    "start_time": "2025-02-02T06:09:47.124Z"
   },
   {
    "duration": 4,
    "start_time": "2025-02-02T06:09:47.132Z"
   },
   {
    "duration": 51,
    "start_time": "2025-02-02T06:09:47.137Z"
   },
   {
    "duration": 8,
    "start_time": "2025-02-02T06:09:47.190Z"
   },
   {
    "duration": 22,
    "start_time": "2025-02-02T06:09:47.199Z"
   },
   {
    "duration": 21,
    "start_time": "2025-02-02T06:09:47.223Z"
   },
   {
    "duration": 22,
    "start_time": "2025-02-02T06:09:47.276Z"
   },
   {
    "duration": 21,
    "start_time": "2025-02-02T06:09:47.300Z"
   },
   {
    "duration": 20,
    "start_time": "2025-02-02T06:09:47.323Z"
   },
   {
    "duration": 31,
    "start_time": "2025-02-02T06:09:47.344Z"
   },
   {
    "duration": 943,
    "start_time": "2025-02-02T06:09:47.378Z"
   },
   {
    "duration": 12,
    "start_time": "2025-02-02T06:09:48.322Z"
   },
   {
    "duration": 17,
    "start_time": "2025-02-02T06:09:48.335Z"
   },
   {
    "duration": 372,
    "start_time": "2025-02-02T06:09:48.354Z"
   },
   {
    "duration": 4099,
    "start_time": "2025-02-02T06:09:48.728Z"
   },
   {
    "duration": 1668,
    "start_time": "2025-02-02T06:09:52.828Z"
   },
   {
    "duration": 497,
    "start_time": "2025-02-02T06:09:54.497Z"
   },
   {
    "duration": 10,
    "start_time": "2025-02-02T06:09:54.997Z"
   },
   {
    "duration": 59,
    "start_time": "2025-02-02T06:09:55.009Z"
   },
   {
    "duration": 10,
    "start_time": "2025-02-02T06:09:55.072Z"
   },
   {
    "duration": 117,
    "start_time": "2025-02-02T06:09:55.083Z"
   },
   {
    "duration": 15,
    "start_time": "2025-02-02T06:10:13.587Z"
   },
   {
    "duration": 15,
    "start_time": "2025-02-02T06:11:33.812Z"
   },
   {
    "duration": 1121,
    "start_time": "2025-02-02T06:11:54.932Z"
   },
   {
    "duration": 40,
    "start_time": "2025-02-02T06:11:56.056Z"
   },
   {
    "duration": 17,
    "start_time": "2025-02-02T06:11:56.098Z"
   },
   {
    "duration": 4,
    "start_time": "2025-02-02T06:11:56.117Z"
   },
   {
    "duration": 12,
    "start_time": "2025-02-02T06:11:56.123Z"
   },
   {
    "duration": 7,
    "start_time": "2025-02-02T06:11:56.136Z"
   },
   {
    "duration": 36,
    "start_time": "2025-02-02T06:11:56.145Z"
   },
   {
    "duration": 11,
    "start_time": "2025-02-02T06:11:56.182Z"
   },
   {
    "duration": 5,
    "start_time": "2025-02-02T06:11:56.194Z"
   },
   {
    "duration": 74,
    "start_time": "2025-02-02T06:11:56.202Z"
   },
   {
    "duration": 12,
    "start_time": "2025-02-02T06:11:56.278Z"
   },
   {
    "duration": 8,
    "start_time": "2025-02-02T06:11:56.291Z"
   },
   {
    "duration": 35,
    "start_time": "2025-02-02T06:11:56.300Z"
   },
   {
    "duration": 20,
    "start_time": "2025-02-02T06:11:56.336Z"
   },
   {
    "duration": 30,
    "start_time": "2025-02-02T06:11:56.358Z"
   },
   {
    "duration": 19,
    "start_time": "2025-02-02T06:11:56.390Z"
   },
   {
    "duration": 19,
    "start_time": "2025-02-02T06:11:56.411Z"
   },
   {
    "duration": 4,
    "start_time": "2025-02-02T06:11:56.432Z"
   },
   {
    "duration": 810,
    "start_time": "2025-02-02T06:11:56.438Z"
   },
   {
    "duration": 10,
    "start_time": "2025-02-02T06:11:57.250Z"
   },
   {
    "duration": 28,
    "start_time": "2025-02-02T06:11:57.261Z"
   },
   {
    "duration": 327,
    "start_time": "2025-02-02T06:11:57.290Z"
   },
   {
    "duration": 3896,
    "start_time": "2025-02-02T06:11:57.619Z"
   },
   {
    "duration": 1624,
    "start_time": "2025-02-02T06:12:01.517Z"
   },
   {
    "duration": 519,
    "start_time": "2025-02-02T06:12:03.142Z"
   },
   {
    "duration": 16,
    "start_time": "2025-02-02T06:12:03.662Z"
   },
   {
    "duration": 19,
    "start_time": "2025-02-02T06:12:03.680Z"
   },
   {
    "duration": 12,
    "start_time": "2025-02-02T06:12:03.703Z"
   },
   {
    "duration": 10,
    "start_time": "2025-02-02T06:12:03.717Z"
   },
   {
    "duration": 11,
    "start_time": "2025-02-02T06:14:26.474Z"
   },
   {
    "duration": 10,
    "start_time": "2025-02-02T06:15:12.890Z"
   },
   {
    "duration": 39,
    "start_time": "2025-02-02T06:15:44.856Z"
   },
   {
    "duration": 11,
    "start_time": "2025-02-02T06:42:15.891Z"
   },
   {
    "duration": 11,
    "start_time": "2025-02-02T06:42:54.335Z"
   },
   {
    "duration": 11,
    "start_time": "2025-02-02T06:43:00.674Z"
   },
   {
    "duration": 1131,
    "start_time": "2025-02-02T06:45:05.233Z"
   },
   {
    "duration": 52,
    "start_time": "2025-02-02T06:45:06.366Z"
   },
   {
    "duration": 17,
    "start_time": "2025-02-02T06:45:06.420Z"
   },
   {
    "duration": 5,
    "start_time": "2025-02-02T06:45:06.439Z"
   },
   {
    "duration": 24,
    "start_time": "2025-02-02T06:45:06.447Z"
   },
   {
    "duration": 10,
    "start_time": "2025-02-02T06:45:06.473Z"
   },
   {
    "duration": 20,
    "start_time": "2025-02-02T06:45:06.484Z"
   },
   {
    "duration": 11,
    "start_time": "2025-02-02T06:45:06.506Z"
   },
   {
    "duration": 4,
    "start_time": "2025-02-02T06:45:06.519Z"
   },
   {
    "duration": 3,
    "start_time": "2025-02-02T06:45:06.525Z"
   },
   {
    "duration": 11,
    "start_time": "2025-02-02T06:45:06.530Z"
   },
   {
    "duration": 8,
    "start_time": "2025-02-02T06:45:06.543Z"
   },
   {
    "duration": 39,
    "start_time": "2025-02-02T06:45:06.553Z"
   },
   {
    "duration": 20,
    "start_time": "2025-02-02T06:45:06.595Z"
   },
   {
    "duration": 16,
    "start_time": "2025-02-02T06:45:06.616Z"
   },
   {
    "duration": 42,
    "start_time": "2025-02-02T06:45:06.634Z"
   },
   {
    "duration": 19,
    "start_time": "2025-02-02T06:45:06.678Z"
   },
   {
    "duration": 5,
    "start_time": "2025-02-02T06:45:06.699Z"
   },
   {
    "duration": 812,
    "start_time": "2025-02-02T06:45:06.705Z"
   },
   {
    "duration": 10,
    "start_time": "2025-02-02T06:45:07.519Z"
   },
   {
    "duration": 16,
    "start_time": "2025-02-02T06:45:07.530Z"
   },
   {
    "duration": 348,
    "start_time": "2025-02-02T06:45:07.548Z"
   },
   {
    "duration": 3915,
    "start_time": "2025-02-02T06:45:07.898Z"
   },
   {
    "duration": 1535,
    "start_time": "2025-02-02T06:45:11.815Z"
   },
   {
    "duration": 506,
    "start_time": "2025-02-02T06:45:13.352Z"
   },
   {
    "duration": 18,
    "start_time": "2025-02-02T06:45:13.860Z"
   },
   {
    "duration": 8,
    "start_time": "2025-02-02T06:45:13.880Z"
   },
   {
    "duration": 9,
    "start_time": "2025-02-02T06:45:13.890Z"
   },
   {
    "duration": 11,
    "start_time": "2025-02-02T06:45:13.900Z"
   },
   {
    "duration": 11,
    "start_time": "2025-02-02T06:45:13.913Z"
   },
   {
    "duration": 11,
    "start_time": "2025-02-02T06:45:52.364Z"
   },
   {
    "duration": 1141,
    "start_time": "2025-02-02T06:46:03.116Z"
   },
   {
    "duration": 41,
    "start_time": "2025-02-02T06:46:04.259Z"
   },
   {
    "duration": 17,
    "start_time": "2025-02-02T06:46:04.302Z"
   },
   {
    "duration": 78,
    "start_time": "2025-02-02T06:46:04.321Z"
   },
   {
    "duration": 15,
    "start_time": "2025-02-02T06:46:04.400Z"
   },
   {
    "duration": 6,
    "start_time": "2025-02-02T06:46:04.416Z"
   },
   {
    "duration": 8,
    "start_time": "2025-02-02T06:46:04.424Z"
   },
   {
    "duration": 9,
    "start_time": "2025-02-02T06:46:04.434Z"
   },
   {
    "duration": 4,
    "start_time": "2025-02-02T06:46:04.445Z"
   },
   {
    "duration": 3,
    "start_time": "2025-02-02T06:46:04.452Z"
   },
   {
    "duration": 28,
    "start_time": "2025-02-02T06:46:04.456Z"
   },
   {
    "duration": 7,
    "start_time": "2025-02-02T06:46:04.486Z"
   },
   {
    "duration": 27,
    "start_time": "2025-02-02T06:46:04.495Z"
   },
   {
    "duration": 19,
    "start_time": "2025-02-02T06:46:04.523Z"
   },
   {
    "duration": 33,
    "start_time": "2025-02-02T06:46:04.544Z"
   },
   {
    "duration": 18,
    "start_time": "2025-02-02T06:46:04.579Z"
   },
   {
    "duration": 24,
    "start_time": "2025-02-02T06:46:04.599Z"
   },
   {
    "duration": 4,
    "start_time": "2025-02-02T06:46:04.625Z"
   },
   {
    "duration": 802,
    "start_time": "2025-02-02T06:46:04.631Z"
   },
   {
    "duration": 11,
    "start_time": "2025-02-02T06:46:05.434Z"
   },
   {
    "duration": 33,
    "start_time": "2025-02-02T06:46:05.446Z"
   },
   {
    "duration": 339,
    "start_time": "2025-02-02T06:46:05.480Z"
   },
   {
    "duration": 3851,
    "start_time": "2025-02-02T06:46:05.821Z"
   },
   {
    "duration": 1575,
    "start_time": "2025-02-02T06:46:09.674Z"
   },
   {
    "duration": 537,
    "start_time": "2025-02-02T06:46:11.251Z"
   },
   {
    "duration": 9,
    "start_time": "2025-02-02T06:46:11.790Z"
   },
   {
    "duration": 9,
    "start_time": "2025-02-02T06:46:11.800Z"
   },
   {
    "duration": 8,
    "start_time": "2025-02-02T06:46:11.812Z"
   },
   {
    "duration": 10,
    "start_time": "2025-02-02T06:46:11.821Z"
   },
   {
    "duration": 43,
    "start_time": "2025-02-02T06:46:11.832Z"
   },
   {
    "duration": 179,
    "start_time": "2025-02-02T07:16:43.421Z"
   },
   {
    "duration": 161,
    "start_time": "2025-02-02T07:17:52.608Z"
   },
   {
    "duration": 128,
    "start_time": "2025-02-02T07:20:55.702Z"
   },
   {
    "duration": 8,
    "start_time": "2025-02-02T07:22:26.573Z"
   },
   {
    "duration": 164,
    "start_time": "2025-02-02T07:23:04.726Z"
   },
   {
    "duration": 14,
    "start_time": "2025-02-02T07:24:29.247Z"
   },
   {
    "duration": 461,
    "start_time": "2025-02-02T07:24:35.648Z"
   },
   {
    "duration": 170,
    "start_time": "2025-02-02T07:30:33.629Z"
   },
   {
    "duration": 148,
    "start_time": "2025-02-02T07:31:29.780Z"
   },
   {
    "duration": 7,
    "start_time": "2025-02-02T07:32:05.702Z"
   },
   {
    "duration": 19,
    "start_time": "2025-02-02T07:34:53.341Z"
   },
   {
    "duration": 29,
    "start_time": "2025-02-02T07:35:32.987Z"
   },
   {
    "duration": 192,
    "start_time": "2025-02-02T07:36:43.079Z"
   },
   {
    "duration": 150,
    "start_time": "2025-02-02T07:37:28.772Z"
   },
   {
    "duration": 54,
    "start_time": "2025-02-02T07:37:52.171Z"
   },
   {
    "duration": 149,
    "start_time": "2025-02-02T07:37:56.628Z"
   },
   {
    "duration": 158,
    "start_time": "2025-02-02T07:38:04.208Z"
   },
   {
    "duration": 1197,
    "start_time": "2025-02-02T07:39:31.147Z"
   },
   {
    "duration": 40,
    "start_time": "2025-02-02T07:39:32.345Z"
   },
   {
    "duration": 16,
    "start_time": "2025-02-02T07:39:32.386Z"
   },
   {
    "duration": 4,
    "start_time": "2025-02-02T07:39:32.404Z"
   },
   {
    "duration": 11,
    "start_time": "2025-02-02T07:39:32.410Z"
   },
   {
    "duration": 6,
    "start_time": "2025-02-02T07:39:32.423Z"
   },
   {
    "duration": 13,
    "start_time": "2025-02-02T07:39:32.431Z"
   },
   {
    "duration": 36,
    "start_time": "2025-02-02T07:39:32.446Z"
   },
   {
    "duration": 5,
    "start_time": "2025-02-02T07:39:32.483Z"
   },
   {
    "duration": 45,
    "start_time": "2025-02-02T07:39:32.489Z"
   },
   {
    "duration": 31,
    "start_time": "2025-02-02T07:39:32.536Z"
   },
   {
    "duration": 7,
    "start_time": "2025-02-02T07:39:32.568Z"
   },
   {
    "duration": 24,
    "start_time": "2025-02-02T07:39:32.576Z"
   },
   {
    "duration": 20,
    "start_time": "2025-02-02T07:39:32.603Z"
   },
   {
    "duration": 23,
    "start_time": "2025-02-02T07:39:32.624Z"
   },
   {
    "duration": 31,
    "start_time": "2025-02-02T07:39:32.649Z"
   },
   {
    "duration": 21,
    "start_time": "2025-02-02T07:39:32.682Z"
   },
   {
    "duration": 5,
    "start_time": "2025-02-02T07:39:32.705Z"
   },
   {
    "duration": 840,
    "start_time": "2025-02-02T07:39:32.712Z"
   },
   {
    "duration": 21,
    "start_time": "2025-02-02T07:39:33.554Z"
   },
   {
    "duration": 17,
    "start_time": "2025-02-02T07:39:33.577Z"
   },
   {
    "duration": 337,
    "start_time": "2025-02-02T07:39:33.596Z"
   },
   {
    "duration": 3735,
    "start_time": "2025-02-02T07:39:33.934Z"
   },
   {
    "duration": 1574,
    "start_time": "2025-02-02T07:39:37.670Z"
   },
   {
    "duration": 515,
    "start_time": "2025-02-02T07:39:39.246Z"
   },
   {
    "duration": 17,
    "start_time": "2025-02-02T07:39:39.762Z"
   },
   {
    "duration": 8,
    "start_time": "2025-02-02T07:39:39.780Z"
   },
   {
    "duration": 7,
    "start_time": "2025-02-02T07:39:39.789Z"
   },
   {
    "duration": 9,
    "start_time": "2025-02-02T07:39:39.798Z"
   },
   {
    "duration": 10,
    "start_time": "2025-02-02T07:39:39.808Z"
   },
   {
    "duration": 209,
    "start_time": "2025-02-02T07:39:39.821Z"
   },
   {
    "duration": 182,
    "start_time": "2025-02-02T07:45:35.637Z"
   },
   {
    "duration": 161,
    "start_time": "2025-02-02T07:46:17.578Z"
   },
   {
    "duration": 169,
    "start_time": "2025-02-02T07:51:27.250Z"
   },
   {
    "duration": 176,
    "start_time": "2025-02-02T07:52:50.192Z"
   },
   {
    "duration": 162,
    "start_time": "2025-02-02T07:53:02.764Z"
   },
   {
    "duration": 456,
    "start_time": "2025-02-02T07:53:23.259Z"
   },
   {
    "duration": 1330,
    "start_time": "2025-02-02T09:06:42.945Z"
   },
   {
    "duration": 48,
    "start_time": "2025-02-02T09:06:44.278Z"
   },
   {
    "duration": 16,
    "start_time": "2025-02-02T09:06:44.328Z"
   },
   {
    "duration": 4,
    "start_time": "2025-02-02T09:06:44.346Z"
   },
   {
    "duration": 25,
    "start_time": "2025-02-02T09:06:44.352Z"
   },
   {
    "duration": 7,
    "start_time": "2025-02-02T09:06:44.379Z"
   },
   {
    "duration": 10,
    "start_time": "2025-02-02T09:06:44.387Z"
   },
   {
    "duration": 11,
    "start_time": "2025-02-02T09:06:44.398Z"
   },
   {
    "duration": 4,
    "start_time": "2025-02-02T09:06:44.411Z"
   },
   {
    "duration": 4,
    "start_time": "2025-02-02T09:06:44.417Z"
   },
   {
    "duration": 52,
    "start_time": "2025-02-02T09:06:44.422Z"
   },
   {
    "duration": 8,
    "start_time": "2025-02-02T09:06:44.476Z"
   },
   {
    "duration": 37,
    "start_time": "2025-02-02T09:06:44.486Z"
   },
   {
    "duration": 21,
    "start_time": "2025-02-02T09:06:44.526Z"
   },
   {
    "duration": 31,
    "start_time": "2025-02-02T09:06:44.549Z"
   },
   {
    "duration": 20,
    "start_time": "2025-02-02T09:06:44.582Z"
   },
   {
    "duration": 21,
    "start_time": "2025-02-02T09:06:44.604Z"
   },
   {
    "duration": 5,
    "start_time": "2025-02-02T09:06:44.627Z"
   },
   {
    "duration": 835,
    "start_time": "2025-02-02T09:06:44.634Z"
   },
   {
    "duration": 11,
    "start_time": "2025-02-02T09:06:45.475Z"
   },
   {
    "duration": 19,
    "start_time": "2025-02-02T09:06:45.488Z"
   },
   {
    "duration": 355,
    "start_time": "2025-02-02T09:06:45.508Z"
   },
   {
    "duration": 3939,
    "start_time": "2025-02-02T09:06:45.865Z"
   },
   {
    "duration": 1598,
    "start_time": "2025-02-02T09:06:49.806Z"
   },
   {
    "duration": 511,
    "start_time": "2025-02-02T09:06:51.406Z"
   },
   {
    "duration": 9,
    "start_time": "2025-02-02T09:06:51.919Z"
   },
   {
    "duration": 14,
    "start_time": "2025-02-02T09:06:51.930Z"
   },
   {
    "duration": 8,
    "start_time": "2025-02-02T09:06:51.946Z"
   },
   {
    "duration": 27,
    "start_time": "2025-02-02T09:06:51.955Z"
   },
   {
    "duration": 12,
    "start_time": "2025-02-02T09:06:51.984Z"
   },
   {
    "duration": 201,
    "start_time": "2025-02-02T09:06:51.998Z"
   },
   {
    "duration": 1411,
    "start_time": "2025-02-02T09:20:58.047Z"
   },
   {
    "duration": 41,
    "start_time": "2025-02-02T09:20:59.460Z"
   },
   {
    "duration": 19,
    "start_time": "2025-02-02T09:20:59.503Z"
   },
   {
    "duration": 4,
    "start_time": "2025-02-02T09:20:59.524Z"
   },
   {
    "duration": 15,
    "start_time": "2025-02-02T09:20:59.530Z"
   },
   {
    "duration": 33,
    "start_time": "2025-02-02T09:20:59.547Z"
   },
   {
    "duration": 14,
    "start_time": "2025-02-02T09:20:59.582Z"
   },
   {
    "duration": 12,
    "start_time": "2025-02-02T09:20:59.598Z"
   },
   {
    "duration": 5,
    "start_time": "2025-02-02T09:20:59.612Z"
   },
   {
    "duration": 5,
    "start_time": "2025-02-02T09:20:59.619Z"
   },
   {
    "duration": 13,
    "start_time": "2025-02-02T09:20:59.626Z"
   },
   {
    "duration": 41,
    "start_time": "2025-02-02T09:20:59.641Z"
   },
   {
    "duration": 56,
    "start_time": "2025-02-02T09:20:59.684Z"
   },
   {
    "duration": 21,
    "start_time": "2025-02-02T09:20:59.742Z"
   },
   {
    "duration": 19,
    "start_time": "2025-02-02T09:20:59.765Z"
   },
   {
    "duration": 19,
    "start_time": "2025-02-02T09:20:59.786Z"
   },
   {
    "duration": 20,
    "start_time": "2025-02-02T09:20:59.807Z"
   },
   {
    "duration": 6,
    "start_time": "2025-02-02T09:20:59.829Z"
   },
   {
    "duration": 841,
    "start_time": "2025-02-02T09:20:59.836Z"
   },
   {
    "duration": 11,
    "start_time": "2025-02-02T09:21:00.678Z"
   },
   {
    "duration": 33,
    "start_time": "2025-02-02T09:21:00.690Z"
   },
   {
    "duration": 335,
    "start_time": "2025-02-02T09:21:00.724Z"
   },
   {
    "duration": 4020,
    "start_time": "2025-02-02T09:21:01.061Z"
   },
   {
    "duration": 1502,
    "start_time": "2025-02-02T09:21:05.083Z"
   },
   {
    "duration": 502,
    "start_time": "2025-02-02T09:21:06.587Z"
   },
   {
    "duration": 9,
    "start_time": "2025-02-02T09:21:07.090Z"
   },
   {
    "duration": 27,
    "start_time": "2025-02-02T09:21:07.100Z"
   },
   {
    "duration": 9,
    "start_time": "2025-02-02T09:21:07.131Z"
   },
   {
    "duration": 25,
    "start_time": "2025-02-02T09:21:07.142Z"
   },
   {
    "duration": 15,
    "start_time": "2025-02-02T09:21:07.169Z"
   },
   {
    "duration": 192,
    "start_time": "2025-02-02T09:21:07.185Z"
   },
   {
    "duration": 1442,
    "start_time": "2025-02-03T07:33:11.848Z"
   },
   {
    "duration": 51,
    "start_time": "2025-02-03T07:33:13.292Z"
   },
   {
    "duration": 16,
    "start_time": "2025-02-03T07:33:13.345Z"
   },
   {
    "duration": 3,
    "start_time": "2025-02-03T07:33:13.364Z"
   },
   {
    "duration": 13,
    "start_time": "2025-02-03T07:33:13.369Z"
   },
   {
    "duration": 7,
    "start_time": "2025-02-03T07:33:13.383Z"
   },
   {
    "duration": 10,
    "start_time": "2025-02-03T07:33:13.392Z"
   },
   {
    "duration": 10,
    "start_time": "2025-02-03T07:33:13.403Z"
   },
   {
    "duration": 12,
    "start_time": "2025-02-03T07:33:13.414Z"
   },
   {
    "duration": 31,
    "start_time": "2025-02-03T07:33:13.428Z"
   },
   {
    "duration": 13,
    "start_time": "2025-02-03T07:33:13.461Z"
   },
   {
    "duration": 6,
    "start_time": "2025-02-03T07:33:13.476Z"
   },
   {
    "duration": 20,
    "start_time": "2025-02-03T07:33:13.484Z"
   },
   {
    "duration": 21,
    "start_time": "2025-02-03T07:33:13.506Z"
   },
   {
    "duration": 24,
    "start_time": "2025-02-03T07:33:13.528Z"
   },
   {
    "duration": 19,
    "start_time": "2025-02-03T07:33:13.575Z"
   },
   {
    "duration": 19,
    "start_time": "2025-02-03T07:33:13.595Z"
   },
   {
    "duration": 4,
    "start_time": "2025-02-03T07:33:13.615Z"
   },
   {
    "duration": 859,
    "start_time": "2025-02-03T07:33:13.621Z"
   },
   {
    "duration": 12,
    "start_time": "2025-02-03T07:33:14.482Z"
   },
   {
    "duration": 37,
    "start_time": "2025-02-03T07:33:14.496Z"
   },
   {
    "duration": 319,
    "start_time": "2025-02-03T07:33:14.535Z"
   },
   {
    "duration": 3916,
    "start_time": "2025-02-03T07:33:14.856Z"
   },
   {
    "duration": 1468,
    "start_time": "2025-02-03T07:33:18.775Z"
   },
   {
    "duration": 532,
    "start_time": "2025-02-03T07:33:20.246Z"
   },
   {
    "duration": 9,
    "start_time": "2025-02-03T07:33:20.780Z"
   },
   {
    "duration": 17,
    "start_time": "2025-02-03T07:33:20.790Z"
   },
   {
    "duration": 52,
    "start_time": "2025-02-03T07:33:20.810Z"
   },
   {
    "duration": 15,
    "start_time": "2025-02-03T07:33:20.864Z"
   },
   {
    "duration": 18,
    "start_time": "2025-02-03T07:33:20.881Z"
   },
   {
    "duration": 187,
    "start_time": "2025-02-03T07:33:20.900Z"
   },
   {
    "duration": 48,
    "start_time": "2025-02-03T09:16:40.858Z"
   },
   {
    "duration": 1236,
    "start_time": "2025-02-03T09:16:49.712Z"
   },
   {
    "duration": 52,
    "start_time": "2025-02-03T09:16:50.950Z"
   },
   {
    "duration": 17,
    "start_time": "2025-02-03T09:16:51.006Z"
   },
   {
    "duration": 4,
    "start_time": "2025-02-03T09:16:51.024Z"
   },
   {
    "duration": 38,
    "start_time": "2025-02-03T09:16:51.029Z"
   },
   {
    "duration": 19,
    "start_time": "2025-02-03T09:16:51.069Z"
   },
   {
    "duration": 30,
    "start_time": "2025-02-03T09:16:51.089Z"
   },
   {
    "duration": 43,
    "start_time": "2025-02-03T09:16:51.120Z"
   },
   {
    "duration": 51,
    "start_time": "2025-02-03T09:16:51.166Z"
   },
   {
    "duration": 110,
    "start_time": "2025-02-03T09:16:51.218Z"
   },
   {
    "duration": 0,
    "start_time": "2025-02-03T09:16:51.330Z"
   },
   {
    "duration": 0,
    "start_time": "2025-02-03T09:16:51.331Z"
   },
   {
    "duration": 0,
    "start_time": "2025-02-03T09:16:51.333Z"
   },
   {
    "duration": 0,
    "start_time": "2025-02-03T09:16:51.333Z"
   },
   {
    "duration": 0,
    "start_time": "2025-02-03T09:16:51.334Z"
   },
   {
    "duration": 0,
    "start_time": "2025-02-03T09:16:51.336Z"
   },
   {
    "duration": 0,
    "start_time": "2025-02-03T09:16:51.337Z"
   },
   {
    "duration": 0,
    "start_time": "2025-02-03T09:16:51.338Z"
   },
   {
    "duration": 0,
    "start_time": "2025-02-03T09:16:51.339Z"
   },
   {
    "duration": 0,
    "start_time": "2025-02-03T09:16:51.340Z"
   },
   {
    "duration": 0,
    "start_time": "2025-02-03T09:16:51.355Z"
   },
   {
    "duration": 0,
    "start_time": "2025-02-03T09:16:51.356Z"
   },
   {
    "duration": 0,
    "start_time": "2025-02-03T09:16:51.357Z"
   },
   {
    "duration": 0,
    "start_time": "2025-02-03T09:16:51.359Z"
   },
   {
    "duration": 0,
    "start_time": "2025-02-03T09:16:51.360Z"
   },
   {
    "duration": 0,
    "start_time": "2025-02-03T09:16:51.361Z"
   },
   {
    "duration": 1,
    "start_time": "2025-02-03T09:16:51.361Z"
   },
   {
    "duration": 0,
    "start_time": "2025-02-03T09:16:51.363Z"
   },
   {
    "duration": 0,
    "start_time": "2025-02-03T09:16:51.364Z"
   },
   {
    "duration": 0,
    "start_time": "2025-02-03T09:16:51.365Z"
   },
   {
    "duration": 0,
    "start_time": "2025-02-03T09:16:51.366Z"
   },
   {
    "duration": 0,
    "start_time": "2025-02-03T09:16:51.367Z"
   },
   {
    "duration": 11,
    "start_time": "2025-02-03T09:19:06.466Z"
   },
   {
    "duration": 1151,
    "start_time": "2025-02-03T09:19:13.379Z"
   },
   {
    "duration": 51,
    "start_time": "2025-02-03T09:19:14.532Z"
   },
   {
    "duration": 17,
    "start_time": "2025-02-03T09:19:14.585Z"
   },
   {
    "duration": 40,
    "start_time": "2025-02-03T09:19:14.604Z"
   },
   {
    "duration": 18,
    "start_time": "2025-02-03T09:19:14.645Z"
   },
   {
    "duration": 9,
    "start_time": "2025-02-03T09:19:14.665Z"
   },
   {
    "duration": 11,
    "start_time": "2025-02-03T09:19:14.676Z"
   },
   {
    "duration": 45,
    "start_time": "2025-02-03T09:19:14.689Z"
   },
   {
    "duration": 14,
    "start_time": "2025-02-03T09:19:14.736Z"
   },
   {
    "duration": 49,
    "start_time": "2025-02-03T09:19:14.753Z"
   },
   {
    "duration": 5,
    "start_time": "2025-02-03T09:19:14.804Z"
   },
   {
    "duration": 13,
    "start_time": "2025-02-03T09:19:14.811Z"
   },
   {
    "duration": 6,
    "start_time": "2025-02-03T09:19:14.826Z"
   },
   {
    "duration": 35,
    "start_time": "2025-02-03T09:19:14.834Z"
   },
   {
    "duration": 22,
    "start_time": "2025-02-03T09:19:14.871Z"
   },
   {
    "duration": 29,
    "start_time": "2025-02-03T09:19:14.895Z"
   },
   {
    "duration": 26,
    "start_time": "2025-02-03T09:19:14.925Z"
   },
   {
    "duration": 21,
    "start_time": "2025-02-03T09:19:14.955Z"
   },
   {
    "duration": 5,
    "start_time": "2025-02-03T09:19:14.978Z"
   },
   {
    "duration": 1210,
    "start_time": "2025-02-03T09:19:14.985Z"
   },
   {
    "duration": 67,
    "start_time": "2025-02-03T09:19:16.196Z"
   },
   {
    "duration": 27,
    "start_time": "2025-02-03T09:19:16.265Z"
   },
   {
    "duration": 663,
    "start_time": "2025-02-03T09:19:16.294Z"
   },
   {
    "duration": 3796,
    "start_time": "2025-02-03T09:19:16.959Z"
   },
   {
    "duration": 1459,
    "start_time": "2025-02-03T09:19:20.756Z"
   },
   {
    "duration": 504,
    "start_time": "2025-02-03T09:19:22.217Z"
   },
   {
    "duration": 8,
    "start_time": "2025-02-03T09:19:22.723Z"
   },
   {
    "duration": 28,
    "start_time": "2025-02-03T09:19:22.734Z"
   },
   {
    "duration": 8,
    "start_time": "2025-02-03T09:19:22.763Z"
   },
   {
    "duration": 12,
    "start_time": "2025-02-03T09:19:22.773Z"
   },
   {
    "duration": 11,
    "start_time": "2025-02-03T09:19:22.787Z"
   },
   {
    "duration": 186,
    "start_time": "2025-02-03T09:19:22.799Z"
   },
   {
    "duration": 96,
    "start_time": "2025-02-03T09:20:31.306Z"
   },
   {
    "duration": 11,
    "start_time": "2025-02-03T09:20:40.379Z"
   },
   {
    "duration": 10,
    "start_time": "2025-02-03T09:20:49.950Z"
   },
   {
    "duration": 1166,
    "start_time": "2025-02-03T09:20:54.985Z"
   },
   {
    "duration": 42,
    "start_time": "2025-02-03T09:20:56.153Z"
   },
   {
    "duration": 17,
    "start_time": "2025-02-03T09:20:56.197Z"
   },
   {
    "duration": 3,
    "start_time": "2025-02-03T09:20:56.217Z"
   },
   {
    "duration": 16,
    "start_time": "2025-02-03T09:20:56.222Z"
   },
   {
    "duration": 20,
    "start_time": "2025-02-03T09:20:56.239Z"
   },
   {
    "duration": 13,
    "start_time": "2025-02-03T09:20:56.260Z"
   },
   {
    "duration": 11,
    "start_time": "2025-02-03T09:20:56.274Z"
   },
   {
    "duration": 7,
    "start_time": "2025-02-03T09:20:56.286Z"
   },
   {
    "duration": 11,
    "start_time": "2025-02-03T09:20:56.296Z"
   },
   {
    "duration": 4,
    "start_time": "2025-02-03T09:20:56.308Z"
   },
   {
    "duration": 42,
    "start_time": "2025-02-03T09:20:56.313Z"
   },
   {
    "duration": 6,
    "start_time": "2025-02-03T09:20:56.357Z"
   },
   {
    "duration": 21,
    "start_time": "2025-02-03T09:20:56.365Z"
   },
   {
    "duration": 22,
    "start_time": "2025-02-03T09:20:56.387Z"
   },
   {
    "duration": 16,
    "start_time": "2025-02-03T09:20:56.411Z"
   },
   {
    "duration": 21,
    "start_time": "2025-02-03T09:20:56.455Z"
   },
   {
    "duration": 19,
    "start_time": "2025-02-03T09:20:56.477Z"
   },
   {
    "duration": 5,
    "start_time": "2025-02-03T09:20:56.497Z"
   },
   {
    "duration": 799,
    "start_time": "2025-02-03T09:20:56.503Z"
   },
   {
    "duration": 10,
    "start_time": "2025-02-03T09:20:57.303Z"
   },
   {
    "duration": 16,
    "start_time": "2025-02-03T09:20:57.315Z"
   },
   {
    "duration": 352,
    "start_time": "2025-02-03T09:20:57.332Z"
   },
   {
    "duration": 4379,
    "start_time": "2025-02-03T09:20:57.685Z"
   },
   {
    "duration": 1549,
    "start_time": "2025-02-03T09:21:02.066Z"
   },
   {
    "duration": 538,
    "start_time": "2025-02-03T09:21:03.617Z"
   },
   {
    "duration": 9,
    "start_time": "2025-02-03T09:21:04.156Z"
   },
   {
    "duration": 69,
    "start_time": "2025-02-03T09:21:04.168Z"
   },
   {
    "duration": 36,
    "start_time": "2025-02-03T09:21:04.239Z"
   },
   {
    "duration": 36,
    "start_time": "2025-02-03T09:21:04.277Z"
   },
   {
    "duration": 48,
    "start_time": "2025-02-03T09:21:04.315Z"
   },
   {
    "duration": 200,
    "start_time": "2025-02-03T09:21:04.364Z"
   },
   {
    "duration": 15,
    "start_time": "2025-02-03T09:22:04.528Z"
   },
   {
    "duration": 11,
    "start_time": "2025-02-03T09:23:52.520Z"
   },
   {
    "duration": 18,
    "start_time": "2025-02-03T09:24:10.522Z"
   },
   {
    "duration": 20,
    "start_time": "2025-02-03T09:27:17.080Z"
   },
   {
    "duration": 91,
    "start_time": "2025-02-03T09:28:46.661Z"
   },
   {
    "duration": 9,
    "start_time": "2025-02-03T09:28:52.315Z"
   },
   {
    "duration": 13,
    "start_time": "2025-02-03T09:28:55.643Z"
   },
   {
    "duration": 1182,
    "start_time": "2025-02-03T09:29:09.648Z"
   },
   {
    "duration": 38,
    "start_time": "2025-02-03T09:29:10.832Z"
   },
   {
    "duration": 14,
    "start_time": "2025-02-03T09:29:10.871Z"
   },
   {
    "duration": 3,
    "start_time": "2025-02-03T09:29:10.887Z"
   },
   {
    "duration": 12,
    "start_time": "2025-02-03T09:29:10.891Z"
   },
   {
    "duration": 7,
    "start_time": "2025-02-03T09:29:10.904Z"
   },
   {
    "duration": 9,
    "start_time": "2025-02-03T09:29:10.912Z"
   },
   {
    "duration": 38,
    "start_time": "2025-02-03T09:29:10.923Z"
   },
   {
    "duration": 4,
    "start_time": "2025-02-03T09:29:10.962Z"
   },
   {
    "duration": 19,
    "start_time": "2025-02-03T09:29:10.970Z"
   },
   {
    "duration": 19,
    "start_time": "2025-02-03T09:29:10.991Z"
   },
   {
    "duration": 12,
    "start_time": "2025-02-03T09:29:11.012Z"
   },
   {
    "duration": 33,
    "start_time": "2025-02-03T09:29:11.025Z"
   },
   {
    "duration": 12,
    "start_time": "2025-02-03T09:29:11.060Z"
   },
   {
    "duration": 7,
    "start_time": "2025-02-03T09:29:11.073Z"
   },
   {
    "duration": 19,
    "start_time": "2025-02-03T09:29:11.081Z"
   },
   {
    "duration": 53,
    "start_time": "2025-02-03T09:29:11.102Z"
   },
   {
    "duration": 16,
    "start_time": "2025-02-03T09:29:11.157Z"
   },
   {
    "duration": 17,
    "start_time": "2025-02-03T09:29:11.175Z"
   },
   {
    "duration": 50,
    "start_time": "2025-02-03T09:29:11.193Z"
   },
   {
    "duration": 4,
    "start_time": "2025-02-03T09:29:11.246Z"
   },
   {
    "duration": 776,
    "start_time": "2025-02-03T09:29:11.255Z"
   },
   {
    "duration": 24,
    "start_time": "2025-02-03T09:29:12.033Z"
   },
   {
    "duration": 27,
    "start_time": "2025-02-03T09:29:12.059Z"
   },
   {
    "duration": 336,
    "start_time": "2025-02-03T09:29:12.089Z"
   },
   {
    "duration": 3847,
    "start_time": "2025-02-03T09:29:12.427Z"
   },
   {
    "duration": 1542,
    "start_time": "2025-02-03T09:29:16.275Z"
   },
   {
    "duration": 495,
    "start_time": "2025-02-03T09:29:17.821Z"
   },
   {
    "duration": 8,
    "start_time": "2025-02-03T09:29:18.318Z"
   },
   {
    "duration": 14,
    "start_time": "2025-02-03T09:29:18.328Z"
   },
   {
    "duration": 18,
    "start_time": "2025-02-03T09:29:18.343Z"
   },
   {
    "duration": 14,
    "start_time": "2025-02-03T09:29:18.363Z"
   },
   {
    "duration": 29,
    "start_time": "2025-02-03T09:29:18.379Z"
   },
   {
    "duration": 264,
    "start_time": "2025-02-03T09:29:18.410Z"
   },
   {
    "duration": 14,
    "start_time": "2025-02-03T09:30:54.109Z"
   },
   {
    "duration": 17,
    "start_time": "2025-02-03T09:31:07.496Z"
   },
   {
    "duration": 7,
    "start_time": "2025-02-03T09:40:08.756Z"
   },
   {
    "duration": 11,
    "start_time": "2025-02-03T09:41:18.145Z"
   },
   {
    "duration": 12,
    "start_time": "2025-02-03T09:41:43.207Z"
   },
   {
    "duration": 13,
    "start_time": "2025-02-03T09:42:02.513Z"
   },
   {
    "duration": 1200,
    "start_time": "2025-02-03T09:54:12.641Z"
   },
   {
    "duration": 38,
    "start_time": "2025-02-03T09:54:13.843Z"
   },
   {
    "duration": 15,
    "start_time": "2025-02-03T09:54:13.883Z"
   },
   {
    "duration": 10,
    "start_time": "2025-02-03T09:54:13.900Z"
   },
   {
    "duration": 23,
    "start_time": "2025-02-03T09:54:13.912Z"
   },
   {
    "duration": 8,
    "start_time": "2025-02-03T09:54:13.937Z"
   },
   {
    "duration": 25,
    "start_time": "2025-02-03T09:54:13.946Z"
   },
   {
    "duration": 8,
    "start_time": "2025-02-03T09:54:13.973Z"
   },
   {
    "duration": 4,
    "start_time": "2025-02-03T09:54:13.983Z"
   },
   {
    "duration": 18,
    "start_time": "2025-02-03T09:54:13.989Z"
   },
   {
    "duration": 22,
    "start_time": "2025-02-03T09:54:14.009Z"
   },
   {
    "duration": 33,
    "start_time": "2025-02-03T09:54:14.033Z"
   },
   {
    "duration": 16,
    "start_time": "2025-02-03T09:54:14.068Z"
   },
   {
    "duration": 19,
    "start_time": "2025-02-03T09:54:14.086Z"
   },
   {
    "duration": 13,
    "start_time": "2025-02-03T09:54:14.107Z"
   },
   {
    "duration": 7,
    "start_time": "2025-02-03T09:54:14.122Z"
   },
   {
    "duration": 42,
    "start_time": "2025-02-03T09:54:14.131Z"
   },
   {
    "duration": 19,
    "start_time": "2025-02-03T09:54:14.174Z"
   },
   {
    "duration": 23,
    "start_time": "2025-02-03T09:54:14.195Z"
   },
   {
    "duration": 17,
    "start_time": "2025-02-03T09:54:14.220Z"
   },
   {
    "duration": 19,
    "start_time": "2025-02-03T09:54:14.255Z"
   },
   {
    "duration": 5,
    "start_time": "2025-02-03T09:54:14.276Z"
   },
   {
    "duration": 830,
    "start_time": "2025-02-03T09:54:14.282Z"
   },
   {
    "duration": 11,
    "start_time": "2025-02-03T09:54:15.113Z"
   },
   {
    "duration": 63,
    "start_time": "2025-02-03T09:54:15.126Z"
   },
   {
    "duration": 313,
    "start_time": "2025-02-03T09:54:15.191Z"
   },
   {
    "duration": 4416,
    "start_time": "2025-02-03T09:54:15.506Z"
   },
   {
    "duration": 1480,
    "start_time": "2025-02-03T09:54:19.925Z"
   },
   {
    "duration": 537,
    "start_time": "2025-02-03T09:54:21.406Z"
   },
   {
    "duration": 15,
    "start_time": "2025-02-03T09:54:21.944Z"
   },
   {
    "duration": 8,
    "start_time": "2025-02-03T09:54:21.961Z"
   },
   {
    "duration": 7,
    "start_time": "2025-02-03T09:54:21.971Z"
   },
   {
    "duration": 9,
    "start_time": "2025-02-03T09:54:21.980Z"
   },
   {
    "duration": 9,
    "start_time": "2025-02-03T09:54:21.991Z"
   },
   {
    "duration": 196,
    "start_time": "2025-02-03T09:54:22.002Z"
   },
   {
    "duration": 193,
    "start_time": "2025-02-03T10:23:33.270Z"
   },
   {
    "duration": 136,
    "start_time": "2025-02-03T10:35:11.205Z"
   },
   {
    "duration": 1184,
    "start_time": "2025-02-03T10:35:49.956Z"
   },
   {
    "duration": 51,
    "start_time": "2025-02-03T10:35:51.142Z"
   },
   {
    "duration": 18,
    "start_time": "2025-02-03T10:35:51.195Z"
   },
   {
    "duration": 26,
    "start_time": "2025-02-03T10:35:51.215Z"
   },
   {
    "duration": 15,
    "start_time": "2025-02-03T10:35:51.243Z"
   },
   {
    "duration": 34,
    "start_time": "2025-02-03T10:35:51.260Z"
   },
   {
    "duration": 12,
    "start_time": "2025-02-03T10:35:51.296Z"
   },
   {
    "duration": 11,
    "start_time": "2025-02-03T10:35:51.309Z"
   },
   {
    "duration": 7,
    "start_time": "2025-02-03T10:35:51.321Z"
   },
   {
    "duration": 57,
    "start_time": "2025-02-03T10:35:51.331Z"
   },
   {
    "duration": 63,
    "start_time": "2025-02-03T10:35:51.389Z"
   },
   {
    "duration": 16,
    "start_time": "2025-02-03T10:35:51.454Z"
   },
   {
    "duration": 12,
    "start_time": "2025-02-03T10:35:51.472Z"
   },
   {
    "duration": 43,
    "start_time": "2025-02-03T10:35:51.486Z"
   },
   {
    "duration": 26,
    "start_time": "2025-02-03T10:35:51.531Z"
   },
   {
    "duration": 20,
    "start_time": "2025-02-03T10:35:51.559Z"
   },
   {
    "duration": 20,
    "start_time": "2025-02-03T10:35:51.581Z"
   },
   {
    "duration": 25,
    "start_time": "2025-02-03T10:35:51.603Z"
   },
   {
    "duration": 60,
    "start_time": "2025-02-03T10:35:51.630Z"
   },
   {
    "duration": 17,
    "start_time": "2025-02-03T10:35:51.692Z"
   },
   {
    "duration": 36,
    "start_time": "2025-02-03T10:35:51.711Z"
   },
   {
    "duration": 11,
    "start_time": "2025-02-03T10:35:51.749Z"
   },
   {
    "duration": 839,
    "start_time": "2025-02-03T10:35:51.762Z"
   },
   {
    "duration": 11,
    "start_time": "2025-02-03T10:35:52.603Z"
   },
   {
    "duration": 27,
    "start_time": "2025-02-03T10:35:52.616Z"
   },
   {
    "duration": 320,
    "start_time": "2025-02-03T10:35:52.645Z"
   },
   {
    "duration": 206,
    "start_time": "2025-02-03T10:35:52.967Z"
   },
   {
    "duration": 158,
    "start_time": "2025-02-03T10:35:53.176Z"
   },
   {
    "duration": 4103,
    "start_time": "2025-02-03T10:35:53.335Z"
   },
   {
    "duration": 1361,
    "start_time": "2025-02-03T10:35:57.440Z"
   },
   {
    "duration": 463,
    "start_time": "2025-02-03T10:35:58.802Z"
   },
   {
    "duration": 8,
    "start_time": "2025-02-03T10:35:59.267Z"
   },
   {
    "duration": 168,
    "start_time": "2025-02-03T10:35:59.277Z"
   },
   {
    "duration": 7,
    "start_time": "2025-02-03T10:35:59.447Z"
   },
   {
    "duration": 10,
    "start_time": "2025-02-03T10:35:59.456Z"
   },
   {
    "duration": 10,
    "start_time": "2025-02-03T10:35:59.467Z"
   },
   {
    "duration": 217,
    "start_time": "2025-02-03T10:35:59.479Z"
   },
   {
    "duration": 214,
    "start_time": "2025-02-03T10:36:30.994Z"
   },
   {
    "duration": 190,
    "start_time": "2025-02-03T10:37:36.716Z"
   },
   {
    "duration": 189,
    "start_time": "2025-02-03T10:38:13.551Z"
   },
   {
    "duration": 245,
    "start_time": "2025-02-03T10:38:56.484Z"
   },
   {
    "duration": 200,
    "start_time": "2025-02-03T10:39:01.929Z"
   },
   {
    "duration": 1178,
    "start_time": "2025-02-03T10:39:11.751Z"
   },
   {
    "duration": 42,
    "start_time": "2025-02-03T10:39:12.931Z"
   },
   {
    "duration": 18,
    "start_time": "2025-02-03T10:39:12.975Z"
   },
   {
    "duration": 4,
    "start_time": "2025-02-03T10:39:12.996Z"
   },
   {
    "duration": 14,
    "start_time": "2025-02-03T10:39:13.002Z"
   },
   {
    "duration": 38,
    "start_time": "2025-02-03T10:39:13.018Z"
   },
   {
    "duration": 13,
    "start_time": "2025-02-03T10:39:13.059Z"
   },
   {
    "duration": 15,
    "start_time": "2025-02-03T10:39:13.074Z"
   },
   {
    "duration": 6,
    "start_time": "2025-02-03T10:39:13.092Z"
   },
   {
    "duration": 56,
    "start_time": "2025-02-03T10:39:13.099Z"
   },
   {
    "duration": 28,
    "start_time": "2025-02-03T10:39:13.158Z"
   },
   {
    "duration": 13,
    "start_time": "2025-02-03T10:39:13.187Z"
   },
   {
    "duration": 25,
    "start_time": "2025-02-03T10:39:13.202Z"
   },
   {
    "duration": 6,
    "start_time": "2025-02-03T10:39:13.255Z"
   },
   {
    "duration": 29,
    "start_time": "2025-02-03T10:39:13.263Z"
   },
   {
    "duration": 9,
    "start_time": "2025-02-03T10:39:13.294Z"
   },
   {
    "duration": 29,
    "start_time": "2025-02-03T10:39:13.305Z"
   },
   {
    "duration": 36,
    "start_time": "2025-02-03T10:39:13.335Z"
   },
   {
    "duration": 84,
    "start_time": "2025-02-03T10:39:13.373Z"
   },
   {
    "duration": 38,
    "start_time": "2025-02-03T10:39:13.458Z"
   },
   {
    "duration": 30,
    "start_time": "2025-02-03T10:39:13.498Z"
   },
   {
    "duration": 6,
    "start_time": "2025-02-03T10:39:13.530Z"
   },
   {
    "duration": 975,
    "start_time": "2025-02-03T10:39:13.538Z"
   },
   {
    "duration": 10,
    "start_time": "2025-02-03T10:39:14.515Z"
   },
   {
    "duration": 33,
    "start_time": "2025-02-03T10:39:14.527Z"
   },
   {
    "duration": 403,
    "start_time": "2025-02-03T10:39:14.562Z"
   },
   {
    "duration": 171,
    "start_time": "2025-02-03T10:39:14.966Z"
   },
   {
    "duration": 142,
    "start_time": "2025-02-03T10:39:15.139Z"
   },
   {
    "duration": 4314,
    "start_time": "2025-02-03T10:39:15.284Z"
   },
   {
    "duration": 2415,
    "start_time": "2025-02-03T10:39:19.600Z"
   },
   {
    "duration": 613,
    "start_time": "2025-02-03T10:39:22.017Z"
   },
   {
    "duration": 9,
    "start_time": "2025-02-03T10:39:22.632Z"
   },
   {
    "duration": 21,
    "start_time": "2025-02-03T10:39:22.642Z"
   },
   {
    "duration": 11,
    "start_time": "2025-02-03T10:39:22.665Z"
   },
   {
    "duration": 18,
    "start_time": "2025-02-03T10:39:22.678Z"
   },
   {
    "duration": 13,
    "start_time": "2025-02-03T10:39:22.699Z"
   },
   {
    "duration": 242,
    "start_time": "2025-02-03T10:39:22.713Z"
   },
   {
    "duration": 4,
    "start_time": "2025-02-03T10:39:43.728Z"
   },
   {
    "duration": 142,
    "start_time": "2025-02-03T10:39:46.408Z"
   },
   {
    "duration": 174,
    "start_time": "2025-02-03T10:39:53.604Z"
   },
   {
    "duration": 150,
    "start_time": "2025-02-03T10:40:01.430Z"
   },
   {
    "duration": 293,
    "start_time": "2025-02-03T10:40:07.341Z"
   },
   {
    "duration": 1201,
    "start_time": "2025-02-03T10:40:12.797Z"
   },
   {
    "duration": 42,
    "start_time": "2025-02-03T10:40:14.001Z"
   },
   {
    "duration": 20,
    "start_time": "2025-02-03T10:40:14.045Z"
   },
   {
    "duration": 13,
    "start_time": "2025-02-03T10:40:14.067Z"
   },
   {
    "duration": 16,
    "start_time": "2025-02-03T10:40:14.082Z"
   },
   {
    "duration": 10,
    "start_time": "2025-02-03T10:40:14.100Z"
   },
   {
    "duration": 43,
    "start_time": "2025-02-03T10:40:14.112Z"
   },
   {
    "duration": 16,
    "start_time": "2025-02-03T10:40:14.157Z"
   },
   {
    "duration": 6,
    "start_time": "2025-02-03T10:40:14.175Z"
   },
   {
    "duration": 20,
    "start_time": "2025-02-03T10:40:14.184Z"
   },
   {
    "duration": 63,
    "start_time": "2025-02-03T10:40:14.206Z"
   },
   {
    "duration": 14,
    "start_time": "2025-02-03T10:40:14.271Z"
   },
   {
    "duration": 21,
    "start_time": "2025-02-03T10:40:14.287Z"
   },
   {
    "duration": 5,
    "start_time": "2025-02-03T10:40:14.310Z"
   },
   {
    "duration": 39,
    "start_time": "2025-02-03T10:40:14.316Z"
   },
   {
    "duration": 9,
    "start_time": "2025-02-03T10:40:14.357Z"
   },
   {
    "duration": 27,
    "start_time": "2025-02-03T10:40:14.367Z"
   },
   {
    "duration": 23,
    "start_time": "2025-02-03T10:40:14.397Z"
   },
   {
    "duration": 57,
    "start_time": "2025-02-03T10:40:14.422Z"
   },
   {
    "duration": 28,
    "start_time": "2025-02-03T10:40:14.481Z"
   },
   {
    "duration": 24,
    "start_time": "2025-02-03T10:40:14.511Z"
   },
   {
    "duration": 22,
    "start_time": "2025-02-03T10:40:14.537Z"
   },
   {
    "duration": 990,
    "start_time": "2025-02-03T10:40:14.560Z"
   },
   {
    "duration": 13,
    "start_time": "2025-02-03T10:40:15.555Z"
   },
   {
    "duration": 17,
    "start_time": "2025-02-03T10:40:15.570Z"
   },
   {
    "duration": 368,
    "start_time": "2025-02-03T10:40:15.589Z"
   },
   {
    "duration": 187,
    "start_time": "2025-02-03T10:40:15.959Z"
   },
   {
    "duration": 170,
    "start_time": "2025-02-03T10:40:16.154Z"
   },
   {
    "duration": 5159,
    "start_time": "2025-02-03T10:40:16.326Z"
   },
   {
    "duration": 1444,
    "start_time": "2025-02-03T10:40:21.486Z"
   },
   {
    "duration": 605,
    "start_time": "2025-02-03T10:40:22.932Z"
   },
   {
    "duration": 18,
    "start_time": "2025-02-03T10:40:23.539Z"
   },
   {
    "duration": 10,
    "start_time": "2025-02-03T10:40:23.560Z"
   },
   {
    "duration": 16,
    "start_time": "2025-02-03T10:40:23.572Z"
   },
   {
    "duration": 13,
    "start_time": "2025-02-03T10:40:23.590Z"
   },
   {
    "duration": 32,
    "start_time": "2025-02-03T10:40:23.605Z"
   },
   {
    "duration": 217,
    "start_time": "2025-02-03T10:40:23.638Z"
   },
   {
    "duration": 572,
    "start_time": "2025-02-03T10:45:29.374Z"
   },
   {
    "duration": 611,
    "start_time": "2025-02-03T10:47:06.581Z"
   },
   {
    "duration": 1173,
    "start_time": "2025-02-03T10:55:26.445Z"
   },
   {
    "duration": 40,
    "start_time": "2025-02-03T10:55:27.620Z"
   },
   {
    "duration": 17,
    "start_time": "2025-02-03T10:55:27.662Z"
   },
   {
    "duration": 3,
    "start_time": "2025-02-03T10:55:27.682Z"
   },
   {
    "duration": 28,
    "start_time": "2025-02-03T10:55:27.687Z"
   },
   {
    "duration": 6,
    "start_time": "2025-02-03T10:55:27.716Z"
   },
   {
    "duration": 12,
    "start_time": "2025-02-03T10:55:27.724Z"
   },
   {
    "duration": 25,
    "start_time": "2025-02-03T10:55:27.738Z"
   },
   {
    "duration": 4,
    "start_time": "2025-02-03T10:55:27.765Z"
   },
   {
    "duration": 20,
    "start_time": "2025-02-03T10:55:27.771Z"
   },
   {
    "duration": 21,
    "start_time": "2025-02-03T10:55:27.792Z"
   },
   {
    "duration": 12,
    "start_time": "2025-02-03T10:55:27.814Z"
   },
   {
    "duration": 11,
    "start_time": "2025-02-03T10:55:27.856Z"
   },
   {
    "duration": 4,
    "start_time": "2025-02-03T10:55:27.869Z"
   },
   {
    "duration": 12,
    "start_time": "2025-02-03T10:55:27.875Z"
   },
   {
    "duration": 6,
    "start_time": "2025-02-03T10:55:27.889Z"
   },
   {
    "duration": 18,
    "start_time": "2025-02-03T10:55:27.896Z"
   },
   {
    "duration": 47,
    "start_time": "2025-02-03T10:55:27.916Z"
   },
   {
    "duration": 24,
    "start_time": "2025-02-03T10:55:27.964Z"
   },
   {
    "duration": 27,
    "start_time": "2025-02-03T10:55:27.989Z"
   },
   {
    "duration": 18,
    "start_time": "2025-02-03T10:55:28.017Z"
   },
   {
    "duration": 4,
    "start_time": "2025-02-03T10:55:28.036Z"
   },
   {
    "duration": 726,
    "start_time": "2025-02-03T10:55:28.055Z"
   },
   {
    "duration": 10,
    "start_time": "2025-02-03T10:55:28.783Z"
   },
   {
    "duration": 16,
    "start_time": "2025-02-03T10:55:28.794Z"
   },
   {
    "duration": 314,
    "start_time": "2025-02-03T10:55:28.811Z"
   },
   {
    "duration": 166,
    "start_time": "2025-02-03T10:55:29.127Z"
   },
   {
    "duration": 129,
    "start_time": "2025-02-03T10:55:29.296Z"
   },
   {
    "duration": 3626,
    "start_time": "2025-02-03T10:55:29.426Z"
   },
   {
    "duration": 1339,
    "start_time": "2025-02-03T10:55:33.053Z"
   },
   {
    "duration": 581,
    "start_time": "2025-02-03T10:55:34.394Z"
   },
   {
    "duration": 8,
    "start_time": "2025-02-03T10:55:34.977Z"
   },
   {
    "duration": 33,
    "start_time": "2025-02-03T10:55:34.987Z"
   },
   {
    "duration": 11,
    "start_time": "2025-02-03T10:55:35.022Z"
   },
   {
    "duration": 11,
    "start_time": "2025-02-03T10:55:35.034Z"
   },
   {
    "duration": 10,
    "start_time": "2025-02-03T10:55:35.054Z"
   },
   {
    "duration": 175,
    "start_time": "2025-02-03T10:55:35.065Z"
   },
   {
    "duration": 608,
    "start_time": "2025-02-03T10:57:23.622Z"
   },
   {
    "duration": 147,
    "start_time": "2025-02-03T11:17:40.165Z"
   },
   {
    "duration": 248,
    "start_time": "2025-02-03T11:18:07.055Z"
   },
   {
    "duration": 138,
    "start_time": "2025-02-03T11:19:52.212Z"
   },
   {
    "duration": 157,
    "start_time": "2025-02-03T11:22:16.510Z"
   },
   {
    "duration": 1199,
    "start_time": "2025-02-03T11:29:26.222Z"
   },
   {
    "duration": 39,
    "start_time": "2025-02-03T11:29:27.423Z"
   },
   {
    "duration": 22,
    "start_time": "2025-02-03T11:29:27.463Z"
   },
   {
    "duration": 6,
    "start_time": "2025-02-03T11:29:27.487Z"
   },
   {
    "duration": 23,
    "start_time": "2025-02-03T11:29:27.495Z"
   },
   {
    "duration": 10,
    "start_time": "2025-02-03T11:29:27.521Z"
   },
   {
    "duration": 87,
    "start_time": "2025-02-03T11:29:27.533Z"
   },
   {
    "duration": 11,
    "start_time": "2025-02-03T11:29:27.622Z"
   },
   {
    "duration": 4,
    "start_time": "2025-02-03T11:29:27.634Z"
   },
   {
    "duration": 17,
    "start_time": "2025-02-03T11:29:27.641Z"
   },
   {
    "duration": 21,
    "start_time": "2025-02-03T11:29:27.659Z"
   },
   {
    "duration": 12,
    "start_time": "2025-02-03T11:29:27.681Z"
   },
   {
    "duration": 15,
    "start_time": "2025-02-03T11:29:27.695Z"
   },
   {
    "duration": 4,
    "start_time": "2025-02-03T11:29:27.711Z"
   },
   {
    "duration": 38,
    "start_time": "2025-02-03T11:29:27.717Z"
   },
   {
    "duration": 6,
    "start_time": "2025-02-03T11:29:27.757Z"
   },
   {
    "duration": 19,
    "start_time": "2025-02-03T11:29:27.765Z"
   },
   {
    "duration": 19,
    "start_time": "2025-02-03T11:29:27.785Z"
   },
   {
    "duration": 18,
    "start_time": "2025-02-03T11:29:27.805Z"
   },
   {
    "duration": 45,
    "start_time": "2025-02-03T11:29:27.824Z"
   },
   {
    "duration": 20,
    "start_time": "2025-02-03T11:29:27.870Z"
   },
   {
    "duration": 4,
    "start_time": "2025-02-03T11:29:27.891Z"
   },
   {
    "duration": 787,
    "start_time": "2025-02-03T11:29:27.897Z"
   },
   {
    "duration": 11,
    "start_time": "2025-02-03T11:29:28.686Z"
   },
   {
    "duration": 27,
    "start_time": "2025-02-03T11:29:28.698Z"
   },
   {
    "duration": 318,
    "start_time": "2025-02-03T11:29:28.727Z"
   },
   {
    "duration": 154,
    "start_time": "2025-02-03T11:29:29.047Z"
   },
   {
    "duration": 136,
    "start_time": "2025-02-03T11:29:29.205Z"
   },
   {
    "duration": 3911,
    "start_time": "2025-02-03T11:29:29.344Z"
   },
   {
    "duration": 1340,
    "start_time": "2025-02-03T11:29:33.256Z"
   },
   {
    "duration": 595,
    "start_time": "2025-02-03T11:29:34.598Z"
   },
   {
    "duration": 8,
    "start_time": "2025-02-03T11:29:35.195Z"
   },
   {
    "duration": 38,
    "start_time": "2025-02-03T11:29:35.205Z"
   },
   {
    "duration": 11,
    "start_time": "2025-02-03T11:29:35.245Z"
   },
   {
    "duration": 10,
    "start_time": "2025-02-03T11:29:35.258Z"
   },
   {
    "duration": 13,
    "start_time": "2025-02-03T11:29:35.270Z"
   },
   {
    "duration": 180,
    "start_time": "2025-02-03T11:29:35.284Z"
   },
   {
    "duration": 157,
    "start_time": "2025-02-03T11:30:37.068Z"
   },
   {
    "duration": 1189,
    "start_time": "2025-02-03T11:39:51.118Z"
   },
   {
    "duration": 41,
    "start_time": "2025-02-03T11:39:52.309Z"
   },
   {
    "duration": 15,
    "start_time": "2025-02-03T11:39:52.352Z"
   },
   {
    "duration": 18,
    "start_time": "2025-02-03T11:39:52.369Z"
   },
   {
    "duration": 19,
    "start_time": "2025-02-03T11:39:52.389Z"
   },
   {
    "duration": 19,
    "start_time": "2025-02-03T11:39:52.410Z"
   },
   {
    "duration": 26,
    "start_time": "2025-02-03T11:39:52.431Z"
   },
   {
    "duration": 13,
    "start_time": "2025-02-03T11:39:52.458Z"
   },
   {
    "duration": 5,
    "start_time": "2025-02-03T11:39:52.473Z"
   },
   {
    "duration": 18,
    "start_time": "2025-02-03T11:39:52.480Z"
   },
   {
    "duration": 44,
    "start_time": "2025-02-03T11:39:52.499Z"
   },
   {
    "duration": 21,
    "start_time": "2025-02-03T11:39:52.544Z"
   },
   {
    "duration": 13,
    "start_time": "2025-02-03T11:39:52.567Z"
   },
   {
    "duration": 32,
    "start_time": "2025-02-03T11:39:52.581Z"
   },
   {
    "duration": 23,
    "start_time": "2025-02-03T11:39:52.614Z"
   },
   {
    "duration": 18,
    "start_time": "2025-02-03T11:39:52.639Z"
   },
   {
    "duration": 20,
    "start_time": "2025-02-03T11:39:52.659Z"
   },
   {
    "duration": 19,
    "start_time": "2025-02-03T11:39:52.680Z"
   },
   {
    "duration": 21,
    "start_time": "2025-02-03T11:39:52.700Z"
   },
   {
    "duration": 40,
    "start_time": "2025-02-03T11:39:52.723Z"
   },
   {
    "duration": 26,
    "start_time": "2025-02-03T11:39:52.764Z"
   },
   {
    "duration": 4,
    "start_time": "2025-02-03T11:39:52.792Z"
   },
   {
    "duration": 791,
    "start_time": "2025-02-03T11:39:52.798Z"
   },
   {
    "duration": 9,
    "start_time": "2025-02-03T11:39:53.591Z"
   },
   {
    "duration": 14,
    "start_time": "2025-02-03T11:39:53.602Z"
   },
   {
    "duration": 344,
    "start_time": "2025-02-03T11:39:53.617Z"
   },
   {
    "duration": 165,
    "start_time": "2025-02-03T11:39:53.962Z"
   },
   {
    "duration": 140,
    "start_time": "2025-02-03T11:39:54.131Z"
   },
   {
    "duration": 3875,
    "start_time": "2025-02-03T11:39:54.272Z"
   },
   {
    "duration": 1286,
    "start_time": "2025-02-03T11:39:58.148Z"
   },
   {
    "duration": 587,
    "start_time": "2025-02-03T11:39:59.436Z"
   },
   {
    "duration": 7,
    "start_time": "2025-02-03T11:40:00.025Z"
   },
   {
    "duration": 86,
    "start_time": "2025-02-03T11:40:00.034Z"
   },
   {
    "duration": 49,
    "start_time": "2025-02-03T11:40:00.122Z"
   },
   {
    "duration": 45,
    "start_time": "2025-02-03T11:40:00.172Z"
   },
   {
    "duration": 112,
    "start_time": "2025-02-03T11:40:00.218Z"
   },
   {
    "duration": 218,
    "start_time": "2025-02-03T11:40:00.331Z"
   },
   {
    "duration": 1179,
    "start_time": "2025-02-03T18:19:31.467Z"
   },
   {
    "duration": 39,
    "start_time": "2025-02-03T18:19:32.648Z"
   },
   {
    "duration": 17,
    "start_time": "2025-02-03T18:19:32.689Z"
   },
   {
    "duration": 3,
    "start_time": "2025-02-03T18:19:32.708Z"
   },
   {
    "duration": 19,
    "start_time": "2025-02-03T18:19:32.713Z"
   },
   {
    "duration": 12,
    "start_time": "2025-02-03T18:19:32.733Z"
   },
   {
    "duration": 19,
    "start_time": "2025-02-03T18:19:32.747Z"
   },
   {
    "duration": 11,
    "start_time": "2025-02-03T18:19:32.775Z"
   },
   {
    "duration": 6,
    "start_time": "2025-02-03T18:19:32.787Z"
   },
   {
    "duration": 25,
    "start_time": "2025-02-03T18:19:32.795Z"
   },
   {
    "duration": 20,
    "start_time": "2025-02-03T18:19:32.822Z"
   },
   {
    "duration": 35,
    "start_time": "2025-02-03T18:19:32.844Z"
   },
   {
    "duration": 27,
    "start_time": "2025-02-03T18:19:32.881Z"
   },
   {
    "duration": 4,
    "start_time": "2025-02-03T18:19:32.909Z"
   },
   {
    "duration": 16,
    "start_time": "2025-02-03T18:19:32.914Z"
   },
   {
    "duration": 7,
    "start_time": "2025-02-03T18:19:32.932Z"
   },
   {
    "duration": 34,
    "start_time": "2025-02-03T18:19:32.940Z"
   },
   {
    "duration": 19,
    "start_time": "2025-02-03T18:19:32.976Z"
   },
   {
    "duration": 22,
    "start_time": "2025-02-03T18:19:32.996Z"
   },
   {
    "duration": 19,
    "start_time": "2025-02-03T18:19:33.020Z"
   },
   {
    "duration": 40,
    "start_time": "2025-02-03T18:19:33.041Z"
   },
   {
    "duration": 4,
    "start_time": "2025-02-03T18:19:33.083Z"
   },
   {
    "duration": 801,
    "start_time": "2025-02-03T18:19:33.089Z"
   },
   {
    "duration": 10,
    "start_time": "2025-02-03T18:19:33.892Z"
   },
   {
    "duration": 16,
    "start_time": "2025-02-03T18:19:33.904Z"
   },
   {
    "duration": 353,
    "start_time": "2025-02-03T18:19:33.922Z"
   },
   {
    "duration": 183,
    "start_time": "2025-02-03T18:19:34.277Z"
   },
   {
    "duration": 139,
    "start_time": "2025-02-03T18:19:34.463Z"
   },
   {
    "duration": 3865,
    "start_time": "2025-02-03T18:19:34.604Z"
   },
   {
    "duration": 1358,
    "start_time": "2025-02-03T18:19:38.475Z"
   },
   {
    "duration": 641,
    "start_time": "2025-02-03T18:19:39.835Z"
   },
   {
    "duration": 8,
    "start_time": "2025-02-03T18:19:40.477Z"
   },
   {
    "duration": 19,
    "start_time": "2025-02-03T18:19:40.486Z"
   },
   {
    "duration": 17,
    "start_time": "2025-02-03T18:19:40.507Z"
   },
   {
    "duration": 9,
    "start_time": "2025-02-03T18:19:40.525Z"
   },
   {
    "duration": 10,
    "start_time": "2025-02-03T18:19:40.536Z"
   },
   {
    "duration": 174,
    "start_time": "2025-02-03T18:19:40.548Z"
   },
   {
    "duration": 7,
    "start_time": "2025-02-03T18:22:06.928Z"
   },
   {
    "duration": 49,
    "start_time": "2025-02-04T05:43:45.525Z"
   },
   {
    "duration": 1419,
    "start_time": "2025-02-04T05:43:50.326Z"
   },
   {
    "duration": 52,
    "start_time": "2025-02-04T05:43:51.747Z"
   },
   {
    "duration": 17,
    "start_time": "2025-02-04T05:43:51.800Z"
   },
   {
    "duration": 39,
    "start_time": "2025-02-04T05:43:51.819Z"
   },
   {
    "duration": 17,
    "start_time": "2025-02-04T05:43:51.859Z"
   },
   {
    "duration": 7,
    "start_time": "2025-02-04T05:43:51.877Z"
   },
   {
    "duration": 25,
    "start_time": "2025-02-04T05:43:51.885Z"
   },
   {
    "duration": 17,
    "start_time": "2025-02-04T05:43:51.912Z"
   },
   {
    "duration": 50,
    "start_time": "2025-02-04T05:43:51.930Z"
   },
   {
    "duration": 68,
    "start_time": "2025-02-04T05:43:51.983Z"
   },
   {
    "duration": 21,
    "start_time": "2025-02-04T05:43:52.052Z"
   },
   {
    "duration": 12,
    "start_time": "2025-02-04T05:43:52.075Z"
   },
   {
    "duration": 27,
    "start_time": "2025-02-04T05:43:52.088Z"
   },
   {
    "duration": 78,
    "start_time": "2025-02-04T05:43:52.116Z"
   },
   {
    "duration": 19,
    "start_time": "2025-02-04T05:43:52.195Z"
   },
   {
    "duration": 35,
    "start_time": "2025-02-04T05:43:52.215Z"
   },
   {
    "duration": 25,
    "start_time": "2025-02-04T05:43:52.251Z"
   },
   {
    "duration": 20,
    "start_time": "2025-02-04T05:43:52.277Z"
   },
   {
    "duration": 37,
    "start_time": "2025-02-04T05:43:52.299Z"
   },
   {
    "duration": 21,
    "start_time": "2025-02-04T05:43:52.338Z"
   },
   {
    "duration": 31,
    "start_time": "2025-02-04T05:43:52.361Z"
   },
   {
    "duration": 11,
    "start_time": "2025-02-04T05:43:52.394Z"
   },
   {
    "duration": 888,
    "start_time": "2025-02-04T05:43:52.406Z"
   },
   {
    "duration": 10,
    "start_time": "2025-02-04T05:43:53.296Z"
   },
   {
    "duration": 44,
    "start_time": "2025-02-04T05:43:53.308Z"
   },
   {
    "duration": 333,
    "start_time": "2025-02-04T05:43:53.354Z"
   },
   {
    "duration": 178,
    "start_time": "2025-02-04T05:43:53.689Z"
   },
   {
    "duration": 125,
    "start_time": "2025-02-04T05:43:53.870Z"
   },
   {
    "duration": 4112,
    "start_time": "2025-02-04T05:43:53.997Z"
   },
   {
    "duration": 1336,
    "start_time": "2025-02-04T05:43:58.111Z"
   },
   {
    "duration": 610,
    "start_time": "2025-02-04T05:43:59.449Z"
   },
   {
    "duration": 9,
    "start_time": "2025-02-04T05:44:00.061Z"
   },
   {
    "duration": 95,
    "start_time": "2025-02-04T05:44:00.072Z"
   },
   {
    "duration": 51,
    "start_time": "2025-02-04T05:44:00.169Z"
   },
   {
    "duration": 24,
    "start_time": "2025-02-04T05:44:00.221Z"
   },
   {
    "duration": 16,
    "start_time": "2025-02-04T05:44:00.246Z"
   },
   {
    "duration": 269,
    "start_time": "2025-02-04T05:44:00.264Z"
   },
   {
    "duration": 7,
    "start_time": "2025-02-04T05:44:00.535Z"
   },
   {
    "duration": 177,
    "start_time": "2025-02-04T05:44:00.544Z"
   },
   {
    "duration": 197,
    "start_time": "2025-02-04T05:46:59.658Z"
   },
   {
    "duration": 144,
    "start_time": "2025-02-04T05:49:41.353Z"
   },
   {
    "duration": 232,
    "start_time": "2025-02-04T05:49:54.828Z"
   },
   {
    "duration": 7,
    "start_time": "2025-02-04T05:50:01.309Z"
   },
   {
    "duration": 148,
    "start_time": "2025-02-04T05:51:46.033Z"
   },
   {
    "duration": 145,
    "start_time": "2025-02-04T05:52:37.744Z"
   },
   {
    "duration": 7,
    "start_time": "2025-02-04T05:52:52.873Z"
   },
   {
    "duration": 150,
    "start_time": "2025-02-04T05:53:04.024Z"
   },
   {
    "duration": 7,
    "start_time": "2025-02-04T05:53:10.759Z"
   },
   {
    "duration": 1170,
    "start_time": "2025-02-04T05:53:16.498Z"
   },
   {
    "duration": 41,
    "start_time": "2025-02-04T05:53:17.670Z"
   },
   {
    "duration": 17,
    "start_time": "2025-02-04T05:53:17.713Z"
   },
   {
    "duration": 4,
    "start_time": "2025-02-04T05:53:17.732Z"
   },
   {
    "duration": 26,
    "start_time": "2025-02-04T05:53:17.737Z"
   },
   {
    "duration": 7,
    "start_time": "2025-02-04T05:53:17.765Z"
   },
   {
    "duration": 9,
    "start_time": "2025-02-04T05:53:17.773Z"
   },
   {
    "duration": 10,
    "start_time": "2025-02-04T05:53:17.784Z"
   },
   {
    "duration": 4,
    "start_time": "2025-02-04T05:53:17.796Z"
   },
   {
    "duration": 18,
    "start_time": "2025-02-04T05:53:17.802Z"
   },
   {
    "duration": 55,
    "start_time": "2025-02-04T05:53:17.821Z"
   },
   {
    "duration": 12,
    "start_time": "2025-02-04T05:53:17.877Z"
   },
   {
    "duration": 12,
    "start_time": "2025-02-04T05:53:17.891Z"
   },
   {
    "duration": 59,
    "start_time": "2025-02-04T05:53:17.905Z"
   },
   {
    "duration": 12,
    "start_time": "2025-02-04T05:53:17.966Z"
   },
   {
    "duration": 6,
    "start_time": "2025-02-04T05:53:17.979Z"
   },
   {
    "duration": 26,
    "start_time": "2025-02-04T05:53:17.987Z"
   },
   {
    "duration": 20,
    "start_time": "2025-02-04T05:53:18.015Z"
   },
   {
    "duration": 17,
    "start_time": "2025-02-04T05:53:18.055Z"
   },
   {
    "duration": 20,
    "start_time": "2025-02-04T05:53:18.074Z"
   },
   {
    "duration": 23,
    "start_time": "2025-02-04T05:53:18.095Z"
   },
   {
    "duration": 5,
    "start_time": "2025-02-04T05:53:18.120Z"
   },
   {
    "duration": 799,
    "start_time": "2025-02-04T05:53:18.126Z"
   },
   {
    "duration": 10,
    "start_time": "2025-02-04T05:53:18.927Z"
   },
   {
    "duration": 27,
    "start_time": "2025-02-04T05:53:18.939Z"
   },
   {
    "duration": 322,
    "start_time": "2025-02-04T05:53:18.968Z"
   },
   {
    "duration": 164,
    "start_time": "2025-02-04T05:53:19.291Z"
   },
   {
    "duration": 112,
    "start_time": "2025-02-04T05:53:19.458Z"
   },
   {
    "duration": 3962,
    "start_time": "2025-02-04T05:53:19.572Z"
   },
   {
    "duration": 1368,
    "start_time": "2025-02-04T05:53:23.536Z"
   },
   {
    "duration": 634,
    "start_time": "2025-02-04T05:53:24.906Z"
   },
   {
    "duration": 19,
    "start_time": "2025-02-04T05:53:25.541Z"
   },
   {
    "duration": 7,
    "start_time": "2025-02-04T05:53:25.562Z"
   },
   {
    "duration": 8,
    "start_time": "2025-02-04T05:53:25.571Z"
   },
   {
    "duration": 9,
    "start_time": "2025-02-04T05:53:25.581Z"
   },
   {
    "duration": 11,
    "start_time": "2025-02-04T05:53:25.592Z"
   },
   {
    "duration": 181,
    "start_time": "2025-02-04T05:53:25.604Z"
   },
   {
    "duration": 6,
    "start_time": "2025-02-04T05:53:25.787Z"
   },
   {
    "duration": 1197,
    "start_time": "2025-02-04T05:59:07.676Z"
   },
   {
    "duration": 51,
    "start_time": "2025-02-04T05:59:08.875Z"
   },
   {
    "duration": 35,
    "start_time": "2025-02-04T05:59:08.927Z"
   },
   {
    "duration": 5,
    "start_time": "2025-02-04T05:59:08.964Z"
   },
   {
    "duration": 14,
    "start_time": "2025-02-04T05:59:08.971Z"
   },
   {
    "duration": 7,
    "start_time": "2025-02-04T05:59:08.987Z"
   },
   {
    "duration": 25,
    "start_time": "2025-02-04T05:59:08.996Z"
   },
   {
    "duration": 13,
    "start_time": "2025-02-04T05:59:09.022Z"
   },
   {
    "duration": 19,
    "start_time": "2025-02-04T05:59:09.037Z"
   },
   {
    "duration": 21,
    "start_time": "2025-02-04T05:59:09.060Z"
   },
   {
    "duration": 22,
    "start_time": "2025-02-04T05:59:09.083Z"
   },
   {
    "duration": 12,
    "start_time": "2025-02-04T05:59:09.107Z"
   },
   {
    "duration": 45,
    "start_time": "2025-02-04T05:59:09.121Z"
   },
   {
    "duration": 13,
    "start_time": "2025-02-04T05:59:09.168Z"
   },
   {
    "duration": 15,
    "start_time": "2025-02-04T05:59:09.182Z"
   },
   {
    "duration": 8,
    "start_time": "2025-02-04T05:59:09.198Z"
   },
   {
    "duration": 20,
    "start_time": "2025-02-04T05:59:09.207Z"
   },
   {
    "duration": 45,
    "start_time": "2025-02-04T05:59:09.229Z"
   },
   {
    "duration": 38,
    "start_time": "2025-02-04T05:59:09.276Z"
   },
   {
    "duration": 26,
    "start_time": "2025-02-04T05:59:09.316Z"
   },
   {
    "duration": 24,
    "start_time": "2025-02-04T05:59:09.344Z"
   },
   {
    "duration": 5,
    "start_time": "2025-02-04T05:59:09.370Z"
   },
   {
    "duration": 831,
    "start_time": "2025-02-04T05:59:09.377Z"
   },
   {
    "duration": 12,
    "start_time": "2025-02-04T05:59:10.210Z"
   },
   {
    "duration": 42,
    "start_time": "2025-02-04T05:59:10.224Z"
   },
   {
    "duration": 346,
    "start_time": "2025-02-04T05:59:10.268Z"
   },
   {
    "duration": 180,
    "start_time": "2025-02-04T05:59:10.616Z"
   },
   {
    "duration": 130,
    "start_time": "2025-02-04T05:59:10.799Z"
   },
   {
    "duration": 3950,
    "start_time": "2025-02-04T05:59:10.931Z"
   },
   {
    "duration": 1325,
    "start_time": "2025-02-04T05:59:14.883Z"
   },
   {
    "duration": 640,
    "start_time": "2025-02-04T05:59:16.209Z"
   },
   {
    "duration": 11,
    "start_time": "2025-02-04T05:59:16.851Z"
   },
   {
    "duration": 24,
    "start_time": "2025-02-04T05:59:16.863Z"
   },
   {
    "duration": 7,
    "start_time": "2025-02-04T05:59:16.889Z"
   },
   {
    "duration": 12,
    "start_time": "2025-02-04T05:59:16.898Z"
   },
   {
    "duration": 19,
    "start_time": "2025-02-04T05:59:16.912Z"
   },
   {
    "duration": 165,
    "start_time": "2025-02-04T05:59:16.934Z"
   },
   {
    "duration": 8,
    "start_time": "2025-02-04T05:59:17.101Z"
   },
   {
    "duration": 1336,
    "start_time": "2025-02-04T06:03:54.355Z"
   },
   {
    "duration": 54,
    "start_time": "2025-02-04T06:03:55.693Z"
   },
   {
    "duration": 19,
    "start_time": "2025-02-04T06:03:55.748Z"
   },
   {
    "duration": 6,
    "start_time": "2025-02-04T06:03:55.769Z"
   },
   {
    "duration": 29,
    "start_time": "2025-02-04T06:03:55.777Z"
   },
   {
    "duration": 9,
    "start_time": "2025-02-04T06:03:55.807Z"
   },
   {
    "duration": 12,
    "start_time": "2025-02-04T06:03:55.818Z"
   },
   {
    "duration": 11,
    "start_time": "2025-02-04T06:03:55.832Z"
   },
   {
    "duration": 14,
    "start_time": "2025-02-04T06:03:55.845Z"
   },
   {
    "duration": 37,
    "start_time": "2025-02-04T06:03:55.861Z"
   },
   {
    "duration": 24,
    "start_time": "2025-02-04T06:03:55.901Z"
   },
   {
    "duration": 28,
    "start_time": "2025-02-04T06:03:55.928Z"
   },
   {
    "duration": 14,
    "start_time": "2025-02-04T06:03:55.958Z"
   },
   {
    "duration": 31,
    "start_time": "2025-02-04T06:03:55.976Z"
   },
   {
    "duration": 14,
    "start_time": "2025-02-04T06:03:56.009Z"
   },
   {
    "duration": 30,
    "start_time": "2025-02-04T06:03:56.025Z"
   },
   {
    "duration": 43,
    "start_time": "2025-02-04T06:03:56.057Z"
   },
   {
    "duration": 26,
    "start_time": "2025-02-04T06:03:56.101Z"
   },
   {
    "duration": 26,
    "start_time": "2025-02-04T06:03:56.130Z"
   },
   {
    "duration": 22,
    "start_time": "2025-02-04T06:03:56.159Z"
   },
   {
    "duration": 42,
    "start_time": "2025-02-04T06:03:56.183Z"
   },
   {
    "duration": 5,
    "start_time": "2025-02-04T06:03:56.226Z"
   },
   {
    "duration": 860,
    "start_time": "2025-02-04T06:03:56.233Z"
   },
   {
    "duration": 11,
    "start_time": "2025-02-04T06:03:57.095Z"
   },
   {
    "duration": 43,
    "start_time": "2025-02-04T06:03:57.108Z"
   },
   {
    "duration": 364,
    "start_time": "2025-02-04T06:03:57.153Z"
   },
   {
    "duration": 186,
    "start_time": "2025-02-04T06:03:57.519Z"
   },
   {
    "duration": 139,
    "start_time": "2025-02-04T06:03:57.707Z"
   },
   {
    "duration": 4320,
    "start_time": "2025-02-04T06:03:57.855Z"
   },
   {
    "duration": 1458,
    "start_time": "2025-02-04T06:04:02.177Z"
   },
   {
    "duration": 649,
    "start_time": "2025-02-04T06:04:03.638Z"
   },
   {
    "duration": 8,
    "start_time": "2025-02-04T06:04:04.289Z"
   },
   {
    "duration": 35,
    "start_time": "2025-02-04T06:04:04.299Z"
   },
   {
    "duration": 42,
    "start_time": "2025-02-04T06:04:04.336Z"
   },
   {
    "duration": 39,
    "start_time": "2025-02-04T06:04:04.380Z"
   },
   {
    "duration": 13,
    "start_time": "2025-02-04T06:04:04.421Z"
   },
   {
    "duration": 162,
    "start_time": "2025-02-04T06:04:04.436Z"
   },
   {
    "duration": 8,
    "start_time": "2025-02-04T06:04:04.601Z"
   },
   {
    "duration": 1291,
    "start_time": "2025-02-04T17:15:19.357Z"
   },
   {
    "duration": 53,
    "start_time": "2025-02-04T17:15:20.651Z"
   },
   {
    "duration": 15,
    "start_time": "2025-02-04T17:15:20.706Z"
   },
   {
    "duration": 8,
    "start_time": "2025-02-04T17:15:20.723Z"
   },
   {
    "duration": 25,
    "start_time": "2025-02-04T17:15:20.733Z"
   },
   {
    "duration": 7,
    "start_time": "2025-02-04T17:15:20.760Z"
   },
   {
    "duration": 11,
    "start_time": "2025-02-04T17:15:20.768Z"
   },
   {
    "duration": 11,
    "start_time": "2025-02-04T17:15:20.781Z"
   },
   {
    "duration": 15,
    "start_time": "2025-02-04T17:15:20.794Z"
   },
   {
    "duration": 16,
    "start_time": "2025-02-04T17:15:20.812Z"
   },
   {
    "duration": 20,
    "start_time": "2025-02-04T17:15:20.830Z"
   },
   {
    "duration": 11,
    "start_time": "2025-02-04T17:15:20.851Z"
   },
   {
    "duration": 22,
    "start_time": "2025-02-04T17:15:20.863Z"
   },
   {
    "duration": 32,
    "start_time": "2025-02-04T17:15:20.908Z"
   },
   {
    "duration": 108,
    "start_time": "2025-02-04T17:15:20.941Z"
   },
   {
    "duration": 73,
    "start_time": "2025-02-04T17:15:21.051Z"
   },
   {
    "duration": 122,
    "start_time": "2025-02-04T17:15:21.125Z"
   },
   {
    "duration": 19,
    "start_time": "2025-02-04T17:15:21.248Z"
   },
   {
    "duration": 23,
    "start_time": "2025-02-04T17:15:21.268Z"
   },
   {
    "duration": 37,
    "start_time": "2025-02-04T17:15:21.293Z"
   },
   {
    "duration": 19,
    "start_time": "2025-02-04T17:15:21.331Z"
   },
   {
    "duration": 5,
    "start_time": "2025-02-04T17:15:21.351Z"
   },
   {
    "duration": 834,
    "start_time": "2025-02-04T17:15:21.357Z"
   },
   {
    "duration": 17,
    "start_time": "2025-02-04T17:15:22.192Z"
   },
   {
    "duration": 14,
    "start_time": "2025-02-04T17:15:22.211Z"
   },
   {
    "duration": 333,
    "start_time": "2025-02-04T17:15:22.227Z"
   },
   {
    "duration": 162,
    "start_time": "2025-02-04T17:15:22.561Z"
   },
   {
    "duration": 115,
    "start_time": "2025-02-04T17:15:22.726Z"
   },
   {
    "duration": 3813,
    "start_time": "2025-02-04T17:15:22.842Z"
   },
   {
    "duration": 1305,
    "start_time": "2025-02-04T17:15:26.656Z"
   },
   {
    "duration": 634,
    "start_time": "2025-02-04T17:15:27.963Z"
   },
   {
    "duration": 12,
    "start_time": "2025-02-04T17:15:28.598Z"
   },
   {
    "duration": 9,
    "start_time": "2025-02-04T17:15:28.611Z"
   },
   {
    "duration": 9,
    "start_time": "2025-02-04T17:15:28.621Z"
   },
   {
    "duration": 10,
    "start_time": "2025-02-04T17:15:28.631Z"
   },
   {
    "duration": 11,
    "start_time": "2025-02-04T17:15:28.642Z"
   },
   {
    "duration": 203,
    "start_time": "2025-02-04T17:15:28.654Z"
   },
   {
    "duration": 9,
    "start_time": "2025-02-04T17:15:28.859Z"
   },
   {
    "duration": 1404,
    "start_time": "2025-02-05T06:51:36.061Z"
   },
   {
    "duration": 79,
    "start_time": "2025-02-05T06:51:37.467Z"
   },
   {
    "duration": 16,
    "start_time": "2025-02-05T06:51:37.548Z"
   },
   {
    "duration": 14,
    "start_time": "2025-02-05T06:51:37.565Z"
   },
   {
    "duration": 21,
    "start_time": "2025-02-05T06:51:37.581Z"
   },
   {
    "duration": 24,
    "start_time": "2025-02-05T06:51:37.604Z"
   },
   {
    "duration": 38,
    "start_time": "2025-02-05T06:51:37.630Z"
   },
   {
    "duration": 38,
    "start_time": "2025-02-05T06:51:37.670Z"
   },
   {
    "duration": 37,
    "start_time": "2025-02-05T06:51:37.710Z"
   },
   {
    "duration": 51,
    "start_time": "2025-02-05T06:51:37.749Z"
   },
   {
    "duration": 31,
    "start_time": "2025-02-05T06:51:37.801Z"
   },
   {
    "duration": 22,
    "start_time": "2025-02-05T06:51:37.833Z"
   },
   {
    "duration": 53,
    "start_time": "2025-02-05T06:51:37.856Z"
   },
   {
    "duration": 31,
    "start_time": "2025-02-05T06:51:37.911Z"
   },
   {
    "duration": 32,
    "start_time": "2025-02-05T06:51:37.944Z"
   },
   {
    "duration": 30,
    "start_time": "2025-02-05T06:51:37.978Z"
   },
   {
    "duration": 47,
    "start_time": "2025-02-05T06:51:38.009Z"
   },
   {
    "duration": 20,
    "start_time": "2025-02-05T06:51:38.057Z"
   },
   {
    "duration": 42,
    "start_time": "2025-02-05T06:51:38.079Z"
   },
   {
    "duration": 31,
    "start_time": "2025-02-05T06:51:38.122Z"
   },
   {
    "duration": 24,
    "start_time": "2025-02-05T06:51:38.154Z"
   },
   {
    "duration": 22,
    "start_time": "2025-02-05T06:51:38.179Z"
   },
   {
    "duration": 861,
    "start_time": "2025-02-05T06:51:38.202Z"
   },
   {
    "duration": 10,
    "start_time": "2025-02-05T06:51:39.065Z"
   },
   {
    "duration": 28,
    "start_time": "2025-02-05T06:51:39.077Z"
   },
   {
    "duration": 330,
    "start_time": "2025-02-05T06:51:39.107Z"
   },
   {
    "duration": 165,
    "start_time": "2025-02-05T06:51:39.438Z"
   },
   {
    "duration": 123,
    "start_time": "2025-02-05T06:51:39.606Z"
   },
   {
    "duration": 4110,
    "start_time": "2025-02-05T06:51:39.730Z"
   },
   {
    "duration": 1427,
    "start_time": "2025-02-05T06:51:43.841Z"
   },
   {
    "duration": 616,
    "start_time": "2025-02-05T06:51:45.269Z"
   },
   {
    "duration": 8,
    "start_time": "2025-02-05T06:51:45.886Z"
   },
   {
    "duration": 23,
    "start_time": "2025-02-05T06:51:45.896Z"
   },
   {
    "duration": 8,
    "start_time": "2025-02-05T06:51:45.921Z"
   },
   {
    "duration": 10,
    "start_time": "2025-02-05T06:51:45.931Z"
   },
   {
    "duration": 27,
    "start_time": "2025-02-05T06:51:45.943Z"
   },
   {
    "duration": 163,
    "start_time": "2025-02-05T06:51:45.971Z"
   },
   {
    "duration": 8,
    "start_time": "2025-02-05T06:51:46.136Z"
   }
  ],
  "kernelspec": {
   "display_name": "Python 3 (ipykernel)",
   "language": "python",
   "name": "python3"
  },
  "language_info": {
   "codemirror_mode": {
    "name": "ipython",
    "version": 3
   },
   "file_extension": ".py",
   "mimetype": "text/x-python",
   "name": "python",
   "nbconvert_exporter": "python",
   "pygments_lexer": "ipython3",
   "version": "3.9.5"
  },
  "toc": {
   "base_numbering": 1,
   "nav_menu": {},
   "number_sections": true,
   "sideBar": true,
   "skip_h1_title": true,
   "title_cell": "Table of Contents",
   "title_sidebar": "Contents",
   "toc_cell": false,
   "toc_position": {
    "height": "calc(100% - 180px)",
    "left": "10px",
    "top": "150px",
    "width": "351.458px"
   },
   "toc_section_display": true,
   "toc_window_display": true
  }
 },
 "nbformat": 4,
 "nbformat_minor": 2
}
